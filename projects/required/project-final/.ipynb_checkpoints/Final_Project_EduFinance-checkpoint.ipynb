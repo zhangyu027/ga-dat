{
 "cells": [
  {
   "cell_type": "code",
   "execution_count": 1,
   "metadata": {},
   "outputs": [],
   "source": [
    "##EDA for state and district data\n",
    "##combine the standardized score \n",
    "##combine the state adn district finance data\n",
    "##handling missing values\n",
    "##rename the variables and regrouping"
   ]
  },
  {
   "cell_type": "code",
   "execution_count": 126,
   "metadata": {},
   "outputs": [],
   "source": [
    "import pandas as pd\n",
    "import numpy as np\n",
    "import seaborn as sns\n",
    "import matplotlib.pyplot as plt\n",
    "%matplotlib inline\n",
    "\n",
    "plt.rcParams['figure.figsize'] = (8, 6)\n",
    "plt.rcParams['font.size'] = 14\n",
    "plt.style.use(\"fivethirtyeight\")\n",
    "\n",
    "\n",
    "from sklearn.linear_model import LinearRegression"
   ]
  },
  {
   "cell_type": "code",
   "execution_count": 2,
   "metadata": {},
   "outputs": [],
   "source": [
    "districts = pd.read_csv(\"./data/districts.csv\", sep=',')\n",
    "states = pd.read_csv(\"./data/states.csv\", sep=',')\n",
    "naep = pd.read_csv(\"./data/naep.csv\", sep=',')"
   ]
  },
  {
   "cell_type": "code",
   "execution_count": 3,
   "metadata": {},
   "outputs": [
    {
     "data": {
      "text/html": [
       "<div>\n",
       "<style scoped>\n",
       "    .dataframe tbody tr th:only-of-type {\n",
       "        vertical-align: middle;\n",
       "    }\n",
       "\n",
       "    .dataframe tbody tr th {\n",
       "        vertical-align: top;\n",
       "    }\n",
       "\n",
       "    .dataframe thead th {\n",
       "        text-align: right;\n",
       "    }\n",
       "</style>\n",
       "<table border=\"1\" class=\"dataframe\">\n",
       "  <thead>\n",
       "    <tr style=\"text-align: right;\">\n",
       "      <th></th>\n",
       "      <th>STATE</th>\n",
       "      <th>ENROLL</th>\n",
       "      <th>NAME</th>\n",
       "      <th>YRDATA</th>\n",
       "      <th>TOTALREV</th>\n",
       "      <th>TFEDREV</th>\n",
       "      <th>TSTREV</th>\n",
       "      <th>TLOCREV</th>\n",
       "      <th>TOTALEXP</th>\n",
       "      <th>TCURINST</th>\n",
       "      <th>TCURSSVC</th>\n",
       "      <th>TCURONON</th>\n",
       "      <th>TCAPOUT</th>\n",
       "    </tr>\n",
       "  </thead>\n",
       "  <tbody>\n",
       "    <tr>\n",
       "      <th>0</th>\n",
       "      <td>Alabama</td>\n",
       "      <td>9609.0</td>\n",
       "      <td>AUTAUGA COUNTY SCHOOL DISTRICT</td>\n",
       "      <td>2016</td>\n",
       "      <td>80867</td>\n",
       "      <td>7447</td>\n",
       "      <td>53842</td>\n",
       "      <td>19578</td>\n",
       "      <td>76672</td>\n",
       "      <td>43843</td>\n",
       "      <td>23941</td>\n",
       "      <td>6401.0</td>\n",
       "      <td>1506</td>\n",
       "    </tr>\n",
       "    <tr>\n",
       "      <th>1</th>\n",
       "      <td>Alabama</td>\n",
       "      <td>30931.0</td>\n",
       "      <td>BALDWIN COUNTY SCHOOL DISTRICT</td>\n",
       "      <td>2016</td>\n",
       "      <td>338236</td>\n",
       "      <td>23710</td>\n",
       "      <td>145180</td>\n",
       "      <td>169346</td>\n",
       "      <td>299880</td>\n",
       "      <td>164977</td>\n",
       "      <td>97231</td>\n",
       "      <td>19439.0</td>\n",
       "      <td>9749</td>\n",
       "    </tr>\n",
       "    <tr>\n",
       "      <th>2</th>\n",
       "      <td>Alabama</td>\n",
       "      <td>912.0</td>\n",
       "      <td>BARBOUR COUNTY SCHOOL DISTRICT</td>\n",
       "      <td>2016</td>\n",
       "      <td>10116</td>\n",
       "      <td>2342</td>\n",
       "      <td>5434</td>\n",
       "      <td>2340</td>\n",
       "      <td>10070</td>\n",
       "      <td>4907</td>\n",
       "      <td>3896</td>\n",
       "      <td>975.0</td>\n",
       "      <td>110</td>\n",
       "    </tr>\n",
       "    <tr>\n",
       "      <th>3</th>\n",
       "      <td>Alabama</td>\n",
       "      <td>2842.0</td>\n",
       "      <td>EUFAULA CITY SCHOOL DISTRICT</td>\n",
       "      <td>2016</td>\n",
       "      <td>26182</td>\n",
       "      <td>3558</td>\n",
       "      <td>15900</td>\n",
       "      <td>6724</td>\n",
       "      <td>29843</td>\n",
       "      <td>15302</td>\n",
       "      <td>7901</td>\n",
       "      <td>2274.0</td>\n",
       "      <td>4133</td>\n",
       "    </tr>\n",
       "    <tr>\n",
       "      <th>4</th>\n",
       "      <td>Alabama</td>\n",
       "      <td>3322.0</td>\n",
       "      <td>BIBB COUNTY SCHOOL DISTRICT</td>\n",
       "      <td>2016</td>\n",
       "      <td>32486</td>\n",
       "      <td>3664</td>\n",
       "      <td>21846</td>\n",
       "      <td>6976</td>\n",
       "      <td>31662</td>\n",
       "      <td>16407</td>\n",
       "      <td>11087</td>\n",
       "      <td>3122.0</td>\n",
       "      <td>486</td>\n",
       "    </tr>\n",
       "  </tbody>\n",
       "</table>\n",
       "</div>"
      ],
      "text/plain": [
       "     STATE   ENROLL                            NAME  YRDATA  TOTALREV  \\\n",
       "0  Alabama   9609.0  AUTAUGA COUNTY SCHOOL DISTRICT    2016     80867   \n",
       "1  Alabama  30931.0  BALDWIN COUNTY SCHOOL DISTRICT    2016    338236   \n",
       "2  Alabama    912.0  BARBOUR COUNTY SCHOOL DISTRICT    2016     10116   \n",
       "3  Alabama   2842.0    EUFAULA CITY SCHOOL DISTRICT    2016     26182   \n",
       "4  Alabama   3322.0     BIBB COUNTY SCHOOL DISTRICT    2016     32486   \n",
       "\n",
       "   TFEDREV  TSTREV  TLOCREV  TOTALEXP  TCURINST  TCURSSVC  TCURONON  TCAPOUT  \n",
       "0     7447   53842    19578     76672     43843     23941    6401.0     1506  \n",
       "1    23710  145180   169346    299880    164977     97231   19439.0     9749  \n",
       "2     2342    5434     2340     10070      4907      3896     975.0      110  \n",
       "3     3558   15900     6724     29843     15302      7901    2274.0     4133  \n",
       "4     3664   21846     6976     31662     16407     11087    3122.0      486  "
      ]
     },
     "execution_count": 3,
     "metadata": {},
     "output_type": "execute_result"
    }
   ],
   "source": [
    "districts.head()"
   ]
  },
  {
   "cell_type": "code",
   "execution_count": 4,
   "metadata": {},
   "outputs": [],
   "source": [
    "# \n",
    "districts.columns = districts.columns.str.strip()"
   ]
  },
  {
   "cell_type": "code",
   "execution_count": 5,
   "metadata": {},
   "outputs": [
    {
     "data": {
      "text/plain": [
       "Index(['STATE', 'ENROLL', 'NAME', 'YRDATA', 'TOTALREV', 'TFEDREV', 'TSTREV',\n",
       "       'TLOCREV', 'TOTALEXP', 'TCURINST', 'TCURSSVC', 'TCURONON', 'TCAPOUT'],\n",
       "      dtype='object')"
      ]
     },
     "execution_count": 5,
     "metadata": {},
     "output_type": "execute_result"
    }
   ],
   "source": [
    "# \n",
    "districts.columns"
   ]
  },
  {
   "cell_type": "code",
   "execution_count": 6,
   "metadata": {},
   "outputs": [],
   "source": [
    "districts.rename(columns={'STATE':'state', 'ENROLL':'enroll', 'NAME': 'name', 'YRDATA':'year', 'TOTALREV':'total_revenue',\n",
    "                         'TFEDREV':'federal_revenue', 'TSTREV':'state_revenue', 'TLOCREV': 'local_revenue', 'TOTALEXP':'expenditure', 'TCURINST':'current_spending_instruction',\n",
    "                         'TCURSSVC':'current_spending', 'TCURONON':'other_spending', 'TCAPOUT':'Total Capital'}, inplace=True)"
   ]
  },
  {
   "cell_type": "code",
   "execution_count": 7,
   "metadata": {},
   "outputs": [
    {
     "data": {
      "text/html": [
       "<div>\n",
       "<style scoped>\n",
       "    .dataframe tbody tr th:only-of-type {\n",
       "        vertical-align: middle;\n",
       "    }\n",
       "\n",
       "    .dataframe tbody tr th {\n",
       "        vertical-align: top;\n",
       "    }\n",
       "\n",
       "    .dataframe thead th {\n",
       "        text-align: right;\n",
       "    }\n",
       "</style>\n",
       "<table border=\"1\" class=\"dataframe\">\n",
       "  <thead>\n",
       "    <tr style=\"text-align: right;\">\n",
       "      <th></th>\n",
       "      <th>state</th>\n",
       "      <th>enroll</th>\n",
       "      <th>name</th>\n",
       "      <th>year</th>\n",
       "      <th>total_revenue</th>\n",
       "      <th>federal_revenue</th>\n",
       "      <th>state_revenue</th>\n",
       "      <th>local_revenue</th>\n",
       "      <th>expenditure</th>\n",
       "      <th>current_spending_instruction</th>\n",
       "      <th>current_spending</th>\n",
       "      <th>other_spending</th>\n",
       "      <th>Total Capital</th>\n",
       "    </tr>\n",
       "  </thead>\n",
       "  <tbody>\n",
       "    <tr>\n",
       "      <th>0</th>\n",
       "      <td>Alabama</td>\n",
       "      <td>9609.0</td>\n",
       "      <td>AUTAUGA COUNTY SCHOOL DISTRICT</td>\n",
       "      <td>2016</td>\n",
       "      <td>80867</td>\n",
       "      <td>7447</td>\n",
       "      <td>53842</td>\n",
       "      <td>19578</td>\n",
       "      <td>76672</td>\n",
       "      <td>43843</td>\n",
       "      <td>23941</td>\n",
       "      <td>6401.0</td>\n",
       "      <td>1506</td>\n",
       "    </tr>\n",
       "    <tr>\n",
       "      <th>1</th>\n",
       "      <td>Alabama</td>\n",
       "      <td>30931.0</td>\n",
       "      <td>BALDWIN COUNTY SCHOOL DISTRICT</td>\n",
       "      <td>2016</td>\n",
       "      <td>338236</td>\n",
       "      <td>23710</td>\n",
       "      <td>145180</td>\n",
       "      <td>169346</td>\n",
       "      <td>299880</td>\n",
       "      <td>164977</td>\n",
       "      <td>97231</td>\n",
       "      <td>19439.0</td>\n",
       "      <td>9749</td>\n",
       "    </tr>\n",
       "    <tr>\n",
       "      <th>2</th>\n",
       "      <td>Alabama</td>\n",
       "      <td>912.0</td>\n",
       "      <td>BARBOUR COUNTY SCHOOL DISTRICT</td>\n",
       "      <td>2016</td>\n",
       "      <td>10116</td>\n",
       "      <td>2342</td>\n",
       "      <td>5434</td>\n",
       "      <td>2340</td>\n",
       "      <td>10070</td>\n",
       "      <td>4907</td>\n",
       "      <td>3896</td>\n",
       "      <td>975.0</td>\n",
       "      <td>110</td>\n",
       "    </tr>\n",
       "    <tr>\n",
       "      <th>3</th>\n",
       "      <td>Alabama</td>\n",
       "      <td>2842.0</td>\n",
       "      <td>EUFAULA CITY SCHOOL DISTRICT</td>\n",
       "      <td>2016</td>\n",
       "      <td>26182</td>\n",
       "      <td>3558</td>\n",
       "      <td>15900</td>\n",
       "      <td>6724</td>\n",
       "      <td>29843</td>\n",
       "      <td>15302</td>\n",
       "      <td>7901</td>\n",
       "      <td>2274.0</td>\n",
       "      <td>4133</td>\n",
       "    </tr>\n",
       "    <tr>\n",
       "      <th>4</th>\n",
       "      <td>Alabama</td>\n",
       "      <td>3322.0</td>\n",
       "      <td>BIBB COUNTY SCHOOL DISTRICT</td>\n",
       "      <td>2016</td>\n",
       "      <td>32486</td>\n",
       "      <td>3664</td>\n",
       "      <td>21846</td>\n",
       "      <td>6976</td>\n",
       "      <td>31662</td>\n",
       "      <td>16407</td>\n",
       "      <td>11087</td>\n",
       "      <td>3122.0</td>\n",
       "      <td>486</td>\n",
       "    </tr>\n",
       "  </tbody>\n",
       "</table>\n",
       "</div>"
      ],
      "text/plain": [
       "     state   enroll                            name  year  total_revenue  \\\n",
       "0  Alabama   9609.0  AUTAUGA COUNTY SCHOOL DISTRICT  2016          80867   \n",
       "1  Alabama  30931.0  BALDWIN COUNTY SCHOOL DISTRICT  2016         338236   \n",
       "2  Alabama    912.0  BARBOUR COUNTY SCHOOL DISTRICT  2016          10116   \n",
       "3  Alabama   2842.0    EUFAULA CITY SCHOOL DISTRICT  2016          26182   \n",
       "4  Alabama   3322.0     BIBB COUNTY SCHOOL DISTRICT  2016          32486   \n",
       "\n",
       "   federal_revenue  state_revenue  local_revenue  expenditure  \\\n",
       "0             7447          53842          19578        76672   \n",
       "1            23710         145180         169346       299880   \n",
       "2             2342           5434           2340        10070   \n",
       "3             3558          15900           6724        29843   \n",
       "4             3664          21846           6976        31662   \n",
       "\n",
       "   current_spending_instruction  current_spending  other_spending  \\\n",
       "0                         43843             23941          6401.0   \n",
       "1                        164977             97231         19439.0   \n",
       "2                          4907              3896           975.0   \n",
       "3                         15302              7901          2274.0   \n",
       "4                         16407             11087          3122.0   \n",
       "\n",
       "   Total Capital  \n",
       "0           1506  \n",
       "1           9749  \n",
       "2            110  \n",
       "3           4133  \n",
       "4            486  "
      ]
     },
     "execution_count": 7,
     "metadata": {},
     "output_type": "execute_result"
    }
   ],
   "source": [
    "districts.head()"
   ]
  },
  {
   "cell_type": "code",
   "execution_count": 8,
   "metadata": {},
   "outputs": [
    {
     "data": {
      "text/plain": [
       "(374161, 13)"
      ]
     },
     "execution_count": 8,
     "metadata": {},
     "output_type": "execute_result"
    }
   ],
   "source": [
    "districts.shape"
   ]
  },
  {
   "cell_type": "code",
   "execution_count": 9,
   "metadata": {},
   "outputs": [
    {
     "data": {
      "text/plain": [
       "state                            object\n",
       "enroll                          float64\n",
       "name                             object\n",
       "year                              int64\n",
       "total_revenue                     int64\n",
       "federal_revenue                   int64\n",
       "state_revenue                     int64\n",
       "local_revenue                     int64\n",
       "expenditure                       int64\n",
       "current_spending_instruction      int64\n",
       "current_spending                  int64\n",
       "other_spending                  float64\n",
       "Total Capital                     int64\n",
       "dtype: object"
      ]
     },
     "execution_count": 9,
     "metadata": {},
     "output_type": "execute_result"
    }
   ],
   "source": [
    "districts.dtypes"
   ]
  },
  {
   "cell_type": "code",
   "execution_count": 10,
   "metadata": {},
   "outputs": [
    {
     "name": "stdout",
     "output_type": "stream",
     "text": [
      "<class 'pandas.core.frame.DataFrame'>\n",
      "RangeIndex: 374161 entries, 0 to 374160\n",
      "Data columns (total 13 columns):\n",
      " #   Column                        Non-Null Count   Dtype  \n",
      "---  ------                        --------------   -----  \n",
      " 0   state                         374161 non-null  object \n",
      " 1   enroll                        358293 non-null  float64\n",
      " 2   name                          374161 non-null  object \n",
      " 3   year                          374161 non-null  int64  \n",
      " 4   total_revenue                 374161 non-null  int64  \n",
      " 5   federal_revenue               374161 non-null  int64  \n",
      " 6   state_revenue                 374161 non-null  int64  \n",
      " 7   local_revenue                 374161 non-null  int64  \n",
      " 8   expenditure                   374161 non-null  int64  \n",
      " 9   current_spending_instruction  374161 non-null  int64  \n",
      " 10  current_spending              374161 non-null  int64  \n",
      " 11  other_spending                358293 non-null  float64\n",
      " 12  Total Capital                 374161 non-null  int64  \n",
      "dtypes: float64(2), int64(9), object(2)\n",
      "memory usage: 37.1+ MB\n"
     ]
    }
   ],
   "source": [
    "districts.info()"
   ]
  },
  {
   "cell_type": "code",
   "execution_count": 11,
   "metadata": {},
   "outputs": [
    {
     "data": {
      "text/plain": [
       "state\n",
       "Alabama     5655.158029\n",
       "Alaska      2451.300705\n",
       "Arizona     3727.790016\n",
       "Arkansas    1640.297338\n",
       "Name: enroll, dtype: float64"
      ]
     },
     "execution_count": 11,
     "metadata": {},
     "output_type": "execute_result"
    }
   ],
   "source": [
    "districts.groupby('state').enroll.mean().head(4)"
   ]
  },
  {
   "cell_type": "code",
   "execution_count": 12,
   "metadata": {},
   "outputs": [
    {
     "data": {
      "text/plain": [
       "state\n",
       "Alabama     5655.158029\n",
       "Alaska      2451.300705\n",
       "Arizona     3727.790016\n",
       "Arkansas    1640.297338\n",
       "Name: enroll, dtype: float64"
      ]
     },
     "execution_count": 12,
     "metadata": {},
     "output_type": "execute_result"
    }
   ],
   "source": [
    "districts.groupby('state').enroll.mean().head(4)"
   ]
  },
  {
   "cell_type": "code",
   "execution_count": 13,
   "metadata": {},
   "outputs": [
    {
     "data": {
      "text/plain": [
       "(374161, 13)"
      ]
     },
     "execution_count": 13,
     "metadata": {},
     "output_type": "execute_result"
    }
   ],
   "source": [
    "districts.shape"
   ]
  },
  {
   "cell_type": "code",
   "execution_count": 14,
   "metadata": {},
   "outputs": [],
   "source": [
    "naep.rename(columns={'YEAR':'year', 'STATE':'state', 'AVG_SCORE': 'score', 'TEST_SUBJECT':'test_subject', 'TEST_YEAR':'test_year'}, inplace=True)"
   ]
  },
  {
   "cell_type": "code",
   "execution_count": 15,
   "metadata": {},
   "outputs": [
    {
     "data": {
      "text/html": [
       "<div>\n",
       "<style scoped>\n",
       "    .dataframe tbody tr th:only-of-type {\n",
       "        vertical-align: middle;\n",
       "    }\n",
       "\n",
       "    .dataframe tbody tr th {\n",
       "        vertical-align: top;\n",
       "    }\n",
       "\n",
       "    .dataframe thead th {\n",
       "        text-align: right;\n",
       "    }\n",
       "</style>\n",
       "<table border=\"1\" class=\"dataframe\">\n",
       "  <thead>\n",
       "    <tr style=\"text-align: right;\">\n",
       "      <th></th>\n",
       "      <th>year</th>\n",
       "      <th>state</th>\n",
       "      <th>score</th>\n",
       "      <th>test_subject</th>\n",
       "      <th>test_year</th>\n",
       "    </tr>\n",
       "  </thead>\n",
       "  <tbody>\n",
       "    <tr>\n",
       "      <th>0</th>\n",
       "      <td>2017</td>\n",
       "      <td>Alabama</td>\n",
       "      <td>232.170687741509</td>\n",
       "      <td>Mathematics</td>\n",
       "      <td>4</td>\n",
       "    </tr>\n",
       "    <tr>\n",
       "      <th>1</th>\n",
       "      <td>2017</td>\n",
       "      <td>Alaska</td>\n",
       "      <td>230.456277558902</td>\n",
       "      <td>Mathematics</td>\n",
       "      <td>4</td>\n",
       "    </tr>\n",
       "    <tr>\n",
       "      <th>2</th>\n",
       "      <td>2017</td>\n",
       "      <td>Arizona</td>\n",
       "      <td>234.435788152091</td>\n",
       "      <td>Mathematics</td>\n",
       "      <td>4</td>\n",
       "    </tr>\n",
       "    <tr>\n",
       "      <th>3</th>\n",
       "      <td>2017</td>\n",
       "      <td>Arkansas</td>\n",
       "      <td>233.848143678937</td>\n",
       "      <td>Mathematics</td>\n",
       "      <td>4</td>\n",
       "    </tr>\n",
       "    <tr>\n",
       "      <th>4</th>\n",
       "      <td>2017</td>\n",
       "      <td>California</td>\n",
       "      <td>232.262940994562</td>\n",
       "      <td>Mathematics</td>\n",
       "      <td>4</td>\n",
       "    </tr>\n",
       "  </tbody>\n",
       "</table>\n",
       "</div>"
      ],
      "text/plain": [
       "   year       state             score test_subject  test_year\n",
       "0  2017     Alabama  232.170687741509  Mathematics          4\n",
       "1  2017      Alaska  230.456277558902  Mathematics          4\n",
       "2  2017     Arizona  234.435788152091  Mathematics          4\n",
       "3  2017    Arkansas  233.848143678937  Mathematics          4\n",
       "4  2017  California  232.262940994562  Mathematics          4"
      ]
     },
     "execution_count": 15,
     "metadata": {},
     "output_type": "execute_result"
    }
   ],
   "source": [
    "naep.head()"
   ]
  },
  {
   "cell_type": "code",
   "execution_count": 16,
   "metadata": {},
   "outputs": [
    {
     "data": {
      "text/plain": [
       "year             int64\n",
       "state           object\n",
       "score           object\n",
       "test_subject    object\n",
       "test_year        int64\n",
       "dtype: object"
      ]
     },
     "execution_count": 16,
     "metadata": {},
     "output_type": "execute_result"
    }
   ],
   "source": [
    "naep.dtypes"
   ]
  },
  {
   "cell_type": "code",
   "execution_count": 17,
   "metadata": {},
   "outputs": [
    {
     "data": {
      "text/plain": [
       "(2305, 5)"
      ]
     },
     "execution_count": 17,
     "metadata": {},
     "output_type": "execute_result"
    }
   ],
   "source": [
    "naep.shape"
   ]
  },
  {
   "cell_type": "code",
   "execution_count": 18,
   "metadata": {},
   "outputs": [
    {
     "data": {
      "text/html": [
       "<div>\n",
       "<style scoped>\n",
       "    .dataframe tbody tr th:only-of-type {\n",
       "        vertical-align: middle;\n",
       "    }\n",
       "\n",
       "    .dataframe tbody tr th {\n",
       "        vertical-align: top;\n",
       "    }\n",
       "\n",
       "    .dataframe thead th {\n",
       "        text-align: right;\n",
       "    }\n",
       "</style>\n",
       "<table border=\"1\" class=\"dataframe\">\n",
       "  <thead>\n",
       "    <tr style=\"text-align: right;\">\n",
       "      <th></th>\n",
       "      <th>STATE</th>\n",
       "      <th>YEAR</th>\n",
       "      <th>ENROLL</th>\n",
       "      <th>TOTAL_REVENUE</th>\n",
       "      <th>FEDERAL_REVENUE</th>\n",
       "      <th>STATE_REVENUE</th>\n",
       "      <th>LOCAL_REVENUE</th>\n",
       "      <th>TOTAL_EXPENDITURE</th>\n",
       "      <th>INSTRUCTION_EXPENDITURE</th>\n",
       "      <th>SUPPORT_SERVICES_EXPENDITURE</th>\n",
       "      <th>OTHER_EXPENDITURE</th>\n",
       "      <th>CAPITAL_OUTLAY_EXPENDITURE</th>\n",
       "    </tr>\n",
       "  </thead>\n",
       "  <tbody>\n",
       "    <tr>\n",
       "      <th>0</th>\n",
       "      <td>Alabama</td>\n",
       "      <td>1992</td>\n",
       "      <td>NaN</td>\n",
       "      <td>2678885</td>\n",
       "      <td>304177</td>\n",
       "      <td>1659028</td>\n",
       "      <td>715680</td>\n",
       "      <td>2653798</td>\n",
       "      <td>1481703</td>\n",
       "      <td>735036</td>\n",
       "      <td>NaN</td>\n",
       "      <td>174053</td>\n",
       "    </tr>\n",
       "    <tr>\n",
       "      <th>1</th>\n",
       "      <td>Alaska</td>\n",
       "      <td>1992</td>\n",
       "      <td>NaN</td>\n",
       "      <td>1049591</td>\n",
       "      <td>106780</td>\n",
       "      <td>720711</td>\n",
       "      <td>222100</td>\n",
       "      <td>972488</td>\n",
       "      <td>498362</td>\n",
       "      <td>350902</td>\n",
       "      <td>NaN</td>\n",
       "      <td>37451</td>\n",
       "    </tr>\n",
       "    <tr>\n",
       "      <th>2</th>\n",
       "      <td>Arizona</td>\n",
       "      <td>1992</td>\n",
       "      <td>NaN</td>\n",
       "      <td>3258079</td>\n",
       "      <td>297888</td>\n",
       "      <td>1369815</td>\n",
       "      <td>1590376</td>\n",
       "      <td>3401580</td>\n",
       "      <td>1435908</td>\n",
       "      <td>1007732</td>\n",
       "      <td>NaN</td>\n",
       "      <td>609114</td>\n",
       "    </tr>\n",
       "    <tr>\n",
       "      <th>3</th>\n",
       "      <td>Arkansas</td>\n",
       "      <td>1992</td>\n",
       "      <td>NaN</td>\n",
       "      <td>1711959</td>\n",
       "      <td>178571</td>\n",
       "      <td>958785</td>\n",
       "      <td>574603</td>\n",
       "      <td>1743022</td>\n",
       "      <td>964323</td>\n",
       "      <td>483488</td>\n",
       "      <td>NaN</td>\n",
       "      <td>145212</td>\n",
       "    </tr>\n",
       "    <tr>\n",
       "      <th>4</th>\n",
       "      <td>California</td>\n",
       "      <td>1992</td>\n",
       "      <td>NaN</td>\n",
       "      <td>26260025</td>\n",
       "      <td>2072470</td>\n",
       "      <td>16546514</td>\n",
       "      <td>7641041</td>\n",
       "      <td>27138832</td>\n",
       "      <td>14358922</td>\n",
       "      <td>8520926</td>\n",
       "      <td>NaN</td>\n",
       "      <td>2044688</td>\n",
       "    </tr>\n",
       "  </tbody>\n",
       "</table>\n",
       "</div>"
      ],
      "text/plain": [
       "        STATE  YEAR  ENROLL  TOTAL_REVENUE  FEDERAL_REVENUE  STATE_REVENUE  \\\n",
       "0     Alabama  1992     NaN        2678885           304177        1659028   \n",
       "1      Alaska  1992     NaN        1049591           106780         720711   \n",
       "2     Arizona  1992     NaN        3258079           297888        1369815   \n",
       "3    Arkansas  1992     NaN        1711959           178571         958785   \n",
       "4  California  1992     NaN       26260025          2072470       16546514   \n",
       "\n",
       "   LOCAL_REVENUE  TOTAL_EXPENDITURE  INSTRUCTION_EXPENDITURE  \\\n",
       "0         715680            2653798                  1481703   \n",
       "1         222100             972488                   498362   \n",
       "2        1590376            3401580                  1435908   \n",
       "3         574603            1743022                   964323   \n",
       "4        7641041           27138832                 14358922   \n",
       "\n",
       "   SUPPORT_SERVICES_EXPENDITURE  OTHER_EXPENDITURE  CAPITAL_OUTLAY_EXPENDITURE  \n",
       "0                        735036                NaN                      174053  \n",
       "1                        350902                NaN                       37451  \n",
       "2                       1007732                NaN                      609114  \n",
       "3                        483488                NaN                      145212  \n",
       "4                       8520926                NaN                     2044688  "
      ]
     },
     "execution_count": 18,
     "metadata": {},
     "output_type": "execute_result"
    }
   ],
   "source": [
    "states.head()"
   ]
  },
  {
   "cell_type": "code",
   "execution_count": 19,
   "metadata": {},
   "outputs": [
    {
     "data": {
      "text/plain": [
       "Index(['STATE', 'YEAR', 'ENROLL', 'TOTAL_REVENUE', 'FEDERAL_REVENUE',\n",
       "       'STATE_REVENUE', 'LOCAL_REVENUE', 'TOTAL_EXPENDITURE',\n",
       "       'INSTRUCTION_EXPENDITURE', 'SUPPORT_SERVICES_EXPENDITURE',\n",
       "       'OTHER_EXPENDITURE', 'CAPITAL_OUTLAY_EXPENDITURE'],\n",
       "      dtype='object')"
      ]
     },
     "execution_count": 19,
     "metadata": {},
     "output_type": "execute_result"
    }
   ],
   "source": [
    "states.columns "
   ]
  },
  {
   "cell_type": "code",
   "execution_count": 20,
   "metadata": {},
   "outputs": [],
   "source": [
    "states.rename(columns={'STATE':'state', 'YEAR':'year', 'ENROLL': 'enroll', 'TOTAL_REVENUE':'total_revenue', 'FEDERAL_REVENUE':'federal_revenue',\n",
    "                         'STATE_REVENUE':'state_revenue', 'LOCAL_REVENUE':'local_revenue', 'TOTAL_EXPENDITURE': 'total_expenditure', 'INSTRUCTION_EXPENDITURE':'instruction',\n",
    "                          'SUPPORT_SERVICES_EXPENDITURE':'service',\n",
    "                         'OTHER_EXPENDITURE':'other', 'CAPITAL_OUTLAY_EXPENDITURE':'capital'}, inplace=True)"
   ]
  },
  {
   "cell_type": "code",
   "execution_count": 21,
   "metadata": {},
   "outputs": [
    {
     "data": {
      "text/html": [
       "<div>\n",
       "<style scoped>\n",
       "    .dataframe tbody tr th:only-of-type {\n",
       "        vertical-align: middle;\n",
       "    }\n",
       "\n",
       "    .dataframe tbody tr th {\n",
       "        vertical-align: top;\n",
       "    }\n",
       "\n",
       "    .dataframe thead th {\n",
       "        text-align: right;\n",
       "    }\n",
       "</style>\n",
       "<table border=\"1\" class=\"dataframe\">\n",
       "  <thead>\n",
       "    <tr style=\"text-align: right;\">\n",
       "      <th></th>\n",
       "      <th>state</th>\n",
       "      <th>year</th>\n",
       "      <th>enroll</th>\n",
       "      <th>total_revenue</th>\n",
       "      <th>federal_revenue</th>\n",
       "      <th>state_revenue</th>\n",
       "      <th>local_revenue</th>\n",
       "      <th>total_expenditure</th>\n",
       "      <th>instruction</th>\n",
       "      <th>service</th>\n",
       "      <th>other</th>\n",
       "      <th>capital</th>\n",
       "    </tr>\n",
       "  </thead>\n",
       "  <tbody>\n",
       "    <tr>\n",
       "      <th>0</th>\n",
       "      <td>Alabama</td>\n",
       "      <td>1992</td>\n",
       "      <td>NaN</td>\n",
       "      <td>2678885</td>\n",
       "      <td>304177</td>\n",
       "      <td>1659028</td>\n",
       "      <td>715680</td>\n",
       "      <td>2653798</td>\n",
       "      <td>1481703</td>\n",
       "      <td>735036</td>\n",
       "      <td>NaN</td>\n",
       "      <td>174053</td>\n",
       "    </tr>\n",
       "    <tr>\n",
       "      <th>1</th>\n",
       "      <td>Alaska</td>\n",
       "      <td>1992</td>\n",
       "      <td>NaN</td>\n",
       "      <td>1049591</td>\n",
       "      <td>106780</td>\n",
       "      <td>720711</td>\n",
       "      <td>222100</td>\n",
       "      <td>972488</td>\n",
       "      <td>498362</td>\n",
       "      <td>350902</td>\n",
       "      <td>NaN</td>\n",
       "      <td>37451</td>\n",
       "    </tr>\n",
       "    <tr>\n",
       "      <th>2</th>\n",
       "      <td>Arizona</td>\n",
       "      <td>1992</td>\n",
       "      <td>NaN</td>\n",
       "      <td>3258079</td>\n",
       "      <td>297888</td>\n",
       "      <td>1369815</td>\n",
       "      <td>1590376</td>\n",
       "      <td>3401580</td>\n",
       "      <td>1435908</td>\n",
       "      <td>1007732</td>\n",
       "      <td>NaN</td>\n",
       "      <td>609114</td>\n",
       "    </tr>\n",
       "    <tr>\n",
       "      <th>3</th>\n",
       "      <td>Arkansas</td>\n",
       "      <td>1992</td>\n",
       "      <td>NaN</td>\n",
       "      <td>1711959</td>\n",
       "      <td>178571</td>\n",
       "      <td>958785</td>\n",
       "      <td>574603</td>\n",
       "      <td>1743022</td>\n",
       "      <td>964323</td>\n",
       "      <td>483488</td>\n",
       "      <td>NaN</td>\n",
       "      <td>145212</td>\n",
       "    </tr>\n",
       "    <tr>\n",
       "      <th>4</th>\n",
       "      <td>California</td>\n",
       "      <td>1992</td>\n",
       "      <td>NaN</td>\n",
       "      <td>26260025</td>\n",
       "      <td>2072470</td>\n",
       "      <td>16546514</td>\n",
       "      <td>7641041</td>\n",
       "      <td>27138832</td>\n",
       "      <td>14358922</td>\n",
       "      <td>8520926</td>\n",
       "      <td>NaN</td>\n",
       "      <td>2044688</td>\n",
       "    </tr>\n",
       "  </tbody>\n",
       "</table>\n",
       "</div>"
      ],
      "text/plain": [
       "        state  year  enroll  total_revenue  federal_revenue  state_revenue  \\\n",
       "0     Alabama  1992     NaN        2678885           304177        1659028   \n",
       "1      Alaska  1992     NaN        1049591           106780         720711   \n",
       "2     Arizona  1992     NaN        3258079           297888        1369815   \n",
       "3    Arkansas  1992     NaN        1711959           178571         958785   \n",
       "4  California  1992     NaN       26260025          2072470       16546514   \n",
       "\n",
       "   local_revenue  total_expenditure  instruction  service  other  capital  \n",
       "0         715680            2653798      1481703   735036    NaN   174053  \n",
       "1         222100             972488       498362   350902    NaN    37451  \n",
       "2        1590376            3401580      1435908  1007732    NaN   609114  \n",
       "3         574603            1743022       964323   483488    NaN   145212  \n",
       "4        7641041           27138832     14358922  8520926    NaN  2044688  "
      ]
     },
     "execution_count": 21,
     "metadata": {},
     "output_type": "execute_result"
    }
   ],
   "source": [
    "states.head()"
   ]
  },
  {
   "cell_type": "code",
   "execution_count": 22,
   "metadata": {},
   "outputs": [
    {
     "data": {
      "text/plain": [
       "(1275, 12)"
      ]
     },
     "execution_count": 22,
     "metadata": {},
     "output_type": "execute_result"
    }
   ],
   "source": [
    "states.shape"
   ]
  },
  {
   "cell_type": "code",
   "execution_count": 23,
   "metadata": {},
   "outputs": [],
   "source": [
    "##max test score on year\n",
    "##ranking of district AVG score \n",
    "##what is the state has the highest AVG"
   ]
  },
  {
   "cell_type": "code",
   "execution_count": 24,
   "metadata": {},
   "outputs": [
    {
     "data": {
      "text/plain": [
       "15868"
      ]
     },
     "execution_count": 24,
     "metadata": {},
     "output_type": "execute_result"
    }
   ],
   "source": [
    "##check out the missing values\n",
    "districts.enroll.isnull().sum()"
   ]
  },
  {
   "cell_type": "code",
   "execution_count": 25,
   "metadata": {},
   "outputs": [
    {
     "data": {
      "text/plain": [
       "0"
      ]
     },
     "execution_count": 25,
     "metadata": {},
     "output_type": "execute_result"
    }
   ],
   "source": [
    "naep.score.isnull().sum()"
   ]
  },
  {
   "cell_type": "code",
   "execution_count": 26,
   "metadata": {},
   "outputs": [
    {
     "data": {
      "text/plain": [
       "51"
      ]
     },
     "execution_count": 26,
     "metadata": {},
     "output_type": "execute_result"
    }
   ],
   "source": [
    "states.enroll.isnull().sum()"
   ]
  },
  {
   "cell_type": "code",
   "execution_count": 27,
   "metadata": {},
   "outputs": [
    {
     "data": {
      "text/plain": [
       "0"
      ]
     },
     "execution_count": 27,
     "metadata": {},
     "output_type": "execute_result"
    }
   ],
   "source": [
    "states.total_revenue.isnull().sum()"
   ]
  },
  {
   "cell_type": "code",
   "execution_count": 298,
   "metadata": {},
   "outputs": [
    {
     "data": {
      "text/html": [
       "<div>\n",
       "<style scoped>\n",
       "    .dataframe tbody tr th:only-of-type {\n",
       "        vertical-align: middle;\n",
       "    }\n",
       "\n",
       "    .dataframe tbody tr th {\n",
       "        vertical-align: top;\n",
       "    }\n",
       "\n",
       "    .dataframe thead th {\n",
       "        text-align: right;\n",
       "    }\n",
       "</style>\n",
       "<table border=\"1\" class=\"dataframe\">\n",
       "  <thead>\n",
       "    <tr style=\"text-align: right;\">\n",
       "      <th></th>\n",
       "      <th>state</th>\n",
       "      <th>enroll_x</th>\n",
       "      <th>name</th>\n",
       "      <th>year</th>\n",
       "      <th>total_revenue_x</th>\n",
       "      <th>federal_revenue_x</th>\n",
       "      <th>state_revenue_x</th>\n",
       "      <th>local_revenue_x</th>\n",
       "      <th>expenditure</th>\n",
       "      <th>current_spending_instruction</th>\n",
       "      <th>...</th>\n",
       "      <th>enroll_y</th>\n",
       "      <th>total_revenue_y</th>\n",
       "      <th>federal_revenue_y</th>\n",
       "      <th>state_revenue_y</th>\n",
       "      <th>local_revenue_y</th>\n",
       "      <th>total_expenditure</th>\n",
       "      <th>instruction</th>\n",
       "      <th>service</th>\n",
       "      <th>other</th>\n",
       "      <th>capital</th>\n",
       "    </tr>\n",
       "  </thead>\n",
       "  <tbody>\n",
       "    <tr>\n",
       "      <th>0</th>\n",
       "      <td>Alabama</td>\n",
       "      <td>9652.0</td>\n",
       "      <td>AUTAUGA CO SCH DIST</td>\n",
       "      <td>2007</td>\n",
       "      <td>72861</td>\n",
       "      <td>5764</td>\n",
       "      <td>50400</td>\n",
       "      <td>16697</td>\n",
       "      <td>73885</td>\n",
       "      <td>41292</td>\n",
       "      <td>...</td>\n",
       "      <td>743273.0</td>\n",
       "      <td>7069040</td>\n",
       "      <td>689072</td>\n",
       "      <td>4070949</td>\n",
       "      <td>2309019</td>\n",
       "      <td>7196459</td>\n",
       "      <td>3653466</td>\n",
       "      <td>2174210</td>\n",
       "      <td>546077.0</td>\n",
       "      <td>687816</td>\n",
       "    </tr>\n",
       "    <tr>\n",
       "      <th>1</th>\n",
       "      <td>Alabama</td>\n",
       "      <td>9652.0</td>\n",
       "      <td>AUTAUGA CO SCH DIST</td>\n",
       "      <td>2007</td>\n",
       "      <td>72861</td>\n",
       "      <td>5764</td>\n",
       "      <td>50400</td>\n",
       "      <td>16697</td>\n",
       "      <td>73885</td>\n",
       "      <td>41292</td>\n",
       "      <td>...</td>\n",
       "      <td>743273.0</td>\n",
       "      <td>7069040</td>\n",
       "      <td>689072</td>\n",
       "      <td>4070949</td>\n",
       "      <td>2309019</td>\n",
       "      <td>7196459</td>\n",
       "      <td>3653466</td>\n",
       "      <td>2174210</td>\n",
       "      <td>546077.0</td>\n",
       "      <td>687816</td>\n",
       "    </tr>\n",
       "    <tr>\n",
       "      <th>2</th>\n",
       "      <td>Alabama</td>\n",
       "      <td>9652.0</td>\n",
       "      <td>AUTAUGA CO SCH DIST</td>\n",
       "      <td>2007</td>\n",
       "      <td>72861</td>\n",
       "      <td>5764</td>\n",
       "      <td>50400</td>\n",
       "      <td>16697</td>\n",
       "      <td>73885</td>\n",
       "      <td>41292</td>\n",
       "      <td>...</td>\n",
       "      <td>743273.0</td>\n",
       "      <td>7069040</td>\n",
       "      <td>689072</td>\n",
       "      <td>4070949</td>\n",
       "      <td>2309019</td>\n",
       "      <td>7196459</td>\n",
       "      <td>3653466</td>\n",
       "      <td>2174210</td>\n",
       "      <td>546077.0</td>\n",
       "      <td>687816</td>\n",
       "    </tr>\n",
       "    <tr>\n",
       "      <th>3</th>\n",
       "      <td>Alabama</td>\n",
       "      <td>9652.0</td>\n",
       "      <td>AUTAUGA CO SCH DIST</td>\n",
       "      <td>2007</td>\n",
       "      <td>72861</td>\n",
       "      <td>5764</td>\n",
       "      <td>50400</td>\n",
       "      <td>16697</td>\n",
       "      <td>73885</td>\n",
       "      <td>41292</td>\n",
       "      <td>...</td>\n",
       "      <td>743273.0</td>\n",
       "      <td>7069040</td>\n",
       "      <td>689072</td>\n",
       "      <td>4070949</td>\n",
       "      <td>2309019</td>\n",
       "      <td>7196459</td>\n",
       "      <td>3653466</td>\n",
       "      <td>2174210</td>\n",
       "      <td>546077.0</td>\n",
       "      <td>687816</td>\n",
       "    </tr>\n",
       "    <tr>\n",
       "      <th>4</th>\n",
       "      <td>Alabama</td>\n",
       "      <td>26286.0</td>\n",
       "      <td>BALDWIN CO SCH DIST</td>\n",
       "      <td>2007</td>\n",
       "      <td>272334</td>\n",
       "      <td>16970</td>\n",
       "      <td>125762</td>\n",
       "      <td>129602</td>\n",
       "      <td>337692</td>\n",
       "      <td>139345</td>\n",
       "      <td>...</td>\n",
       "      <td>743273.0</td>\n",
       "      <td>7069040</td>\n",
       "      <td>689072</td>\n",
       "      <td>4070949</td>\n",
       "      <td>2309019</td>\n",
       "      <td>7196459</td>\n",
       "      <td>3653466</td>\n",
       "      <td>2174210</td>\n",
       "      <td>546077.0</td>\n",
       "      <td>687816</td>\n",
       "    </tr>\n",
       "  </tbody>\n",
       "</table>\n",
       "<p>5 rows × 26 columns</p>\n",
       "</div>"
      ],
      "text/plain": [
       "     state  enroll_x                 name  year  total_revenue_x  \\\n",
       "0  Alabama    9652.0  AUTAUGA CO SCH DIST  2007            72861   \n",
       "1  Alabama    9652.0  AUTAUGA CO SCH DIST  2007            72861   \n",
       "2  Alabama    9652.0  AUTAUGA CO SCH DIST  2007            72861   \n",
       "3  Alabama    9652.0  AUTAUGA CO SCH DIST  2007            72861   \n",
       "4  Alabama   26286.0  BALDWIN CO SCH DIST  2007           272334   \n",
       "\n",
       "   federal_revenue_x  state_revenue_x  local_revenue_x  expenditure  \\\n",
       "0               5764            50400            16697        73885   \n",
       "1               5764            50400            16697        73885   \n",
       "2               5764            50400            16697        73885   \n",
       "3               5764            50400            16697        73885   \n",
       "4              16970           125762           129602       337692   \n",
       "\n",
       "   current_spending_instruction  ...  enroll_y  total_revenue_y  \\\n",
       "0                         41292  ...  743273.0          7069040   \n",
       "1                         41292  ...  743273.0          7069040   \n",
       "2                         41292  ...  743273.0          7069040   \n",
       "3                         41292  ...  743273.0          7069040   \n",
       "4                        139345  ...  743273.0          7069040   \n",
       "\n",
       "   federal_revenue_y state_revenue_y local_revenue_y  total_expenditure  \\\n",
       "0             689072         4070949         2309019            7196459   \n",
       "1             689072         4070949         2309019            7196459   \n",
       "2             689072         4070949         2309019            7196459   \n",
       "3             689072         4070949         2309019            7196459   \n",
       "4             689072         4070949         2309019            7196459   \n",
       "\n",
       "   instruction  service     other  capital  \n",
       "0      3653466  2174210  546077.0   687816  \n",
       "1      3653466  2174210  546077.0   687816  \n",
       "2      3653466  2174210  546077.0   687816  \n",
       "3      3653466  2174210  546077.0   687816  \n",
       "4      3653466  2174210  546077.0   687816  \n",
       "\n",
       "[5 rows x 26 columns]"
      ]
     },
     "execution_count": 298,
     "metadata": {},
     "output_type": "execute_result"
    }
   ],
   "source": [
    "##merge the data file\n",
    "df = pd.merge(districts, naep, on = ['state', 'year']).merge(states, on = ['state', 'year'])\n",
    "df.head()"
   ]
  },
  {
   "cell_type": "code",
   "execution_count": 299,
   "metadata": {},
   "outputs": [
    {
     "data": {
      "text/plain": [
       "state                            object\n",
       "enroll_x                        float64\n",
       "name                             object\n",
       "year                              int64\n",
       "total_revenue_x                   int64\n",
       "federal_revenue_x                 int64\n",
       "state_revenue_x                   int64\n",
       "local_revenue_x                   int64\n",
       "expenditure                       int64\n",
       "current_spending_instruction      int64\n",
       "current_spending                  int64\n",
       "other_spending                  float64\n",
       "Total Capital                     int64\n",
       "score                            object\n",
       "test_subject                     object\n",
       "test_year                         int64\n",
       "enroll_y                        float64\n",
       "total_revenue_y                   int64\n",
       "federal_revenue_y                 int64\n",
       "state_revenue_y                   int64\n",
       "local_revenue_y                   int64\n",
       "total_expenditure                 int64\n",
       "instruction                       int64\n",
       "service                           int64\n",
       "other                           float64\n",
       "capital                           int64\n",
       "dtype: object"
      ]
     },
     "execution_count": 299,
     "metadata": {},
     "output_type": "execute_result"
    }
   ],
   "source": [
    "df.dtypes"
   ]
  },
  {
   "cell_type": "code",
   "execution_count": 300,
   "metadata": {},
   "outputs": [
    {
     "data": {
      "text/plain": [
       "(598612, 26)"
      ]
     },
     "execution_count": 300,
     "metadata": {},
     "output_type": "execute_result"
    }
   ],
   "source": [
    "df.shape"
   ]
  },
  {
   "cell_type": "code",
   "execution_count": 301,
   "metadata": {},
   "outputs": [],
   "source": [
    "##convert object to float\n",
    "df.score = pd.to_numeric(df['score'],errors='coerce')"
   ]
  },
  {
   "cell_type": "code",
   "execution_count": 302,
   "metadata": {},
   "outputs": [
    {
     "data": {
      "text/plain": [
       "42657"
      ]
     },
     "execution_count": 302,
     "metadata": {},
     "output_type": "execute_result"
    }
   ],
   "source": [
    "df.score.isnull().sum()"
   ]
  },
  {
   "cell_type": "code",
   "execution_count": 303,
   "metadata": {},
   "outputs": [
    {
     "data": {
      "text/plain": [
       "test_subject  test_year\n",
       "Mathematics   4            235.472018\n",
       "              8            279.954818\n",
       "Reading       4            219.604737\n",
       "              8            264.523543\n",
       "Name: score, dtype: float64"
      ]
     },
     "execution_count": 303,
     "metadata": {},
     "output_type": "execute_result"
    }
   ],
   "source": [
    "##mean score on G4 and G8 by subject \n",
    "df.groupby(['test_subject','test_year']).score.mean()"
   ]
  },
  {
   "cell_type": "code",
   "execution_count": 304,
   "metadata": {},
   "outputs": [
    {
     "name": "stderr",
     "output_type": "stream",
     "text": [
      "C:\\Users\\zhang\\anaconda3\\lib\\site-packages\\ipykernel_launcher.py:2: UserWarning: Boolean Series key will be reindexed to match DataFrame index.\n",
      "  \n"
     ]
    },
    {
     "data": {
      "text/plain": [
       "511051    District of Columbia\n",
       "295819    District of Columbia\n",
       "557642    District of Columbia\n",
       "392289    District of Columbia\n",
       "331085    District of Columbia\n",
       "Name: state, dtype: object"
      ]
     },
     "execution_count": 304,
     "metadata": {},
     "output_type": "execute_result"
    }
   ],
   "source": [
    "##find the highest score state\n",
    "df.sort_values('score', ascending=True)[df.test_subject =='Mathematics'][df.test_year ==8].state.head()"
   ]
  },
  {
   "cell_type": "code",
   "execution_count": 305,
   "metadata": {},
   "outputs": [
    {
     "name": "stderr",
     "output_type": "stream",
     "text": [
      "C:\\Users\\zhang\\anaconda3\\lib\\site-packages\\ipykernel_launcher.py:1: UserWarning: Boolean Series key will be reindexed to match DataFrame index.\n",
      "  \"\"\"Entry point for launching an IPython kernel.\n"
     ]
    },
    {
     "data": {
      "text/plain": [
       "480017    District of Columbia\n",
       "331087    District of Columbia\n",
       "392291    District of Columbia\n",
       "449289    District of Columbia\n",
       "8631      District of Columbia\n",
       "Name: state, dtype: object"
      ]
     },
     "execution_count": 305,
     "metadata": {},
     "output_type": "execute_result"
    }
   ],
   "source": [
    "df.sort_values('score', ascending=True)[df.test_subject =='Reading'][df.test_year ==8].state.head()"
   ]
  },
  {
   "cell_type": "code",
   "execution_count": 306,
   "metadata": {},
   "outputs": [
    {
     "data": {
      "text/plain": [
       "<matplotlib.axes._subplots.AxesSubplot at 0x284c0b4de08>"
      ]
     },
     "execution_count": 306,
     "metadata": {},
     "output_type": "execute_result"
    },
    {
     "data": {
      "image/png": "[encoded data removed]",
      "text/plain": [
       "<Figure size 576x432 with 2 Axes>"
      ]
     },
     "metadata": {},
     "output_type": "display_data"
    }
   ],
   "source": [
    "sns.heatmap(df.corr())"
   ]
  },
  {
   "cell_type": "code",
   "execution_count": 307,
   "metadata": {},
   "outputs": [
    {
     "data": {
      "image/png": "[encoded data removed]",
      "text/plain": [
       "<Figure size 540x360 with 1 Axes>"
      ]
     },
     "metadata": {},
     "output_type": "display_data"
    }
   ],
   "source": [
    "# Seaborn scatterplot with regression line\n",
    "sns.lmplot(x='enroll_x', y='score', data=df, aspect=1.5, scatter_kws={'alpha':0.2});"
   ]
  },
  {
   "cell_type": "code",
   "execution_count": 308,
   "metadata": {},
   "outputs": [],
   "source": [
    "##scatter plots of all correlation\n",
    "feature_cols = ['total_revenue_x', 'total_expenditure', 'federal_revenue_x', 'state_revenue_x']"
   ]
  },
  {
   "cell_type": "code",
   "execution_count": 309,
   "metadata": {},
   "outputs": [
    {
     "data": {
      "image/png": "[encoded data removed]",
      "text/plain": [
       "<Figure size 1152x216 with 4 Axes>"
      ]
     },
     "metadata": {},
     "output_type": "display_data"
    }
   ],
   "source": [
    "fig, axs = plt.subplots(1, len(feature_cols), sharey=True)\n",
    "for index, feature in enumerate(feature_cols):\n",
    "    df.plot(kind='scatter', x=feature, y='score', ax=axs[index], figsize=(16, 3))"
   ]
  },
  {
   "cell_type": "code",
   "execution_count": 310,
   "metadata": {},
   "outputs": [],
   "source": [
    "##decide the features to use"
   ]
  },
  {
   "cell_type": "code",
   "execution_count": 311,
   "metadata": {},
   "outputs": [],
   "source": [
    "##function ranking the max on daily basis"
   ]
  },
  {
   "cell_type": "code",
   "execution_count": 312,
   "metadata": {},
   "outputs": [
    {
     "name": "stderr",
     "output_type": "stream",
     "text": [
      "C:\\Users\\zhang\\anaconda3\\lib\\site-packages\\ipykernel_launcher.py:1: UserWarning: Boolean Series key will be reindexed to match DataFrame index.\n",
      "  \"\"\"Entry point for launching an IPython kernel.\n"
     ]
    },
    {
     "data": {
      "text/html": [
       "<div>\n",
       "<style scoped>\n",
       "    .dataframe tbody tr th:only-of-type {\n",
       "        vertical-align: middle;\n",
       "    }\n",
       "\n",
       "    .dataframe tbody tr th {\n",
       "        vertical-align: top;\n",
       "    }\n",
       "\n",
       "    .dataframe thead th {\n",
       "        text-align: right;\n",
       "    }\n",
       "</style>\n",
       "<table border=\"1\" class=\"dataframe\">\n",
       "  <thead>\n",
       "    <tr style=\"text-align: right;\">\n",
       "      <th></th>\n",
       "      <th>mean</th>\n",
       "      <th>count</th>\n",
       "    </tr>\n",
       "    <tr>\n",
       "      <th>state</th>\n",
       "      <th></th>\n",
       "      <th></th>\n",
       "    </tr>\n",
       "  </thead>\n",
       "  <tbody>\n",
       "    <tr>\n",
       "      <th>Alabama</th>\n",
       "      <td>4.499626e+04</td>\n",
       "      <td>5226</td>\n",
       "    </tr>\n",
       "    <tr>\n",
       "      <th>Alaska</th>\n",
       "      <td>3.460834e+04</td>\n",
       "      <td>2123</td>\n",
       "    </tr>\n",
       "    <tr>\n",
       "      <th>Arizona</th>\n",
       "      <td>2.978565e+04</td>\n",
       "      <td>9402</td>\n",
       "    </tr>\n",
       "    <tr>\n",
       "      <th>Arkansas</th>\n",
       "      <td>1.385581e+04</td>\n",
       "      <td>11243</td>\n",
       "    </tr>\n",
       "    <tr>\n",
       "      <th>California</th>\n",
       "      <td>5.659924e+04</td>\n",
       "      <td>42262</td>\n",
       "    </tr>\n",
       "    <tr>\n",
       "      <th>Colorado</th>\n",
       "      <td>3.570564e+04</td>\n",
       "      <td>7749</td>\n",
       "    </tr>\n",
       "    <tr>\n",
       "      <th>Connecticut</th>\n",
       "      <td>4.606638e+04</td>\n",
       "      <td>6922</td>\n",
       "    </tr>\n",
       "    <tr>\n",
       "      <th>Delaware</th>\n",
       "      <td>7.637433e+04</td>\n",
       "      <td>759</td>\n",
       "    </tr>\n",
       "    <tr>\n",
       "      <th>District of Columbia</th>\n",
       "      <td>1.055714e+06</td>\n",
       "      <td>40</td>\n",
       "    </tr>\n",
       "    <tr>\n",
       "      <th>Florida</th>\n",
       "      <td>3.293505e+05</td>\n",
       "      <td>2680</td>\n",
       "    </tr>\n",
       "    <tr>\n",
       "      <th>Georgia</th>\n",
       "      <td>7.363935e+04</td>\n",
       "      <td>7850</td>\n",
       "    </tr>\n",
       "    <tr>\n",
       "      <th>Hawaii</th>\n",
       "      <td>2.148077e+06</td>\n",
       "      <td>40</td>\n",
       "    </tr>\n",
       "    <tr>\n",
       "      <th>Idaho</th>\n",
       "      <td>1.538527e+04</td>\n",
       "      <td>4574</td>\n",
       "    </tr>\n",
       "    <tr>\n",
       "      <th>Illinois</th>\n",
       "      <td>2.253156e+04</td>\n",
       "      <td>40117</td>\n",
       "    </tr>\n",
       "    <tr>\n",
       "      <th>Indiana</th>\n",
       "      <td>3.216468e+04</td>\n",
       "      <td>12613</td>\n",
       "    </tr>\n",
       "    <tr>\n",
       "      <th>Iowa</th>\n",
       "      <td>1.294561e+04</td>\n",
       "      <td>15205</td>\n",
       "    </tr>\n",
       "    <tr>\n",
       "      <th>Kansas</th>\n",
       "      <td>1.527938e+04</td>\n",
       "      <td>11842</td>\n",
       "    </tr>\n",
       "    <tr>\n",
       "      <th>Kentucky</th>\n",
       "      <td>3.238687e+04</td>\n",
       "      <td>6914</td>\n",
       "    </tr>\n",
       "    <tr>\n",
       "      <th>Louisiana</th>\n",
       "      <td>9.346146e+04</td>\n",
       "      <td>2724</td>\n",
       "    </tr>\n",
       "    <tr>\n",
       "      <th>Maine</th>\n",
       "      <td>8.048535e+03</td>\n",
       "      <td>11134</td>\n",
       "    </tr>\n",
       "    <tr>\n",
       "      <th>Maryland</th>\n",
       "      <td>4.332900e+05</td>\n",
       "      <td>960</td>\n",
       "    </tr>\n",
       "    <tr>\n",
       "      <th>Massachusetts</th>\n",
       "      <td>3.458787e+04</td>\n",
       "      <td>14604</td>\n",
       "    </tr>\n",
       "    <tr>\n",
       "      <th>Michigan</th>\n",
       "      <td>2.547283e+04</td>\n",
       "      <td>27595</td>\n",
       "    </tr>\n",
       "    <tr>\n",
       "      <th>Minnesota</th>\n",
       "      <td>2.155659e+04</td>\n",
       "      <td>16640</td>\n",
       "    </tr>\n",
       "    <tr>\n",
       "      <th>Mississippi</th>\n",
       "      <td>2.367497e+04</td>\n",
       "      <td>6085</td>\n",
       "    </tr>\n",
       "    <tr>\n",
       "      <th>Missouri</th>\n",
       "      <td>1.559746e+04</td>\n",
       "      <td>20985</td>\n",
       "    </tr>\n",
       "    <tr>\n",
       "      <th>Montana</th>\n",
       "      <td>2.936429e+03</td>\n",
       "      <td>18603</td>\n",
       "    </tr>\n",
       "    <tr>\n",
       "      <th>Nebraska</th>\n",
       "      <td>6.865436e+03</td>\n",
       "      <td>17606</td>\n",
       "    </tr>\n",
       "    <tr>\n",
       "      <th>Nevada</th>\n",
       "      <td>1.913111e+05</td>\n",
       "      <td>680</td>\n",
       "    </tr>\n",
       "    <tr>\n",
       "      <th>New Hampshire</th>\n",
       "      <td>1.309728e+04</td>\n",
       "      <td>7012</td>\n",
       "    </tr>\n",
       "    <tr>\n",
       "      <th>New Jersey</th>\n",
       "      <td>3.669389e+04</td>\n",
       "      <td>23771</td>\n",
       "    </tr>\n",
       "    <tr>\n",
       "      <th>New Mexico</th>\n",
       "      <td>3.299056e+04</td>\n",
       "      <td>3518</td>\n",
       "    </tr>\n",
       "    <tr>\n",
       "      <th>New York</th>\n",
       "      <td>6.564020e+04</td>\n",
       "      <td>27587</td>\n",
       "    </tr>\n",
       "    <tr>\n",
       "      <th>North Carolina</th>\n",
       "      <td>9.513989e+04</td>\n",
       "      <td>4688</td>\n",
       "    </tr>\n",
       "    <tr>\n",
       "      <th>North Dakota</th>\n",
       "      <td>4.459156e+03</td>\n",
       "      <td>9420</td>\n",
       "    </tr>\n",
       "    <tr>\n",
       "      <th>Ohio</th>\n",
       "      <td>2.661120e+04</td>\n",
       "      <td>28871</td>\n",
       "    </tr>\n",
       "    <tr>\n",
       "      <th>Oklahoma</th>\n",
       "      <td>8.802648e+03</td>\n",
       "      <td>21977</td>\n",
       "    </tr>\n",
       "    <tr>\n",
       "      <th>Oregon</th>\n",
       "      <td>2.266606e+04</td>\n",
       "      <td>9138</td>\n",
       "    </tr>\n",
       "    <tr>\n",
       "      <th>Pennsylvania</th>\n",
       "      <td>3.752483e+04</td>\n",
       "      <td>24120</td>\n",
       "    </tr>\n",
       "    <tr>\n",
       "      <th>Rhode Island</th>\n",
       "      <td>5.012658e+04</td>\n",
       "      <td>1471</td>\n",
       "    </tr>\n",
       "    <tr>\n",
       "      <th>South Carolina</th>\n",
       "      <td>6.594600e+04</td>\n",
       "      <td>3856</td>\n",
       "    </tr>\n",
       "    <tr>\n",
       "      <th>South Dakota</th>\n",
       "      <td>6.417083e+03</td>\n",
       "      <td>6630</td>\n",
       "    </tr>\n",
       "    <tr>\n",
       "      <th>Tennessee</th>\n",
       "      <td>5.000698e+04</td>\n",
       "      <td>5509</td>\n",
       "    </tr>\n",
       "    <tr>\n",
       "      <th>Texas</th>\n",
       "      <td>3.727809e+04</td>\n",
       "      <td>42176</td>\n",
       "    </tr>\n",
       "    <tr>\n",
       "      <th>Utah</th>\n",
       "      <td>8.333887e+04</td>\n",
       "      <td>1612</td>\n",
       "    </tr>\n",
       "    <tr>\n",
       "      <th>Vermont</th>\n",
       "      <td>4.645695e+03</td>\n",
       "      <td>13138</td>\n",
       "    </tr>\n",
       "    <tr>\n",
       "      <th>Virginia</th>\n",
       "      <td>8.682427e+04</td>\n",
       "      <td>5543</td>\n",
       "    </tr>\n",
       "    <tr>\n",
       "      <th>Washington</th>\n",
       "      <td>3.245140e+04</td>\n",
       "      <td>12031</td>\n",
       "    </tr>\n",
       "    <tr>\n",
       "      <th>West Virginia</th>\n",
       "      <td>4.824310e+04</td>\n",
       "      <td>2296</td>\n",
       "    </tr>\n",
       "    <tr>\n",
       "      <th>Wisconsin</th>\n",
       "      <td>2.197178e+04</td>\n",
       "      <td>17145</td>\n",
       "    </tr>\n",
       "    <tr>\n",
       "      <th>Wyoming</th>\n",
       "      <td>2.643872e+04</td>\n",
       "      <td>1926</td>\n",
       "    </tr>\n",
       "  </tbody>\n",
       "</table>\n",
       "</div>"
      ],
      "text/plain": [
       "                              mean  count\n",
       "state                                    \n",
       "Alabama               4.499626e+04   5226\n",
       "Alaska                3.460834e+04   2123\n",
       "Arizona               2.978565e+04   9402\n",
       "Arkansas              1.385581e+04  11243\n",
       "California            5.659924e+04  42262\n",
       "Colorado              3.570564e+04   7749\n",
       "Connecticut           4.606638e+04   6922\n",
       "Delaware              7.637433e+04    759\n",
       "District of Columbia  1.055714e+06     40\n",
       "Florida               3.293505e+05   2680\n",
       "Georgia               7.363935e+04   7850\n",
       "Hawaii                2.148077e+06     40\n",
       "Idaho                 1.538527e+04   4574\n",
       "Illinois              2.253156e+04  40117\n",
       "Indiana               3.216468e+04  12613\n",
       "Iowa                  1.294561e+04  15205\n",
       "Kansas                1.527938e+04  11842\n",
       "Kentucky              3.238687e+04   6914\n",
       "Louisiana             9.346146e+04   2724\n",
       "Maine                 8.048535e+03  11134\n",
       "Maryland              4.332900e+05    960\n",
       "Massachusetts         3.458787e+04  14604\n",
       "Michigan              2.547283e+04  27595\n",
       "Minnesota             2.155659e+04  16640\n",
       "Mississippi           2.367497e+04   6085\n",
       "Missouri              1.559746e+04  20985\n",
       "Montana               2.936429e+03  18603\n",
       "Nebraska              6.865436e+03  17606\n",
       "Nevada                1.913111e+05    680\n",
       "New Hampshire         1.309728e+04   7012\n",
       "New Jersey            3.669389e+04  23771\n",
       "New Mexico            3.299056e+04   3518\n",
       "New York              6.564020e+04  27587\n",
       "North Carolina        9.513989e+04   4688\n",
       "North Dakota          4.459156e+03   9420\n",
       "Ohio                  2.661120e+04  28871\n",
       "Oklahoma              8.802648e+03  21977\n",
       "Oregon                2.266606e+04   9138\n",
       "Pennsylvania          3.752483e+04  24120\n",
       "Rhode Island          5.012658e+04   1471\n",
       "South Carolina        6.594600e+04   3856\n",
       "South Dakota          6.417083e+03   6630\n",
       "Tennessee             5.000698e+04   5509\n",
       "Texas                 3.727809e+04  42176\n",
       "Utah                  8.333887e+04   1612\n",
       "Vermont               4.645695e+03  13138\n",
       "Virginia              8.682427e+04   5543\n",
       "Washington            3.245140e+04  12031\n",
       "West Virginia         4.824310e+04   2296\n",
       "Wisconsin             2.197178e+04  17145\n",
       "Wyoming               2.643872e+04   1926"
      ]
     },
     "execution_count": 312,
     "metadata": {},
     "output_type": "execute_result"
    }
   ],
   "source": [
    "df.groupby('state').total_revenue_x.agg([\"mean\", \"count\"])[districts.state.value_counts()>=10]"
   ]
  },
  {
   "cell_type": "code",
   "execution_count": 313,
   "metadata": {},
   "outputs": [],
   "source": [
    "##build linear regression for prediction"
   ]
  },
  {
   "cell_type": "code",
   "execution_count": 314,
   "metadata": {},
   "outputs": [],
   "source": [
    "# Create X and y.\n",
    "X = df[['total_revenue_x', 'total_expenditure', 'federal_revenue_x', 'state_revenue_x']]\n",
    "y = df.score"
   ]
  },
  {
   "cell_type": "code",
   "execution_count": 315,
   "metadata": {},
   "outputs": [
    {
     "name": "stdout",
     "output_type": "stream",
     "text": [
      "<class 'pandas.core.frame.DataFrame'>\n",
      "<class 'numpy.ndarray'>\n"
     ]
    }
   ],
   "source": [
    "# Check X's type.\n",
    "print(type(X))\n",
    "print(type(X.values))"
   ]
  },
  {
   "cell_type": "code",
   "execution_count": 316,
   "metadata": {},
   "outputs": [
    {
     "name": "stdout",
     "output_type": "stream",
     "text": [
      "<class 'pandas.core.series.Series'>\n",
      "<class 'numpy.ndarray'>\n"
     ]
    }
   ],
   "source": [
    "# Check y's type.\n",
    "print(type(y))\n",
    "print(type(y.values))"
   ]
  },
  {
   "cell_type": "code",
   "execution_count": 317,
   "metadata": {},
   "outputs": [
    {
     "name": "stdout",
     "output_type": "stream",
     "text": [
      "(598612, 4)\n"
     ]
    }
   ],
   "source": [
    "print((X.shape))"
   ]
  },
  {
   "cell_type": "code",
   "execution_count": 318,
   "metadata": {},
   "outputs": [
    {
     "name": "stdout",
     "output_type": "stream",
     "text": [
      "(598612,)\n"
     ]
    }
   ],
   "source": [
    "print((y.shape))"
   ]
  },
  {
   "cell_type": "code",
   "execution_count": 319,
   "metadata": {},
   "outputs": [],
   "source": [
    "from sklearn.linear_model import LinearRegression"
   ]
  },
  {
   "cell_type": "code",
   "execution_count": 320,
   "metadata": {},
   "outputs": [
    {
     "data": {
      "text/plain": [
       "sklearn.linear_model._base.LinearRegression"
      ]
     },
     "execution_count": 320,
     "metadata": {},
     "output_type": "execute_result"
    }
   ],
   "source": [
    "lr = LinearRegression()\n",
    "type(lr)"
   ]
  },
  {
   "cell_type": "code",
   "execution_count": 321,
   "metadata": {},
   "outputs": [
    {
     "data": {
      "text/plain": [
       "LinearRegression(copy_X=True, fit_intercept=True, n_jobs=None, normalize=False)"
      ]
     },
     "execution_count": 321,
     "metadata": {},
     "output_type": "execute_result"
    }
   ],
   "source": [
    "lr"
   ]
  },
  {
   "cell_type": "code",
   "execution_count": 332,
   "metadata": {},
   "outputs": [],
   "source": [
    "from sklearn.preprocessing import StandardScaler\n",
    "from sklearn.model_selection import cross_val_score\n",
    "from sklearn.model_selection import train_test_split"
   ]
  },
  {
   "cell_type": "code",
   "execution_count": 333,
   "metadata": {},
   "outputs": [],
   "source": [
    "Scaler = StandardScaler()\n",
    "Xs = Scaler.fit_transform(X)"
   ]
  },
  {
   "cell_type": "code",
   "execution_count": 334,
   "metadata": {},
   "outputs": [
    {
     "name": "stderr",
     "output_type": "stream",
     "text": [
      "C:\\Users\\zhang\\anaconda3\\lib\\site-packages\\sklearn\\model_selection\\_validation.py:536: FitFailedWarning: Estimator fit failed. The score on this train-test partition for these parameters will be set to nan. Details: \n",
      "ValueError: Input contains NaN, infinity or a value too large for dtype('float64').\n",
      "\n",
      "  FitFailedWarning)\n",
      "C:\\Users\\zhang\\anaconda3\\lib\\site-packages\\sklearn\\model_selection\\_validation.py:536: FitFailedWarning: Estimator fit failed. The score on this train-test partition for these parameters will be set to nan. Details: \n",
      "ValueError: Input contains NaN, infinity or a value too large for dtype('float64').\n",
      "\n",
      "  FitFailedWarning)\n",
      "C:\\Users\\zhang\\anaconda3\\lib\\site-packages\\sklearn\\model_selection\\_validation.py:536: FitFailedWarning: Estimator fit failed. The score on this train-test partition for these parameters will be set to nan. Details: \n",
      "ValueError: Input contains NaN, infinity or a value too large for dtype('float64').\n",
      "\n",
      "  FitFailedWarning)\n",
      "C:\\Users\\zhang\\anaconda3\\lib\\site-packages\\sklearn\\model_selection\\_validation.py:536: FitFailedWarning: Estimator fit failed. The score on this train-test partition for these parameters will be set to nan. Details: \n",
      "ValueError: Input contains NaN, infinity or a value too large for dtype('float64').\n",
      "\n",
      "  FitFailedWarning)\n",
      "C:\\Users\\zhang\\anaconda3\\lib\\site-packages\\sklearn\\model_selection\\_validation.py:536: FitFailedWarning: Estimator fit failed. The score on this train-test partition for these parameters will be set to nan. Details: \n",
      "ValueError: Input contains NaN, infinity or a value too large for dtype('float64').\n",
      "\n",
      "  FitFailedWarning)\n",
      "C:\\Users\\zhang\\anaconda3\\lib\\site-packages\\sklearn\\model_selection\\_validation.py:536: FitFailedWarning: Estimator fit failed. The score on this train-test partition for these parameters will be set to nan. Details: \n",
      "ValueError: Input contains NaN, infinity or a value too large for dtype('float64').\n",
      "\n",
      "  FitFailedWarning)\n",
      "C:\\Users\\zhang\\anaconda3\\lib\\site-packages\\sklearn\\model_selection\\_validation.py:536: FitFailedWarning: Estimator fit failed. The score on this train-test partition for these parameters will be set to nan. Details: \n",
      "ValueError: Input contains NaN, infinity or a value too large for dtype('float64').\n",
      "\n",
      "  FitFailedWarning)\n",
      "C:\\Users\\zhang\\anaconda3\\lib\\site-packages\\sklearn\\model_selection\\_validation.py:536: FitFailedWarning: Estimator fit failed. The score on this train-test partition for these parameters will be set to nan. Details: \n",
      "ValueError: Input contains NaN, infinity or a value too large for dtype('float64').\n",
      "\n",
      "  FitFailedWarning)\n",
      "C:\\Users\\zhang\\anaconda3\\lib\\site-packages\\sklearn\\model_selection\\_validation.py:536: FitFailedWarning: Estimator fit failed. The score on this train-test partition for these parameters will be set to nan. Details: \n",
      "ValueError: Input contains NaN, infinity or a value too large for dtype('float64').\n",
      "\n",
      "  FitFailedWarning)\n",
      "C:\\Users\\zhang\\anaconda3\\lib\\site-packages\\sklearn\\model_selection\\_validation.py:536: FitFailedWarning: Estimator fit failed. The score on this train-test partition for these parameters will be set to nan. Details: \n",
      "ValueError: Input contains NaN, infinity or a value too large for dtype('float64').\n",
      "\n",
      "  FitFailedWarning)\n"
     ]
    }
   ],
   "source": [
    "linreg = LinearRegression()\n",
    "\n",
    "linreg_scores = cross_val_score(linreg, Xs, y, cv=10)"
   ]
  },
  {
   "cell_type": "code",
   "execution_count": 335,
   "metadata": {},
   "outputs": [
    {
     "name": "stdout",
     "output_type": "stream",
     "text": [
      "[nan nan nan nan nan nan nan nan nan nan]\n"
     ]
    }
   ],
   "source": [
    "print(linreg_scores)"
   ]
  },
  {
   "cell_type": "code",
   "execution_count": 336,
   "metadata": {},
   "outputs": [
    {
     "name": "stdout",
     "output_type": "stream",
     "text": [
      "nan\n"
     ]
    }
   ],
   "source": [
    "print(np.mean(linreg_scores))"
   ]
  },
  {
   "cell_type": "code",
   "execution_count": 337,
   "metadata": {},
   "outputs": [
    {
     "ename": "NameError",
     "evalue": "name 'RidgeCV' is not defined",
     "output_type": "error",
     "traceback": [
      "\u001b[1;31m---------------------------------------------------------------------------\u001b[0m",
      "\u001b[1;31mNameError\u001b[0m                                 Traceback (most recent call last)",
      "\u001b[1;32m<ipython-input-337-c73f3e12c3f4>\u001b[0m in \u001b[0;36m<module>\u001b[1;34m\u001b[0m\n\u001b[0;32m      1\u001b[0m \u001b[0mridge_alphas\u001b[0m \u001b[1;33m=\u001b[0m \u001b[0mnp\u001b[0m\u001b[1;33m.\u001b[0m\u001b[0mlogspace\u001b[0m\u001b[1;33m(\u001b[0m\u001b[1;36m0\u001b[0m\u001b[1;33m,\u001b[0m \u001b[1;36m5\u001b[0m\u001b[1;33m,\u001b[0m \u001b[1;36m200\u001b[0m\u001b[1;33m)\u001b[0m\u001b[1;33m\u001b[0m\u001b[1;33m\u001b[0m\u001b[0m\n\u001b[0;32m      2\u001b[0m \u001b[1;33m\u001b[0m\u001b[0m\n\u001b[1;32m----> 3\u001b[1;33m \u001b[0moptimal_ridge\u001b[0m \u001b[1;33m=\u001b[0m \u001b[0mRidgeCV\u001b[0m\u001b[1;33m(\u001b[0m\u001b[0malphas\u001b[0m\u001b[1;33m=\u001b[0m\u001b[0mridge_alphas\u001b[0m\u001b[1;33m,\u001b[0m \u001b[0mcv\u001b[0m\u001b[1;33m=\u001b[0m\u001b[1;36m10\u001b[0m\u001b[1;33m)\u001b[0m\u001b[1;33m\u001b[0m\u001b[1;33m\u001b[0m\u001b[0m\n\u001b[0m\u001b[0;32m      4\u001b[0m \u001b[0moptimal_ridge\u001b[0m\u001b[1;33m.\u001b[0m\u001b[0mfit\u001b[0m\u001b[1;33m(\u001b[0m\u001b[0mXs\u001b[0m\u001b[1;33m,\u001b[0m \u001b[0my\u001b[0m\u001b[1;33m)\u001b[0m\u001b[1;33m\u001b[0m\u001b[1;33m\u001b[0m\u001b[0m\n\u001b[0;32m      5\u001b[0m \u001b[1;33m\u001b[0m\u001b[0m\n",
      "\u001b[1;31mNameError\u001b[0m: name 'RidgeCV' is not defined"
     ]
    }
   ],
   "source": [
    "ridge_alphas = np.logspace(0, 5, 200)\n",
    "\n",
    "optimal_ridge = RidgeCV(alphas=ridge_alphas, cv=10)\n",
    "optimal_ridge.fit(Xs, y)\n",
    "\n",
    "print(optimal_ridge.alpha_)"
   ]
  },
  {
   "cell_type": "code",
   "execution_count": null,
   "metadata": {},
   "outputs": [],
   "source": []
  },
  {
   "cell_type": "code",
   "execution_count": null,
   "metadata": {},
   "outputs": [],
   "source": []
  },
  {
   "cell_type": "code",
   "execution_count": null,
   "metadata": {},
   "outputs": [],
   "source": []
  }
 ],
 "metadata": {
  "kernelspec": {
   "display_name": "Python 3",
   "language": "python",
   "name": "python3"
  },
  "language_info": {
   "codemirror_mode": {
    "name": "ipython",
    "version": 3
   },
   "file_extension": ".py",
   "mimetype": "text/x-python",
   "name": "python",
   "nbconvert_exporter": "python",
   "pygments_lexer": "ipython3",
   "version": "3.7.6"
  }
 },
 "nbformat": 4,
 "nbformat_minor": 4
}
