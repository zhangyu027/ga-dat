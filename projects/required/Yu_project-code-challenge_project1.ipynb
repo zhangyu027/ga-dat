{
 "cells": [
  {
   "cell_type": "markdown",
   "metadata": {},
   "source": [
    "<img src=\"http://imgur.com/1ZcRyrc.png\" style=\"float: left; margin: 20px; height: 55px\">\n",
    "\n",
    "# Project 1: Python Coding Exercises\n",
    "\n",
    "_Author: Naumaan Nayyar_\n",
    "\n",
    "---"
   ]
  },
  {
   "cell_type": "markdown",
   "metadata": {},
   "source": [
    "The following code challenges are drawn from common exercises used in technical interviews.\n",
    "\n",
    "Please note that there may be several ways to approach each challenge. If you get stuck, try mapping out your approach in pseudocode first. Finally, while solutions to problems like these may be found online, remember that if you copy/paste code that you can't explain, you'll be missing out on the point of the project. The only way to truly learn a new skill is through practice, trial, and error - we can only help you improve by understanding where you are having trouble."
   ]
  },
  {
   "cell_type": "markdown",
   "metadata": {},
   "source": [
    "### Challenge 1: Largest Palindrome\n",
    "A palindromic number reads the same both ways. For example, 1234321 is a palindrome. The largest palindrome made from the product of two two-digit numbers is 9009 = 91 × 99. Find the largest palindrome made from the product of two three-digit numbers. Afterward, write a brief explanation walking through your code's logic in markdown."
   ]
  },
  {
   "cell_type": "code",
   "execution_count": 77,
   "metadata": {},
   "outputs": [
    {
     "name": "stdout",
     "output_type": "stream",
     "text": [
      "906609\n"
     ]
    }
   ],
   "source": [
    "n = 0\n",
    "for a in range(999, 10, -1):\n",
    "    for b in range(a, 10, -1):\n",
    "        x = a * b\n",
    "        if x > n:\n",
    "            s = str(a * b)\n",
    "            if s == s[::-1]:\n",
    "                n = a * b\n",
    "print(n)"
   ]
  },
  {
   "cell_type": "code",
   "execution_count": null,
   "metadata": {},
   "outputs": [],
   "source": [
    "## find the palindrom definition, the number is inversed symmetric, and multiplied by two 3-digits numbers\n",
    "## use for loop define two 3-digit numbers format: range max is 999, can be divided by 10,\n",
    "## if..else, condition add function x = a*b \n",
    "## add function string is inversed\n",
    "## add one more, s = multiplicaiton\n",
    "## the largest palindrom made from the product of two 3-digits numbers 913 *993 = 906609"
   ]
  },
  {
   "cell_type": "markdown",
   "metadata": {},
   "source": [
    "#### Naumaan: Good job! Efficient code where you don't store the full list gets you bonus points. I encourage commenting more in the code.\n",
    "\n",
    "3 points"
   ]
  },
  {
   "cell_type": "markdown",
   "metadata": {},
   "source": [
    "\n",
    "### Challenge 2: Summation of Primes\n",
    "The sum of the primes below 10 is 2 + 3 + 5 + 7 = 17. Find the sum of all the primes below 2,000. Afterward, write a brief explanation walking through your code's logic in markdown."
   ]
  },
  {
   "cell_type": "code",
   "execution_count": 2,
   "metadata": {},
   "outputs": [
    {
     "name": "stdout",
     "output_type": "stream",
     "text": [
      "277050\n"
     ]
    }
   ],
   "source": [
    "prime_numbers = 0\n",
    "\n",
    "def prime_number(x):\n",
    "    if x >= 2:\n",
    "        for y in range(2,x):\n",
    "            if not ( x % y ):\n",
    "                return False\n",
    "    else:\n",
    "        return False\n",
    "    return True\n",
    "            \n",
    "def find_sum(x):\n",
    "    sum = 0\n",
    "    for i in range(2, x):\n",
    "        if prime_number(i):\n",
    "            sum += i\n",
    "    \n",
    "    return sum\n",
    "print(find_sum(2000))"
   ]
  },
  {
   "cell_type": "code",
   "execution_count": null,
   "metadata": {},
   "outputs": [],
   "source": [
    "##steps to address this question\n",
    "##step1.define primary numbers: only be divided by 1 or own, \n",
    "##step2.primary number function: if larger then 2, cannot be divided by themselve, False\n",
    "##step3.define largest sum\n",
    "##step4.set primary number in the range\n",
    "##step5.function of summ condition, sum = all prime numbers\n",
    "##step6. return sum\n",
    "##step7. limites of 2000"
   ]
  },
  {
   "cell_type": "markdown",
   "metadata": {},
   "source": [
    "#### Naumaan: Well done! Completely correct code. Could have been more efficient by only checking up to sqrt(num) instead of all the way to num.\n",
    "\n",
    "2 points"
   ]
  },
  {
   "cell_type": "markdown",
   "metadata": {},
   "source": [
    "### Challenge 3: Multiples of 3 and 5\n",
    "If we list all of the natural numbers below 10 that are multiples of 3 or 5, we get 3, 5, 6, and 9. The sum of these multiples is 23. Find the sum of all the multiples of 3 and 5 below 1,000. Afterward, write a brief explanation walking through your code's logic in markdown."
   ]
  },
  {
   "cell_type": "code",
   "execution_count": 3,
   "metadata": {},
   "outputs": [
    {
     "name": "stdout",
     "output_type": "stream",
     "text": [
      "233168\n"
     ]
    }
   ],
   "source": [
    "def fun_35(n):\n",
    "    sum = 0\n",
    "    for n in range(0, n):\n",
    "        if n % 3 == 0 or n % 5 == 0:\n",
    "            sum += n\n",
    "    return sum\n",
    "\n",
    "print(fun_35(1000))"
   ]
  },
  {
   "cell_type": "code",
   "execution_count": null,
   "metadata": {
    "collapsed": true,
    "jupyter": {
     "outputs_hidden": true
    }
   },
   "outputs": [],
   "source": [
    "##This question is straightforwardness\n",
    "##define function\n",
    "##if...else condition to be divided by 3 or 5, remaining ==0;\n",
    "##return sum"
   ]
  },
  {
   "cell_type": "markdown",
   "metadata": {},
   "source": [
    "#### Naumaan: Well done! I like the efficient code. Same comment as above, comment more in the code itself in the beginning of your python journey.\n",
    "\n",
    "3 points"
   ]
  },
  {
   "cell_type": "markdown",
   "metadata": {},
   "source": [
    "### Challenge 4: String Compressor\n",
    "Implement a method to perform basic string compression using the counts of repeated characters. (This is called run-length encoding.) For example, the string \"aabcccccaaa\" would become a2b1c5a3. If the “compressed” string would not become smaller than the original string, your method should return the original string. You can assume the string has only uppercase and lowercase letters (a–z). Specify whether your solution is case sensitive or case insensitive and what you would need to change to make it the other. Afterward, write a brief explanation walking through your code's logic in markdown."
   ]
  },
  {
   "cell_type": "code",
   "execution_count": 5,
   "metadata": {},
   "outputs": [],
   "source": [
    "def compressed_string(string):\n",
    "    word = \"\"\n",
    "    count = 1\n",
    "\n",
    "    word += string[0]\n",
    "\n",
    "    for i in range(len(string)-1):\n",
    "        if(string[i] == string[i+1]):\n",
    "            count+=1\n",
    "        else:\n",
    "            if count > 1:\n",
    "                word += str(count)\n",
    "            word += string[i+1]\n",
    "            count = 1\n",
    "    if count > 1:\n",
    "        word += str(count)\n",
    "    if string.lower().upper() == string.lower().upper():\n",
    "        return word\n",
    "    else:\n",
    "        return False\n",
    "\n",
    "    return word"
   ]
  },
  {
   "cell_type": "code",
   "execution_count": 10,
   "metadata": {},
   "outputs": [
    {
     "name": "stdout",
     "output_type": "stream",
     "text": [
      "a2bc5a3\n",
      "A2bc5A3\n",
      "cat3sab\n"
     ]
    }
   ],
   "source": [
    "\n",
    "    print (compressed_string('aabcccccaaa'))\n",
    "    \n",
    "    print (compressed_string('AAbcccccAAA'))\n",
    "    \n",
    "    print (compressed_string('catttsab'))\n",
    "    "
   ]
  },
  {
   "cell_type": "code",
   "execution_count": null,
   "metadata": {},
   "outputs": [],
   "source": [
    "## define function of 'compressed_string' to be 'string'\n",
    "## add th first character of the word\n",
    "## add if...else statement of word count = string count + string number\n",
    "## add last one if count less then word string, print it self\n",
    "## add case sensitive "
   ]
  },
  {
   "cell_type": "markdown",
   "metadata": {},
   "source": [
    "#### Naumaan: Almost there! The function starts out correct, but the string either has to be in one format, all characters with numbers, or no characters with counts.\n",
    "\n",
    "1 point"
   ]
  },
  {
   "cell_type": "markdown",
   "metadata": {},
   "source": [
    "### *BONUS* Challenge: FizzBuzz\n",
    "Write a program that prints all of the numbers from 1 to 100. For multiples of 3, instead of the number, print \"Fizz;\" for multiples of 5, print \"Buzz.\" For numbers that are multiples of both 3 and 5, print \"FizzBuzz.\" Afterward, write a brief explanation walking through your code's logic in markdown."
   ]
  },
  {
   "cell_type": "code",
   "execution_count": null,
   "metadata": {},
   "outputs": [],
   "source": [
    "for num in range(1, 1000):\n",
    "    if num % 3 == 0:\n",
    "        print('Fizz')\n",
    "    elif num % 5 == 0:\n",
    "        print('Buzz')\n",
    "    elif num % 3 == 0 and num % 5 == 0:\n",
    "        print('FizzBuzz')\n",
    "    else:\n",
    "        print(num)      "
   ]
  },
  {
   "cell_type": "code",
   "execution_count": null,
   "metadata": {},
   "outputs": [],
   "source": [
    "## define number limtes\n",
    "## if..elif to define three condtions.. condition 3 use \"and\"\n",
    "## return"
   ]
  },
  {
   "cell_type": "code",
   "execution_count": null,
   "metadata": {},
   "outputs": [],
   "source": []
  },
  {
   "cell_type": "markdown",
   "metadata": {},
   "source": [
    "## Total: 9 points"
   ]
  }
 ],
 "metadata": {
  "anaconda-cloud": {},
  "kernelspec": {
   "display_name": "Python 3",
   "language": "python",
   "name": "python3"
  },
  "language_info": {
   "codemirror_mode": {
    "name": "ipython",
    "version": 3
   },
   "file_extension": ".py",
   "mimetype": "text/x-python",
   "name": "python",
   "nbconvert_exporter": "python",
   "pygments_lexer": "ipython3",
   "version": "3.7.6"
  }
 },
 "nbformat": 4,
 "nbformat_minor": 4
}
