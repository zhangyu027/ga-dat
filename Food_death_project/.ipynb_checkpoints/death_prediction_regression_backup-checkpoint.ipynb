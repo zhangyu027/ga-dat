{
 "cells": [
  {
   "cell_type": "code",
   "execution_count": null,
   "metadata": {},
   "outputs": [],
   "source": [
    "Title: Use food diet to predict deaths"
   ]
  },
  {
   "cell_type": "markdown",
   "metadata": {},
   "source": [
    "Introduction: How can food and healthy diet help to improve healthy life and reduce the death rate? The current study indicated that a healthy diet is very important to prevent various infections. Keeping a healthy immune system is so important. However, little knowledge has been developed about which countries' deaths rate are associated with the different kinds of food intaking, neither do we know what is the importance of food with rich nutrition and improve eating habits to combat spreading diseases. This project uses three different machine learning algorithms to analyze the data of Food_Supply_kcal(percentage of energy intake). The model results should indicate how accurately the food diet can predict the countries' death rate. In addition, the ranking of feature importance should summarize the food and diet from high to low importance to predict deaths."
   ]
  },
  {
   "cell_type": "code",
   "execution_count": 129,
   "metadata": {},
   "outputs": [],
   "source": [
    "import pandas as pd\n",
    "import numpy as np\n",
    "import seaborn as sns\n",
    "import matplotlib.pyplot as plt\n",
    "import statsmodels.api as sm\n",
    "from sklearn import metrics\n",
    "\n",
    "from sklearn.linear_model import LinearRegression\n",
    "from sklearn.linear_model import Ridge, Lasso, ElasticNet, LinearRegression, RidgeCV, LassoCV, ElasticNetCV\n",
    "from sklearn.model_selection import train_test_split\n",
    "from sklearn.model_selection import cross_val_score\n",
    "from sklearn.metrics import mean_squared_error as MSE\n",
    "from sklearn.svm import SVR\n",
    "from sklearn.ensemble import RandomForestRegressor\n",
    "from xgboost.sklearn import XGBRegressor\n",
    "from sklearn.preprocessing import MinMaxScaler ## feature scaling\n",
    "\n",
    "import matplotlib.pyplot as plt # visualization\n",
    "import seaborn as sns\n",
    "from termcolor import colored as cl # text customization\n",
    "import itertools # advanced tools\n",
    "import plotly.graph_objs as go\n",
    "import plotly.offline as py\n",
    "import plotly.express as px\n",
    "\n",
    "\n",
    "plt.rcParams['figure.figsize'] = (6, 4)\n",
    "plt.rcParams['font.size'] = 14\n",
    "\n",
    "import seaborn as sns\n",
    "import matplotlib.pyplot as plt\n",
    "%matplotlib inline"
   ]
  },
  {
   "cell_type": "markdown",
   "metadata": {},
   "source": [
    "## Loading data"
   ]
  },
  {
   "cell_type": "code",
   "execution_count": 130,
   "metadata": {},
   "outputs": [],
   "source": [
    "data_path = '/Users/Zhang/notebooks/LearningFuze/'\n",
    "image_path = '/Users/Zhang/notebooks/LearningFuze/output/'"
   ]
  },
  {
   "cell_type": "code",
   "execution_count": 131,
   "metadata": {},
   "outputs": [],
   "source": [
    "death = pd.read_csv(data_path + 'data/Food_Supply_Quantity_kg_Data.csv')"
   ]
  },
  {
   "cell_type": "code",
   "execution_count": 132,
   "metadata": {},
   "outputs": [
    {
     "data": {
      "text/html": [
       "<div>\n",
       "<style scoped>\n",
       "    .dataframe tbody tr th:only-of-type {\n",
       "        vertical-align: middle;\n",
       "    }\n",
       "\n",
       "    .dataframe tbody tr th {\n",
       "        vertical-align: top;\n",
       "    }\n",
       "\n",
       "    .dataframe thead th {\n",
       "        text-align: right;\n",
       "    }\n",
       "</style>\n",
       "<table border=\"1\" class=\"dataframe\">\n",
       "  <thead>\n",
       "    <tr style=\"text-align: right;\">\n",
       "      <th></th>\n",
       "      <th>Country</th>\n",
       "      <th>Alcoholic Beverages</th>\n",
       "      <th>Animal fats</th>\n",
       "      <th>Animal Products</th>\n",
       "      <th>Aquatic Products, Other</th>\n",
       "      <th>Cereals - Excluding Beer</th>\n",
       "      <th>Eggs</th>\n",
       "      <th>Fish, Seafood</th>\n",
       "      <th>Fruits - Excluding Wine</th>\n",
       "      <th>Meat</th>\n",
       "      <th>...</th>\n",
       "      <th>Vegetables</th>\n",
       "      <th>Vegetal Products</th>\n",
       "      <th>Obesity</th>\n",
       "      <th>Undernourished</th>\n",
       "      <th>Confirmed</th>\n",
       "      <th>Deaths</th>\n",
       "      <th>Recovered</th>\n",
       "      <th>Active</th>\n",
       "      <th>Population</th>\n",
       "      <th>Unit (all except Population)</th>\n",
       "    </tr>\n",
       "  </thead>\n",
       "  <tbody>\n",
       "    <tr>\n",
       "      <th>0</th>\n",
       "      <td>Afghanistan</td>\n",
       "      <td>0.0014</td>\n",
       "      <td>0.1973</td>\n",
       "      <td>9.4341</td>\n",
       "      <td>0.0</td>\n",
       "      <td>24.8097</td>\n",
       "      <td>0.2099</td>\n",
       "      <td>0.0350</td>\n",
       "      <td>5.3495</td>\n",
       "      <td>1.2020</td>\n",
       "      <td>...</td>\n",
       "      <td>6.7642</td>\n",
       "      <td>40.5645</td>\n",
       "      <td>4.5</td>\n",
       "      <td>29.8</td>\n",
       "      <td>0.142134</td>\n",
       "      <td>0.006186</td>\n",
       "      <td>0.123374</td>\n",
       "      <td>0.012574</td>\n",
       "      <td>38928000.0</td>\n",
       "      <td>%</td>\n",
       "    </tr>\n",
       "    <tr>\n",
       "      <th>1</th>\n",
       "      <td>Albania</td>\n",
       "      <td>1.6719</td>\n",
       "      <td>0.1357</td>\n",
       "      <td>18.7684</td>\n",
       "      <td>0.0</td>\n",
       "      <td>5.7817</td>\n",
       "      <td>0.5815</td>\n",
       "      <td>0.2126</td>\n",
       "      <td>6.7861</td>\n",
       "      <td>1.8845</td>\n",
       "      <td>...</td>\n",
       "      <td>11.7753</td>\n",
       "      <td>31.2304</td>\n",
       "      <td>22.3</td>\n",
       "      <td>6.2</td>\n",
       "      <td>2.967301</td>\n",
       "      <td>0.050951</td>\n",
       "      <td>1.792636</td>\n",
       "      <td>1.123714</td>\n",
       "      <td>2838000.0</td>\n",
       "      <td>%</td>\n",
       "    </tr>\n",
       "    <tr>\n",
       "      <th>2</th>\n",
       "      <td>Algeria</td>\n",
       "      <td>0.2711</td>\n",
       "      <td>0.0282</td>\n",
       "      <td>9.6334</td>\n",
       "      <td>0.0</td>\n",
       "      <td>13.6816</td>\n",
       "      <td>0.5277</td>\n",
       "      <td>0.2416</td>\n",
       "      <td>6.3801</td>\n",
       "      <td>1.1305</td>\n",
       "      <td>...</td>\n",
       "      <td>11.6484</td>\n",
       "      <td>40.3651</td>\n",
       "      <td>26.6</td>\n",
       "      <td>3.9</td>\n",
       "      <td>0.244897</td>\n",
       "      <td>0.006558</td>\n",
       "      <td>0.167572</td>\n",
       "      <td>0.070767</td>\n",
       "      <td>44357000.0</td>\n",
       "      <td>%</td>\n",
       "    </tr>\n",
       "    <tr>\n",
       "      <th>3</th>\n",
       "      <td>Angola</td>\n",
       "      <td>5.8087</td>\n",
       "      <td>0.0560</td>\n",
       "      <td>4.9278</td>\n",
       "      <td>0.0</td>\n",
       "      <td>9.1085</td>\n",
       "      <td>0.0587</td>\n",
       "      <td>1.7707</td>\n",
       "      <td>6.0005</td>\n",
       "      <td>2.0571</td>\n",
       "      <td>...</td>\n",
       "      <td>2.3041</td>\n",
       "      <td>45.0722</td>\n",
       "      <td>6.8</td>\n",
       "      <td>25</td>\n",
       "      <td>0.061687</td>\n",
       "      <td>0.001461</td>\n",
       "      <td>0.056808</td>\n",
       "      <td>0.003419</td>\n",
       "      <td>32522000.0</td>\n",
       "      <td>%</td>\n",
       "    </tr>\n",
       "    <tr>\n",
       "      <th>4</th>\n",
       "      <td>Antigua and Barbuda</td>\n",
       "      <td>3.5764</td>\n",
       "      <td>0.0087</td>\n",
       "      <td>16.6613</td>\n",
       "      <td>0.0</td>\n",
       "      <td>5.9960</td>\n",
       "      <td>0.2274</td>\n",
       "      <td>4.1489</td>\n",
       "      <td>10.7451</td>\n",
       "      <td>5.6888</td>\n",
       "      <td>...</td>\n",
       "      <td>5.4495</td>\n",
       "      <td>33.3233</td>\n",
       "      <td>19.1</td>\n",
       "      <td>NaN</td>\n",
       "      <td>0.293878</td>\n",
       "      <td>0.007143</td>\n",
       "      <td>0.190816</td>\n",
       "      <td>0.095918</td>\n",
       "      <td>98000.0</td>\n",
       "      <td>%</td>\n",
       "    </tr>\n",
       "  </tbody>\n",
       "</table>\n",
       "<p>5 rows × 32 columns</p>\n",
       "</div>"
      ],
      "text/plain": [
       "               Country  Alcoholic Beverages  Animal fats  Animal Products  \\\n",
       "0          Afghanistan               0.0014       0.1973           9.4341   \n",
       "1              Albania               1.6719       0.1357          18.7684   \n",
       "2              Algeria               0.2711       0.0282           9.6334   \n",
       "3               Angola               5.8087       0.0560           4.9278   \n",
       "4  Antigua and Barbuda               3.5764       0.0087          16.6613   \n",
       "\n",
       "   Aquatic Products, Other  Cereals - Excluding Beer    Eggs  Fish, Seafood  \\\n",
       "0                      0.0                   24.8097  0.2099         0.0350   \n",
       "1                      0.0                    5.7817  0.5815         0.2126   \n",
       "2                      0.0                   13.6816  0.5277         0.2416   \n",
       "3                      0.0                    9.1085  0.0587         1.7707   \n",
       "4                      0.0                    5.9960  0.2274         4.1489   \n",
       "\n",
       "   Fruits - Excluding Wine    Meat  ...  Vegetables  Vegetal Products  \\\n",
       "0                   5.3495  1.2020  ...      6.7642           40.5645   \n",
       "1                   6.7861  1.8845  ...     11.7753           31.2304   \n",
       "2                   6.3801  1.1305  ...     11.6484           40.3651   \n",
       "3                   6.0005  2.0571  ...      2.3041           45.0722   \n",
       "4                  10.7451  5.6888  ...      5.4495           33.3233   \n",
       "\n",
       "   Obesity  Undernourished  Confirmed    Deaths  Recovered    Active  \\\n",
       "0      4.5            29.8   0.142134  0.006186   0.123374  0.012574   \n",
       "1     22.3             6.2   2.967301  0.050951   1.792636  1.123714   \n",
       "2     26.6             3.9   0.244897  0.006558   0.167572  0.070767   \n",
       "3      6.8              25   0.061687  0.001461   0.056808  0.003419   \n",
       "4     19.1             NaN   0.293878  0.007143   0.190816  0.095918   \n",
       "\n",
       "   Population  Unit (all except Population)  \n",
       "0  38928000.0                             %  \n",
       "1   2838000.0                             %  \n",
       "2  44357000.0                             %  \n",
       "3  32522000.0                             %  \n",
       "4     98000.0                             %  \n",
       "\n",
       "[5 rows x 32 columns]"
      ]
     },
     "execution_count": 132,
     "metadata": {},
     "output_type": "execute_result"
    }
   ],
   "source": [
    "death.head()"
   ]
  },
  {
   "cell_type": "code",
   "execution_count": 133,
   "metadata": {},
   "outputs": [
    {
     "data": {
      "text/plain": [
       "Country                          object\n",
       "Alcoholic Beverages             float64\n",
       "Animal fats                     float64\n",
       "Animal Products                 float64\n",
       "Aquatic Products, Other         float64\n",
       "Cereals - Excluding Beer        float64\n",
       "Eggs                            float64\n",
       "Fish, Seafood                   float64\n",
       "Fruits - Excluding Wine         float64\n",
       "Meat                            float64\n",
       "Milk - Excluding Butter         float64\n",
       "Miscellaneous                   float64\n",
       "Offals                          float64\n",
       "Oilcrops                        float64\n",
       "Pulses                          float64\n",
       "Spices                          float64\n",
       "Starchy Roots                   float64\n",
       "Stimulants                      float64\n",
       "Sugar & Sweeteners              float64\n",
       "Sugar Crops                     float64\n",
       "Treenuts                        float64\n",
       "Vegetable Oils                  float64\n",
       "Vegetables                      float64\n",
       "Vegetal Products                float64\n",
       "Obesity                         float64\n",
       "Undernourished                   object\n",
       "Confirmed                       float64\n",
       "Deaths                          float64\n",
       "Recovered                       float64\n",
       "Active                          float64\n",
       "Population                      float64\n",
       "Unit (all except Population)     object\n",
       "dtype: object"
      ]
     },
     "execution_count": 133,
     "metadata": {},
     "output_type": "execute_result"
    }
   ],
   "source": [
    "death.dtypes"
   ]
  },
  {
   "cell_type": "code",
   "execution_count": 134,
   "metadata": {},
   "outputs": [],
   "source": [
    "death.columns = ['Country', 'Alcoholic_beverages', 'Animal_fats', 'Animal_Products',\\\n",
    "       'Aquatic_Products, Other', 'Cereals_Excluding_Beer', 'Eggs',\\\n",
    "       'Fish_Seafood', 'Fruits_Excluding Wine', 'Meat',\\\n",
    "       'Milk_Excluding Butter', 'Miscellaneous', 'Offals', 'Oilcrops',\\\n",
    "       'Pulses', 'Spices', 'Starchy Roots', 'Stimulants', 'Sugar_Sweeteners',\\\n",
    "       'Sugar_Crops', 'Treenuts', 'Vegetable Oils', 'Vegetables',\\\n",
    "       'Vegetal_Products', 'Obesity', 'Undernourished', 'Confirmed', 'Deaths',\\\n",
    "       'Recovered', 'Active', 'Population', 'Unit']"
   ]
  },
  {
   "cell_type": "code",
   "execution_count": 135,
   "metadata": {},
   "outputs": [
    {
     "data": {
      "text/plain": [
       "(170, 32)"
      ]
     },
     "execution_count": 135,
     "metadata": {},
     "output_type": "execute_result"
    }
   ],
   "source": [
    "death.shape"
   ]
  },
  {
   "cell_type": "code",
   "execution_count": 136,
   "metadata": {},
   "outputs": [
    {
     "data": {
      "text/plain": [
       "Index(['Country', 'Alcoholic_beverages', 'Animal_fats', 'Animal_Products',\n",
       "       'Aquatic_Products, Other', 'Cereals_Excluding_Beer', 'Eggs',\n",
       "       'Fish_Seafood', 'Fruits_Excluding Wine', 'Meat',\n",
       "       'Milk_Excluding Butter', 'Miscellaneous', 'Offals', 'Oilcrops',\n",
       "       'Pulses', 'Spices', 'Starchy Roots', 'Stimulants', 'Sugar_Sweeteners',\n",
       "       'Sugar_Crops', 'Treenuts', 'Vegetable Oils', 'Vegetables',\n",
       "       'Vegetal_Products', 'Obesity', 'Undernourished', 'Confirmed', 'Deaths',\n",
       "       'Recovered', 'Active', 'Population', 'Unit'],\n",
       "      dtype='object')"
      ]
     },
     "execution_count": 136,
     "metadata": {},
     "output_type": "execute_result"
    }
   ],
   "source": [
    "death.columns"
   ]
  },
  {
   "cell_type": "markdown",
   "metadata": {},
   "source": [
    "##  data cleaning and preprocessing"
   ]
  },
  {
   "cell_type": "code",
   "execution_count": 137,
   "metadata": {},
   "outputs": [
    {
     "data": {
      "text/plain": [
       "Country                    0\n",
       "Alcoholic_beverages        0\n",
       "Animal_fats                0\n",
       "Animal_Products            0\n",
       "Aquatic_Products, Other    0\n",
       "Cereals_Excluding_Beer     0\n",
       "Eggs                       0\n",
       "Fish_Seafood               0\n",
       "Fruits_Excluding Wine      0\n",
       "Meat                       0\n",
       "Milk_Excluding Butter      0\n",
       "Miscellaneous              0\n",
       "Offals                     0\n",
       "Oilcrops                   0\n",
       "Pulses                     0\n",
       "Spices                     0\n",
       "Starchy Roots              0\n",
       "Stimulants                 0\n",
       "Sugar_Sweeteners           0\n",
       "Sugar_Crops                0\n",
       "Treenuts                   0\n",
       "Vegetable Oils             0\n",
       "Vegetables                 0\n",
       "Vegetal_Products           0\n",
       "Obesity                    3\n",
       "Undernourished             7\n",
       "Confirmed                  6\n",
       "Deaths                     6\n",
       "Recovered                  6\n",
       "Active                     8\n",
       "Population                 0\n",
       "Unit                       0\n",
       "dtype: int64"
      ]
     },
     "execution_count": 137,
     "metadata": {},
     "output_type": "execute_result"
    }
   ],
   "source": [
    "death.isnull().sum()"
   ]
  },
  {
   "cell_type": "code",
   "execution_count": 138,
   "metadata": {},
   "outputs": [],
   "source": [
    "## plot the death to see any imbalanced data \n",
    "## the provided death is continous variables, so the problems is to be approaced by the regression model\n",
    "## the output are numerical variables, it CANNOT be the categorical variables.\n",
    "## Classification of \"0,1\" cannot be meaningful in this case\n",
    "## Use MSE, MAE, RMSE for metrics"
   ]
  },
  {
   "cell_type": "code",
   "execution_count": 139,
   "metadata": {},
   "outputs": [],
   "source": [
    "### replace null value the mean value\n",
    "death['Obesity'].fillna((death['Obesity'].mean()), inplace=True)\n",
    "death['Confirmed'].fillna((death['Confirmed'].mean()), inplace=True)\n",
    "death['Recovered'].fillna((death['Recovered'].mean()), inplace=True)\n",
    "death['Deaths'].fillna((death['Deaths'].mean()), inplace=True)"
   ]
  },
  {
   "cell_type": "code",
   "execution_count": 140,
   "metadata": {},
   "outputs": [],
   "source": [
    "## another way of dropping na\n",
    "## len(death.dropna())\n",
    "## death.dropna(inplace=True)"
   ]
  },
  {
   "cell_type": "code",
   "execution_count": 141,
   "metadata": {},
   "outputs": [
    {
     "data": {
      "text/html": [
       "<div>\n",
       "<style scoped>\n",
       "    .dataframe tbody tr th:only-of-type {\n",
       "        vertical-align: middle;\n",
       "    }\n",
       "\n",
       "    .dataframe tbody tr th {\n",
       "        vertical-align: top;\n",
       "    }\n",
       "\n",
       "    .dataframe thead th {\n",
       "        text-align: right;\n",
       "    }\n",
       "</style>\n",
       "<table border=\"1\" class=\"dataframe\">\n",
       "  <thead>\n",
       "    <tr style=\"text-align: right;\">\n",
       "      <th></th>\n",
       "      <th>Country</th>\n",
       "      <th>Alcoholic_beverages</th>\n",
       "      <th>Animal_fats</th>\n",
       "      <th>Animal_Products</th>\n",
       "      <th>Aquatic_Products, Other</th>\n",
       "      <th>Cereals_Excluding_Beer</th>\n",
       "      <th>Eggs</th>\n",
       "      <th>Fish_Seafood</th>\n",
       "      <th>Fruits_Excluding Wine</th>\n",
       "      <th>Meat</th>\n",
       "      <th>...</th>\n",
       "      <th>Vegetables</th>\n",
       "      <th>Vegetal_Products</th>\n",
       "      <th>Obesity</th>\n",
       "      <th>Undernourished</th>\n",
       "      <th>Confirmed</th>\n",
       "      <th>Deaths</th>\n",
       "      <th>Recovered</th>\n",
       "      <th>Active</th>\n",
       "      <th>Population</th>\n",
       "      <th>Unit</th>\n",
       "    </tr>\n",
       "  </thead>\n",
       "  <tbody>\n",
       "    <tr>\n",
       "      <th>0</th>\n",
       "      <td>Afghanistan</td>\n",
       "      <td>0.0014</td>\n",
       "      <td>0.1973</td>\n",
       "      <td>9.4341</td>\n",
       "      <td>0.0</td>\n",
       "      <td>24.8097</td>\n",
       "      <td>0.2099</td>\n",
       "      <td>0.0350</td>\n",
       "      <td>5.3495</td>\n",
       "      <td>1.2020</td>\n",
       "      <td>...</td>\n",
       "      <td>6.7642</td>\n",
       "      <td>40.5645</td>\n",
       "      <td>4.5</td>\n",
       "      <td>29.8</td>\n",
       "      <td>0.142134</td>\n",
       "      <td>0.006186</td>\n",
       "      <td>0.123374</td>\n",
       "      <td>0.012574</td>\n",
       "      <td>38928000.0</td>\n",
       "      <td>%</td>\n",
       "    </tr>\n",
       "    <tr>\n",
       "      <th>1</th>\n",
       "      <td>Albania</td>\n",
       "      <td>1.6719</td>\n",
       "      <td>0.1357</td>\n",
       "      <td>18.7684</td>\n",
       "      <td>0.0</td>\n",
       "      <td>5.7817</td>\n",
       "      <td>0.5815</td>\n",
       "      <td>0.2126</td>\n",
       "      <td>6.7861</td>\n",
       "      <td>1.8845</td>\n",
       "      <td>...</td>\n",
       "      <td>11.7753</td>\n",
       "      <td>31.2304</td>\n",
       "      <td>22.3</td>\n",
       "      <td>6.2</td>\n",
       "      <td>2.967301</td>\n",
       "      <td>0.050951</td>\n",
       "      <td>1.792636</td>\n",
       "      <td>1.123714</td>\n",
       "      <td>2838000.0</td>\n",
       "      <td>%</td>\n",
       "    </tr>\n",
       "    <tr>\n",
       "      <th>2</th>\n",
       "      <td>Algeria</td>\n",
       "      <td>0.2711</td>\n",
       "      <td>0.0282</td>\n",
       "      <td>9.6334</td>\n",
       "      <td>0.0</td>\n",
       "      <td>13.6816</td>\n",
       "      <td>0.5277</td>\n",
       "      <td>0.2416</td>\n",
       "      <td>6.3801</td>\n",
       "      <td>1.1305</td>\n",
       "      <td>...</td>\n",
       "      <td>11.6484</td>\n",
       "      <td>40.3651</td>\n",
       "      <td>26.6</td>\n",
       "      <td>3.9</td>\n",
       "      <td>0.244897</td>\n",
       "      <td>0.006558</td>\n",
       "      <td>0.167572</td>\n",
       "      <td>0.070767</td>\n",
       "      <td>44357000.0</td>\n",
       "      <td>%</td>\n",
       "    </tr>\n",
       "    <tr>\n",
       "      <th>3</th>\n",
       "      <td>Angola</td>\n",
       "      <td>5.8087</td>\n",
       "      <td>0.0560</td>\n",
       "      <td>4.9278</td>\n",
       "      <td>0.0</td>\n",
       "      <td>9.1085</td>\n",
       "      <td>0.0587</td>\n",
       "      <td>1.7707</td>\n",
       "      <td>6.0005</td>\n",
       "      <td>2.0571</td>\n",
       "      <td>...</td>\n",
       "      <td>2.3041</td>\n",
       "      <td>45.0722</td>\n",
       "      <td>6.8</td>\n",
       "      <td>25</td>\n",
       "      <td>0.061687</td>\n",
       "      <td>0.001461</td>\n",
       "      <td>0.056808</td>\n",
       "      <td>0.003419</td>\n",
       "      <td>32522000.0</td>\n",
       "      <td>%</td>\n",
       "    </tr>\n",
       "    <tr>\n",
       "      <th>4</th>\n",
       "      <td>Antigua and Barbuda</td>\n",
       "      <td>3.5764</td>\n",
       "      <td>0.0087</td>\n",
       "      <td>16.6613</td>\n",
       "      <td>0.0</td>\n",
       "      <td>5.9960</td>\n",
       "      <td>0.2274</td>\n",
       "      <td>4.1489</td>\n",
       "      <td>10.7451</td>\n",
       "      <td>5.6888</td>\n",
       "      <td>...</td>\n",
       "      <td>5.4495</td>\n",
       "      <td>33.3233</td>\n",
       "      <td>19.1</td>\n",
       "      <td>NaN</td>\n",
       "      <td>0.293878</td>\n",
       "      <td>0.007143</td>\n",
       "      <td>0.190816</td>\n",
       "      <td>0.095918</td>\n",
       "      <td>98000.0</td>\n",
       "      <td>%</td>\n",
       "    </tr>\n",
       "  </tbody>\n",
       "</table>\n",
       "<p>5 rows × 32 columns</p>\n",
       "</div>"
      ],
      "text/plain": [
       "               Country  Alcoholic_beverages  Animal_fats  Animal_Products  \\\n",
       "0          Afghanistan               0.0014       0.1973           9.4341   \n",
       "1              Albania               1.6719       0.1357          18.7684   \n",
       "2              Algeria               0.2711       0.0282           9.6334   \n",
       "3               Angola               5.8087       0.0560           4.9278   \n",
       "4  Antigua and Barbuda               3.5764       0.0087          16.6613   \n",
       "\n",
       "   Aquatic_Products, Other  Cereals_Excluding_Beer    Eggs  Fish_Seafood  \\\n",
       "0                      0.0                 24.8097  0.2099        0.0350   \n",
       "1                      0.0                  5.7817  0.5815        0.2126   \n",
       "2                      0.0                 13.6816  0.5277        0.2416   \n",
       "3                      0.0                  9.1085  0.0587        1.7707   \n",
       "4                      0.0                  5.9960  0.2274        4.1489   \n",
       "\n",
       "   Fruits_Excluding Wine    Meat  ...  Vegetables  Vegetal_Products  Obesity  \\\n",
       "0                 5.3495  1.2020  ...      6.7642           40.5645      4.5   \n",
       "1                 6.7861  1.8845  ...     11.7753           31.2304     22.3   \n",
       "2                 6.3801  1.1305  ...     11.6484           40.3651     26.6   \n",
       "3                 6.0005  2.0571  ...      2.3041           45.0722      6.8   \n",
       "4                10.7451  5.6888  ...      5.4495           33.3233     19.1   \n",
       "\n",
       "   Undernourished  Confirmed    Deaths  Recovered    Active  Population  Unit  \n",
       "0            29.8   0.142134  0.006186   0.123374  0.012574  38928000.0     %  \n",
       "1             6.2   2.967301  0.050951   1.792636  1.123714   2838000.0     %  \n",
       "2             3.9   0.244897  0.006558   0.167572  0.070767  44357000.0     %  \n",
       "3              25   0.061687  0.001461   0.056808  0.003419  32522000.0     %  \n",
       "4             NaN   0.293878  0.007143   0.190816  0.095918     98000.0     %  \n",
       "\n",
       "[5 rows x 32 columns]"
      ]
     },
     "execution_count": 141,
     "metadata": {},
     "output_type": "execute_result"
    }
   ],
   "source": [
    "death.head()"
   ]
  },
  {
   "cell_type": "code",
   "execution_count": 142,
   "metadata": {},
   "outputs": [
    {
     "data": {
      "text/plain": [
       "(170, 32)"
      ]
     },
     "execution_count": 142,
     "metadata": {},
     "output_type": "execute_result"
    }
   ],
   "source": [
    "death.shape"
   ]
  },
  {
   "cell_type": "code",
   "execution_count": 143,
   "metadata": {},
   "outputs": [
    {
     "name": "stdout",
     "output_type": "stream",
     "text": [
      "Categorical variables:\n",
      "['Country', 'Undernourished', 'Unit']\n"
     ]
    }
   ],
   "source": [
    "## find the categorical variables\n",
    "s = (death.dtypes == 'object')\n",
    "object_cols = list(s[s].index)\n",
    "\n",
    "print(\"Categorical variables:\")\n",
    "print(object_cols)"
   ]
  },
  {
   "cell_type": "code",
   "execution_count": 144,
   "metadata": {},
   "outputs": [],
   "source": [
    "## drop unit\n",
    "## process the categorical variable \"Country\",\"unit\" and \"Undernourished\" using onehot encoding"
   ]
  },
  {
   "cell_type": "code",
   "execution_count": 145,
   "metadata": {},
   "outputs": [
    {
     "data": {
      "text/html": [
       "<div>\n",
       "<style scoped>\n",
       "    .dataframe tbody tr th:only-of-type {\n",
       "        vertical-align: middle;\n",
       "    }\n",
       "\n",
       "    .dataframe tbody tr th {\n",
       "        vertical-align: top;\n",
       "    }\n",
       "\n",
       "    .dataframe thead th {\n",
       "        text-align: right;\n",
       "    }\n",
       "</style>\n",
       "<table border=\"1\" class=\"dataframe\">\n",
       "  <thead>\n",
       "    <tr style=\"text-align: right;\">\n",
       "      <th></th>\n",
       "      <th>Country</th>\n",
       "      <th>Alcoholic_beverages</th>\n",
       "      <th>Animal_fats</th>\n",
       "      <th>Animal_Products</th>\n",
       "      <th>Aquatic_Products, Other</th>\n",
       "      <th>Cereals_Excluding_Beer</th>\n",
       "      <th>Eggs</th>\n",
       "      <th>Fish_Seafood</th>\n",
       "      <th>Fruits_Excluding Wine</th>\n",
       "      <th>Meat</th>\n",
       "      <th>...</th>\n",
       "      <th>Vegetable Oils</th>\n",
       "      <th>Vegetables</th>\n",
       "      <th>Vegetal_Products</th>\n",
       "      <th>Obesity</th>\n",
       "      <th>Undernourished</th>\n",
       "      <th>Confirmed</th>\n",
       "      <th>Deaths</th>\n",
       "      <th>Recovered</th>\n",
       "      <th>Active</th>\n",
       "      <th>Population</th>\n",
       "    </tr>\n",
       "  </thead>\n",
       "  <tbody>\n",
       "    <tr>\n",
       "      <th>0</th>\n",
       "      <td>Afghanistan</td>\n",
       "      <td>0.0014</td>\n",
       "      <td>0.1973</td>\n",
       "      <td>9.4341</td>\n",
       "      <td>0.0000</td>\n",
       "      <td>24.8097</td>\n",
       "      <td>0.2099</td>\n",
       "      <td>0.0350</td>\n",
       "      <td>5.3495</td>\n",
       "      <td>1.2020</td>\n",
       "      <td>...</td>\n",
       "      <td>0.5345</td>\n",
       "      <td>6.7642</td>\n",
       "      <td>40.5645</td>\n",
       "      <td>4.5</td>\n",
       "      <td>29.8</td>\n",
       "      <td>0.142134</td>\n",
       "      <td>0.006186</td>\n",
       "      <td>0.123374</td>\n",
       "      <td>0.012574</td>\n",
       "      <td>38928000.0</td>\n",
       "    </tr>\n",
       "    <tr>\n",
       "      <th>1</th>\n",
       "      <td>Albania</td>\n",
       "      <td>1.6719</td>\n",
       "      <td>0.1357</td>\n",
       "      <td>18.7684</td>\n",
       "      <td>0.0000</td>\n",
       "      <td>5.7817</td>\n",
       "      <td>0.5815</td>\n",
       "      <td>0.2126</td>\n",
       "      <td>6.7861</td>\n",
       "      <td>1.8845</td>\n",
       "      <td>...</td>\n",
       "      <td>0.3261</td>\n",
       "      <td>11.7753</td>\n",
       "      <td>31.2304</td>\n",
       "      <td>22.3</td>\n",
       "      <td>6.2</td>\n",
       "      <td>2.967301</td>\n",
       "      <td>0.050951</td>\n",
       "      <td>1.792636</td>\n",
       "      <td>1.123714</td>\n",
       "      <td>2838000.0</td>\n",
       "    </tr>\n",
       "    <tr>\n",
       "      <th>2</th>\n",
       "      <td>Algeria</td>\n",
       "      <td>0.2711</td>\n",
       "      <td>0.0282</td>\n",
       "      <td>9.6334</td>\n",
       "      <td>0.0000</td>\n",
       "      <td>13.6816</td>\n",
       "      <td>0.5277</td>\n",
       "      <td>0.2416</td>\n",
       "      <td>6.3801</td>\n",
       "      <td>1.1305</td>\n",
       "      <td>...</td>\n",
       "      <td>1.0310</td>\n",
       "      <td>11.6484</td>\n",
       "      <td>40.3651</td>\n",
       "      <td>26.6</td>\n",
       "      <td>3.9</td>\n",
       "      <td>0.244897</td>\n",
       "      <td>0.006558</td>\n",
       "      <td>0.167572</td>\n",
       "      <td>0.070767</td>\n",
       "      <td>44357000.0</td>\n",
       "    </tr>\n",
       "    <tr>\n",
       "      <th>3</th>\n",
       "      <td>Angola</td>\n",
       "      <td>5.8087</td>\n",
       "      <td>0.0560</td>\n",
       "      <td>4.9278</td>\n",
       "      <td>0.0000</td>\n",
       "      <td>9.1085</td>\n",
       "      <td>0.0587</td>\n",
       "      <td>1.7707</td>\n",
       "      <td>6.0005</td>\n",
       "      <td>2.0571</td>\n",
       "      <td>...</td>\n",
       "      <td>0.6463</td>\n",
       "      <td>2.3041</td>\n",
       "      <td>45.0722</td>\n",
       "      <td>6.8</td>\n",
       "      <td>25</td>\n",
       "      <td>0.061687</td>\n",
       "      <td>0.001461</td>\n",
       "      <td>0.056808</td>\n",
       "      <td>0.003419</td>\n",
       "      <td>32522000.0</td>\n",
       "    </tr>\n",
       "    <tr>\n",
       "      <th>4</th>\n",
       "      <td>Antigua and Barbuda</td>\n",
       "      <td>3.5764</td>\n",
       "      <td>0.0087</td>\n",
       "      <td>16.6613</td>\n",
       "      <td>0.0000</td>\n",
       "      <td>5.9960</td>\n",
       "      <td>0.2274</td>\n",
       "      <td>4.1489</td>\n",
       "      <td>10.7451</td>\n",
       "      <td>5.6888</td>\n",
       "      <td>...</td>\n",
       "      <td>0.8102</td>\n",
       "      <td>5.4495</td>\n",
       "      <td>33.3233</td>\n",
       "      <td>19.1</td>\n",
       "      <td>NaN</td>\n",
       "      <td>0.293878</td>\n",
       "      <td>0.007143</td>\n",
       "      <td>0.190816</td>\n",
       "      <td>0.095918</td>\n",
       "      <td>98000.0</td>\n",
       "    </tr>\n",
       "    <tr>\n",
       "      <th>...</th>\n",
       "      <td>...</td>\n",
       "      <td>...</td>\n",
       "      <td>...</td>\n",
       "      <td>...</td>\n",
       "      <td>...</td>\n",
       "      <td>...</td>\n",
       "      <td>...</td>\n",
       "      <td>...</td>\n",
       "      <td>...</td>\n",
       "      <td>...</td>\n",
       "      <td>...</td>\n",
       "      <td>...</td>\n",
       "      <td>...</td>\n",
       "      <td>...</td>\n",
       "      <td>...</td>\n",
       "      <td>...</td>\n",
       "      <td>...</td>\n",
       "      <td>...</td>\n",
       "      <td>...</td>\n",
       "      <td>...</td>\n",
       "      <td>...</td>\n",
       "    </tr>\n",
       "    <tr>\n",
       "      <th>165</th>\n",
       "      <td>Venezuela (Bolivarian Republic of)</td>\n",
       "      <td>2.5952</td>\n",
       "      <td>0.0403</td>\n",
       "      <td>14.7565</td>\n",
       "      <td>0.0000</td>\n",
       "      <td>12.9253</td>\n",
       "      <td>0.3389</td>\n",
       "      <td>0.9456</td>\n",
       "      <td>7.6460</td>\n",
       "      <td>3.8328</td>\n",
       "      <td>...</td>\n",
       "      <td>1.3734</td>\n",
       "      <td>4.1474</td>\n",
       "      <td>35.2416</td>\n",
       "      <td>25.2</td>\n",
       "      <td>21.2</td>\n",
       "      <td>0.452585</td>\n",
       "      <td>0.004287</td>\n",
       "      <td>0.424399</td>\n",
       "      <td>0.023899</td>\n",
       "      <td>28645000.0</td>\n",
       "    </tr>\n",
       "    <tr>\n",
       "      <th>166</th>\n",
       "      <td>Vietnam</td>\n",
       "      <td>1.4591</td>\n",
       "      <td>0.1640</td>\n",
       "      <td>8.5765</td>\n",
       "      <td>0.0042</td>\n",
       "      <td>16.8740</td>\n",
       "      <td>0.3077</td>\n",
       "      <td>2.6392</td>\n",
       "      <td>5.9029</td>\n",
       "      <td>4.4382</td>\n",
       "      <td>...</td>\n",
       "      <td>0.2201</td>\n",
       "      <td>11.9508</td>\n",
       "      <td>41.4232</td>\n",
       "      <td>2.1</td>\n",
       "      <td>9.3</td>\n",
       "      <td>0.002063</td>\n",
       "      <td>0.000036</td>\n",
       "      <td>0.001526</td>\n",
       "      <td>0.000501</td>\n",
       "      <td>96209000.0</td>\n",
       "    </tr>\n",
       "    <tr>\n",
       "      <th>167</th>\n",
       "      <td>Yemen</td>\n",
       "      <td>0.0364</td>\n",
       "      <td>0.0446</td>\n",
       "      <td>5.7874</td>\n",
       "      <td>0.0000</td>\n",
       "      <td>27.2077</td>\n",
       "      <td>0.2579</td>\n",
       "      <td>0.5240</td>\n",
       "      <td>5.1344</td>\n",
       "      <td>2.7871</td>\n",
       "      <td>...</td>\n",
       "      <td>1.0811</td>\n",
       "      <td>3.2135</td>\n",
       "      <td>44.2126</td>\n",
       "      <td>14.1</td>\n",
       "      <td>38.9</td>\n",
       "      <td>0.007131</td>\n",
       "      <td>0.002062</td>\n",
       "      <td>0.004788</td>\n",
       "      <td>0.000282</td>\n",
       "      <td>29826000.0</td>\n",
       "    </tr>\n",
       "    <tr>\n",
       "      <th>168</th>\n",
       "      <td>Zambia</td>\n",
       "      <td>5.7360</td>\n",
       "      <td>0.0829</td>\n",
       "      <td>6.0197</td>\n",
       "      <td>0.0000</td>\n",
       "      <td>21.1938</td>\n",
       "      <td>0.3399</td>\n",
       "      <td>1.6924</td>\n",
       "      <td>1.0183</td>\n",
       "      <td>1.8427</td>\n",
       "      <td>...</td>\n",
       "      <td>0.6657</td>\n",
       "      <td>3.4649</td>\n",
       "      <td>43.9789</td>\n",
       "      <td>6.5</td>\n",
       "      <td>46.7</td>\n",
       "      <td>0.334133</td>\n",
       "      <td>0.004564</td>\n",
       "      <td>0.290524</td>\n",
       "      <td>0.039045</td>\n",
       "      <td>18384000.0</td>\n",
       "    </tr>\n",
       "    <tr>\n",
       "      <th>169</th>\n",
       "      <td>Zimbabwe</td>\n",
       "      <td>4.0552</td>\n",
       "      <td>0.0755</td>\n",
       "      <td>8.1489</td>\n",
       "      <td>0.0000</td>\n",
       "      <td>22.6240</td>\n",
       "      <td>0.2678</td>\n",
       "      <td>0.5518</td>\n",
       "      <td>2.2000</td>\n",
       "      <td>2.6142</td>\n",
       "      <td>...</td>\n",
       "      <td>1.7103</td>\n",
       "      <td>2.3213</td>\n",
       "      <td>41.8526</td>\n",
       "      <td>12.3</td>\n",
       "      <td>51.3</td>\n",
       "      <td>0.232033</td>\n",
       "      <td>0.008854</td>\n",
       "      <td>0.190964</td>\n",
       "      <td>0.032214</td>\n",
       "      <td>14863000.0</td>\n",
       "    </tr>\n",
       "  </tbody>\n",
       "</table>\n",
       "<p>170 rows × 31 columns</p>\n",
       "</div>"
      ],
      "text/plain": [
       "                                Country  Alcoholic_beverages  Animal_fats  \\\n",
       "0                           Afghanistan               0.0014       0.1973   \n",
       "1                               Albania               1.6719       0.1357   \n",
       "2                               Algeria               0.2711       0.0282   \n",
       "3                                Angola               5.8087       0.0560   \n",
       "4                   Antigua and Barbuda               3.5764       0.0087   \n",
       "..                                  ...                  ...          ...   \n",
       "165  Venezuela (Bolivarian Republic of)               2.5952       0.0403   \n",
       "166                             Vietnam               1.4591       0.1640   \n",
       "167                               Yemen               0.0364       0.0446   \n",
       "168                              Zambia               5.7360       0.0829   \n",
       "169                            Zimbabwe               4.0552       0.0755   \n",
       "\n",
       "     Animal_Products  Aquatic_Products, Other  Cereals_Excluding_Beer    Eggs  \\\n",
       "0             9.4341                   0.0000                 24.8097  0.2099   \n",
       "1            18.7684                   0.0000                  5.7817  0.5815   \n",
       "2             9.6334                   0.0000                 13.6816  0.5277   \n",
       "3             4.9278                   0.0000                  9.1085  0.0587   \n",
       "4            16.6613                   0.0000                  5.9960  0.2274   \n",
       "..               ...                      ...                     ...     ...   \n",
       "165          14.7565                   0.0000                 12.9253  0.3389   \n",
       "166           8.5765                   0.0042                 16.8740  0.3077   \n",
       "167           5.7874                   0.0000                 27.2077  0.2579   \n",
       "168           6.0197                   0.0000                 21.1938  0.3399   \n",
       "169           8.1489                   0.0000                 22.6240  0.2678   \n",
       "\n",
       "     Fish_Seafood  Fruits_Excluding Wine    Meat  ...  Vegetable Oils  \\\n",
       "0          0.0350                 5.3495  1.2020  ...          0.5345   \n",
       "1          0.2126                 6.7861  1.8845  ...          0.3261   \n",
       "2          0.2416                 6.3801  1.1305  ...          1.0310   \n",
       "3          1.7707                 6.0005  2.0571  ...          0.6463   \n",
       "4          4.1489                10.7451  5.6888  ...          0.8102   \n",
       "..            ...                    ...     ...  ...             ...   \n",
       "165        0.9456                 7.6460  3.8328  ...          1.3734   \n",
       "166        2.6392                 5.9029  4.4382  ...          0.2201   \n",
       "167        0.5240                 5.1344  2.7871  ...          1.0811   \n",
       "168        1.6924                 1.0183  1.8427  ...          0.6657   \n",
       "169        0.5518                 2.2000  2.6142  ...          1.7103   \n",
       "\n",
       "     Vegetables  Vegetal_Products  Obesity  Undernourished  Confirmed  \\\n",
       "0        6.7642           40.5645      4.5            29.8   0.142134   \n",
       "1       11.7753           31.2304     22.3             6.2   2.967301   \n",
       "2       11.6484           40.3651     26.6             3.9   0.244897   \n",
       "3        2.3041           45.0722      6.8              25   0.061687   \n",
       "4        5.4495           33.3233     19.1             NaN   0.293878   \n",
       "..          ...               ...      ...             ...        ...   \n",
       "165      4.1474           35.2416     25.2            21.2   0.452585   \n",
       "166     11.9508           41.4232      2.1             9.3   0.002063   \n",
       "167      3.2135           44.2126     14.1            38.9   0.007131   \n",
       "168      3.4649           43.9789      6.5            46.7   0.334133   \n",
       "169      2.3213           41.8526     12.3            51.3   0.232033   \n",
       "\n",
       "       Deaths  Recovered    Active  Population  \n",
       "0    0.006186   0.123374  0.012574  38928000.0  \n",
       "1    0.050951   1.792636  1.123714   2838000.0  \n",
       "2    0.006558   0.167572  0.070767  44357000.0  \n",
       "3    0.001461   0.056808  0.003419  32522000.0  \n",
       "4    0.007143   0.190816  0.095918     98000.0  \n",
       "..        ...        ...       ...         ...  \n",
       "165  0.004287   0.424399  0.023899  28645000.0  \n",
       "166  0.000036   0.001526  0.000501  96209000.0  \n",
       "167  0.002062   0.004788  0.000282  29826000.0  \n",
       "168  0.004564   0.290524  0.039045  18384000.0  \n",
       "169  0.008854   0.190964  0.032214  14863000.0  \n",
       "\n",
       "[170 rows x 31 columns]"
      ]
     },
     "execution_count": 145,
     "metadata": {},
     "output_type": "execute_result"
    }
   ],
   "source": [
    "death.drop(['Unit'],axis = 1)"
   ]
  },
  {
   "cell_type": "code",
   "execution_count": 146,
   "metadata": {},
   "outputs": [],
   "source": [
    "death1 = death.join(pd.get_dummies(death['Country'], prefix='Country'))"
   ]
  },
  {
   "cell_type": "code",
   "execution_count": 147,
   "metadata": {},
   "outputs": [
    {
     "data": {
      "text/plain": [
       "(170, 202)"
      ]
     },
     "execution_count": 147,
     "metadata": {},
     "output_type": "execute_result"
    }
   ],
   "source": [
    "death1.shape"
   ]
  },
  {
   "cell_type": "code",
   "execution_count": 148,
   "metadata": {},
   "outputs": [
    {
     "data": {
      "text/plain": [
       "<2.5    44\n",
       "2.7      3\n",
       "7.1      3\n",
       "6.2      3\n",
       "16.5     3\n",
       "        ..\n",
       "12.2     1\n",
       "24.9     1\n",
       "3.2      1\n",
       "18.9     1\n",
       "16.1     1\n",
       "Name: Undernourished, Length: 98, dtype: int64"
      ]
     },
     "execution_count": 148,
     "metadata": {},
     "output_type": "execute_result"
    }
   ],
   "source": [
    "## observe the value of undernourished\n",
    "death1['Undernourished'].value_counts()"
   ]
  },
  {
   "cell_type": "code",
   "execution_count": 151,
   "metadata": {},
   "outputs": [],
   "source": [
    "## replace the min to \"2.5\"\n",
    "death1['Undernourished_new'] = death1['Undernourished'].str.replace('<2.5','2.5')"
   ]
  },
  {
   "cell_type": "code",
   "execution_count": 152,
   "metadata": {},
   "outputs": [],
   "source": [
    "death1['Undernourished_new'] = pd.to_numeric(death1['Undernourished'], errors='coerce')"
   ]
  },
  {
   "cell_type": "code",
   "execution_count": 64,
   "metadata": {},
   "outputs": [],
   "source": [
    "## death1.Undernourished[death1.Undernourished == '<2.5'] = 1\n",
    "## death1.Undernourished[(death1.Undernourished >= 2.5) & (death1.Undernourished < 10)] = 2\n",
    "## death1.Undernourished[(death1.Undernourished >= 10) & (death1.Undernourished < 20)] = 3\n",
    "## death1.Undernourished[death1.Undernourished >= 30] = 4"
   ]
  },
  {
   "cell_type": "code",
   "execution_count": 334,
   "metadata": {},
   "outputs": [],
   "source": [
    "### use for loop to categorize \n",
    "## def f(x):\n",
    "##    if x == 1: \n",
    "##        return 1\n",
    "##    if (x >= 2.5) & (x < 10):\n",
    "##        return 2\n",
    "##    if (x >= 10) & (x < 20):\n",
    "##        return 3\n",
    "##    if x >= 20:\n",
    "##        return 4\n",
    "##    else:\n",
    "##        return 'null'\n",
    "## death['Undernourished_new'] = death.Undernourished_new.apply(f)"
   ]
  },
  {
   "cell_type": "code",
   "execution_count": 153,
   "metadata": {},
   "outputs": [],
   "source": [
    "death1['Undernourished_new'].fillna(death1['Undernourished_new'].mean(), inplace=True)"
   ]
  },
  {
   "cell_type": "code",
   "execution_count": 154,
   "metadata": {},
   "outputs": [
    {
     "data": {
      "text/plain": [
       "count    170.000000\n",
       "mean      14.457143\n",
       "std       10.414519\n",
       "min        2.500000\n",
       "25%        7.275000\n",
       "50%       14.457143\n",
       "75%       14.457143\n",
       "max       59.600000\n",
       "Name: Undernourished_new, dtype: float64"
      ]
     },
     "execution_count": 154,
     "metadata": {},
     "output_type": "execute_result"
    }
   ],
   "source": [
    "death1.Undernourished_new.describe()"
   ]
  },
  {
   "cell_type": "code",
   "execution_count": 155,
   "metadata": {},
   "outputs": [],
   "source": [
    "death_new = death1.drop(['Undernourished','Country','Unit'],axis = 1)"
   ]
  },
  {
   "cell_type": "code",
   "execution_count": 156,
   "metadata": {},
   "outputs": [],
   "source": [
    "death_new.drop_duplicates(inplace=True)"
   ]
  },
  {
   "cell_type": "code",
   "execution_count": 157,
   "metadata": {},
   "outputs": [
    {
     "data": {
      "text/plain": [
       "162"
      ]
     },
     "execution_count": 157,
     "metadata": {},
     "output_type": "execute_result"
    }
   ],
   "source": [
    "len(death_new.dropna())"
   ]
  },
  {
   "cell_type": "code",
   "execution_count": 158,
   "metadata": {},
   "outputs": [],
   "source": [
    "death_new.dropna(inplace=True)"
   ]
  },
  {
   "cell_type": "code",
   "execution_count": 159,
   "metadata": {},
   "outputs": [
    {
     "data": {
      "text/plain": [
       "Alcoholic_beverages        0\n",
       "Animal_fats                0\n",
       "Animal_Products            0\n",
       "Aquatic_Products, Other    0\n",
       "Cereals_Excluding_Beer     0\n",
       "                          ..\n",
       "Country_Vietnam            0\n",
       "Country_Yemen              0\n",
       "Country_Zambia             0\n",
       "Country_Zimbabwe           0\n",
       "Undernourished_new         0\n",
       "Length: 200, dtype: int64"
      ]
     },
     "execution_count": 159,
     "metadata": {},
     "output_type": "execute_result"
    }
   ],
   "source": [
    "death_new.isnull().sum()"
   ]
  },
  {
   "cell_type": "code",
   "execution_count": 113,
   "metadata": {},
   "outputs": [
    {
     "data": {
      "text/plain": [
       "(170, 200)"
      ]
     },
     "execution_count": 113,
     "metadata": {},
     "output_type": "execute_result"
    }
   ],
   "source": [
    "death_new.shape"
   ]
  },
  {
   "cell_type": "code",
   "execution_count": 115,
   "metadata": {},
   "outputs": [],
   "source": [
    "## plot the death rate"
   ]
  },
  {
   "cell_type": "code",
   "execution_count": 116,
   "metadata": {},
   "outputs": [
    {
     "data": {
      "image/png": "[encoded data removed]",
      "text/plain": [
       "<Figure size 576x432 with 1 Axes>"
      ]
     },
     "metadata": {
      "needs_background": "light"
     },
     "output_type": "display_data"
    }
   ],
   "source": [
    "death_new.Deaths.plot(kind = 'hist', bins=20,density=True, figsize=(8,6),color = 'b',edgecolor='white', linewidth=1)\n",
    "plt.title('Histogram of Death',size = 20);\n",
    "plt.xlabel('',size = 20);\n",
    "plt.ylabel('Frequency',size = 20);\n",
    "plt.xticks(size = 20,rotation=45)\n",
    "plt.yticks(size = 20)\n",
    "plt.legend(loc=4, prop={'size': 20})\n",
    "plt.savefig(r'output/age_hist.png', dpi=300, bbox_inches='tight')\n",
    "plt.show()"
   ]
  },
  {
   "cell_type": "code",
   "execution_count": 117,
   "metadata": {},
   "outputs": [],
   "source": [
    "## the distribution are extremely right skewed, majority of the data are close to \"0\" \n",
    "## transform the data to range of '0,1' use minmax.scale"
   ]
  },
  {
   "cell_type": "code",
   "execution_count": 46,
   "metadata": {},
   "outputs": [],
   "source": [
    "## death_copy = death\n",
    "\n",
    "## scaler = MinMaxScaler()\n",
    "## death_copy.Deaths = scaler.fit(death_copy.Deaths)(-1, 1)"
   ]
  },
  {
   "cell_type": "markdown",
   "metadata": {},
   "source": [
    "## feature engineering"
   ]
  },
  {
   "cell_type": "code",
   "execution_count": 47,
   "metadata": {},
   "outputs": [
    {
     "data": {
      "image/png": "[encoded data removed]",
      "text/plain": [
       "<Figure size 432x288 with 2 Axes>"
      ]
     },
     "metadata": {
      "needs_background": "light"
     },
     "output_type": "display_data"
    }
   ],
   "source": [
    "## heatmaps\n",
    "sns.heatmap(death_new.drop(['Deaths'],axis = 1).corr(), vmin=-1, vmax=1)\n",
    "plt.savefig('output/heatmap.png', transparent=True,dpi=300, bbox_inches='tight')\n",
    "plt.grid(b=None)\n",
    "plt.show()"
   ]
  },
  {
   "cell_type": "code",
   "execution_count": 48,
   "metadata": {},
   "outputs": [],
   "source": [
    "## the results show poor correlation with onehot country outcomes"
   ]
  },
  {
   "cell_type": "markdown",
   "metadata": {},
   "source": [
    "## Train the data "
   ]
  },
  {
   "cell_type": "code",
   "execution_count": 160,
   "metadata": {},
   "outputs": [],
   "source": [
    "# visualize a minmax scaler transform of the sonar dataset\n",
    "from pandas import read_csv\n",
    "from pandas import DataFrame\n",
    "from pandas.plotting import scatter_matrix\n",
    "from sklearn.preprocessing import MinMaxScaler\n",
    "from matplotlib import pyplot"
   ]
  },
  {
   "cell_type": "code",
   "execution_count": 161,
   "metadata": {},
   "outputs": [],
   "source": [
    "# split into inputs and outputs\n",
    "feature_cols = death_new.columns.drop(['Deaths'])\n",
    "X = death_new[feature_cols]\n",
    "\n",
    "# Create response vector (y)\n",
    "y = death_new.Deaths"
   ]
  },
  {
   "cell_type": "code",
   "execution_count": 162,
   "metadata": {},
   "outputs": [],
   "source": [
    "from sklearn.preprocessing import StandardScaler\n",
    "X = StandardScaler().fit_transform(X)"
   ]
  },
  {
   "cell_type": "code",
   "execution_count": 163,
   "metadata": {},
   "outputs": [
    {
     "name": "stdout",
     "output_type": "stream",
     "text": [
      "(162, 199) (162,)\n"
     ]
    }
   ],
   "source": [
    "print(X.shape, y.shape)"
   ]
  },
  {
   "cell_type": "code",
   "execution_count": 164,
   "metadata": {},
   "outputs": [],
   "source": [
    "## Create the train/test split.\n",
    "X_train, X_test, y_train, y_test = train_test_split(X, y, train_size=0.8 ,random_state=99)"
   ]
  },
  {
   "cell_type": "code",
   "execution_count": 165,
   "metadata": {},
   "outputs": [
    {
     "data": {
      "text/plain": [
       "(129, 199)"
      ]
     },
     "execution_count": 165,
     "metadata": {},
     "output_type": "execute_result"
    }
   ],
   "source": [
    "X_train.shape"
   ]
  },
  {
   "cell_type": "code",
   "execution_count": 166,
   "metadata": {},
   "outputs": [
    {
     "data": {
      "text/plain": [
       "(33, 199)"
      ]
     },
     "execution_count": 166,
     "metadata": {},
     "output_type": "execute_result"
    }
   ],
   "source": [
    "X_test.shape"
   ]
  },
  {
   "cell_type": "code",
   "execution_count": 167,
   "metadata": {},
   "outputs": [
    {
     "data": {
      "text/plain": [
       "(129,)"
      ]
     },
     "execution_count": 167,
     "metadata": {},
     "output_type": "execute_result"
    }
   ],
   "source": [
    "y_train.shape"
   ]
  },
  {
   "cell_type": "code",
   "execution_count": 168,
   "metadata": {},
   "outputs": [
    {
     "data": {
      "text/plain": [
       "(33,)"
      ]
     },
     "execution_count": 168,
     "metadata": {},
     "output_type": "execute_result"
    }
   ],
   "source": [
    "y_test.shape"
   ]
  },
  {
   "cell_type": "markdown",
   "metadata": {},
   "source": [
    "## Machine Learning"
   ]
  },
  {
   "cell_type": "code",
   "execution_count": 169,
   "metadata": {},
   "outputs": [],
   "source": [
    "## Ridge regression"
   ]
  },
  {
   "cell_type": "code",
   "execution_count": 170,
   "metadata": {},
   "outputs": [
    {
     "name": "stdout",
     "output_type": "stream",
     "text": [
      "1.0\n"
     ]
    }
   ],
   "source": [
    "ridge_alphas = np.logspace(0, 5, 200)\n",
    "\n",
    "optimal_ridge = RidgeCV(alphas=ridge_alphas, cv=10)\n",
    "optimal_ridge.fit(X_train, y_train)\n",
    "\n",
    "print(optimal_ridge.alpha_)"
   ]
  },
  {
   "cell_type": "code",
   "execution_count": 172,
   "metadata": {},
   "outputs": [
    {
     "data": {
      "text/plain": [
       "0.9999871244949875"
      ]
     },
     "execution_count": 172,
     "metadata": {},
     "output_type": "execute_result"
    }
   ],
   "source": [
    "## calculat accuracy score\n",
    "\n",
    "train_preds = optimal_ridge.predict(X_train)\n",
    "optimal_ridge.score(X_train, y_train)"
   ]
  },
  {
   "cell_type": "markdown",
   "metadata": {},
   "source": [
    "## cross-validate score"
   ]
  },
  {
   "cell_type": "code",
   "execution_count": 173,
   "metadata": {},
   "outputs": [
    {
     "name": "stdout",
     "output_type": "stream",
     "text": [
      "[ 0.58558559 -0.67295162  0.56827571  0.49566868  0.66949131  0.56644127\n",
      "  0.77357104  0.3533222   0.4822945   0.51870091]\n",
      "0.434039958803777\n"
     ]
    }
   ],
   "source": [
    "## calculate the cross validation score\n",
    "ridge_scores = cross_val_score(optimal_ridge, X_train, y_train, cv=10)\n",
    "\n",
    "print(ridge_scores)\n",
    "print(np.mean(ridge_scores))"
   ]
  },
  {
   "cell_type": "markdown",
   "metadata": {},
   "source": [
    "## Model Evaluation"
   ]
  },
  {
   "cell_type": "code",
   "execution_count": 174,
   "metadata": {},
   "outputs": [],
   "source": [
    "from sklearn.metrics import mean_squared_error, mean_absolute_error, r2_score\n",
    "\n",
    "# use mean squared error, mean absolute error and R2 to evaluate the model.\n",
    "def show_scores(model, X_train, X_test, y_train, y_test):    \n",
    "    train_preds = model.predict(X_train)\n",
    "    test_preds = model.predict(X_test)\n",
    "    scores = {'Training MAE': mean_absolute_error(y_train, train_preds),\n",
    "              'Test MAE': mean_absolute_error(y_test, test_preds),\n",
    "              'Training MSE': mean_squared_error(y_train, train_preds),\n",
    "              'Test MSE': mean_squared_error(y_test, test_preds),\n",
    "              'Training R^2': r2_score(y_train, train_preds),\n",
    "              'Test R^2': r2_score(y_test, test_preds)}\n",
    "    return scores"
   ]
  },
  {
   "cell_type": "code",
   "execution_count": 175,
   "metadata": {},
   "outputs": [
    {
     "data": {
      "text/plain": [
       "{'Training MAE': 0.00011681765308021537,\n",
       " 'Test MAE': 0.01965054508243859,\n",
       " 'Training MSE': 2.7632279929409934e-08,\n",
       " 'Test MSE': 0.0007790510156493277,\n",
       " 'Training R^2': 0.9999871244949875,\n",
       " 'Test R^2': 0.7313814152819349}"
      ]
     },
     "execution_count": 175,
     "metadata": {},
     "output_type": "execute_result"
    }
   ],
   "source": [
    "show_scores(optimal_ridge, X_train, X_test , y_train, y_test)"
   ]
  },
  {
   "cell_type": "markdown",
   "metadata": {},
   "source": [
    "## use other models"
   ]
  },
  {
   "cell_type": "code",
   "execution_count": 176,
   "metadata": {},
   "outputs": [],
   "source": [
    "from sklearn.pipeline import Pipeline\n",
    "\n",
    "\n",
    "regressor = Pipeline([\n",
    "    ('scaler', StandardScaler()),\n",
    "    ('estimator', Ridge(random_state=28))\n",
    "])"
   ]
  },
  {
   "cell_type": "markdown",
   "metadata": {},
   "source": [
    "## Machine learning "
   ]
  },
  {
   "cell_type": "code",
   "execution_count": 177,
   "metadata": {},
   "outputs": [],
   "source": [
    "## introduced other models of Support vector regressor and random forest\n",
    "\n",
    "from sklearn.svm import SVR\n",
    "from sklearn.ensemble import RandomForestRegressor\n",
    "from xgboost.sklearn import XGBRegressor\n",
    "\n",
    "# First, we create a dict with our desired models\n",
    "models = {'Ridge':Ridge(random_state=28),\n",
    "          'SVR':SVR(),\n",
    "          'RandomForest':RandomForestRegressor(),\n",
    "          'XGBoost':XGBRegressor(n_estimators = 1000, learning_rate = 0.05)}\n",
    "\n",
    "# Now to build the function that tests each model\n",
    "def model_build(model, X_train, y_train, X_test, y_test, scale=True):\n",
    "    \n",
    "    if scale:\n",
    "        regressor = Pipeline([\n",
    "            ('scaler', StandardScaler()),\n",
    "            ('estimator', model)\n",
    "        ])\n",
    "    \n",
    "    else:\n",
    "        regressor = Pipeline([\n",
    "            ('estimator', model)\n",
    "        ])\n",
    "\n",
    "    # Training\n",
    "    regressor.fit(X_train, y_train)\n",
    "\n",
    "    # Scoring the training set\n",
    "\n",
    "    train_preds = regressor.predict(X_train)\n",
    "    print(f\"R2 on single split: {regressor.score(X_train, y_train)}\")\n",
    "\n",
    "    # Cross validate\n",
    "    cv_score = cross_val_score(regressor, X_train, y_train, cv = 10)\n",
    "\n",
    "    print(f\"Cross validate R2 score: {cv_score.mean()}\")\n",
    "\n",
    "    # Scoring the test set\n",
    "    for k, v in show_scores(regressor, X_train, X_test , y_train, y_test).items():\n",
    "        print(\"     \", k, v)"
   ]
  },
  {
   "cell_type": "code",
   "execution_count": 178,
   "metadata": {},
   "outputs": [
    {
     "name": "stdout",
     "output_type": "stream",
     "text": [
      "==== Scoring Ridge model====\n",
      "R2 on single split: 0.9999824529311128\n",
      "Cross validate R2 score: 0.4283124397504173\n",
      "      Training MAE 0.00013452228540585694\n",
      "      Test MAE 0.018288075415158388\n",
      "      Training MSE 3.765798071331546e-08\n",
      "      Test MSE 0.000673114051099571\n",
      "      Training R^2 0.9999824529311128\n",
      "      Test R^2 0.7679087246815193\n",
      "\n",
      "========================================\n",
      "==== Scoring SVR model====\n",
      "R2 on single split: -1.2154750325961827\n",
      "Cross validate R2 score: -3.331899515627731\n",
      "      Training MAE 0.06453750945839204\n",
      "      Test MAE 0.054154907140711195\n",
      "      Training MSE 0.0047546582614069535\n",
      "      Test MSE 0.003852258229947143\n",
      "      Training R^2 -1.2154750325961827\n",
      "      Test R^2 -0.32826751125462494\n",
      "\n",
      "========================================\n",
      "==== Scoring RandomForest model====\n",
      "R2 on single split: 0.9626879291365664\n",
      "Cross validate R2 score: 0.32013013358585696\n",
      "      Training MAE 0.005194187198735114\n",
      "      Test MAE 0.01853105319236091\n",
      "      Training MSE 8.007589495293677e-05\n",
      "      Test MSE 0.0007900719113732784\n",
      "      Training R^2 0.9626879291365664\n",
      "      Test R^2 0.7275813850499923\n",
      "\n",
      "========================================\n",
      "==== Scoring XGBoost model====\n",
      "R2 on single split: 0.9998644232428447\n",
      "Cross validate R2 score: 0.31737449075155805\n",
      "      Training MAE 0.00041740905743626634\n",
      "      Test MAE 0.016417621195254348\n",
      "      Training MSE 2.909629487938075e-07\n",
      "      Test MSE 0.0006468323269585598\n",
      "      Training R^2 0.9998644232428447\n",
      "      Test R^2 0.7769707237045548\n",
      "\n",
      "========================================\n"
     ]
    }
   ],
   "source": [
    "for name, model in models.items():\n",
    "    print(f\"==== Scoring {name} model====\")\n",
    "    \n",
    "    if name == 'RandomForest' or name == 'XGBoost':\n",
    "        model_build(model, X_train, y_train, X_test, y_test, scale=False)\n",
    "    else:\n",
    "        model_build(model, X_train, y_train, X_test, y_test,)\n",
    "    print()\n",
    "    print(40*\"=\")"
   ]
  },
  {
   "cell_type": "code",
   "execution_count": 179,
   "metadata": {},
   "outputs": [],
   "source": [
    "## the results indicate the XGboosting has the lowest traing and test MAE\n",
    "## the next is to hyperparameters tunning for XGBoosting"
   ]
  },
  {
   "cell_type": "markdown",
   "metadata": {},
   "source": [
    "## hyperparameters tuning o"
   ]
  },
  {
   "cell_type": "code",
   "execution_count": 180,
   "metadata": {},
   "outputs": [],
   "source": [
    "## set up the pamareters for regression\n",
    "\n",
    "xgb = XGBRegressor()\n",
    "\n",
    "parameters = {'nthread':[4], \n",
    "              'objective':['reg:squarederror'],\n",
    "              'learning_rate': [.03, 0.05, .07], #so called `eta` value\n",
    "              'max_depth': [5, 6, 7],\n",
    "              'min_child_weight': [4],\n",
    "              'subsample': [0.7],\n",
    "              'colsample_bytree': [0.7],\n",
    "              'n_estimators': [500, 1000]}"
   ]
  },
  {
   "cell_type": "code",
   "execution_count": 181,
   "metadata": {},
   "outputs": [
    {
     "name": "stdout",
     "output_type": "stream",
     "text": [
      "Fitting 5 folds for each of 18 candidates, totalling 90 fits\n",
      "0.6435412205416421\n",
      "{'colsample_bytree': 0.7, 'learning_rate': 0.05, 'max_depth': 5, 'min_child_weight': 4, 'n_estimators': 1000, 'nthread': 4, 'objective': 'reg:squarederror', 'subsample': 0.7}\n"
     ]
    }
   ],
   "source": [
    "## use grid serve to find the best grid\n",
    "\n",
    "from sklearn.model_selection import GridSearchCV\n",
    "\n",
    "xgb_grid = GridSearchCV(xgb, parameters, cv = 5, n_jobs = 4, verbose = True)\n",
    "\n",
    "xgb_grid.fit(X_train, y_train)\n",
    "\n",
    "print(xgb_grid.best_score_)\n",
    "print(xgb_grid.best_params_)\n"
   ]
  },
  {
   "cell_type": "code",
   "execution_count": 184,
   "metadata": {},
   "outputs": [],
   "source": [
    "xgb_best = XGBRegressor(colsample_bytree = 0.7,\n",
    "                        learning_rate = 0.05,\n",
    "                        max_depth = 5,\n",
    "                        min_child_weight = 4,\n",
    "                        n_estimators = 1000,\n",
    "                        nthread = 4,\n",
    "                        objective = 'reg:squarederror',\n",
    "                        subsample = 0.7)"
   ]
  },
  {
   "cell_type": "code",
   "execution_count": 185,
   "metadata": {},
   "outputs": [
    {
     "name": "stdout",
     "output_type": "stream",
     "text": [
      "R2 on single split: 0.9999326063746881\n",
      "Cross validate R2 score: 0.18989247085063984\n",
      "      Training MAE 0.0002847964129155303\n",
      "      Test MAE 0.018082527175539962\n",
      "      Training MSE 1.4463428955011189e-07\n",
      "      Test MSE 0.0008469697512249567\n",
      "      Training R^2 0.9999326063746881\n",
      "      Test R^2 0.7079628788065544\n"
     ]
    }
   ],
   "source": [
    "model_build(xgb_best, X_train, y_train, X_test, y_test, scale=False)"
   ]
  },
  {
   "cell_type": "code",
   "execution_count": null,
   "metadata": {},
   "outputs": [],
   "source": [
    "## plot feature importance graph"
   ]
  },
  {
   "cell_type": "code",
   "execution_count": 200,
   "metadata": {},
   "outputs": [
    {
     "data": {
      "text/plain": [
       "DecisionTreeRegressor(max_depth=3, random_state=1)"
      ]
     },
     "execution_count": 200,
     "metadata": {},
     "output_type": "execute_result"
    }
   ],
   "source": [
    "from sklearn.tree import DecisionTreeRegressor\n",
    "tree_model = DecisionTreeRegressor(max_depth=3, random_state=1)\n",
    "tree_model.fit(X_train, y_train)"
   ]
  },
  {
   "cell_type": "code",
   "execution_count": 201,
   "metadata": {},
   "outputs": [],
   "source": [
    "def plot_feature_importance(importance,names,model_type):\n",
    "\n",
    "    feature_importance = np.array(importance)\n",
    "    feature_names = np.array(names)\n",
    "\n",
    "    data={'feature_names':feature_names,'feature_importance':feature_importance}\n",
    "    df = pd.DataFrame(data)\n",
    "\n",
    "    df.sort_values(by=['feature_importance'], ascending=False,inplace=True)\n",
    "\n",
    "    #Define size of bar plot\n",
    "    plt.figure(figsize=(10,8))\n",
    "    #Plot Searborn bar chart\n",
    "    sns.barplot(x=df['feature_importance'], y=df['feature_names'])\n",
    "    #Add chart labels\n",
    "    plt.title(model_type + 'FEATURE IMPORTANCE')\n",
    "    plt.xlabel('FEATURE IMPORTANCE')\n",
    "    plt.ylabel('FEATURE NAMES')"
   ]
  },
  {
   "cell_type": "code",
   "execution_count": 194,
   "metadata": {},
   "outputs": [
    {
     "data": {
      "text/html": [
       "<div>\n",
       "<style scoped>\n",
       "    .dataframe tbody tr th:only-of-type {\n",
       "        vertical-align: middle;\n",
       "    }\n",
       "\n",
       "    .dataframe tbody tr th {\n",
       "        vertical-align: top;\n",
       "    }\n",
       "\n",
       "    .dataframe thead th {\n",
       "        text-align: right;\n",
       "    }\n",
       "</style>\n",
       "<table border=\"1\" class=\"dataframe\">\n",
       "  <thead>\n",
       "    <tr style=\"text-align: right;\">\n",
       "      <th></th>\n",
       "      <th>feature</th>\n",
       "      <th>importance</th>\n",
       "    </tr>\n",
       "  </thead>\n",
       "  <tbody>\n",
       "    <tr>\n",
       "      <th>0</th>\n",
       "      <td>Alcoholic_beverages</td>\n",
       "      <td>0.022508</td>\n",
       "    </tr>\n",
       "    <tr>\n",
       "      <th>1</th>\n",
       "      <td>Animal_fats</td>\n",
       "      <td>0.008818</td>\n",
       "    </tr>\n",
       "    <tr>\n",
       "      <th>2</th>\n",
       "      <td>Animal_Products</td>\n",
       "      <td>0.006800</td>\n",
       "    </tr>\n",
       "    <tr>\n",
       "      <th>3</th>\n",
       "      <td>Aquatic_Products, Other</td>\n",
       "      <td>0.030953</td>\n",
       "    </tr>\n",
       "    <tr>\n",
       "      <th>4</th>\n",
       "      <td>Cereals_Excluding_Beer</td>\n",
       "      <td>0.014848</td>\n",
       "    </tr>\n",
       "    <tr>\n",
       "      <th>...</th>\n",
       "      <td>...</td>\n",
       "      <td>...</td>\n",
       "    </tr>\n",
       "    <tr>\n",
       "      <th>194</th>\n",
       "      <td>Country_Vietnam</td>\n",
       "      <td>0.000000</td>\n",
       "    </tr>\n",
       "    <tr>\n",
       "      <th>195</th>\n",
       "      <td>Country_Yemen</td>\n",
       "      <td>0.000000</td>\n",
       "    </tr>\n",
       "    <tr>\n",
       "      <th>196</th>\n",
       "      <td>Country_Zambia</td>\n",
       "      <td>0.000000</td>\n",
       "    </tr>\n",
       "    <tr>\n",
       "      <th>197</th>\n",
       "      <td>Country_Zimbabwe</td>\n",
       "      <td>0.000000</td>\n",
       "    </tr>\n",
       "    <tr>\n",
       "      <th>198</th>\n",
       "      <td>Undernourished_new</td>\n",
       "      <td>0.021597</td>\n",
       "    </tr>\n",
       "  </tbody>\n",
       "</table>\n",
       "<p>199 rows × 2 columns</p>\n",
       "</div>"
      ],
      "text/plain": [
       "                     feature  importance\n",
       "0        Alcoholic_beverages    0.022508\n",
       "1                Animal_fats    0.008818\n",
       "2            Animal_Products    0.006800\n",
       "3    Aquatic_Products, Other    0.030953\n",
       "4     Cereals_Excluding_Beer    0.014848\n",
       "..                       ...         ...\n",
       "194          Country_Vietnam    0.000000\n",
       "195            Country_Yemen    0.000000\n",
       "196           Country_Zambia    0.000000\n",
       "197         Country_Zimbabwe    0.000000\n",
       "198       Undernourished_new    0.021597\n",
       "\n",
       "[199 rows x 2 columns]"
      ]
     },
     "execution_count": 194,
     "metadata": {},
     "output_type": "execute_result"
    }
   ],
   "source": [
    "## feature importance of XGboosting\n",
    "pd.DataFrame({'feature':feature_cols, 'importance':xgb_best.feature_importances_})"
   ]
  },
  {
   "cell_type": "code",
   "execution_count": 202,
   "metadata": {},
   "outputs": [
    {
     "data": {
      "text/html": [
       "<div>\n",
       "<style scoped>\n",
       "    .dataframe tbody tr th:only-of-type {\n",
       "        vertical-align: middle;\n",
       "    }\n",
       "\n",
       "    .dataframe tbody tr th {\n",
       "        vertical-align: top;\n",
       "    }\n",
       "\n",
       "    .dataframe thead th {\n",
       "        text-align: right;\n",
       "    }\n",
       "</style>\n",
       "<table border=\"1\" class=\"dataframe\">\n",
       "  <thead>\n",
       "    <tr style=\"text-align: right;\">\n",
       "      <th></th>\n",
       "      <th>feature</th>\n",
       "      <th>importance</th>\n",
       "    </tr>\n",
       "  </thead>\n",
       "  <tbody>\n",
       "    <tr>\n",
       "      <th>0</th>\n",
       "      <td>Alcoholic_beverages</td>\n",
       "      <td>0.000000</td>\n",
       "    </tr>\n",
       "    <tr>\n",
       "      <th>1</th>\n",
       "      <td>Animal_fats</td>\n",
       "      <td>0.000000</td>\n",
       "    </tr>\n",
       "    <tr>\n",
       "      <th>2</th>\n",
       "      <td>Animal_Products</td>\n",
       "      <td>0.000000</td>\n",
       "    </tr>\n",
       "    <tr>\n",
       "      <th>3</th>\n",
       "      <td>Aquatic_Products, Other</td>\n",
       "      <td>0.052793</td>\n",
       "    </tr>\n",
       "    <tr>\n",
       "      <th>4</th>\n",
       "      <td>Cereals_Excluding_Beer</td>\n",
       "      <td>0.000000</td>\n",
       "    </tr>\n",
       "    <tr>\n",
       "      <th>...</th>\n",
       "      <td>...</td>\n",
       "      <td>...</td>\n",
       "    </tr>\n",
       "    <tr>\n",
       "      <th>194</th>\n",
       "      <td>Country_Vietnam</td>\n",
       "      <td>0.000000</td>\n",
       "    </tr>\n",
       "    <tr>\n",
       "      <th>195</th>\n",
       "      <td>Country_Yemen</td>\n",
       "      <td>0.000000</td>\n",
       "    </tr>\n",
       "    <tr>\n",
       "      <th>196</th>\n",
       "      <td>Country_Zambia</td>\n",
       "      <td>0.000000</td>\n",
       "    </tr>\n",
       "    <tr>\n",
       "      <th>197</th>\n",
       "      <td>Country_Zimbabwe</td>\n",
       "      <td>0.000000</td>\n",
       "    </tr>\n",
       "    <tr>\n",
       "      <th>198</th>\n",
       "      <td>Undernourished_new</td>\n",
       "      <td>0.035983</td>\n",
       "    </tr>\n",
       "  </tbody>\n",
       "</table>\n",
       "<p>199 rows × 2 columns</p>\n",
       "</div>"
      ],
      "text/plain": [
       "                     feature  importance\n",
       "0        Alcoholic_beverages    0.000000\n",
       "1                Animal_fats    0.000000\n",
       "2            Animal_Products    0.000000\n",
       "3    Aquatic_Products, Other    0.052793\n",
       "4     Cereals_Excluding_Beer    0.000000\n",
       "..                       ...         ...\n",
       "194          Country_Vietnam    0.000000\n",
       "195            Country_Yemen    0.000000\n",
       "196           Country_Zambia    0.000000\n",
       "197         Country_Zimbabwe    0.000000\n",
       "198       Undernourished_new    0.035983\n",
       "\n",
       "[199 rows x 2 columns]"
      ]
     },
     "execution_count": 202,
     "metadata": {},
     "output_type": "execute_result"
    }
   ],
   "source": [
    "## feature importance of tree\n",
    "pd.DataFrame({'feature':feature_cols, 'importance':tree_model.feature_importances_})"
   ]
  },
  {
   "cell_type": "code",
   "execution_count": 203,
   "metadata": {},
   "outputs": [
    {
     "data": {
      "image/png": "[encoded data removed]",
      "text/plain": [
       "<Figure size 720x576 with 1 Axes>"
      ]
     },
     "metadata": {
      "needs_background": "light"
     },
     "output_type": "display_data"
    }
   ],
   "source": [
    "plot_feature_importance(xgb_best.feature_importances_,feature_cols,'XGboosting')"
   ]
  },
  {
   "cell_type": "code",
   "execution_count": 205,
   "metadata": {},
   "outputs": [
    {
     "data": {
      "image/png": "[encoded data removed]",
      "text/plain": [
       "<Figure size 720x576 with 1 Axes>"
      ]
     },
     "metadata": {
      "needs_background": "light"
     },
     "output_type": "display_data"
    }
   ],
   "source": [
    "plot_feature_importance(tree_model.feature_importances_,feature_cols,'tree_model')"
   ]
  },
  {
   "cell_type": "code",
   "execution_count": 191,
   "metadata": {},
   "outputs": [],
   "source": [
    "pd.DataFrame({'feature_names':feature_cols,'feature_importance':xgb_best.feature_importances_}).sort_values(by=['feature_importance'], ascending=False,inplace=True)"
   ]
  },
  {
   "cell_type": "code",
   "execution_count": null,
   "metadata": {},
   "outputs": [],
   "source": [
    "## create tree graph"
   ]
  },
  {
   "cell_type": "code",
   "execution_count": 207,
   "metadata": {},
   "outputs": [],
   "source": [
    "from sklearn.tree import export_graphviz\n",
    "from sklearn import tree\n",
    "\n",
    "export_graphviz(tree_model, out_file='tree.dot', feature_names=feature_cols)"
   ]
  },
  {
   "cell_type": "code",
   "execution_count": 208,
   "metadata": {},
   "outputs": [
    {
     "data": {
      "text/plain": [
       "True"
      ]
     },
     "execution_count": 208,
     "metadata": {},
     "output_type": "execute_result"
    }
   ],
   "source": [
    "import pydotplus \n",
    "\n",
    "tree = tree.export_graphviz(tree_model, out_file=None) \n",
    "graph = pydotplus.graph_from_dot_data(tree) \n",
    "graph.write_jpg(\"output/food_deaths_tree.jpg\") "
   ]
  },
  {
   "cell_type": "markdown",
   "metadata": {},
   "source": [
    "## Conclusion and Next step"
   ]
  },
  {
   "cell_type": "markdown",
   "metadata": {},
   "source": [
    "Decision indicated only confirmed, alcoholic beverage, and meats are important features. \n",
    "The next step only choose the above three paramters to rerun the model and hypter tunning. "
   ]
  },
  {
   "cell_type": "code",
   "execution_count": null,
   "metadata": {},
   "outputs": [],
   "source": [
    "## conclusion "
   ]
  },
  {
   "cell_type": "markdown",
   "metadata": {},
   "source": [
    "The three algorithms have achieved the model performance using food and diets to predict the countries' deaths rate. Logistic regression, decision tree, and XGboosting show an accuracy score over .90. In terms of comparing the three models performance, XGboosting has the best results, traning MAE = 0.0003, and Test MAE =.02, Test MSE 0.001. The results are reconcile with the assumption. The XGboosting has better prediction accraracy. Finally, the decision tree model shows only a few features are important. The decision tree graph provides the reference features of the cutting score by which the people gets high death rate. Those are useful information for the nutritionist and physician to give the patients better treatment and suggestions.   "
   ]
  }
 ],
 "metadata": {
  "interpreter": {
   "hash": "ac59ebe37160ed0dfa835113d9b8498d9f09ceb179beaac4002f036b9467c963"
  },
  "kernelspec": {
   "display_name": "Python 3",
   "language": "python",
   "name": "python3"
  },
  "language_info": {
   "codemirror_mode": {
    "name": "ipython",
    "version": 3
   },
   "file_extension": ".py",
   "mimetype": "text/x-python",
   "name": "python",
   "nbconvert_exporter": "python",
   "pygments_lexer": "ipython3",
   "version": "3.8.5"
  }
 },
 "nbformat": 4,
 "nbformat_minor": 4
}
