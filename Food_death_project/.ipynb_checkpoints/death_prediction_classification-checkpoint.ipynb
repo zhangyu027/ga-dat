{
 "cells": [
  {
   "cell_type": "markdown",
   "metadata": {},
   "source": [
    "Title: Use food diet to predict deaths"
   ]
  },
  {
   "cell_type": "markdown",
   "metadata": {},
   "source": [
    "How can food and healthy diet help to improve healthy life and reduce the death rate? The current study indicated that a healthy diet is very important to prevent various infections. \n",
    "Keeping a healthy immune system is so important. However, little knowledge has been developed about which countries' deaths rate are associated with the different kinds of food intaking, neither do we know what is the importance of food with rich nutrition and improve eating habits to combat spreading diseases.\n",
    "This project uses three different machine learning algorithms to analyze the data of Food_Supply_kcal(percentage of energy intake). The model results should indicate how accurately the food diet can predict the countries' death rate. In addition, the ranking of feature importance should summarize the food and diet from high to low importance to predict deaths."
   ]
  },
  {
   "cell_type": "markdown",
   "metadata": {},
   "source": [
    "## load the packages and data"
   ]
  },
  {
   "cell_type": "code",
   "execution_count": 1,
   "metadata": {},
   "outputs": [],
   "source": [
    "import pandas as pd\n",
    "import numpy as np\n",
    "import seaborn as sns\n",
    "import matplotlib.pyplot as plt\n",
    "import statsmodels.api as sm\n",
    "from sklearn import metrics\n",
    "import pandas as pd\n",
    "import matplotlib.pyplot as plt\n",
    "\n",
    "from sklearn.impute import SimpleImputer\n",
    "from sklearn.preprocessing import StandardScaler # data normalization\n",
    "from sklearn.model_selection import train_test_split # data split\n",
    "from sklearn.tree import DecisionTreeClassifier # Decision tree algorithm\n",
    "from xgboost import XGBClassifier # XGBoost algorithm\n",
    "\n",
    "from sklearn.linear_model import LinearRegression\n",
    "from sklearn.linear_model import Ridge, Lasso, ElasticNet, LinearRegression, RidgeCV, LassoCV, ElasticNetCV\n",
    "from sklearn.model_selection import train_test_split\n",
    "from sklearn.model_selection import cross_val_score\n",
    "from sklearn.metrics import roc_auc_score\n",
    "from sklearn.metrics import confusion_matrix\n",
    "from xgboost import XGBClassifier, plot_importance\n",
    "from sklearn.metrics import recall_score\n",
    "\n",
    "from sklearn import metrics\n",
    "import numpy as np\n",
    "\n",
    "import pandas as pd # data processing\n",
    "import numpy as np # working with arrays\n",
    "import matplotlib.pyplot as plt # visualization\n",
    "import seaborn as sns\n",
    "from termcolor import colored as cl # text customization\n",
    "import itertools # advanced tools\n",
    "import plotly.graph_objs as go\n",
    "import plotly.offline as py\n",
    "import plotly.express as px\n",
    "\n",
    "\n",
    "plt.rcParams['figure.figsize'] = (6, 4)\n",
    "plt.rcParams['font.size'] = 14\n",
    "\n",
    "import seaborn as sns\n",
    "import matplotlib.pyplot as plt\n",
    "%matplotlib inline"
   ]
  },
  {
   "cell_type": "code",
   "execution_count": 2,
   "metadata": {},
   "outputs": [],
   "source": [
    "data_path = '/Users/Zhang/notebooks/LearningFuze/'\n",
    "image_path = '/Users/Zhang/notebooks/LearningFuze/output/'"
   ]
  },
  {
   "cell_type": "code",
   "execution_count": 3,
   "metadata": {},
   "outputs": [],
   "source": [
    "death = pd.read_csv(data_path + 'data/Food_Supply_Quantity_kg_Data.csv')"
   ]
  },
  {
   "cell_type": "code",
   "execution_count": 4,
   "metadata": {},
   "outputs": [
    {
     "data": {
      "text/html": [
       "<div>\n",
       "<style scoped>\n",
       "    .dataframe tbody tr th:only-of-type {\n",
       "        vertical-align: middle;\n",
       "    }\n",
       "\n",
       "    .dataframe tbody tr th {\n",
       "        vertical-align: top;\n",
       "    }\n",
       "\n",
       "    .dataframe thead th {\n",
       "        text-align: right;\n",
       "    }\n",
       "</style>\n",
       "<table border=\"1\" class=\"dataframe\">\n",
       "  <thead>\n",
       "    <tr style=\"text-align: right;\">\n",
       "      <th></th>\n",
       "      <th>Country</th>\n",
       "      <th>Alcoholic Beverages</th>\n",
       "      <th>Animal fats</th>\n",
       "      <th>Animal Products</th>\n",
       "      <th>Aquatic Products, Other</th>\n",
       "      <th>Cereals - Excluding Beer</th>\n",
       "      <th>Eggs</th>\n",
       "      <th>Fish, Seafood</th>\n",
       "      <th>Fruits - Excluding Wine</th>\n",
       "      <th>Meat</th>\n",
       "      <th>...</th>\n",
       "      <th>Vegetables</th>\n",
       "      <th>Vegetal Products</th>\n",
       "      <th>Obesity</th>\n",
       "      <th>Undernourished</th>\n",
       "      <th>Confirmed</th>\n",
       "      <th>Deaths</th>\n",
       "      <th>Recovered</th>\n",
       "      <th>Active</th>\n",
       "      <th>Population</th>\n",
       "      <th>Unit (all except Population)</th>\n",
       "    </tr>\n",
       "  </thead>\n",
       "  <tbody>\n",
       "    <tr>\n",
       "      <th>0</th>\n",
       "      <td>Afghanistan</td>\n",
       "      <td>0.0014</td>\n",
       "      <td>0.1973</td>\n",
       "      <td>9.4341</td>\n",
       "      <td>0.0</td>\n",
       "      <td>24.8097</td>\n",
       "      <td>0.2099</td>\n",
       "      <td>0.0350</td>\n",
       "      <td>5.3495</td>\n",
       "      <td>1.2020</td>\n",
       "      <td>...</td>\n",
       "      <td>6.7642</td>\n",
       "      <td>40.5645</td>\n",
       "      <td>4.5</td>\n",
       "      <td>29.8</td>\n",
       "      <td>0.142134</td>\n",
       "      <td>0.006186</td>\n",
       "      <td>0.123374</td>\n",
       "      <td>0.012574</td>\n",
       "      <td>38928000.0</td>\n",
       "      <td>%</td>\n",
       "    </tr>\n",
       "    <tr>\n",
       "      <th>1</th>\n",
       "      <td>Albania</td>\n",
       "      <td>1.6719</td>\n",
       "      <td>0.1357</td>\n",
       "      <td>18.7684</td>\n",
       "      <td>0.0</td>\n",
       "      <td>5.7817</td>\n",
       "      <td>0.5815</td>\n",
       "      <td>0.2126</td>\n",
       "      <td>6.7861</td>\n",
       "      <td>1.8845</td>\n",
       "      <td>...</td>\n",
       "      <td>11.7753</td>\n",
       "      <td>31.2304</td>\n",
       "      <td>22.3</td>\n",
       "      <td>6.2</td>\n",
       "      <td>2.967301</td>\n",
       "      <td>0.050951</td>\n",
       "      <td>1.792636</td>\n",
       "      <td>1.123714</td>\n",
       "      <td>2838000.0</td>\n",
       "      <td>%</td>\n",
       "    </tr>\n",
       "    <tr>\n",
       "      <th>2</th>\n",
       "      <td>Algeria</td>\n",
       "      <td>0.2711</td>\n",
       "      <td>0.0282</td>\n",
       "      <td>9.6334</td>\n",
       "      <td>0.0</td>\n",
       "      <td>13.6816</td>\n",
       "      <td>0.5277</td>\n",
       "      <td>0.2416</td>\n",
       "      <td>6.3801</td>\n",
       "      <td>1.1305</td>\n",
       "      <td>...</td>\n",
       "      <td>11.6484</td>\n",
       "      <td>40.3651</td>\n",
       "      <td>26.6</td>\n",
       "      <td>3.9</td>\n",
       "      <td>0.244897</td>\n",
       "      <td>0.006558</td>\n",
       "      <td>0.167572</td>\n",
       "      <td>0.070767</td>\n",
       "      <td>44357000.0</td>\n",
       "      <td>%</td>\n",
       "    </tr>\n",
       "    <tr>\n",
       "      <th>3</th>\n",
       "      <td>Angola</td>\n",
       "      <td>5.8087</td>\n",
       "      <td>0.0560</td>\n",
       "      <td>4.9278</td>\n",
       "      <td>0.0</td>\n",
       "      <td>9.1085</td>\n",
       "      <td>0.0587</td>\n",
       "      <td>1.7707</td>\n",
       "      <td>6.0005</td>\n",
       "      <td>2.0571</td>\n",
       "      <td>...</td>\n",
       "      <td>2.3041</td>\n",
       "      <td>45.0722</td>\n",
       "      <td>6.8</td>\n",
       "      <td>25</td>\n",
       "      <td>0.061687</td>\n",
       "      <td>0.001461</td>\n",
       "      <td>0.056808</td>\n",
       "      <td>0.003419</td>\n",
       "      <td>32522000.0</td>\n",
       "      <td>%</td>\n",
       "    </tr>\n",
       "    <tr>\n",
       "      <th>4</th>\n",
       "      <td>Antigua and Barbuda</td>\n",
       "      <td>3.5764</td>\n",
       "      <td>0.0087</td>\n",
       "      <td>16.6613</td>\n",
       "      <td>0.0</td>\n",
       "      <td>5.9960</td>\n",
       "      <td>0.2274</td>\n",
       "      <td>4.1489</td>\n",
       "      <td>10.7451</td>\n",
       "      <td>5.6888</td>\n",
       "      <td>...</td>\n",
       "      <td>5.4495</td>\n",
       "      <td>33.3233</td>\n",
       "      <td>19.1</td>\n",
       "      <td>NaN</td>\n",
       "      <td>0.293878</td>\n",
       "      <td>0.007143</td>\n",
       "      <td>0.190816</td>\n",
       "      <td>0.095918</td>\n",
       "      <td>98000.0</td>\n",
       "      <td>%</td>\n",
       "    </tr>\n",
       "  </tbody>\n",
       "</table>\n",
       "<p>5 rows × 32 columns</p>\n",
       "</div>"
      ],
      "text/plain": [
       "               Country  Alcoholic Beverages  Animal fats  Animal Products  \\\n",
       "0          Afghanistan               0.0014       0.1973           9.4341   \n",
       "1              Albania               1.6719       0.1357          18.7684   \n",
       "2              Algeria               0.2711       0.0282           9.6334   \n",
       "3               Angola               5.8087       0.0560           4.9278   \n",
       "4  Antigua and Barbuda               3.5764       0.0087          16.6613   \n",
       "\n",
       "   Aquatic Products, Other  Cereals - Excluding Beer    Eggs  Fish, Seafood  \\\n",
       "0                      0.0                   24.8097  0.2099         0.0350   \n",
       "1                      0.0                    5.7817  0.5815         0.2126   \n",
       "2                      0.0                   13.6816  0.5277         0.2416   \n",
       "3                      0.0                    9.1085  0.0587         1.7707   \n",
       "4                      0.0                    5.9960  0.2274         4.1489   \n",
       "\n",
       "   Fruits - Excluding Wine    Meat  ...  Vegetables  Vegetal Products  \\\n",
       "0                   5.3495  1.2020  ...      6.7642           40.5645   \n",
       "1                   6.7861  1.8845  ...     11.7753           31.2304   \n",
       "2                   6.3801  1.1305  ...     11.6484           40.3651   \n",
       "3                   6.0005  2.0571  ...      2.3041           45.0722   \n",
       "4                  10.7451  5.6888  ...      5.4495           33.3233   \n",
       "\n",
       "   Obesity  Undernourished  Confirmed    Deaths  Recovered    Active  \\\n",
       "0      4.5            29.8   0.142134  0.006186   0.123374  0.012574   \n",
       "1     22.3             6.2   2.967301  0.050951   1.792636  1.123714   \n",
       "2     26.6             3.9   0.244897  0.006558   0.167572  0.070767   \n",
       "3      6.8              25   0.061687  0.001461   0.056808  0.003419   \n",
       "4     19.1             NaN   0.293878  0.007143   0.190816  0.095918   \n",
       "\n",
       "   Population  Unit (all except Population)  \n",
       "0  38928000.0                             %  \n",
       "1   2838000.0                             %  \n",
       "2  44357000.0                             %  \n",
       "3  32522000.0                             %  \n",
       "4     98000.0                             %  \n",
       "\n",
       "[5 rows x 32 columns]"
      ]
     },
     "execution_count": 4,
     "metadata": {},
     "output_type": "execute_result"
    }
   ],
   "source": [
    "death.head()"
   ]
  },
  {
   "cell_type": "code",
   "execution_count": 5,
   "metadata": {},
   "outputs": [
    {
     "data": {
      "text/plain": [
       "Country                          object\n",
       "Alcoholic Beverages             float64\n",
       "Animal fats                     float64\n",
       "Animal Products                 float64\n",
       "Aquatic Products, Other         float64\n",
       "Cereals - Excluding Beer        float64\n",
       "Eggs                            float64\n",
       "Fish, Seafood                   float64\n",
       "Fruits - Excluding Wine         float64\n",
       "Meat                            float64\n",
       "Milk - Excluding Butter         float64\n",
       "Miscellaneous                   float64\n",
       "Offals                          float64\n",
       "Oilcrops                        float64\n",
       "Pulses                          float64\n",
       "Spices                          float64\n",
       "Starchy Roots                   float64\n",
       "Stimulants                      float64\n",
       "Sugar & Sweeteners              float64\n",
       "Sugar Crops                     float64\n",
       "Treenuts                        float64\n",
       "Vegetable Oils                  float64\n",
       "Vegetables                      float64\n",
       "Vegetal Products                float64\n",
       "Obesity                         float64\n",
       "Undernourished                   object\n",
       "Confirmed                       float64\n",
       "Deaths                          float64\n",
       "Recovered                       float64\n",
       "Active                          float64\n",
       "Population                      float64\n",
       "Unit (all except Population)     object\n",
       "dtype: object"
      ]
     },
     "execution_count": 5,
     "metadata": {},
     "output_type": "execute_result"
    }
   ],
   "source": [
    "death.dtypes"
   ]
  },
  {
   "cell_type": "code",
   "execution_count": 6,
   "metadata": {},
   "outputs": [],
   "source": [
    "death.columns = ['Country', 'Alcoholic_beverages', 'Animal_fats', 'Animal_Products',\\\n",
    "       'Aquatic_Products, Other', 'Cereals_Excluding_Beer', 'Eggs',\\\n",
    "       'Fish_Seafood', 'Fruits_Excluding Wine', 'Meat',\\\n",
    "       'Milk_Excluding Butter', 'Miscellaneous', 'Offals', 'Oilcrops',\\\n",
    "       'Pulses', 'Spices', 'Starchy Roots', 'Stimulants', 'Sugar_Sweeteners',\\\n",
    "       'Sugar_Crops', 'Treenuts', 'Vegetable Oils', 'Vegetables',\\\n",
    "       'Vegetal_Products', 'Obesity', 'Undernourished', 'Confirmed', 'Deaths',\\\n",
    "       'Recovered', 'Active', 'Population', 'Unit']"
   ]
  },
  {
   "cell_type": "code",
   "execution_count": 7,
   "metadata": {},
   "outputs": [
    {
     "data": {
      "text/plain": [
       "(170, 32)"
      ]
     },
     "execution_count": 7,
     "metadata": {},
     "output_type": "execute_result"
    }
   ],
   "source": [
    "death.shape"
   ]
  },
  {
   "cell_type": "code",
   "execution_count": 8,
   "metadata": {},
   "outputs": [
    {
     "data": {
      "text/plain": [
       "Index(['Country', 'Alcoholic_beverages', 'Animal_fats', 'Animal_Products',\n",
       "       'Aquatic_Products, Other', 'Cereals_Excluding_Beer', 'Eggs',\n",
       "       'Fish_Seafood', 'Fruits_Excluding Wine', 'Meat',\n",
       "       'Milk_Excluding Butter', 'Miscellaneous', 'Offals', 'Oilcrops',\n",
       "       'Pulses', 'Spices', 'Starchy Roots', 'Stimulants', 'Sugar_Sweeteners',\n",
       "       'Sugar_Crops', 'Treenuts', 'Vegetable Oils', 'Vegetables',\n",
       "       'Vegetal_Products', 'Obesity', 'Undernourished', 'Confirmed', 'Deaths',\n",
       "       'Recovered', 'Active', 'Population', 'Unit'],\n",
       "      dtype='object')"
      ]
     },
     "execution_count": 8,
     "metadata": {},
     "output_type": "execute_result"
    }
   ],
   "source": [
    "death.columns"
   ]
  },
  {
   "cell_type": "markdown",
   "metadata": {},
   "source": [
    "##  data cleaning and preprocessing"
   ]
  },
  {
   "cell_type": "code",
   "execution_count": 9,
   "metadata": {},
   "outputs": [],
   "source": [
    "death.drop_duplicates(inplace=True)"
   ]
  },
  {
   "cell_type": "code",
   "execution_count": 10,
   "metadata": {},
   "outputs": [
    {
     "data": {
      "text/plain": [
       "154"
      ]
     },
     "execution_count": 10,
     "metadata": {},
     "output_type": "execute_result"
    }
   ],
   "source": [
    "len(death.dropna())"
   ]
  },
  {
   "cell_type": "code",
   "execution_count": 11,
   "metadata": {},
   "outputs": [],
   "source": [
    "death.dropna(inplace=True)"
   ]
  },
  {
   "cell_type": "code",
   "execution_count": 12,
   "metadata": {},
   "outputs": [
    {
     "data": {
      "text/plain": [
       "Country                    0\n",
       "Alcoholic_beverages        0\n",
       "Animal_fats                0\n",
       "Animal_Products            0\n",
       "Aquatic_Products, Other    0\n",
       "Cereals_Excluding_Beer     0\n",
       "Eggs                       0\n",
       "Fish_Seafood               0\n",
       "Fruits_Excluding Wine      0\n",
       "Meat                       0\n",
       "Milk_Excluding Butter      0\n",
       "Miscellaneous              0\n",
       "Offals                     0\n",
       "Oilcrops                   0\n",
       "Pulses                     0\n",
       "Spices                     0\n",
       "Starchy Roots              0\n",
       "Stimulants                 0\n",
       "Sugar_Sweeteners           0\n",
       "Sugar_Crops                0\n",
       "Treenuts                   0\n",
       "Vegetable Oils             0\n",
       "Vegetables                 0\n",
       "Vegetal_Products           0\n",
       "Obesity                    0\n",
       "Undernourished             0\n",
       "Confirmed                  0\n",
       "Deaths                     0\n",
       "Recovered                  0\n",
       "Active                     0\n",
       "Population                 0\n",
       "Unit                       0\n",
       "dtype: int64"
      ]
     },
     "execution_count": 12,
     "metadata": {},
     "output_type": "execute_result"
    }
   ],
   "source": [
    "death.isnull().sum()"
   ]
  },
  {
   "cell_type": "code",
   "execution_count": 13,
   "metadata": {},
   "outputs": [
    {
     "data": {
      "text/html": [
       "<div>\n",
       "<style scoped>\n",
       "    .dataframe tbody tr th:only-of-type {\n",
       "        vertical-align: middle;\n",
       "    }\n",
       "\n",
       "    .dataframe tbody tr th {\n",
       "        vertical-align: top;\n",
       "    }\n",
       "\n",
       "    .dataframe thead th {\n",
       "        text-align: right;\n",
       "    }\n",
       "</style>\n",
       "<table border=\"1\" class=\"dataframe\">\n",
       "  <thead>\n",
       "    <tr style=\"text-align: right;\">\n",
       "      <th></th>\n",
       "      <th>Country</th>\n",
       "      <th>Alcoholic_beverages</th>\n",
       "      <th>Animal_fats</th>\n",
       "      <th>Animal_Products</th>\n",
       "      <th>Aquatic_Products, Other</th>\n",
       "      <th>Cereals_Excluding_Beer</th>\n",
       "      <th>Eggs</th>\n",
       "      <th>Fish_Seafood</th>\n",
       "      <th>Fruits_Excluding Wine</th>\n",
       "      <th>Meat</th>\n",
       "      <th>...</th>\n",
       "      <th>Vegetables</th>\n",
       "      <th>Vegetal_Products</th>\n",
       "      <th>Obesity</th>\n",
       "      <th>Undernourished</th>\n",
       "      <th>Confirmed</th>\n",
       "      <th>Deaths</th>\n",
       "      <th>Recovered</th>\n",
       "      <th>Active</th>\n",
       "      <th>Population</th>\n",
       "      <th>Unit</th>\n",
       "    </tr>\n",
       "  </thead>\n",
       "  <tbody>\n",
       "    <tr>\n",
       "      <th>0</th>\n",
       "      <td>Afghanistan</td>\n",
       "      <td>0.0014</td>\n",
       "      <td>0.1973</td>\n",
       "      <td>9.4341</td>\n",
       "      <td>0.0</td>\n",
       "      <td>24.8097</td>\n",
       "      <td>0.2099</td>\n",
       "      <td>0.0350</td>\n",
       "      <td>5.3495</td>\n",
       "      <td>1.2020</td>\n",
       "      <td>...</td>\n",
       "      <td>6.7642</td>\n",
       "      <td>40.5645</td>\n",
       "      <td>4.5</td>\n",
       "      <td>29.8</td>\n",
       "      <td>0.142134</td>\n",
       "      <td>0.006186</td>\n",
       "      <td>0.123374</td>\n",
       "      <td>0.012574</td>\n",
       "      <td>38928000.0</td>\n",
       "      <td>%</td>\n",
       "    </tr>\n",
       "    <tr>\n",
       "      <th>1</th>\n",
       "      <td>Albania</td>\n",
       "      <td>1.6719</td>\n",
       "      <td>0.1357</td>\n",
       "      <td>18.7684</td>\n",
       "      <td>0.0</td>\n",
       "      <td>5.7817</td>\n",
       "      <td>0.5815</td>\n",
       "      <td>0.2126</td>\n",
       "      <td>6.7861</td>\n",
       "      <td>1.8845</td>\n",
       "      <td>...</td>\n",
       "      <td>11.7753</td>\n",
       "      <td>31.2304</td>\n",
       "      <td>22.3</td>\n",
       "      <td>6.2</td>\n",
       "      <td>2.967301</td>\n",
       "      <td>0.050951</td>\n",
       "      <td>1.792636</td>\n",
       "      <td>1.123714</td>\n",
       "      <td>2838000.0</td>\n",
       "      <td>%</td>\n",
       "    </tr>\n",
       "    <tr>\n",
       "      <th>2</th>\n",
       "      <td>Algeria</td>\n",
       "      <td>0.2711</td>\n",
       "      <td>0.0282</td>\n",
       "      <td>9.6334</td>\n",
       "      <td>0.0</td>\n",
       "      <td>13.6816</td>\n",
       "      <td>0.5277</td>\n",
       "      <td>0.2416</td>\n",
       "      <td>6.3801</td>\n",
       "      <td>1.1305</td>\n",
       "      <td>...</td>\n",
       "      <td>11.6484</td>\n",
       "      <td>40.3651</td>\n",
       "      <td>26.6</td>\n",
       "      <td>3.9</td>\n",
       "      <td>0.244897</td>\n",
       "      <td>0.006558</td>\n",
       "      <td>0.167572</td>\n",
       "      <td>0.070767</td>\n",
       "      <td>44357000.0</td>\n",
       "      <td>%</td>\n",
       "    </tr>\n",
       "    <tr>\n",
       "      <th>3</th>\n",
       "      <td>Angola</td>\n",
       "      <td>5.8087</td>\n",
       "      <td>0.0560</td>\n",
       "      <td>4.9278</td>\n",
       "      <td>0.0</td>\n",
       "      <td>9.1085</td>\n",
       "      <td>0.0587</td>\n",
       "      <td>1.7707</td>\n",
       "      <td>6.0005</td>\n",
       "      <td>2.0571</td>\n",
       "      <td>...</td>\n",
       "      <td>2.3041</td>\n",
       "      <td>45.0722</td>\n",
       "      <td>6.8</td>\n",
       "      <td>25</td>\n",
       "      <td>0.061687</td>\n",
       "      <td>0.001461</td>\n",
       "      <td>0.056808</td>\n",
       "      <td>0.003419</td>\n",
       "      <td>32522000.0</td>\n",
       "      <td>%</td>\n",
       "    </tr>\n",
       "    <tr>\n",
       "      <th>5</th>\n",
       "      <td>Argentina</td>\n",
       "      <td>4.2672</td>\n",
       "      <td>0.2234</td>\n",
       "      <td>19.3454</td>\n",
       "      <td>0.0</td>\n",
       "      <td>8.4102</td>\n",
       "      <td>0.9979</td>\n",
       "      <td>0.4693</td>\n",
       "      <td>6.0435</td>\n",
       "      <td>7.0421</td>\n",
       "      <td>...</td>\n",
       "      <td>4.3503</td>\n",
       "      <td>30.6559</td>\n",
       "      <td>28.5</td>\n",
       "      <td>4.6</td>\n",
       "      <td>4.356147</td>\n",
       "      <td>0.108227</td>\n",
       "      <td>3.905192</td>\n",
       "      <td>0.342729</td>\n",
       "      <td>45377000.0</td>\n",
       "      <td>%</td>\n",
       "    </tr>\n",
       "  </tbody>\n",
       "</table>\n",
       "<p>5 rows × 32 columns</p>\n",
       "</div>"
      ],
      "text/plain": [
       "       Country  Alcoholic_beverages  Animal_fats  Animal_Products  \\\n",
       "0  Afghanistan               0.0014       0.1973           9.4341   \n",
       "1      Albania               1.6719       0.1357          18.7684   \n",
       "2      Algeria               0.2711       0.0282           9.6334   \n",
       "3       Angola               5.8087       0.0560           4.9278   \n",
       "5    Argentina               4.2672       0.2234          19.3454   \n",
       "\n",
       "   Aquatic_Products, Other  Cereals_Excluding_Beer    Eggs  Fish_Seafood  \\\n",
       "0                      0.0                 24.8097  0.2099        0.0350   \n",
       "1                      0.0                  5.7817  0.5815        0.2126   \n",
       "2                      0.0                 13.6816  0.5277        0.2416   \n",
       "3                      0.0                  9.1085  0.0587        1.7707   \n",
       "5                      0.0                  8.4102  0.9979        0.4693   \n",
       "\n",
       "   Fruits_Excluding Wine    Meat  ...  Vegetables  Vegetal_Products  Obesity  \\\n",
       "0                 5.3495  1.2020  ...      6.7642           40.5645      4.5   \n",
       "1                 6.7861  1.8845  ...     11.7753           31.2304     22.3   \n",
       "2                 6.3801  1.1305  ...     11.6484           40.3651     26.6   \n",
       "3                 6.0005  2.0571  ...      2.3041           45.0722      6.8   \n",
       "5                 6.0435  7.0421  ...      4.3503           30.6559     28.5   \n",
       "\n",
       "   Undernourished  Confirmed    Deaths  Recovered    Active  Population  Unit  \n",
       "0            29.8   0.142134  0.006186   0.123374  0.012574  38928000.0     %  \n",
       "1             6.2   2.967301  0.050951   1.792636  1.123714   2838000.0     %  \n",
       "2             3.9   0.244897  0.006558   0.167572  0.070767  44357000.0     %  \n",
       "3              25   0.061687  0.001461   0.056808  0.003419  32522000.0     %  \n",
       "5             4.6   4.356147  0.108227   3.905192  0.342729  45377000.0     %  \n",
       "\n",
       "[5 rows x 32 columns]"
      ]
     },
     "execution_count": 13,
     "metadata": {},
     "output_type": "execute_result"
    }
   ],
   "source": [
    "death.head()"
   ]
  },
  {
   "cell_type": "code",
   "execution_count": 14,
   "metadata": {},
   "outputs": [
    {
     "data": {
      "text/plain": [
       "(154, 32)"
      ]
     },
     "execution_count": 14,
     "metadata": {},
     "output_type": "execute_result"
    }
   ],
   "source": [
    "death.shape"
   ]
  },
  {
   "cell_type": "code",
   "execution_count": 15,
   "metadata": {},
   "outputs": [
    {
     "name": "stdout",
     "output_type": "stream",
     "text": [
      "Categorical variables:\n",
      "['Country', 'Undernourished', 'Unit']\n"
     ]
    }
   ],
   "source": [
    "s = (death.dtypes == 'object')\n",
    "object_cols = list(s[s].index)\n",
    "\n",
    "print(\"Categorical variables:\")\n",
    "print(object_cols)"
   ]
  },
  {
   "cell_type": "code",
   "execution_count": 16,
   "metadata": {},
   "outputs": [],
   "source": [
    "## reclassify \"Undernourished\"\n",
    "## since strings has some values form '<2.5', so replace the categorical values. "
   ]
  },
  {
   "cell_type": "code",
   "execution_count": 17,
   "metadata": {},
   "outputs": [],
   "source": [
    "death['Undernourished_new'] = np.where(death['Undernourished'] == \"<2.5\", 0, 1)"
   ]
  },
  {
   "cell_type": "code",
   "execution_count": 18,
   "metadata": {},
   "outputs": [
    {
     "data": {
      "text/plain": [
       "1    111\n",
       "0     43\n",
       "Name: Undernourished_new, dtype: int64"
      ]
     },
     "execution_count": 18,
     "metadata": {},
     "output_type": "execute_result"
    }
   ],
   "source": [
    "death['Undernourished_new'].value_counts()"
   ]
  },
  {
   "cell_type": "code",
   "execution_count": 19,
   "metadata": {},
   "outputs": [],
   "source": [
    "death['Deaths'] = pd.qcut(death['Deaths'], q=2, labels=[0, 1])"
   ]
  },
  {
   "cell_type": "code",
   "execution_count": 20,
   "metadata": {},
   "outputs": [
    {
     "data": {
      "text/plain": [
       "1    77\n",
       "0    77\n",
       "Name: Deaths, dtype: int64"
      ]
     },
     "execution_count": 20,
     "metadata": {},
     "output_type": "execute_result"
    }
   ],
   "source": [
    "death['Deaths'].value_counts()"
   ]
  },
  {
   "cell_type": "code",
   "execution_count": 21,
   "metadata": {},
   "outputs": [],
   "source": [
    "death_new = death.drop(['Country','Undernourished','Unit'],axis = 1)"
   ]
  },
  {
   "cell_type": "code",
   "execution_count": 22,
   "metadata": {},
   "outputs": [
    {
     "data": {
      "text/plain": [
       "<bound method NDFrame.describe of      Alcoholic_beverages  Animal_fats  Animal_Products  \\\n",
       "0                 0.0014       0.1973           9.4341   \n",
       "1                 1.6719       0.1357          18.7684   \n",
       "2                 0.2711       0.0282           9.6334   \n",
       "3                 5.8087       0.0560           4.9278   \n",
       "5                 4.2672       0.2234          19.3454   \n",
       "..                   ...          ...              ...   \n",
       "165               2.5952       0.0403          14.7565   \n",
       "166               1.4591       0.1640           8.5765   \n",
       "167               0.0364       0.0446           5.7874   \n",
       "168               5.7360       0.0829           6.0197   \n",
       "169               4.0552       0.0755           8.1489   \n",
       "\n",
       "     Aquatic_Products, Other  Cereals_Excluding_Beer    Eggs  Fish_Seafood  \\\n",
       "0                     0.0000                 24.8097  0.2099        0.0350   \n",
       "1                     0.0000                  5.7817  0.5815        0.2126   \n",
       "2                     0.0000                 13.6816  0.5277        0.2416   \n",
       "3                     0.0000                  9.1085  0.0587        1.7707   \n",
       "5                     0.0000                  8.4102  0.9979        0.4693   \n",
       "..                       ...                     ...     ...           ...   \n",
       "165                   0.0000                 12.9253  0.3389        0.9456   \n",
       "166                   0.0042                 16.8740  0.3077        2.6392   \n",
       "167                   0.0000                 27.2077  0.2579        0.5240   \n",
       "168                   0.0000                 21.1938  0.3399        1.6924   \n",
       "169                   0.0000                 22.6240  0.2678        0.5518   \n",
       "\n",
       "     Fruits_Excluding Wine    Meat  Milk_Excluding Butter  ...  \\\n",
       "0                   5.3495  1.2020                 7.5828  ...   \n",
       "1                   6.7861  1.8845                15.7213  ...   \n",
       "2                   6.3801  1.1305                 7.6189  ...   \n",
       "3                   6.0005  2.0571                 0.8311  ...   \n",
       "5                   6.0435  7.0421                10.2328  ...   \n",
       "..                     ...     ...                    ...  ...   \n",
       "165                 7.6460  3.8328                 9.3920  ...   \n",
       "166                 5.9029  4.4382                 0.6069  ...   \n",
       "167                 5.1344  2.7871                 1.8911  ...   \n",
       "168                 1.0183  1.8427                 1.7570  ...   \n",
       "169                 2.2000  2.6142                 4.4310  ...   \n",
       "\n",
       "     Vegetable Oils  Vegetables  Vegetal_Products  Obesity  Confirmed  Deaths  \\\n",
       "0            0.5345      6.7642           40.5645      4.5   0.142134       0   \n",
       "1            0.3261     11.7753           31.2304     22.3   2.967301       1   \n",
       "2            1.0310     11.6484           40.3651     26.6   0.244897       0   \n",
       "3            0.6463      2.3041           45.0722      6.8   0.061687       0   \n",
       "5            0.9541      4.3503           30.6559     28.5   4.356147       1   \n",
       "..              ...         ...               ...      ...        ...     ...   \n",
       "165          1.3734      4.1474           35.2416     25.2   0.452585       0   \n",
       "166          0.2201     11.9508           41.4232      2.1   0.002063       0   \n",
       "167          1.0811      3.2135           44.2126     14.1   0.007131       0   \n",
       "168          0.6657      3.4649           43.9789      6.5   0.334133       0   \n",
       "169          1.7103      2.3213           41.8526     12.3   0.232033       0   \n",
       "\n",
       "     Recovered    Active  Population  Undernourished_new  \n",
       "0     0.123374  0.012574  38928000.0                   1  \n",
       "1     1.792636  1.123714   2838000.0                   1  \n",
       "2     0.167572  0.070767  44357000.0                   1  \n",
       "3     0.056808  0.003419  32522000.0                   1  \n",
       "5     3.905192  0.342729  45377000.0                   1  \n",
       "..         ...       ...         ...                 ...  \n",
       "165   0.424399  0.023899  28645000.0                   1  \n",
       "166   0.001526  0.000501  96209000.0                   1  \n",
       "167   0.004788  0.000282  29826000.0                   1  \n",
       "168   0.290524  0.039045  18384000.0                   1  \n",
       "169   0.190964  0.032214  14863000.0                   1  \n",
       "\n",
       "[154 rows x 30 columns]>"
      ]
     },
     "execution_count": 22,
     "metadata": {},
     "output_type": "execute_result"
    }
   ],
   "source": [
    "death_new.describe"
   ]
  },
  {
   "cell_type": "code",
   "execution_count": 23,
   "metadata": {},
   "outputs": [
    {
     "data": {
      "text/plain": [
       "Alcoholic_beverages         float64\n",
       "Animal_fats                 float64\n",
       "Animal_Products             float64\n",
       "Aquatic_Products, Other     float64\n",
       "Cereals_Excluding_Beer      float64\n",
       "Eggs                        float64\n",
       "Fish_Seafood                float64\n",
       "Fruits_Excluding Wine       float64\n",
       "Meat                        float64\n",
       "Milk_Excluding Butter       float64\n",
       "Miscellaneous               float64\n",
       "Offals                      float64\n",
       "Oilcrops                    float64\n",
       "Pulses                      float64\n",
       "Spices                      float64\n",
       "Starchy Roots               float64\n",
       "Stimulants                  float64\n",
       "Sugar_Sweeteners            float64\n",
       "Sugar_Crops                 float64\n",
       "Treenuts                    float64\n",
       "Vegetable Oils              float64\n",
       "Vegetables                  float64\n",
       "Vegetal_Products            float64\n",
       "Obesity                     float64\n",
       "Confirmed                   float64\n",
       "Deaths                     category\n",
       "Recovered                   float64\n",
       "Active                      float64\n",
       "Population                  float64\n",
       "Undernourished_new            int32\n",
       "dtype: object"
      ]
     },
     "execution_count": 23,
     "metadata": {},
     "output_type": "execute_result"
    }
   ],
   "source": [
    "death_new.dtypes"
   ]
  },
  {
   "cell_type": "code",
   "execution_count": 104,
   "metadata": {},
   "outputs": [
    {
     "data": {
      "image/png": "[encoded data removed]",
      "text/plain": [
       "<Figure size 432x288 with 2 Axes>"
      ]
     },
     "metadata": {
      "needs_background": "light"
     },
     "output_type": "display_data"
    }
   ],
   "source": [
    "## heatmaps to check out the correlation of continous variables\n",
    "sns.heatmap(death_new.corr(), vmin=-1, vmax=1)\n",
    "plt.savefig('output/heatmap.png', transparent=True,dpi=300, bbox_inches='tight')\n",
    "plt.grid(b=None)\n",
    "plt.show()"
   ]
  },
  {
   "cell_type": "code",
   "execution_count": 25,
   "metadata": {},
   "outputs": [
    {
     "data": {
      "text/html": [
       "<div>\n",
       "<style scoped>\n",
       "    .dataframe tbody tr th:only-of-type {\n",
       "        vertical-align: middle;\n",
       "    }\n",
       "\n",
       "    .dataframe tbody tr th {\n",
       "        vertical-align: top;\n",
       "    }\n",
       "\n",
       "    .dataframe thead th {\n",
       "        text-align: right;\n",
       "    }\n",
       "</style>\n",
       "<table border=\"1\" class=\"dataframe\">\n",
       "  <thead>\n",
       "    <tr style=\"text-align: right;\">\n",
       "      <th></th>\n",
       "      <th>Alcoholic_beverages</th>\n",
       "      <th>Animal_fats</th>\n",
       "      <th>Animal_Products</th>\n",
       "      <th>Aquatic_Products, Other</th>\n",
       "      <th>Cereals_Excluding_Beer</th>\n",
       "      <th>Eggs</th>\n",
       "      <th>Fish_Seafood</th>\n",
       "      <th>Fruits_Excluding Wine</th>\n",
       "      <th>Meat</th>\n",
       "      <th>Milk_Excluding Butter</th>\n",
       "      <th>...</th>\n",
       "      <th>Treenuts</th>\n",
       "      <th>Vegetable Oils</th>\n",
       "      <th>Vegetables</th>\n",
       "      <th>Vegetal_Products</th>\n",
       "      <th>Obesity</th>\n",
       "      <th>Confirmed</th>\n",
       "      <th>Recovered</th>\n",
       "      <th>Active</th>\n",
       "      <th>Population</th>\n",
       "      <th>Undernourished_new</th>\n",
       "    </tr>\n",
       "  </thead>\n",
       "  <tbody>\n",
       "    <tr>\n",
       "      <th>Alcoholic_beverages</th>\n",
       "      <td>1.000000</td>\n",
       "      <td>0.447390</td>\n",
       "      <td>0.344638</td>\n",
       "      <td>0.062231</td>\n",
       "      <td>-0.367311</td>\n",
       "      <td>0.156121</td>\n",
       "      <td>-0.042668</td>\n",
       "      <td>-0.210673</td>\n",
       "      <td>0.311262</td>\n",
       "      <td>0.280224</td>\n",
       "      <td>...</td>\n",
       "      <td>-0.104040</td>\n",
       "      <td>-0.098796</td>\n",
       "      <td>-0.249762</td>\n",
       "      <td>-0.344689</td>\n",
       "      <td>0.154724</td>\n",
       "      <td>0.374953</td>\n",
       "      <td>0.272484</td>\n",
       "      <td>0.254625</td>\n",
       "      <td>-0.098326</td>\n",
       "      <td>-0.431636</td>\n",
       "    </tr>\n",
       "    <tr>\n",
       "      <th>Animal_fats</th>\n",
       "      <td>0.447390</td>\n",
       "      <td>1.000000</td>\n",
       "      <td>0.641668</td>\n",
       "      <td>0.003727</td>\n",
       "      <td>-0.438582</td>\n",
       "      <td>0.280520</td>\n",
       "      <td>-0.046799</td>\n",
       "      <td>-0.227496</td>\n",
       "      <td>0.388732</td>\n",
       "      <td>0.569623</td>\n",
       "      <td>...</td>\n",
       "      <td>0.043551</td>\n",
       "      <td>-0.151480</td>\n",
       "      <td>0.002801</td>\n",
       "      <td>-0.641587</td>\n",
       "      <td>0.386494</td>\n",
       "      <td>0.488224</td>\n",
       "      <td>0.379997</td>\n",
       "      <td>0.297494</td>\n",
       "      <td>-0.103724</td>\n",
       "      <td>-0.605733</td>\n",
       "    </tr>\n",
       "    <tr>\n",
       "      <th>Animal_Products</th>\n",
       "      <td>0.344638</td>\n",
       "      <td>0.641668</td>\n",
       "      <td>1.000000</td>\n",
       "      <td>0.001206</td>\n",
       "      <td>-0.540737</td>\n",
       "      <td>0.496269</td>\n",
       "      <td>-0.030432</td>\n",
       "      <td>-0.222920</td>\n",
       "      <td>0.613981</td>\n",
       "      <td>0.917874</td>\n",
       "      <td>...</td>\n",
       "      <td>0.095812</td>\n",
       "      <td>-0.056164</td>\n",
       "      <td>0.100942</td>\n",
       "      <td>-1.000000</td>\n",
       "      <td>0.547084</td>\n",
       "      <td>0.603015</td>\n",
       "      <td>0.419130</td>\n",
       "      <td>0.441631</td>\n",
       "      <td>0.004823</td>\n",
       "      <td>-0.651798</td>\n",
       "    </tr>\n",
       "    <tr>\n",
       "      <th>Aquatic_Products, Other</th>\n",
       "      <td>0.062231</td>\n",
       "      <td>0.003727</td>\n",
       "      <td>0.001206</td>\n",
       "      <td>1.000000</td>\n",
       "      <td>-0.012715</td>\n",
       "      <td>0.074120</td>\n",
       "      <td>0.180546</td>\n",
       "      <td>-0.041451</td>\n",
       "      <td>0.082450</td>\n",
       "      <td>-0.098856</td>\n",
       "      <td>...</td>\n",
       "      <td>0.021792</td>\n",
       "      <td>0.058700</td>\n",
       "      <td>0.143484</td>\n",
       "      <td>-0.001181</td>\n",
       "      <td>-0.107123</td>\n",
       "      <td>-0.076489</td>\n",
       "      <td>-0.066191</td>\n",
       "      <td>-0.037324</td>\n",
       "      <td>0.023276</td>\n",
       "      <td>-0.131591</td>\n",
       "    </tr>\n",
       "    <tr>\n",
       "      <th>Cereals_Excluding_Beer</th>\n",
       "      <td>-0.367311</td>\n",
       "      <td>-0.438582</td>\n",
       "      <td>-0.540737</td>\n",
       "      <td>-0.012715</td>\n",
       "      <td>1.000000</td>\n",
       "      <td>-0.219562</td>\n",
       "      <td>0.032695</td>\n",
       "      <td>-0.265380</td>\n",
       "      <td>-0.404062</td>\n",
       "      <td>-0.479175</td>\n",
       "      <td>...</td>\n",
       "      <td>-0.071308</td>\n",
       "      <td>0.230030</td>\n",
       "      <td>-0.112552</td>\n",
       "      <td>0.540648</td>\n",
       "      <td>-0.537173</td>\n",
       "      <td>-0.473466</td>\n",
       "      <td>-0.348239</td>\n",
       "      <td>-0.319499</td>\n",
       "      <td>0.069644</td>\n",
       "      <td>0.500598</td>\n",
       "    </tr>\n",
       "    <tr>\n",
       "      <th>Eggs</th>\n",
       "      <td>0.156121</td>\n",
       "      <td>0.280520</td>\n",
       "      <td>0.496269</td>\n",
       "      <td>0.074120</td>\n",
       "      <td>-0.219562</td>\n",
       "      <td>1.000000</td>\n",
       "      <td>0.222552</td>\n",
       "      <td>-0.055424</td>\n",
       "      <td>0.495525</td>\n",
       "      <td>0.293023</td>\n",
       "      <td>...</td>\n",
       "      <td>0.174107</td>\n",
       "      <td>0.151614</td>\n",
       "      <td>0.180372</td>\n",
       "      <td>-0.496211</td>\n",
       "      <td>0.409766</td>\n",
       "      <td>0.366708</td>\n",
       "      <td>0.299521</td>\n",
       "      <td>0.203775</td>\n",
       "      <td>0.134164</td>\n",
       "      <td>-0.311747</td>\n",
       "    </tr>\n",
       "    <tr>\n",
       "      <th>Fish_Seafood</th>\n",
       "      <td>-0.042668</td>\n",
       "      <td>-0.046799</td>\n",
       "      <td>-0.030432</td>\n",
       "      <td>0.180546</td>\n",
       "      <td>0.032695</td>\n",
       "      <td>0.222552</td>\n",
       "      <td>1.000000</td>\n",
       "      <td>-0.013974</td>\n",
       "      <td>0.073361</td>\n",
       "      <td>-0.302167</td>\n",
       "      <td>...</td>\n",
       "      <td>0.168877</td>\n",
       "      <td>-0.018984</td>\n",
       "      <td>-0.067989</td>\n",
       "      <td>0.030392</td>\n",
       "      <td>-0.151210</td>\n",
       "      <td>-0.117036</td>\n",
       "      <td>-0.132975</td>\n",
       "      <td>-0.008017</td>\n",
       "      <td>0.079407</td>\n",
       "      <td>-0.009830</td>\n",
       "    </tr>\n",
       "    <tr>\n",
       "      <th>Fruits_Excluding Wine</th>\n",
       "      <td>-0.210673</td>\n",
       "      <td>-0.227496</td>\n",
       "      <td>-0.222920</td>\n",
       "      <td>-0.041451</td>\n",
       "      <td>-0.265380</td>\n",
       "      <td>-0.055424</td>\n",
       "      <td>-0.013974</td>\n",
       "      <td>1.000000</td>\n",
       "      <td>-0.037856</td>\n",
       "      <td>-0.224725</td>\n",
       "      <td>...</td>\n",
       "      <td>-0.006498</td>\n",
       "      <td>-0.076631</td>\n",
       "      <td>-0.055107</td>\n",
       "      <td>0.223039</td>\n",
       "      <td>0.146390</td>\n",
       "      <td>-0.041664</td>\n",
       "      <td>-0.009314</td>\n",
       "      <td>-0.058975</td>\n",
       "      <td>-0.044980</td>\n",
       "      <td>0.203695</td>\n",
       "    </tr>\n",
       "    <tr>\n",
       "      <th>Meat</th>\n",
       "      <td>0.311262</td>\n",
       "      <td>0.388732</td>\n",
       "      <td>0.613981</td>\n",
       "      <td>0.082450</td>\n",
       "      <td>-0.404062</td>\n",
       "      <td>0.495525</td>\n",
       "      <td>0.073361</td>\n",
       "      <td>-0.037856</td>\n",
       "      <td>1.000000</td>\n",
       "      <td>0.320749</td>\n",
       "      <td>...</td>\n",
       "      <td>0.073590</td>\n",
       "      <td>0.139906</td>\n",
       "      <td>-0.020341</td>\n",
       "      <td>-0.613953</td>\n",
       "      <td>0.563399</td>\n",
       "      <td>0.362606</td>\n",
       "      <td>0.259320</td>\n",
       "      <td>0.254620</td>\n",
       "      <td>-0.010330</td>\n",
       "      <td>-0.385207</td>\n",
       "    </tr>\n",
       "    <tr>\n",
       "      <th>Milk_Excluding Butter</th>\n",
       "      <td>0.280224</td>\n",
       "      <td>0.569623</td>\n",
       "      <td>0.917874</td>\n",
       "      <td>-0.098856</td>\n",
       "      <td>-0.479175</td>\n",
       "      <td>0.293023</td>\n",
       "      <td>-0.302167</td>\n",
       "      <td>-0.224725</td>\n",
       "      <td>0.320749</td>\n",
       "      <td>1.000000</td>\n",
       "      <td>...</td>\n",
       "      <td>0.039754</td>\n",
       "      <td>-0.107515</td>\n",
       "      <td>0.126503</td>\n",
       "      <td>-0.917884</td>\n",
       "      <td>0.457473</td>\n",
       "      <td>0.577390</td>\n",
       "      <td>0.405346</td>\n",
       "      <td>0.416587</td>\n",
       "      <td>-0.017639</td>\n",
       "      <td>-0.590365</td>\n",
       "    </tr>\n",
       "    <tr>\n",
       "      <th>Miscellaneous</th>\n",
       "      <td>-0.033152</td>\n",
       "      <td>-0.031615</td>\n",
       "      <td>0.074911</td>\n",
       "      <td>-0.045271</td>\n",
       "      <td>-0.062370</td>\n",
       "      <td>0.075809</td>\n",
       "      <td>0.394149</td>\n",
       "      <td>0.036481</td>\n",
       "      <td>0.185455</td>\n",
       "      <td>-0.062595</td>\n",
       "      <td>...</td>\n",
       "      <td>0.025682</td>\n",
       "      <td>0.053752</td>\n",
       "      <td>-0.074718</td>\n",
       "      <td>-0.075007</td>\n",
       "      <td>0.070765</td>\n",
       "      <td>-0.052274</td>\n",
       "      <td>-0.020954</td>\n",
       "      <td>-0.056158</td>\n",
       "      <td>-0.025837</td>\n",
       "      <td>0.073168</td>\n",
       "    </tr>\n",
       "    <tr>\n",
       "      <th>Offals</th>\n",
       "      <td>-0.015773</td>\n",
       "      <td>-0.021475</td>\n",
       "      <td>0.111659</td>\n",
       "      <td>0.027852</td>\n",
       "      <td>0.078968</td>\n",
       "      <td>-0.025169</td>\n",
       "      <td>-0.090029</td>\n",
       "      <td>-0.174396</td>\n",
       "      <td>0.299861</td>\n",
       "      <td>0.026261</td>\n",
       "      <td>...</td>\n",
       "      <td>-0.106639</td>\n",
       "      <td>-0.075455</td>\n",
       "      <td>-0.036410</td>\n",
       "      <td>-0.111630</td>\n",
       "      <td>-0.118631</td>\n",
       "      <td>-0.148118</td>\n",
       "      <td>-0.084481</td>\n",
       "      <td>-0.135888</td>\n",
       "      <td>0.149466</td>\n",
       "      <td>0.151952</td>\n",
       "    </tr>\n",
       "    <tr>\n",
       "      <th>Oilcrops</th>\n",
       "      <td>-0.162562</td>\n",
       "      <td>-0.161021</td>\n",
       "      <td>-0.254582</td>\n",
       "      <td>0.025115</td>\n",
       "      <td>-0.016002</td>\n",
       "      <td>-0.211643</td>\n",
       "      <td>0.257798</td>\n",
       "      <td>0.180558</td>\n",
       "      <td>-0.117178</td>\n",
       "      <td>-0.297869</td>\n",
       "      <td>...</td>\n",
       "      <td>-0.144279</td>\n",
       "      <td>-0.108555</td>\n",
       "      <td>-0.211649</td>\n",
       "      <td>0.254585</td>\n",
       "      <td>-0.000098</td>\n",
       "      <td>-0.241909</td>\n",
       "      <td>-0.205051</td>\n",
       "      <td>-0.123584</td>\n",
       "      <td>-0.033192</td>\n",
       "      <td>0.192180</td>\n",
       "    </tr>\n",
       "    <tr>\n",
       "      <th>Pulses</th>\n",
       "      <td>-0.217140</td>\n",
       "      <td>-0.354800</td>\n",
       "      <td>-0.445219</td>\n",
       "      <td>-0.077974</td>\n",
       "      <td>0.315960</td>\n",
       "      <td>-0.331420</td>\n",
       "      <td>-0.219754</td>\n",
       "      <td>0.069417</td>\n",
       "      <td>-0.371470</td>\n",
       "      <td>-0.309799</td>\n",
       "      <td>...</td>\n",
       "      <td>-0.143438</td>\n",
       "      <td>-0.007590</td>\n",
       "      <td>-0.160017</td>\n",
       "      <td>0.445213</td>\n",
       "      <td>-0.381721</td>\n",
       "      <td>-0.350572</td>\n",
       "      <td>-0.274784</td>\n",
       "      <td>-0.211365</td>\n",
       "      <td>0.056932</td>\n",
       "      <td>0.361989</td>\n",
       "    </tr>\n",
       "    <tr>\n",
       "      <th>Spices</th>\n",
       "      <td>-0.098834</td>\n",
       "      <td>-0.172813</td>\n",
       "      <td>-0.192321</td>\n",
       "      <td>-0.030508</td>\n",
       "      <td>0.194087</td>\n",
       "      <td>0.057647</td>\n",
       "      <td>0.240453</td>\n",
       "      <td>-0.013620</td>\n",
       "      <td>-0.153326</td>\n",
       "      <td>-0.220593</td>\n",
       "      <td>...</td>\n",
       "      <td>0.106103</td>\n",
       "      <td>-0.100001</td>\n",
       "      <td>0.092092</td>\n",
       "      <td>0.192245</td>\n",
       "      <td>-0.168573</td>\n",
       "      <td>-0.157136</td>\n",
       "      <td>-0.096963</td>\n",
       "      <td>-0.133219</td>\n",
       "      <td>0.105543</td>\n",
       "      <td>0.210433</td>\n",
       "    </tr>\n",
       "    <tr>\n",
       "      <th>Starchy Roots</th>\n",
       "      <td>-0.062969</td>\n",
       "      <td>-0.231952</td>\n",
       "      <td>-0.522399</td>\n",
       "      <td>-0.070451</td>\n",
       "      <td>-0.124113</td>\n",
       "      <td>-0.453523</td>\n",
       "      <td>-0.056427</td>\n",
       "      <td>0.039386</td>\n",
       "      <td>-0.371966</td>\n",
       "      <td>-0.438944</td>\n",
       "      <td>...</td>\n",
       "      <td>-0.108461</td>\n",
       "      <td>-0.159559</td>\n",
       "      <td>-0.374734</td>\n",
       "      <td>0.522486</td>\n",
       "      <td>-0.366913</td>\n",
       "      <td>-0.326363</td>\n",
       "      <td>-0.285388</td>\n",
       "      <td>-0.155103</td>\n",
       "      <td>-0.066915</td>\n",
       "      <td>0.232241</td>\n",
       "    </tr>\n",
       "    <tr>\n",
       "      <th>Stimulants</th>\n",
       "      <td>0.051646</td>\n",
       "      <td>0.255231</td>\n",
       "      <td>0.318166</td>\n",
       "      <td>-0.047824</td>\n",
       "      <td>-0.108531</td>\n",
       "      <td>0.231211</td>\n",
       "      <td>0.051286</td>\n",
       "      <td>-0.076111</td>\n",
       "      <td>0.236081</td>\n",
       "      <td>0.261515</td>\n",
       "      <td>...</td>\n",
       "      <td>0.024300</td>\n",
       "      <td>-0.053124</td>\n",
       "      <td>0.018332</td>\n",
       "      <td>-0.318231</td>\n",
       "      <td>0.137678</td>\n",
       "      <td>0.254279</td>\n",
       "      <td>0.212374</td>\n",
       "      <td>0.137517</td>\n",
       "      <td>-0.057590</td>\n",
       "      <td>-0.267710</td>\n",
       "    </tr>\n",
       "    <tr>\n",
       "      <th>Sugar_Sweeteners</th>\n",
       "      <td>0.113036</td>\n",
       "      <td>0.199965</td>\n",
       "      <td>0.271401</td>\n",
       "      <td>-0.013100</td>\n",
       "      <td>-0.099333</td>\n",
       "      <td>0.353574</td>\n",
       "      <td>0.083617</td>\n",
       "      <td>-0.060691</td>\n",
       "      <td>0.376989</td>\n",
       "      <td>0.148387</td>\n",
       "      <td>...</td>\n",
       "      <td>-0.102661</td>\n",
       "      <td>0.207656</td>\n",
       "      <td>-0.040987</td>\n",
       "      <td>-0.271487</td>\n",
       "      <td>0.431406</td>\n",
       "      <td>0.290028</td>\n",
       "      <td>0.307133</td>\n",
       "      <td>0.063750</td>\n",
       "      <td>-0.067906</td>\n",
       "      <td>-0.085940</td>\n",
       "    </tr>\n",
       "    <tr>\n",
       "      <th>Sugar_Crops</th>\n",
       "      <td>-0.198741</td>\n",
       "      <td>-0.128997</td>\n",
       "      <td>-0.138895</td>\n",
       "      <td>-0.022515</td>\n",
       "      <td>0.184649</td>\n",
       "      <td>-0.160340</td>\n",
       "      <td>-0.021427</td>\n",
       "      <td>0.009823</td>\n",
       "      <td>-0.159602</td>\n",
       "      <td>-0.090009</td>\n",
       "      <td>...</td>\n",
       "      <td>-0.082175</td>\n",
       "      <td>-0.096638</td>\n",
       "      <td>0.086305</td>\n",
       "      <td>0.138930</td>\n",
       "      <td>-0.212003</td>\n",
       "      <td>-0.152405</td>\n",
       "      <td>-0.116393</td>\n",
       "      <td>-0.096387</td>\n",
       "      <td>0.044327</td>\n",
       "      <td>0.111356</td>\n",
       "    </tr>\n",
       "    <tr>\n",
       "      <th>Treenuts</th>\n",
       "      <td>-0.104040</td>\n",
       "      <td>0.043551</td>\n",
       "      <td>0.095812</td>\n",
       "      <td>0.021792</td>\n",
       "      <td>-0.071308</td>\n",
       "      <td>0.174107</td>\n",
       "      <td>0.168877</td>\n",
       "      <td>-0.006498</td>\n",
       "      <td>0.073590</td>\n",
       "      <td>0.039754</td>\n",
       "      <td>...</td>\n",
       "      <td>1.000000</td>\n",
       "      <td>0.085514</td>\n",
       "      <td>0.298443</td>\n",
       "      <td>-0.095824</td>\n",
       "      <td>0.122025</td>\n",
       "      <td>0.174538</td>\n",
       "      <td>0.115848</td>\n",
       "      <td>0.135815</td>\n",
       "      <td>0.079097</td>\n",
       "      <td>-0.139364</td>\n",
       "    </tr>\n",
       "    <tr>\n",
       "      <th>Vegetable Oils</th>\n",
       "      <td>-0.098796</td>\n",
       "      <td>-0.151480</td>\n",
       "      <td>-0.056164</td>\n",
       "      <td>0.058700</td>\n",
       "      <td>0.230030</td>\n",
       "      <td>0.151614</td>\n",
       "      <td>-0.018984</td>\n",
       "      <td>-0.076631</td>\n",
       "      <td>0.139906</td>\n",
       "      <td>-0.107515</td>\n",
       "      <td>...</td>\n",
       "      <td>0.085514</td>\n",
       "      <td>1.000000</td>\n",
       "      <td>-0.053476</td>\n",
       "      <td>0.056049</td>\n",
       "      <td>0.111531</td>\n",
       "      <td>-0.029857</td>\n",
       "      <td>-0.026959</td>\n",
       "      <td>-0.012540</td>\n",
       "      <td>-0.044596</td>\n",
       "      <td>0.065995</td>\n",
       "    </tr>\n",
       "    <tr>\n",
       "      <th>Vegetables</th>\n",
       "      <td>-0.249762</td>\n",
       "      <td>0.002801</td>\n",
       "      <td>0.100942</td>\n",
       "      <td>0.143484</td>\n",
       "      <td>-0.112552</td>\n",
       "      <td>0.180372</td>\n",
       "      <td>-0.067989</td>\n",
       "      <td>-0.055107</td>\n",
       "      <td>-0.020341</td>\n",
       "      <td>0.126503</td>\n",
       "      <td>...</td>\n",
       "      <td>0.298443</td>\n",
       "      <td>-0.053476</td>\n",
       "      <td>1.000000</td>\n",
       "      <td>-0.100938</td>\n",
       "      <td>0.208628</td>\n",
       "      <td>0.150347</td>\n",
       "      <td>0.182823</td>\n",
       "      <td>-0.001981</td>\n",
       "      <td>0.128675</td>\n",
       "      <td>-0.136830</td>\n",
       "    </tr>\n",
       "    <tr>\n",
       "      <th>Vegetal_Products</th>\n",
       "      <td>-0.344689</td>\n",
       "      <td>-0.641587</td>\n",
       "      <td>-1.000000</td>\n",
       "      <td>-0.001181</td>\n",
       "      <td>0.540648</td>\n",
       "      <td>-0.496211</td>\n",
       "      <td>0.030392</td>\n",
       "      <td>0.223039</td>\n",
       "      <td>-0.613953</td>\n",
       "      <td>-0.917884</td>\n",
       "      <td>...</td>\n",
       "      <td>-0.095824</td>\n",
       "      <td>0.056049</td>\n",
       "      <td>-0.100938</td>\n",
       "      <td>1.000000</td>\n",
       "      <td>-0.547061</td>\n",
       "      <td>-0.603048</td>\n",
       "      <td>-0.419090</td>\n",
       "      <td>-0.441746</td>\n",
       "      <td>-0.004808</td>\n",
       "      <td>0.651802</td>\n",
       "    </tr>\n",
       "    <tr>\n",
       "      <th>Obesity</th>\n",
       "      <td>0.154724</td>\n",
       "      <td>0.386494</td>\n",
       "      <td>0.547084</td>\n",
       "      <td>-0.107123</td>\n",
       "      <td>-0.537173</td>\n",
       "      <td>0.409766</td>\n",
       "      <td>-0.151210</td>\n",
       "      <td>0.146390</td>\n",
       "      <td>0.563399</td>\n",
       "      <td>0.457473</td>\n",
       "      <td>...</td>\n",
       "      <td>0.122025</td>\n",
       "      <td>0.111531</td>\n",
       "      <td>0.208628</td>\n",
       "      <td>-0.547061</td>\n",
       "      <td>1.000000</td>\n",
       "      <td>0.525496</td>\n",
       "      <td>0.419179</td>\n",
       "      <td>0.307033</td>\n",
       "      <td>-0.180921</td>\n",
       "      <td>-0.410930</td>\n",
       "    </tr>\n",
       "    <tr>\n",
       "      <th>Confirmed</th>\n",
       "      <td>0.374953</td>\n",
       "      <td>0.488224</td>\n",
       "      <td>0.603015</td>\n",
       "      <td>-0.076489</td>\n",
       "      <td>-0.473466</td>\n",
       "      <td>0.366708</td>\n",
       "      <td>-0.117036</td>\n",
       "      <td>-0.041664</td>\n",
       "      <td>0.362606</td>\n",
       "      <td>0.577390</td>\n",
       "      <td>...</td>\n",
       "      <td>0.174538</td>\n",
       "      <td>-0.029857</td>\n",
       "      <td>0.150347</td>\n",
       "      <td>-0.603048</td>\n",
       "      <td>0.525496</td>\n",
       "      <td>1.000000</td>\n",
       "      <td>0.815635</td>\n",
       "      <td>0.561168</td>\n",
       "      <td>-0.081559</td>\n",
       "      <td>-0.548735</td>\n",
       "    </tr>\n",
       "    <tr>\n",
       "      <th>Recovered</th>\n",
       "      <td>0.272484</td>\n",
       "      <td>0.379997</td>\n",
       "      <td>0.419130</td>\n",
       "      <td>-0.066191</td>\n",
       "      <td>-0.348239</td>\n",
       "      <td>0.299521</td>\n",
       "      <td>-0.132975</td>\n",
       "      <td>-0.009314</td>\n",
       "      <td>0.259320</td>\n",
       "      <td>0.405346</td>\n",
       "      <td>...</td>\n",
       "      <td>0.115848</td>\n",
       "      <td>-0.026959</td>\n",
       "      <td>0.182823</td>\n",
       "      <td>-0.419090</td>\n",
       "      <td>0.419179</td>\n",
       "      <td>0.815635</td>\n",
       "      <td>1.000000</td>\n",
       "      <td>-0.021054</td>\n",
       "      <td>-0.105708</td>\n",
       "      <td>-0.377266</td>\n",
       "    </tr>\n",
       "    <tr>\n",
       "      <th>Active</th>\n",
       "      <td>0.254625</td>\n",
       "      <td>0.297494</td>\n",
       "      <td>0.441631</td>\n",
       "      <td>-0.037324</td>\n",
       "      <td>-0.319499</td>\n",
       "      <td>0.203775</td>\n",
       "      <td>-0.008017</td>\n",
       "      <td>-0.058975</td>\n",
       "      <td>0.254620</td>\n",
       "      <td>0.416587</td>\n",
       "      <td>...</td>\n",
       "      <td>0.135815</td>\n",
       "      <td>-0.012540</td>\n",
       "      <td>-0.001981</td>\n",
       "      <td>-0.441746</td>\n",
       "      <td>0.307033</td>\n",
       "      <td>0.561168</td>\n",
       "      <td>-0.021054</td>\n",
       "      <td>1.000000</td>\n",
       "      <td>0.009940</td>\n",
       "      <td>-0.407441</td>\n",
       "    </tr>\n",
       "    <tr>\n",
       "      <th>Population</th>\n",
       "      <td>-0.098326</td>\n",
       "      <td>-0.103724</td>\n",
       "      <td>0.004823</td>\n",
       "      <td>0.023276</td>\n",
       "      <td>0.069644</td>\n",
       "      <td>0.134164</td>\n",
       "      <td>0.079407</td>\n",
       "      <td>-0.044980</td>\n",
       "      <td>-0.010330</td>\n",
       "      <td>-0.017639</td>\n",
       "      <td>...</td>\n",
       "      <td>0.079097</td>\n",
       "      <td>-0.044596</td>\n",
       "      <td>0.128675</td>\n",
       "      <td>-0.004808</td>\n",
       "      <td>-0.180921</td>\n",
       "      <td>-0.081559</td>\n",
       "      <td>-0.105708</td>\n",
       "      <td>0.009940</td>\n",
       "      <td>1.000000</td>\n",
       "      <td>0.044503</td>\n",
       "    </tr>\n",
       "    <tr>\n",
       "      <th>Undernourished_new</th>\n",
       "      <td>-0.431636</td>\n",
       "      <td>-0.605733</td>\n",
       "      <td>-0.651798</td>\n",
       "      <td>-0.131591</td>\n",
       "      <td>0.500598</td>\n",
       "      <td>-0.311747</td>\n",
       "      <td>-0.009830</td>\n",
       "      <td>0.203695</td>\n",
       "      <td>-0.385207</td>\n",
       "      <td>-0.590365</td>\n",
       "      <td>...</td>\n",
       "      <td>-0.139364</td>\n",
       "      <td>0.065995</td>\n",
       "      <td>-0.136830</td>\n",
       "      <td>0.651802</td>\n",
       "      <td>-0.410930</td>\n",
       "      <td>-0.548735</td>\n",
       "      <td>-0.377266</td>\n",
       "      <td>-0.407441</td>\n",
       "      <td>0.044503</td>\n",
       "      <td>1.000000</td>\n",
       "    </tr>\n",
       "  </tbody>\n",
       "</table>\n",
       "<p>29 rows × 29 columns</p>\n",
       "</div>"
      ],
      "text/plain": [
       "                         Alcoholic_beverages  Animal_fats  Animal_Products  \\\n",
       "Alcoholic_beverages                 1.000000     0.447390         0.344638   \n",
       "Animal_fats                         0.447390     1.000000         0.641668   \n",
       "Animal_Products                     0.344638     0.641668         1.000000   \n",
       "Aquatic_Products, Other             0.062231     0.003727         0.001206   \n",
       "Cereals_Excluding_Beer             -0.367311    -0.438582        -0.540737   \n",
       "Eggs                                0.156121     0.280520         0.496269   \n",
       "Fish_Seafood                       -0.042668    -0.046799        -0.030432   \n",
       "Fruits_Excluding Wine              -0.210673    -0.227496        -0.222920   \n",
       "Meat                                0.311262     0.388732         0.613981   \n",
       "Milk_Excluding Butter               0.280224     0.569623         0.917874   \n",
       "Miscellaneous                      -0.033152    -0.031615         0.074911   \n",
       "Offals                             -0.015773    -0.021475         0.111659   \n",
       "Oilcrops                           -0.162562    -0.161021        -0.254582   \n",
       "Pulses                             -0.217140    -0.354800        -0.445219   \n",
       "Spices                             -0.098834    -0.172813        -0.192321   \n",
       "Starchy Roots                      -0.062969    -0.231952        -0.522399   \n",
       "Stimulants                          0.051646     0.255231         0.318166   \n",
       "Sugar_Sweeteners                    0.113036     0.199965         0.271401   \n",
       "Sugar_Crops                        -0.198741    -0.128997        -0.138895   \n",
       "Treenuts                           -0.104040     0.043551         0.095812   \n",
       "Vegetable Oils                     -0.098796    -0.151480        -0.056164   \n",
       "Vegetables                         -0.249762     0.002801         0.100942   \n",
       "Vegetal_Products                   -0.344689    -0.641587        -1.000000   \n",
       "Obesity                             0.154724     0.386494         0.547084   \n",
       "Confirmed                           0.374953     0.488224         0.603015   \n",
       "Recovered                           0.272484     0.379997         0.419130   \n",
       "Active                              0.254625     0.297494         0.441631   \n",
       "Population                         -0.098326    -0.103724         0.004823   \n",
       "Undernourished_new                 -0.431636    -0.605733        -0.651798   \n",
       "\n",
       "                         Aquatic_Products, Other  Cereals_Excluding_Beer  \\\n",
       "Alcoholic_beverages                     0.062231               -0.367311   \n",
       "Animal_fats                             0.003727               -0.438582   \n",
       "Animal_Products                         0.001206               -0.540737   \n",
       "Aquatic_Products, Other                 1.000000               -0.012715   \n",
       "Cereals_Excluding_Beer                 -0.012715                1.000000   \n",
       "Eggs                                    0.074120               -0.219562   \n",
       "Fish_Seafood                            0.180546                0.032695   \n",
       "Fruits_Excluding Wine                  -0.041451               -0.265380   \n",
       "Meat                                    0.082450               -0.404062   \n",
       "Milk_Excluding Butter                  -0.098856               -0.479175   \n",
       "Miscellaneous                          -0.045271               -0.062370   \n",
       "Offals                                  0.027852                0.078968   \n",
       "Oilcrops                                0.025115               -0.016002   \n",
       "Pulses                                 -0.077974                0.315960   \n",
       "Spices                                 -0.030508                0.194087   \n",
       "Starchy Roots                          -0.070451               -0.124113   \n",
       "Stimulants                             -0.047824               -0.108531   \n",
       "Sugar_Sweeteners                       -0.013100               -0.099333   \n",
       "Sugar_Crops                            -0.022515                0.184649   \n",
       "Treenuts                                0.021792               -0.071308   \n",
       "Vegetable Oils                          0.058700                0.230030   \n",
       "Vegetables                              0.143484               -0.112552   \n",
       "Vegetal_Products                       -0.001181                0.540648   \n",
       "Obesity                                -0.107123               -0.537173   \n",
       "Confirmed                              -0.076489               -0.473466   \n",
       "Recovered                              -0.066191               -0.348239   \n",
       "Active                                 -0.037324               -0.319499   \n",
       "Population                              0.023276                0.069644   \n",
       "Undernourished_new                     -0.131591                0.500598   \n",
       "\n",
       "                             Eggs  Fish_Seafood  Fruits_Excluding Wine  \\\n",
       "Alcoholic_beverages      0.156121     -0.042668              -0.210673   \n",
       "Animal_fats              0.280520     -0.046799              -0.227496   \n",
       "Animal_Products          0.496269     -0.030432              -0.222920   \n",
       "Aquatic_Products, Other  0.074120      0.180546              -0.041451   \n",
       "Cereals_Excluding_Beer  -0.219562      0.032695              -0.265380   \n",
       "Eggs                     1.000000      0.222552              -0.055424   \n",
       "Fish_Seafood             0.222552      1.000000              -0.013974   \n",
       "Fruits_Excluding Wine   -0.055424     -0.013974               1.000000   \n",
       "Meat                     0.495525      0.073361              -0.037856   \n",
       "Milk_Excluding Butter    0.293023     -0.302167              -0.224725   \n",
       "Miscellaneous            0.075809      0.394149               0.036481   \n",
       "Offals                  -0.025169     -0.090029              -0.174396   \n",
       "Oilcrops                -0.211643      0.257798               0.180558   \n",
       "Pulses                  -0.331420     -0.219754               0.069417   \n",
       "Spices                   0.057647      0.240453              -0.013620   \n",
       "Starchy Roots           -0.453523     -0.056427               0.039386   \n",
       "Stimulants               0.231211      0.051286              -0.076111   \n",
       "Sugar_Sweeteners         0.353574      0.083617              -0.060691   \n",
       "Sugar_Crops             -0.160340     -0.021427               0.009823   \n",
       "Treenuts                 0.174107      0.168877              -0.006498   \n",
       "Vegetable Oils           0.151614     -0.018984              -0.076631   \n",
       "Vegetables               0.180372     -0.067989              -0.055107   \n",
       "Vegetal_Products        -0.496211      0.030392               0.223039   \n",
       "Obesity                  0.409766     -0.151210               0.146390   \n",
       "Confirmed                0.366708     -0.117036              -0.041664   \n",
       "Recovered                0.299521     -0.132975              -0.009314   \n",
       "Active                   0.203775     -0.008017              -0.058975   \n",
       "Population               0.134164      0.079407              -0.044980   \n",
       "Undernourished_new      -0.311747     -0.009830               0.203695   \n",
       "\n",
       "                             Meat  Milk_Excluding Butter  ...  Treenuts  \\\n",
       "Alcoholic_beverages      0.311262               0.280224  ... -0.104040   \n",
       "Animal_fats              0.388732               0.569623  ...  0.043551   \n",
       "Animal_Products          0.613981               0.917874  ...  0.095812   \n",
       "Aquatic_Products, Other  0.082450              -0.098856  ...  0.021792   \n",
       "Cereals_Excluding_Beer  -0.404062              -0.479175  ... -0.071308   \n",
       "Eggs                     0.495525               0.293023  ...  0.174107   \n",
       "Fish_Seafood             0.073361              -0.302167  ...  0.168877   \n",
       "Fruits_Excluding Wine   -0.037856              -0.224725  ... -0.006498   \n",
       "Meat                     1.000000               0.320749  ...  0.073590   \n",
       "Milk_Excluding Butter    0.320749               1.000000  ...  0.039754   \n",
       "Miscellaneous            0.185455              -0.062595  ...  0.025682   \n",
       "Offals                   0.299861               0.026261  ... -0.106639   \n",
       "Oilcrops                -0.117178              -0.297869  ... -0.144279   \n",
       "Pulses                  -0.371470              -0.309799  ... -0.143438   \n",
       "Spices                  -0.153326              -0.220593  ...  0.106103   \n",
       "Starchy Roots           -0.371966              -0.438944  ... -0.108461   \n",
       "Stimulants               0.236081               0.261515  ...  0.024300   \n",
       "Sugar_Sweeteners         0.376989               0.148387  ... -0.102661   \n",
       "Sugar_Crops             -0.159602              -0.090009  ... -0.082175   \n",
       "Treenuts                 0.073590               0.039754  ...  1.000000   \n",
       "Vegetable Oils           0.139906              -0.107515  ...  0.085514   \n",
       "Vegetables              -0.020341               0.126503  ...  0.298443   \n",
       "Vegetal_Products        -0.613953              -0.917884  ... -0.095824   \n",
       "Obesity                  0.563399               0.457473  ...  0.122025   \n",
       "Confirmed                0.362606               0.577390  ...  0.174538   \n",
       "Recovered                0.259320               0.405346  ...  0.115848   \n",
       "Active                   0.254620               0.416587  ...  0.135815   \n",
       "Population              -0.010330              -0.017639  ...  0.079097   \n",
       "Undernourished_new      -0.385207              -0.590365  ... -0.139364   \n",
       "\n",
       "                         Vegetable Oils  Vegetables  Vegetal_Products  \\\n",
       "Alcoholic_beverages           -0.098796   -0.249762         -0.344689   \n",
       "Animal_fats                   -0.151480    0.002801         -0.641587   \n",
       "Animal_Products               -0.056164    0.100942         -1.000000   \n",
       "Aquatic_Products, Other        0.058700    0.143484         -0.001181   \n",
       "Cereals_Excluding_Beer         0.230030   -0.112552          0.540648   \n",
       "Eggs                           0.151614    0.180372         -0.496211   \n",
       "Fish_Seafood                  -0.018984   -0.067989          0.030392   \n",
       "Fruits_Excluding Wine         -0.076631   -0.055107          0.223039   \n",
       "Meat                           0.139906   -0.020341         -0.613953   \n",
       "Milk_Excluding Butter         -0.107515    0.126503         -0.917884   \n",
       "Miscellaneous                  0.053752   -0.074718         -0.075007   \n",
       "Offals                        -0.075455   -0.036410         -0.111630   \n",
       "Oilcrops                      -0.108555   -0.211649          0.254585   \n",
       "Pulses                        -0.007590   -0.160017          0.445213   \n",
       "Spices                        -0.100001    0.092092          0.192245   \n",
       "Starchy Roots                 -0.159559   -0.374734          0.522486   \n",
       "Stimulants                    -0.053124    0.018332         -0.318231   \n",
       "Sugar_Sweeteners               0.207656   -0.040987         -0.271487   \n",
       "Sugar_Crops                   -0.096638    0.086305          0.138930   \n",
       "Treenuts                       0.085514    0.298443         -0.095824   \n",
       "Vegetable Oils                 1.000000   -0.053476          0.056049   \n",
       "Vegetables                    -0.053476    1.000000         -0.100938   \n",
       "Vegetal_Products               0.056049   -0.100938          1.000000   \n",
       "Obesity                        0.111531    0.208628         -0.547061   \n",
       "Confirmed                     -0.029857    0.150347         -0.603048   \n",
       "Recovered                     -0.026959    0.182823         -0.419090   \n",
       "Active                        -0.012540   -0.001981         -0.441746   \n",
       "Population                    -0.044596    0.128675         -0.004808   \n",
       "Undernourished_new             0.065995   -0.136830          0.651802   \n",
       "\n",
       "                          Obesity  Confirmed  Recovered    Active  Population  \\\n",
       "Alcoholic_beverages      0.154724   0.374953   0.272484  0.254625   -0.098326   \n",
       "Animal_fats              0.386494   0.488224   0.379997  0.297494   -0.103724   \n",
       "Animal_Products          0.547084   0.603015   0.419130  0.441631    0.004823   \n",
       "Aquatic_Products, Other -0.107123  -0.076489  -0.066191 -0.037324    0.023276   \n",
       "Cereals_Excluding_Beer  -0.537173  -0.473466  -0.348239 -0.319499    0.069644   \n",
       "Eggs                     0.409766   0.366708   0.299521  0.203775    0.134164   \n",
       "Fish_Seafood            -0.151210  -0.117036  -0.132975 -0.008017    0.079407   \n",
       "Fruits_Excluding Wine    0.146390  -0.041664  -0.009314 -0.058975   -0.044980   \n",
       "Meat                     0.563399   0.362606   0.259320  0.254620   -0.010330   \n",
       "Milk_Excluding Butter    0.457473   0.577390   0.405346  0.416587   -0.017639   \n",
       "Miscellaneous            0.070765  -0.052274  -0.020954 -0.056158   -0.025837   \n",
       "Offals                  -0.118631  -0.148118  -0.084481 -0.135888    0.149466   \n",
       "Oilcrops                -0.000098  -0.241909  -0.205051 -0.123584   -0.033192   \n",
       "Pulses                  -0.381721  -0.350572  -0.274784 -0.211365    0.056932   \n",
       "Spices                  -0.168573  -0.157136  -0.096963 -0.133219    0.105543   \n",
       "Starchy Roots           -0.366913  -0.326363  -0.285388 -0.155103   -0.066915   \n",
       "Stimulants               0.137678   0.254279   0.212374  0.137517   -0.057590   \n",
       "Sugar_Sweeteners         0.431406   0.290028   0.307133  0.063750   -0.067906   \n",
       "Sugar_Crops             -0.212003  -0.152405  -0.116393 -0.096387    0.044327   \n",
       "Treenuts                 0.122025   0.174538   0.115848  0.135815    0.079097   \n",
       "Vegetable Oils           0.111531  -0.029857  -0.026959 -0.012540   -0.044596   \n",
       "Vegetables               0.208628   0.150347   0.182823 -0.001981    0.128675   \n",
       "Vegetal_Products        -0.547061  -0.603048  -0.419090 -0.441746   -0.004808   \n",
       "Obesity                  1.000000   0.525496   0.419179  0.307033   -0.180921   \n",
       "Confirmed                0.525496   1.000000   0.815635  0.561168   -0.081559   \n",
       "Recovered                0.419179   0.815635   1.000000 -0.021054   -0.105708   \n",
       "Active                   0.307033   0.561168  -0.021054  1.000000    0.009940   \n",
       "Population              -0.180921  -0.081559  -0.105708  0.009940    1.000000   \n",
       "Undernourished_new      -0.410930  -0.548735  -0.377266 -0.407441    0.044503   \n",
       "\n",
       "                         Undernourished_new  \n",
       "Alcoholic_beverages               -0.431636  \n",
       "Animal_fats                       -0.605733  \n",
       "Animal_Products                   -0.651798  \n",
       "Aquatic_Products, Other           -0.131591  \n",
       "Cereals_Excluding_Beer             0.500598  \n",
       "Eggs                              -0.311747  \n",
       "Fish_Seafood                      -0.009830  \n",
       "Fruits_Excluding Wine              0.203695  \n",
       "Meat                              -0.385207  \n",
       "Milk_Excluding Butter             -0.590365  \n",
       "Miscellaneous                      0.073168  \n",
       "Offals                             0.151952  \n",
       "Oilcrops                           0.192180  \n",
       "Pulses                             0.361989  \n",
       "Spices                             0.210433  \n",
       "Starchy Roots                      0.232241  \n",
       "Stimulants                        -0.267710  \n",
       "Sugar_Sweeteners                  -0.085940  \n",
       "Sugar_Crops                        0.111356  \n",
       "Treenuts                          -0.139364  \n",
       "Vegetable Oils                     0.065995  \n",
       "Vegetables                        -0.136830  \n",
       "Vegetal_Products                   0.651802  \n",
       "Obesity                           -0.410930  \n",
       "Confirmed                         -0.548735  \n",
       "Recovered                         -0.377266  \n",
       "Active                            -0.407441  \n",
       "Population                         0.044503  \n",
       "Undernourished_new                 1.000000  \n",
       "\n",
       "[29 rows x 29 columns]"
      ]
     },
     "execution_count": 25,
     "metadata": {},
     "output_type": "execute_result"
    }
   ],
   "source": [
    "death_new.corr()"
   ]
  },
  {
   "cell_type": "code",
   "execution_count": 26,
   "metadata": {},
   "outputs": [
    {
     "name": "stdout",
     "output_type": "stream",
     "text": [
      "61.83918178781859\n"
     ]
    }
   ],
   "source": [
    "## interested in the categorical variables odds ratio\n",
    "\n",
    "chi_squared_stat = (((death_new['Recovered']-death_new['Confirmed'])**2)/death_new['Confirmed']).sum()\n",
    "\n",
    "print(chi_squared_stat)"
   ]
  },
  {
   "cell_type": "code",
   "execution_count": 27,
   "metadata": {},
   "outputs": [],
   "source": [
    "### more EDA"
   ]
  },
  {
   "cell_type": "code",
   "execution_count": 28,
   "metadata": {},
   "outputs": [
    {
     "data": {
      "text/plain": [
       "Index(['Alcoholic_beverages', 'Animal_fats', 'Animal_Products',\n",
       "       'Aquatic_Products, Other', 'Cereals_Excluding_Beer', 'Eggs',\n",
       "       'Fish_Seafood', 'Fruits_Excluding Wine', 'Meat',\n",
       "       'Milk_Excluding Butter', 'Miscellaneous', 'Offals', 'Oilcrops',\n",
       "       'Pulses', 'Spices', 'Starchy Roots', 'Stimulants', 'Sugar_Sweeteners',\n",
       "       'Sugar_Crops', 'Treenuts', 'Vegetable Oils', 'Vegetables',\n",
       "       'Vegetal_Products', 'Obesity', 'Confirmed', 'Deaths', 'Recovered',\n",
       "       'Active', 'Population', 'Undernourished_new'],\n",
       "      dtype='object')"
      ]
     },
     "execution_count": 28,
     "metadata": {},
     "output_type": "execute_result"
    }
   ],
   "source": [
    "death_new.columns"
   ]
  },
  {
   "cell_type": "code",
   "execution_count": 29,
   "metadata": {},
   "outputs": [],
   "source": [
    "animal_features = ['Animal_fats', 'Aquatic_Products, Other', 'Eggs', 'Fish_Seafood', 'Meat',\\\n",
    "                   'Milk_Excluding Butter', 'Offals']\n",
    "vegetal_features = ['Alcoholic_beverages', 'Cereals_Excluding_Beer', 'Fruits_Excluding Wine', \\\n",
    "                    'Miscellaneous', 'Oilcrops', 'Pulses',\\\n",
    "                    'Spices', 'Starchy Roots', 'Stimulants', 'Sugar_Sweeteners', 'Sugar_Crops', 'Treenuts',\\\n",
    "                    'Vegetable Oils', 'Vegetables']"
   ]
  },
  {
   "cell_type": "code",
   "execution_count": 30,
   "metadata": {},
   "outputs": [
    {
     "data": {
      "text/plain": [
       "0      50.0\n",
       "1      50.0\n",
       "2      50.0\n",
       "3      50.0\n",
       "5      50.0\n",
       "       ... \n",
       "165    50.0\n",
       "166    50.0\n",
       "167    50.0\n",
       "168    50.0\n",
       "169    50.0\n",
       "Length: 154, dtype: float64"
      ]
     },
     "execution_count": 30,
     "metadata": {},
     "output_type": "execute_result"
    }
   ],
   "source": [
    "death_new[animal_features + vegetal_features].sum(axis=1).round(2)"
   ]
  },
  {
   "cell_type": "markdown",
   "metadata": {},
   "source": [
    "## feathre scaling"
   ]
  },
  {
   "cell_type": "code",
   "execution_count": 24,
   "metadata": {},
   "outputs": [],
   "source": [
    "## Prepare a feature matrix (X) and response (y) for scikit-learn.\n",
    "feature_cols = death_new.columns.drop(['Deaths'])\n",
    "X = death_new[feature_cols]\n",
    "\n",
    "# Create response vector (y)\n",
    "y = death_new.Deaths"
   ]
  },
  {
   "cell_type": "code",
   "execution_count": 25,
   "metadata": {},
   "outputs": [],
   "source": [
    "from sklearn.preprocessing import MinMaxScaler\n",
    "scaler = MinMaxScaler()\n",
    "scaler.fit(X)\n",
    "X = scaler.transform(X)"
   ]
  },
  {
   "cell_type": "code",
   "execution_count": 26,
   "metadata": {},
   "outputs": [],
   "source": [
    "## Create the train/test split.\n",
    "X_train, X_test, y_train, y_test = train_test_split(X, y, train_size=0.8, random_state=99)"
   ]
  },
  {
   "cell_type": "code",
   "execution_count": 27,
   "metadata": {},
   "outputs": [
    {
     "data": {
      "text/plain": [
       "(123, 29)"
      ]
     },
     "execution_count": 27,
     "metadata": {},
     "output_type": "execute_result"
    }
   ],
   "source": [
    "X_train.shape"
   ]
  },
  {
   "cell_type": "code",
   "execution_count": 28,
   "metadata": {},
   "outputs": [
    {
     "data": {
      "text/plain": [
       "(31, 29)"
      ]
     },
     "execution_count": 28,
     "metadata": {},
     "output_type": "execute_result"
    }
   ],
   "source": [
    "X_test.shape"
   ]
  },
  {
   "cell_type": "code",
   "execution_count": 29,
   "metadata": {},
   "outputs": [
    {
     "data": {
      "text/plain": [
       "(123,)"
      ]
     },
     "execution_count": 29,
     "metadata": {},
     "output_type": "execute_result"
    }
   ],
   "source": [
    "y_train.shape"
   ]
  },
  {
   "cell_type": "code",
   "execution_count": 111,
   "metadata": {},
   "outputs": [
    {
     "data": {
      "text/plain": [
       "(31,)"
      ]
     },
     "execution_count": 111,
     "metadata": {},
     "output_type": "execute_result"
    }
   ],
   "source": [
    "y_test.shape"
   ]
  },
  {
   "cell_type": "markdown",
   "metadata": {},
   "source": [
    "## Machine Learning"
   ]
  },
  {
   "cell_type": "code",
   "execution_count": 31,
   "metadata": {},
   "outputs": [],
   "source": [
    "from sklearn.model_selection import GridSearchCV\n",
    "# Use grid search to test all values"
   ]
  },
  {
   "cell_type": "code",
   "execution_count": 47,
   "metadata": {},
   "outputs": [],
   "source": [
    "#1. Decision Tree\n",
    "\n",
    "tree_para = {'max_depth': np.arange(3, 10)}\n",
    "\n",
    "tree_gscv = GridSearchCV(DecisionTreeClassifier(max_depth=4,splitter=\"best\",min_samples_split=4,\n",
    "                                    min_samples_leaf=4,max_features=None,class_weight = 'balanced'), tree_para, cv=5)\n",
    "tree_gscv.fit(X_train, y_train)\n",
    "tree_predictions = tree_gscv.predict(X_test)"
   ]
  },
  {
   "cell_type": "code",
   "execution_count": 41,
   "metadata": {},
   "outputs": [
    {
     "name": "stdout",
     "output_type": "stream",
     "text": [
      "[11:29:10] WARNING: C:/Users/Administrator/workspace/xgboost-win64_release_1.3.0/src/learner.cc:1061: Starting in XGBoost 1.3.0, the default evaluation metric used with the objective 'binary:logistic' was changed from 'error' to 'logloss'. Explicitly set eval_metric if you'd like to restore the old behavior.\n"
     ]
    },
    {
     "name": "stderr",
     "output_type": "stream",
     "text": [
      "C:\\ProgramData\\Anaconda3\\lib\\site-packages\\xgboost\\sklearn.py:888: UserWarning:\n",
      "\n",
      "The use of label encoder in XGBClassifier is deprecated and will be removed in a future release. To remove this warning, do the following: 1) Pass option use_label_encoder=False when constructing XGBClassifier object; and 2) Encode your labels (y) as integers starting with 0, i.e. 0, 1, 2, ..., [num_class - 1].\n",
      "\n"
     ]
    }
   ],
   "source": [
    "#2 XGBoosting\n",
    "\n",
    "param_grid={\"learning_rate\": (0.05, 0.10, 0.15),\n",
    "                        \"max_depth\": [ 3, 4, 5, 6, 8],\n",
    "                        \"gamma\":[ 0.0, 0.1, 0.2],\n",
    "                        \"colsample_bytree\":[ 0.3, 0.4],}\n",
    "\n",
    "\n",
    "xgb_gscv = GridSearchCV(XGBClassifier(objective='binary:logistic', random_state=33),param_grid, n_jobs=5, cv=3)\n",
    "xgb_gscv.fit(X_train, y_train)\n",
    "xgb_predictions = xgb_gscv.predict(X_test)"
   ]
  },
  {
   "cell_type": "code",
   "execution_count": 45,
   "metadata": {},
   "outputs": [],
   "source": [
    "# 3. LR\n",
    "\n",
    "from sklearn.model_selection import GridSearchCV\n",
    "from sklearn.linear_model import LogisticRegression\n",
    "\n",
    "lr = LogisticRegression(tol=1e-4)                                   \n",
    "lr.fit(X_train, y_train)      \n",
    "lr_predictions = lr.predict(X_test)"
   ]
  },
  {
   "cell_type": "markdown",
   "metadata": {},
   "source": [
    "## Model Evaluation"
   ]
  },
  {
   "cell_type": "code",
   "execution_count": 42,
   "metadata": {},
   "outputs": [],
   "source": [
    "## K-folds cross-validation\n",
    "from sklearn.metrics import accuracy_score"
   ]
  },
  {
   "cell_type": "code",
   "execution_count": 48,
   "metadata": {},
   "outputs": [
    {
     "name": "stdout",
     "output_type": "stream",
     "text": [
      "0.8859999999999999\n"
     ]
    }
   ],
   "source": [
    "## tree model\n",
    "scores = cross_val_score(tree_gscv, X_train, y_train, scoring='accuracy', cv=5)\n",
    "# report performance\n",
    "mean_score=np.mean(np.asarray(scores))\n",
    "print(mean_score)"
   ]
  },
  {
   "cell_type": "code",
   "execution_count": 46,
   "metadata": {},
   "outputs": [
    {
     "name": "stdout",
     "output_type": "stream",
     "text": [
      "0.8780000000000001\n"
     ]
    }
   ],
   "source": [
    "# Perform cross-validation\n",
    "## LR\n",
    "scores = cross_val_score(lr, X_train, y_train, scoring='accuracy', cv=5)\n",
    "# report performance\n",
    "mean_score=np.mean(np.asarray(scores))\n",
    "print(mean_score)"
   ]
  },
  {
   "cell_type": "code",
   "execution_count": 45,
   "metadata": {},
   "outputs": [
    {
     "name": "stderr",
     "output_type": "stream",
     "text": [
      "C:\\ProgramData\\Anaconda3\\lib\\site-packages\\xgboost\\sklearn.py:888: UserWarning:\n",
      "\n",
      "The use of label encoder in XGBClassifier is deprecated and will be removed in a future release. To remove this warning, do the following: 1) Pass option use_label_encoder=False when constructing XGBClassifier object; and 2) Encode your labels (y) as integers starting with 0, i.e. 0, 1, 2, ..., [num_class - 1].\n",
      "\n",
      "C:\\ProgramData\\Anaconda3\\lib\\site-packages\\xgboost\\sklearn.py:888: UserWarning:\n",
      "\n",
      "The use of label encoder in XGBClassifier is deprecated and will be removed in a future release. To remove this warning, do the following: 1) Pass option use_label_encoder=False when constructing XGBClassifier object; and 2) Encode your labels (y) as integers starting with 0, i.e. 0, 1, 2, ..., [num_class - 1].\n",
      "\n",
      "C:\\ProgramData\\Anaconda3\\lib\\site-packages\\xgboost\\sklearn.py:888: UserWarning:\n",
      "\n",
      "The use of label encoder in XGBClassifier is deprecated and will be removed in a future release. To remove this warning, do the following: 1) Pass option use_label_encoder=False when constructing XGBClassifier object; and 2) Encode your labels (y) as integers starting with 0, i.e. 0, 1, 2, ..., [num_class - 1].\n",
      "\n",
      "C:\\ProgramData\\Anaconda3\\lib\\site-packages\\xgboost\\sklearn.py:888: UserWarning:\n",
      "\n",
      "The use of label encoder in XGBClassifier is deprecated and will be removed in a future release. To remove this warning, do the following: 1) Pass option use_label_encoder=False when constructing XGBClassifier object; and 2) Encode your labels (y) as integers starting with 0, i.e. 0, 1, 2, ..., [num_class - 1].\n",
      "\n",
      "C:\\ProgramData\\Anaconda3\\lib\\site-packages\\xgboost\\sklearn.py:888: UserWarning:\n",
      "\n",
      "The use of label encoder in XGBClassifier is deprecated and will be removed in a future release. To remove this warning, do the following: 1) Pass option use_label_encoder=False when constructing XGBClassifier object; and 2) Encode your labels (y) as integers starting with 0, i.e. 0, 1, 2, ..., [num_class - 1].\n",
      "\n"
     ]
    },
    {
     "name": "stdout",
     "output_type": "stream",
     "text": [
      "[09:25:40] WARNING: C:/Users/Administrator/workspace/xgboost-win64_release_1.3.0/src/learner.cc:541: \n",
      "Parameters: { cv } might not be used.\n",
      "\n",
      "  This may not be accurate due to some parameters are only used in language bindings but\n",
      "  passed down to XGBoost core.  Or some parameters are not used but slip through this\n",
      "  verification. Please open an issue if you find above cases.\n",
      "\n",
      "\n",
      "[09:25:40] WARNING: C:/Users/Administrator/workspace/xgboost-win64_release_1.3.0/src/learner.cc:1061: Starting in XGBoost 1.3.0, the default evaluation metric used with the objective 'binary:logistic' was changed from 'error' to 'logloss'. Explicitly set eval_metric if you'd like to restore the old behavior.\n",
      "[09:25:40] WARNING: C:/Users/Administrator/workspace/xgboost-win64_release_1.3.0/src/learner.cc:541: \n",
      "Parameters: { cv } might not be used.\n",
      "\n",
      "  This may not be accurate due to some parameters are only used in language bindings but\n",
      "  passed down to XGBoost core.  Or some parameters are not used but slip through this\n",
      "  verification. Please open an issue if you find above cases.\n",
      "\n",
      "\n",
      "[09:25:40] WARNING: C:/Users/Administrator/workspace/xgboost-win64_release_1.3.0/src/learner.cc:1061: Starting in XGBoost 1.3.0, the default evaluation metric used with the objective 'binary:logistic' was changed from 'error' to 'logloss'. Explicitly set eval_metric if you'd like to restore the old behavior.\n",
      "[09:25:40] WARNING: C:/Users/Administrator/workspace/xgboost-win64_release_1.3.0/src/learner.cc:541: \n",
      "Parameters: { cv } might not be used.\n",
      "\n",
      "  This may not be accurate due to some parameters are only used in language bindings but\n",
      "  passed down to XGBoost core.  Or some parameters are not used but slip through this\n",
      "  verification. Please open an issue if you find above cases.\n",
      "\n",
      "\n",
      "[09:25:40] WARNING: C:/Users/Administrator/workspace/xgboost-win64_release_1.3.0/src/learner.cc:1061: Starting in XGBoost 1.3.0, the default evaluation metric used with the objective 'binary:logistic' was changed from 'error' to 'logloss'. Explicitly set eval_metric if you'd like to restore the old behavior.\n",
      "[09:25:40] WARNING: C:/Users/Administrator/workspace/xgboost-win64_release_1.3.0/src/learner.cc:541: \n",
      "Parameters: { cv } might not be used.\n",
      "\n",
      "  This may not be accurate due to some parameters are only used in language bindings but\n",
      "  passed down to XGBoost core.  Or some parameters are not used but slip through this\n",
      "  verification. Please open an issue if you find above cases.\n",
      "\n",
      "\n",
      "[09:25:40] WARNING: C:/Users/Administrator/workspace/xgboost-win64_release_1.3.0/src/learner.cc:1061: Starting in XGBoost 1.3.0, the default evaluation metric used with the objective 'binary:logistic' was changed from 'error' to 'logloss'. Explicitly set eval_metric if you'd like to restore the old behavior.\n",
      "[09:25:40] WARNING: C:/Users/Administrator/workspace/xgboost-win64_release_1.3.0/src/learner.cc:541: \n",
      "Parameters: { cv } might not be used.\n",
      "\n",
      "  This may not be accurate due to some parameters are only used in language bindings but\n",
      "  passed down to XGBoost core.  Or some parameters are not used but slip through this\n",
      "  verification. Please open an issue if you find above cases.\n",
      "\n",
      "\n",
      "[09:25:40] WARNING: C:/Users/Administrator/workspace/xgboost-win64_release_1.3.0/src/learner.cc:1061: Starting in XGBoost 1.3.0, the default evaluation metric used with the objective 'binary:logistic' was changed from 'error' to 'logloss'. Explicitly set eval_metric if you'd like to restore the old behavior.\n",
      "0.9356666666666665\n"
     ]
    }
   ],
   "source": [
    "## XGB\n",
    "scores = cross_val_score(xgb_gscv, X_train, y_train, scoring='accuracy', cv=5)\n",
    "# report performance\n",
    "mean_score=np.mean(np.asarray(scores))\n",
    "print(mean_score)"
   ]
  },
  {
   "cell_type": "markdown",
   "metadata": {},
   "source": [
    "## Classification report "
   ]
  },
  {
   "cell_type": "code",
   "execution_count": 49,
   "metadata": {},
   "outputs": [
    {
     "name": "stdout",
     "output_type": "stream",
     "text": [
      "              precision    recall  f1-score   support\n",
      "\n",
      "           0       1.00      0.79      0.88        19\n",
      "           1       0.75      1.00      0.86        12\n",
      "\n",
      "    accuracy                           0.87        31\n",
      "   macro avg       0.88      0.89      0.87        31\n",
      "weighted avg       0.90      0.87      0.87        31\n",
      "\n"
     ]
    }
   ],
   "source": [
    "print(metrics.classification_report(y_test, tree_predictions))"
   ]
  },
  {
   "cell_type": "code",
   "execution_count": 50,
   "metadata": {},
   "outputs": [
    {
     "name": "stdout",
     "output_type": "stream",
     "text": [
      "              precision    recall  f1-score   support\n",
      "\n",
      "           0       1.00      0.89      0.94        19\n",
      "           1       0.86      1.00      0.92        12\n",
      "\n",
      "    accuracy                           0.94        31\n",
      "   macro avg       0.93      0.95      0.93        31\n",
      "weighted avg       0.94      0.94      0.94        31\n",
      "\n"
     ]
    }
   ],
   "source": [
    "print(metrics.classification_report(y_test, xgb_predictions))"
   ]
  },
  {
   "cell_type": "code",
   "execution_count": 51,
   "metadata": {},
   "outputs": [
    {
     "name": "stdout",
     "output_type": "stream",
     "text": [
      "              precision    recall  f1-score   support\n",
      "\n",
      "           0       0.79      0.79      0.79        19\n",
      "           1       0.67      0.67      0.67        12\n",
      "\n",
      "    accuracy                           0.74        31\n",
      "   macro avg       0.73      0.73      0.73        31\n",
      "weighted avg       0.74      0.74      0.74        31\n",
      "\n"
     ]
    }
   ],
   "source": [
    "print(metrics.classification_report(y_test, lr_predictions))"
   ]
  },
  {
   "cell_type": "code",
   "execution_count": 35,
   "metadata": {},
   "outputs": [],
   "source": [
    "def plot_roc_curve(y_test, y_train):\n",
    "    from sklearn.metrics import roc_curve\n",
    "    import matplotlib.pyplot as plt\n",
    "    fpr,tpr,threshold = roc_curve(y_test,y_train, pos_label=1)\n",
    "    plt.xlabel('False Positive Rate')\n",
    "    plt.ylabel('True Positive Rate')\n",
    "    plt.title('roc curve')\n",
    "    plt.plot(fpr, tpr, color = 'b', linewidth = 0.8)\n",
    "    plt.plot([0,1],[0,1],'r--')"
   ]
  },
  {
   "cell_type": "code",
   "execution_count": 61,
   "metadata": {},
   "outputs": [
    {
     "data": {
      "text/plain": [
       "0.7280701754385964"
      ]
     },
     "execution_count": 61,
     "metadata": {},
     "output_type": "execute_result"
    }
   ],
   "source": [
    "roc_auc_score(y_test, lr_predictions)"
   ]
  },
  {
   "cell_type": "code",
   "execution_count": 74,
   "metadata": {},
   "outputs": [
    {
     "data": {
      "image/png": "[encoded data removed]",
      "text/plain": [
       "<Figure size 432x288 with 1 Axes>"
      ]
     },
     "metadata": {
      "needs_background": "light"
     },
     "output_type": "display_data"
    }
   ],
   "source": [
    "plot_roc_curve(y_test, lr_predictions)"
   ]
  },
  {
   "cell_type": "code",
   "execution_count": 60,
   "metadata": {},
   "outputs": [
    {
     "data": {
      "text/plain": [
       "0.9473684210526316"
      ]
     },
     "execution_count": 60,
     "metadata": {},
     "output_type": "execute_result"
    }
   ],
   "source": [
    "roc_auc_score(y_test, xgb_predictions)"
   ]
  },
  {
   "cell_type": "code",
   "execution_count": 42,
   "metadata": {},
   "outputs": [
    {
     "data": {
      "image/png": "[encoded data removed]",
      "text/plain": [
       "<Figure size 432x288 with 1 Axes>"
      ]
     },
     "metadata": {
      "needs_background": "light"
     },
     "output_type": "display_data"
    }
   ],
   "source": [
    "plot_roc_curve(y_test, xgb_predictions)"
   ]
  },
  {
   "cell_type": "code",
   "execution_count": 33,
   "metadata": {},
   "outputs": [
    {
     "data": {
      "text/plain": [
       "0.8947368421052632"
      ]
     },
     "execution_count": 33,
     "metadata": {},
     "output_type": "execute_result"
    }
   ],
   "source": [
    "roc_auc_score(y_test, tree_predictions)"
   ]
  },
  {
   "cell_type": "code",
   "execution_count": 37,
   "metadata": {},
   "outputs": [
    {
     "data": {
      "image/png": "[encoded data removed]",
      "text/plain": [
       "<Figure size 432x288 with 1 Axes>"
      ]
     },
     "metadata": {
      "needs_background": "light"
     },
     "output_type": "display_data"
    }
   ],
   "source": [
    "plot_roc_curve(y_test, tree_predictions)"
   ]
  },
  {
   "cell_type": "code",
   "execution_count": 68,
   "metadata": {},
   "outputs": [
    {
     "name": "stdout",
     "output_type": "stream",
     "text": [
      "\u001b[1mACCURACY SCORE\u001b[0m\n",
      "\u001b[1m------------------------------------------------------------------------\u001b[0m\n",
      "\u001b[1mAccuracy score of the LogisticRegression is 0.7419354838709677\u001b[0m\n",
      "\u001b[1mAccuracy score of the DecisionTree is 0.8709677419354839\u001b[0m\n",
      "\u001b[1mAccuracy score of the XGboosting model is 0.9354838709677419\u001b[0m\n",
      "\u001b[1mRECALL SCORE\u001b[0m\n",
      "\u001b[1m------------------------------------------------------------------------\u001b[0m\n",
      "\u001b[1mRECALL score of the LogisticRegression is 0.6666666666666666\u001b[0m\n",
      "\u001b[1mRECALL score of the DecisionTree is 1.0\u001b[0m\n",
      "\u001b[1mRECALL score of the XGboosting model is 1.0\u001b[0m\n"
     ]
    }
   ],
   "source": [
    "print(cl('ACCURACY SCORE', attrs = ['bold']))\n",
    "print(cl('------------------------------------------------------------------------', attrs = ['bold']))\n",
    "print(cl('Accuracy score of the LogisticRegression is {}'.format(accuracy_score(y_test, lr_predictions)), attrs = ['bold']))\n",
    "print(cl('Accuracy score of the DecisionTree is {}'.format(accuracy_score(y_test, tree_predictions)), attrs = ['bold']))\n",
    "print(cl('Accuracy score of the XGboosting model is {}'.format(accuracy_score(y_test, xgb_predictions)), attrs = ['bold']))\n",
    "\n",
    "print(cl('RECALL SCORE', attrs = ['bold']))\n",
    "print(cl('------------------------------------------------------------------------', attrs = ['bold']))\n",
    "print(cl('RECALL score of the LogisticRegression is {}'.format(recall_score(y_test, lr_predictions)), attrs = ['bold']))\n",
    "print(cl('RECALL score of the DecisionTree is {}'.format(recall_score(y_test, tree_predictions)), attrs = ['bold']))\n",
    "print(cl('RECALL score of the XGboosting model is {}'.format(recall_score(y_test, xgb_predictions)), attrs = ['bold']))"
   ]
  },
  {
   "cell_type": "code",
   "execution_count": null,
   "metadata": {},
   "outputs": [],
   "source": [
    "##In a classification task, a precision score of 1.0 for a class C means that every item labelled as belonging to class C does indeed belong to class C (but says nothing about the number of items from class C that were not labelled correctly) whereas a recall of 1.0 means that every item from class C was labelled as belonging to class C (but says nothing about how many items from other classes were incorrectly also labelled as belonging to class C)."
   ]
  },
  {
   "cell_type": "code",
   "execution_count": 102,
   "metadata": {},
   "outputs": [
    {
     "data": {
      "image/png": "[encoded data removed]",
      "text/plain": [
       "<Figure size 864x864 with 2 Axes>"
      ]
     },
     "metadata": {
      "needs_background": "light"
     },
     "output_type": "display_data"
    },
    {
     "data": {
      "image/png": "[encoded data removed]",
      "text/plain": [
       "<Figure size 864x864 with 2 Axes>"
      ]
     },
     "metadata": {
      "needs_background": "light"
     },
     "output_type": "display_data"
    },
    {
     "data": {
      "image/png": "[encoded data removed]",
      "text/plain": [
       "<Figure size 864x864 with 2 Axes>"
      ]
     },
     "metadata": {
      "needs_background": "light"
     },
     "output_type": "display_data"
    }
   ],
   "source": [
    "#Confusion Matrix\n",
    "\n",
    "# defining the plot function\n",
    "\n",
    "def plot_confusion_matrix(cm, classes, title, normalize = False, cmap = plt.cm.Blues):\n",
    "    title = 'Confusion Matrix of {}'.format(title)\n",
    "    if normalize:\n",
    "        cm = cm.astype(float) / cm.sum(axis=1)[:, np.newaxis]\n",
    "        \n",
    "    plt.figure(figsize=(6*2, 6*2))    # 8, 6\n",
    "    plt.imshow(cm, interpolation='nearest', cmap=cmap)\n",
    "    plt.title(title)\n",
    "    plt.colorbar()\n",
    "    tick_marks = np.arange(len(classes))\n",
    "    plt.xticks(tick_marks, classes, rotation = 45)\n",
    "    plt.yticks(tick_marks, classes)\n",
    "\n",
    "    fmt = '.2f' if normalize else 'd'\n",
    "    thresh = cm.max() / 2.\n",
    "    for i, j in itertools.product(range(cm.shape[0]), range(cm.shape[1])):\n",
    "        plt.text(j, i, format(cm[i, j], fmt),\n",
    "                 horizontalalignment = 'center',\n",
    "                 color = 'white' if cm[i, j] > thresh else 'black')\n",
    "\n",
    "    plt.tight_layout()\n",
    "    plt.ylabel('True label')\n",
    "    plt.xlabel('Predicted label')\n",
    "\n",
    "# Compute confusion matrix for the models\n",
    "\n",
    "lr_matrix = confusion_matrix(y_test, lr_predictions, labels = [0, 1]) # Logistic Regression\n",
    "tree_matrix = confusion_matrix(y_test, tree_predictions, labels = [0, 1]) # Decision Tree\n",
    "xgb_matrix = confusion_matrix(y_test, xgb_predictions, labels = [0, 1]) # XGBoost\n",
    "\n",
    "\n",
    "# Plot the confusion matrix\n",
    "plt.rcParams['figure.figsize'] = (6, 6)\n",
    "\n",
    "# 1. Decision tree\n",
    "\n",
    "tree_cm_plot = plot_confusion_matrix(tree_matrix, \n",
    "                                classes = ['Non-Default(0)','Default(1)'], \n",
    "                                normalize = False, title = 'Decision Tree')\n",
    "plt.savefig('tree_cm_plot.png')\n",
    "plt.show()\n",
    "\n",
    "# 2. XGBoost\n",
    "\n",
    "xgb_cm_plot = plot_confusion_matrix(xgb_matrix, \n",
    "                                classes = ['Non-Default(0)','Default(1)'], \n",
    "                                normalize = False, title = 'XGBoost')\n",
    "plt.savefig('xgb_cm_plot.png')\n",
    "\n",
    "# 4. Logistic Regression\n",
    "\n",
    "lr_cm_plot = plot_confusion_matrix(lr_matrix, \n",
    "                                classes = ['Non-Default(0)','Default(1)'], \n",
    "                                normalize = False, title = 'LogisticRegression')\n",
    "plt.savefig('lr_cm_plot.png')"
   ]
  },
  {
   "cell_type": "markdown",
   "metadata": {},
   "source": [
    "## feature importance"
   ]
  },
  {
   "cell_type": "markdown",
   "metadata": {},
   "source": [
    "## hyperparameter tunning"
   ]
  },
  {
   "cell_type": "code",
   "execution_count": 48,
   "metadata": {},
   "outputs": [
    {
     "data": {
      "text/plain": [
       "DecisionTreeClassifier(max_depth=3, random_state=1)"
      ]
     },
     "execution_count": 48,
     "metadata": {},
     "output_type": "execute_result"
    }
   ],
   "source": [
    "tree_model = DecisionTreeClassifier(max_depth=3, random_state=1)\n",
    "tree_model.fit(X_train, y_train)"
   ]
  },
  {
   "cell_type": "code",
   "execution_count": 49,
   "metadata": {},
   "outputs": [
    {
     "name": "stdout",
     "output_type": "stream",
     "text": [
      "[09:27:09] WARNING: C:/Users/Administrator/workspace/xgboost-win64_release_1.3.0/src/learner.cc:1061: Starting in XGBoost 1.3.0, the default evaluation metric used with the objective 'binary:logistic' was changed from 'error' to 'logloss'. Explicitly set eval_metric if you'd like to restore the old behavior.\n"
     ]
    },
    {
     "name": "stderr",
     "output_type": "stream",
     "text": [
      "C:\\ProgramData\\Anaconda3\\lib\\site-packages\\xgboost\\sklearn.py:888: UserWarning:\n",
      "\n",
      "The use of label encoder in XGBClassifier is deprecated and will be removed in a future release. To remove this warning, do the following: 1) Pass option use_label_encoder=False when constructing XGBClassifier object; and 2) Encode your labels (y) as integers starting with 0, i.e. 0, 1, 2, ..., [num_class - 1].\n",
      "\n"
     ]
    },
    {
     "data": {
      "text/plain": [
       "XGBClassifier(base_score=0.5, booster='gbtree', colsample_bylevel=1,\n",
       "              colsample_bynode=1, colsample_bytree=1, gamma=0, gpu_id=-1,\n",
       "              importance_type='gain', interaction_constraints='',\n",
       "              learning_rate=0.300000012, max_delta_step=0, max_depth=6,\n",
       "              min_child_weight=1, missing=nan, monotone_constraints='()',\n",
       "              n_estimators=100, n_jobs=8, num_parallel_tree=1, random_state=0,\n",
       "              reg_alpha=0, reg_lambda=1, scale_pos_weight=1, subsample=1,\n",
       "              tree_method='exact', validate_parameters=1, verbosity=None)"
      ]
     },
     "execution_count": 49,
     "metadata": {},
     "output_type": "execute_result"
    }
   ],
   "source": [
    "xgb = XGBClassifier()\n",
    "xgb.fit(X_train, y_train)"
   ]
  },
  {
   "cell_type": "code",
   "execution_count": 56,
   "metadata": {},
   "outputs": [],
   "source": [
    "def plot_feature_importance(importance,names,model_type):\n",
    "\n",
    "    feature_importance = np.array(importance)\n",
    "    feature_names = np.array(names)\n",
    "\n",
    "    data={'feature_names':feature_names,'feature_importance':feature_importance}\n",
    "    df = pd.DataFrame(data)\n",
    "\n",
    "    df.sort_values(by=['feature_importance'], ascending=False,inplace=True)\n",
    "\n",
    "    #Define size of bar plot\n",
    "    plt.figure(figsize=(10,8))\n",
    "    #Plot Searborn bar chart\n",
    "    sns.barplot(x=df['feature_importance'], y=df['feature_names'])\n",
    "    #Add chart labels\n",
    "    plt.title(model_type + 'FEATURE IMPORTANCE')\n",
    "    plt.xlabel('FEATURE IMPORTANCE')\n",
    "    plt.ylabel('FEATURE NAMES')"
   ]
  },
  {
   "cell_type": "code",
   "execution_count": 76,
   "metadata": {},
   "outputs": [
    {
     "data": {
      "text/html": [
       "<div>\n",
       "<style scoped>\n",
       "    .dataframe tbody tr th:only-of-type {\n",
       "        vertical-align: middle;\n",
       "    }\n",
       "\n",
       "    .dataframe tbody tr th {\n",
       "        vertical-align: top;\n",
       "    }\n",
       "\n",
       "    .dataframe thead th {\n",
       "        text-align: right;\n",
       "    }\n",
       "</style>\n",
       "<table border=\"1\" class=\"dataframe\">\n",
       "  <thead>\n",
       "    <tr style=\"text-align: right;\">\n",
       "      <th></th>\n",
       "      <th>feature</th>\n",
       "      <th>importance</th>\n",
       "    </tr>\n",
       "  </thead>\n",
       "  <tbody>\n",
       "    <tr>\n",
       "      <th>0</th>\n",
       "      <td>Alcoholic_beverages</td>\n",
       "      <td>0.033660</td>\n",
       "    </tr>\n",
       "    <tr>\n",
       "      <th>1</th>\n",
       "      <td>Animal_fats</td>\n",
       "      <td>0.000000</td>\n",
       "    </tr>\n",
       "    <tr>\n",
       "      <th>2</th>\n",
       "      <td>Animal_Products</td>\n",
       "      <td>0.000000</td>\n",
       "    </tr>\n",
       "    <tr>\n",
       "      <th>3</th>\n",
       "      <td>Aquatic_Products, Other</td>\n",
       "      <td>0.000000</td>\n",
       "    </tr>\n",
       "    <tr>\n",
       "      <th>4</th>\n",
       "      <td>Cereals_Excluding_Beer</td>\n",
       "      <td>0.000000</td>\n",
       "    </tr>\n",
       "    <tr>\n",
       "      <th>5</th>\n",
       "      <td>Eggs</td>\n",
       "      <td>0.000000</td>\n",
       "    </tr>\n",
       "    <tr>\n",
       "      <th>6</th>\n",
       "      <td>Fish_Seafood</td>\n",
       "      <td>0.000000</td>\n",
       "    </tr>\n",
       "    <tr>\n",
       "      <th>7</th>\n",
       "      <td>Fruits_Excluding Wine</td>\n",
       "      <td>0.000000</td>\n",
       "    </tr>\n",
       "    <tr>\n",
       "      <th>8</th>\n",
       "      <td>Meat</td>\n",
       "      <td>0.050924</td>\n",
       "    </tr>\n",
       "    <tr>\n",
       "      <th>9</th>\n",
       "      <td>Milk_Excluding Butter</td>\n",
       "      <td>0.000000</td>\n",
       "    </tr>\n",
       "    <tr>\n",
       "      <th>10</th>\n",
       "      <td>Miscellaneous</td>\n",
       "      <td>0.000000</td>\n",
       "    </tr>\n",
       "    <tr>\n",
       "      <th>11</th>\n",
       "      <td>Offals</td>\n",
       "      <td>0.000000</td>\n",
       "    </tr>\n",
       "    <tr>\n",
       "      <th>12</th>\n",
       "      <td>Oilcrops</td>\n",
       "      <td>0.000000</td>\n",
       "    </tr>\n",
       "    <tr>\n",
       "      <th>13</th>\n",
       "      <td>Pulses</td>\n",
       "      <td>0.000000</td>\n",
       "    </tr>\n",
       "    <tr>\n",
       "      <th>14</th>\n",
       "      <td>Spices</td>\n",
       "      <td>0.000000</td>\n",
       "    </tr>\n",
       "    <tr>\n",
       "      <th>15</th>\n",
       "      <td>Starchy Roots</td>\n",
       "      <td>0.000000</td>\n",
       "    </tr>\n",
       "    <tr>\n",
       "      <th>16</th>\n",
       "      <td>Stimulants</td>\n",
       "      <td>0.000000</td>\n",
       "    </tr>\n",
       "    <tr>\n",
       "      <th>17</th>\n",
       "      <td>Sugar_Sweeteners</td>\n",
       "      <td>0.000000</td>\n",
       "    </tr>\n",
       "    <tr>\n",
       "      <th>18</th>\n",
       "      <td>Sugar_Crops</td>\n",
       "      <td>0.000000</td>\n",
       "    </tr>\n",
       "    <tr>\n",
       "      <th>19</th>\n",
       "      <td>Treenuts</td>\n",
       "      <td>0.000000</td>\n",
       "    </tr>\n",
       "    <tr>\n",
       "      <th>20</th>\n",
       "      <td>Vegetable Oils</td>\n",
       "      <td>0.000000</td>\n",
       "    </tr>\n",
       "    <tr>\n",
       "      <th>21</th>\n",
       "      <td>Vegetables</td>\n",
       "      <td>0.000000</td>\n",
       "    </tr>\n",
       "    <tr>\n",
       "      <th>22</th>\n",
       "      <td>Vegetal_Products</td>\n",
       "      <td>0.000000</td>\n",
       "    </tr>\n",
       "    <tr>\n",
       "      <th>23</th>\n",
       "      <td>Obesity</td>\n",
       "      <td>0.000000</td>\n",
       "    </tr>\n",
       "    <tr>\n",
       "      <th>24</th>\n",
       "      <td>Confirmed</td>\n",
       "      <td>0.882842</td>\n",
       "    </tr>\n",
       "    <tr>\n",
       "      <th>25</th>\n",
       "      <td>Recovered</td>\n",
       "      <td>0.000000</td>\n",
       "    </tr>\n",
       "    <tr>\n",
       "      <th>26</th>\n",
       "      <td>Active</td>\n",
       "      <td>0.000000</td>\n",
       "    </tr>\n",
       "    <tr>\n",
       "      <th>27</th>\n",
       "      <td>Population</td>\n",
       "      <td>0.032574</td>\n",
       "    </tr>\n",
       "    <tr>\n",
       "      <th>28</th>\n",
       "      <td>Undernourished_new</td>\n",
       "      <td>0.000000</td>\n",
       "    </tr>\n",
       "  </tbody>\n",
       "</table>\n",
       "</div>"
      ],
      "text/plain": [
       "                    feature  importance\n",
       "0       Alcoholic_beverages    0.033660\n",
       "1               Animal_fats    0.000000\n",
       "2           Animal_Products    0.000000\n",
       "3   Aquatic_Products, Other    0.000000\n",
       "4    Cereals_Excluding_Beer    0.000000\n",
       "5                      Eggs    0.000000\n",
       "6              Fish_Seafood    0.000000\n",
       "7     Fruits_Excluding Wine    0.000000\n",
       "8                      Meat    0.050924\n",
       "9     Milk_Excluding Butter    0.000000\n",
       "10            Miscellaneous    0.000000\n",
       "11                   Offals    0.000000\n",
       "12                 Oilcrops    0.000000\n",
       "13                   Pulses    0.000000\n",
       "14                   Spices    0.000000\n",
       "15            Starchy Roots    0.000000\n",
       "16               Stimulants    0.000000\n",
       "17         Sugar_Sweeteners    0.000000\n",
       "18              Sugar_Crops    0.000000\n",
       "19                 Treenuts    0.000000\n",
       "20           Vegetable Oils    0.000000\n",
       "21               Vegetables    0.000000\n",
       "22         Vegetal_Products    0.000000\n",
       "23                  Obesity    0.000000\n",
       "24                Confirmed    0.882842\n",
       "25                Recovered    0.000000\n",
       "26                   Active    0.000000\n",
       "27               Population    0.032574\n",
       "28       Undernourished_new    0.000000"
      ]
     },
     "execution_count": 76,
     "metadata": {},
     "output_type": "execute_result"
    }
   ],
   "source": [
    "## feature importance of tree\n",
    "pd.DataFrame({'feature':feature_cols, 'importance':tree_model.feature_importances_})"
   ]
  },
  {
   "cell_type": "code",
   "execution_count": 141,
   "metadata": {},
   "outputs": [
    {
     "data": {
      "image/png": "[encoded data removed]",
      "text/plain": [
       "<Figure size 720x576 with 1 Axes>"
      ]
     },
     "metadata": {
      "needs_background": "light"
     },
     "output_type": "display_data"
    }
   ],
   "source": [
    "plot_feature_importance(tree_model.feature_importances_,feature_cols,'Decision Tree')"
   ]
  },
  {
   "cell_type": "code",
   "execution_count": 77,
   "metadata": {},
   "outputs": [
    {
     "data": {
      "text/html": [
       "<div>\n",
       "<style scoped>\n",
       "    .dataframe tbody tr th:only-of-type {\n",
       "        vertical-align: middle;\n",
       "    }\n",
       "\n",
       "    .dataframe tbody tr th {\n",
       "        vertical-align: top;\n",
       "    }\n",
       "\n",
       "    .dataframe thead th {\n",
       "        text-align: right;\n",
       "    }\n",
       "</style>\n",
       "<table border=\"1\" class=\"dataframe\">\n",
       "  <thead>\n",
       "    <tr style=\"text-align: right;\">\n",
       "      <th></th>\n",
       "      <th>feature</th>\n",
       "      <th>importance</th>\n",
       "    </tr>\n",
       "  </thead>\n",
       "  <tbody>\n",
       "    <tr>\n",
       "      <th>0</th>\n",
       "      <td>Alcoholic_beverages</td>\n",
       "      <td>0.000000</td>\n",
       "    </tr>\n",
       "    <tr>\n",
       "      <th>1</th>\n",
       "      <td>Animal_fats</td>\n",
       "      <td>0.003381</td>\n",
       "    </tr>\n",
       "    <tr>\n",
       "      <th>2</th>\n",
       "      <td>Animal_Products</td>\n",
       "      <td>0.000000</td>\n",
       "    </tr>\n",
       "    <tr>\n",
       "      <th>3</th>\n",
       "      <td>Aquatic_Products, Other</td>\n",
       "      <td>0.000000</td>\n",
       "    </tr>\n",
       "    <tr>\n",
       "      <th>4</th>\n",
       "      <td>Cereals_Excluding_Beer</td>\n",
       "      <td>0.001823</td>\n",
       "    </tr>\n",
       "    <tr>\n",
       "      <th>5</th>\n",
       "      <td>Eggs</td>\n",
       "      <td>0.000000</td>\n",
       "    </tr>\n",
       "    <tr>\n",
       "      <th>6</th>\n",
       "      <td>Fish_Seafood</td>\n",
       "      <td>0.046428</td>\n",
       "    </tr>\n",
       "    <tr>\n",
       "      <th>7</th>\n",
       "      <td>Fruits_Excluding Wine</td>\n",
       "      <td>0.017582</td>\n",
       "    </tr>\n",
       "    <tr>\n",
       "      <th>8</th>\n",
       "      <td>Meat</td>\n",
       "      <td>0.047524</td>\n",
       "    </tr>\n",
       "    <tr>\n",
       "      <th>9</th>\n",
       "      <td>Milk_Excluding Butter</td>\n",
       "      <td>0.088648</td>\n",
       "    </tr>\n",
       "    <tr>\n",
       "      <th>10</th>\n",
       "      <td>Miscellaneous</td>\n",
       "      <td>0.055535</td>\n",
       "    </tr>\n",
       "    <tr>\n",
       "      <th>11</th>\n",
       "      <td>Offals</td>\n",
       "      <td>0.000000</td>\n",
       "    </tr>\n",
       "    <tr>\n",
       "      <th>12</th>\n",
       "      <td>Oilcrops</td>\n",
       "      <td>0.000000</td>\n",
       "    </tr>\n",
       "    <tr>\n",
       "      <th>13</th>\n",
       "      <td>Pulses</td>\n",
       "      <td>0.006734</td>\n",
       "    </tr>\n",
       "    <tr>\n",
       "      <th>14</th>\n",
       "      <td>Spices</td>\n",
       "      <td>0.006569</td>\n",
       "    </tr>\n",
       "    <tr>\n",
       "      <th>15</th>\n",
       "      <td>Starchy Roots</td>\n",
       "      <td>0.000000</td>\n",
       "    </tr>\n",
       "    <tr>\n",
       "      <th>16</th>\n",
       "      <td>Stimulants</td>\n",
       "      <td>0.004987</td>\n",
       "    </tr>\n",
       "    <tr>\n",
       "      <th>17</th>\n",
       "      <td>Sugar_Sweeteners</td>\n",
       "      <td>0.000000</td>\n",
       "    </tr>\n",
       "    <tr>\n",
       "      <th>18</th>\n",
       "      <td>Sugar_Crops</td>\n",
       "      <td>0.000000</td>\n",
       "    </tr>\n",
       "    <tr>\n",
       "      <th>19</th>\n",
       "      <td>Treenuts</td>\n",
       "      <td>0.002840</td>\n",
       "    </tr>\n",
       "    <tr>\n",
       "      <th>20</th>\n",
       "      <td>Vegetable Oils</td>\n",
       "      <td>0.011651</td>\n",
       "    </tr>\n",
       "    <tr>\n",
       "      <th>21</th>\n",
       "      <td>Vegetables</td>\n",
       "      <td>0.009621</td>\n",
       "    </tr>\n",
       "    <tr>\n",
       "      <th>22</th>\n",
       "      <td>Vegetal_Products</td>\n",
       "      <td>0.000000</td>\n",
       "    </tr>\n",
       "    <tr>\n",
       "      <th>23</th>\n",
       "      <td>Obesity</td>\n",
       "      <td>0.002338</td>\n",
       "    </tr>\n",
       "    <tr>\n",
       "      <th>24</th>\n",
       "      <td>Confirmed</td>\n",
       "      <td>0.534147</td>\n",
       "    </tr>\n",
       "    <tr>\n",
       "      <th>25</th>\n",
       "      <td>Recovered</td>\n",
       "      <td>0.039063</td>\n",
       "    </tr>\n",
       "    <tr>\n",
       "      <th>26</th>\n",
       "      <td>Active</td>\n",
       "      <td>0.054168</td>\n",
       "    </tr>\n",
       "    <tr>\n",
       "      <th>27</th>\n",
       "      <td>Population</td>\n",
       "      <td>0.066960</td>\n",
       "    </tr>\n",
       "    <tr>\n",
       "      <th>28</th>\n",
       "      <td>Undernourished_new</td>\n",
       "      <td>0.000000</td>\n",
       "    </tr>\n",
       "  </tbody>\n",
       "</table>\n",
       "</div>"
      ],
      "text/plain": [
       "                    feature  importance\n",
       "0       Alcoholic_beverages    0.000000\n",
       "1               Animal_fats    0.003381\n",
       "2           Animal_Products    0.000000\n",
       "3   Aquatic_Products, Other    0.000000\n",
       "4    Cereals_Excluding_Beer    0.001823\n",
       "5                      Eggs    0.000000\n",
       "6              Fish_Seafood    0.046428\n",
       "7     Fruits_Excluding Wine    0.017582\n",
       "8                      Meat    0.047524\n",
       "9     Milk_Excluding Butter    0.088648\n",
       "10            Miscellaneous    0.055535\n",
       "11                   Offals    0.000000\n",
       "12                 Oilcrops    0.000000\n",
       "13                   Pulses    0.006734\n",
       "14                   Spices    0.006569\n",
       "15            Starchy Roots    0.000000\n",
       "16               Stimulants    0.004987\n",
       "17         Sugar_Sweeteners    0.000000\n",
       "18              Sugar_Crops    0.000000\n",
       "19                 Treenuts    0.002840\n",
       "20           Vegetable Oils    0.011651\n",
       "21               Vegetables    0.009621\n",
       "22         Vegetal_Products    0.000000\n",
       "23                  Obesity    0.002338\n",
       "24                Confirmed    0.534147\n",
       "25                Recovered    0.039063\n",
       "26                   Active    0.054168\n",
       "27               Population    0.066960\n",
       "28       Undernourished_new    0.000000"
      ]
     },
     "execution_count": 77,
     "metadata": {},
     "output_type": "execute_result"
    }
   ],
   "source": [
    "## feature importance of xgb\n",
    "pd.DataFrame({'feature':feature_cols, 'importance':xgb.feature_importances_})"
   ]
  },
  {
   "cell_type": "code",
   "execution_count": 142,
   "metadata": {},
   "outputs": [
    {
     "data": {
      "image/png": "[encoded data removed]",
      "text/plain": [
       "<Figure size 720x576 with 1 Axes>"
      ]
     },
     "metadata": {
      "needs_background": "light"
     },
     "output_type": "display_data"
    }
   ],
   "source": [
    "plot_feature_importance(xgb.feature_importances_,feature_cols,'XGboosting')"
   ]
  },
  {
   "cell_type": "code",
   "execution_count": 52,
   "metadata": {},
   "outputs": [],
   "source": [
    "pd.DataFrame({'feature_names':feature_cols,'feature_importance':tree_model.feature_importances_}).sort_values(by=['feature_importance'], ascending=False,inplace=True)"
   ]
  },
  {
   "cell_type": "code",
   "execution_count": null,
   "metadata": {},
   "outputs": [],
   "source": []
  },
  {
   "cell_type": "code",
   "execution_count": 69,
   "metadata": {},
   "outputs": [
    {
     "data": {
      "image/png": "[encoded data removed]",
      "text/plain": [
       "<Figure size 1296x720 with 3 Axes>"
      ]
     },
     "metadata": {
      "needs_background": "light"
     },
     "output_type": "display_data"
    }
   ],
   "source": [
    "# ploting XGBoost default feature importances\n",
    "fig = plt.figure(figsize = (18, 10))\n",
    "title = fig.suptitle(\"Native Feature Importances from XGBoost\", fontsize=14)\n",
    "\n",
    "ax1 = fig.add_subplot(2, 2, 1)\n",
    "plot_importance(xgb_gscv, importance_type='weight', ax=ax1, color='red')\n",
    "ax1.set_title(\"Feature Importance with Feature Weight\");\n",
    "\n",
    "ax2 = fig.add_subplot(2, 2, 2)\n",
    "plot_importance(xgb_gscv, importance_type='cover', ax=ax2, color='red')\n",
    "ax2.set_title(\"Feature Importance with Sample Coverage\");\n",
    "\n",
    "ax3 = fig.add_subplot(2, 2, 3)\n",
    "plot_importance(xgb_gscv, importance_type='gain', ax=ax3, color='red')\n",
    "ax3.set_title(\"Feature Importance with Split Mean Gain\");"
   ]
  },
  {
   "cell_type": "code",
   "execution_count": null,
   "metadata": {},
   "outputs": [],
   "source": [
    "## create tree graph"
   ]
  },
  {
   "cell_type": "code",
   "execution_count": 144,
   "metadata": {},
   "outputs": [],
   "source": [
    "from sklearn.tree import export_graphviz\n",
    "from sklearn import tree\n",
    "\n",
    "export_graphviz(tree_model, out_file='tree.dot', feature_names=feature_cols)"
   ]
  },
  {
   "cell_type": "code",
   "execution_count": 145,
   "metadata": {},
   "outputs": [
    {
     "data": {
      "text/plain": [
       "True"
      ]
     },
     "execution_count": 145,
     "metadata": {},
     "output_type": "execute_result"
    }
   ],
   "source": [
    "import pydotplus \n",
    "\n",
    "tree = tree.export_graphviz(tree_model, out_file=None) \n",
    "graph = pydotplus.graph_from_dot_data(tree) \n",
    "graph.write_jpg(\"output/food_deaths_tree.jpg\") "
   ]
  },
  {
   "cell_type": "markdown",
   "metadata": {},
   "source": [
    "## next step"
   ]
  },
  {
   "cell_type": "markdown",
   "metadata": {},
   "source": [
    "Decision indicated only confirmed, alcoholic beverage, and meats are important features. \n",
    "The next step only choose the above three paramters to rerun the model and hypter tunning. "
   ]
  },
  {
   "cell_type": "code",
   "execution_count": null,
   "metadata": {},
   "outputs": [],
   "source": [
    "## conclusion "
   ]
  },
  {
   "cell_type": "markdown",
   "metadata": {},
   "source": [
    "The three algorithms have achieved the model performance using food and diets to predict the countries' deaths rate. Logistic regression, decision tree, and XGboosting show an accuracy score over .90. The classification report indicates the logistic regression F1 and recall over .70. the results of the confusion matrix leave more discussions about samples that are classified. Finally, the decision tree model shows only a few features are important. The decision tree graph provides the cutting point of Gini score, which are useful information for the nutritionist and physician to give the patients better treatment and suggestions.   "
   ]
  }
 ],
 "metadata": {
  "kernelspec": {
   "display_name": "Python 3",
   "language": "python",
   "name": "python3"
  },
  "language_info": {
   "codemirror_mode": {
    "name": "ipython",
    "version": 3
   },
   "file_extension": ".py",
   "mimetype": "text/x-python",
   "name": "python",
   "nbconvert_exporter": "python",
   "pygments_lexer": "ipython3",
   "version": "3.8.5"
  }
 },
 "nbformat": 4,
 "nbformat_minor": 4
}
