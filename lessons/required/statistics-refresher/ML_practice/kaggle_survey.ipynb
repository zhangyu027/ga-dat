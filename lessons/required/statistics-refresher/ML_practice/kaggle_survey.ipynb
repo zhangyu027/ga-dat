{
 "cells": [
  {
   "cell_type": "code",
   "execution_count": 92,
   "metadata": {},
   "outputs": [
    {
     "name": "stdout",
     "output_type": "stream",
     "text": [
      "Collecting altair\n",
      "  Downloading altair-4.1.0-py3-none-any.whl (727 kB)\n",
      "Requirement already satisfied: toolz in c:\\users\\zhang\\anaconda3\\lib\\site-packages (from altair) (0.10.0)\n",
      "Requirement already satisfied: jsonschema in c:\\users\\zhang\\anaconda3\\lib\\site-packages (from altair) (3.2.0)\n",
      "Requirement already satisfied: entrypoints in c:\\users\\zhang\\anaconda3\\lib\\site-packages (from altair) (0.3)\n",
      "Requirement already satisfied: pandas>=0.18 in c:\\users\\zhang\\anaconda3\\lib\\site-packages (from altair) (1.0.1)\n",
      "Requirement already satisfied: jinja2 in c:\\users\\zhang\\anaconda3\\lib\\site-packages (from altair) (2.11.1)\n",
      "Requirement already satisfied: numpy in c:\\users\\zhang\\anaconda3\\lib\\site-packages (from altair) (1.19.3)\n",
      "Requirement already satisfied: six>=1.11.0 in c:\\users\\zhang\\anaconda3\\lib\\site-packages (from jsonschema->altair) (1.15.0)\n",
      "Requirement already satisfied: attrs>=17.4.0 in c:\\users\\zhang\\anaconda3\\lib\\site-packages (from jsonschema->altair) (19.3.0)\n",
      "Requirement already satisfied: setuptools in c:\\users\\zhang\\anaconda3\\lib\\site-packages (from jsonschema->altair) (45.2.0.post20200210)\n",
      "Requirement already satisfied: importlib-metadata; python_version < \"3.8\" in c:\\users\\zhang\\anaconda3\\lib\\site-packages (from jsonschema->altair) (1.5.0)\n",
      "Requirement already satisfied: pyrsistent>=0.14.0 in c:\\users\\zhang\\anaconda3\\lib\\site-packages (from jsonschema->altair) (0.15.7)\n",
      "Requirement already satisfied: pytz>=2017.2 in c:\\users\\zhang\\anaconda3\\lib\\site-packages (from pandas>=0.18->altair) (2019.3)\n",
      "Requirement already satisfied: python-dateutil>=2.6.1 in c:\\users\\zhang\\anaconda3\\lib\\site-packages (from pandas>=0.18->altair) (2.8.1)\n",
      "Requirement already satisfied: MarkupSafe>=0.23 in c:\\users\\zhang\\anaconda3\\lib\\site-packages (from jinja2->altair) (1.1.1)\n",
      "Requirement already satisfied: zipp>=0.5 in c:\\users\\zhang\\anaconda3\\lib\\site-packages (from importlib-metadata; python_version < \"3.8\"->jsonschema->altair) (2.2.0)\n",
      "Installing collected packages: altair\n",
      "Successfully installed altair-4.1.0\n",
      "Note: you may need to restart the kernel to use updated packages.\n"
     ]
    }
   ],
   "source": [
    "!pip install altair"
   ]
  },
  {
   "cell_type": "code",
   "execution_count": 93,
   "metadata": {},
   "outputs": [],
   "source": [
    "import numpy as np\n",
    "import pandas as pd\n",
    "import matplotlib.pyplot as plt\n",
    "import seaborn as sns\n",
    "from zipfile import ZipFile\n",
    "import altair as alt \n",
    "\n",
    "%matplotlib inline"
   ]
  },
  {
   "cell_type": "code",
   "execution_count": 79,
   "metadata": {},
   "outputs": [
    {
     "name": "stderr",
     "output_type": "stream",
     "text": [
      "C:\\Users\\zhang\\anaconda3\\lib\\site-packages\\IPython\\core\\interactiveshell.py:3063: DtypeWarning: Columns (0) have mixed types.Specify dtype option on import or set low_memory=False.\n",
      "  interactivity=interactivity, compiler=compiler, result=result)\n",
      "C:\\Users\\zhang\\anaconda3\\lib\\site-packages\\IPython\\core\\interactiveshell.py:3063: DtypeWarning: Columns (0,3,7,19,34,47,49,50,51,52,53,54,68,81,94,96,109,115,130,139,147,154,167,180,193,206,219,232,245) have mixed types.Specify dtype option on import or set low_memory=False.\n",
      "  interactivity=interactivity, compiler=compiler, result=result)\n"
     ]
    }
   ],
   "source": [
    "##response per country\n",
    "df_survey_responses = pd.read_csv(ZipFile(\"../data/kaggle_survey/kaggle_survey_2020_responses.csv.zip\").open(\"kaggle_survey_2020_responses.csv\"))\n",
    "df_multi_choice = pd.read_csv(ZipFile(\"../data/kaggle_survey/multiple_choice_responses.csv.zip\").open(\"multiple_choice_responses.csv\"))\n"
   ]
  },
  {
   "cell_type": "code",
   "execution_count": 80,
   "metadata": {},
   "outputs": [
    {
     "data": {
      "text/html": [
       "<div>\n",
       "<style scoped>\n",
       "    .dataframe tbody tr th:only-of-type {\n",
       "        vertical-align: middle;\n",
       "    }\n",
       "\n",
       "    .dataframe tbody tr th {\n",
       "        vertical-align: top;\n",
       "    }\n",
       "\n",
       "    .dataframe thead th {\n",
       "        text-align: right;\n",
       "    }\n",
       "</style>\n",
       "<table border=\"1\" class=\"dataframe\">\n",
       "  <thead>\n",
       "    <tr style=\"text-align: right;\">\n",
       "      <th></th>\n",
       "      <th>Time from Start to Finish (seconds)</th>\n",
       "      <th>Q1</th>\n",
       "      <th>Q2</th>\n",
       "      <th>Q3</th>\n",
       "      <th>Q4</th>\n",
       "      <th>Q5</th>\n",
       "      <th>Q6</th>\n",
       "      <th>Q7_Part_1</th>\n",
       "      <th>Q7_Part_2</th>\n",
       "      <th>Q7_Part_3</th>\n",
       "      <th>...</th>\n",
       "      <th>Q35_B_Part_2</th>\n",
       "      <th>Q35_B_Part_3</th>\n",
       "      <th>Q35_B_Part_4</th>\n",
       "      <th>Q35_B_Part_5</th>\n",
       "      <th>Q35_B_Part_6</th>\n",
       "      <th>Q35_B_Part_7</th>\n",
       "      <th>Q35_B_Part_8</th>\n",
       "      <th>Q35_B_Part_9</th>\n",
       "      <th>Q35_B_Part_10</th>\n",
       "      <th>Q35_B_OTHER</th>\n",
       "    </tr>\n",
       "  </thead>\n",
       "  <tbody>\n",
       "    <tr>\n",
       "      <th>0</th>\n",
       "      <td>Duration (in seconds)</td>\n",
       "      <td>What is your age (# years)?</td>\n",
       "      <td>What is your gender? - Selected Choice</td>\n",
       "      <td>In which country do you currently reside?</td>\n",
       "      <td>What is the highest level of formal education ...</td>\n",
       "      <td>Select the title most similar to your current ...</td>\n",
       "      <td>For how many years have you been writing code ...</td>\n",
       "      <td>What programming languages do you use on a reg...</td>\n",
       "      <td>What programming languages do you use on a reg...</td>\n",
       "      <td>What programming languages do you use on a reg...</td>\n",
       "      <td>...</td>\n",
       "      <td>In the next 2 years, do you hope to become mor...</td>\n",
       "      <td>In the next 2 years, do you hope to become mor...</td>\n",
       "      <td>In the next 2 years, do you hope to become mor...</td>\n",
       "      <td>In the next 2 years, do you hope to become mor...</td>\n",
       "      <td>In the next 2 years, do you hope to become mor...</td>\n",
       "      <td>In the next 2 years, do you hope to become mor...</td>\n",
       "      <td>In the next 2 years, do you hope to become mor...</td>\n",
       "      <td>In the next 2 years, do you hope to become mor...</td>\n",
       "      <td>In the next 2 years, do you hope to become mor...</td>\n",
       "      <td>In the next 2 years, do you hope to become mor...</td>\n",
       "    </tr>\n",
       "    <tr>\n",
       "      <th>1</th>\n",
       "      <td>1838</td>\n",
       "      <td>35-39</td>\n",
       "      <td>Man</td>\n",
       "      <td>Colombia</td>\n",
       "      <td>Doctoral degree</td>\n",
       "      <td>Student</td>\n",
       "      <td>5-10 years</td>\n",
       "      <td>Python</td>\n",
       "      <td>R</td>\n",
       "      <td>SQL</td>\n",
       "      <td>...</td>\n",
       "      <td>NaN</td>\n",
       "      <td>NaN</td>\n",
       "      <td>NaN</td>\n",
       "      <td>TensorBoard</td>\n",
       "      <td>NaN</td>\n",
       "      <td>NaN</td>\n",
       "      <td>NaN</td>\n",
       "      <td>NaN</td>\n",
       "      <td>NaN</td>\n",
       "      <td>NaN</td>\n",
       "    </tr>\n",
       "    <tr>\n",
       "      <th>2</th>\n",
       "      <td>289287</td>\n",
       "      <td>30-34</td>\n",
       "      <td>Man</td>\n",
       "      <td>United States of America</td>\n",
       "      <td>Master’s degree</td>\n",
       "      <td>Data Engineer</td>\n",
       "      <td>5-10 years</td>\n",
       "      <td>Python</td>\n",
       "      <td>R</td>\n",
       "      <td>SQL</td>\n",
       "      <td>...</td>\n",
       "      <td>NaN</td>\n",
       "      <td>NaN</td>\n",
       "      <td>NaN</td>\n",
       "      <td>NaN</td>\n",
       "      <td>NaN</td>\n",
       "      <td>NaN</td>\n",
       "      <td>NaN</td>\n",
       "      <td>NaN</td>\n",
       "      <td>NaN</td>\n",
       "      <td>NaN</td>\n",
       "    </tr>\n",
       "    <tr>\n",
       "      <th>3</th>\n",
       "      <td>860</td>\n",
       "      <td>35-39</td>\n",
       "      <td>Man</td>\n",
       "      <td>Argentina</td>\n",
       "      <td>Bachelor’s degree</td>\n",
       "      <td>Software Engineer</td>\n",
       "      <td>10-20 years</td>\n",
       "      <td>NaN</td>\n",
       "      <td>NaN</td>\n",
       "      <td>NaN</td>\n",
       "      <td>...</td>\n",
       "      <td>NaN</td>\n",
       "      <td>NaN</td>\n",
       "      <td>NaN</td>\n",
       "      <td>NaN</td>\n",
       "      <td>NaN</td>\n",
       "      <td>NaN</td>\n",
       "      <td>NaN</td>\n",
       "      <td>NaN</td>\n",
       "      <td>None</td>\n",
       "      <td>NaN</td>\n",
       "    </tr>\n",
       "    <tr>\n",
       "      <th>4</th>\n",
       "      <td>507</td>\n",
       "      <td>30-34</td>\n",
       "      <td>Man</td>\n",
       "      <td>United States of America</td>\n",
       "      <td>Master’s degree</td>\n",
       "      <td>Data Scientist</td>\n",
       "      <td>5-10 years</td>\n",
       "      <td>Python</td>\n",
       "      <td>NaN</td>\n",
       "      <td>SQL</td>\n",
       "      <td>...</td>\n",
       "      <td>NaN</td>\n",
       "      <td>NaN</td>\n",
       "      <td>NaN</td>\n",
       "      <td>NaN</td>\n",
       "      <td>NaN</td>\n",
       "      <td>NaN</td>\n",
       "      <td>NaN</td>\n",
       "      <td>NaN</td>\n",
       "      <td>NaN</td>\n",
       "      <td>NaN</td>\n",
       "    </tr>\n",
       "  </tbody>\n",
       "</table>\n",
       "<p>5 rows × 355 columns</p>\n",
       "</div>"
      ],
      "text/plain": [
       "  Time from Start to Finish (seconds)                           Q1  \\\n",
       "0               Duration (in seconds)  What is your age (# years)?   \n",
       "1                                1838                        35-39   \n",
       "2                              289287                        30-34   \n",
       "3                                 860                        35-39   \n",
       "4                                 507                        30-34   \n",
       "\n",
       "                                       Q2  \\\n",
       "0  What is your gender? - Selected Choice   \n",
       "1                                     Man   \n",
       "2                                     Man   \n",
       "3                                     Man   \n",
       "4                                     Man   \n",
       "\n",
       "                                          Q3  \\\n",
       "0  In which country do you currently reside?   \n",
       "1                                   Colombia   \n",
       "2                   United States of America   \n",
       "3                                  Argentina   \n",
       "4                   United States of America   \n",
       "\n",
       "                                                  Q4  \\\n",
       "0  What is the highest level of formal education ...   \n",
       "1                                    Doctoral degree   \n",
       "2                                    Master’s degree   \n",
       "3                                  Bachelor’s degree   \n",
       "4                                    Master’s degree   \n",
       "\n",
       "                                                  Q5  \\\n",
       "0  Select the title most similar to your current ...   \n",
       "1                                            Student   \n",
       "2                                      Data Engineer   \n",
       "3                                  Software Engineer   \n",
       "4                                     Data Scientist   \n",
       "\n",
       "                                                  Q6  \\\n",
       "0  For how many years have you been writing code ...   \n",
       "1                                         5-10 years   \n",
       "2                                         5-10 years   \n",
       "3                                        10-20 years   \n",
       "4                                         5-10 years   \n",
       "\n",
       "                                           Q7_Part_1  \\\n",
       "0  What programming languages do you use on a reg...   \n",
       "1                                             Python   \n",
       "2                                             Python   \n",
       "3                                                NaN   \n",
       "4                                             Python   \n",
       "\n",
       "                                           Q7_Part_2  \\\n",
       "0  What programming languages do you use on a reg...   \n",
       "1                                                  R   \n",
       "2                                                  R   \n",
       "3                                                NaN   \n",
       "4                                                NaN   \n",
       "\n",
       "                                           Q7_Part_3  ...  \\\n",
       "0  What programming languages do you use on a reg...  ...   \n",
       "1                                                SQL  ...   \n",
       "2                                                SQL  ...   \n",
       "3                                                NaN  ...   \n",
       "4                                                SQL  ...   \n",
       "\n",
       "                                        Q35_B_Part_2  \\\n",
       "0  In the next 2 years, do you hope to become mor...   \n",
       "1                                                NaN   \n",
       "2                                                NaN   \n",
       "3                                                NaN   \n",
       "4                                                NaN   \n",
       "\n",
       "                                        Q35_B_Part_3  \\\n",
       "0  In the next 2 years, do you hope to become mor...   \n",
       "1                                                NaN   \n",
       "2                                                NaN   \n",
       "3                                                NaN   \n",
       "4                                                NaN   \n",
       "\n",
       "                                        Q35_B_Part_4  \\\n",
       "0  In the next 2 years, do you hope to become mor...   \n",
       "1                                                NaN   \n",
       "2                                                NaN   \n",
       "3                                                NaN   \n",
       "4                                                NaN   \n",
       "\n",
       "                                        Q35_B_Part_5  \\\n",
       "0  In the next 2 years, do you hope to become mor...   \n",
       "1                                       TensorBoard    \n",
       "2                                                NaN   \n",
       "3                                                NaN   \n",
       "4                                                NaN   \n",
       "\n",
       "                                        Q35_B_Part_6  \\\n",
       "0  In the next 2 years, do you hope to become mor...   \n",
       "1                                                NaN   \n",
       "2                                                NaN   \n",
       "3                                                NaN   \n",
       "4                                                NaN   \n",
       "\n",
       "                                        Q35_B_Part_7  \\\n",
       "0  In the next 2 years, do you hope to become mor...   \n",
       "1                                                NaN   \n",
       "2                                                NaN   \n",
       "3                                                NaN   \n",
       "4                                                NaN   \n",
       "\n",
       "                                        Q35_B_Part_8  \\\n",
       "0  In the next 2 years, do you hope to become mor...   \n",
       "1                                                NaN   \n",
       "2                                                NaN   \n",
       "3                                                NaN   \n",
       "4                                                NaN   \n",
       "\n",
       "                                        Q35_B_Part_9  \\\n",
       "0  In the next 2 years, do you hope to become mor...   \n",
       "1                                                NaN   \n",
       "2                                                NaN   \n",
       "3                                                NaN   \n",
       "4                                                NaN   \n",
       "\n",
       "                                       Q35_B_Part_10  \\\n",
       "0  In the next 2 years, do you hope to become mor...   \n",
       "1                                                NaN   \n",
       "2                                                NaN   \n",
       "3                                               None   \n",
       "4                                                NaN   \n",
       "\n",
       "                                         Q35_B_OTHER  \n",
       "0  In the next 2 years, do you hope to become mor...  \n",
       "1                                                NaN  \n",
       "2                                                NaN  \n",
       "3                                                NaN  \n",
       "4                                                NaN  \n",
       "\n",
       "[5 rows x 355 columns]"
      ]
     },
     "execution_count": 80,
     "metadata": {},
     "output_type": "execute_result"
    }
   ],
   "source": [
    "df_survey_responses.head()"
   ]
  },
  {
   "cell_type": "code",
   "execution_count": 81,
   "metadata": {},
   "outputs": [
    {
     "data": {
      "text/html": [
       "<div>\n",
       "<style scoped>\n",
       "    .dataframe tbody tr th:only-of-type {\n",
       "        vertical-align: middle;\n",
       "    }\n",
       "\n",
       "    .dataframe tbody tr th {\n",
       "        vertical-align: top;\n",
       "    }\n",
       "\n",
       "    .dataframe thead th {\n",
       "        text-align: right;\n",
       "    }\n",
       "</style>\n",
       "<table border=\"1\" class=\"dataframe\">\n",
       "  <thead>\n",
       "    <tr style=\"text-align: right;\">\n",
       "      <th></th>\n",
       "      <th>Time from Start to Finish (seconds)</th>\n",
       "      <th>Q1</th>\n",
       "      <th>Q2</th>\n",
       "      <th>Q2_OTHER_TEXT</th>\n",
       "      <th>Q3</th>\n",
       "      <th>Q4</th>\n",
       "      <th>Q5</th>\n",
       "      <th>Q5_OTHER_TEXT</th>\n",
       "      <th>Q6</th>\n",
       "      <th>Q7</th>\n",
       "      <th>...</th>\n",
       "      <th>Q34_Part_4</th>\n",
       "      <th>Q34_Part_5</th>\n",
       "      <th>Q34_Part_6</th>\n",
       "      <th>Q34_Part_7</th>\n",
       "      <th>Q34_Part_8</th>\n",
       "      <th>Q34_Part_9</th>\n",
       "      <th>Q34_Part_10</th>\n",
       "      <th>Q34_Part_11</th>\n",
       "      <th>Q34_Part_12</th>\n",
       "      <th>Q34_OTHER_TEXT</th>\n",
       "    </tr>\n",
       "  </thead>\n",
       "  <tbody>\n",
       "    <tr>\n",
       "      <th>0</th>\n",
       "      <td>Duration (in seconds)</td>\n",
       "      <td>What is your age (# years)?</td>\n",
       "      <td>What is your gender? - Selected Choice</td>\n",
       "      <td>What is your gender? - Prefer to self-describe...</td>\n",
       "      <td>In which country do you currently reside?</td>\n",
       "      <td>What is the highest level of formal education ...</td>\n",
       "      <td>Select the title most similar to your current ...</td>\n",
       "      <td>Select the title most similar to your current ...</td>\n",
       "      <td>What is the size of the company where you are ...</td>\n",
       "      <td>Approximately how many individuals are respons...</td>\n",
       "      <td>...</td>\n",
       "      <td>Which of the following relational database pro...</td>\n",
       "      <td>Which of the following relational database pro...</td>\n",
       "      <td>Which of the following relational database pro...</td>\n",
       "      <td>Which of the following relational database pro...</td>\n",
       "      <td>Which of the following relational database pro...</td>\n",
       "      <td>Which of the following relational database pro...</td>\n",
       "      <td>Which of the following relational database pro...</td>\n",
       "      <td>Which of the following relational database pro...</td>\n",
       "      <td>Which of the following relational database pro...</td>\n",
       "      <td>Which of the following relational database pro...</td>\n",
       "    </tr>\n",
       "    <tr>\n",
       "      <th>1</th>\n",
       "      <td>510</td>\n",
       "      <td>22-24</td>\n",
       "      <td>Male</td>\n",
       "      <td>-1</td>\n",
       "      <td>France</td>\n",
       "      <td>Master’s degree</td>\n",
       "      <td>Software Engineer</td>\n",
       "      <td>-1</td>\n",
       "      <td>1000-9,999 employees</td>\n",
       "      <td>0</td>\n",
       "      <td>...</td>\n",
       "      <td>NaN</td>\n",
       "      <td>NaN</td>\n",
       "      <td>NaN</td>\n",
       "      <td>NaN</td>\n",
       "      <td>NaN</td>\n",
       "      <td>NaN</td>\n",
       "      <td>NaN</td>\n",
       "      <td>NaN</td>\n",
       "      <td>NaN</td>\n",
       "      <td>-1</td>\n",
       "    </tr>\n",
       "    <tr>\n",
       "      <th>2</th>\n",
       "      <td>423</td>\n",
       "      <td>40-44</td>\n",
       "      <td>Male</td>\n",
       "      <td>-1</td>\n",
       "      <td>India</td>\n",
       "      <td>Professional degree</td>\n",
       "      <td>Software Engineer</td>\n",
       "      <td>-1</td>\n",
       "      <td>&gt; 10,000 employees</td>\n",
       "      <td>20+</td>\n",
       "      <td>...</td>\n",
       "      <td>NaN</td>\n",
       "      <td>NaN</td>\n",
       "      <td>NaN</td>\n",
       "      <td>NaN</td>\n",
       "      <td>NaN</td>\n",
       "      <td>NaN</td>\n",
       "      <td>NaN</td>\n",
       "      <td>NaN</td>\n",
       "      <td>NaN</td>\n",
       "      <td>-1</td>\n",
       "    </tr>\n",
       "    <tr>\n",
       "      <th>3</th>\n",
       "      <td>83</td>\n",
       "      <td>55-59</td>\n",
       "      <td>Female</td>\n",
       "      <td>-1</td>\n",
       "      <td>Germany</td>\n",
       "      <td>Professional degree</td>\n",
       "      <td>NaN</td>\n",
       "      <td>-1</td>\n",
       "      <td>NaN</td>\n",
       "      <td>NaN</td>\n",
       "      <td>...</td>\n",
       "      <td>NaN</td>\n",
       "      <td>NaN</td>\n",
       "      <td>NaN</td>\n",
       "      <td>NaN</td>\n",
       "      <td>NaN</td>\n",
       "      <td>NaN</td>\n",
       "      <td>NaN</td>\n",
       "      <td>NaN</td>\n",
       "      <td>NaN</td>\n",
       "      <td>-1</td>\n",
       "    </tr>\n",
       "    <tr>\n",
       "      <th>4</th>\n",
       "      <td>391</td>\n",
       "      <td>40-44</td>\n",
       "      <td>Male</td>\n",
       "      <td>-1</td>\n",
       "      <td>Australia</td>\n",
       "      <td>Master’s degree</td>\n",
       "      <td>Other</td>\n",
       "      <td>0</td>\n",
       "      <td>&gt; 10,000 employees</td>\n",
       "      <td>20+</td>\n",
       "      <td>...</td>\n",
       "      <td>NaN</td>\n",
       "      <td>NaN</td>\n",
       "      <td>NaN</td>\n",
       "      <td>NaN</td>\n",
       "      <td>NaN</td>\n",
       "      <td>Azure SQL Database</td>\n",
       "      <td>NaN</td>\n",
       "      <td>NaN</td>\n",
       "      <td>NaN</td>\n",
       "      <td>-1</td>\n",
       "    </tr>\n",
       "  </tbody>\n",
       "</table>\n",
       "<p>5 rows × 246 columns</p>\n",
       "</div>"
      ],
      "text/plain": [
       "  Time from Start to Finish (seconds)                           Q1  \\\n",
       "0               Duration (in seconds)  What is your age (# years)?   \n",
       "1                                 510                        22-24   \n",
       "2                                 423                        40-44   \n",
       "3                                  83                        55-59   \n",
       "4                                 391                        40-44   \n",
       "\n",
       "                                       Q2  \\\n",
       "0  What is your gender? - Selected Choice   \n",
       "1                                    Male   \n",
       "2                                    Male   \n",
       "3                                  Female   \n",
       "4                                    Male   \n",
       "\n",
       "                                       Q2_OTHER_TEXT  \\\n",
       "0  What is your gender? - Prefer to self-describe...   \n",
       "1                                                 -1   \n",
       "2                                                 -1   \n",
       "3                                                 -1   \n",
       "4                                                 -1   \n",
       "\n",
       "                                          Q3  \\\n",
       "0  In which country do you currently reside?   \n",
       "1                                     France   \n",
       "2                                      India   \n",
       "3                                    Germany   \n",
       "4                                  Australia   \n",
       "\n",
       "                                                  Q4  \\\n",
       "0  What is the highest level of formal education ...   \n",
       "1                                    Master’s degree   \n",
       "2                                Professional degree   \n",
       "3                                Professional degree   \n",
       "4                                    Master’s degree   \n",
       "\n",
       "                                                  Q5  \\\n",
       "0  Select the title most similar to your current ...   \n",
       "1                                  Software Engineer   \n",
       "2                                  Software Engineer   \n",
       "3                                                NaN   \n",
       "4                                              Other   \n",
       "\n",
       "                                       Q5_OTHER_TEXT  \\\n",
       "0  Select the title most similar to your current ...   \n",
       "1                                                 -1   \n",
       "2                                                 -1   \n",
       "3                                                 -1   \n",
       "4                                                  0   \n",
       "\n",
       "                                                  Q6  \\\n",
       "0  What is the size of the company where you are ...   \n",
       "1                               1000-9,999 employees   \n",
       "2                                 > 10,000 employees   \n",
       "3                                                NaN   \n",
       "4                                 > 10,000 employees   \n",
       "\n",
       "                                                  Q7  ...  \\\n",
       "0  Approximately how many individuals are respons...  ...   \n",
       "1                                                  0  ...   \n",
       "2                                                20+  ...   \n",
       "3                                                NaN  ...   \n",
       "4                                                20+  ...   \n",
       "\n",
       "                                          Q34_Part_4  \\\n",
       "0  Which of the following relational database pro...   \n",
       "1                                                NaN   \n",
       "2                                                NaN   \n",
       "3                                                NaN   \n",
       "4                                                NaN   \n",
       "\n",
       "                                          Q34_Part_5  \\\n",
       "0  Which of the following relational database pro...   \n",
       "1                                                NaN   \n",
       "2                                                NaN   \n",
       "3                                                NaN   \n",
       "4                                                NaN   \n",
       "\n",
       "                                          Q34_Part_6  \\\n",
       "0  Which of the following relational database pro...   \n",
       "1                                                NaN   \n",
       "2                                                NaN   \n",
       "3                                                NaN   \n",
       "4                                                NaN   \n",
       "\n",
       "                                          Q34_Part_7  \\\n",
       "0  Which of the following relational database pro...   \n",
       "1                                                NaN   \n",
       "2                                                NaN   \n",
       "3                                                NaN   \n",
       "4                                                NaN   \n",
       "\n",
       "                                          Q34_Part_8  \\\n",
       "0  Which of the following relational database pro...   \n",
       "1                                                NaN   \n",
       "2                                                NaN   \n",
       "3                                                NaN   \n",
       "4                                                NaN   \n",
       "\n",
       "                                          Q34_Part_9  \\\n",
       "0  Which of the following relational database pro...   \n",
       "1                                                NaN   \n",
       "2                                                NaN   \n",
       "3                                                NaN   \n",
       "4                                 Azure SQL Database   \n",
       "\n",
       "                                         Q34_Part_10  \\\n",
       "0  Which of the following relational database pro...   \n",
       "1                                                NaN   \n",
       "2                                                NaN   \n",
       "3                                                NaN   \n",
       "4                                                NaN   \n",
       "\n",
       "                                         Q34_Part_11  \\\n",
       "0  Which of the following relational database pro...   \n",
       "1                                                NaN   \n",
       "2                                                NaN   \n",
       "3                                                NaN   \n",
       "4                                                NaN   \n",
       "\n",
       "                                         Q34_Part_12  \\\n",
       "0  Which of the following relational database pro...   \n",
       "1                                                NaN   \n",
       "2                                                NaN   \n",
       "3                                                NaN   \n",
       "4                                                NaN   \n",
       "\n",
       "                                      Q34_OTHER_TEXT  \n",
       "0  Which of the following relational database pro...  \n",
       "1                                                 -1  \n",
       "2                                                 -1  \n",
       "3                                                 -1  \n",
       "4                                                 -1  \n",
       "\n",
       "[5 rows x 246 columns]"
      ]
     },
     "execution_count": 81,
     "metadata": {},
     "output_type": "execute_result"
    }
   ],
   "source": [
    "df_multi_choice.head()"
   ]
  },
  {
   "cell_type": "code",
   "execution_count": 82,
   "metadata": {},
   "outputs": [],
   "source": [
    "def abbreviate_nations(df):\n",
    "    df = df.drop(0, axis=0)\n",
    "    #shorten longest country names\n",
    "    df.loc[df['Q3']==\"United Kingdom of Great Britain and Northern Ireland\", \"Q3\"] = \"United Kingdom\"\n",
    "    df.loc[df['Q3']==\"Iran, Islamic Republic of...\", \"Q3\"] = \"Iran\"\n",
    "    \n",
    "    return df"
   ]
  },
  {
   "cell_type": "code",
   "execution_count": 83,
   "metadata": {},
   "outputs": [
    {
     "name": "stdout",
     "output_type": "stream",
     "text": [
      "{'Time from Start to Finish (seconds)': 'Duration (in seconds)', 'Q1': 'What is your age (# years)?', 'Q2': 'What is your gender? - Selected Choice', 'Q3': 'In which country do you currently reside?', 'Q4': 'What is the highest level of formal education that you have attained or plan to attain within the next 2 years?', 'Q5': 'Select the title most similar to your current role (or most recent title if retired): - Selected Choice', 'Q6': 'For how many years have you been writing code and/or programming?', 'Q7_Part_1': 'What programming languages do you use on a regular basis? (Select all that apply) - Selected Choice - Python', 'Q7_Part_2': 'What programming languages do you use on a regular basis? (Select all that apply) - Selected Choice - R', 'Q7_Part_3': 'What programming languages do you use on a regular basis? (Select all that apply) - Selected Choice - SQL', 'Q7_Part_4': 'What programming languages do you use on a regular basis? (Select all that apply) - Selected Choice - C', 'Q7_Part_5': 'What programming languages do you use on a regular basis? (Select all that apply) - Selected Choice - C++', 'Q7_Part_6': 'What programming languages do you use on a regular basis? (Select all that apply) - Selected Choice - Java', 'Q7_Part_7': 'What programming languages do you use on a regular basis? (Select all that apply) - Selected Choice - Javascript', 'Q7_Part_8': 'What programming languages do you use on a regular basis? (Select all that apply) - Selected Choice - Julia', 'Q7_Part_9': 'What programming languages do you use on a regular basis? (Select all that apply) - Selected Choice - Swift', 'Q7_Part_10': 'What programming languages do you use on a regular basis? (Select all that apply) - Selected Choice - Bash', 'Q7_Part_11': 'What programming languages do you use on a regular basis? (Select all that apply) - Selected Choice - MATLAB', 'Q7_Part_12': 'What programming languages do you use on a regular basis? (Select all that apply) - Selected Choice - None', 'Q7_OTHER': 'What programming languages do you use on a regular basis? (Select all that apply) - Selected Choice - Other', 'Q8': 'What programming language would you recommend an aspiring data scientist to learn first? - Selected Choice', 'Q9_Part_1': \"Which of the following integrated development environments (IDE's) do you use on a regular basis?  (Select all that apply) - Selected Choice - Jupyter (JupyterLab, Jupyter Notebooks, etc) \", 'Q9_Part_2': \"Which of the following integrated development environments (IDE's) do you use on a regular basis?  (Select all that apply) - Selected Choice -  RStudio \", 'Q9_Part_3': \"Which of the following integrated development environments (IDE's) do you use on a regular basis?  (Select all that apply) - Selected Choice -  Visual Studio / Visual Studio Code \", 'Q9_Part_4': \"Which of the following integrated development environments (IDE's) do you use on a regular basis?  (Select all that apply) - Selected Choice - Click to write Choice 13\", 'Q9_Part_5': \"Which of the following integrated development environments (IDE's) do you use on a regular basis?  (Select all that apply) - Selected Choice -  PyCharm \", 'Q9_Part_6': \"Which of the following integrated development environments (IDE's) do you use on a regular basis?  (Select all that apply) - Selected Choice -   Spyder  \", 'Q9_Part_7': \"Which of the following integrated development environments (IDE's) do you use on a regular basis?  (Select all that apply) - Selected Choice -   Notepad++  \", 'Q9_Part_8': \"Which of the following integrated development environments (IDE's) do you use on a regular basis?  (Select all that apply) - Selected Choice -   Sublime Text  \", 'Q9_Part_9': \"Which of the following integrated development environments (IDE's) do you use on a regular basis?  (Select all that apply) - Selected Choice -   Vim / Emacs  \", 'Q9_Part_10': \"Which of the following integrated development environments (IDE's) do you use on a regular basis?  (Select all that apply) - Selected Choice -  MATLAB \", 'Q9_Part_11': \"Which of the following integrated development environments (IDE's) do you use on a regular basis?  (Select all that apply) - Selected Choice - None\", 'Q9_OTHER': \"Which of the following integrated development environments (IDE's) do you use on a regular basis?  (Select all that apply) - Selected Choice - Other\", 'Q10_Part_1': 'Which of the following hosted notebook products do you use on a regular basis?  (Select all that apply) - Selected Choice -  Kaggle Notebooks', 'Q10_Part_2': 'Which of the following hosted notebook products do you use on a regular basis?  (Select all that apply) - Selected Choice - Colab Notebooks', 'Q10_Part_3': 'Which of the following hosted notebook products do you use on a regular basis?  (Select all that apply) - Selected Choice - Azure Notebooks', 'Q10_Part_4': 'Which of the following hosted notebook products do you use on a regular basis?  (Select all that apply) - Selected Choice -  Paperspace / Gradient ', 'Q10_Part_5': 'Which of the following hosted notebook products do you use on a regular basis?  (Select all that apply) - Selected Choice -  Binder / JupyterHub ', 'Q10_Part_6': 'Which of the following hosted notebook products do you use on a regular basis?  (Select all that apply) - Selected Choice -  Code Ocean ', 'Q10_Part_7': 'Which of the following hosted notebook products do you use on a regular basis?  (Select all that apply) - Selected Choice -  IBM Watson Studio ', 'Q10_Part_8': 'Which of the following hosted notebook products do you use on a regular basis?  (Select all that apply) - Selected Choice -  Amazon Sagemaker Studio ', 'Q10_Part_9': 'Which of the following hosted notebook products do you use on a regular basis?  (Select all that apply) - Selected Choice -  Amazon EMR Notebooks ', 'Q10_Part_10': 'Which of the following hosted notebook products do you use on a regular basis?  (Select all that apply) - Selected Choice - Google Cloud AI Platform Notebooks ', 'Q10_Part_11': 'Which of the following hosted notebook products do you use on a regular basis?  (Select all that apply) - Selected Choice - Google Cloud Datalab Notebooks', 'Q10_Part_12': 'Which of the following hosted notebook products do you use on a regular basis?  (Select all that apply) - Selected Choice -  Databricks Collaborative Notebooks ', 'Q10_Part_13': 'Which of the following hosted notebook products do you use on a regular basis?  (Select all that apply) - Selected Choice - None', 'Q10_OTHER': 'Which of the following hosted notebook products do you use on a regular basis?  (Select all that apply) - Selected Choice - Other', 'Q11': 'What type of computing platform do you use most often for your data science projects? - Selected Choice', 'Q12_Part_1': 'Which types of specialized hardware do you use on a regular basis?  (Select all that apply) - Selected Choice - GPUs', 'Q12_Part_2': 'Which types of specialized hardware do you use on a regular basis?  (Select all that apply) - Selected Choice - TPUs', 'Q12_Part_3': 'Which types of specialized hardware do you use on a regular basis?  (Select all that apply) - Selected Choice - None', 'Q12_OTHER': 'Which types of specialized hardware do you use on a regular basis?  (Select all that apply) - Selected Choice - Other', 'Q13': 'Approximately how many times have you used a TPU (tensor processing unit)?', 'Q14_Part_1': 'What data visualization libraries or tools do you use on a regular basis?  (Select all that apply) - Selected Choice -  Matplotlib ', 'Q14_Part_2': 'What data visualization libraries or tools do you use on a regular basis?  (Select all that apply) - Selected Choice -  Seaborn ', 'Q14_Part_3': 'What data visualization libraries or tools do you use on a regular basis?  (Select all that apply) - Selected Choice -  Plotly / Plotly Express ', 'Q14_Part_4': 'What data visualization libraries or tools do you use on a regular basis?  (Select all that apply) - Selected Choice -  Ggplot / ggplot2 ', 'Q14_Part_5': 'What data visualization libraries or tools do you use on a regular basis?  (Select all that apply) - Selected Choice -  Shiny ', 'Q14_Part_6': 'What data visualization libraries or tools do you use on a regular basis?  (Select all that apply) - Selected Choice -  D3 js ', 'Q14_Part_7': 'What data visualization libraries or tools do you use on a regular basis?  (Select all that apply) - Selected Choice -  Altair ', 'Q14_Part_8': 'What data visualization libraries or tools do you use on a regular basis?  (Select all that apply) - Selected Choice -  Bokeh ', 'Q14_Part_9': 'What data visualization libraries or tools do you use on a regular basis?  (Select all that apply) - Selected Choice -  Geoplotlib ', 'Q14_Part_10': 'What data visualization libraries or tools do you use on a regular basis?  (Select all that apply) - Selected Choice -  Leaflet / Folium ', 'Q14_Part_11': 'What data visualization libraries or tools do you use on a regular basis?  (Select all that apply) - Selected Choice - None', 'Q14_OTHER': 'What data visualization libraries or tools do you use on a regular basis?  (Select all that apply) - Selected Choice - Other', 'Q15': 'For how many years have you used machine learning methods?', 'Q16_Part_1': 'Which of the following machine learning frameworks do you use on a regular basis? (Select all that apply) - Selected Choice -   Scikit-learn ', 'Q16_Part_2': 'Which of the following machine learning frameworks do you use on a regular basis? (Select all that apply) - Selected Choice -   TensorFlow ', 'Q16_Part_3': 'Which of the following machine learning frameworks do you use on a regular basis? (Select all that apply) - Selected Choice -  Keras ', 'Q16_Part_4': 'Which of the following machine learning frameworks do you use on a regular basis? (Select all that apply) - Selected Choice -  PyTorch ', 'Q16_Part_5': 'Which of the following machine learning frameworks do you use on a regular basis? (Select all that apply) - Selected Choice -  Fast.ai ', 'Q16_Part_6': 'Which of the following machine learning frameworks do you use on a regular basis? (Select all that apply) - Selected Choice -  MXNet ', 'Q16_Part_7': 'Which of the following machine learning frameworks do you use on a regular basis? (Select all that apply) - Selected Choice -  Xgboost ', 'Q16_Part_8': 'Which of the following machine learning frameworks do you use on a regular basis? (Select all that apply) - Selected Choice -  LightGBM ', 'Q16_Part_9': 'Which of the following machine learning frameworks do you use on a regular basis? (Select all that apply) - Selected Choice -  CatBoost ', 'Q16_Part_10': 'Which of the following machine learning frameworks do you use on a regular basis? (Select all that apply) - Selected Choice -  Prophet ', 'Q16_Part_11': 'Which of the following machine learning frameworks do you use on a regular basis? (Select all that apply) - Selected Choice -  H2O 3 ', 'Q16_Part_12': 'Which of the following machine learning frameworks do you use on a regular basis? (Select all that apply) - Selected Choice -  Caret ', 'Q16_Part_13': 'Which of the following machine learning frameworks do you use on a regular basis? (Select all that apply) - Selected Choice -  Tidymodels ', 'Q16_Part_14': 'Which of the following machine learning frameworks do you use on a regular basis? (Select all that apply) - Selected Choice -  JAX ', 'Q16_Part_15': 'Which of the following machine learning frameworks do you use on a regular basis? (Select all that apply) - Selected Choice - None', 'Q16_OTHER': 'Which of the following machine learning frameworks do you use on a regular basis? (Select all that apply) - Selected Choice - Other', 'Q17_Part_1': 'Which of the following ML algorithms do you use on a regular basis? (Select all that apply): - Selected Choice - Linear or Logistic Regression', 'Q17_Part_2': 'Which of the following ML algorithms do you use on a regular basis? (Select all that apply): - Selected Choice - Decision Trees or Random Forests', 'Q17_Part_3': 'Which of the following ML algorithms do you use on a regular basis? (Select all that apply): - Selected Choice - Gradient Boosting Machines (xgboost, lightgbm, etc)', 'Q17_Part_4': 'Which of the following ML algorithms do you use on a regular basis? (Select all that apply): - Selected Choice - Bayesian Approaches', 'Q17_Part_5': 'Which of the following ML algorithms do you use on a regular basis? (Select all that apply): - Selected Choice - Evolutionary Approaches', 'Q17_Part_6': 'Which of the following ML algorithms do you use on a regular basis? (Select all that apply): - Selected Choice - Dense Neural Networks (MLPs, etc)', 'Q17_Part_7': 'Which of the following ML algorithms do you use on a regular basis? (Select all that apply): - Selected Choice - Convolutional Neural Networks', 'Q17_Part_8': 'Which of the following ML algorithms do you use on a regular basis? (Select all that apply): - Selected Choice - Generative Adversarial Networks', 'Q17_Part_9': 'Which of the following ML algorithms do you use on a regular basis? (Select all that apply): - Selected Choice - Recurrent Neural Networks', 'Q17_Part_10': 'Which of the following ML algorithms do you use on a regular basis? (Select all that apply): - Selected Choice - Transformer Networks (BERT, gpt-3, etc)', 'Q17_Part_11': 'Which of the following ML algorithms do you use on a regular basis? (Select all that apply): - Selected Choice - None', 'Q17_OTHER': 'Which of the following ML algorithms do you use on a regular basis? (Select all that apply): - Selected Choice - Other', 'Q18_Part_1': 'Which categories of computer vision methods do you use on a regular basis?  (Select all that apply) - Selected Choice - General purpose image/video tools (PIL, cv2, skimage, etc)', 'Q18_Part_2': 'Which categories of computer vision methods do you use on a regular basis?  (Select all that apply) - Selected Choice - Image segmentation methods (U-Net, Mask R-CNN, etc)', 'Q18_Part_3': 'Which categories of computer vision methods do you use on a regular basis?  (Select all that apply) - Selected Choice - Object detection methods (YOLOv3, RetinaNet, etc)', 'Q18_Part_4': 'Which categories of computer vision methods do you use on a regular basis?  (Select all that apply) - Selected Choice - Image classification and other general purpose networks (VGG, Inception, ResNet, ResNeXt, NASNet, EfficientNet, etc)', 'Q18_Part_5': 'Which categories of computer vision methods do you use on a regular basis?  (Select all that apply) - Selected Choice - Generative Networks (GAN, VAE, etc)', 'Q18_Part_6': 'Which categories of computer vision methods do you use on a regular basis?  (Select all that apply) - Selected Choice - None', 'Q18_OTHER': 'Which categories of computer vision methods do you use on a regular basis?  (Select all that apply) - Selected Choice - Other', 'Q19_Part_1': 'Which of the following natural language processing (NLP) methods do you use on a regular basis?  (Select all that apply) - Selected Choice - Word embeddings/vectors (GLoVe, fastText, word2vec)', 'Q19_Part_2': 'Which of the following natural language processing (NLP) methods do you use on a regular basis?  (Select all that apply) - Selected Choice - Encoder-decorder models (seq2seq, vanilla transformers)', 'Q19_Part_3': 'Which of the following natural language processing (NLP) methods do you use on a regular basis?  (Select all that apply) - Selected Choice - Contextualized embeddings (ELMo, CoVe)', 'Q19_Part_4': 'Which of the following natural language processing (NLP) methods do you use on a regular basis?  (Select all that apply) - Selected Choice - Transformer language models (GPT-3, BERT, XLnet, etc)', 'Q19_Part_5': 'Which of the following natural language processing (NLP) methods do you use on a regular basis?  (Select all that apply) - Selected Choice - None', 'Q19_OTHER': 'Which of the following natural language processing (NLP) methods do you use on a regular basis?  (Select all that apply) - Selected Choice - Other', 'Q20': 'What is the size of the company where you are employed?', 'Q21': 'Approximately how many individuals are responsible for data science workloads at your place of business?', 'Q22': 'Does your current employer incorporate machine learning methods into their business?', 'Q23_Part_1': 'Select any activities that make up an important part of your role at work: (Select all that apply) - Selected Choice - Analyze and understand data to influence product or business decisions', 'Q23_Part_2': 'Select any activities that make up an important part of your role at work: (Select all that apply) - Selected Choice - Build and/or run the data infrastructure that my business uses for storing, analyzing, and operationalizing data', 'Q23_Part_3': 'Select any activities that make up an important part of your role at work: (Select all that apply) - Selected Choice - Build prototypes to explore applying machine learning to new areas', 'Q23_Part_4': 'Select any activities that make up an important part of your role at work: (Select all that apply) - Selected Choice - Build and/or run a machine learning service that operationally improves my product or workflows', 'Q23_Part_5': 'Select any activities that make up an important part of your role at work: (Select all that apply) - Selected Choice - Experimentation and iteration to improve existing ML models', 'Q23_Part_6': 'Select any activities that make up an important part of your role at work: (Select all that apply) - Selected Choice - Do research that advances the state of the art of machine learning', 'Q23_Part_7': 'Select any activities that make up an important part of your role at work: (Select all that apply) - Selected Choice - None of these activities are an important part of my role at work', 'Q23_OTHER': 'Select any activities that make up an important part of your role at work: (Select all that apply) - Selected Choice - Other', 'Q24': 'What is your current yearly compensation (approximate $USD)?', 'Q25': 'Approximately how much money have you (or your team) spent on machine learning and/or cloud computing services at home (or at work) in the past 5 years (approximate $USD)?', 'Q26_A_Part_1': 'Which of the following cloud computing platforms do you use on a regular basis? (Select all that apply) - Selected Choice -  Amazon Web Services (AWS) ', 'Q26_A_Part_2': 'Which of the following cloud computing platforms do you use on a regular basis? (Select all that apply) - Selected Choice -  Microsoft Azure ', 'Q26_A_Part_3': 'Which of the following cloud computing platforms do you use on a regular basis? (Select all that apply) - Selected Choice -  Google Cloud Platform (GCP) ', 'Q26_A_Part_4': 'Which of the following cloud computing platforms do you use on a regular basis? (Select all that apply) - Selected Choice -  IBM Cloud / Red Hat ', 'Q26_A_Part_5': 'Which of the following cloud computing platforms do you use on a regular basis? (Select all that apply) - Selected Choice -  Oracle Cloud ', 'Q26_A_Part_6': 'Which of the following cloud computing platforms do you use on a regular basis? (Select all that apply) - Selected Choice -  SAP Cloud ', 'Q26_A_Part_7': 'Which of the following cloud computing platforms do you use on a regular basis? (Select all that apply) - Selected Choice -  Salesforce Cloud ', 'Q26_A_Part_8': 'Which of the following cloud computing platforms do you use on a regular basis? (Select all that apply) - Selected Choice -  VMware Cloud ', 'Q26_A_Part_9': 'Which of the following cloud computing platforms do you use on a regular basis? (Select all that apply) - Selected Choice -  Alibaba Cloud ', 'Q26_A_Part_10': 'Which of the following cloud computing platforms do you use on a regular basis? (Select all that apply) - Selected Choice -  Tencent Cloud ', 'Q26_A_Part_11': 'Which of the following cloud computing platforms do you use on a regular basis? (Select all that apply) - Selected Choice - None', 'Q26_A_OTHER': 'Which of the following cloud computing platforms do you use on a regular basis? (Select all that apply) - Selected Choice - Other', 'Q27_A_Part_1': 'Do you use any of the following cloud computing products on a regular basis? (Select all that apply) - Selected Choice -  Amazon EC2 ', 'Q27_A_Part_2': 'Do you use any of the following cloud computing products on a regular basis? (Select all that apply) - Selected Choice -  AWS Lambda ', 'Q27_A_Part_3': 'Do you use any of the following cloud computing products on a regular basis? (Select all that apply) - Selected Choice -  Amazon Elastic Container Service ', 'Q27_A_Part_4': 'Do you use any of the following cloud computing products on a regular basis? (Select all that apply) - Selected Choice -  Azure Cloud Services ', 'Q27_A_Part_5': 'Do you use any of the following cloud computing products on a regular basis? (Select all that apply) - Selected Choice -  Microsoft Azure Container Instances ', 'Q27_A_Part_6': 'Do you use any of the following cloud computing products on a regular basis? (Select all that apply) - Selected Choice -  Azure Functions ', 'Q27_A_Part_7': 'Do you use any of the following cloud computing products on a regular basis? (Select all that apply) - Selected Choice -  Google Cloud Compute Engine ', 'Q27_A_Part_8': 'Do you use any of the following cloud computing products on a regular basis? (Select all that apply) - Selected Choice -  Google Cloud Functions ', 'Q27_A_Part_9': 'Do you use any of the following cloud computing products on a regular basis? (Select all that apply) - Selected Choice -  Google Cloud Run ', 'Q27_A_Part_10': 'Do you use any of the following cloud computing products on a regular basis? (Select all that apply) - Selected Choice -  Google Cloud App Engine ', 'Q27_A_Part_11': 'Do you use any of the following cloud computing products on a regular basis? (Select all that apply) - Selected Choice - No / None', 'Q27_A_OTHER': 'Do you use any of the following cloud computing products on a regular basis? (Select all that apply) - Selected Choice - Other', 'Q28_A_Part_1': 'Do you use any of the following machine learning products on a regular basis? (Select all that apply) - Selected Choice -  Amazon SageMaker ', 'Q28_A_Part_2': 'Do you use any of the following machine learning products on a regular basis? (Select all that apply) - Selected Choice -  Amazon Forecast ', 'Q28_A_Part_3': 'Do you use any of the following machine learning products on a regular basis? (Select all that apply) - Selected Choice -  Amazon Rekognition ', 'Q28_A_Part_4': 'Do you use any of the following machine learning products on a regular basis? (Select all that apply) - Selected Choice -  Azure Machine Learning Studio ', 'Q28_A_Part_5': 'Do you use any of the following machine learning products on a regular basis? (Select all that apply) - Selected Choice -  Azure Cognitive Services ', 'Q28_A_Part_6': 'Do you use any of the following machine learning products on a regular basis? (Select all that apply) - Selected Choice -  Google Cloud AI Platform / Google Cloud ML Engine', 'Q28_A_Part_7': 'Do you use any of the following machine learning products on a regular basis? (Select all that apply) - Selected Choice -  Google Cloud Video AI ', 'Q28_A_Part_8': 'Do you use any of the following machine learning products on a regular basis? (Select all that apply) - Selected Choice -  Google Cloud Natural Language ', 'Q28_A_Part_9': 'Do you use any of the following machine learning products on a regular basis? (Select all that apply) - Selected Choice -  Google Cloud Vision AI ', 'Q28_A_Part_10': 'Do you use any of the following machine learning products on a regular basis? (Select all that apply) - Selected Choice - No / None', 'Q28_A_OTHER': 'Do you use any of the following machine learning products on a regular basis? (Select all that apply) - Selected Choice - Other', 'Q29_A_Part_1': 'Which of the following big data products (relational databases, data warehouses, data lakes, or similar) do you use on a regular basis? (Select all that apply) - Selected Choice - MySQL ', 'Q29_A_Part_2': 'Which of the following big data products (relational databases, data warehouses, data lakes, or similar) do you use on a regular basis? (Select all that apply) - Selected Choice - PostgresSQL ', 'Q29_A_Part_3': 'Which of the following big data products (relational databases, data warehouses, data lakes, or similar) do you use on a regular basis? (Select all that apply) - Selected Choice - SQLite ', 'Q29_A_Part_4': 'Which of the following big data products (relational databases, data warehouses, data lakes, or similar) do you use on a regular basis? (Select all that apply) - Selected Choice - Oracle Database ', 'Q29_A_Part_5': 'Which of the following big data products (relational databases, data warehouses, data lakes, or similar) do you use on a regular basis? (Select all that apply) - Selected Choice - MongoDB ', 'Q29_A_Part_6': 'Which of the following big data products (relational databases, data warehouses, data lakes, or similar) do you use on a regular basis? (Select all that apply) - Selected Choice - Snowflake ', 'Q29_A_Part_7': 'Which of the following big data products (relational databases, data warehouses, data lakes, or similar) do you use on a regular basis? (Select all that apply) - Selected Choice - IBM Db2 ', 'Q29_A_Part_8': 'Which of the following big data products (relational databases, data warehouses, data lakes, or similar) do you use on a regular basis? (Select all that apply) - Selected Choice - Microsoft SQL Server ', 'Q29_A_Part_9': 'Which of the following big data products (relational databases, data warehouses, data lakes, or similar) do you use on a regular basis? (Select all that apply) - Selected Choice - Microsoft Access ', 'Q29_A_Part_10': 'Which of the following big data products (relational databases, data warehouses, data lakes, or similar) do you use on a regular basis? (Select all that apply) - Selected Choice - Microsoft Azure Data Lake Storage ', 'Q29_A_Part_11': 'Which of the following big data products (relational databases, data warehouses, data lakes, or similar) do you use on a regular basis? (Select all that apply) - Selected Choice - Amazon Redshift ', 'Q29_A_Part_12': 'Which of the following big data products (relational databases, data warehouses, data lakes, or similar) do you use on a regular basis? (Select all that apply) - Selected Choice - Amazon Athena ', 'Q29_A_Part_13': 'Which of the following big data products (relational databases, data warehouses, data lakes, or similar) do you use on a regular basis? (Select all that apply) - Selected Choice - Amazon DynamoDB ', 'Q29_A_Part_14': 'Which of the following big data products (relational databases, data warehouses, data lakes, or similar) do you use on a regular basis? (Select all that apply) - Selected Choice - Google Cloud BigQuery ', 'Q29_A_Part_15': 'Which of the following big data products (relational databases, data warehouses, data lakes, or similar) do you use on a regular basis? (Select all that apply) - Selected Choice - Google Cloud SQL ', 'Q29_A_Part_16': 'Which of the following big data products (relational databases, data warehouses, data lakes, or similar) do you use on a regular basis? (Select all that apply) - Selected Choice - Google Cloud Firestore ', 'Q29_A_Part_17': 'Which of the following big data products (relational databases, data warehouses, data lakes, or similar) do you use on a regular basis? (Select all that apply) - Selected Choice - None', 'Q29_A_OTHER': 'Which of the following big data products (relational databases, data warehouses, data lakes, or similar) do you use on a regular basis? (Select all that apply) - Selected Choice - Other', 'Q30': 'Which of the following big data products (relational database, data warehouse, data lake, or similar) do you use most often? - Selected Choice', 'Q31_A_Part_1': 'Which of the following business intelligence tools do you use on a regular basis? (Select all that apply) - Selected Choice - Amazon QuickSight', 'Q31_A_Part_2': 'Which of the following business intelligence tools do you use on a regular basis? (Select all that apply) - Selected Choice - Microsoft Power BI', 'Q31_A_Part_3': 'Which of the following business intelligence tools do you use on a regular basis? (Select all that apply) - Selected Choice - Google Data Studio', 'Q31_A_Part_4': 'Which of the following business intelligence tools do you use on a regular basis? (Select all that apply) - Selected Choice - Looker', 'Q31_A_Part_5': 'Which of the following business intelligence tools do you use on a regular basis? (Select all that apply) - Selected Choice - Tableau', 'Q31_A_Part_6': 'Which of the following business intelligence tools do you use on a regular basis? (Select all that apply) - Selected Choice - Salesforce', 'Q31_A_Part_7': 'Which of the following business intelligence tools do you use on a regular basis? (Select all that apply) - Selected Choice - Einstein Analytics', 'Q31_A_Part_8': 'Which of the following business intelligence tools do you use on a regular basis? (Select all that apply) - Selected Choice - Qlik', 'Q31_A_Part_9': 'Which of the following business intelligence tools do you use on a regular basis? (Select all that apply) - Selected Choice - Domo', 'Q31_A_Part_10': 'Which of the following business intelligence tools do you use on a regular basis? (Select all that apply) - Selected Choice - TIBCO Spotfire', 'Q31_A_Part_11': 'Which of the following business intelligence tools do you use on a regular basis? (Select all that apply) - Selected Choice - Alteryx ', 'Q31_A_Part_12': 'Which of the following business intelligence tools do you use on a regular basis? (Select all that apply) - Selected Choice - Sisense ', 'Q31_A_Part_13': 'Which of the following business intelligence tools do you use on a regular basis? (Select all that apply) - Selected Choice - SAP Analytics Cloud ', 'Q31_A_Part_14': 'Which of the following business intelligence tools do you use on a regular basis? (Select all that apply) - Selected Choice - None', 'Q31_A_OTHER': 'Which of the following business intelligence tools do you use on a regular basis? (Select all that apply) - Selected Choice - Other', 'Q32': 'Which of the following business intelligence tools do you use most often? - Selected Choice', 'Q33_A_Part_1': 'Do you use any automated machine learning tools (or partial AutoML tools) on a regular basis?  (Select all that apply) - Selected Choice - Automated data augmentation (e.g. imgaug, albumentations)', 'Q33_A_Part_2': 'Do you use any automated machine learning tools (or partial AutoML tools) on a regular basis?  (Select all that apply) - Selected Choice - Automated feature engineering/selection (e.g. tpot, boruta_py)', 'Q33_A_Part_3': 'Do you use any automated machine learning tools (or partial AutoML tools) on a regular basis?  (Select all that apply) - Selected Choice - Automated model selection (e.g. auto-sklearn, xcessiv)', 'Q33_A_Part_4': 'Do you use any automated machine learning tools (or partial AutoML tools) on a regular basis?  (Select all that apply) - Selected Choice - Automated model architecture searches (e.g. darts, enas)', 'Q33_A_Part_5': 'Do you use any automated machine learning tools (or partial AutoML tools) on a regular basis?  (Select all that apply) - Selected Choice - Automated hyperparameter tuning (e.g. hyperopt, ray.tune, Vizier)', 'Q33_A_Part_6': 'Do you use any automated machine learning tools (or partial AutoML tools) on a regular basis?  (Select all that apply) - Selected Choice - Automation of full ML pipelines (e.g. Google AutoML, H20 Driverless AI)', 'Q33_A_Part_7': 'Do you use any automated machine learning tools (or partial AutoML tools) on a regular basis?  (Select all that apply) - Selected Choice - No / None', 'Q33_A_OTHER': 'Do you use any automated machine learning tools (or partial AutoML tools) on a regular basis?  (Select all that apply) - Selected Choice - Other', 'Q34_A_Part_1': 'Which of the following automated machine learning tools (or partial AutoML tools) do you use on a regular basis?  (Select all that apply) - Selected Choice -  Google Cloud AutoML ', 'Q34_A_Part_2': 'Which of the following automated machine learning tools (or partial AutoML tools) do you use on a regular basis?  (Select all that apply) - Selected Choice -  H20 Driverless AI  ', 'Q34_A_Part_3': 'Which of the following automated machine learning tools (or partial AutoML tools) do you use on a regular basis?  (Select all that apply) - Selected Choice -  Databricks AutoML ', 'Q34_A_Part_4': 'Which of the following automated machine learning tools (or partial AutoML tools) do you use on a regular basis?  (Select all that apply) - Selected Choice -  DataRobot AutoML ', 'Q34_A_Part_5': 'Which of the following automated machine learning tools (or partial AutoML tools) do you use on a regular basis?  (Select all that apply) - Selected Choice -   Tpot ', 'Q34_A_Part_6': 'Which of the following automated machine learning tools (or partial AutoML tools) do you use on a regular basis?  (Select all that apply) - Selected Choice -   Auto-Keras ', 'Q34_A_Part_7': 'Which of the following automated machine learning tools (or partial AutoML tools) do you use on a regular basis?  (Select all that apply) - Selected Choice -   Auto-Sklearn ', 'Q34_A_Part_8': 'Which of the following automated machine learning tools (or partial AutoML tools) do you use on a regular basis?  (Select all that apply) - Selected Choice -   Auto_ml ', 'Q34_A_Part_9': 'Which of the following automated machine learning tools (or partial AutoML tools) do you use on a regular basis?  (Select all that apply) - Selected Choice -   Xcessiv ', 'Q34_A_Part_10': 'Which of the following automated machine learning tools (or partial AutoML tools) do you use on a regular basis?  (Select all that apply) - Selected Choice -   MLbox ', 'Q34_A_Part_11': 'Which of the following automated machine learning tools (or partial AutoML tools) do you use on a regular basis?  (Select all that apply) - Selected Choice - No / None', 'Q34_A_OTHER': 'Which of the following automated machine learning tools (or partial AutoML tools) do you use on a regular basis?  (Select all that apply) - Selected Choice - Other', 'Q35_A_Part_1': 'Do you use any tools to help manage machine learning experiments? (Select all that apply) - Selected Choice -  Neptune.ai ', 'Q35_A_Part_2': 'Do you use any tools to help manage machine learning experiments? (Select all that apply) - Selected Choice -  Weights & Biases ', 'Q35_A_Part_3': 'Do you use any tools to help manage machine learning experiments? (Select all that apply) - Selected Choice -  Comet.ml ', 'Q35_A_Part_4': 'Do you use any tools to help manage machine learning experiments? (Select all that apply) - Selected Choice -  Sacred + Omniboard ', 'Q35_A_Part_5': 'Do you use any tools to help manage machine learning experiments? (Select all that apply) - Selected Choice -  TensorBoard ', 'Q35_A_Part_6': 'Do you use any tools to help manage machine learning experiments? (Select all that apply) - Selected Choice -  Guild.ai ', 'Q35_A_Part_7': 'Do you use any tools to help manage machine learning experiments? (Select all that apply) - Selected Choice -  Polyaxon ', 'Q35_A_Part_8': 'Do you use any tools to help manage machine learning experiments? (Select all that apply) - Selected Choice -  Trains ', 'Q35_A_Part_9': 'Do you use any tools to help manage machine learning experiments? (Select all that apply) - Selected Choice -  Domino Model Monitor ', 'Q35_A_Part_10': 'Do you use any tools to help manage machine learning experiments? (Select all that apply) - Selected Choice - No / None', 'Q35_A_OTHER': 'Do you use any tools to help manage machine learning experiments? (Select all that apply) - Selected Choice - Other', 'Q36_Part_1': 'Where do you publicly share or deploy your data analysis or machine learning applications? (Select all that apply) - Selected Choice -  Plotly Dash ', 'Q36_Part_2': 'Where do you publicly share or deploy your data analysis or machine learning applications? (Select all that apply) - Selected Choice -  Streamlit ', 'Q36_Part_3': 'Where do you publicly share or deploy your data analysis or machine learning applications? (Select all that apply) - Selected Choice -  NBViewer ', 'Q36_Part_4': 'Where do you publicly share or deploy your data analysis or machine learning applications? (Select all that apply) - Selected Choice -  GitHub ', 'Q36_Part_5': 'Where do you publicly share or deploy your data analysis or machine learning applications? (Select all that apply) - Selected Choice -  Personal blog ', 'Q36_Part_6': 'Where do you publicly share or deploy your data analysis or machine learning applications? (Select all that apply) - Selected Choice -  Kaggle ', 'Q36_Part_7': 'Where do you publicly share or deploy your data analysis or machine learning applications? (Select all that apply) - Selected Choice -  Colab ', 'Q36_Part_8': 'Where do you publicly share or deploy your data analysis or machine learning applications? (Select all that apply) - Selected Choice -  Shiny ', 'Q36_Part_9': 'Where do you publicly share or deploy your data analysis or machine learning applications? (Select all that apply) - Selected Choice - I do not share my work publicly', 'Q36_OTHER': 'Where do you publicly share or deploy your data analysis or machine learning applications? (Select all that apply) - Selected Choice - Other', 'Q37_Part_1': 'On which platforms have you begun or completed data science courses? (Select all that apply) - Selected Choice - Coursera', 'Q37_Part_2': 'On which platforms have you begun or completed data science courses? (Select all that apply) - Selected Choice - edX', 'Q37_Part_3': 'On which platforms have you begun or completed data science courses? (Select all that apply) - Selected Choice - Kaggle Learn Courses', 'Q37_Part_4': 'On which platforms have you begun or completed data science courses? (Select all that apply) - Selected Choice - DataCamp', 'Q37_Part_5': 'On which platforms have you begun or completed data science courses? (Select all that apply) - Selected Choice - Fast.ai', 'Q37_Part_6': 'On which platforms have you begun or completed data science courses? (Select all that apply) - Selected Choice - Udacity', 'Q37_Part_7': 'On which platforms have you begun or completed data science courses? (Select all that apply) - Selected Choice - Udemy', 'Q37_Part_8': 'On which platforms have you begun or completed data science courses? (Select all that apply) - Selected Choice - LinkedIn Learning', 'Q37_Part_9': 'On which platforms have you begun or completed data science courses? (Select all that apply) - Selected Choice - Cloud-certification programs (direct from AWS, Azure, GCP, or similar)', 'Q37_Part_10': 'On which platforms have you begun or completed data science courses? (Select all that apply) - Selected Choice - University Courses (resulting in a university degree)', 'Q37_Part_11': 'On which platforms have you begun or completed data science courses? (Select all that apply) - Selected Choice - None', 'Q37_OTHER': 'On which platforms have you begun or completed data science courses? (Select all that apply) - Selected Choice - Other', 'Q38': 'What is the primary tool that you use at work or school to analyze data? (Include text response) - Selected Choice', 'Q39_Part_1': 'Who/what are your favorite media sources that report on data science topics? (Select all that apply) - Selected Choice - Twitter (data science influencers)', 'Q39_Part_2': \"Who/what are your favorite media sources that report on data science topics? (Select all that apply) - Selected Choice - Email newsletters (Data Elixir, O'Reilly Data & AI, etc)\", 'Q39_Part_3': 'Who/what are your favorite media sources that report on data science topics? (Select all that apply) - Selected Choice - Reddit (r/machinelearning, etc)', 'Q39_Part_4': 'Who/what are your favorite media sources that report on data science topics? (Select all that apply) - Selected Choice - Kaggle (notebooks, forums, etc)', 'Q39_Part_5': 'Who/what are your favorite media sources that report on data science topics? (Select all that apply) - Selected Choice - Course Forums (forums.fast.ai, Coursera forums, etc)', 'Q39_Part_6': 'Who/what are your favorite media sources that report on data science topics? (Select all that apply) - Selected Choice - YouTube (Kaggle YouTube, Cloud AI Adventures, etc)', 'Q39_Part_7': 'Who/what are your favorite media sources that report on data science topics? (Select all that apply) - Selected Choice - Podcasts (Chai Time Data Science, O’Reilly Data Show, etc)', 'Q39_Part_8': 'Who/what are your favorite media sources that report on data science topics? (Select all that apply) - Selected Choice - Blogs (Towards Data Science, Analytics Vidhya, etc)', 'Q39_Part_9': 'Who/what are your favorite media sources that report on data science topics? (Select all that apply) - Selected Choice - Journal Publications (peer-reviewed journals, conference proceedings, etc)', 'Q39_Part_10': 'Who/what are your favorite media sources that report on data science topics? (Select all that apply) - Selected Choice - Slack Communities (ods.ai, kagglenoobs, etc)', 'Q39_Part_11': 'Who/what are your favorite media sources that report on data science topics? (Select all that apply) - Selected Choice - None', 'Q39_OTHER': 'Who/what are your favorite media sources that report on data science topics? (Select all that apply) - Selected Choice - Other', 'Q26_B_Part_1': 'Which of the following cloud computing platforms do you hope to become more familiar with in the next 2 years? - Selected Choice -  Amazon Web Services (AWS) ', 'Q26_B_Part_2': 'Which of the following cloud computing platforms do you hope to become more familiar with in the next 2 years? - Selected Choice -  Microsoft Azure ', 'Q26_B_Part_3': 'Which of the following cloud computing platforms do you hope to become more familiar with in the next 2 years? - Selected Choice -  Google Cloud Platform (GCP) ', 'Q26_B_Part_4': 'Which of the following cloud computing platforms do you hope to become more familiar with in the next 2 years? - Selected Choice -  IBM Cloud / Red Hat ', 'Q26_B_Part_5': 'Which of the following cloud computing platforms do you hope to become more familiar with in the next 2 years? - Selected Choice -  Oracle Cloud ', 'Q26_B_Part_6': 'Which of the following cloud computing platforms do you hope to become more familiar with in the next 2 years? - Selected Choice -  SAP Cloud ', 'Q26_B_Part_7': 'Which of the following cloud computing platforms do you hope to become more familiar with in the next 2 years? - Selected Choice -  VMware Cloud ', 'Q26_B_Part_8': 'Which of the following cloud computing platforms do you hope to become more familiar with in the next 2 years? - Selected Choice -  Salesforce Cloud ', 'Q26_B_Part_9': 'Which of the following cloud computing platforms do you hope to become more familiar with in the next 2 years? - Selected Choice -  Alibaba Cloud ', 'Q26_B_Part_10': 'Which of the following cloud computing platforms do you hope to become more familiar with in the next 2 years? - Selected Choice -  Tencent Cloud ', 'Q26_B_Part_11': 'Which of the following cloud computing platforms do you hope to become more familiar with in the next 2 years? - Selected Choice - None', 'Q26_B_OTHER': 'Which of the following cloud computing platforms do you hope to become more familiar with in the next 2 years? - Selected Choice - Other', 'Q27_B_Part_1': 'In the next 2 years, do you hope to become more familiar with any of these specific cloud computing products? (Select all that apply) - Selected Choice -  Amazon EC2 ', 'Q27_B_Part_2': 'In the next 2 years, do you hope to become more familiar with any of these specific cloud computing products? (Select all that apply) - Selected Choice -  AWS Lambda ', 'Q27_B_Part_3': 'In the next 2 years, do you hope to become more familiar with any of these specific cloud computing products? (Select all that apply) - Selected Choice -  Amazon Elastic Container Service ', 'Q27_B_Part_4': 'In the next 2 years, do you hope to become more familiar with any of these specific cloud computing products? (Select all that apply) - Selected Choice -  Azure Cloud Services ', 'Q27_B_Part_5': 'In the next 2 years, do you hope to become more familiar with any of these specific cloud computing products? (Select all that apply) - Selected Choice -  Microsoft Azure Container Instances ', 'Q27_B_Part_6': 'In the next 2 years, do you hope to become more familiar with any of these specific cloud computing products? (Select all that apply) - Selected Choice -  Azure Functions ', 'Q27_B_Part_7': 'In the next 2 years, do you hope to become more familiar with any of these specific cloud computing products? (Select all that apply) - Selected Choice -  Google Cloud Compute Engine ', 'Q27_B_Part_8': 'In the next 2 years, do you hope to become more familiar with any of these specific cloud computing products? (Select all that apply) - Selected Choice -  Google Cloud Functions ', 'Q27_B_Part_9': 'In the next 2 years, do you hope to become more familiar with any of these specific cloud computing products? (Select all that apply) - Selected Choice -  Google Cloud Run ', 'Q27_B_Part_10': 'In the next 2 years, do you hope to become more familiar with any of these specific cloud computing products? (Select all that apply) - Selected Choice -  Google Cloud App Engine ', 'Q27_B_Part_11': 'In the next 2 years, do you hope to become more familiar with any of these specific cloud computing products? (Select all that apply) - Selected Choice - None', 'Q27_B_OTHER': 'In the next 2 years, do you hope to become more familiar with any of these specific cloud computing products? (Select all that apply) - Selected Choice - Other', 'Q28_B_Part_1': 'In the next 2 years, do you hope to become more familiar with any of these specific machine learning products? (Select all that apply) - Selected Choice -  Amazon SageMaker ', 'Q28_B_Part_2': 'In the next 2 years, do you hope to become more familiar with any of these specific machine learning products? (Select all that apply) - Selected Choice -  Amazon Forecast ', 'Q28_B_Part_3': 'In the next 2 years, do you hope to become more familiar with any of these specific machine learning products? (Select all that apply) - Selected Choice -  Amazon Rekognition ', 'Q28_B_Part_4': 'In the next 2 years, do you hope to become more familiar with any of these specific machine learning products? (Select all that apply) - Selected Choice -  Azure Machine Learning Studio ', 'Q28_B_Part_5': 'In the next 2 years, do you hope to become more familiar with any of these specific machine learning products? (Select all that apply) - Selected Choice -  Azure Cognitive Services ', 'Q28_B_Part_6': 'In the next 2 years, do you hope to become more familiar with any of these specific machine learning products? (Select all that apply) - Selected Choice -  Google Cloud AI Platform / Google Cloud ML Engine', 'Q28_B_Part_7': 'In the next 2 years, do you hope to become more familiar with any of these specific machine learning products? (Select all that apply) - Selected Choice -  Google Cloud Video AI ', 'Q28_B_Part_8': 'In the next 2 years, do you hope to become more familiar with any of these specific machine learning products? (Select all that apply) - Selected Choice -  Google Cloud Natural Language ', 'Q28_B_Part_9': 'In the next 2 years, do you hope to become more familiar with any of these specific machine learning products? (Select all that apply) - Selected Choice -  Google Cloud Vision AI ', 'Q28_B_Part_10': 'In the next 2 years, do you hope to become more familiar with any of these specific machine learning products? (Select all that apply) - Selected Choice - None', 'Q28_B_OTHER': 'In the next 2 years, do you hope to become more familiar with any of these specific machine learning products? (Select all that apply) - Selected Choice - Other', 'Q29_B_Part_1': 'Which of the following big data products (relational databases, data warehouses, data lakes, or similar) do you hope to become more familiar with in the next 2 years? (Select all that apply) - Selected Choice - MySQL ', 'Q29_B_Part_2': 'Which of the following big data products (relational databases, data warehouses, data lakes, or similar) do you hope to become more familiar with in the next 2 years? (Select all that apply) - Selected Choice - PostgresSQL ', 'Q29_B_Part_3': 'Which of the following big data products (relational databases, data warehouses, data lakes, or similar) do you hope to become more familiar with in the next 2 years? (Select all that apply) - Selected Choice - SQLite ', 'Q29_B_Part_4': 'Which of the following big data products (relational databases, data warehouses, data lakes, or similar) do you hope to become more familiar with in the next 2 years? (Select all that apply) - Selected Choice - Oracle Database ', 'Q29_B_Part_5': 'Which of the following big data products (relational databases, data warehouses, data lakes, or similar) do you hope to become more familiar with in the next 2 years? (Select all that apply) - Selected Choice - MongoDB ', 'Q29_B_Part_6': 'Which of the following big data products (relational databases, data warehouses, data lakes, or similar) do you hope to become more familiar with in the next 2 years? (Select all that apply) - Selected Choice - Snowflake ', 'Q29_B_Part_7': 'Which of the following big data products (relational databases, data warehouses, data lakes, or similar) do you hope to become more familiar with in the next 2 years? (Select all that apply) - Selected Choice - IBM Db2 ', 'Q29_B_Part_8': 'Which of the following big data products (relational databases, data warehouses, data lakes, or similar) do you hope to become more familiar with in the next 2 years? (Select all that apply) - Selected Choice - Microsoft SQL Server ', 'Q29_B_Part_9': 'Which of the following big data products (relational databases, data warehouses, data lakes, or similar) do you hope to become more familiar with in the next 2 years? (Select all that apply) - Selected Choice - Microsoft Access ', 'Q29_B_Part_10': 'Which of the following big data products (relational databases, data warehouses, data lakes, or similar) do you hope to become more familiar with in the next 2 years? (Select all that apply) - Selected Choice - Microsoft Azure Data Lake Storage ', 'Q29_B_Part_11': 'Which of the following big data products (relational databases, data warehouses, data lakes, or similar) do you hope to become more familiar with in the next 2 years? (Select all that apply) - Selected Choice - Amazon Redshift ', 'Q29_B_Part_12': 'Which of the following big data products (relational databases, data warehouses, data lakes, or similar) do you hope to become more familiar with in the next 2 years? (Select all that apply) - Selected Choice - Amazon Athena ', 'Q29_B_Part_13': 'Which of the following big data products (relational databases, data warehouses, data lakes, or similar) do you hope to become more familiar with in the next 2 years? (Select all that apply) - Selected Choice - Amazon DynamoDB ', 'Q29_B_Part_14': 'Which of the following big data products (relational databases, data warehouses, data lakes, or similar) do you hope to become more familiar with in the next 2 years? (Select all that apply) - Selected Choice - Google Cloud BigQuery ', 'Q29_B_Part_15': 'Which of the following big data products (relational databases, data warehouses, data lakes, or similar) do you hope to become more familiar with in the next 2 years? (Select all that apply) - Selected Choice - Google Cloud SQL ', 'Q29_B_Part_16': 'Which of the following big data products (relational databases, data warehouses, data lakes, or similar) do you hope to become more familiar with in the next 2 years? (Select all that apply) - Selected Choice - Google Cloud Firestore ', 'Q29_B_Part_17': 'Which of the following big data products (relational databases, data warehouses, data lakes, or similar) do you hope to become more familiar with in the next 2 years? (Select all that apply) - Selected Choice - None', 'Q29_B_OTHER': 'Which of the following big data products (relational databases, data warehouses, data lakes, or similar) do you hope to become more familiar with in the next 2 years? (Select all that apply) - Selected Choice - Other', 'Q31_B_Part_1': 'Which of the following business intelligence tools do you hope to become more familiar with in the next 2 years? (Select all that apply) - Selected Choice - Microsoft Power BI', 'Q31_B_Part_2': 'Which of the following business intelligence tools do you hope to become more familiar with in the next 2 years? (Select all that apply) - Selected Choice - Amazon QuickSight', 'Q31_B_Part_3': 'Which of the following business intelligence tools do you hope to become more familiar with in the next 2 years? (Select all that apply) - Selected Choice - Google Data Studio', 'Q31_B_Part_4': 'Which of the following business intelligence tools do you hope to become more familiar with in the next 2 years? (Select all that apply) - Selected Choice - Looker', 'Q31_B_Part_5': 'Which of the following business intelligence tools do you hope to become more familiar with in the next 2 years? (Select all that apply) - Selected Choice - Tableau', 'Q31_B_Part_6': 'Which of the following business intelligence tools do you hope to become more familiar with in the next 2 years? (Select all that apply) - Selected Choice - Salesforce', 'Q31_B_Part_7': 'Which of the following business intelligence tools do you hope to become more familiar with in the next 2 years? (Select all that apply) - Selected Choice - Einstein Analytics', 'Q31_B_Part_8': 'Which of the following business intelligence tools do you hope to become more familiar with in the next 2 years? (Select all that apply) - Selected Choice - Qlik', 'Q31_B_Part_9': 'Which of the following business intelligence tools do you hope to become more familiar with in the next 2 years? (Select all that apply) - Selected Choice - Domo', 'Q31_B_Part_10': 'Which of the following business intelligence tools do you hope to become more familiar with in the next 2 years? (Select all that apply) - Selected Choice - TIBCO Spotfire', 'Q31_B_Part_11': 'Which of the following business intelligence tools do you hope to become more familiar with in the next 2 years? (Select all that apply) - Selected Choice - Alteryx ', 'Q31_B_Part_12': 'Which of the following business intelligence tools do you hope to become more familiar with in the next 2 years? (Select all that apply) - Selected Choice - Sisense ', 'Q31_B_Part_13': 'Which of the following business intelligence tools do you hope to become more familiar with in the next 2 years? (Select all that apply) - Selected Choice - SAP Analytics Cloud ', 'Q31_B_Part_14': 'Which of the following business intelligence tools do you hope to become more familiar with in the next 2 years? (Select all that apply) - Selected Choice - None', 'Q31_B_OTHER': 'Which of the following business intelligence tools do you hope to become more familiar with in the next 2 years? (Select all that apply) - Selected Choice - Other', 'Q33_B_Part_1': 'Which categories of automated machine learning tools (or partial AutoML tools) do you hope to become more familiar with in the next 2 years?  (Select all that apply) - Selected Choice - Automated data augmentation (e.g. imgaug, albumentations)', 'Q33_B_Part_2': 'Which categories of automated machine learning tools (or partial AutoML tools) do you hope to become more familiar with in the next 2 years?  (Select all that apply) - Selected Choice - Automated feature engineering/selection (e.g. tpot, boruta_py)', 'Q33_B_Part_3': 'Which categories of automated machine learning tools (or partial AutoML tools) do you hope to become more familiar with in the next 2 years?  (Select all that apply) - Selected Choice - Automated model selection (e.g. auto-sklearn, xcessiv)', 'Q33_B_Part_4': 'Which categories of automated machine learning tools (or partial AutoML tools) do you hope to become more familiar with in the next 2 years?  (Select all that apply) - Selected Choice - Automated model architecture searches (e.g. darts, enas)', 'Q33_B_Part_5': 'Which categories of automated machine learning tools (or partial AutoML tools) do you hope to become more familiar with in the next 2 years?  (Select all that apply) - Selected Choice - Automated hyperparameter tuning (e.g. hyperopt, ray.tune, Vizier)', 'Q33_B_Part_6': 'Which categories of automated machine learning tools (or partial AutoML tools) do you hope to become more familiar with in the next 2 years?  (Select all that apply) - Selected Choice - Automation of full ML pipelines (e.g. Google Cloud AutoML, H20 Driverless AI)', 'Q33_B_Part_7': 'Which categories of automated machine learning tools (or partial AutoML tools) do you hope to become more familiar with in the next 2 years?  (Select all that apply) - Selected Choice - None', 'Q33_B_OTHER': 'Which categories of automated machine learning tools (or partial AutoML tools) do you hope to become more familiar with in the next 2 years?  (Select all that apply) - Selected Choice - Other', 'Q34_B_Part_1': 'Which specific automated machine learning tools (or partial AutoML tools) do you hope to become more familiar with in the next 2 years?  (Select all that apply) - Selected Choice -  Google Cloud AutoML ', 'Q34_B_Part_2': 'Which specific automated machine learning tools (or partial AutoML tools) do you hope to become more familiar with in the next 2 years?  (Select all that apply) - Selected Choice -  H20 Driverless AI  ', 'Q34_B_Part_3': 'Which specific automated machine learning tools (or partial AutoML tools) do you hope to become more familiar with in the next 2 years?  (Select all that apply) - Selected Choice -  Databricks AutoML ', 'Q34_B_Part_4': 'Which specific automated machine learning tools (or partial AutoML tools) do you hope to become more familiar with in the next 2 years?  (Select all that apply) - Selected Choice -  DataRobot AutoML ', 'Q34_B_Part_5': 'Which specific automated machine learning tools (or partial AutoML tools) do you hope to become more familiar with in the next 2 years?  (Select all that apply) - Selected Choice -   Tpot ', 'Q34_B_Part_6': 'Which specific automated machine learning tools (or partial AutoML tools) do you hope to become more familiar with in the next 2 years?  (Select all that apply) - Selected Choice -   Auto-Keras ', 'Q34_B_Part_7': 'Which specific automated machine learning tools (or partial AutoML tools) do you hope to become more familiar with in the next 2 years?  (Select all that apply) - Selected Choice -   Auto-Sklearn ', 'Q34_B_Part_8': 'Which specific automated machine learning tools (or partial AutoML tools) do you hope to become more familiar with in the next 2 years?  (Select all that apply) - Selected Choice -   Auto_ml ', 'Q34_B_Part_9': 'Which specific automated machine learning tools (or partial AutoML tools) do you hope to become more familiar with in the next 2 years?  (Select all that apply) - Selected Choice -   Xcessiv ', 'Q34_B_Part_10': 'Which specific automated machine learning tools (or partial AutoML tools) do you hope to become more familiar with in the next 2 years?  (Select all that apply) - Selected Choice -   MLbox ', 'Q34_B_Part_11': 'Which specific automated machine learning tools (or partial AutoML tools) do you hope to become more familiar with in the next 2 years?  (Select all that apply) - Selected Choice - None', 'Q34_B_OTHER': 'Which specific automated machine learning tools (or partial AutoML tools) do you hope to become more familiar with in the next 2 years?  (Select all that apply) - Selected Choice - Other', 'Q35_B_Part_1': 'In the next 2 years, do you hope to become more familiar with any of these tools for managing ML experiments? (Select all that apply) - Selected Choice -  Neptune.ai ', 'Q35_B_Part_2': 'In the next 2 years, do you hope to become more familiar with any of these tools for managing ML experiments? (Select all that apply) - Selected Choice -  Weights & Biases ', 'Q35_B_Part_3': 'In the next 2 years, do you hope to become more familiar with any of these tools for managing ML experiments? (Select all that apply) - Selected Choice -  Comet.ml ', 'Q35_B_Part_4': 'In the next 2 years, do you hope to become more familiar with any of these tools for managing ML experiments? (Select all that apply) - Selected Choice -  Sacred + Omniboard ', 'Q35_B_Part_5': 'In the next 2 years, do you hope to become more familiar with any of these tools for managing ML experiments? (Select all that apply) - Selected Choice -  TensorBoard ', 'Q35_B_Part_6': 'In the next 2 years, do you hope to become more familiar with any of these tools for managing ML experiments? (Select all that apply) - Selected Choice -  Guild.ai ', 'Q35_B_Part_7': 'In the next 2 years, do you hope to become more familiar with any of these tools for managing ML experiments? (Select all that apply) - Selected Choice -  Polyaxon ', 'Q35_B_Part_8': 'In the next 2 years, do you hope to become more familiar with any of these tools for managing ML experiments? (Select all that apply) - Selected Choice -  Trains ', 'Q35_B_Part_9': 'In the next 2 years, do you hope to become more familiar with any of these tools for managing ML experiments? (Select all that apply) - Selected Choice -  Domino Model Monitor ', 'Q35_B_Part_10': 'In the next 2 years, do you hope to become more familiar with any of these tools for managing ML experiments? (Select all that apply) - Selected Choice - None', 'Q35_B_OTHER': 'In the next 2 years, do you hope to become more familiar with any of these tools for managing ML experiments? (Select all that apply) - Selected Choice - Other'}\n"
     ]
    }
   ],
   "source": [
    "col_list = df_survey_responses.columns.to_list()\n",
    "col_list\n",
    "#create a mapping dict from question id to question content\n",
    "question_mapping = df_survey_responses.loc[0].to_dict()\n",
    "print(question_mapping)\n",
    "\n",
    "df_survey_responses = abbreviate_nations(df_survey_responses)\n",
    "df_multi_choice = abbreviate_nations(df_multi_choice)"
   ]
  },
  {
   "cell_type": "code",
   "execution_count": 84,
   "metadata": {},
   "outputs": [
    {
     "data": {
      "text/html": [
       "<div>\n",
       "<style scoped>\n",
       "    .dataframe tbody tr th:only-of-type {\n",
       "        vertical-align: middle;\n",
       "    }\n",
       "\n",
       "    .dataframe tbody tr th {\n",
       "        vertical-align: top;\n",
       "    }\n",
       "\n",
       "    .dataframe thead th {\n",
       "        text-align: right;\n",
       "    }\n",
       "</style>\n",
       "<table border=\"1\" class=\"dataframe\">\n",
       "  <thead>\n",
       "    <tr style=\"text-align: right;\">\n",
       "      <th></th>\n",
       "      <th>Country</th>\n",
       "      <th>Count</th>\n",
       "      <th>year</th>\n",
       "    </tr>\n",
       "  </thead>\n",
       "  <tbody>\n",
       "    <tr>\n",
       "      <th>54</th>\n",
       "      <td>Turkey</td>\n",
       "      <td>288</td>\n",
       "      <td>2019</td>\n",
       "    </tr>\n",
       "    <tr>\n",
       "      <th>55</th>\n",
       "      <td>Ukraine</td>\n",
       "      <td>191</td>\n",
       "      <td>2019</td>\n",
       "    </tr>\n",
       "    <tr>\n",
       "      <th>56</th>\n",
       "      <td>United Kingdom</td>\n",
       "      <td>482</td>\n",
       "      <td>2019</td>\n",
       "    </tr>\n",
       "    <tr>\n",
       "      <th>57</th>\n",
       "      <td>United States of America</td>\n",
       "      <td>3085</td>\n",
       "      <td>2019</td>\n",
       "    </tr>\n",
       "    <tr>\n",
       "      <th>58</th>\n",
       "      <td>Viet Nam</td>\n",
       "      <td>128</td>\n",
       "      <td>2019</td>\n",
       "    </tr>\n",
       "  </tbody>\n",
       "</table>\n",
       "</div>"
      ],
      "text/plain": [
       "                     Country  Count  year\n",
       "54                    Turkey    288  2019\n",
       "55                   Ukraine    191  2019\n",
       "56            United Kingdom    482  2019\n",
       "57  United States of America   3085  2019\n",
       "58                  Viet Nam    128  2019"
      ]
     },
     "execution_count": 84,
     "metadata": {},
     "output_type": "execute_result"
    }
   ],
   "source": [
    "country_2019 = df_multi_choice.groupby(['Q3'])\n",
    "df_country_2019 = country_2019.agg('count')\n",
    "df_country_2019.reset_index(inplace=True)\n",
    "df_country_2019=df_country_2019[['Q3', 'Q1']]\n",
    "df_country_2019.columns=('Country', 'Count')\n",
    "df_country_2019['year'] = 2019\n",
    "df_country_2019.tail()"
   ]
  },
  {
   "cell_type": "code",
   "execution_count": 106,
   "metadata": {},
   "outputs": [],
   "source": [
    "def chart_country(df, sort=None):\n",
    "    chart_country_groups = alt.Chart(df_country_2019).mark_bar().encode(\n",
    "    alt.X('Country:N', sort=sort, axis=alt.Axis(grid=False)),\n",
    "    alt.Y('Count:Q', title=\"Count of Responses\", axis=alt.Axis(grid=False))\n",
    "    ).properties(width=680,\n",
    "    background='#f5f5f5',title={\n",
    "\"text\": [\"Number of Respondents per Country\"],\n",
    "\"fontSize\":20, \"fontWeight\":600, \"subtitleFontSize\":14\n",
    "}\n",
    "    )\n",
    "    \n",
    "    return chart_country_groups\n",
    "\n",
    "chart_country_groups = chart_country(df_country_2019)"
   ]
  },
  {
   "cell_type": "code",
   "execution_count": 107,
   "metadata": {},
   "outputs": [
    {
     "ename": "NameError",
     "evalue": "name 'df_country_count_by_year' is not defined",
     "output_type": "error",
     "traceback": [
      "\u001b[1;31m---------------------------------------------------------------------------\u001b[0m",
      "\u001b[1;31mNameError\u001b[0m                                 Traceback (most recent call last)",
      "\u001b[1;32m<ipython-input-107-7fe52428980b>\u001b[0m in \u001b[0;36m<module>\u001b[1;34m\u001b[0m\n\u001b[0;32m      7\u001b[0m \u001b[1;31m#women_means = [25, 32, 34, 20, 25]\u001b[0m\u001b[1;33m\u001b[0m\u001b[1;33m\u001b[0m\u001b[1;33m\u001b[0m\u001b[0m\n\u001b[0;32m      8\u001b[0m \u001b[1;33m\u001b[0m\u001b[0m\n\u001b[1;32m----> 9\u001b[1;33m \u001b[0mx\u001b[0m \u001b[1;33m=\u001b[0m \u001b[0mnp\u001b[0m\u001b[1;33m.\u001b[0m\u001b[0marange\u001b[0m\u001b[1;33m(\u001b[0m\u001b[0mlen\u001b[0m\u001b[1;33m(\u001b[0m\u001b[0mdf_country_count_by_year\u001b[0m\u001b[1;33m[\u001b[0m\u001b[1;34m'Country'\u001b[0m\u001b[1;33m]\u001b[0m\u001b[1;33m)\u001b[0m\u001b[1;33m)\u001b[0m  \u001b[1;31m# the label locations\u001b[0m\u001b[1;33m\u001b[0m\u001b[1;33m\u001b[0m\u001b[0m\n\u001b[0m\u001b[0;32m     10\u001b[0m \u001b[0mwidth\u001b[0m \u001b[1;33m=\u001b[0m \u001b[1;36m0.35\u001b[0m  \u001b[1;31m# the width of the bars\u001b[0m\u001b[1;33m\u001b[0m\u001b[1;33m\u001b[0m\u001b[0m\n\u001b[0;32m     11\u001b[0m \u001b[1;33m\u001b[0m\u001b[0m\n",
      "\u001b[1;31mNameError\u001b[0m: name 'df_country_count_by_year' is not defined"
     ]
    }
   ],
   "source": [
    "import numpy as np\n",
    "import matplotlib\n",
    "import matplotlib.pyplot as plt\n",
    "\n",
    "#labels = ['G1', 'G2', 'G3', 'G4', 'G5']\n",
    "#year_2019 = df_country_comparison.loc[df_country_comparison['year']==2019, \"C\"]\n",
    "#women_means = [25, 32, 34, 20, 25]\n",
    "\n",
    "x = np.arange(len(df_country_count_by_year['Country']))  # the label locations\n",
    "width = 0.35  # the width of the bars\n",
    "\n",
    "fig, ax = plt.subplots(figsize=(15, 6))\n",
    "\n",
    "rects1 = ax.bar(x - width/2, df_country_count_by_year['Count_2019'], width, label='2019')\n",
    "rects2 = ax.bar(x + width/2, df_country_count_by_year['Count'], width, label='2020')\n",
    "\n",
    " # Add some text for labels, title and custom x-axis tick labels, etc.\n",
    "ax.set_ylabel('Responses', fontsize=14)\n",
    "ax.set_xlabel('Country', fontsize=14)\n",
    "ax.set_title('Survey Responses by Country and Year', fontsize=18)\n",
    "ax.set_xticks(x)\n",
    "ax.set_xticklabels(df_country_count_by_year['Country'])\n",
    "ax.set_facecolor('k')\n",
    "ax.patch.set_alpha(0.25)\n",
    "plt.xticks(rotation=90)\n",
    "fig.patch.set_alpha(0.5)\n",
    "ax.legend()\n",
    "ax.annotate('Responses from India increased', xy=(0.5, 4250), xytext=(3, 4500),\n",
    "            arrowprops=dict(facecolor='black'),\n",
    "            )\n",
    "ax.annotate('Responses from the USA decreased', xy=(1.5, 2000), xytext=(4, 2250),\n",
    "            arrowprops=dict(facecolor='black'),\n",
    "            )\n",
    "\n",
    "\n",
    "\n",
    "#fig.tight_layout()\n",
    "plt.show()"
   ]
  },
  {
   "cell_type": "code",
   "execution_count": 101,
   "metadata": {},
   "outputs": [
    {
     "ename": "NameError",
     "evalue": "name 'df_country_count_by_year' is not defined",
     "output_type": "error",
     "traceback": [
      "\u001b[1;31m---------------------------------------------------------------------------\u001b[0m",
      "\u001b[1;31mNameError\u001b[0m                                 Traceback (most recent call last)",
      "\u001b[1;32m<ipython-input-101-6263da307997>\u001b[0m in \u001b[0;36m<module>\u001b[1;34m\u001b[0m\n\u001b[1;32m----> 1\u001b[1;33m \u001b[0mdf_country_count_by_year\u001b[0m\u001b[1;33m[\u001b[0m\u001b[1;34m'yoy_change_pct'\u001b[0m\u001b[1;33m]\u001b[0m \u001b[1;33m=\u001b[0m \u001b[1;36m100\u001b[0m \u001b[1;33m*\u001b[0m \u001b[1;33m(\u001b[0m\u001b[0mdf_country_count_by_year\u001b[0m\u001b[1;33m[\u001b[0m\u001b[1;34m'Count'\u001b[0m\u001b[1;33m]\u001b[0m \u001b[1;33m-\u001b[0m \u001b[0mdf_country_count_by_year\u001b[0m\u001b[1;33m[\u001b[0m\u001b[1;34m'Count_2019'\u001b[0m\u001b[1;33m]\u001b[0m\u001b[1;33m)\u001b[0m \u001b[1;33m/\u001b[0m \u001b[0mdf_country_count_by_year\u001b[0m\u001b[1;33m[\u001b[0m\u001b[1;34m'Count_2019'\u001b[0m\u001b[1;33m]\u001b[0m\u001b[1;33m\u001b[0m\u001b[1;33m\u001b[0m\u001b[0m\n\u001b[0m",
      "\u001b[1;31mNameError\u001b[0m: name 'df_country_count_by_year' is not defined"
     ]
    }
   ],
   "source": [
    "df_country_count_by_year['yoy_change_pct'] = 100 * (df_country_count_by_year['Count'] - df_country_count_by_year['Count_2019']) / df_country_count_by_year['Count_2019']"
   ]
  },
  {
   "cell_type": "code",
   "execution_count": 102,
   "metadata": {},
   "outputs": [
    {
     "ename": "NameError",
     "evalue": "name 'country_codes' is not defined",
     "output_type": "error",
     "traceback": [
      "\u001b[1;31m---------------------------------------------------------------------------\u001b[0m",
      "\u001b[1;31mNameError\u001b[0m                                 Traceback (most recent call last)",
      "\u001b[1;32m<ipython-input-102-f229ec7164e8>\u001b[0m in \u001b[0;36m<module>\u001b[1;34m\u001b[0m\n\u001b[0;32m      1\u001b[0m \u001b[0mcountry_alterations\u001b[0m \u001b[1;33m=\u001b[0m\u001b[1;33m{\u001b[0m\u001b[1;34m'Nepal'\u001b[0m\u001b[1;33m:\u001b[0m \u001b[1;34m'NPL'\u001b[0m\u001b[1;33m,\u001b[0m \u001b[1;34m'Sri Lanka'\u001b[0m\u001b[1;33m:\u001b[0m\u001b[1;34m'LKA'\u001b[0m\u001b[1;33m,\u001b[0m \u001b[1;34m'United Arab Emirates'\u001b[0m\u001b[1;33m:\u001b[0m\u001b[1;34m'ARE'\u001b[0m\u001b[1;33m,\u001b[0m \u001b[1;34m'Ghana'\u001b[0m\u001b[1;33m:\u001b[0m\u001b[1;34m'GHA'\u001b[0m\u001b[1;33m}\u001b[0m\u001b[1;33m\u001b[0m\u001b[1;33m\u001b[0m\u001b[0m\n\u001b[1;32m----> 2\u001b[1;33m \u001b[0mcountry_codes\u001b[0m\u001b[1;33m.\u001b[0m\u001b[0mupdate\u001b[0m\u001b[1;33m(\u001b[0m\u001b[0mcountry_alterations\u001b[0m\u001b[1;33m)\u001b[0m\u001b[1;33m\u001b[0m\u001b[1;33m\u001b[0m\u001b[0m\n\u001b[0m\u001b[0;32m      3\u001b[0m \u001b[0mcountry_codes\u001b[0m\u001b[1;33m\u001b[0m\u001b[1;33m\u001b[0m\u001b[0m\n",
      "\u001b[1;31mNameError\u001b[0m: name 'country_codes' is not defined"
     ]
    }
   ],
   "source": [
    "country_alterations ={'Nepal': 'NPL', 'Sri Lanka':'LKA', 'United Arab Emirates':'ARE', 'Ghana':'GHA'}\n",
    "country_codes.update(country_alterations)\n",
    "country_codes"
   ]
  },
  {
   "cell_type": "code",
   "execution_count": 7,
   "metadata": {},
   "outputs": [
    {
     "ename": "NameError",
     "evalue": "name 'df_country_count_by_year' is not defined",
     "output_type": "error",
     "traceback": [
      "\u001b[1;31m---------------------------------------------------------------------------\u001b[0m",
      "\u001b[1;31mNameError\u001b[0m                                 Traceback (most recent call last)",
      "\u001b[1;32m<ipython-input-7-a1b708bb846e>\u001b[0m in \u001b[0;36m<module>\u001b[1;34m\u001b[0m\n\u001b[1;32m----> 1\u001b[1;33m \u001b[0mdf_country_count_by_year\u001b[0m\u001b[1;33m[\u001b[0m\u001b[1;34m'country_code'\u001b[0m\u001b[1;33m]\u001b[0m \u001b[1;33m=\u001b[0m \u001b[0mdf_country_count_by_year\u001b[0m\u001b[1;33m[\u001b[0m\u001b[1;34m'Country'\u001b[0m\u001b[1;33m]\u001b[0m\u001b[1;33m\u001b[0m\u001b[1;33m\u001b[0m\u001b[0m\n\u001b[0m\u001b[0;32m      2\u001b[0m \u001b[0mdf_country_count_by_year\u001b[0m\u001b[1;33m.\u001b[0m\u001b[0mreplace\u001b[0m\u001b[1;33m(\u001b[0m\u001b[1;33m{\u001b[0m\u001b[1;34m\"country_code\"\u001b[0m\u001b[1;33m:\u001b[0m \u001b[0mcountry_codes\u001b[0m\u001b[1;33m}\u001b[0m\u001b[1;33m,\u001b[0m \u001b[0minplace\u001b[0m\u001b[1;33m=\u001b[0m\u001b[1;32mTrue\u001b[0m\u001b[1;33m)\u001b[0m\u001b[1;33m\u001b[0m\u001b[1;33m\u001b[0m\u001b[0m\n\u001b[0;32m      3\u001b[0m \u001b[0mdf_country_count_by_year\u001b[0m\u001b[1;33m[\u001b[0m\u001b[1;34m'yoy_change_pct'\u001b[0m\u001b[1;33m]\u001b[0m \u001b[1;33m=\u001b[0m \u001b[0mnp\u001b[0m\u001b[1;33m.\u001b[0m\u001b[0mround\u001b[0m\u001b[1;33m(\u001b[0m\u001b[0mdf_country_count_by_year\u001b[0m\u001b[1;33m[\u001b[0m\u001b[1;34m'yoy_change_pct'\u001b[0m\u001b[1;33m]\u001b[0m\u001b[1;33m,\u001b[0m\u001b[1;36m1\u001b[0m\u001b[1;33m)\u001b[0m\u001b[1;33m\u001b[0m\u001b[1;33m\u001b[0m\u001b[0m\n\u001b[0;32m      4\u001b[0m \u001b[0mdf_country_count_by_year\u001b[0m\u001b[1;33m\u001b[0m\u001b[1;33m\u001b[0m\u001b[0m\n",
      "\u001b[1;31mNameError\u001b[0m: name 'df_country_count_by_year' is not defined"
     ]
    }
   ],
   "source": [
    "df_country_count_by_year['country_code'] = df_country_count_by_year['Country']\n",
    "df_country_count_by_year.replace({\"country_code\": country_codes}, inplace=True)\n",
    "df_country_count_by_year['yoy_change_pct'] = np.round(df_country_count_by_year['yoy_change_pct'],1)\n",
    "df_country_count_by_year"
   ]
  },
  {
   "cell_type": "code",
   "execution_count": 8,
   "metadata": {},
   "outputs": [
    {
     "ename": "NameError",
     "evalue": "name 'alt' is not defined",
     "output_type": "error",
     "traceback": [
      "\u001b[1;31m---------------------------------------------------------------------------\u001b[0m",
      "\u001b[1;31mNameError\u001b[0m                                 Traceback (most recent call last)",
      "\u001b[1;32m<ipython-input-8-26a216b19915>\u001b[0m in \u001b[0;36m<module>\u001b[1;34m\u001b[0m\n\u001b[1;32m----> 1\u001b[1;33m alt.Chart(df_age_country).mark_rect().encode(\n\u001b[0m\u001b[0;32m      2\u001b[0m     \u001b[0malt\u001b[0m\u001b[1;33m.\u001b[0m\u001b[0mX\u001b[0m\u001b[1;33m(\u001b[0m\u001b[1;34m'Country:N'\u001b[0m\u001b[1;33m,\u001b[0m \u001b[0msort\u001b[0m\u001b[1;33m=\u001b[0m\u001b[1;32mNone\u001b[0m\u001b[1;33m,\u001b[0m \u001b[0mtitle\u001b[0m\u001b[1;33m=\u001b[0m\u001b[1;34m\"Country sorted by descending count of aggregate responses\"\u001b[0m\u001b[1;33m)\u001b[0m\u001b[1;33m,\u001b[0m\u001b[1;33m\u001b[0m\u001b[1;33m\u001b[0m\u001b[0m\n\u001b[0;32m      3\u001b[0m     \u001b[0malt\u001b[0m\u001b[1;33m.\u001b[0m\u001b[0mY\u001b[0m\u001b[1;33m(\u001b[0m\u001b[1;34m'Age:N'\u001b[0m\u001b[1;33m)\u001b[0m\u001b[1;33m,\u001b[0m\u001b[1;33m\u001b[0m\u001b[1;33m\u001b[0m\u001b[0m\n\u001b[0;32m      4\u001b[0m     \u001b[0mcolor\u001b[0m\u001b[1;33m=\u001b[0m\u001b[0malt\u001b[0m\u001b[1;33m.\u001b[0m\u001b[0mColor\u001b[0m\u001b[1;33m(\u001b[0m\u001b[1;34m'LogCount:Q'\u001b[0m\u001b[1;33m,\u001b[0m \u001b[0mlegend\u001b[0m\u001b[1;33m=\u001b[0m\u001b[0malt\u001b[0m\u001b[1;33m.\u001b[0m\u001b[0mLegend\u001b[0m\u001b[1;33m(\u001b[0m\u001b[0mtitle\u001b[0m\u001b[1;33m=\u001b[0m\u001b[1;34m\"Log Count of Respondents\"\u001b[0m\u001b[1;33m,\u001b[0m \u001b[0morient\u001b[0m\u001b[1;33m=\u001b[0m\u001b[1;34m\"top\"\u001b[0m\u001b[1;33m)\u001b[0m\u001b[1;33m)\u001b[0m\u001b[1;33m\u001b[0m\u001b[1;33m\u001b[0m\u001b[0m\n\u001b[0;32m      5\u001b[0m \u001b[1;33m)\u001b[0m\u001b[1;33m.\u001b[0m\u001b[0mproperties\u001b[0m\u001b[1;33m(\u001b[0m\u001b[0mwidth\u001b[0m\u001b[1;33m=\u001b[0m\u001b[1;36m680\u001b[0m\u001b[1;33m,\u001b[0m\u001b[1;33m\u001b[0m\u001b[1;33m\u001b[0m\u001b[0m\n",
      "\u001b[1;31mNameError\u001b[0m: name 'alt' is not defined"
     ]
    }
   ],
   "source": [
    "alt.Chart(df_age_country).mark_rect().encode(\n",
    "    alt.X('Country:N', sort=None, title=\"Country sorted by descending count of aggregate responses\"),\n",
    "    alt.Y('Age:N'),\n",
    "    color=alt.Color('LogCount:Q', legend=alt.Legend(title=\"Log Count of Respondents\", orient=\"top\"))\n",
    ").properties(width=680,\n",
    "    background='#f5f5f5',title={\n",
    "\"text\": [\"Age of Respondents\"],\n",
    "\"subtitle\": [\"Broken Down by Country\"],\n",
    "\"fontSize\":20, \"fontWeight\":600, \"subtitleFontSize\":14\n",
    "}\n",
    ")"
   ]
  },
  {
   "cell_type": "code",
   "execution_count": 9,
   "metadata": {},
   "outputs": [
    {
     "ename": "NameError",
     "evalue": "name 'df_age_country' is not defined",
     "output_type": "error",
     "traceback": [
      "\u001b[1;31m---------------------------------------------------------------------------\u001b[0m",
      "\u001b[1;31mNameError\u001b[0m                                 Traceback (most recent call last)",
      "\u001b[1;32m<ipython-input-9-28a70063961f>\u001b[0m in \u001b[0;36m<module>\u001b[1;34m\u001b[0m\n\u001b[1;32m----> 1\u001b[1;33m \u001b[0mdf_age_country\u001b[0m\u001b[1;33m[\u001b[0m\u001b[1;34m'age_group_pct'\u001b[0m\u001b[1;33m]\u001b[0m \u001b[1;33m=\u001b[0m \u001b[1;36m100\u001b[0m \u001b[1;33m*\u001b[0m \u001b[0mdf_age_country\u001b[0m\u001b[1;33m[\u001b[0m\u001b[1;34m'Count'\u001b[0m\u001b[1;33m]\u001b[0m \u001b[1;33m/\u001b[0m \u001b[0mdf_age_country\u001b[0m\u001b[1;33m[\u001b[0m\u001b[1;34m'Count_total'\u001b[0m\u001b[1;33m]\u001b[0m\u001b[1;33m\u001b[0m\u001b[1;33m\u001b[0m\u001b[0m\n\u001b[0m\u001b[0;32m      2\u001b[0m \u001b[0mdf_age_country\u001b[0m\u001b[1;33m\u001b[0m\u001b[1;33m\u001b[0m\u001b[0m\n",
      "\u001b[1;31mNameError\u001b[0m: name 'df_age_country' is not defined"
     ]
    }
   ],
   "source": [
    "df_age_country['age_group_pct'] = 100 * df_age_country['Count'] / df_age_country['Count_total']\n",
    "df_age_country"
   ]
  },
  {
   "cell_type": "code",
   "execution_count": 10,
   "metadata": {},
   "outputs": [
    {
     "ename": "NameError",
     "evalue": "name 'alt' is not defined",
     "output_type": "error",
     "traceback": [
      "\u001b[1;31m---------------------------------------------------------------------------\u001b[0m",
      "\u001b[1;31mNameError\u001b[0m                                 Traceback (most recent call last)",
      "\u001b[1;32m<ipython-input-10-d74aaac9c038>\u001b[0m in \u001b[0;36m<module>\u001b[1;34m\u001b[0m\n\u001b[1;32m----> 1\u001b[1;33m alt.Chart(df_age_country).mark_rect().encode(\n\u001b[0m\u001b[0;32m      2\u001b[0m     \u001b[0malt\u001b[0m\u001b[1;33m.\u001b[0m\u001b[0mX\u001b[0m\u001b[1;33m(\u001b[0m\u001b[1;34m'Country:N'\u001b[0m\u001b[1;33m,\u001b[0m \u001b[0msort\u001b[0m\u001b[1;33m=\u001b[0m\u001b[1;32mNone\u001b[0m\u001b[1;33m,\u001b[0m \u001b[0mtitle\u001b[0m\u001b[1;33m=\u001b[0m\u001b[1;34m\"Country sorted by descending count of aggregate responses\"\u001b[0m\u001b[1;33m)\u001b[0m\u001b[1;33m,\u001b[0m\u001b[1;33m\u001b[0m\u001b[1;33m\u001b[0m\u001b[0m\n\u001b[0;32m      3\u001b[0m     \u001b[0malt\u001b[0m\u001b[1;33m.\u001b[0m\u001b[0mY\u001b[0m\u001b[1;33m(\u001b[0m\u001b[1;34m'Age:N'\u001b[0m\u001b[1;33m)\u001b[0m\u001b[1;33m,\u001b[0m\u001b[1;33m\u001b[0m\u001b[1;33m\u001b[0m\u001b[0m\n\u001b[0;32m      4\u001b[0m     \u001b[0mcolor\u001b[0m\u001b[1;33m=\u001b[0m\u001b[0malt\u001b[0m\u001b[1;33m.\u001b[0m\u001b[0mColor\u001b[0m\u001b[1;33m(\u001b[0m\u001b[1;34m'age_group_pct:Q'\u001b[0m\u001b[1;33m,\u001b[0m \u001b[0mlegend\u001b[0m\u001b[1;33m=\u001b[0m\u001b[0malt\u001b[0m\u001b[1;33m.\u001b[0m\u001b[0mLegend\u001b[0m\u001b[1;33m(\u001b[0m\u001b[0mtitle\u001b[0m\u001b[1;33m=\u001b[0m\u001b[1;34m\"% of Respondents\"\u001b[0m\u001b[1;33m,\u001b[0m \u001b[0morient\u001b[0m\u001b[1;33m=\u001b[0m\u001b[1;34m\"top\"\u001b[0m\u001b[1;33m)\u001b[0m\u001b[1;33m)\u001b[0m\u001b[1;33m\u001b[0m\u001b[1;33m\u001b[0m\u001b[0m\n\u001b[0;32m      5\u001b[0m \u001b[1;33m)\u001b[0m\u001b[1;33m.\u001b[0m\u001b[0mproperties\u001b[0m\u001b[1;33m(\u001b[0m\u001b[0mwidth\u001b[0m\u001b[1;33m=\u001b[0m\u001b[1;36m680\u001b[0m\u001b[1;33m,\u001b[0m\u001b[1;33m\u001b[0m\u001b[1;33m\u001b[0m\u001b[0m\n",
      "\u001b[1;31mNameError\u001b[0m: name 'alt' is not defined"
     ]
    }
   ],
   "source": [
    "alt.Chart(df_age_country).mark_rect().encode(\n",
    "    alt.X('Country:N', sort=None, title=\"Country sorted by descending count of aggregate responses\"),\n",
    "    alt.Y('Age:N'),\n",
    "    color=alt.Color('age_group_pct:Q', legend=alt.Legend(title=\"% of Respondents\", orient=\"top\"))\n",
    ").properties(width=680,\n",
    "    background='#f5f5f5',title={\n",
    "\"text\": [\"Age of Respondents\"],\n",
    "\"subtitle\": [\"Broken Down proportionally by Country\"],\n",
    "\"fontSize\":20, \"fontWeight\":600, \"subtitleFontSize\":14\n",
    "}\n",
    ")"
   ]
  },
  {
   "cell_type": "code",
   "execution_count": 11,
   "metadata": {},
   "outputs": [
    {
     "ename": "NameError",
     "evalue": "name 'df_age_country' is not defined",
     "output_type": "error",
     "traceback": [
      "\u001b[1;31m---------------------------------------------------------------------------\u001b[0m",
      "\u001b[1;31mNameError\u001b[0m                                 Traceback (most recent call last)",
      "\u001b[1;32m<ipython-input-11-2161606ead9d>\u001b[0m in \u001b[0;36m<module>\u001b[1;34m\u001b[0m\n\u001b[1;32m----> 1\u001b[1;33m \u001b[0mdf_age_country_under_25\u001b[0m \u001b[1;33m=\u001b[0m \u001b[0mdf_age_country\u001b[0m\u001b[1;33m.\u001b[0m\u001b[0mloc\u001b[0m\u001b[1;33m[\u001b[0m\u001b[0mdf_age_country\u001b[0m\u001b[1;33m[\u001b[0m\u001b[1;34m'Age'\u001b[0m\u001b[1;33m]\u001b[0m\u001b[1;33m.\u001b[0m\u001b[0misin\u001b[0m\u001b[1;33m(\u001b[0m\u001b[1;33m[\u001b[0m\u001b[1;34m'18-21'\u001b[0m\u001b[1;33m,\u001b[0m \u001b[1;34m'22-24'\u001b[0m\u001b[1;33m]\u001b[0m\u001b[1;33m)\u001b[0m\u001b[1;33m]\u001b[0m\u001b[1;33m\u001b[0m\u001b[1;33m\u001b[0m\u001b[0m\n\u001b[0m\u001b[0;32m      2\u001b[0m \u001b[1;33m\u001b[0m\u001b[0m\n\u001b[0;32m      3\u001b[0m \u001b[0munder_25\u001b[0m \u001b[1;33m=\u001b[0m \u001b[0mdf_age_country_under_25\u001b[0m\u001b[1;33m.\u001b[0m\u001b[0mgroupby\u001b[0m\u001b[1;33m(\u001b[0m\u001b[1;33m[\u001b[0m\u001b[1;34m'Country'\u001b[0m\u001b[1;33m]\u001b[0m\u001b[1;33m)\u001b[0m\u001b[1;33m\u001b[0m\u001b[1;33m\u001b[0m\u001b[0m\n\u001b[0;32m      4\u001b[0m \u001b[0mdf_under_25\u001b[0m \u001b[1;33m=\u001b[0m \u001b[0munder_25\u001b[0m\u001b[1;33m.\u001b[0m\u001b[0magg\u001b[0m\u001b[1;33m(\u001b[0m\u001b[1;34m'sum'\u001b[0m\u001b[1;33m)\u001b[0m\u001b[1;33m\u001b[0m\u001b[1;33m\u001b[0m\u001b[0m\n\u001b[0;32m      5\u001b[0m \u001b[0mdf_under_25\u001b[0m\u001b[1;33m.\u001b[0m\u001b[0mreset_index\u001b[0m\u001b[1;33m(\u001b[0m\u001b[0minplace\u001b[0m\u001b[1;33m=\u001b[0m\u001b[1;32mTrue\u001b[0m\u001b[1;33m)\u001b[0m\u001b[1;33m\u001b[0m\u001b[1;33m\u001b[0m\u001b[0m\n",
      "\u001b[1;31mNameError\u001b[0m: name 'df_age_country' is not defined"
     ]
    }
   ],
   "source": [
    "df_age_country_under_25 = df_age_country.loc[df_age_country['Age'].isin(['18-21', '22-24'])]\n",
    "\n",
    "under_25 = df_age_country_under_25.groupby(['Country'])\n",
    "df_under_25 = under_25.agg('sum')\n",
    "df_under_25.reset_index(inplace=True)\n",
    "df_under_25=df_under_25[['Country', 'age_group_pct']]\n",
    "df_under_25.columns=('Country', 'pct_under_25')\n",
    "\n",
    "df_under_25['pct_under_25'] = round(df_under_25['pct_under_25'],1)\n",
    "\n",
    "df_under_25['country_code'] = df_under_25['Country']\n",
    "df_under_25.replace({\"country_code\": country_codes}, inplace=True)\n",
    "\n",
    "df_under_25"
   ]
  },
  {
   "cell_type": "code",
   "execution_count": 12,
   "metadata": {},
   "outputs": [
    {
     "ename": "NameError",
     "evalue": "name 'df_age_country' is not defined",
     "output_type": "error",
     "traceback": [
      "\u001b[1;31m---------------------------------------------------------------------------\u001b[0m",
      "\u001b[1;31mNameError\u001b[0m                                 Traceback (most recent call last)",
      "\u001b[1;32m<ipython-input-12-2161606ead9d>\u001b[0m in \u001b[0;36m<module>\u001b[1;34m\u001b[0m\n\u001b[1;32m----> 1\u001b[1;33m \u001b[0mdf_age_country_under_25\u001b[0m \u001b[1;33m=\u001b[0m \u001b[0mdf_age_country\u001b[0m\u001b[1;33m.\u001b[0m\u001b[0mloc\u001b[0m\u001b[1;33m[\u001b[0m\u001b[0mdf_age_country\u001b[0m\u001b[1;33m[\u001b[0m\u001b[1;34m'Age'\u001b[0m\u001b[1;33m]\u001b[0m\u001b[1;33m.\u001b[0m\u001b[0misin\u001b[0m\u001b[1;33m(\u001b[0m\u001b[1;33m[\u001b[0m\u001b[1;34m'18-21'\u001b[0m\u001b[1;33m,\u001b[0m \u001b[1;34m'22-24'\u001b[0m\u001b[1;33m]\u001b[0m\u001b[1;33m)\u001b[0m\u001b[1;33m]\u001b[0m\u001b[1;33m\u001b[0m\u001b[1;33m\u001b[0m\u001b[0m\n\u001b[0m\u001b[0;32m      2\u001b[0m \u001b[1;33m\u001b[0m\u001b[0m\n\u001b[0;32m      3\u001b[0m \u001b[0munder_25\u001b[0m \u001b[1;33m=\u001b[0m \u001b[0mdf_age_country_under_25\u001b[0m\u001b[1;33m.\u001b[0m\u001b[0mgroupby\u001b[0m\u001b[1;33m(\u001b[0m\u001b[1;33m[\u001b[0m\u001b[1;34m'Country'\u001b[0m\u001b[1;33m]\u001b[0m\u001b[1;33m)\u001b[0m\u001b[1;33m\u001b[0m\u001b[1;33m\u001b[0m\u001b[0m\n\u001b[0;32m      4\u001b[0m \u001b[0mdf_under_25\u001b[0m \u001b[1;33m=\u001b[0m \u001b[0munder_25\u001b[0m\u001b[1;33m.\u001b[0m\u001b[0magg\u001b[0m\u001b[1;33m(\u001b[0m\u001b[1;34m'sum'\u001b[0m\u001b[1;33m)\u001b[0m\u001b[1;33m\u001b[0m\u001b[1;33m\u001b[0m\u001b[0m\n\u001b[0;32m      5\u001b[0m \u001b[0mdf_under_25\u001b[0m\u001b[1;33m.\u001b[0m\u001b[0mreset_index\u001b[0m\u001b[1;33m(\u001b[0m\u001b[0minplace\u001b[0m\u001b[1;33m=\u001b[0m\u001b[1;32mTrue\u001b[0m\u001b[1;33m)\u001b[0m\u001b[1;33m\u001b[0m\u001b[1;33m\u001b[0m\u001b[0m\n",
      "\u001b[1;31mNameError\u001b[0m: name 'df_age_country' is not defined"
     ]
    }
   ],
   "source": [
    "df_age_country_under_25 = df_age_country.loc[df_age_country['Age'].isin(['18-21', '22-24'])]\n",
    "\n",
    "under_25 = df_age_country_under_25.groupby(['Country'])\n",
    "df_under_25 = under_25.agg('sum')\n",
    "df_under_25.reset_index(inplace=True)\n",
    "df_under_25=df_under_25[['Country', 'age_group_pct']]\n",
    "df_under_25.columns=('Country', 'pct_under_25')\n",
    "\n",
    "df_under_25['pct_under_25'] = round(df_under_25['pct_under_25'],1)\n",
    "\n",
    "df_under_25['country_code'] = df_under_25['Country']\n",
    "df_under_25.replace({\"country_code\": country_codes}, inplace=True)\n",
    "\n",
    "df_under_25"
   ]
  },
  {
   "cell_type": "code",
   "execution_count": 13,
   "metadata": {},
   "outputs": [
    {
     "ename": "SyntaxError",
     "evalue": "invalid syntax (<ipython-input-13-ef94fcee56b5>, line 1)",
     "output_type": "error",
     "traceback": [
      "\u001b[1;36m  File \u001b[1;32m\"<ipython-input-13-ef94fcee56b5>\"\u001b[1;36m, line \u001b[1;32m1\u001b[0m\n\u001b[1;33m    sive and it may be better to consider using matplotlib/seaborn\u001b[0m\n\u001b[1;37m                  ^\u001b[0m\n\u001b[1;31mSyntaxError\u001b[0m\u001b[1;31m:\u001b[0m invalid syntax\n"
     ]
    }
   ],
   "source": [
    "sive and it may be better to consider using matplotlib/seaborn\n",
    "# altair usually limits input sources to 5000 rows but I have overriden that setting\n",
    "# the code commented below produces the chart below, but the chart is loaded from a saved image that uses less memory\n",
    "\n",
    "# alt.Chart(df_survey_responses).transform_density(\n",
    "#     'Time from Start to Finish (seconds)',\n",
    "#     as_=['Time from Start to Finish (seconds)', 'density'],\n",
    "#     extent=[0, 3000],\n",
    "#     groupby=['Q1']\n",
    "# ).mark_area(orient='horizontal').encode(\n",
    "#     y=alt.Y('Time from Start to Finish (seconds):Q', title=''),\n",
    "#     color=alt.Color('Q1:N', legend=alt.Legend(title=\"Age\", orient=\"top\")),\n",
    "#     x=alt.X(\n",
    "#         'density:Q',\n",
    "#         stack='center',\n",
    "#         impute=None,\n",
    "#         title=None,\n",
    "#         axis=alt.Axis(labels=False, values=[0],grid=False, ticks=True),\n",
    "#     ),\n",
    "#     column=alt.Column(\n",
    "#         'Q1:N',\n",
    "#         header=alt.Header(\n",
    "#             titleOrient='bottom',\n",
    "#             labelOrient='bottom',\n",
    "#             labelPadding=0,\n",
    "#         ),\n",
    "#     )\n",
    "# ).properties(width=80,\n",
    "#     background='#f5f5f5',title={\n",
    "# \"text\": [\"Survey Response Time in Seconds\"],\n",
    "# \"subtitle\": [\"Broken down by Age\"],\n",
    "# \"fontSize\":20, \"fontWeight\":600, \"subtitleFontSize\":14\n",
    "# }\n",
    "# ).configure_facet(\n",
    "#     spacing=0\n",
    "# ).configure_view(\n",
    "#     stroke=None\n",
    "# )\n"
   ]
  },
  {
   "cell_type": "code",
   "execution_count": 14,
   "metadata": {},
   "outputs": [
    {
     "ename": "NameError",
     "evalue": "name 'alt' is not defined",
     "output_type": "error",
     "traceback": [
      "\u001b[1;31m---------------------------------------------------------------------------\u001b[0m",
      "\u001b[1;31mNameError\u001b[0m                                 Traceback (most recent call last)",
      "\u001b[1;32m<ipython-input-14-2244628681a0>\u001b[0m in \u001b[0;36m<module>\u001b[1;34m\u001b[0m\n\u001b[0;32m      1\u001b[0m \u001b[1;31m#only top countries\u001b[0m\u001b[1;33m\u001b[0m\u001b[1;33m\u001b[0m\u001b[1;33m\u001b[0m\u001b[0m\n\u001b[0;32m      2\u001b[0m \u001b[1;33m\u001b[0m\u001b[0m\n\u001b[1;32m----> 3\u001b[1;33m alt.Chart(df_age_country[df_age_country['Country'].isin(country_sort[:9])]).mark_bar(\n\u001b[0m\u001b[0;32m      4\u001b[0m     \u001b[0mcornerRadiusTopLeft\u001b[0m\u001b[1;33m=\u001b[0m\u001b[1;36m3\u001b[0m\u001b[1;33m,\u001b[0m\u001b[1;33m\u001b[0m\u001b[1;33m\u001b[0m\u001b[0m\n\u001b[0;32m      5\u001b[0m     \u001b[0mcornerRadiusTopRight\u001b[0m\u001b[1;33m=\u001b[0m\u001b[1;36m3\u001b[0m\u001b[1;33m\u001b[0m\u001b[1;33m\u001b[0m\u001b[0m\n",
      "\u001b[1;31mNameError\u001b[0m: name 'alt' is not defined"
     ]
    }
   ],
   "source": [
    "#only top countries\n",
    "\n",
    "alt.Chart(df_age_country[df_age_country['Country'].isin(country_sort[:9])]).mark_bar(\n",
    "    cornerRadiusTopLeft=3,\n",
    "    cornerRadiusTopRight=3\n",
    ").encode(\n",
    "    x=alt.X('Count:Q', stack=\"normalize\", title=\"Normalized Count\"),\n",
    "    y=alt.Y('Age:O'),\n",
    "    color=alt.Color('Country:N', legend=alt.Legend(orient=\"right\"))\n",
    ").properties(width=320,\n",
    "             background='#f5f5f5',title={\n",
    "\"text\": [\"Age of Respondents\"],\n",
    "\"subtitle\": [\"Broken Down proportionally by Country\"],\n",
    "\"fontSize\":20, \"fontWeight\":600, \"subtitleFontSize\":14\n",
    "})"
   ]
  },
  {
   "cell_type": "code",
   "execution_count": 15,
   "metadata": {},
   "outputs": [
    {
     "ename": "NameError",
     "evalue": "name 'df_survey_responses' is not defined",
     "output_type": "error",
     "traceback": [
      "\u001b[1;31m---------------------------------------------------------------------------\u001b[0m",
      "\u001b[1;31mNameError\u001b[0m                                 Traceback (most recent call last)",
      "\u001b[1;32m<ipython-input-15-7eaa6f29c17f>\u001b[0m in \u001b[0;36m<module>\u001b[1;34m\u001b[0m\n\u001b[1;32m----> 1\u001b[1;33m \u001b[0meducation_country\u001b[0m \u001b[1;33m=\u001b[0m \u001b[0mdf_survey_responses\u001b[0m\u001b[1;33m.\u001b[0m\u001b[0mgroupby\u001b[0m\u001b[1;33m(\u001b[0m\u001b[1;33m[\u001b[0m\u001b[1;34m'Q4'\u001b[0m\u001b[1;33m,\u001b[0m \u001b[1;34m'Q3'\u001b[0m\u001b[1;33m]\u001b[0m\u001b[1;33m)\u001b[0m\u001b[1;33m\u001b[0m\u001b[1;33m\u001b[0m\u001b[0m\n\u001b[0m\u001b[0;32m      2\u001b[0m \u001b[0mdf_education_country\u001b[0m \u001b[1;33m=\u001b[0m \u001b[0meducation_country\u001b[0m\u001b[1;33m.\u001b[0m\u001b[0magg\u001b[0m\u001b[1;33m(\u001b[0m\u001b[1;34m'count'\u001b[0m\u001b[1;33m)\u001b[0m\u001b[1;33m\u001b[0m\u001b[1;33m\u001b[0m\u001b[0m\n\u001b[0;32m      3\u001b[0m \u001b[0mdf_education_country\u001b[0m\u001b[1;33m.\u001b[0m\u001b[0mreset_index\u001b[0m\u001b[1;33m(\u001b[0m\u001b[0minplace\u001b[0m\u001b[1;33m=\u001b[0m\u001b[1;32mTrue\u001b[0m\u001b[1;33m)\u001b[0m\u001b[1;33m\u001b[0m\u001b[1;33m\u001b[0m\u001b[0m\n\u001b[0;32m      4\u001b[0m \u001b[0mdf_education_country\u001b[0m\u001b[1;33m=\u001b[0m\u001b[0mdf_education_country\u001b[0m\u001b[1;33m[\u001b[0m\u001b[1;33m[\u001b[0m\u001b[1;34m'Q4'\u001b[0m\u001b[1;33m,\u001b[0m \u001b[1;34m'Q3'\u001b[0m\u001b[1;33m,\u001b[0m \u001b[1;34m'Q2'\u001b[0m\u001b[1;33m]\u001b[0m\u001b[1;33m]\u001b[0m\u001b[1;33m\u001b[0m\u001b[1;33m\u001b[0m\u001b[0m\n\u001b[0;32m      5\u001b[0m \u001b[0mdf_education_country\u001b[0m\u001b[1;33m.\u001b[0m\u001b[0mcolumns\u001b[0m\u001b[1;33m=\u001b[0m\u001b[1;33m(\u001b[0m\u001b[1;34m'education'\u001b[0m\u001b[1;33m,\u001b[0m \u001b[1;34m'country'\u001b[0m\u001b[1;33m,\u001b[0m \u001b[1;34m'Count'\u001b[0m\u001b[1;33m)\u001b[0m\u001b[1;33m\u001b[0m\u001b[1;33m\u001b[0m\u001b[0m\n",
      "\u001b[1;31mNameError\u001b[0m: name 'df_survey_responses' is not defined"
     ]
    }
   ],
   "source": [
    "education_country = df_survey_responses.groupby(['Q4', 'Q3'])\n",
    "df_education_country = education_country.agg('count')\n",
    "df_education_country.reset_index(inplace=True)\n",
    "df_education_country=df_education_country[['Q4', 'Q3', 'Q2']]\n",
    "df_education_country.columns=('education', 'country', 'Count')\n",
    "df_education_country['rank'] = df_education_country['education']\n",
    "education_sort_map = {\"Doctoral degree\": 6, 'Master’s degree': 5, \"Professional degree\": 4, 'Bachelor’s degree': 3, \n",
    "                  \"Some college/university study without earning a bachelor’s degree\": 2,\n",
    "                  \"No formal education past high school\": 1, \"I prefer not to answer\": 0\n",
    "                 }\n",
    "df_education_country['rank'] = df_education_country['rank'].replace(education_sort_map)\n",
    "df_education_country['education_rank'] = df_education_country['rank'].astype(str) + ' - ' + df_education_country['education']"
   ]
  },
  {
   "cell_type": "code",
   "execution_count": 16,
   "metadata": {},
   "outputs": [
    {
     "ename": "NameError",
     "evalue": "name 'alt' is not defined",
     "output_type": "error",
     "traceback": [
      "\u001b[1;31m---------------------------------------------------------------------------\u001b[0m",
      "\u001b[1;31mNameError\u001b[0m                                 Traceback (most recent call last)",
      "\u001b[1;32m<ipython-input-16-7d7e172539fb>\u001b[0m in \u001b[0;36m<module>\u001b[1;34m\u001b[0m\n\u001b[1;32m----> 1\u001b[1;33m alt.Chart(df_education_country).mark_bar(\n\u001b[0m\u001b[0;32m      2\u001b[0m     \u001b[0mcornerRadiusTopLeft\u001b[0m\u001b[1;33m=\u001b[0m\u001b[1;36m3\u001b[0m\u001b[1;33m,\u001b[0m\u001b[1;33m\u001b[0m\u001b[1;33m\u001b[0m\u001b[0m\n\u001b[0;32m      3\u001b[0m     \u001b[0mcornerRadiusTopRight\u001b[0m\u001b[1;33m=\u001b[0m\u001b[1;36m3\u001b[0m\u001b[1;33m\u001b[0m\u001b[1;33m\u001b[0m\u001b[0m\n\u001b[0;32m      4\u001b[0m \u001b[1;33m)\u001b[0m\u001b[1;33m.\u001b[0m\u001b[0mencode\u001b[0m\u001b[1;33m(\u001b[0m\u001b[1;33m\u001b[0m\u001b[1;33m\u001b[0m\u001b[0m\n\u001b[0;32m      5\u001b[0m     \u001b[0mx\u001b[0m\u001b[1;33m=\u001b[0m\u001b[0malt\u001b[0m\u001b[1;33m.\u001b[0m\u001b[0mX\u001b[0m\u001b[1;33m(\u001b[0m\u001b[1;34m'country:N'\u001b[0m\u001b[1;33m)\u001b[0m\u001b[1;33m,\u001b[0m\u001b[1;33m\u001b[0m\u001b[1;33m\u001b[0m\u001b[0m\n",
      "\u001b[1;31mNameError\u001b[0m: name 'alt' is not defined"
     ]
    }
   ],
   "source": [
    "alt.Chart(df_education_country).mark_bar(\n",
    "    cornerRadiusTopLeft=3,\n",
    "    cornerRadiusTopRight=3\n",
    ").encode(\n",
    "    x=alt.X('country:N'),\n",
    "    y=alt.Y('Count:Q', stack=\"normalize\", title=\"Normalized Count\"),\n",
    "    color=alt.Color('education_rank:N', legend=alt.Legend(orient=\"left\"))\n",
    ").properties(width=520,\n",
    "             background='#f5f5f5',title={\n",
    "\"text\": [\"Highest Educational Achievement Held by Respondents\"],\n",
    "\"subtitle\": [\"Broken Down proportionally by Country\"],\n",
    "\"fontSize\":18, \"fontWeight\":600, \"subtitleFontSize\":14\n",
    "})"
   ]
  },
  {
   "cell_type": "code",
   "execution_count": 17,
   "metadata": {},
   "outputs": [],
   "source": [
    "def platform_altair(df, colorfeat, colortitle):\n",
    "    chrt = alt.Chart(df_ed_platform_full).mark_rect().encode(\n",
    "        x=alt.X('country:N'),\n",
    "        y=alt.Y('Platform:N'),\n",
    "        color=alt.Color(colorfeat, legend=alt.Legend(orient=\"bottom\"), title=colortitle)\n",
    "    ).properties(width=600, height=200,\n",
    "                 background='#f5f5f5',title={\n",
    "    \"text\": [\"Online Platforms Used by Respondents\"],\n",
    "    \"fontSize\":18, \"fontWeight\":600, \"subtitleFontSize\":14\n",
    "    })\n",
    "    \n",
    "    return chrt"
   ]
  },
  {
   "cell_type": "code",
   "execution_count": 18,
   "metadata": {},
   "outputs": [
    {
     "ename": "NameError",
     "evalue": "name 'df_ed_platform_full' is not defined",
     "output_type": "error",
     "traceback": [
      "\u001b[1;31m---------------------------------------------------------------------------\u001b[0m",
      "\u001b[1;31mNameError\u001b[0m                                 Traceback (most recent call last)",
      "\u001b[1;32m<ipython-input-18-29b68dec1f41>\u001b[0m in \u001b[0;36m<module>\u001b[1;34m\u001b[0m\n\u001b[1;32m----> 1\u001b[1;33m \u001b[0mchrt\u001b[0m \u001b[1;33m=\u001b[0m \u001b[0mplatform_altair\u001b[0m\u001b[1;33m(\u001b[0m\u001b[0mdf_ed_platform_full\u001b[0m\u001b[1;33m,\u001b[0m \u001b[1;34m'Count:Q'\u001b[0m\u001b[1;33m,\u001b[0m \u001b[1;34m'Count'\u001b[0m\u001b[1;33m)\u001b[0m\u001b[1;33m\u001b[0m\u001b[1;33m\u001b[0m\u001b[0m\n\u001b[0m\u001b[0;32m      2\u001b[0m \u001b[0mchrt\u001b[0m\u001b[1;33m\u001b[0m\u001b[1;33m\u001b[0m\u001b[0m\n",
      "\u001b[1;31mNameError\u001b[0m: name 'df_ed_platform_full' is not defined"
     ]
    }
   ],
   "source": [
    "chrt = platform_altair(df_ed_platform_full, 'Count:Q', 'Count')\n",
    "chrt"
   ]
  },
  {
   "cell_type": "code",
   "execution_count": 19,
   "metadata": {},
   "outputs": [
    {
     "ename": "NameError",
     "evalue": "name 'df_ed_platform_full' is not defined",
     "output_type": "error",
     "traceback": [
      "\u001b[1;31m---------------------------------------------------------------------------\u001b[0m",
      "\u001b[1;31mNameError\u001b[0m                                 Traceback (most recent call last)",
      "\u001b[1;32m<ipython-input-19-8dbbc1d70161>\u001b[0m in \u001b[0;36m<module>\u001b[1;34m\u001b[0m\n\u001b[1;32m----> 1\u001b[1;33m \u001b[0mlog_chrt\u001b[0m \u001b[1;33m=\u001b[0m \u001b[0mplatform_altair\u001b[0m\u001b[1;33m(\u001b[0m\u001b[0mdf_ed_platform_full\u001b[0m\u001b[1;33m,\u001b[0m \u001b[1;34m'logCount:Q'\u001b[0m\u001b[1;33m,\u001b[0m \u001b[1;34m'Log Count'\u001b[0m\u001b[1;33m)\u001b[0m\u001b[1;33m\u001b[0m\u001b[1;33m\u001b[0m\u001b[0m\n\u001b[0m\u001b[0;32m      2\u001b[0m \u001b[0mlog_chrt\u001b[0m\u001b[1;33m\u001b[0m\u001b[1;33m\u001b[0m\u001b[0m\n",
      "\u001b[1;31mNameError\u001b[0m: name 'df_ed_platform_full' is not defined"
     ]
    }
   ],
   "source": [
    "log_chrt = platform_altair(df_ed_platform_full, 'logCount:Q', 'Log Count')\n",
    "log_chrt"
   ]
  },
  {
   "cell_type": "code",
   "execution_count": 20,
   "metadata": {},
   "outputs": [
    {
     "ename": "NameError",
     "evalue": "name 'df_ed_platform_full' is not defined",
     "output_type": "error",
     "traceback": [
      "\u001b[1;31m---------------------------------------------------------------------------\u001b[0m",
      "\u001b[1;31mNameError\u001b[0m                                 Traceback (most recent call last)",
      "\u001b[1;32m<ipython-input-20-c8c441b5c75c>\u001b[0m in \u001b[0;36m<module>\u001b[1;34m\u001b[0m\n\u001b[1;32m----> 1\u001b[1;33m df_ed_platform_full = df_ed_platform_full.merge(df_country, left_on='country', right_on='Country',\n\u001b[0m\u001b[0;32m      2\u001b[0m           suffixes=(None, '_total'))\n\u001b[0;32m      3\u001b[0m \u001b[0mdf_ed_platform_full\u001b[0m\u001b[1;33m[\u001b[0m\u001b[1;34m'platform_pct'\u001b[0m\u001b[1;33m]\u001b[0m \u001b[1;33m=\u001b[0m \u001b[0mround\u001b[0m\u001b[1;33m(\u001b[0m\u001b[1;36m100\u001b[0m \u001b[1;33m*\u001b[0m \u001b[0mdf_ed_platform_full\u001b[0m\u001b[1;33m[\u001b[0m\u001b[1;34m'Count'\u001b[0m\u001b[1;33m]\u001b[0m \u001b[1;33m/\u001b[0m \u001b[0mdf_ed_platform_full\u001b[0m\u001b[1;33m[\u001b[0m\u001b[1;34m'Count_total'\u001b[0m\u001b[1;33m]\u001b[0m\u001b[1;33m,\u001b[0m\u001b[1;36m1\u001b[0m\u001b[1;33m)\u001b[0m\u001b[1;33m\u001b[0m\u001b[1;33m\u001b[0m\u001b[0m\n\u001b[0;32m      4\u001b[0m \u001b[0mdf_ed_platform_full\u001b[0m\u001b[1;33m\u001b[0m\u001b[1;33m\u001b[0m\u001b[0m\n",
      "\u001b[1;31mNameError\u001b[0m: name 'df_ed_platform_full' is not defined"
     ]
    }
   ],
   "source": [
    "df_ed_platform_full = df_ed_platform_full.merge(df_country, left_on='country', right_on='Country',\n",
    "          suffixes=(None, '_total'))\n",
    "df_ed_platform_full['platform_pct'] = round(100 * df_ed_platform_full['Count'] / df_ed_platform_full['Count_total'],1)\n",
    "df_ed_platform_full"
   ]
  },
  {
   "cell_type": "code",
   "execution_count": 21,
   "metadata": {},
   "outputs": [
    {
     "ename": "NameError",
     "evalue": "name 'df_ed_platform_full' is not defined",
     "output_type": "error",
     "traceback": [
      "\u001b[1;31m---------------------------------------------------------------------------\u001b[0m",
      "\u001b[1;31mNameError\u001b[0m                                 Traceback (most recent call last)",
      "\u001b[1;32m<ipython-input-21-6d594ed1f021>\u001b[0m in \u001b[0;36m<module>\u001b[1;34m\u001b[0m\n\u001b[1;32m----> 1\u001b[1;33m \u001b[0mpct_chrt\u001b[0m \u001b[1;33m=\u001b[0m \u001b[0mplatform_altair\u001b[0m\u001b[1;33m(\u001b[0m\u001b[0mdf_ed_platform_full\u001b[0m\u001b[1;33m,\u001b[0m \u001b[1;34m'platform_pct:Q'\u001b[0m\u001b[1;33m,\u001b[0m \u001b[1;34m'% in Country'\u001b[0m\u001b[1;33m)\u001b[0m\u001b[1;33m\u001b[0m\u001b[1;33m\u001b[0m\u001b[0m\n\u001b[0m\u001b[0;32m      2\u001b[0m \u001b[0mpct_chrt\u001b[0m\u001b[1;33m\u001b[0m\u001b[1;33m\u001b[0m\u001b[0m\n",
      "\u001b[1;31mNameError\u001b[0m: name 'df_ed_platform_full' is not defined"
     ]
    }
   ],
   "source": [
    "pct_chrt = platform_altair(df_ed_platform_full, 'platform_pct:Q', '% in Country')\n",
    "pct_chrt"
   ]
  },
  {
   "cell_type": "code",
   "execution_count": 22,
   "metadata": {},
   "outputs": [
    {
     "ename": "NameError",
     "evalue": "name 'df_ed_platform_full' is not defined",
     "output_type": "error",
     "traceback": [
      "\u001b[1;31m---------------------------------------------------------------------------\u001b[0m",
      "\u001b[1;31mNameError\u001b[0m                                 Traceback (most recent call last)",
      "\u001b[1;32m<ipython-input-22-51bb06042019>\u001b[0m in \u001b[0;36m<module>\u001b[1;34m\u001b[0m\n\u001b[1;32m----> 1\u001b[1;33m \u001b[0mdf_ed_platform_full\u001b[0m\u001b[1;33m.\u001b[0m\u001b[0mloc\u001b[0m\u001b[1;33m[\u001b[0m\u001b[0mdf_ed_platform_full\u001b[0m\u001b[1;33m[\u001b[0m\u001b[1;34m'Country'\u001b[0m\u001b[1;33m]\u001b[0m\u001b[1;33m==\u001b[0m\u001b[1;34m'Belarus'\u001b[0m\u001b[1;33m]\u001b[0m\u001b[1;33m\u001b[0m\u001b[1;33m\u001b[0m\u001b[0m\n\u001b[0m",
      "\u001b[1;31mNameError\u001b[0m: name 'df_ed_platform_full' is not defined"
     ]
    }
   ],
   "source": [
    "df_ed_platform_full.loc[df_ed_platform_full['Country']=='Belarus']"
   ]
  },
  {
   "cell_type": "code",
   "execution_count": 23,
   "metadata": {},
   "outputs": [
    {
     "ename": "NameError",
     "evalue": "name 'alt' is not defined",
     "output_type": "error",
     "traceback": [
      "\u001b[1;31m---------------------------------------------------------------------------\u001b[0m",
      "\u001b[1;31mNameError\u001b[0m                                 Traceback (most recent call last)",
      "\u001b[1;32m<ipython-input-23-8714b1e524fb>\u001b[0m in \u001b[0;36m<module>\u001b[1;34m\u001b[0m\n\u001b[1;32m----> 1\u001b[1;33m alt.Chart(df_job_country).mark_bar(\n\u001b[0m\u001b[0;32m      2\u001b[0m     \u001b[0mcornerRadiusTopLeft\u001b[0m\u001b[1;33m=\u001b[0m\u001b[1;36m3\u001b[0m\u001b[1;33m,\u001b[0m\u001b[1;33m\u001b[0m\u001b[1;33m\u001b[0m\u001b[0m\n\u001b[0;32m      3\u001b[0m     \u001b[0mcornerRadiusTopRight\u001b[0m\u001b[1;33m=\u001b[0m\u001b[1;36m3\u001b[0m\u001b[1;33m\u001b[0m\u001b[1;33m\u001b[0m\u001b[0m\n\u001b[0;32m      4\u001b[0m \u001b[1;33m)\u001b[0m\u001b[1;33m.\u001b[0m\u001b[0mencode\u001b[0m\u001b[1;33m(\u001b[0m\u001b[1;33m\u001b[0m\u001b[1;33m\u001b[0m\u001b[0m\n\u001b[0;32m      5\u001b[0m     \u001b[0mx\u001b[0m\u001b[1;33m=\u001b[0m\u001b[0malt\u001b[0m\u001b[1;33m.\u001b[0m\u001b[0mX\u001b[0m\u001b[1;33m(\u001b[0m\u001b[1;34m'country:N'\u001b[0m\u001b[1;33m)\u001b[0m\u001b[1;33m,\u001b[0m\u001b[1;33m\u001b[0m\u001b[1;33m\u001b[0m\u001b[0m\n",
      "\u001b[1;31mNameError\u001b[0m: name 'alt' is not defined"
     ]
    }
   ],
   "source": [
    "alt.Chart(df_job_country).mark_bar(\n",
    "    cornerRadiusTopLeft=3,\n",
    "    cornerRadiusTopRight=3\n",
    ").encode(\n",
    "    x=alt.X('country:N'),\n",
    "    y=alt.Y('Count:Q', stack=\"normalize\", title=\"Normalized Count\"),\n",
    "    color=alt.Color('job:N', legend=alt.Legend(orient=\"left\"))\n",
    ").properties(width=550,\n",
    "             background='#f5f5f5',title={\n",
    "\"text\": [\"Job Titles Held by Respondents\"],\n",
    "\"subtitle\": [\"Broken Down proportionally by Country\"],\n",
    "\"fontSize\":18, \"fontWeight\":600, \"subtitleFontSize\":14\n",
    "})"
   ]
  },
  {
   "cell_type": "code",
   "execution_count": 24,
   "metadata": {},
   "outputs": [
    {
     "ename": "NameError",
     "evalue": "name 'df_job_country' is not defined",
     "output_type": "error",
     "traceback": [
      "\u001b[1;31m---------------------------------------------------------------------------\u001b[0m",
      "\u001b[1;31mNameError\u001b[0m                                 Traceback (most recent call last)",
      "\u001b[1;32m<ipython-input-24-37e54a529c6b>\u001b[0m in \u001b[0;36m<module>\u001b[1;34m\u001b[0m\n\u001b[1;32m----> 1\u001b[1;33m df_job_proportions = df_job_country.merge(df_country, left_on='country', right_on='Country',\n\u001b[0m\u001b[0;32m      2\u001b[0m           suffixes=(None, '_total'))\n\u001b[0;32m      3\u001b[0m \u001b[0mdf_job_proportions\u001b[0m\u001b[1;33m.\u001b[0m\u001b[0mdrop\u001b[0m\u001b[1;33m(\u001b[0m\u001b[0mcolumns\u001b[0m\u001b[1;33m=\u001b[0m\u001b[1;33m[\u001b[0m\u001b[1;34m'country'\u001b[0m\u001b[1;33m]\u001b[0m\u001b[1;33m,\u001b[0m \u001b[0minplace\u001b[0m\u001b[1;33m=\u001b[0m\u001b[1;32mTrue\u001b[0m\u001b[1;33m)\u001b[0m\u001b[1;33m\u001b[0m\u001b[1;33m\u001b[0m\u001b[0m\n\u001b[0;32m      4\u001b[0m \u001b[0mdf_job_proportions\u001b[0m\u001b[1;33m[\u001b[0m\u001b[1;34m'job_proportion'\u001b[0m\u001b[1;33m]\u001b[0m \u001b[1;33m=\u001b[0m \u001b[0mdf_job_proportions\u001b[0m\u001b[1;33m[\u001b[0m\u001b[1;34m'Count'\u001b[0m\u001b[1;33m]\u001b[0m \u001b[1;33m/\u001b[0m \u001b[0mdf_job_proportions\u001b[0m\u001b[1;33m[\u001b[0m\u001b[1;34m'Count_total'\u001b[0m\u001b[1;33m]\u001b[0m\u001b[1;33m\u001b[0m\u001b[1;33m\u001b[0m\u001b[0m\n\u001b[0;32m      5\u001b[0m \u001b[0mdf_job_proportions\u001b[0m\u001b[1;33m\u001b[0m\u001b[1;33m\u001b[0m\u001b[0m\n",
      "\u001b[1;31mNameError\u001b[0m: name 'df_job_country' is not defined"
     ]
    }
   ],
   "source": [
    "df_job_proportions = df_job_country.merge(df_country, left_on='country', right_on='Country',\n",
    "          suffixes=(None, '_total'))\n",
    "df_job_proportions.drop(columns=['country'], inplace=True)\n",
    "df_job_proportions['job_proportion'] = df_job_proportions['Count'] / df_job_proportions['Count_total']\n",
    "df_job_proportions"
   ]
  },
  {
   "cell_type": "code",
   "execution_count": 25,
   "metadata": {},
   "outputs": [
    {
     "ename": "NameError",
     "evalue": "name 'df_job_proportions' is not defined",
     "output_type": "error",
     "traceback": [
      "\u001b[1;31m---------------------------------------------------------------------------\u001b[0m",
      "\u001b[1;31mNameError\u001b[0m                                 Traceback (most recent call last)",
      "\u001b[1;32m<ipython-input-25-9987073ca933>\u001b[0m in \u001b[0;36m<module>\u001b[1;34m\u001b[0m\n\u001b[1;32m----> 1\u001b[1;33m \u001b[0mdf_job_proportions_data_scientists\u001b[0m \u001b[1;33m=\u001b[0m \u001b[0mdf_job_proportions\u001b[0m\u001b[1;33m.\u001b[0m\u001b[0mloc\u001b[0m\u001b[1;33m[\u001b[0m\u001b[0mdf_job_proportions\u001b[0m\u001b[1;33m[\u001b[0m\u001b[1;34m'job'\u001b[0m\u001b[1;33m]\u001b[0m\u001b[1;33m==\u001b[0m\u001b[1;34m\"Data Scientist\"\u001b[0m\u001b[1;33m]\u001b[0m\u001b[1;33m\u001b[0m\u001b[1;33m\u001b[0m\u001b[0m\n\u001b[0m\u001b[0;32m      2\u001b[0m \u001b[0mdf_job_proportions_data_scientists\u001b[0m\u001b[1;33m\u001b[0m\u001b[1;33m\u001b[0m\u001b[0m\n",
      "\u001b[1;31mNameError\u001b[0m: name 'df_job_proportions' is not defined"
     ]
    }
   ],
   "source": [
    "df_job_proportions_data_scientists = df_job_proportions.loc[df_job_proportions['job']==\"Data Scientist\"]\n",
    "df_job_proportions_data_scientists"
   ]
  },
  {
   "cell_type": "code",
   "execution_count": 26,
   "metadata": {},
   "outputs": [
    {
     "ename": "NameError",
     "evalue": "name 'alt' is not defined",
     "output_type": "error",
     "traceback": [
      "\u001b[1;31m---------------------------------------------------------------------------\u001b[0m",
      "\u001b[1;31mNameError\u001b[0m                                 Traceback (most recent call last)",
      "\u001b[1;32m<ipython-input-26-73912c90b1ab>\u001b[0m in \u001b[0;36m<module>\u001b[1;34m\u001b[0m\n\u001b[1;32m----> 1\u001b[1;33m alt.Chart(df_experience_country).mark_bar(\n\u001b[0m\u001b[0;32m      2\u001b[0m     \u001b[0mcornerRadiusTopLeft\u001b[0m\u001b[1;33m=\u001b[0m\u001b[1;36m3\u001b[0m\u001b[1;33m,\u001b[0m\u001b[1;33m\u001b[0m\u001b[1;33m\u001b[0m\u001b[0m\n\u001b[0;32m      3\u001b[0m     \u001b[0mcornerRadiusTopRight\u001b[0m\u001b[1;33m=\u001b[0m\u001b[1;36m3\u001b[0m\u001b[1;33m\u001b[0m\u001b[1;33m\u001b[0m\u001b[0m\n\u001b[0;32m      4\u001b[0m \u001b[1;33m)\u001b[0m\u001b[1;33m.\u001b[0m\u001b[0mencode\u001b[0m\u001b[1;33m(\u001b[0m\u001b[1;33m\u001b[0m\u001b[1;33m\u001b[0m\u001b[0m\n\u001b[0;32m      5\u001b[0m     \u001b[0my\u001b[0m\u001b[1;33m=\u001b[0m\u001b[0malt\u001b[0m\u001b[1;33m.\u001b[0m\u001b[0mY\u001b[0m\u001b[1;33m(\u001b[0m\u001b[1;34m'country:N'\u001b[0m\u001b[1;33m,\u001b[0m \u001b[0maxis\u001b[0m\u001b[1;33m=\u001b[0m\u001b[0malt\u001b[0m\u001b[1;33m.\u001b[0m\u001b[0mAxis\u001b[0m\u001b[1;33m(\u001b[0m\u001b[0mgrid\u001b[0m\u001b[1;33m=\u001b[0m\u001b[1;32mFalse\u001b[0m\u001b[1;33m,\u001b[0m \u001b[0mtitleAngle\u001b[0m\u001b[1;33m=\u001b[0m\u001b[1;36m0\u001b[0m\u001b[1;33m)\u001b[0m\u001b[1;33m)\u001b[0m\u001b[1;33m,\u001b[0m\u001b[1;33m\u001b[0m\u001b[1;33m\u001b[0m\u001b[0m\n",
      "\u001b[1;31mNameError\u001b[0m: name 'alt' is not defined"
     ]
    }
   ],
   "source": [
    "alt.Chart(df_experience_country).mark_bar(\n",
    "    cornerRadiusTopLeft=3,\n",
    "    cornerRadiusTopRight=3\n",
    ").encode(\n",
    "    y=alt.Y('country:N', axis=alt.Axis(grid=False, titleAngle=0)),\n",
    "    x=alt.X('Count:Q', stack=\"normalize\", title=\"Normalized Count\"),\n",
    "    color=alt.Color('experience_rank:N', legend=alt.Legend(orient=\"bottom\"), title=\"Years of Experience\")\n",
    ").properties(width=480, height=520,\n",
    "             background='#f5f5f5',title={\n",
    "\"text\": [\"Years of Experience\"],\n",
    "\"subtitle\": [\"Broken Down proportionally by Country\"],\n",
    "\"fontSize\":18, \"fontWeight\":600, \"subtitleFontSize\":14\n",
    "})"
   ]
  },
  {
   "cell_type": "code",
   "execution_count": 27,
   "metadata": {},
   "outputs": [
    {
     "ename": "NameError",
     "evalue": "name 'df_survey_responses' is not defined",
     "output_type": "error",
     "traceback": [
      "\u001b[1;31m---------------------------------------------------------------------------\u001b[0m",
      "\u001b[1;31mNameError\u001b[0m                                 Traceback (most recent call last)",
      "\u001b[1;32m<ipython-input-27-ad51abcb3fd8>\u001b[0m in \u001b[0;36m<module>\u001b[1;34m\u001b[0m\n\u001b[1;32m----> 1\u001b[1;33m \u001b[0mprog_lang_country\u001b[0m \u001b[1;33m=\u001b[0m \u001b[0mdf_survey_responses\u001b[0m\u001b[1;33m.\u001b[0m\u001b[0mgroupby\u001b[0m\u001b[1;33m(\u001b[0m\u001b[1;33m[\u001b[0m\u001b[1;34m'Q8'\u001b[0m\u001b[1;33m,\u001b[0m \u001b[1;34m'Q3'\u001b[0m\u001b[1;33m]\u001b[0m\u001b[1;33m)\u001b[0m\u001b[1;33m\u001b[0m\u001b[1;33m\u001b[0m\u001b[0m\n\u001b[0m\u001b[0;32m      2\u001b[0m \u001b[0mdf_prog_lang_country\u001b[0m \u001b[1;33m=\u001b[0m \u001b[0mprog_lang_country\u001b[0m\u001b[1;33m.\u001b[0m\u001b[0magg\u001b[0m\u001b[1;33m(\u001b[0m\u001b[1;34m'count'\u001b[0m\u001b[1;33m)\u001b[0m\u001b[1;33m\u001b[0m\u001b[1;33m\u001b[0m\u001b[0m\n\u001b[0;32m      3\u001b[0m \u001b[0mdf_prog_lang_country\u001b[0m\u001b[1;33m.\u001b[0m\u001b[0mreset_index\u001b[0m\u001b[1;33m(\u001b[0m\u001b[0minplace\u001b[0m\u001b[1;33m=\u001b[0m\u001b[1;32mTrue\u001b[0m\u001b[1;33m)\u001b[0m\u001b[1;33m\u001b[0m\u001b[1;33m\u001b[0m\u001b[0m\n\u001b[0;32m      4\u001b[0m \u001b[0mdf_prog_lang_country\u001b[0m\u001b[1;33m=\u001b[0m\u001b[0mdf_prog_lang_country\u001b[0m\u001b[1;33m[\u001b[0m\u001b[1;33m[\u001b[0m\u001b[1;34m'Q8'\u001b[0m\u001b[1;33m,\u001b[0m \u001b[1;34m'Q3'\u001b[0m\u001b[1;33m,\u001b[0m \u001b[1;34m'Q2'\u001b[0m\u001b[1;33m]\u001b[0m\u001b[1;33m]\u001b[0m\u001b[1;33m\u001b[0m\u001b[1;33m\u001b[0m\u001b[0m\n\u001b[0;32m      5\u001b[0m \u001b[0mdf_prog_lang_country\u001b[0m\u001b[1;33m.\u001b[0m\u001b[0mcolumns\u001b[0m\u001b[1;33m=\u001b[0m\u001b[1;33m(\u001b[0m\u001b[1;34m'prog_lang'\u001b[0m\u001b[1;33m,\u001b[0m \u001b[1;34m'country'\u001b[0m\u001b[1;33m,\u001b[0m \u001b[1;34m'Count'\u001b[0m\u001b[1;33m)\u001b[0m\u001b[1;33m\u001b[0m\u001b[1;33m\u001b[0m\u001b[0m\n",
      "\u001b[1;31mNameError\u001b[0m: name 'df_survey_responses' is not defined"
     ]
    }
   ],
   "source": [
    "prog_lang_country = df_survey_responses.groupby(['Q8', 'Q3'])\n",
    "df_prog_lang_country = prog_lang_country.agg('count')\n",
    "df_prog_lang_country.reset_index(inplace=True)\n",
    "df_prog_lang_country=df_prog_lang_country[['Q8', 'Q3', 'Q2']]\n",
    "df_prog_lang_country.columns=('prog_lang', 'country', 'Count')\n",
    "#sort by count\n",
    "df_prog_lang_country = df_prog_lang_country.sort_values(by=['Count'], ascending=False)\n",
    "df_prog_lang_country.head()"
   ]
  },
  {
   "cell_type": "code",
   "execution_count": 28,
   "metadata": {},
   "outputs": [],
   "source": [
    "def prog_lang_country(df, title):\n",
    "    chart_prog_lang_country = alt.Chart(df).mark_bar(\n",
    "        cornerRadiusTopLeft=3,\n",
    "        cornerRadiusTopRight=3\n",
    "    ).encode(\n",
    "        y=alt.Y('country:N', axis=alt.Axis(grid=False, titleAngle=0)),\n",
    "        x=alt.X('Count:Q', stack=\"normalize\", title=\"Normalized Count\"),\n",
    "        color=alt.Color('prog_lang:N', legend=alt.Legend(orient=\"bottom\"), title=\"Programming Language\")\n",
    "    ).properties(width=480, height=500,\n",
    "                 background='#f5f5f5',title={\n",
    "    \"text\": [title],\n",
    "    \"subtitle\": [\"Broken Down proportionally by Country\"],\n",
    "    \"fontSize\":18, \"fontWeight\":600, \"subtitleFontSize\":14\n",
    "    })\n",
    "    \n",
    "    return chart_prog_lang_country"
   ]
  },
  {
   "cell_type": "code",
   "execution_count": 29,
   "metadata": {},
   "outputs": [
    {
     "ename": "NameError",
     "evalue": "name 'df_prog_lang_country' is not defined",
     "output_type": "error",
     "traceback": [
      "\u001b[1;31m---------------------------------------------------------------------------\u001b[0m",
      "\u001b[1;31mNameError\u001b[0m                                 Traceback (most recent call last)",
      "\u001b[1;32m<ipython-input-29-52ac4320fb55>\u001b[0m in \u001b[0;36m<module>\u001b[1;34m\u001b[0m\n\u001b[1;32m----> 1\u001b[1;33m \u001b[0mprog_lang_country\u001b[0m\u001b[1;33m(\u001b[0m\u001b[0mdf_prog_lang_country\u001b[0m\u001b[1;33m,\u001b[0m \u001b[1;34m\"Recommended Starting Programming Language for Data Science\"\u001b[0m\u001b[1;33m)\u001b[0m\u001b[1;33m\u001b[0m\u001b[1;33m\u001b[0m\u001b[0m\n\u001b[0m",
      "\u001b[1;31mNameError\u001b[0m: name 'df_prog_lang_country' is not defined"
     ]
    }
   ],
   "source": [
    "prog_lang_country(df_prog_lang_country, \"Recommended Starting Programming Language for Data Science\")"
   ]
  },
  {
   "cell_type": "code",
   "execution_count": 30,
   "metadata": {},
   "outputs": [
    {
     "ename": "NameError",
     "evalue": "name 'df_prog_lang_country' is not defined",
     "output_type": "error",
     "traceback": [
      "\u001b[1;31m---------------------------------------------------------------------------\u001b[0m",
      "\u001b[1;31mNameError\u001b[0m                                 Traceback (most recent call last)",
      "\u001b[1;32m<ipython-input-30-35d5178032c8>\u001b[0m in \u001b[0;36m<module>\u001b[1;34m\u001b[0m\n\u001b[1;32m----> 1\u001b[1;33m \u001b[0mprog_lang_country\u001b[0m\u001b[1;33m(\u001b[0m\u001b[0mdf_prog_lang_country\u001b[0m\u001b[1;33m.\u001b[0m\u001b[0mloc\u001b[0m\u001b[1;33m[\u001b[0m\u001b[0mdf_prog_lang_country\u001b[0m\u001b[1;33m[\u001b[0m\u001b[1;34m'prog_lang'\u001b[0m\u001b[1;33m]\u001b[0m\u001b[1;33m!=\u001b[0m\u001b[1;34m\"Python\"\u001b[0m\u001b[1;33m]\u001b[0m\u001b[1;33m,\u001b[0m \u001b[1;34m\"Recommended Starting Programming Language for Data Science (excluding Python)\"\u001b[0m\u001b[1;33m)\u001b[0m\u001b[1;33m\u001b[0m\u001b[1;33m\u001b[0m\u001b[0m\n\u001b[0m",
      "\u001b[1;31mNameError\u001b[0m: name 'df_prog_lang_country' is not defined"
     ]
    }
   ],
   "source": [
    "prog_lang_country(df_prog_lang_country.loc[df_prog_lang_country['prog_lang']!=\"Python\"], \"Recommended Starting Programming Language for Data Science (excluding Python)\")"
   ]
  },
  {
   "cell_type": "code",
   "execution_count": 31,
   "metadata": {},
   "outputs": [
    {
     "ename": "NameError",
     "evalue": "name 'df_survey_responses' is not defined",
     "output_type": "error",
     "traceback": [
      "\u001b[1;31m---------------------------------------------------------------------------\u001b[0m",
      "\u001b[1;31mNameError\u001b[0m                                 Traceback (most recent call last)",
      "\u001b[1;32m<ipython-input-31-2c35209be4e8>\u001b[0m in \u001b[0;36m<module>\u001b[1;34m\u001b[0m\n\u001b[1;32m----> 1\u001b[1;33m \u001b[0mplatform_country\u001b[0m \u001b[1;33m=\u001b[0m \u001b[0mdf_survey_responses\u001b[0m\u001b[1;33m.\u001b[0m\u001b[0mgroupby\u001b[0m\u001b[1;33m(\u001b[0m\u001b[1;33m[\u001b[0m\u001b[1;34m'Q11'\u001b[0m\u001b[1;33m,\u001b[0m \u001b[1;34m'Q3'\u001b[0m\u001b[1;33m]\u001b[0m\u001b[1;33m)\u001b[0m\u001b[1;33m\u001b[0m\u001b[1;33m\u001b[0m\u001b[0m\n\u001b[0m\u001b[0;32m      2\u001b[0m \u001b[0mdf_platform_country\u001b[0m \u001b[1;33m=\u001b[0m \u001b[0mplatform_country\u001b[0m\u001b[1;33m.\u001b[0m\u001b[0magg\u001b[0m\u001b[1;33m(\u001b[0m\u001b[1;34m'count'\u001b[0m\u001b[1;33m)\u001b[0m\u001b[1;33m\u001b[0m\u001b[1;33m\u001b[0m\u001b[0m\n\u001b[0;32m      3\u001b[0m \u001b[0mdf_platform_country\u001b[0m\u001b[1;33m.\u001b[0m\u001b[0mreset_index\u001b[0m\u001b[1;33m(\u001b[0m\u001b[0minplace\u001b[0m\u001b[1;33m=\u001b[0m\u001b[1;32mTrue\u001b[0m\u001b[1;33m)\u001b[0m\u001b[1;33m\u001b[0m\u001b[1;33m\u001b[0m\u001b[0m\n\u001b[0;32m      4\u001b[0m \u001b[0mdf_platform_country\u001b[0m\u001b[1;33m=\u001b[0m\u001b[0mdf_platform_country\u001b[0m\u001b[1;33m[\u001b[0m\u001b[1;33m[\u001b[0m\u001b[1;34m'Q11'\u001b[0m\u001b[1;33m,\u001b[0m \u001b[1;34m'Q3'\u001b[0m\u001b[1;33m,\u001b[0m \u001b[1;34m'Q2'\u001b[0m\u001b[1;33m]\u001b[0m\u001b[1;33m]\u001b[0m\u001b[1;33m\u001b[0m\u001b[1;33m\u001b[0m\u001b[0m\n\u001b[0;32m      5\u001b[0m \u001b[0mdf_platform_country\u001b[0m\u001b[1;33m.\u001b[0m\u001b[0mcolumns\u001b[0m\u001b[1;33m=\u001b[0m\u001b[1;33m(\u001b[0m\u001b[1;34m'platform'\u001b[0m\u001b[1;33m,\u001b[0m \u001b[1;34m'country'\u001b[0m\u001b[1;33m,\u001b[0m \u001b[1;34m'Count'\u001b[0m\u001b[1;33m)\u001b[0m\u001b[1;33m\u001b[0m\u001b[1;33m\u001b[0m\u001b[0m\n",
      "\u001b[1;31mNameError\u001b[0m: name 'df_survey_responses' is not defined"
     ]
    }
   ],
   "source": [
    "platform_country = df_survey_responses.groupby(['Q11', 'Q3'])\n",
    "df_platform_country = platform_country.agg('count')\n",
    "df_platform_country.reset_index(inplace=True)\n",
    "df_platform_country=df_platform_country[['Q11', 'Q3', 'Q2']]\n",
    "df_platform_country.columns=('platform', 'country', 'Count')\n",
    "#sort by count\n",
    "df_platform_country = df_platform_country.sort_values(by=['Count'], ascending=False)\n",
    "df_platform_country.head()"
   ]
  },
  {
   "cell_type": "code",
   "execution_count": 32,
   "metadata": {},
   "outputs": [],
   "source": [
    "def platform_country_chart(df, title):\n",
    "    chart_platform_country = alt.Chart(df).mark_bar(\n",
    "        cornerRadiusTopLeft=3,\n",
    "        cornerRadiusTopRight=3\n",
    "    ).encode(\n",
    "        y=alt.Y('country:N', axis=alt.Axis(grid=False, titleAngle=0)),\n",
    "        x=alt.X('Count:Q', stack=\"normalize\", title=\"Normalized Count\"),\n",
    "        color=alt.Color('platform:N', legend=alt.Legend(orient=\"top\"), title=\"Platform\")\n",
    "    ).properties(width=400, height=500,\n",
    "                 background='#f5f5f5',title={\n",
    "    \"text\": [title],\n",
    "    \"subtitle\": [\"Broken Down proportionally by Country\"],\n",
    "    \"fontSize\":18, \"fontWeight\":600, \"subtitleFontSize\":14\n",
    "    })\n",
    "    \n",
    "    return chart_platform_country"
   ]
  },
  {
   "cell_type": "code",
   "execution_count": 33,
   "metadata": {},
   "outputs": [
    {
     "ename": "NameError",
     "evalue": "name 'df_platform_country' is not defined",
     "output_type": "error",
     "traceback": [
      "\u001b[1;31m---------------------------------------------------------------------------\u001b[0m",
      "\u001b[1;31mNameError\u001b[0m                                 Traceback (most recent call last)",
      "\u001b[1;32m<ipython-input-33-258d23c4b3aa>\u001b[0m in \u001b[0;36m<module>\u001b[1;34m\u001b[0m\n\u001b[1;32m----> 1\u001b[1;33m \u001b[0mdf_platform_country\u001b[0m \u001b[1;33m=\u001b[0m \u001b[0mdf_platform_country\u001b[0m\u001b[1;33m.\u001b[0m\u001b[0mloc\u001b[0m\u001b[1;33m[\u001b[0m\u001b[0mdf_platform_country\u001b[0m\u001b[1;33m[\u001b[0m\u001b[1;34m'platform'\u001b[0m\u001b[1;33m]\u001b[0m\u001b[1;33m!=\u001b[0m\u001b[1;34m\"A personal computer or laptop\"\u001b[0m\u001b[1;33m]\u001b[0m\u001b[1;33m\u001b[0m\u001b[1;33m\u001b[0m\u001b[0m\n\u001b[0m\u001b[0;32m      2\u001b[0m \u001b[0malt\u001b[0m\u001b[1;33m.\u001b[0m\u001b[0mthemes\u001b[0m\u001b[1;33m.\u001b[0m\u001b[0menable\u001b[0m\u001b[1;33m(\u001b[0m\u001b[1;34m'vox'\u001b[0m\u001b[1;33m)\u001b[0m\u001b[1;33m\u001b[0m\u001b[1;33m\u001b[0m\u001b[0m\n\u001b[0;32m      3\u001b[0m \u001b[0mplatform_country_chart\u001b[0m\u001b[1;33m(\u001b[0m\u001b[0mdf_platform_country\u001b[0m\u001b[1;33m,\u001b[0m \u001b[1;34m\"Preferred Platform for Data Science (excluding pc's)\"\u001b[0m\u001b[1;33m)\u001b[0m\u001b[1;33m\u001b[0m\u001b[1;33m\u001b[0m\u001b[0m\n",
      "\u001b[1;31mNameError\u001b[0m: name 'df_platform_country' is not defined"
     ]
    }
   ],
   "source": [
    "df_platform_country = df_platform_country.loc[df_platform_country['platform']!=\"A personal computer or laptop\"]\n",
    "alt.themes.enable('vox')\n",
    "platform_country_chart(df_platform_country, \"Preferred Platform for Data Science (excluding pc's)\")"
   ]
  },
  {
   "cell_type": "code",
   "execution_count": 34,
   "metadata": {},
   "outputs": [
    {
     "ename": "NameError",
     "evalue": "name 'alt' is not defined",
     "output_type": "error",
     "traceback": [
      "\u001b[1;31m---------------------------------------------------------------------------\u001b[0m",
      "\u001b[1;31mNameError\u001b[0m                                 Traceback (most recent call last)",
      "\u001b[1;32m<ipython-input-34-af2bc873b720>\u001b[0m in \u001b[0;36m<module>\u001b[1;34m\u001b[0m\n\u001b[1;32m----> 1\u001b[1;33m \u001b[0malt\u001b[0m\u001b[1;33m.\u001b[0m\u001b[0mthemes\u001b[0m\u001b[1;33m.\u001b[0m\u001b[0menable\u001b[0m\u001b[1;33m(\u001b[0m\u001b[1;34m'latimes'\u001b[0m\u001b[1;33m)\u001b[0m\u001b[1;33m\u001b[0m\u001b[1;33m\u001b[0m\u001b[0m\n\u001b[0m\u001b[0;32m      2\u001b[0m bars = alt.Chart(df_tpu_country).mark_bar(\n\u001b[0;32m      3\u001b[0m         \u001b[0mcornerRadiusTopLeft\u001b[0m\u001b[1;33m=\u001b[0m\u001b[1;36m3\u001b[0m\u001b[1;33m,\u001b[0m\u001b[1;33m\u001b[0m\u001b[1;33m\u001b[0m\u001b[0m\n\u001b[0;32m      4\u001b[0m         \u001b[0mcornerRadiusTopRight\u001b[0m\u001b[1;33m=\u001b[0m\u001b[1;36m3\u001b[0m\u001b[1;33m\u001b[0m\u001b[1;33m\u001b[0m\u001b[0m\n\u001b[0;32m      5\u001b[0m     \u001b[1;33m)\u001b[0m\u001b[1;33m.\u001b[0m\u001b[0mencode\u001b[0m\u001b[1;33m(\u001b[0m\u001b[1;33m\u001b[0m\u001b[1;33m\u001b[0m\u001b[0m\n",
      "\u001b[1;31mNameError\u001b[0m: name 'alt' is not defined"
     ]
    }
   ],
   "source": [
    "alt.themes.enable('latimes')\n",
    "bars = alt.Chart(df_tpu_country).mark_bar(\n",
    "        cornerRadiusTopLeft=3,\n",
    "        cornerRadiusTopRight=3\n",
    "    ).encode(\n",
    "        y=alt.Y('country:N', axis=alt.Axis(grid=False, titleAngle=0)),\n",
    "        x=alt.X('Count:Q', stack=\"normalize\", title=\"Normalized Count\"),\n",
    "        color=alt.Color('tpu_usage_rank:N', legend=alt.Legend(orient=\"top\"), title=\"TPU Usage\")\n",
    "    ).properties(width=400, height=500,title={\n",
    "    \"text\": [\"TPU Usage\"],\n",
    "    \"subtitle\": [\"Broken Down proportionally by Country\"],\n",
    "    \"fontSize\":18, \"fontWeight\":600, \"subtitleFontSize\":14\n",
    "    })\n",
    "\n",
    "bars"
   ]
  },
  {
   "cell_type": "code",
   "execution_count": 35,
   "metadata": {},
   "outputs": [
    {
     "ename": "NameError",
     "evalue": "name 'df_survey_responses' is not defined",
     "output_type": "error",
     "traceback": [
      "\u001b[1;31m---------------------------------------------------------------------------\u001b[0m",
      "\u001b[1;31mNameError\u001b[0m                                 Traceback (most recent call last)",
      "\u001b[1;32m<ipython-input-35-2b5cf4061495>\u001b[0m in \u001b[0;36m<module>\u001b[1;34m\u001b[0m\n\u001b[1;32m----> 1\u001b[1;33m \u001b[0mml_country\u001b[0m \u001b[1;33m=\u001b[0m \u001b[0mdf_survey_responses\u001b[0m\u001b[1;33m.\u001b[0m\u001b[0mgroupby\u001b[0m\u001b[1;33m(\u001b[0m\u001b[1;33m[\u001b[0m\u001b[1;34m'Q15'\u001b[0m\u001b[1;33m,\u001b[0m \u001b[1;34m'Q3'\u001b[0m\u001b[1;33m]\u001b[0m\u001b[1;33m)\u001b[0m\u001b[1;33m\u001b[0m\u001b[1;33m\u001b[0m\u001b[0m\n\u001b[0m\u001b[0;32m      2\u001b[0m \u001b[0mdf_ml_country\u001b[0m \u001b[1;33m=\u001b[0m \u001b[0mml_country\u001b[0m\u001b[1;33m.\u001b[0m\u001b[0magg\u001b[0m\u001b[1;33m(\u001b[0m\u001b[1;34m'count'\u001b[0m\u001b[1;33m)\u001b[0m\u001b[1;33m\u001b[0m\u001b[1;33m\u001b[0m\u001b[0m\n\u001b[0;32m      3\u001b[0m \u001b[0mdf_ml_country\u001b[0m\u001b[1;33m.\u001b[0m\u001b[0mreset_index\u001b[0m\u001b[1;33m(\u001b[0m\u001b[0minplace\u001b[0m\u001b[1;33m=\u001b[0m\u001b[1;32mTrue\u001b[0m\u001b[1;33m)\u001b[0m\u001b[1;33m\u001b[0m\u001b[1;33m\u001b[0m\u001b[0m\n\u001b[0;32m      4\u001b[0m \u001b[0mdf_ml_country\u001b[0m\u001b[1;33m=\u001b[0m\u001b[0mdf_ml_country\u001b[0m\u001b[1;33m[\u001b[0m\u001b[1;33m[\u001b[0m\u001b[1;34m'Q15'\u001b[0m\u001b[1;33m,\u001b[0m \u001b[1;34m'Q3'\u001b[0m\u001b[1;33m,\u001b[0m \u001b[1;34m'Q2'\u001b[0m\u001b[1;33m]\u001b[0m\u001b[1;33m]\u001b[0m\u001b[1;33m\u001b[0m\u001b[1;33m\u001b[0m\u001b[0m\n\u001b[0;32m      5\u001b[0m \u001b[0mdf_ml_country\u001b[0m\u001b[1;33m.\u001b[0m\u001b[0mcolumns\u001b[0m\u001b[1;33m=\u001b[0m\u001b[1;33m(\u001b[0m\u001b[1;34m'ml_years'\u001b[0m\u001b[1;33m,\u001b[0m \u001b[1;34m'country'\u001b[0m\u001b[1;33m,\u001b[0m \u001b[1;34m'Count'\u001b[0m\u001b[1;33m)\u001b[0m\u001b[1;33m\u001b[0m\u001b[1;33m\u001b[0m\u001b[0m\n",
      "\u001b[1;31mNameError\u001b[0m: name 'df_survey_responses' is not defined"
     ]
    }
   ],
   "source": [
    "ml_country = df_survey_responses.groupby(['Q15', 'Q3'])\n",
    "df_ml_country = ml_country.agg('count')\n",
    "df_ml_country.reset_index(inplace=True)\n",
    "df_ml_country=df_ml_country[['Q15', 'Q3', 'Q2']]\n",
    "df_ml_country.columns=('ml_years', 'country', 'Count')\n",
    "#sort by count\n",
    "df_ml_country = df_ml_country.sort_values(by=['Count'], ascending=False)\n",
    "df_ml_country.head()"
   ]
  },
  {
   "cell_type": "code",
   "execution_count": 36,
   "metadata": {},
   "outputs": [
    {
     "ename": "NameError",
     "evalue": "name 'alt' is not defined",
     "output_type": "error",
     "traceback": [
      "\u001b[1;31m---------------------------------------------------------------------------\u001b[0m",
      "\u001b[1;31mNameError\u001b[0m                                 Traceback (most recent call last)",
      "\u001b[1;32m<ipython-input-36-890148f7f063>\u001b[0m in \u001b[0;36m<module>\u001b[1;34m\u001b[0m\n\u001b[1;32m----> 1\u001b[1;33m bars_ml = alt.Chart(df_ml_country).mark_bar(\n\u001b[0m\u001b[0;32m      2\u001b[0m         \u001b[0mcornerRadiusTopLeft\u001b[0m\u001b[1;33m=\u001b[0m\u001b[1;36m3\u001b[0m\u001b[1;33m,\u001b[0m\u001b[1;33m\u001b[0m\u001b[1;33m\u001b[0m\u001b[0m\n\u001b[0;32m      3\u001b[0m         \u001b[0mcornerRadiusTopRight\u001b[0m\u001b[1;33m=\u001b[0m\u001b[1;36m3\u001b[0m\u001b[1;33m\u001b[0m\u001b[1;33m\u001b[0m\u001b[0m\n\u001b[0;32m      4\u001b[0m     \u001b[1;33m)\u001b[0m\u001b[1;33m.\u001b[0m\u001b[0mencode\u001b[0m\u001b[1;33m(\u001b[0m\u001b[1;33m\u001b[0m\u001b[1;33m\u001b[0m\u001b[0m\n\u001b[0;32m      5\u001b[0m         \u001b[0my\u001b[0m\u001b[1;33m=\u001b[0m\u001b[0malt\u001b[0m\u001b[1;33m.\u001b[0m\u001b[0mY\u001b[0m\u001b[1;33m(\u001b[0m\u001b[1;34m'country:N'\u001b[0m\u001b[1;33m,\u001b[0m \u001b[0maxis\u001b[0m\u001b[1;33m=\u001b[0m\u001b[0malt\u001b[0m\u001b[1;33m.\u001b[0m\u001b[0mAxis\u001b[0m\u001b[1;33m(\u001b[0m\u001b[0mgrid\u001b[0m\u001b[1;33m=\u001b[0m\u001b[1;32mFalse\u001b[0m\u001b[1;33m,\u001b[0m \u001b[0mtitleAngle\u001b[0m\u001b[1;33m=\u001b[0m\u001b[1;36m0\u001b[0m\u001b[1;33m)\u001b[0m\u001b[1;33m)\u001b[0m\u001b[1;33m,\u001b[0m\u001b[1;33m\u001b[0m\u001b[1;33m\u001b[0m\u001b[0m\n",
      "\u001b[1;31mNameError\u001b[0m: name 'alt' is not defined"
     ]
    }
   ],
   "source": [
    "bars_ml = alt.Chart(df_ml_country).mark_bar(\n",
    "        cornerRadiusTopLeft=3,\n",
    "        cornerRadiusTopRight=3\n",
    "    ).encode(\n",
    "        y=alt.Y('country:N', axis=alt.Axis(grid=False, titleAngle=0)),\n",
    "        x=alt.X('Count:Q', stack=\"normalize\", title=\"Normalized Count\"),\n",
    "        color=alt.Color('ml_years_rank:N', legend=alt.Legend(orient=\"top\"), title=\"Years using ML methods\")\n",
    "    ).properties(width=500, height=500,title={\n",
    "    \"text\": [\"Years using ML methods\"],\n",
    "    \"subtitle\": [\"Broken Down proportionally by Country\"],\n",
    "    \"fontSize\":18, \"fontWeight\":600, \"subtitleFontSize\":14\n",
    "    })\n",
    "\n",
    "bars_ml"
   ]
  },
  {
   "cell_type": "code",
   "execution_count": 37,
   "metadata": {},
   "outputs": [
    {
     "ename": "NameError",
     "evalue": "name 'df_ml_country' is not defined",
     "output_type": "error",
     "traceback": [
      "\u001b[1;31m---------------------------------------------------------------------------\u001b[0m",
      "\u001b[1;31mNameError\u001b[0m                                 Traceback (most recent call last)",
      "\u001b[1;32m<ipython-input-37-39bd34f1b673>\u001b[0m in \u001b[0;36m<module>\u001b[1;34m\u001b[0m\n\u001b[1;32m----> 1\u001b[1;33m \u001b[0mdf_ml_country\u001b[0m\u001b[1;33m[\u001b[0m\u001b[1;34m'ML_experience_freq_pct'\u001b[0m\u001b[1;33m]\u001b[0m \u001b[1;33m=\u001b[0m \u001b[1;36m100\u001b[0m \u001b[1;33m*\u001b[0m \u001b[0mdf_ml_country\u001b[0m\u001b[1;33m[\u001b[0m\u001b[1;34m'Count'\u001b[0m\u001b[1;33m]\u001b[0m \u001b[1;33m/\u001b[0m \u001b[0mdf_ml_country\u001b[0m\u001b[1;33m[\u001b[0m\u001b[1;34m'Count_total'\u001b[0m\u001b[1;33m]\u001b[0m\u001b[1;33m\u001b[0m\u001b[1;33m\u001b[0m\u001b[0m\n\u001b[0m\u001b[0;32m      2\u001b[0m \u001b[0mdf_ml_country\u001b[0m\u001b[1;33m\u001b[0m\u001b[1;33m\u001b[0m\u001b[0m\n",
      "\u001b[1;31mNameError\u001b[0m: name 'df_ml_country' is not defined"
     ]
    }
   ],
   "source": [
    "df_ml_country['ML_experience_freq_pct'] = 100 * df_ml_country['Count'] / df_ml_country['Count_total']\n",
    "df_ml_country"
   ]
  },
  {
   "cell_type": "code",
   "execution_count": 38,
   "metadata": {},
   "outputs": [
    {
     "ename": "NameError",
     "evalue": "name 'df_ml_country' is not defined",
     "output_type": "error",
     "traceback": [
      "\u001b[1;31m---------------------------------------------------------------------------\u001b[0m",
      "\u001b[1;31mNameError\u001b[0m                                 Traceback (most recent call last)",
      "\u001b[1;32m<ipython-input-38-37f29a637d62>\u001b[0m in \u001b[0;36m<module>\u001b[1;34m\u001b[0m\n\u001b[1;32m----> 1\u001b[1;33m \u001b[0mdf_ml_country_5_plus\u001b[0m \u001b[1;33m=\u001b[0m \u001b[0mdf_ml_country\u001b[0m\u001b[1;33m[\u001b[0m\u001b[0mdf_ml_country\u001b[0m\u001b[1;33m[\u001b[0m\u001b[1;34m'ml_years_rank'\u001b[0m\u001b[1;33m]\u001b[0m\u001b[1;33m.\u001b[0m\u001b[0misin\u001b[0m\u001b[1;33m(\u001b[0m\u001b[1;33m[\u001b[0m\u001b[1;34m'6 - 5-10 years'\u001b[0m\u001b[1;33m,\u001b[0m \u001b[1;34m'7 - 10-20 years'\u001b[0m\u001b[1;33m,\u001b[0m\u001b[1;34m'8 - 20 or more years'\u001b[0m\u001b[1;33m]\u001b[0m\u001b[1;33m)\u001b[0m\u001b[1;33m]\u001b[0m\u001b[1;33m\u001b[0m\u001b[1;33m\u001b[0m\u001b[0m\n\u001b[0m\u001b[0;32m      2\u001b[0m \u001b[0mdf_ml_country_5_plus\u001b[0m\u001b[1;33m\u001b[0m\u001b[1;33m\u001b[0m\u001b[0m\n",
      "\u001b[1;31mNameError\u001b[0m: name 'df_ml_country' is not defined"
     ]
    }
   ],
   "source": [
    "df_ml_country_5_plus = df_ml_country[df_ml_country['ml_years_rank'].isin(['6 - 5-10 years', '7 - 10-20 years','8 - 20 or more years'])]\n",
    "df_ml_country_5_plus"
   ]
  },
  {
   "cell_type": "code",
   "execution_count": 39,
   "metadata": {},
   "outputs": [
    {
     "ename": "NameError",
     "evalue": "name 'df_ml_country_5_plus' is not defined",
     "output_type": "error",
     "traceback": [
      "\u001b[1;31m---------------------------------------------------------------------------\u001b[0m",
      "\u001b[1;31mNameError\u001b[0m                                 Traceback (most recent call last)",
      "\u001b[1;32m<ipython-input-39-f166129c10a2>\u001b[0m in \u001b[0;36m<module>\u001b[1;34m\u001b[0m\n\u001b[1;32m----> 1\u001b[1;33m \u001b[0mdf_ml_5_plus\u001b[0m \u001b[1;33m=\u001b[0m \u001b[0mdf_ml_country_5_plus\u001b[0m\u001b[1;33m.\u001b[0m\u001b[0mgroupby\u001b[0m\u001b[1;33m(\u001b[0m\u001b[1;33m[\u001b[0m\u001b[1;34m'country_code'\u001b[0m\u001b[1;33m]\u001b[0m\u001b[1;33m)\u001b[0m\u001b[1;33m\u001b[0m\u001b[1;33m\u001b[0m\u001b[0m\n\u001b[0m\u001b[0;32m      2\u001b[0m \u001b[0mdf_ml_5_plus\u001b[0m \u001b[1;33m=\u001b[0m \u001b[0mdf_ml_5_plus\u001b[0m\u001b[1;33m.\u001b[0m\u001b[0magg\u001b[0m\u001b[1;33m(\u001b[0m\u001b[1;34m'ML_experience_freq_pct'\u001b[0m\u001b[1;33m)\u001b[0m\u001b[1;33m.\u001b[0m\u001b[0msum\u001b[0m\u001b[1;33m(\u001b[0m\u001b[1;33m)\u001b[0m\u001b[1;33m.\u001b[0m\u001b[0mto_frame\u001b[0m\u001b[1;33m(\u001b[0m\u001b[1;33m)\u001b[0m\u001b[1;33m.\u001b[0m\u001b[0mreset_index\u001b[0m\u001b[1;33m(\u001b[0m\u001b[1;33m)\u001b[0m\u001b[1;33m\u001b[0m\u001b[1;33m\u001b[0m\u001b[0m\n\u001b[0;32m      3\u001b[0m \u001b[0mdf_ml_5_plus\u001b[0m\u001b[1;33m[\u001b[0m\u001b[1;34m'ML_experience_freq_pct'\u001b[0m\u001b[1;33m]\u001b[0m \u001b[1;33m=\u001b[0m \u001b[0mnp\u001b[0m\u001b[1;33m.\u001b[0m\u001b[0mround\u001b[0m\u001b[1;33m(\u001b[0m\u001b[0mdf_ml_5_plus\u001b[0m\u001b[1;33m[\u001b[0m\u001b[1;34m'ML_experience_freq_pct'\u001b[0m\u001b[1;33m]\u001b[0m\u001b[1;33m,\u001b[0m\u001b[1;36m1\u001b[0m\u001b[1;33m)\u001b[0m\u001b[1;33m\u001b[0m\u001b[1;33m\u001b[0m\u001b[0m\n\u001b[0;32m      4\u001b[0m \u001b[0mdf_ml_5_plus\u001b[0m\u001b[1;33m\u001b[0m\u001b[1;33m\u001b[0m\u001b[0m\n",
      "\u001b[1;31mNameError\u001b[0m: name 'df_ml_country_5_plus' is not defined"
     ]
    }
   ],
   "source": [
    "df_ml_5_plus = df_ml_country_5_plus.groupby(['country_code'])\n",
    "df_ml_5_plus = df_ml_5_plus.agg('ML_experience_freq_pct').sum().to_frame().reset_index()\n",
    "df_ml_5_plus['ML_experience_freq_pct'] = np.round(df_ml_5_plus['ML_experience_freq_pct'],1)\n",
    "df_ml_5_plus"
   ]
  },
  {
   "cell_type": "code",
   "execution_count": 40,
   "metadata": {},
   "outputs": [
    {
     "ename": "NameError",
     "evalue": "name 'px' is not defined",
     "output_type": "error",
     "traceback": [
      "\u001b[1;31m---------------------------------------------------------------------------\u001b[0m",
      "\u001b[1;31mNameError\u001b[0m                                 Traceback (most recent call last)",
      "\u001b[1;32m<ipython-input-40-be04b27c310f>\u001b[0m in \u001b[0;36m<module>\u001b[1;34m\u001b[0m\n\u001b[1;32m----> 1\u001b[1;33m fig = px.choropleth(data_frame=df_ml_5_plus,\n\u001b[0m\u001b[0;32m      2\u001b[0m                     \u001b[0mlocations\u001b[0m\u001b[1;33m=\u001b[0m\u001b[1;34m'country_code'\u001b[0m\u001b[1;33m,\u001b[0m\u001b[1;33m\u001b[0m\u001b[1;33m\u001b[0m\u001b[0m\n\u001b[0;32m      3\u001b[0m                     \u001b[0mcolor\u001b[0m\u001b[1;33m=\u001b[0m\u001b[1;34m'ML_experience_freq_pct'\u001b[0m\u001b[1;33m,\u001b[0m\u001b[1;33m\u001b[0m\u001b[1;33m\u001b[0m\u001b[0m\n\u001b[0;32m      4\u001b[0m                     \u001b[0mcolor_continuous_scale\u001b[0m\u001b[1;33m=\u001b[0m\u001b[1;34m\"agsunset\"\u001b[0m\u001b[1;33m,\u001b[0m\u001b[1;33m\u001b[0m\u001b[1;33m\u001b[0m\u001b[0m\n\u001b[0;32m      5\u001b[0m                     \u001b[0mrange_color\u001b[0m\u001b[1;33m=\u001b[0m\u001b[1;33m(\u001b[0m\u001b[1;36m0\u001b[0m\u001b[1;33m,\u001b[0m \u001b[1;36m25\u001b[0m\u001b[1;33m)\u001b[0m\u001b[1;33m,\u001b[0m\u001b[1;33m\u001b[0m\u001b[1;33m\u001b[0m\u001b[0m\n",
      "\u001b[1;31mNameError\u001b[0m: name 'px' is not defined"
     ]
    }
   ],
   "source": [
    "fig = px.choropleth(data_frame=df_ml_5_plus,\n",
    "                    locations='country_code',\n",
    "                    color='ML_experience_freq_pct',\n",
    "                    color_continuous_scale=\"agsunset\",\n",
    "                    range_color=(0, 25),\n",
    "                    hover_name='country_code', # column to add to hover information\n",
    "                    title='% Respondents with 5+ years experience of ML Methods')\n",
    "fig.show()"
   ]
  },
  {
   "cell_type": "code",
   "execution_count": null,
   "metadata": {},
   "outputs": [],
   "source": [
    "##primary analysis\n",
    "df_primary_analysis['primary_analysis_abbr'] = df_primary_analysis['primary_analysis']\n",
    "primary_analysis_sort_map = {'Local development environments (RStudio, JupyterLab, etc.)': 'Local development environments',\n",
    "                             'Basic statistical software (Microsoft Excel, Google Sheets, etc.)': 'Basic statistical software',\n",
    "                            'Business intelligence software (Salesforce, Tableau, Spotfire, etc.)': 'Business intelligence software',\n",
    "                            'Cloud-based data software & APIs (AWS, GCP, Azure, etc.)': 'Cloud-based data software & APIs',\n",
    "                            'Advanced statistical software (SPSS, SAS, etc.)': 'Advanced statistical software',\n",
    "                 }\n",
    "df_primary_analysis['primary_analysis_abbr'] = df_primary_analysis['primary_analysis_abbr'].replace(primary_analysis_sort_map)\n",
    "df_primary_analysi\n"
   ]
  },
  {
   "cell_type": "code",
   "execution_count": 41,
   "metadata": {},
   "outputs": [],
   "source": [
    "def analysis_altair(df, colorfeat, colortitle):\n",
    "    chrt = alt.Chart(df).mark_rect().encode(\n",
    "        x=alt.X('country:N'),\n",
    "        y=alt.Y('primary_analysis_abbr:N', title=\"Primary Analysis Toolset\"),\n",
    "        color=alt.Color(colorfeat, legend=alt.Legend(orient=\"bottom\"), title=colortitle)\n",
    "    ).properties(width=600, height=160,\n",
    "                 background='#f5f5f5',title={\n",
    "    \"text\": [\"Primary Analysis Toolset Used by Respondents\"],\n",
    "    \"fontSize\":18, \"fontWeight\":600, \"subtitleFontSize\":14\n",
    "    })\n",
    "    \n",
    "    return chrt"
   ]
  },
  {
   "cell_type": "code",
   "execution_count": 42,
   "metadata": {},
   "outputs": [
    {
     "ename": "NameError",
     "evalue": "name 'df_primary_analysis' is not defined",
     "output_type": "error",
     "traceback": [
      "\u001b[1;31m---------------------------------------------------------------------------\u001b[0m",
      "\u001b[1;31mNameError\u001b[0m                                 Traceback (most recent call last)",
      "\u001b[1;32m<ipython-input-42-aca7851e2a18>\u001b[0m in \u001b[0;36m<module>\u001b[1;34m\u001b[0m\n\u001b[1;32m----> 1\u001b[1;33m \u001b[0manalysis_log_chrt\u001b[0m \u001b[1;33m=\u001b[0m \u001b[0manalysis_altair\u001b[0m\u001b[1;33m(\u001b[0m\u001b[0mdf_primary_analysis\u001b[0m\u001b[1;33m,\u001b[0m \u001b[1;34m'logCount:Q'\u001b[0m\u001b[1;33m,\u001b[0m \u001b[1;34m'Log Count'\u001b[0m\u001b[1;33m)\u001b[0m\u001b[1;33m\u001b[0m\u001b[1;33m\u001b[0m\u001b[0m\n\u001b[0m\u001b[0;32m      2\u001b[0m \u001b[0manalysis_log_chrt\u001b[0m\u001b[1;33m\u001b[0m\u001b[1;33m\u001b[0m\u001b[0m\n\u001b[0;32m      3\u001b[0m \u001b[1;31m#pct_chrt = platform_altair(df_primary_analysis, 'platform_pct:Q', '% in Country')\u001b[0m\u001b[1;33m\u001b[0m\u001b[1;33m\u001b[0m\u001b[1;33m\u001b[0m\u001b[0m\n\u001b[0;32m      4\u001b[0m \u001b[1;31m#pct_chrt\u001b[0m\u001b[1;33m\u001b[0m\u001b[1;33m\u001b[0m\u001b[1;33m\u001b[0m\u001b[0m\n",
      "\u001b[1;31mNameError\u001b[0m: name 'df_primary_analysis' is not defined"
     ]
    }
   ],
   "source": [
    "analysis_log_chrt = analysis_altair(df_primary_analysis, 'logCount:Q', 'Log Count')\n",
    "analysis_log_chrt\n",
    "#pct_chrt = platform_altair(df_primary_analysis, 'platform_pct:Q', '% in Country')\n",
    "#pct_chrt"
   ]
  },
  {
   "cell_type": "code",
   "execution_count": 43,
   "metadata": {},
   "outputs": [
    {
     "ename": "NameError",
     "evalue": "name 'df_primary_analysis' is not defined",
     "output_type": "error",
     "traceback": [
      "\u001b[1;31m---------------------------------------------------------------------------\u001b[0m",
      "\u001b[1;31mNameError\u001b[0m                                 Traceback (most recent call last)",
      "\u001b[1;32m<ipython-input-43-739412548e44>\u001b[0m in \u001b[0;36m<module>\u001b[1;34m\u001b[0m\n\u001b[1;32m----> 1\u001b[1;33m df_primary_analysis = df_primary_analysis.merge(df_country, left_on='country', right_on='Country',\n\u001b[0m\u001b[0;32m      2\u001b[0m           suffixes=(None, '_total'))\n\u001b[0;32m      3\u001b[0m \u001b[0mdf_primary_analysis\u001b[0m\u001b[1;33m[\u001b[0m\u001b[1;34m'primary_analysis_pct'\u001b[0m\u001b[1;33m]\u001b[0m \u001b[1;33m=\u001b[0m \u001b[0mround\u001b[0m\u001b[1;33m(\u001b[0m\u001b[1;36m100\u001b[0m \u001b[1;33m*\u001b[0m \u001b[0mdf_primary_analysis\u001b[0m\u001b[1;33m[\u001b[0m\u001b[1;34m'Count'\u001b[0m\u001b[1;33m]\u001b[0m \u001b[1;33m/\u001b[0m \u001b[0mdf_primary_analysis\u001b[0m\u001b[1;33m[\u001b[0m\u001b[1;34m'Count_total'\u001b[0m\u001b[1;33m]\u001b[0m\u001b[1;33m,\u001b[0m\u001b[1;36m1\u001b[0m\u001b[1;33m)\u001b[0m\u001b[1;33m\u001b[0m\u001b[1;33m\u001b[0m\u001b[0m\n\u001b[0;32m      4\u001b[0m \u001b[0mdf_primary_analysis\u001b[0m \u001b[1;33m=\u001b[0m \u001b[0mdf_primary_analysis\u001b[0m\u001b[1;33m.\u001b[0m\u001b[0msort_values\u001b[0m\u001b[1;33m(\u001b[0m\u001b[0mby\u001b[0m\u001b[1;33m=\u001b[0m\u001b[1;33m[\u001b[0m\u001b[1;34m'primary_analysis_pct'\u001b[0m\u001b[1;33m]\u001b[0m\u001b[1;33m,\u001b[0m \u001b[0mascending\u001b[0m\u001b[1;33m=\u001b[0m\u001b[1;32mFalse\u001b[0m\u001b[1;33m)\u001b[0m\u001b[1;33m\u001b[0m\u001b[1;33m\u001b[0m\u001b[0m\n\u001b[0;32m      5\u001b[0m \u001b[0mdf_primary_analysis\u001b[0m\u001b[1;33m\u001b[0m\u001b[1;33m\u001b[0m\u001b[0m\n",
      "\u001b[1;31mNameError\u001b[0m: name 'df_primary_analysis' is not defined"
     ]
    }
   ],
   "source": [
    "df_primary_analysis = df_primary_analysis.merge(df_country, left_on='country', right_on='Country',\n",
    "          suffixes=(None, '_total'))\n",
    "df_primary_analysis['primary_analysis_pct'] = round(100 * df_primary_analysis['Count'] / df_primary_analysis['Count_total'],1)\n",
    "df_primary_analysis = df_primary_analysis.sort_values(by=['primary_analysis_pct'], ascending=False)\n",
    "df_primary_analysis"
   ]
  },
  {
   "cell_type": "code",
   "execution_count": 44,
   "metadata": {},
   "outputs": [
    {
     "ename": "NameError",
     "evalue": "name 'df_primary_analysis' is not defined",
     "output_type": "error",
     "traceback": [
      "\u001b[1;31m---------------------------------------------------------------------------\u001b[0m",
      "\u001b[1;31mNameError\u001b[0m                                 Traceback (most recent call last)",
      "\u001b[1;32m<ipython-input-44-197147477e95>\u001b[0m in \u001b[0;36m<module>\u001b[1;34m\u001b[0m\n\u001b[1;32m----> 1\u001b[1;33m \u001b[0manalysis_pct_chrt\u001b[0m \u001b[1;33m=\u001b[0m \u001b[0manalysis_altair\u001b[0m\u001b[1;33m(\u001b[0m\u001b[0mdf_primary_analysis\u001b[0m\u001b[1;33m,\u001b[0m \u001b[1;34m'primary_analysis_pct:Q'\u001b[0m\u001b[1;33m,\u001b[0m \u001b[1;34m'% by Country'\u001b[0m\u001b[1;33m)\u001b[0m\u001b[1;33m\u001b[0m\u001b[1;33m\u001b[0m\u001b[0m\n\u001b[0m\u001b[0;32m      2\u001b[0m \u001b[0manalysis_pct_chrt\u001b[0m\u001b[1;33m\u001b[0m\u001b[1;33m\u001b[0m\u001b[0m\n",
      "\u001b[1;31mNameError\u001b[0m: name 'df_primary_analysis' is not defined"
     ]
    }
   ],
   "source": [
    "analysis_pct_chrt = analysis_altair(df_primary_analysis, 'primary_analysis_pct:Q', '% by Country')\n",
    "analysis_pct_chrt"
   ]
  },
  {
   "cell_type": "code",
   "execution_count": 45,
   "metadata": {},
   "outputs": [
    {
     "ename": "NameError",
     "evalue": "name 'df_primary_analysis' is not defined",
     "output_type": "error",
     "traceback": [
      "\u001b[1;31m---------------------------------------------------------------------------\u001b[0m",
      "\u001b[1;31mNameError\u001b[0m                                 Traceback (most recent call last)",
      "\u001b[1;32m<ipython-input-45-bbcd730d2cdd>\u001b[0m in \u001b[0;36m<module>\u001b[1;34m\u001b[0m\n\u001b[1;32m----> 1\u001b[1;33m \u001b[0mdf_primary_analysis\u001b[0m\u001b[1;33m.\u001b[0m\u001b[0mloc\u001b[0m\u001b[1;33m[\u001b[0m\u001b[0mdf_primary_analysis\u001b[0m\u001b[1;33m[\u001b[0m\u001b[1;34m'Country'\u001b[0m\u001b[1;33m]\u001b[0m\u001b[1;33m==\u001b[0m\u001b[1;34m'Japan'\u001b[0m\u001b[1;33m]\u001b[0m\u001b[1;33m\u001b[0m\u001b[1;33m\u001b[0m\u001b[0m\n\u001b[0m",
      "\u001b[1;31mNameError\u001b[0m: name 'df_primary_analysis' is not defined"
     ]
    }
   ],
   "source": [
    "df_primary_analysis.loc[df_primary_analysis['Country']=='Japan']\n"
   ]
  },
  {
   "cell_type": "code",
   "execution_count": 46,
   "metadata": {},
   "outputs": [
    {
     "ename": "NameError",
     "evalue": "name 'df_primary_analysis' is not defined",
     "output_type": "error",
     "traceback": [
      "\u001b[1;31m---------------------------------------------------------------------------\u001b[0m",
      "\u001b[1;31mNameError\u001b[0m                                 Traceback (most recent call last)",
      "\u001b[1;32m<ipython-input-46-47f989c7b081>\u001b[0m in \u001b[0;36m<module>\u001b[1;34m\u001b[0m\n\u001b[1;32m----> 1\u001b[1;33m \u001b[0mdf_primary_analysis\u001b[0m\u001b[1;33m.\u001b[0m\u001b[0mloc\u001b[0m\u001b[1;33m[\u001b[0m\u001b[0mdf_primary_analysis\u001b[0m\u001b[1;33m[\u001b[0m\u001b[1;34m'Country'\u001b[0m\u001b[1;33m]\u001b[0m\u001b[1;33m==\u001b[0m\u001b[1;34m'Japan'\u001b[0m\u001b[1;33m]\u001b[0m\u001b[1;33m\u001b[0m\u001b[1;33m\u001b[0m\u001b[0m\n\u001b[0m\u001b[0;32m      2\u001b[0m \u001b[0mdf_primary_analysis_local\u001b[0m \u001b[1;33m=\u001b[0m \u001b[0mdf_primary_analysis\u001b[0m\u001b[1;33m.\u001b[0m\u001b[0mloc\u001b[0m\u001b[1;33m[\u001b[0m\u001b[0mdf_primary_analysis\u001b[0m\u001b[1;33m[\u001b[0m\u001b[1;34m'primary_analysis_abbr'\u001b[0m\u001b[1;33m]\u001b[0m\u001b[1;33m==\u001b[0m\u001b[1;34m'Local development environments'\u001b[0m\u001b[1;33m]\u001b[0m\u001b[1;33m\u001b[0m\u001b[1;33m\u001b[0m\u001b[0m\n",
      "\u001b[1;31mNameError\u001b[0m: name 'df_primary_analysis' is not defined"
     ]
    }
   ],
   "source": [
    "df_primary_analysis.loc[df_primary_analysis['Country']=='Japan']\n",
    "df_primary_analysis_local = df_primary_analysis.loc[df_primary_analysis['primary_analysis_abbr']=='Local development environments']\n"
   ]
  },
  {
   "cell_type": "code",
   "execution_count": 47,
   "metadata": {},
   "outputs": [
    {
     "ename": "NameError",
     "evalue": "name 'px' is not defined",
     "output_type": "error",
     "traceback": [
      "\u001b[1;31m---------------------------------------------------------------------------\u001b[0m",
      "\u001b[1;31mNameError\u001b[0m                                 Traceback (most recent call last)",
      "\u001b[1;32m<ipython-input-47-b647c14a8a4b>\u001b[0m in \u001b[0;36m<module>\u001b[1;34m\u001b[0m\n\u001b[1;32m----> 1\u001b[1;33m fig = px.choropleth(data_frame=df_primary_analysis_local,\n\u001b[0m\u001b[0;32m      2\u001b[0m                     \u001b[0mlocations\u001b[0m\u001b[1;33m=\u001b[0m\u001b[1;34m'country_code'\u001b[0m\u001b[1;33m,\u001b[0m\u001b[1;33m\u001b[0m\u001b[1;33m\u001b[0m\u001b[0m\n\u001b[0;32m      3\u001b[0m                     \u001b[0mcolor\u001b[0m\u001b[1;33m=\u001b[0m\u001b[1;34m'primary_analysis_pct'\u001b[0m\u001b[1;33m,\u001b[0m\u001b[1;33m\u001b[0m\u001b[1;33m\u001b[0m\u001b[0m\n\u001b[0;32m      4\u001b[0m                     \u001b[0mcolor_continuous_scale\u001b[0m\u001b[1;33m=\u001b[0m\u001b[1;34m\"agsunset\"\u001b[0m\u001b[1;33m,\u001b[0m\u001b[1;33m\u001b[0m\u001b[1;33m\u001b[0m\u001b[0m\n\u001b[0;32m      5\u001b[0m                     \u001b[0mrange_color\u001b[0m\u001b[1;33m=\u001b[0m\u001b[1;33m(\u001b[0m\u001b[1;36m0\u001b[0m\u001b[1;33m,\u001b[0m \u001b[1;36m50\u001b[0m\u001b[1;33m)\u001b[0m\u001b[1;33m,\u001b[0m\u001b[1;33m\u001b[0m\u001b[1;33m\u001b[0m\u001b[0m\n",
      "\u001b[1;31mNameError\u001b[0m: name 'px' is not defined"
     ]
    }
   ],
   "source": [
    "fig = px.choropleth(data_frame=df_primary_analysis_local,\n",
    "                    locations='country_code',\n",
    "                    color='primary_analysis_pct',\n",
    "                    color_continuous_scale=\"agsunset\",\n",
    "                    range_color=(0, 50),\n",
    "                    hover_name='Country', # column to add to hover information\n",
    "                    title='% Respondents primarily using Local Development Environment')\n",
    "fig.show()"
   ]
  },
  {
   "cell_type": "code",
   "execution_count": 48,
   "metadata": {},
   "outputs": [
    {
     "ename": "NameError",
     "evalue": "name 'df_survey_responses' is not defined",
     "output_type": "error",
     "traceback": [
      "\u001b[1;31m---------------------------------------------------------------------------\u001b[0m",
      "\u001b[1;31mNameError\u001b[0m                                 Traceback (most recent call last)",
      "\u001b[1;32m<ipython-input-48-cb4120d98b21>\u001b[0m in \u001b[0;36m<module>\u001b[1;34m\u001b[0m\n\u001b[1;32m----> 1\u001b[1;33m \u001b[0mcompany_size\u001b[0m \u001b[1;33m=\u001b[0m \u001b[0mdf_survey_responses\u001b[0m\u001b[1;33m.\u001b[0m\u001b[0mgroupby\u001b[0m\u001b[1;33m(\u001b[0m\u001b[1;33m[\u001b[0m\u001b[1;34m'Q20'\u001b[0m\u001b[1;33m,\u001b[0m \u001b[1;34m'Q3'\u001b[0m\u001b[1;33m]\u001b[0m\u001b[1;33m)\u001b[0m\u001b[1;33m\u001b[0m\u001b[1;33m\u001b[0m\u001b[0m\n\u001b[0m\u001b[0;32m      2\u001b[0m \u001b[0mdf_company_size\u001b[0m \u001b[1;33m=\u001b[0m \u001b[0mcompany_size\u001b[0m\u001b[1;33m.\u001b[0m\u001b[0magg\u001b[0m\u001b[1;33m(\u001b[0m\u001b[1;34m'count'\u001b[0m\u001b[1;33m)\u001b[0m\u001b[1;33m\u001b[0m\u001b[1;33m\u001b[0m\u001b[0m\n\u001b[0;32m      3\u001b[0m \u001b[0mdf_company_size\u001b[0m\u001b[1;33m.\u001b[0m\u001b[0mreset_index\u001b[0m\u001b[1;33m(\u001b[0m\u001b[0minplace\u001b[0m\u001b[1;33m=\u001b[0m\u001b[1;32mTrue\u001b[0m\u001b[1;33m)\u001b[0m\u001b[1;33m\u001b[0m\u001b[1;33m\u001b[0m\u001b[0m\n\u001b[0;32m      4\u001b[0m \u001b[0mdf_company_size\u001b[0m\u001b[1;33m=\u001b[0m\u001b[0mdf_company_size\u001b[0m\u001b[1;33m[\u001b[0m\u001b[1;33m[\u001b[0m\u001b[1;34m'Q20'\u001b[0m\u001b[1;33m,\u001b[0m \u001b[1;34m'Q3'\u001b[0m\u001b[1;33m,\u001b[0m \u001b[1;34m'Q2'\u001b[0m\u001b[1;33m]\u001b[0m\u001b[1;33m]\u001b[0m\u001b[1;33m\u001b[0m\u001b[1;33m\u001b[0m\u001b[0m\n\u001b[0;32m      5\u001b[0m \u001b[0mdf_company_size\u001b[0m\u001b[1;33m.\u001b[0m\u001b[0mcolumns\u001b[0m\u001b[1;33m=\u001b[0m\u001b[1;33m(\u001b[0m\u001b[1;34m'company_size'\u001b[0m\u001b[1;33m,\u001b[0m \u001b[1;34m'country'\u001b[0m\u001b[1;33m,\u001b[0m \u001b[1;34m'Count'\u001b[0m\u001b[1;33m)\u001b[0m\u001b[1;33m\u001b[0m\u001b[1;33m\u001b[0m\u001b[0m\n",
      "\u001b[1;31mNameError\u001b[0m: name 'df_survey_responses' is not defined"
     ]
    }
   ],
   "source": [
    "company_size = df_survey_responses.groupby(['Q20', 'Q3'])\n",
    "df_company_size = company_size.agg('count')\n",
    "df_company_size.reset_index(inplace=True)\n",
    "df_company_size=df_company_size[['Q20', 'Q3', 'Q2']]\n",
    "df_company_size.columns=('company_size', 'country', 'Count')\n",
    "df_company_size['rank'] = df_company_size['company_size']\n",
    "company_size_sort_map = {\"10,000 or more employees\": 4, '1000-9,999 employees': 3, \n",
    "                  \"250-999 employees\": 2,\n",
    "                  \"50-249 employees\": 1, \"0-49 employees\": 0\n",
    "                 }\n",
    "df_company_size['rank'] = df_company_size['rank'].replace(company_size_sort_map)\n",
    "df_company_size['company_size_rank'] = df_company_size['rank'].astype(str) + ' - ' + df_company_size['company_size']\n",
    "\n",
    "df_company_size"
   ]
  },
  {
   "cell_type": "code",
   "execution_count": 49,
   "metadata": {},
   "outputs": [
    {
     "ename": "NameError",
     "evalue": "name 'alt' is not defined",
     "output_type": "error",
     "traceback": [
      "\u001b[1;31m---------------------------------------------------------------------------\u001b[0m",
      "\u001b[1;31mNameError\u001b[0m                                 Traceback (most recent call last)",
      "\u001b[1;32m<ipython-input-49-4772cc525a2f>\u001b[0m in \u001b[0;36m<module>\u001b[1;34m\u001b[0m\n\u001b[1;32m----> 1\u001b[1;33m bars_company_size = alt.Chart(df_company_size).mark_bar(\n\u001b[0m\u001b[0;32m      2\u001b[0m         \u001b[0mcornerRadiusTopLeft\u001b[0m\u001b[1;33m=\u001b[0m\u001b[1;36m3\u001b[0m\u001b[1;33m,\u001b[0m\u001b[1;33m\u001b[0m\u001b[1;33m\u001b[0m\u001b[0m\n\u001b[0;32m      3\u001b[0m         \u001b[0mcornerRadiusTopRight\u001b[0m\u001b[1;33m=\u001b[0m\u001b[1;36m3\u001b[0m\u001b[1;33m\u001b[0m\u001b[1;33m\u001b[0m\u001b[0m\n\u001b[0;32m      4\u001b[0m     \u001b[1;33m)\u001b[0m\u001b[1;33m.\u001b[0m\u001b[0mencode\u001b[0m\u001b[1;33m(\u001b[0m\u001b[1;33m\u001b[0m\u001b[1;33m\u001b[0m\u001b[0m\n\u001b[0;32m      5\u001b[0m         \u001b[0my\u001b[0m\u001b[1;33m=\u001b[0m\u001b[0malt\u001b[0m\u001b[1;33m.\u001b[0m\u001b[0mY\u001b[0m\u001b[1;33m(\u001b[0m\u001b[1;34m'country:N'\u001b[0m\u001b[1;33m,\u001b[0m \u001b[0maxis\u001b[0m\u001b[1;33m=\u001b[0m\u001b[0malt\u001b[0m\u001b[1;33m.\u001b[0m\u001b[0mAxis\u001b[0m\u001b[1;33m(\u001b[0m\u001b[0mgrid\u001b[0m\u001b[1;33m=\u001b[0m\u001b[1;32mFalse\u001b[0m\u001b[1;33m,\u001b[0m \u001b[0mtitleAngle\u001b[0m\u001b[1;33m=\u001b[0m\u001b[1;36m0\u001b[0m\u001b[1;33m)\u001b[0m\u001b[1;33m)\u001b[0m\u001b[1;33m,\u001b[0m\u001b[1;33m\u001b[0m\u001b[1;33m\u001b[0m\u001b[0m\n",
      "\u001b[1;31mNameError\u001b[0m: name 'alt' is not defined"
     ]
    }
   ],
   "source": [
    "bars_company_size = alt.Chart(df_company_size).mark_bar(\n",
    "        cornerRadiusTopLeft=3,\n",
    "        cornerRadiusTopRight=3\n",
    "    ).encode(\n",
    "        y=alt.Y('country:N', axis=alt.Axis(grid=False, titleAngle=0)),\n",
    "        x=alt.X('Count:Q', stack=\"normalize\", title=\"Normalized Count\"),\n",
    "        color=alt.Color('company_size_rank:N', legend=alt.Legend(orient=\"bottom\"), title=\"Company Size\")\n",
    "    ).properties(width=500, height=500,title={\n",
    "    \"text\": [\"Company Size of Respondent's Employer\"],\n",
    "    \"subtitle\": [\"Broken Down proportionally by Country\"],\n",
    "    \"fontSize\":18, \"fontWeight\":600, \"subtitleFontSize\":14\n",
    "    })\n",
    "\n",
    "bars_company_size"
   ]
  },
  {
   "cell_type": "code",
   "execution_count": 50,
   "metadata": {},
   "outputs": [
    {
     "ename": "NameError",
     "evalue": "name 'df_survey_responses' is not defined",
     "output_type": "error",
     "traceback": [
      "\u001b[1;31m---------------------------------------------------------------------------\u001b[0m",
      "\u001b[1;31mNameError\u001b[0m                                 Traceback (most recent call last)",
      "\u001b[1;32m<ipython-input-50-39c1dd056ba3>\u001b[0m in \u001b[0;36m<module>\u001b[1;34m\u001b[0m\n\u001b[1;32m----> 1\u001b[1;33m \u001b[0mdata_scientists\u001b[0m \u001b[1;33m=\u001b[0m \u001b[0mdf_survey_responses\u001b[0m\u001b[1;33m.\u001b[0m\u001b[0mgroupby\u001b[0m\u001b[1;33m(\u001b[0m\u001b[1;33m[\u001b[0m\u001b[1;34m'Q21'\u001b[0m\u001b[1;33m,\u001b[0m \u001b[1;34m'Q3'\u001b[0m\u001b[1;33m]\u001b[0m\u001b[1;33m)\u001b[0m\u001b[1;33m\u001b[0m\u001b[1;33m\u001b[0m\u001b[0m\n\u001b[0m\u001b[0;32m      2\u001b[0m \u001b[0mdf_data_scientists\u001b[0m \u001b[1;33m=\u001b[0m \u001b[0mdata_scientists\u001b[0m\u001b[1;33m.\u001b[0m\u001b[0magg\u001b[0m\u001b[1;33m(\u001b[0m\u001b[1;34m'count'\u001b[0m\u001b[1;33m)\u001b[0m\u001b[1;33m\u001b[0m\u001b[1;33m\u001b[0m\u001b[0m\n\u001b[0;32m      3\u001b[0m \u001b[0mdf_data_scientists\u001b[0m\u001b[1;33m.\u001b[0m\u001b[0mreset_index\u001b[0m\u001b[1;33m(\u001b[0m\u001b[0minplace\u001b[0m\u001b[1;33m=\u001b[0m\u001b[1;32mTrue\u001b[0m\u001b[1;33m)\u001b[0m\u001b[1;33m\u001b[0m\u001b[1;33m\u001b[0m\u001b[0m\n\u001b[0;32m      4\u001b[0m \u001b[0mdf_data_scientists\u001b[0m\u001b[1;33m=\u001b[0m\u001b[0mdf_data_scientists\u001b[0m\u001b[1;33m[\u001b[0m\u001b[1;33m[\u001b[0m\u001b[1;34m'Q21'\u001b[0m\u001b[1;33m,\u001b[0m \u001b[1;34m'Q3'\u001b[0m\u001b[1;33m,\u001b[0m \u001b[1;34m'Q2'\u001b[0m\u001b[1;33m]\u001b[0m\u001b[1;33m]\u001b[0m\u001b[1;33m\u001b[0m\u001b[1;33m\u001b[0m\u001b[0m\n\u001b[0;32m      5\u001b[0m \u001b[0mdf_data_scientists\u001b[0m\u001b[1;33m.\u001b[0m\u001b[0mcolumns\u001b[0m\u001b[1;33m=\u001b[0m\u001b[1;33m(\u001b[0m\u001b[1;34m'data_scientists'\u001b[0m\u001b[1;33m,\u001b[0m \u001b[1;34m'country'\u001b[0m\u001b[1;33m,\u001b[0m \u001b[1;34m'Count'\u001b[0m\u001b[1;33m)\u001b[0m\u001b[1;33m\u001b[0m\u001b[1;33m\u001b[0m\u001b[0m\n",
      "\u001b[1;31mNameError\u001b[0m: name 'df_survey_responses' is not defined"
     ]
    }
   ],
   "source": [
    "data_scientists = df_survey_responses.groupby(['Q21', 'Q3'])\n",
    "df_data_scientists = data_scientists.agg('count')\n",
    "df_data_scientists.reset_index(inplace=True)\n",
    "df_data_scientists=df_data_scientists[['Q21', 'Q3', 'Q2']]\n",
    "df_data_scientists.columns=('data_scientists', 'country', 'Count')\n",
    "\n",
    "df_data_scientists['rank'] = df_data_scientists['data_scientists']\n",
    "data_scientists_sort_map = {\"20+\": 6, \"15-19\": 5, \"10-14\": 4, '5-9': 3, \n",
    "                  \"3-4\": 2,\n",
    "                  \"1-2\": 1, \"0\": 0\n",
    "                 }\n",
    "df_data_scientists['rank'] = df_data_scientists['rank'].replace(data_scientists_sort_map)\n",
    "df_data_scientists['data_scientists_rank'] = df_data_scientists['rank'].astype(str) + ' - ' + df_data_scientists['data_scientists']\n",
    "\n",
    "df_data_scientists"
   ]
  },
  {
   "cell_type": "code",
   "execution_count": 51,
   "metadata": {},
   "outputs": [
    {
     "ename": "NameError",
     "evalue": "name 'alt' is not defined",
     "output_type": "error",
     "traceback": [
      "\u001b[1;31m---------------------------------------------------------------------------\u001b[0m",
      "\u001b[1;31mNameError\u001b[0m                                 Traceback (most recent call last)",
      "\u001b[1;32m<ipython-input-51-ebcf53bb5e88>\u001b[0m in \u001b[0;36m<module>\u001b[1;34m\u001b[0m\n\u001b[1;32m----> 1\u001b[1;33m bubble_plot_company_size = alt.Chart(df_data_scientists).mark_circle(\n\u001b[0m\u001b[0;32m      2\u001b[0m         \u001b[0mcornerRadiusTopLeft\u001b[0m\u001b[1;33m=\u001b[0m\u001b[1;36m3\u001b[0m\u001b[1;33m,\u001b[0m\u001b[1;33m\u001b[0m\u001b[1;33m\u001b[0m\u001b[0m\n\u001b[0;32m      3\u001b[0m         \u001b[0mcornerRadiusTopRight\u001b[0m\u001b[1;33m=\u001b[0m\u001b[1;36m3\u001b[0m\u001b[1;33m\u001b[0m\u001b[1;33m\u001b[0m\u001b[0m\n\u001b[0;32m      4\u001b[0m     \u001b[1;33m)\u001b[0m\u001b[1;33m.\u001b[0m\u001b[0mencode\u001b[0m\u001b[1;33m(\u001b[0m\u001b[1;33m\u001b[0m\u001b[1;33m\u001b[0m\u001b[0m\n\u001b[0;32m      5\u001b[0m         \u001b[0my\u001b[0m\u001b[1;33m=\u001b[0m\u001b[0malt\u001b[0m\u001b[1;33m.\u001b[0m\u001b[0mY\u001b[0m\u001b[1;33m(\u001b[0m\u001b[1;34m'country:N'\u001b[0m\u001b[1;33m,\u001b[0m \u001b[0maxis\u001b[0m\u001b[1;33m=\u001b[0m\u001b[0malt\u001b[0m\u001b[1;33m.\u001b[0m\u001b[0mAxis\u001b[0m\u001b[1;33m(\u001b[0m\u001b[0mgrid\u001b[0m\u001b[1;33m=\u001b[0m\u001b[1;32mFalse\u001b[0m\u001b[1;33m,\u001b[0m \u001b[0mtitleAngle\u001b[0m\u001b[1;33m=\u001b[0m\u001b[1;36m0\u001b[0m\u001b[1;33m)\u001b[0m\u001b[1;33m)\u001b[0m\u001b[1;33m,\u001b[0m\u001b[1;33m\u001b[0m\u001b[1;33m\u001b[0m\u001b[0m\n",
      "\u001b[1;31mNameError\u001b[0m: name 'alt' is not defined"
     ]
    }
   ],
   "source": [
    "bubble_plot_company_size = alt.Chart(df_data_scientists).mark_circle(\n",
    "        cornerRadiusTopLeft=3,\n",
    "        cornerRadiusTopRight=3\n",
    "    ).encode(\n",
    "        y=alt.Y('country:N', axis=alt.Axis(grid=False, titleAngle=0)),\n",
    "        x=alt.X('Count:Q', title=\"Count\"),\n",
    "        color=alt.Color('data_scientists_rank:N', legend=alt.Legend(orient=\"bottom\"), title=\"\"),\n",
    "        size=alt.Size('Count:Q'),    \n",
    "    ).properties(width=500, height=500,title={\n",
    "    \"text\": [\"Number of people responsible for Data Science workloads at place of Business\"],\n",
    "    \"subtitle\": [\"Broken Down proportionally by Country\"],\n",
    "    \"fontSize\":18, \"fontWeight\":600, \"subtitleFontSize\":14\n",
    "    })\n",
    "\n",
    "bubble_plot_company_size"
   ]
  },
  {
   "cell_type": "code",
   "execution_count": 52,
   "metadata": {},
   "outputs": [
    {
     "ename": "NameError",
     "evalue": "name 'df_survey_responses' is not defined",
     "output_type": "error",
     "traceback": [
      "\u001b[1;31m---------------------------------------------------------------------------\u001b[0m",
      "\u001b[1;31mNameError\u001b[0m                                 Traceback (most recent call last)",
      "\u001b[1;32m<ipython-input-52-17ab0bf51764>\u001b[0m in \u001b[0;36m<module>\u001b[1;34m\u001b[0m\n\u001b[1;32m----> 1\u001b[1;33m \u001b[0mml\u001b[0m \u001b[1;33m=\u001b[0m \u001b[0mdf_survey_responses\u001b[0m\u001b[1;33m.\u001b[0m\u001b[0mgroupby\u001b[0m\u001b[1;33m(\u001b[0m\u001b[1;33m[\u001b[0m\u001b[1;34m'Q22'\u001b[0m\u001b[1;33m,\u001b[0m \u001b[1;34m'Q3'\u001b[0m\u001b[1;33m]\u001b[0m\u001b[1;33m)\u001b[0m\u001b[1;33m\u001b[0m\u001b[1;33m\u001b[0m\u001b[0m\n\u001b[0m\u001b[0;32m      2\u001b[0m \u001b[0mdf_ml\u001b[0m \u001b[1;33m=\u001b[0m \u001b[0mml\u001b[0m\u001b[1;33m.\u001b[0m\u001b[0magg\u001b[0m\u001b[1;33m(\u001b[0m\u001b[1;34m'count'\u001b[0m\u001b[1;33m)\u001b[0m\u001b[1;33m\u001b[0m\u001b[1;33m\u001b[0m\u001b[0m\n\u001b[0;32m      3\u001b[0m \u001b[0mdf_ml\u001b[0m\u001b[1;33m.\u001b[0m\u001b[0mreset_index\u001b[0m\u001b[1;33m(\u001b[0m\u001b[0minplace\u001b[0m\u001b[1;33m=\u001b[0m\u001b[1;32mTrue\u001b[0m\u001b[1;33m)\u001b[0m\u001b[1;33m\u001b[0m\u001b[1;33m\u001b[0m\u001b[0m\n\u001b[0;32m      4\u001b[0m \u001b[0mdf_ml\u001b[0m\u001b[1;33m=\u001b[0m\u001b[0mdf_ml\u001b[0m\u001b[1;33m[\u001b[0m\u001b[1;33m[\u001b[0m\u001b[1;34m'Q22'\u001b[0m\u001b[1;33m,\u001b[0m \u001b[1;34m'Q3'\u001b[0m\u001b[1;33m,\u001b[0m \u001b[1;34m'Q2'\u001b[0m\u001b[1;33m]\u001b[0m\u001b[1;33m]\u001b[0m\u001b[1;33m\u001b[0m\u001b[1;33m\u001b[0m\u001b[0m\n\u001b[0;32m      5\u001b[0m \u001b[0mdf_ml\u001b[0m\u001b[1;33m.\u001b[0m\u001b[0mcolumns\u001b[0m\u001b[1;33m=\u001b[0m\u001b[1;33m(\u001b[0m\u001b[1;34m'ml'\u001b[0m\u001b[1;33m,\u001b[0m \u001b[1;34m'country'\u001b[0m\u001b[1;33m,\u001b[0m \u001b[1;34m'Count'\u001b[0m\u001b[1;33m)\u001b[0m\u001b[1;33m\u001b[0m\u001b[1;33m\u001b[0m\u001b[0m\n",
      "\u001b[1;31mNameError\u001b[0m: name 'df_survey_responses' is not defined"
     ]
    }
   ],
   "source": [
    "ml = df_survey_responses.groupby(['Q22', 'Q3'])\n",
    "df_ml = ml.agg('count')\n",
    "df_ml.reset_index(inplace=True)\n",
    "df_ml=df_ml[['Q22', 'Q3', 'Q2']]\n",
    "df_ml.columns=('ml', 'country', 'Count')\n",
    "\n",
    "df_ml['ml'].unique()"
   ]
  },
  {
   "cell_type": "code",
   "execution_count": 53,
   "metadata": {},
   "outputs": [
    {
     "ename": "NameError",
     "evalue": "name 'df_ml' is not defined",
     "output_type": "error",
     "traceback": [
      "\u001b[1;31m---------------------------------------------------------------------------\u001b[0m",
      "\u001b[1;31mNameError\u001b[0m                                 Traceback (most recent call last)",
      "\u001b[1;32m<ipython-input-53-88fce82ff73d>\u001b[0m in \u001b[0;36m<module>\u001b[1;34m\u001b[0m\n\u001b[1;32m----> 1\u001b[1;33m df_ml_prod = df_ml.loc[df_ml['ml'].isin(['We have well established ML methods (i.e., models in production for more than 2 years)',\n\u001b[0m\u001b[0;32m      2\u001b[0m        'We recently started using ML methods (i.e., models in production for less than 2 years)'])]\n\u001b[0;32m      3\u001b[0m \u001b[0mdf_ml_prod\u001b[0m \u001b[1;33m=\u001b[0m \u001b[0mdf_ml_prod\u001b[0m\u001b[1;33m.\u001b[0m\u001b[0mdrop\u001b[0m\u001b[1;33m(\u001b[0m\u001b[0mcolumns\u001b[0m\u001b[1;33m=\u001b[0m\u001b[1;33m[\u001b[0m\u001b[1;34m'ml'\u001b[0m\u001b[1;33m]\u001b[0m\u001b[1;33m)\u001b[0m\u001b[1;33m\u001b[0m\u001b[1;33m\u001b[0m\u001b[0m\n\u001b[0;32m      4\u001b[0m \u001b[1;33m\u001b[0m\u001b[0m\n\u001b[0;32m      5\u001b[0m \u001b[1;31m#get prod totals\u001b[0m\u001b[1;33m\u001b[0m\u001b[1;33m\u001b[0m\u001b[1;33m\u001b[0m\u001b[0m\n",
      "\u001b[1;31mNameError\u001b[0m: name 'df_ml' is not defined"
     ]
    }
   ],
   "source": [
    "df_ml_prod = df_ml.loc[df_ml['ml'].isin(['We have well established ML methods (i.e., models in production for more than 2 years)',\n",
    "       'We recently started using ML methods (i.e., models in production for less than 2 years)'])]\n",
    "df_ml_prod = df_ml_prod.drop(columns=['ml'])\n",
    "\n",
    "#get prod totals\n",
    "ml_prod = df_ml_prod.groupby(['country'])\n",
    "df_ml_prod = ml_prod.agg('sum').reset_index()\n",
    "\n",
    "#get overall totals\n",
    "ml_total = df_ml.groupby(['country'])\n",
    "df_ml_total = ml_total.agg('sum').reset_index()\n",
    "\n",
    "\n",
    "df_ml_prod = df_ml_prod.merge(df_ml_total[['country', 'Count']], left_on='country', right_on='country',\n",
    "          suffixes=('_prod', '_total'))\n",
    "\n",
    "df_ml_prod['country_code'] = df_ml_prod['country']\n",
    "df_ml_prod.replace({\"country_code\": country_codes}, inplace=True)\n",
    "\n",
    "df_ml_prod['ml_in_prod_pct'] = round(100 * df_ml_prod['Count_prod'] / df_ml_prod['Count_total'],1)\n",
    "df_ml_prod\n",
    "\n",
    "df_ml_prod_sorted = df_ml_prod.sort_values(by=['ml_in_prod_pct'], ascending=False)\n",
    "df_ml_prod_sorted"
   ]
  },
  {
   "cell_type": "code",
   "execution_count": 54,
   "metadata": {},
   "outputs": [
    {
     "ename": "NameError",
     "evalue": "name 'df_ml_prod' is not defined",
     "output_type": "error",
     "traceback": [
      "\u001b[1;31m---------------------------------------------------------------------------\u001b[0m",
      "\u001b[1;31mNameError\u001b[0m                                 Traceback (most recent call last)",
      "\u001b[1;32m<ipython-input-54-481e2a04b5e9>\u001b[0m in \u001b[0;36m<module>\u001b[1;34m\u001b[0m\n\u001b[0;32m     14\u001b[0m     \u001b[1;32mreturn\u001b[0m \u001b[0mml_prod_chart\u001b[0m\u001b[1;33m\u001b[0m\u001b[1;33m\u001b[0m\u001b[0m\n\u001b[0;32m     15\u001b[0m \u001b[1;33m\u001b[0m\u001b[0m\n\u001b[1;32m---> 16\u001b[1;33m \u001b[0mbar_years_ml\u001b[0m \u001b[1;33m=\u001b[0m \u001b[0mml_prod\u001b[0m\u001b[1;33m(\u001b[0m\u001b[0mdf_ml_prod\u001b[0m\u001b[1;33m,\u001b[0m \u001b[1;34m\"% whose place of Business Uses\"\u001b[0m\u001b[1;33m)\u001b[0m\u001b[1;33m\u001b[0m\u001b[1;33m\u001b[0m\u001b[0m\n\u001b[0m\u001b[0;32m     17\u001b[0m \u001b[0mbar_years_ml_sorted\u001b[0m \u001b[1;33m=\u001b[0m \u001b[0mml_prod\u001b[0m\u001b[1;33m(\u001b[0m\u001b[0mdf_ml_prod_sorted\u001b[0m\u001b[1;33m,\u001b[0m \u001b[1;34m\"% whose place of Business Uses\"\u001b[0m\u001b[1;33m,\u001b[0m \u001b[1;34m\"-x\"\u001b[0m\u001b[1;33m)\u001b[0m\u001b[1;33m\u001b[0m\u001b[1;33m\u001b[0m\u001b[0m\n\u001b[0;32m     18\u001b[0m \u001b[1;33m\u001b[0m\u001b[0m\n",
      "\u001b[1;31mNameError\u001b[0m: name 'df_ml_prod' is not defined"
     ]
    }
   ],
   "source": [
    "def ml_prod(df, subtitle, sort=None):\n",
    "    ml_prod_chart = alt.Chart(df_ml_prod).mark_bar(\n",
    "            cornerRadiusTopLeft=3,\n",
    "            cornerRadiusTopRight=3\n",
    "        ).encode(\n",
    "            y=alt.Y('country:N', axis=alt.Axis(grid=False, titleAngle=0), sort=sort),\n",
    "            x=alt.X('ml_in_prod_pct:Q', title=\"%\"),\n",
    "        ).properties(width=200, height=500, title={\n",
    "        \"text\": [\"ML models in Production\"],\n",
    "        \"subtitle\": subtitle,        \n",
    "        \"fontSize\":16, \"fontWeight\":600, \"subtitleFontSize\":12\n",
    "        })\n",
    "    \n",
    "    return ml_prod_chart\n",
    "\n",
    "bar_years_ml = ml_prod(df_ml_prod, \"% whose place of Business Uses\")\n",
    "bar_years_ml_sorted = ml_prod(df_ml_prod_sorted, \"% whose place of Business Uses\", \"-x\")\n",
    "\n",
    "bar_years_ml | bar_years_ml_sorted"
   ]
  },
  {
   "cell_type": "code",
   "execution_count": 56,
   "metadata": {},
   "outputs": [
    {
     "ename": "IndentationError",
     "evalue": "unindent does not match any outer indentation level (<tokenize>, line 246)",
     "output_type": "error",
     "traceback": [
      "\u001b[1;36m  File \u001b[1;32m\"<tokenize>\"\u001b[1;36m, line \u001b[1;32m246\u001b[0m\n\u001b[1;33m    }\u001b[0m\n\u001b[1;37m    ^\u001b[0m\n\u001b[1;31mIndentationError\u001b[0m\u001b[1;31m:\u001b[0m unindent does not match any outer indentation level\n"
     ]
    }
   ],
   "source": []
  },
  {
   "cell_type": "code",
   "execution_count": 57,
   "metadata": {},
   "outputs": [
    {
     "ename": "NameError",
     "evalue": "name 'px' is not defined",
     "output_type": "error",
     "traceback": [
      "\u001b[1;31m---------------------------------------------------------------------------\u001b[0m",
      "\u001b[1;31mNameError\u001b[0m                                 Traceback (most recent call last)",
      "\u001b[1;32m<ipython-input-57-f3cef03cbe1e>\u001b[0m in \u001b[0;36m<module>\u001b[1;34m\u001b[0m\n\u001b[1;32m----> 1\u001b[1;33m fig = px.choropleth(data_frame=df_ml_prod,\n\u001b[0m\u001b[0;32m      2\u001b[0m                     \u001b[0mlocations\u001b[0m\u001b[1;33m=\u001b[0m\u001b[1;34m'country_code'\u001b[0m\u001b[1;33m,\u001b[0m\u001b[1;33m\u001b[0m\u001b[1;33m\u001b[0m\u001b[0m\n\u001b[0;32m      3\u001b[0m                     \u001b[0mcolor\u001b[0m\u001b[1;33m=\u001b[0m\u001b[1;34m'ml_in_prod_pct'\u001b[0m\u001b[1;33m,\u001b[0m\u001b[1;33m\u001b[0m\u001b[1;33m\u001b[0m\u001b[0m\n\u001b[0;32m      4\u001b[0m                     \u001b[0mcolor_continuous_scale\u001b[0m\u001b[1;33m=\u001b[0m\u001b[1;34m\"turbo\"\u001b[0m\u001b[1;33m,\u001b[0m\u001b[1;33m\u001b[0m\u001b[1;33m\u001b[0m\u001b[0m\n\u001b[0;32m      5\u001b[0m                     \u001b[0mrange_color\u001b[0m\u001b[1;33m=\u001b[0m\u001b[1;33m(\u001b[0m\u001b[1;36m10\u001b[0m\u001b[1;33m,\u001b[0m \u001b[1;36m55\u001b[0m\u001b[1;33m)\u001b[0m\u001b[1;33m,\u001b[0m\u001b[1;33m\u001b[0m\u001b[1;33m\u001b[0m\u001b[0m\n",
      "\u001b[1;31mNameError\u001b[0m: name 'px' is not defined"
     ]
    }
   ],
   "source": [
    "fig = px.choropleth(data_frame=df_ml_prod,\n",
    "                    locations='country_code',\n",
    "                    color='ml_in_prod_pct',\n",
    "                    color_continuous_scale=\"turbo\",\n",
    "                    range_color=(10, 55),\n",
    "                    hover_name='country', # column to add to hover information\n",
    "                    title='% Respondents whose place of business uses ML in Production')\n",
    "fig.show()"
   ]
  },
  {
   "cell_type": "code",
   "execution_count": 58,
   "metadata": {},
   "outputs": [
    {
     "ename": "NameError",
     "evalue": "name 'df_survey_responses' is not defined",
     "output_type": "error",
     "traceback": [
      "\u001b[1;31m---------------------------------------------------------------------------\u001b[0m",
      "\u001b[1;31mNameError\u001b[0m                                 Traceback (most recent call last)",
      "\u001b[1;32m<ipython-input-58-772b8648c69c>\u001b[0m in \u001b[0;36m<module>\u001b[1;34m\u001b[0m\n\u001b[1;32m----> 1\u001b[1;33m \u001b[0mpay\u001b[0m \u001b[1;33m=\u001b[0m \u001b[0mdf_survey_responses\u001b[0m\u001b[1;33m.\u001b[0m\u001b[0mgroupby\u001b[0m\u001b[1;33m(\u001b[0m\u001b[1;33m[\u001b[0m\u001b[1;34m'Q24'\u001b[0m\u001b[1;33m,\u001b[0m \u001b[1;34m'Q3'\u001b[0m\u001b[1;33m]\u001b[0m\u001b[1;33m)\u001b[0m\u001b[1;33m\u001b[0m\u001b[1;33m\u001b[0m\u001b[0m\n\u001b[0m\u001b[0;32m      2\u001b[0m \u001b[0mdf_pay\u001b[0m \u001b[1;33m=\u001b[0m \u001b[0mpay\u001b[0m\u001b[1;33m.\u001b[0m\u001b[0magg\u001b[0m\u001b[1;33m(\u001b[0m\u001b[1;34m'count'\u001b[0m\u001b[1;33m)\u001b[0m\u001b[1;33m\u001b[0m\u001b[1;33m\u001b[0m\u001b[0m\n\u001b[0;32m      3\u001b[0m \u001b[0mdf_pay\u001b[0m\u001b[1;33m.\u001b[0m\u001b[0mreset_index\u001b[0m\u001b[1;33m(\u001b[0m\u001b[0minplace\u001b[0m\u001b[1;33m=\u001b[0m\u001b[1;32mTrue\u001b[0m\u001b[1;33m)\u001b[0m\u001b[1;33m\u001b[0m\u001b[1;33m\u001b[0m\u001b[0m\n\u001b[0;32m      4\u001b[0m \u001b[0mdf_pay\u001b[0m\u001b[1;33m=\u001b[0m\u001b[0mdf_pay\u001b[0m\u001b[1;33m[\u001b[0m\u001b[1;33m[\u001b[0m\u001b[1;34m'Q24'\u001b[0m\u001b[1;33m,\u001b[0m \u001b[1;34m'Q3'\u001b[0m\u001b[1;33m,\u001b[0m \u001b[1;34m'Q2'\u001b[0m\u001b[1;33m]\u001b[0m\u001b[1;33m]\u001b[0m\u001b[1;33m\u001b[0m\u001b[1;33m\u001b[0m\u001b[0m\n\u001b[0;32m      5\u001b[0m \u001b[0mdf_pay\u001b[0m\u001b[1;33m.\u001b[0m\u001b[0mcolumns\u001b[0m\u001b[1;33m=\u001b[0m\u001b[1;33m(\u001b[0m\u001b[1;34m'pay'\u001b[0m\u001b[1;33m,\u001b[0m \u001b[1;34m'country'\u001b[0m\u001b[1;33m,\u001b[0m \u001b[1;34m'Count'\u001b[0m\u001b[1;33m)\u001b[0m\u001b[1;33m\u001b[0m\u001b[1;33m\u001b[0m\u001b[0m\n",
      "\u001b[1;31mNameError\u001b[0m: name 'df_survey_responses' is not defined"
     ]
    }
   ],
   "source": [
    "pay = df_survey_responses.groupby(['Q24', 'Q3'])\n",
    "df_pay = pay.agg('count')\n",
    "df_pay.reset_index(inplace=True)\n",
    "df_pay=df_pay[['Q24', 'Q3', 'Q2']]\n",
    "df_pay.columns=('pay', 'country', 'Count')\n",
    "\n",
    "df_pay['pay'].unique()"
   ]
  },
  {
   "cell_type": "code",
   "execution_count": 59,
   "metadata": {},
   "outputs": [
    {
     "ename": "NameError",
     "evalue": "name 'df_pay' is not defined",
     "output_type": "error",
     "traceback": [
      "\u001b[1;31m---------------------------------------------------------------------------\u001b[0m",
      "\u001b[1;31mNameError\u001b[0m                                 Traceback (most recent call last)",
      "\u001b[1;32m<ipython-input-59-a6de9b31614a>\u001b[0m in \u001b[0;36m<module>\u001b[1;34m\u001b[0m\n\u001b[1;32m----> 1\u001b[1;33m \u001b[0mdf_pay\u001b[0m\u001b[1;33m[\u001b[0m\u001b[1;34m'rank'\u001b[0m\u001b[1;33m]\u001b[0m \u001b[1;33m=\u001b[0m \u001b[0mdf_pay\u001b[0m\u001b[1;33m[\u001b[0m\u001b[1;34m'pay'\u001b[0m\u001b[1;33m]\u001b[0m\u001b[1;33m\u001b[0m\u001b[1;33m\u001b[0m\u001b[0m\n\u001b[0m\u001b[0;32m      2\u001b[0m pay_sort_map = {\"> $500,000\": '24', \"300,000-500,000\": '23', \"250,000-299,999\": '22', '200,000-249,999': '21',\n\u001b[0;32m      3\u001b[0m                 \u001b[1;34m\"150,000-199,999\"\u001b[0m\u001b[1;33m:\u001b[0m \u001b[1;34m'20'\u001b[0m\u001b[1;33m,\u001b[0m \u001b[1;34m\"125,000-149,999\"\u001b[0m\u001b[1;33m:\u001b[0m \u001b[1;34m'19'\u001b[0m\u001b[1;33m,\u001b[0m \u001b[1;34m\"100,000-124,999\"\u001b[0m\u001b[1;33m:\u001b[0m \u001b[1;34m'18'\u001b[0m\u001b[1;33m,\u001b[0m \u001b[1;34m'90,000-99,999'\u001b[0m\u001b[1;33m:\u001b[0m \u001b[1;34m'17'\u001b[0m\u001b[1;33m,\u001b[0m\u001b[1;33m\u001b[0m\u001b[1;33m\u001b[0m\u001b[0m\n\u001b[0;32m      4\u001b[0m                 \u001b[1;34m\"80,000-89,999\"\u001b[0m\u001b[1;33m:\u001b[0m \u001b[1;34m'16'\u001b[0m\u001b[1;33m,\u001b[0m \u001b[1;34m\"70,000-79,999\"\u001b[0m\u001b[1;33m:\u001b[0m \u001b[1;34m'15'\u001b[0m\u001b[1;33m,\u001b[0m \u001b[1;34m\"60,000-69,999\"\u001b[0m\u001b[1;33m:\u001b[0m \u001b[1;34m'14'\u001b[0m\u001b[1;33m,\u001b[0m \u001b[1;34m'50,000-59,999'\u001b[0m\u001b[1;33m:\u001b[0m \u001b[1;34m'13'\u001b[0m\u001b[1;33m,\u001b[0m\u001b[1;33m\u001b[0m\u001b[1;33m\u001b[0m\u001b[0m\n\u001b[0;32m      5\u001b[0m                 \u001b[1;34m\"40,000-49,999\"\u001b[0m\u001b[1;33m:\u001b[0m \u001b[1;34m'12'\u001b[0m\u001b[1;33m,\u001b[0m \u001b[1;34m\"30,000-39,999\"\u001b[0m\u001b[1;33m:\u001b[0m \u001b[1;34m'11'\u001b[0m\u001b[1;33m,\u001b[0m \u001b[1;34m\"25,000-29,999\"\u001b[0m\u001b[1;33m:\u001b[0m \u001b[1;34m'10'\u001b[0m\u001b[1;33m,\u001b[0m \u001b[1;34m'20,000-24,999'\u001b[0m\u001b[1;33m:\u001b[0m \u001b[1;34m'09'\u001b[0m\u001b[1;33m,\u001b[0m\u001b[1;33m\u001b[0m\u001b[1;33m\u001b[0m\u001b[0m\n",
      "\u001b[1;31mNameError\u001b[0m: name 'df_pay' is not defined"
     ]
    }
   ],
   "source": [
    "df_pay['rank'] = df_pay['pay']\n",
    "pay_sort_map = {\"> $500,000\": '24', \"300,000-500,000\": '23', \"250,000-299,999\": '22', '200,000-249,999': '21',\n",
    "                \"150,000-199,999\": '20', \"125,000-149,999\": '19', \"100,000-124,999\": '18', '90,000-99,999': '17',\n",
    "                \"80,000-89,999\": '16', \"70,000-79,999\": '15', \"60,000-69,999\": '14', '50,000-59,999': '13',\n",
    "                \"40,000-49,999\": '12', \"30,000-39,999\": '11', \"25,000-29,999\": '10', '20,000-24,999': '09',\n",
    "                \"15,000-19,999\": '08', \"10,000-14,999\": '07', \"7,500-9,999\": '06', '5,000-7,499': '05',\n",
    "                \"4,000-4,999\": '04', \"3,000-3,999\": '03', \"2,000-2,999\": '02', '1,000-1,999': '01', \n",
    "                '$0-999': '00'\n",
    "                 }\n",
    "df_pay['rank'] = df_pay['rank'].replace(pay_sort_map)\n",
    "df_pay['pay_rank'] = df_pay['rank'].astype(str) + ' - ' + df_pay['pay']\n",
    "\n",
    "df_pay\n",
    "\n",
    "df_pay = df_pay.merge(df_country[['Country', 'Count']], left_on='country', right_on='Country',\n",
    "          suffixes=('_pay_category', '_total'))\n",
    "df_pay['pay_pct'] = round(100 * df_pay['Count_pay_category'] / df_pay['Count_total'],1)\n",
    "df_pay"
   ]
  },
  {
   "cell_type": "code",
   "execution_count": 60,
   "metadata": {},
   "outputs": [
    {
     "ename": "NameError",
     "evalue": "name 'alt' is not defined",
     "output_type": "error",
     "traceback": [
      "\u001b[1;31m---------------------------------------------------------------------------\u001b[0m",
      "\u001b[1;31mNameError\u001b[0m                                 Traceback (most recent call last)",
      "\u001b[1;32m<ipython-input-60-618ca17c6721>\u001b[0m in \u001b[0;36m<module>\u001b[1;34m\u001b[0m\n\u001b[1;32m----> 1\u001b[1;33m bubble_plot_pay = alt.Chart(df_pay).mark_circle(\n\u001b[0m\u001b[0;32m      2\u001b[0m         \u001b[0mcornerRadiusTopLeft\u001b[0m\u001b[1;33m=\u001b[0m\u001b[1;36m3\u001b[0m\u001b[1;33m,\u001b[0m\u001b[1;33m\u001b[0m\u001b[1;33m\u001b[0m\u001b[0m\n\u001b[0;32m      3\u001b[0m         \u001b[0mcornerRadiusTopRight\u001b[0m\u001b[1;33m=\u001b[0m\u001b[1;36m3\u001b[0m\u001b[1;33m\u001b[0m\u001b[1;33m\u001b[0m\u001b[0m\n\u001b[0;32m      4\u001b[0m     \u001b[1;33m)\u001b[0m\u001b[1;33m.\u001b[0m\u001b[0mencode\u001b[0m\u001b[1;33m(\u001b[0m\u001b[1;33m\u001b[0m\u001b[1;33m\u001b[0m\u001b[0m\n\u001b[0;32m      5\u001b[0m         \u001b[0my\u001b[0m\u001b[1;33m=\u001b[0m\u001b[0malt\u001b[0m\u001b[1;33m.\u001b[0m\u001b[0mY\u001b[0m\u001b[1;33m(\u001b[0m\u001b[1;34m'country:N'\u001b[0m\u001b[1;33m,\u001b[0m \u001b[0maxis\u001b[0m\u001b[1;33m=\u001b[0m\u001b[0malt\u001b[0m\u001b[1;33m.\u001b[0m\u001b[0mAxis\u001b[0m\u001b[1;33m(\u001b[0m\u001b[0mgrid\u001b[0m\u001b[1;33m=\u001b[0m\u001b[1;32mFalse\u001b[0m\u001b[1;33m,\u001b[0m \u001b[0mtitleAngle\u001b[0m\u001b[1;33m=\u001b[0m\u001b[1;36m0\u001b[0m\u001b[1;33m)\u001b[0m\u001b[1;33m)\u001b[0m\u001b[1;33m,\u001b[0m\u001b[1;33m\u001b[0m\u001b[1;33m\u001b[0m\u001b[0m\n",
      "\u001b[1;31mNameError\u001b[0m: name 'alt' is not defined"
     ]
    }
   ],
   "source": [
    "bubble_plot_pay = alt.Chart(df_pay).mark_circle(\n",
    "        cornerRadiusTopLeft=3,\n",
    "        cornerRadiusTopRight=3\n",
    "    ).encode(\n",
    "        y=alt.Y('country:N', axis=alt.Axis(grid=False, titleAngle=0)),\n",
    "        x=alt.X('pay_rank:O', title=\"Pay\", axis=alt.Axis(grid=False, labelAngle=270)),\n",
    "        color=alt.Color('pay_rank:O', legend=None, title=\"\"),\n",
    "        size=alt.Size('pay_pct:Q'),    \n",
    "    ).properties(width=570, height=500,title={\n",
    "    \"text\": [\"Salaries\"],\n",
    "    \"subtitle\": [\"Broken Down proportionally by Country\"],\n",
    "    \"fontSize\":18, \"fontWeight\":600, \"subtitleFontSize\":14\n",
    "    })\n",
    "\n",
    "bubble_plot_pay"
   ]
  },
  {
   "cell_type": "code",
   "execution_count": null,
   "metadata": {},
   "outputs": [],
   "source": [
    "##conclusion\n"
   ]
  }
 ],
 "metadata": {
  "kernelspec": {
   "display_name": "Python 3",
   "language": "python",
   "name": "python3"
  },
  "language_info": {
   "codemirror_mode": {
    "name": "ipython",
    "version": 3
   },
   "file_extension": ".py",
   "mimetype": "text/x-python",
   "name": "python",
   "nbconvert_exporter": "python",
   "pygments_lexer": "ipython3",
   "version": "3.7.6"
  }
 },
 "nbformat": 4,
 "nbformat_minor": 4
}
