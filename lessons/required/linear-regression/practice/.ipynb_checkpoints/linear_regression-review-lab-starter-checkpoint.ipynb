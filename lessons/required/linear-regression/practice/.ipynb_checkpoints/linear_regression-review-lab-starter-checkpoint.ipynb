{
 "cells": [
  {
   "cell_type": "markdown",
   "metadata": {
    "slideshow": {
     "slide_type": "slide"
    }
   },
   "source": [
    "<img src=\"http://imgur.com/1ZcRyrc.png\" style=\"float: left; margin: 20px; height: 55px\">\n",
    "\n",
    "# Linear Regression Review Lab\n",
    "\n",
    "_Author: Naumaan Nayyar_\n",
    "\n",
    "---"
   ]
  },
  {
   "cell_type": "code",
<<<<<<< HEAD
   "execution_count": 3,
   "metadata": {
=======
   "execution_count": 1,
   "metadata": {
    "collapsed": true,
    "jupyter": {
     "outputs_hidden": true
    },
>>>>>>> master
    "slideshow": {
     "slide_type": "skip"
    }
   },
   "outputs": [],
   "source": [
    "import numpy as np\n",
    "import pandas as pd\n",
    "import random\n",
    "\n",
    "import matplotlib\n",
    "import matplotlib.pyplot as plt\n",
    "plt.style.use('fivethirtyeight')\n",
    "\n",
    "%matplotlib inline"
   ]
  },
  {
   "cell_type": "markdown",
   "metadata": {
    "slideshow": {
     "slide_type": "slide"
    }
   },
   "source": [
<<<<<<< HEAD
    "##### Create a Python dictionary \n",
=======
    "### Create a Python dictionary \n",
>>>>>>> master
    "\n",
    "- Use the following as the keys: 'X' and 'Y'\n",
    "- Create two lists to use as the values in the dictionary: <br>\n",
    "    for 'X': 1, 2, 3, 4, 5, 6, 7, 8, 9, 10 <br>\n",
    "    for 'Y': .5, .7, .8, .99, 1, 1.4, 1.8, 2.1, 2.4, 2.9"
   ]
  },
  {
   "cell_type": "code",
<<<<<<< HEAD
   "execution_count": 16,
   "metadata": {},
   "outputs": [],
   "source": [
    "# A:\n",
    "dictx = {'X': [1, 2, 3, 4, 5, 6, 7, 8, 9, 10],'Y': [.5, .7, .8, .99, 1, 1.4, 1.8, 2.1, 2.4, 2.9]}"
=======
   "execution_count": 2,
   "metadata": {
    "collapsed": true,
    "jupyter": {
     "outputs_hidden": true
    }
   },
   "outputs": [],
   "source": [
    "# A:"
>>>>>>> master
   ]
  },
  {
   "cell_type": "markdown",
   "metadata": {
    "slideshow": {
     "slide_type": "slide"
    }
   },
   "source": [
    "### Using that dictionary, create a pandas DataFrame and call it pre_df"
   ]
  },
  {
   "cell_type": "code",
<<<<<<< HEAD
   "execution_count": 35,
   "metadata": {},
   "outputs": [
    {
     "name": "stdout",
     "output_type": "stream",
     "text": [
      "    X     Y\n",
      "0   1  0.50\n",
      "1   2  0.70\n",
      "2   3  0.80\n",
      "3   4  0.99\n",
      "4   5  1.00\n",
      "5   6  1.40\n",
      "6   7  1.80\n",
      "7   8  2.10\n",
      "8   9  2.40\n",
      "9  10  2.90\n"
     ]
    }
   ],
   "source": [
    "# A:\n",
    "pre_df = pd.DataFrame(dictx)\n",
    "print(pre_df)"
=======
   "execution_count": 3,
   "metadata": {
    "collapsed": true,
    "jupyter": {
     "outputs_hidden": true
    }
   },
   "outputs": [],
   "source": [
    "# A:"
>>>>>>> master
   ]
  },
  {
   "cell_type": "markdown",
   "metadata": {},
   "source": [
    "### Using the Series from the DataFrame, create two new series\n",
    "\n",
    "- The first list should use the 'X' values and add 10 to each value\n",
    "- The second list should use the 'Y' values and add 3 to each\n",
    "- Add those new lists to a new DataFrame and save it as new_data (hint: zip())\n",
    "\n",
    "Note: the original DataFrame should be unchanged (don't save to pre_df as new columns)"
   ]
  },
  {
   "cell_type": "code",
<<<<<<< HEAD
   "execution_count": 36,
   "metadata": {},
   "outputs": [
    {
     "name": "stdout",
     "output_type": "stream",
     "text": [
      "[0    11\n",
      "1    12\n",
      "2    13\n",
      "3    14\n",
      "4    15\n",
      "5    16\n",
      "6    17\n",
      "7    18\n",
      "8    19\n",
      "9    20\n",
      "Name: X, dtype: int64, 0    3.50\n",
      "1    3.70\n",
      "2    3.80\n",
      "3    3.99\n",
      "4    4.00\n",
      "5    4.40\n",
      "6    4.80\n",
      "7    5.10\n",
      "8    5.40\n",
      "9    5.90\n",
      "Name: Y, dtype: float64]\n"
     ]
    }
   ],
   "source": [
    "# A:\n",
    "pre_df1 = [pre_df['X'] + 10, pre_df['Y']+3]\n",
    "print(pre_df1, headers = [\"X\", \"Y\"])"
=======
   "execution_count": 4,
   "metadata": {
    "collapsed": true,
    "jupyter": {
     "outputs_hidden": true
    }
   },
   "outputs": [],
   "source": [
    "# A:"
>>>>>>> master
   ]
  },
  {
   "cell_type": "markdown",
   "metadata": {},
   "source": [
    "### Using pd.concat, vertically concat the new DataFrame, new_data, to the original pre_df DataFrame. Save it as df.\n",
    "\n",
    "Hint: Be mindful of your column names, and make sure your index is 0-based and continuous."
   ]
  },
  {
   "cell_type": "code",
<<<<<<< HEAD
   "execution_count": 38,
   "metadata": {},
   "outputs": [
    {
     "name": "stdout",
     "output_type": "stream",
     "text": [
      "    X     Y\n",
      "0  11  3.50\n",
      "1  12  3.70\n",
      "2  13  3.80\n",
      "3  14  3.99\n",
      "4  15  4.00\n",
      "5  16  4.40\n",
      "6  17  4.80\n",
      "7  18  5.10\n",
      "8  19  5.40\n",
      "9  20  5.90\n"
     ]
    }
   ],
   "source": [
    "# A:\n",
    "df = pd.concat(pre_df1, axis=1)\n",
    "print(df)"
=======
   "execution_count": 5,
   "metadata": {
    "collapsed": true,
    "jupyter": {
     "outputs_hidden": true
    }
   },
   "outputs": [],
   "source": [
    "# A:"
>>>>>>> master
   ]
  },
  {
   "cell_type": "markdown",
   "metadata": {
    "slideshow": {
     "slide_type": "slide"
    }
   },
   "source": [
    "### Plot the df DataFrame using pandas + matplotlib\n",
    "\n",
    "- Set the figure size to 12 wide and 6 height\n",
    "- Add a title, 'X vs Y' to the plot\n",
    "- Set the size of the markers to 50 and the color of the markers to black"
   ]
  },
  {
   "cell_type": "code",
   "execution_count": 6,
   "metadata": {
    "collapsed": true,
    "jupyter": {
     "outputs_hidden": true
    }
   },
   "outputs": [],
   "source": [
    "# A:"
   ]
  },
  {
   "cell_type": "markdown",
   "metadata": {},
   "source": [
    "### Using statsmodels, fit an OLS regression to your data and print our the summary"
   ]
  },
  {
   "cell_type": "code",
   "execution_count": 7,
   "metadata": {
    "collapsed": true,
    "jupyter": {
     "outputs_hidden": true
    }
   },
   "outputs": [],
   "source": [
    "# A:"
   ]
  },
  {
   "cell_type": "markdown",
   "metadata": {},
   "source": [
    "## Using the model you fitted, answer the folowing questions:"
   ]
  },
  {
   "cell_type": "markdown",
   "metadata": {},
   "source": [
    "### What is the R-squared for the model?"
   ]
  },
  {
   "cell_type": "code",
   "execution_count": 8,
   "metadata": {
    "collapsed": true,
    "jupyter": {
     "outputs_hidden": true
    }
   },
   "outputs": [],
   "source": [
    "# A:"
   ]
  },
  {
   "cell_type": "markdown",
   "metadata": {},
   "source": [
    "### What is the p-value for your X?"
   ]
  },
  {
   "cell_type": "code",
   "execution_count": 9,
   "metadata": {
    "collapsed": true,
    "jupyter": {
     "outputs_hidden": true
    }
   },
   "outputs": [],
   "source": [
    "# A:"
   ]
  },
  {
   "cell_type": "markdown",
   "metadata": {},
   "source": [
    "### What is the intercept?"
   ]
  },
  {
   "cell_type": "code",
   "execution_count": 10,
   "metadata": {
    "collapsed": true,
    "jupyter": {
     "outputs_hidden": true
    }
   },
   "outputs": [],
   "source": [
    "# A:"
   ]
  },
  {
   "cell_type": "markdown",
   "metadata": {},
   "source": [
    "### Using the above, write the equation for our model"
   ]
  },
  {
   "cell_type": "code",
   "execution_count": 11,
   "metadata": {
    "collapsed": true,
    "jupyter": {
     "outputs_hidden": true
    }
   },
   "outputs": [],
   "source": [
    "# A:"
   ]
  },
  {
   "cell_type": "markdown",
   "metadata": {},
   "source": [
    "### Solve the equation for an x of 20 then 21 (by hand/calculator)"
   ]
  },
  {
   "cell_type": "code",
   "execution_count": 12,
   "metadata": {
    "collapsed": true,
    "jupyter": {
     "outputs_hidden": true
    }
   },
   "outputs": [],
   "source": [
    "# A:"
   ]
  },
  {
   "cell_type": "code",
   "execution_count": 13,
   "metadata": {
    "collapsed": true,
    "jupyter": {
     "outputs_hidden": true
    }
   },
   "outputs": [],
   "source": [
    "# A:"
   ]
  },
  {
   "cell_type": "markdown",
   "metadata": {},
   "source": [
    "### Using the predict functionality of statsmodels, predict the values for 20 and 21\n",
    "\n",
    "Hint: You'll need to use a list - don't forget your intercept!"
   ]
  },
  {
   "cell_type": "code",
   "execution_count": 14,
   "metadata": {
    "collapsed": true,
    "jupyter": {
     "outputs_hidden": true
    }
   },
   "outputs": [],
   "source": [
    "# A:"
   ]
  },
  {
   "cell_type": "markdown",
   "metadata": {},
   "source": [
    "### Get the SSE by using the predictions for every X (y_hats) and the true y values"
   ]
  },
  {
   "cell_type": "code",
   "execution_count": 15,
   "metadata": {
    "collapsed": true,
    "jupyter": {
     "outputs_hidden": true
    }
   },
   "outputs": [],
   "source": [
    "# A:"
   ]
  },
  {
   "cell_type": "markdown",
   "metadata": {},
   "source": [
    "### Now plot your predictions for every X\n",
    "\n",
    "- Plot the predictions as a line and the true y values using a scatterplot"
   ]
  },
  {
   "cell_type": "code",
   "execution_count": 16,
   "metadata": {
    "collapsed": true,
    "jupyter": {
     "outputs_hidden": true
    }
   },
   "outputs": [],
   "source": [
    "# A:"
   ]
  },
  {
   "cell_type": "markdown",
   "metadata": {},
   "source": [
    "### Import PolynomialFeatures from sklearn. Then do the following:\n",
    "\n",
    "- Instantiate a PolynomialFeatures object and save it as poly\n",
    "- Documentation is [here](http://scikit-learn.org/stable/modules/generated/sklearn.preprocessing.PolynomialFeatures.html)\n",
    "- Use degree=5 (Hint: If that gives you more than 6 columns, you forgot to remove something)\n",
    "- Use fit_transform on X to create a numpy array of polynomial features\n",
    "- Save that array as poly_feats\n",
    "- Convert this array to a DataFrame and save it as poly_X\n",
    "- Join this new poly_df DataFrame with df['Y'] using pd.merge (Hint: join on the index)\n",
    "- Save this joined index as pdf"
   ]
  },
  {
   "cell_type": "code",
   "execution_count": 17,
   "metadata": {
    "collapsed": true,
    "jupyter": {
     "outputs_hidden": true
    }
   },
   "outputs": [],
   "source": [
    "# A:"
   ]
  },
  {
   "cell_type": "code",
   "execution_count": 18,
   "metadata": {
    "collapsed": true,
    "jupyter": {
     "outputs_hidden": true
    },
    "scrolled": true
   },
   "outputs": [],
   "source": [
    "# A:"
   ]
  },
  {
   "cell_type": "code",
   "execution_count": 19,
   "metadata": {
    "collapsed": true,
    "jupyter": {
     "outputs_hidden": true
    },
    "scrolled": true
   },
   "outputs": [],
   "source": [
    "# A:"
   ]
  },
  {
   "cell_type": "markdown",
   "metadata": {},
   "source": [
    "### Using statsmodels as before, fit this new model and save it as poly_results"
   ]
  },
  {
   "cell_type": "code",
   "execution_count": 20,
   "metadata": {
    "collapsed": true,
    "jupyter": {
     "outputs_hidden": true
    }
   },
   "outputs": [],
   "source": [
    "# A:"
   ]
  },
  {
   "cell_type": "markdown",
   "metadata": {},
   "source": [
    "### Print out the model's predictions and save them as poly_yhat"
   ]
  },
  {
   "cell_type": "code",
   "execution_count": 21,
   "metadata": {
    "collapsed": true,
    "jupyter": {
     "outputs_hidden": true
    }
   },
   "outputs": [],
   "source": [
    "# A:"
   ]
  },
  {
   "cell_type": "markdown",
   "metadata": {},
   "source": [
    "### Calculate the SSE"
   ]
  },
  {
   "cell_type": "code",
   "execution_count": 22,
   "metadata": {
    "collapsed": true,
    "jupyter": {
     "outputs_hidden": true
    }
   },
   "outputs": [],
   "source": [
    "# A:"
   ]
  },
  {
   "cell_type": "markdown",
   "metadata": {},
   "source": [
    "### Now, create a for loop that does the follow:\n",
    "\n",
    "- Iterates over the following alpha values [0, .001, .01, .25, .5, 1, 10]\n",
    "- In each loop, you are going to fit a regularized regression\n",
    "- See [Statsmodels Docs](http://statsmodels.sourceforge.net/devel/generated/statsmodels.regression.linear_model.OLS.fit_regularized.html) to understand how to do this\n",
    "- In each loop, set the value of alpha to the value of being iterated over\n",
    "- Set the L1_wt parameter to 0\n",
    "- In each loop print out the alpha value, the SSE, and the mean absolute value of the coefficient of the model\n",
    "- You should also print out the predictions as a line and the true y's as a scatterplot as above"
   ]
  },
  {
   "cell_type": "code",
   "execution_count": 23,
   "metadata": {
    "collapsed": true,
    "jupyter": {
     "outputs_hidden": true
    }
   },
   "outputs": [],
   "source": [
    "# A:"
   ]
  },
  {
   "cell_type": "markdown",
   "metadata": {},
   "source": [
    "### Using the output of the above, answer the following:\n",
    "- What happens to the SSE over the increasing alpha values?\n",
    "- What happens to the mean abs. value of the coefficients?\n",
    "- Does increasing the bias to reduce variance always mean a better model?"
   ]
  },
  {
   "cell_type": "code",
   "execution_count": 24,
   "metadata": {
    "collapsed": true,
    "jupyter": {
     "outputs_hidden": true
    }
   },
   "outputs": [],
   "source": [
    "# A:"
   ]
  },
  {
   "cell_type": "code",
   "execution_count": 25,
   "metadata": {
    "collapsed": true,
    "jupyter": {
     "outputs_hidden": true
    }
   },
   "outputs": [],
   "source": [
    "# A:"
   ]
  },
  {
   "cell_type": "code",
   "execution_count": 26,
   "metadata": {
    "collapsed": true,
    "jupyter": {
     "outputs_hidden": true
    }
   },
   "outputs": [],
   "source": [
    "# A:"
   ]
  }
 ],
 "metadata": {
  "anaconda-cloud": {},
  "kernelspec": {
   "display_name": "Python 3",
   "language": "python",
   "name": "python3"
  },
  "language_info": {
   "codemirror_mode": {
    "name": "ipython",
    "version": 3
   },
   "file_extension": ".py",
   "mimetype": "text/x-python",
   "name": "python",
   "nbconvert_exporter": "python",
   "pygments_lexer": "ipython3",
<<<<<<< HEAD
   "version": "3.7.6"
=======
   "version": "3.7.0"
>>>>>>> master
  }
 },
 "nbformat": 4,
 "nbformat_minor": 4
}
