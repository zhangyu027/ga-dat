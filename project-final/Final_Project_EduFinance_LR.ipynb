{
 "cells": [
  {
   "cell_type": "markdown",
   "metadata": {
    "slideshow": {
     "slide_type": "slide"
    }
   },
   "source": [
    "Title: \"Elementary and high school students performance and relation to the district education finance \" -GA Final Project Research proposal\n",
    "Author: Yu Zhang\n",
    "output: \n",
    "\n",
    "1. Introduction\n",
    "\n",
    "In the discussion of K-12 students' success, the issue of financing is prominent from the perspective of various stakeholders. Policymakers are engaged in asking how much public purse should be devoted to elementary and high school students related to competing demands on tuition, expenditure, and transportation. Federal education and census are concerned about the financial capacity to provide quality education and sustain the living hood. Besides, the family and students concerned about how they pay for education can guarantee the students' success beyond elementary and high school. \n",
    "\n",
    "In observing the NAEP (National Assessment of Educational Progress) data and Educational financing data from the National Finance Census (National Center for Educational Statistics), we have been known the educational finance can be characterized by the goals of students' academic success, and by a strong influence by the financial capacity, by and large, we might predict the elementary and high school students academic success on mathematics and literacy to be influenced by the features of family and federal educational financing, this is for example, highly praise by educational scholar and researcher Joan Herman'description: \"the keys resources, educational financing have been imposed the role to expand the enrollment and institutes. On the performance standards, the evaluation can be introduced to predict the student's performance\"(2011). \n"
   ]
  },
  {
   "cell_type": "code",
   "execution_count": 1,
   "metadata": {
    "slideshow": {
     "slide_type": "skip"
    }
   },
   "outputs": [],
   "source": [
    "import pandas as pd\n",
    "import numpy as np\n",
    "import seaborn as sns\n",
    "import matplotlib.pyplot as plt\n",
    "from sklearn.metrics import r2_score\n",
    "import statsmodels.api as sm\n",
    "%matplotlib inline\n",
    "\n",
    "from sklearn.linear_model import Ridge, Lasso, ElasticNet, LinearRegression, RidgeCV, LassoCV, ElasticNetCV\n",
    "from sklearn.model_selection import cross_val_score\n",
    "\n",
    "plt.rcParams['figure.figsize'] = (8, 6)\n",
    "plt.rcParams['font.size'] = 14\n",
    "plt.style.use(\"fivethirtyeight\")\n",
    "\n",
    "\n",
    "from sklearn.linear_model import LinearRegression"
   ]
  },
  {
   "cell_type": "code",
   "execution_count": 2,
   "metadata": {
    "slideshow": {
     "slide_type": "skip"
    }
   },
   "outputs": [],
   "source": [
    "districts = pd.read_csv(\"./data/districts.csv\", sep=',')\n",
    "naep = pd.read_csv(\"./data/naep.csv\", sep=',')"
   ]
  },
  {
   "cell_type": "code",
   "execution_count": 3,
   "metadata": {},
   "outputs": [],
   "source": [
    "edu = pd.read_csv(\"./data/edu_data.csv\")"
   ]
  },
  {
   "cell_type": "code",
   "execution_count": 3,
   "metadata": {
    "slideshow": {
     "slide_type": "skip"
    }
   },
   "outputs": [
    {
     "data": {
      "text/html": [
       "<div>\n",
       "<style scoped>\n",
       "    .dataframe tbody tr th:only-of-type {\n",
       "        vertical-align: middle;\n",
       "    }\n",
       "\n",
       "    .dataframe tbody tr th {\n",
       "        vertical-align: top;\n",
       "    }\n",
       "\n",
       "    .dataframe thead th {\n",
       "        text-align: right;\n",
       "    }\n",
       "</style>\n",
       "<table border=\"1\" class=\"dataframe\">\n",
       "  <thead>\n",
       "    <tr style=\"text-align: right;\">\n",
       "      <th></th>\n",
       "      <th>STATE</th>\n",
       "      <th>ENROLL</th>\n",
       "      <th>NAME</th>\n",
       "      <th>YRDATA</th>\n",
       "      <th>TOTALREV</th>\n",
       "      <th>TFEDREV</th>\n",
       "      <th>TSTREV</th>\n",
       "      <th>TLOCREV</th>\n",
       "      <th>TOTALEXP</th>\n",
       "      <th>TCURINST</th>\n",
       "      <th>TCURSSVC</th>\n",
       "      <th>TCURONON</th>\n",
       "      <th>TCAPOUT</th>\n",
       "    </tr>\n",
       "  </thead>\n",
       "  <tbody>\n",
       "    <tr>\n",
       "      <th>0</th>\n",
       "      <td>Alabama</td>\n",
       "      <td>9609.0</td>\n",
       "      <td>AUTAUGA COUNTY SCHOOL DISTRICT</td>\n",
       "      <td>2016</td>\n",
       "      <td>80867</td>\n",
       "      <td>7447</td>\n",
       "      <td>53842</td>\n",
       "      <td>19578</td>\n",
       "      <td>76672</td>\n",
       "      <td>43843</td>\n",
       "      <td>23941</td>\n",
       "      <td>6401.0</td>\n",
       "      <td>1506</td>\n",
       "    </tr>\n",
       "    <tr>\n",
       "      <th>1</th>\n",
       "      <td>Alabama</td>\n",
       "      <td>30931.0</td>\n",
       "      <td>BALDWIN COUNTY SCHOOL DISTRICT</td>\n",
       "      <td>2016</td>\n",
       "      <td>338236</td>\n",
       "      <td>23710</td>\n",
       "      <td>145180</td>\n",
       "      <td>169346</td>\n",
       "      <td>299880</td>\n",
       "      <td>164977</td>\n",
       "      <td>97231</td>\n",
       "      <td>19439.0</td>\n",
       "      <td>9749</td>\n",
       "    </tr>\n",
       "    <tr>\n",
       "      <th>2</th>\n",
       "      <td>Alabama</td>\n",
       "      <td>912.0</td>\n",
       "      <td>BARBOUR COUNTY SCHOOL DISTRICT</td>\n",
       "      <td>2016</td>\n",
       "      <td>10116</td>\n",
       "      <td>2342</td>\n",
       "      <td>5434</td>\n",
       "      <td>2340</td>\n",
       "      <td>10070</td>\n",
       "      <td>4907</td>\n",
       "      <td>3896</td>\n",
       "      <td>975.0</td>\n",
       "      <td>110</td>\n",
       "    </tr>\n",
       "    <tr>\n",
       "      <th>3</th>\n",
       "      <td>Alabama</td>\n",
       "      <td>2842.0</td>\n",
       "      <td>EUFAULA CITY SCHOOL DISTRICT</td>\n",
       "      <td>2016</td>\n",
       "      <td>26182</td>\n",
       "      <td>3558</td>\n",
       "      <td>15900</td>\n",
       "      <td>6724</td>\n",
       "      <td>29843</td>\n",
       "      <td>15302</td>\n",
       "      <td>7901</td>\n",
       "      <td>2274.0</td>\n",
       "      <td>4133</td>\n",
       "    </tr>\n",
       "    <tr>\n",
       "      <th>4</th>\n",
       "      <td>Alabama</td>\n",
       "      <td>3322.0</td>\n",
       "      <td>BIBB COUNTY SCHOOL DISTRICT</td>\n",
       "      <td>2016</td>\n",
       "      <td>32486</td>\n",
       "      <td>3664</td>\n",
       "      <td>21846</td>\n",
       "      <td>6976</td>\n",
       "      <td>31662</td>\n",
       "      <td>16407</td>\n",
       "      <td>11087</td>\n",
       "      <td>3122.0</td>\n",
       "      <td>486</td>\n",
       "    </tr>\n",
       "  </tbody>\n",
       "</table>\n",
       "</div>"
      ],
      "text/plain": [
       "     STATE   ENROLL                            NAME  YRDATA  TOTALREV  \\\n",
       "0  Alabama   9609.0  AUTAUGA COUNTY SCHOOL DISTRICT    2016     80867   \n",
       "1  Alabama  30931.0  BALDWIN COUNTY SCHOOL DISTRICT    2016    338236   \n",
       "2  Alabama    912.0  BARBOUR COUNTY SCHOOL DISTRICT    2016     10116   \n",
       "3  Alabama   2842.0    EUFAULA CITY SCHOOL DISTRICT    2016     26182   \n",
       "4  Alabama   3322.0     BIBB COUNTY SCHOOL DISTRICT    2016     32486   \n",
       "\n",
       "   TFEDREV  TSTREV  TLOCREV  TOTALEXP  TCURINST  TCURSSVC  TCURONON  TCAPOUT  \n",
       "0     7447   53842    19578     76672     43843     23941    6401.0     1506  \n",
       "1    23710  145180   169346    299880    164977     97231   19439.0     9749  \n",
       "2     2342    5434     2340     10070      4907      3896     975.0      110  \n",
       "3     3558   15900     6724     29843     15302      7901    2274.0     4133  \n",
       "4     3664   21846     6976     31662     16407     11087    3122.0      486  "
      ]
     },
     "execution_count": 3,
     "metadata": {},
     "output_type": "execute_result"
    }
   ],
   "source": [
    "districts.head()"
   ]
  },
  {
   "cell_type": "code",
   "execution_count": 4,
   "metadata": {
    "slideshow": {
     "slide_type": "skip"
    }
   },
   "outputs": [],
   "source": [
    "districts.columns=('state', 'enrollment', 'name', 'year', 'total_revenue','federal_revenue', 'state_revenue', 'local_revenue', 'expenditure', 'current_spending_instruction','current_spending','other_spending','total_capital')"
   ]
  },
  {
   "cell_type": "code",
   "execution_count": 5,
   "metadata": {
    "slideshow": {
     "slide_type": "skip"
    }
   },
   "outputs": [],
   "source": [
    "districts_new = districts[['state', 'enrollment', 'year', 'total_revenue','federal_revenue', 'state_revenue', 'local_revenue', 'expenditure', 'current_spending_instruction','current_spending','other_spending','total_capital']]"
   ]
  },
  {
   "cell_type": "code",
   "execution_count": 6,
   "metadata": {},
   "outputs": [
    {
     "data": {
      "text/plain": [
       "(374161, 13)"
      ]
     },
     "execution_count": 6,
     "metadata": {},
     "output_type": "execute_result"
    }
   ],
   "source": [
    "districts.shape"
   ]
  },
  {
   "cell_type": "code",
   "execution_count": 7,
   "metadata": {
    "slideshow": {
     "slide_type": "skip"
    }
   },
   "outputs": [],
   "source": [
    "districts_new1 = districts.dropna()"
   ]
  },
  {
   "cell_type": "code",
   "execution_count": 8,
   "metadata": {
    "slideshow": {
     "slide_type": "skip"
    }
   },
   "outputs": [],
   "source": [
    "districts_new2 = districts_new1.groupby(['year','state','name']).agg(['mean']).reset_index()"
   ]
  },
  {
   "cell_type": "code",
   "execution_count": 9,
   "metadata": {},
   "outputs": [
    {
     "data": {
      "text/plain": [
       "(356945, 13)"
      ]
     },
     "execution_count": 9,
     "metadata": {},
     "output_type": "execute_result"
    }
   ],
   "source": [
    "districts_new2.shape"
   ]
  },
  {
   "cell_type": "code",
   "execution_count": 10,
   "metadata": {
    "slideshow": {
     "slide_type": "slide"
    }
   },
   "outputs": [
    {
     "data": {
      "text/html": [
       "<div>\n",
       "<style scoped>\n",
       "    .dataframe tbody tr th:only-of-type {\n",
       "        vertical-align: middle;\n",
       "    }\n",
       "\n",
       "    .dataframe tbody tr th {\n",
       "        vertical-align: top;\n",
       "    }\n",
       "\n",
       "    .dataframe thead tr th {\n",
       "        text-align: left;\n",
       "    }\n",
       "</style>\n",
       "<table border=\"1\" class=\"dataframe\">\n",
       "  <thead>\n",
       "    <tr>\n",
       "      <th></th>\n",
       "      <th>year</th>\n",
       "      <th>state</th>\n",
       "      <th>name</th>\n",
       "      <th>enrollment</th>\n",
       "      <th>total_revenue</th>\n",
       "      <th>federal_revenue</th>\n",
       "      <th>state_revenue</th>\n",
       "      <th>local_revenue</th>\n",
       "      <th>expenditure</th>\n",
       "      <th>current_spending_instruction</th>\n",
       "      <th>current_spending</th>\n",
       "      <th>other_spending</th>\n",
       "      <th>total_capital</th>\n",
       "    </tr>\n",
       "    <tr>\n",
       "      <th></th>\n",
       "      <th></th>\n",
       "      <th></th>\n",
       "      <th></th>\n",
       "      <th>mean</th>\n",
       "      <th>mean</th>\n",
       "      <th>mean</th>\n",
       "      <th>mean</th>\n",
       "      <th>mean</th>\n",
       "      <th>mean</th>\n",
       "      <th>mean</th>\n",
       "      <th>mean</th>\n",
       "      <th>mean</th>\n",
       "      <th>mean</th>\n",
       "    </tr>\n",
       "  </thead>\n",
       "  <tbody>\n",
       "    <tr>\n",
       "      <th>0</th>\n",
       "      <td>1993</td>\n",
       "      <td>Alabama</td>\n",
       "      <td>ALBERTVILLE CITY SCH DIST</td>\n",
       "      <td>3011.0</td>\n",
       "      <td>11101.0</td>\n",
       "      <td>879.0</td>\n",
       "      <td>7403.0</td>\n",
       "      <td>2819.0</td>\n",
       "      <td>11318.0</td>\n",
       "      <td>6567.0</td>\n",
       "      <td>3353.0</td>\n",
       "      <td>1014.0</td>\n",
       "      <td>383.0</td>\n",
       "    </tr>\n",
       "    <tr>\n",
       "      <th>1</th>\n",
       "      <td>1993</td>\n",
       "      <td>Alabama</td>\n",
       "      <td>ALEXANDER CITY SCH DIST</td>\n",
       "      <td>3748.0</td>\n",
       "      <td>14406.0</td>\n",
       "      <td>982.0</td>\n",
       "      <td>8949.0</td>\n",
       "      <td>4475.0</td>\n",
       "      <td>15015.0</td>\n",
       "      <td>7988.0</td>\n",
       "      <td>4113.0</td>\n",
       "      <td>1046.0</td>\n",
       "      <td>1662.0</td>\n",
       "    </tr>\n",
       "    <tr>\n",
       "      <th>2</th>\n",
       "      <td>1993</td>\n",
       "      <td>Alabama</td>\n",
       "      <td>ANDALUSIA CTY SCH DIST</td>\n",
       "      <td>2136.0</td>\n",
       "      <td>7749.0</td>\n",
       "      <td>949.0</td>\n",
       "      <td>5023.0</td>\n",
       "      <td>1777.0</td>\n",
       "      <td>7940.0</td>\n",
       "      <td>5095.0</td>\n",
       "      <td>1981.0</td>\n",
       "      <td>646.0</td>\n",
       "      <td>218.0</td>\n",
       "    </tr>\n",
       "    <tr>\n",
       "      <th>3</th>\n",
       "      <td>1993</td>\n",
       "      <td>Alabama</td>\n",
       "      <td>ANNISTON CTY SCH DST</td>\n",
       "      <td>4164.0</td>\n",
       "      <td>17714.0</td>\n",
       "      <td>3084.0</td>\n",
       "      <td>10615.0</td>\n",
       "      <td>4015.0</td>\n",
       "      <td>17679.0</td>\n",
       "      <td>9508.0</td>\n",
       "      <td>5890.0</td>\n",
       "      <td>1864.0</td>\n",
       "      <td>333.0</td>\n",
       "    </tr>\n",
       "    <tr>\n",
       "      <th>4</th>\n",
       "      <td>1993</td>\n",
       "      <td>Alabama</td>\n",
       "      <td>ARAB CIT SCHOOL DIST</td>\n",
       "      <td>2485.0</td>\n",
       "      <td>8296.0</td>\n",
       "      <td>492.0</td>\n",
       "      <td>5834.0</td>\n",
       "      <td>1970.0</td>\n",
       "      <td>8161.0</td>\n",
       "      <td>5278.0</td>\n",
       "      <td>2033.0</td>\n",
       "      <td>590.0</td>\n",
       "      <td>260.0</td>\n",
       "    </tr>\n",
       "  </tbody>\n",
       "</table>\n",
       "</div>"
      ],
      "text/plain": [
       "   year    state                       name enrollment total_revenue  \\\n",
       "                                                  mean          mean   \n",
       "0  1993  Alabama  ALBERTVILLE CITY SCH DIST     3011.0       11101.0   \n",
       "1  1993  Alabama    ALEXANDER CITY SCH DIST     3748.0       14406.0   \n",
       "2  1993  Alabama     ANDALUSIA CTY SCH DIST     2136.0        7749.0   \n",
       "3  1993  Alabama       ANNISTON CTY SCH DST     4164.0       17714.0   \n",
       "4  1993  Alabama       ARAB CIT SCHOOL DIST     2485.0        8296.0   \n",
       "\n",
       "  federal_revenue state_revenue local_revenue expenditure  \\\n",
       "             mean          mean          mean        mean   \n",
       "0           879.0        7403.0        2819.0     11318.0   \n",
       "1           982.0        8949.0        4475.0     15015.0   \n",
       "2           949.0        5023.0        1777.0      7940.0   \n",
       "3          3084.0       10615.0        4015.0     17679.0   \n",
       "4           492.0        5834.0        1970.0      8161.0   \n",
       "\n",
       "  current_spending_instruction current_spending other_spending total_capital  \n",
       "                          mean             mean           mean          mean  \n",
       "0                       6567.0           3353.0         1014.0         383.0  \n",
       "1                       7988.0           4113.0         1046.0        1662.0  \n",
       "2                       5095.0           1981.0          646.0         218.0  \n",
       "3                       9508.0           5890.0         1864.0         333.0  \n",
       "4                       5278.0           2033.0          590.0         260.0  "
      ]
     },
     "execution_count": 10,
     "metadata": {},
     "output_type": "execute_result"
    }
   ],
   "source": [
    "districts_new2.head()"
   ]
  },
  {
   "cell_type": "code",
   "execution_count": 11,
   "metadata": {
    "slideshow": {
     "slide_type": "skip"
    }
   },
   "outputs": [],
   "source": [
    "districts_new2.columns = ('year','state','name','enrollment', 'total_revenue','federal_revenue', 'state_revenue', 'local_revenue', 'expenditure', 'current_spending_instruction','current_spending','other_spending','total_capital')"
   ]
  },
  {
   "cell_type": "code",
   "execution_count": 12,
   "metadata": {
    "slideshow": {
     "slide_type": "skip"
    }
   },
   "outputs": [
    {
     "data": {
      "text/plain": [
       "(356945, 13)"
      ]
     },
     "execution_count": 12,
     "metadata": {},
     "output_type": "execute_result"
    }
   ],
   "source": [
    "districts_new2.shape"
   ]
  },
  {
   "cell_type": "code",
   "execution_count": 13,
   "metadata": {},
   "outputs": [],
   "source": [
    "districts_new3 = districts_new2[districts_new2.federal_revenue > 50000]"
   ]
  },
  {
   "cell_type": "code",
   "execution_count": 14,
   "metadata": {},
   "outputs": [
    {
     "data": {
      "text/plain": [
       "(2123, 13)"
      ]
     },
     "execution_count": 14,
     "metadata": {},
     "output_type": "execute_result"
    }
   ],
   "source": [
    "districts_new3.shape"
   ]
  },
  {
   "cell_type": "code",
   "execution_count": 15,
   "metadata": {},
   "outputs": [
    {
     "data": {
      "text/plain": [
       "year                              int64\n",
       "state                            object\n",
       "name                             object\n",
       "enrollment                      float64\n",
       "total_revenue                   float64\n",
       "federal_revenue                 float64\n",
       "state_revenue                   float64\n",
       "local_revenue                   float64\n",
       "expenditure                     float64\n",
       "current_spending_instruction    float64\n",
       "current_spending                float64\n",
       "other_spending                  float64\n",
       "total_capital                   float64\n",
       "dtype: object"
      ]
     },
     "execution_count": 15,
     "metadata": {},
     "output_type": "execute_result"
    }
   ],
   "source": [
    "districts_new3.dtypes"
   ]
  },
  {
   "cell_type": "code",
   "execution_count": 16,
   "metadata": {
    "slideshow": {
     "slide_type": "skip"
    }
   },
   "outputs": [
    {
     "name": "stdout",
     "output_type": "stream",
     "text": [
      "<class 'pandas.core.frame.DataFrame'>\n",
      "Int64Index: 2123 entries, 1059 to 356696\n",
      "Data columns (total 13 columns):\n",
      " #   Column                        Non-Null Count  Dtype  \n",
      "---  ------                        --------------  -----  \n",
      " 0   year                          2123 non-null   int64  \n",
      " 1   state                         2123 non-null   object \n",
      " 2   name                          2123 non-null   object \n",
      " 3   enrollment                    2123 non-null   float64\n",
      " 4   total_revenue                 2123 non-null   float64\n",
      " 5   federal_revenue               2123 non-null   float64\n",
      " 6   state_revenue                 2123 non-null   float64\n",
      " 7   local_revenue                 2123 non-null   float64\n",
      " 8   expenditure                   2123 non-null   float64\n",
      " 9   current_spending_instruction  2123 non-null   float64\n",
      " 10  current_spending              2123 non-null   float64\n",
      " 11  other_spending                2123 non-null   float64\n",
      " 12  total_capital                 2123 non-null   float64\n",
      "dtypes: float64(10), int64(1), object(2)\n",
      "memory usage: 232.2+ KB\n"
     ]
    }
   ],
   "source": [
    "districts_new3.info()"
   ]
  },
  {
   "cell_type": "code",
   "execution_count": 17,
   "metadata": {
    "slideshow": {
     "slide_type": "slide"
    }
   },
   "outputs": [
    {
     "data": {
      "text/plain": [
       "<matplotlib.axes._subplots.AxesSubplot at 0x1f7508f9248>"
      ]
     },
     "execution_count": 17,
     "metadata": {},
     "output_type": "execute_result"
    },
    {
     "data": {
      "image/png": "[encoded data removed]",
      "text/plain": [
       "<Figure size 576x432 with 1 Axes>"
      ]
     },
     "metadata": {},
     "output_type": "display_data"
    }
   ],
   "source": [
    "districts_new3.federal_revenue.plot(kind = 'hist')"
   ]
  },
  {
   "cell_type": "markdown",
   "metadata": {
    "slideshow": {
     "slide_type": "skip"
    }
   },
   "source": [
    "The featueres are extremely right skewed; majority fundings are densed on small amount range, \n",
    "set up the data range "
   ]
  },
  {
   "cell_type": "code",
   "execution_count": 18,
   "metadata": {
    "slideshow": {
     "slide_type": "skip"
    }
   },
   "outputs": [],
   "source": [
    "districts_f = districts_new3[districts_new3.year > 1995 ]"
   ]
  },
  {
   "cell_type": "code",
   "execution_count": 19,
   "metadata": {},
   "outputs": [
    {
     "data": {
      "text/plain": [
       "(2057, 13)"
      ]
     },
     "execution_count": 19,
     "metadata": {},
     "output_type": "execute_result"
    }
   ],
   "source": [
    "districts_f.shape"
   ]
  },
  {
   "cell_type": "code",
   "execution_count": 20,
   "metadata": {},
   "outputs": [],
   "source": [
    "naep.columns=('year', 'state', 'score', 'test_subject','grade')"
   ]
  },
  {
   "cell_type": "code",
   "execution_count": 21,
   "metadata": {},
   "outputs": [],
   "source": [
    "naep.score = pd.to_numeric(naep['score'],errors='coerce')"
   ]
  },
  {
   "cell_type": "code",
   "execution_count": 22,
   "metadata": {},
   "outputs": [
    {
     "data": {
      "text/plain": [
       "<matplotlib.axes._subplots.AxesSubplot at 0x1f7509fdfc8>"
      ]
     },
     "execution_count": 22,
     "metadata": {},
     "output_type": "execute_result"
    },
    {
     "data": {
      "image/png": "[encoded data removed]",
      "text/plain": [
       "<Figure size 576x432 with 1 Axes>"
      ]
     },
     "metadata": {},
     "output_type": "display_data"
    }
   ],
   "source": [
    "naep.score.plot(kind = 'hist') ##NAEP data are normaly  distributed"
   ]
  },
  {
   "cell_type": "code",
   "execution_count": 23,
   "metadata": {},
   "outputs": [
    {
     "data": {
      "text/html": [
       "<div>\n",
       "<style scoped>\n",
       "    .dataframe tbody tr th:only-of-type {\n",
       "        vertical-align: middle;\n",
       "    }\n",
       "\n",
       "    .dataframe tbody tr th {\n",
       "        vertical-align: top;\n",
       "    }\n",
       "\n",
       "    .dataframe thead th {\n",
       "        text-align: right;\n",
       "    }\n",
       "</style>\n",
       "<table border=\"1\" class=\"dataframe\">\n",
       "  <thead>\n",
       "    <tr style=\"text-align: right;\">\n",
       "      <th></th>\n",
       "      <th>year</th>\n",
       "      <th>state</th>\n",
       "      <th>score</th>\n",
       "      <th>test_subject</th>\n",
       "      <th>grade</th>\n",
       "    </tr>\n",
       "  </thead>\n",
       "  <tbody>\n",
       "    <tr>\n",
       "      <th>0</th>\n",
       "      <td>2017</td>\n",
       "      <td>Alabama</td>\n",
       "      <td>232.170688</td>\n",
       "      <td>Mathematics</td>\n",
       "      <td>4</td>\n",
       "    </tr>\n",
       "    <tr>\n",
       "      <th>1</th>\n",
       "      <td>2017</td>\n",
       "      <td>Alaska</td>\n",
       "      <td>230.456278</td>\n",
       "      <td>Mathematics</td>\n",
       "      <td>4</td>\n",
       "    </tr>\n",
       "    <tr>\n",
       "      <th>2</th>\n",
       "      <td>2017</td>\n",
       "      <td>Arizona</td>\n",
       "      <td>234.435788</td>\n",
       "      <td>Mathematics</td>\n",
       "      <td>4</td>\n",
       "    </tr>\n",
       "    <tr>\n",
       "      <th>3</th>\n",
       "      <td>2017</td>\n",
       "      <td>Arkansas</td>\n",
       "      <td>233.848144</td>\n",
       "      <td>Mathematics</td>\n",
       "      <td>4</td>\n",
       "    </tr>\n",
       "    <tr>\n",
       "      <th>4</th>\n",
       "      <td>2017</td>\n",
       "      <td>California</td>\n",
       "      <td>232.262941</td>\n",
       "      <td>Mathematics</td>\n",
       "      <td>4</td>\n",
       "    </tr>\n",
       "  </tbody>\n",
       "</table>\n",
       "</div>"
      ],
      "text/plain": [
       "   year       state       score test_subject  grade\n",
       "0  2017     Alabama  232.170688  Mathematics      4\n",
       "1  2017      Alaska  230.456278  Mathematics      4\n",
       "2  2017     Arizona  234.435788  Mathematics      4\n",
       "3  2017    Arkansas  233.848144  Mathematics      4\n",
       "4  2017  California  232.262941  Mathematics      4"
      ]
     },
     "execution_count": 23,
     "metadata": {},
     "output_type": "execute_result"
    }
   ],
   "source": [
    "\n",
    "naep.head()"
   ]
  },
  {
   "cell_type": "code",
   "execution_count": 24,
   "metadata": {},
   "outputs": [
    {
     "data": {
      "text/html": [
       "<div>\n",
       "<style scoped>\n",
       "    .dataframe tbody tr th:only-of-type {\n",
       "        vertical-align: middle;\n",
       "    }\n",
       "\n",
       "    .dataframe tbody tr th {\n",
       "        vertical-align: top;\n",
       "    }\n",
       "\n",
       "    .dataframe thead th {\n",
       "        text-align: right;\n",
       "    }\n",
       "</style>\n",
       "<table border=\"1\" class=\"dataframe\">\n",
       "  <thead>\n",
       "    <tr style=\"text-align: right;\">\n",
       "      <th></th>\n",
       "      <th>year</th>\n",
       "      <th>state</th>\n",
       "      <th>name</th>\n",
       "      <th>enrollment</th>\n",
       "      <th>total_revenue</th>\n",
       "      <th>federal_revenue</th>\n",
       "      <th>state_revenue</th>\n",
       "      <th>local_revenue</th>\n",
       "      <th>expenditure</th>\n",
       "      <th>current_spending_instruction</th>\n",
       "      <th>current_spending</th>\n",
       "      <th>other_spending</th>\n",
       "      <th>total_capital</th>\n",
       "      <th>score</th>\n",
       "      <th>test_subject</th>\n",
       "      <th>grade</th>\n",
       "    </tr>\n",
       "  </thead>\n",
       "  <tbody>\n",
       "    <tr>\n",
       "      <th>0</th>\n",
       "      <td>1994</td>\n",
       "      <td>California</td>\n",
       "      <td>LOS ANGELES CO OFF OF EDUCATION</td>\n",
       "      <td>0.0</td>\n",
       "      <td>329287.0</td>\n",
       "      <td>114874.0</td>\n",
       "      <td>124991.0</td>\n",
       "      <td>89422.0</td>\n",
       "      <td>334365.0</td>\n",
       "      <td>167855.0</td>\n",
       "      <td>109632.0</td>\n",
       "      <td>36397.0</td>\n",
       "      <td>6925.0</td>\n",
       "      <td>196.764414</td>\n",
       "      <td>Reading</td>\n",
       "      <td>4</td>\n",
       "    </tr>\n",
       "    <tr>\n",
       "      <th>1</th>\n",
       "      <td>1994</td>\n",
       "      <td>California</td>\n",
       "      <td>LOS ANGELES UNIF SCH DIST</td>\n",
       "      <td>639129.0</td>\n",
       "      <td>3813590.0</td>\n",
       "      <td>475847.0</td>\n",
       "      <td>2428837.0</td>\n",
       "      <td>908906.0</td>\n",
       "      <td>3533362.0</td>\n",
       "      <td>1979639.0</td>\n",
       "      <td>1044030.0</td>\n",
       "      <td>346101.0</td>\n",
       "      <td>163227.0</td>\n",
       "      <td>196.764414</td>\n",
       "      <td>Reading</td>\n",
       "      <td>4</td>\n",
       "    </tr>\n",
       "    <tr>\n",
       "      <th>2</th>\n",
       "      <td>1994</td>\n",
       "      <td>California</td>\n",
       "      <td>SAN DIEGO CITY UNIF SCH DIST</td>\n",
       "      <td>127258.0</td>\n",
       "      <td>735898.0</td>\n",
       "      <td>59809.0</td>\n",
       "      <td>297470.0</td>\n",
       "      <td>378619.0</td>\n",
       "      <td>719110.0</td>\n",
       "      <td>381526.0</td>\n",
       "      <td>248378.0</td>\n",
       "      <td>42792.0</td>\n",
       "      <td>46282.0</td>\n",
       "      <td>196.764414</td>\n",
       "      <td>Reading</td>\n",
       "      <td>4</td>\n",
       "    </tr>\n",
       "    <tr>\n",
       "      <th>3</th>\n",
       "      <td>1994</td>\n",
       "      <td>District of Columbia</td>\n",
       "      <td>DC PUBLIC SCHOOLS</td>\n",
       "      <td>80678.0</td>\n",
       "      <td>735720.0</td>\n",
       "      <td>79432.0</td>\n",
       "      <td>0.0</td>\n",
       "      <td>656288.0</td>\n",
       "      <td>769818.0</td>\n",
       "      <td>351028.0</td>\n",
       "      <td>332951.0</td>\n",
       "      <td>63271.0</td>\n",
       "      <td>22568.0</td>\n",
       "      <td>178.557612</td>\n",
       "      <td>Reading</td>\n",
       "      <td>4</td>\n",
       "    </tr>\n",
       "    <tr>\n",
       "      <th>4</th>\n",
       "      <td>1994</td>\n",
       "      <td>Florida</td>\n",
       "      <td>BROWARD CO SCHOOL DIST</td>\n",
       "      <td>189862.0</td>\n",
       "      <td>1217958.0</td>\n",
       "      <td>73252.0</td>\n",
       "      <td>617046.0</td>\n",
       "      <td>527660.0</td>\n",
       "      <td>1239525.0</td>\n",
       "      <td>536199.0</td>\n",
       "      <td>389744.0</td>\n",
       "      <td>85779.0</td>\n",
       "      <td>194480.0</td>\n",
       "      <td>204.882606</td>\n",
       "      <td>Reading</td>\n",
       "      <td>4</td>\n",
       "    </tr>\n",
       "  </tbody>\n",
       "</table>\n",
       "</div>"
      ],
      "text/plain": [
       "   year                 state                             name  enrollment  \\\n",
       "0  1994            California  LOS ANGELES CO OFF OF EDUCATION         0.0   \n",
       "1  1994            California        LOS ANGELES UNIF SCH DIST    639129.0   \n",
       "2  1994            California     SAN DIEGO CITY UNIF SCH DIST    127258.0   \n",
       "3  1994  District of Columbia                DC PUBLIC SCHOOLS     80678.0   \n",
       "4  1994               Florida           BROWARD CO SCHOOL DIST    189862.0   \n",
       "\n",
       "   total_revenue  federal_revenue  state_revenue  local_revenue  expenditure  \\\n",
       "0       329287.0         114874.0       124991.0        89422.0     334365.0   \n",
       "1      3813590.0         475847.0      2428837.0       908906.0    3533362.0   \n",
       "2       735898.0          59809.0       297470.0       378619.0     719110.0   \n",
       "3       735720.0          79432.0            0.0       656288.0     769818.0   \n",
       "4      1217958.0          73252.0       617046.0       527660.0    1239525.0   \n",
       "\n",
       "   current_spending_instruction  current_spending  other_spending  \\\n",
       "0                      167855.0          109632.0         36397.0   \n",
       "1                     1979639.0         1044030.0        346101.0   \n",
       "2                      381526.0          248378.0         42792.0   \n",
       "3                      351028.0          332951.0         63271.0   \n",
       "4                      536199.0          389744.0         85779.0   \n",
       "\n",
       "   total_capital       score test_subject  grade  \n",
       "0         6925.0  196.764414      Reading      4  \n",
       "1       163227.0  196.764414      Reading      4  \n",
       "2        46282.0  196.764414      Reading      4  \n",
       "3        22568.0  178.557612      Reading      4  \n",
       "4       194480.0  204.882606      Reading      4  "
      ]
     },
     "execution_count": 24,
     "metadata": {},
     "output_type": "execute_result"
    }
   ],
   "source": [
    "eduf = pd.merge(districts_new3, naep, on = ['year','state'])\n",
    "eduf.head()"
   ]
  },
  {
   "cell_type": "code",
   "execution_count": 25,
   "metadata": {
    "slideshow": {
     "slide_type": "skip"
    }
   },
   "outputs": [],
   "source": [
    "eduf.to_csv(r'data/edu_data.csv')"
   ]
  },
  {
   "cell_type": "code",
   "execution_count": 26,
   "metadata": {
    "slideshow": {
     "slide_type": "skip"
    }
   },
   "outputs": [],
   "source": [
    "## total revenue, state revenue, adn expenditure are on odd range\n",
    "## missing the unit information to transform the data\n",
    "## suggest drop "
   ]
  },
  {
   "cell_type": "code",
   "execution_count": 361,
   "metadata": {
    "slideshow": {
     "slide_type": "slide"
    }
   },
   "outputs": [
    {
     "data": {
      "text/html": [
       "<div>\n",
       "<style scoped>\n",
       "    .dataframe tbody tr th:only-of-type {\n",
       "        vertical-align: middle;\n",
       "    }\n",
       "\n",
       "    .dataframe tbody tr th {\n",
       "        vertical-align: top;\n",
       "    }\n",
       "\n",
       "    .dataframe thead th {\n",
       "        text-align: right;\n",
       "    }\n",
       "</style>\n",
       "<table border=\"1\" class=\"dataframe\">\n",
       "  <thead>\n",
       "    <tr style=\"text-align: right;\">\n",
       "      <th></th>\n",
       "      <th>year</th>\n",
       "      <th>state</th>\n",
       "      <th>name</th>\n",
       "      <th>enrollment</th>\n",
       "      <th>total_revenue</th>\n",
       "      <th>federal_revenue</th>\n",
       "      <th>state_revenue</th>\n",
       "      <th>local_revenue</th>\n",
       "      <th>expenditure</th>\n",
       "      <th>current_spending_instruction</th>\n",
       "      <th>current_spending</th>\n",
       "      <th>other_spending</th>\n",
       "      <th>total_capital</th>\n",
       "      <th>score</th>\n",
       "      <th>test_subject</th>\n",
       "      <th>grade</th>\n",
       "    </tr>\n",
       "  </thead>\n",
       "  <tbody>\n",
       "    <tr>\n",
       "      <th>0</th>\n",
       "      <td>1994</td>\n",
       "      <td>California</td>\n",
       "      <td>LOS ANGELES CO OFF OF EDUCATION</td>\n",
       "      <td>0.0</td>\n",
       "      <td>329287.0</td>\n",
       "      <td>114874.0</td>\n",
       "      <td>124991.0</td>\n",
       "      <td>89422.0</td>\n",
       "      <td>334365.0</td>\n",
       "      <td>167855.0</td>\n",
       "      <td>109632.0</td>\n",
       "      <td>36397.0</td>\n",
       "      <td>6925.0</td>\n",
       "      <td>196.764414</td>\n",
       "      <td>Reading</td>\n",
       "      <td>4</td>\n",
       "    </tr>\n",
       "    <tr>\n",
       "      <th>1</th>\n",
       "      <td>1994</td>\n",
       "      <td>California</td>\n",
       "      <td>LOS ANGELES UNIF SCH DIST</td>\n",
       "      <td>639129.0</td>\n",
       "      <td>3813590.0</td>\n",
       "      <td>475847.0</td>\n",
       "      <td>2428837.0</td>\n",
       "      <td>908906.0</td>\n",
       "      <td>3533362.0</td>\n",
       "      <td>1979639.0</td>\n",
       "      <td>1044030.0</td>\n",
       "      <td>346101.0</td>\n",
       "      <td>163227.0</td>\n",
       "      <td>196.764414</td>\n",
       "      <td>Reading</td>\n",
       "      <td>4</td>\n",
       "    </tr>\n",
       "    <tr>\n",
       "      <th>2</th>\n",
       "      <td>1994</td>\n",
       "      <td>California</td>\n",
       "      <td>SAN DIEGO CITY UNIF SCH DIST</td>\n",
       "      <td>127258.0</td>\n",
       "      <td>735898.0</td>\n",
       "      <td>59809.0</td>\n",
       "      <td>297470.0</td>\n",
       "      <td>378619.0</td>\n",
       "      <td>719110.0</td>\n",
       "      <td>381526.0</td>\n",
       "      <td>248378.0</td>\n",
       "      <td>42792.0</td>\n",
       "      <td>46282.0</td>\n",
       "      <td>196.764414</td>\n",
       "      <td>Reading</td>\n",
       "      <td>4</td>\n",
       "    </tr>\n",
       "    <tr>\n",
       "      <th>3</th>\n",
       "      <td>1994</td>\n",
       "      <td>District of Columbia</td>\n",
       "      <td>DC PUBLIC SCHOOLS</td>\n",
       "      <td>80678.0</td>\n",
       "      <td>735720.0</td>\n",
       "      <td>79432.0</td>\n",
       "      <td>0.0</td>\n",
       "      <td>656288.0</td>\n",
       "      <td>769818.0</td>\n",
       "      <td>351028.0</td>\n",
       "      <td>332951.0</td>\n",
       "      <td>63271.0</td>\n",
       "      <td>22568.0</td>\n",
       "      <td>178.557612</td>\n",
       "      <td>Reading</td>\n",
       "      <td>4</td>\n",
       "    </tr>\n",
       "    <tr>\n",
       "      <th>4</th>\n",
       "      <td>1994</td>\n",
       "      <td>Florida</td>\n",
       "      <td>BROWARD CO SCHOOL DIST</td>\n",
       "      <td>189862.0</td>\n",
       "      <td>1217958.0</td>\n",
       "      <td>73252.0</td>\n",
       "      <td>617046.0</td>\n",
       "      <td>527660.0</td>\n",
       "      <td>1239525.0</td>\n",
       "      <td>536199.0</td>\n",
       "      <td>389744.0</td>\n",
       "      <td>85779.0</td>\n",
       "      <td>194480.0</td>\n",
       "      <td>204.882606</td>\n",
       "      <td>Reading</td>\n",
       "      <td>4</td>\n",
       "    </tr>\n",
       "  </tbody>\n",
       "</table>\n",
       "</div>"
      ],
      "text/plain": [
       "   year                 state                             name  enrollment  \\\n",
       "0  1994            California  LOS ANGELES CO OFF OF EDUCATION         0.0   \n",
       "1  1994            California        LOS ANGELES UNIF SCH DIST    639129.0   \n",
       "2  1994            California     SAN DIEGO CITY UNIF SCH DIST    127258.0   \n",
       "3  1994  District of Columbia                DC PUBLIC SCHOOLS     80678.0   \n",
       "4  1994               Florida           BROWARD CO SCHOOL DIST    189862.0   \n",
       "\n",
       "   total_revenue  federal_revenue  state_revenue  local_revenue  expenditure  \\\n",
       "0       329287.0         114874.0       124991.0        89422.0     334365.0   \n",
       "1      3813590.0         475847.0      2428837.0       908906.0    3533362.0   \n",
       "2       735898.0          59809.0       297470.0       378619.0     719110.0   \n",
       "3       735720.0          79432.0            0.0       656288.0     769818.0   \n",
       "4      1217958.0          73252.0       617046.0       527660.0    1239525.0   \n",
       "\n",
       "   current_spending_instruction  current_spending  other_spending  \\\n",
       "0                      167855.0          109632.0         36397.0   \n",
       "1                     1979639.0         1044030.0        346101.0   \n",
       "2                      381526.0          248378.0         42792.0   \n",
       "3                      351028.0          332951.0         63271.0   \n",
       "4                      536199.0          389744.0         85779.0   \n",
       "\n",
       "   total_capital       score test_subject  grade  \n",
       "0         6925.0  196.764414      Reading      4  \n",
       "1       163227.0  196.764414      Reading      4  \n",
       "2        46282.0  196.764414      Reading      4  \n",
       "3        22568.0  178.557612      Reading      4  \n",
       "4       194480.0  204.882606      Reading      4  "
      ]
     },
     "execution_count": 361,
     "metadata": {},
     "output_type": "execute_result"
    }
   ],
   "source": [
    "eduf.head()"
   ]
  },
  {
   "cell_type": "markdown",
   "metadata": {
    "slideshow": {
     "slide_type": "skip"
    }
   },
   "source": [
    "##education EDA visualization"
   ]
  },
  {
   "cell_type": "code",
   "execution_count": 362,
   "metadata": {
    "slideshow": {
     "slide_type": "slide"
    }
   },
   "outputs": [
    {
     "data": {
      "text/html": [
       "<div>\n",
       "<style scoped>\n",
       "    .dataframe tbody tr th:only-of-type {\n",
       "        vertical-align: middle;\n",
       "    }\n",
       "\n",
       "    .dataframe tbody tr th {\n",
       "        vertical-align: top;\n",
       "    }\n",
       "\n",
       "    .dataframe thead th {\n",
       "        text-align: right;\n",
       "    }\n",
       "</style>\n",
       "<table border=\"1\" class=\"dataframe\">\n",
       "  <thead>\n",
       "    <tr style=\"text-align: right;\">\n",
       "      <th></th>\n",
       "      <th>year</th>\n",
       "      <th>enrollment</th>\n",
       "      <th>total_revenue</th>\n",
       "      <th>federal_revenue</th>\n",
       "      <th>state_revenue</th>\n",
       "      <th>local_revenue</th>\n",
       "      <th>expenditure</th>\n",
       "      <th>current_spending_instruction</th>\n",
       "      <th>current_spending</th>\n",
       "      <th>other_spending</th>\n",
       "      <th>total_capital</th>\n",
       "      <th>score</th>\n",
       "      <th>grade</th>\n",
       "    </tr>\n",
       "  </thead>\n",
       "  <tbody>\n",
       "    <tr>\n",
       "      <th>year</th>\n",
       "      <td>1.000000</td>\n",
       "      <td>-0.176945</td>\n",
       "      <td>-0.039407</td>\n",
       "      <td>-0.024318</td>\n",
       "      <td>-0.058719</td>\n",
       "      <td>-0.019887</td>\n",
       "      <td>-0.042459</td>\n",
       "      <td>-0.027907</td>\n",
       "      <td>-0.057108</td>\n",
       "      <td>-0.091002</td>\n",
       "      <td>-0.079319</td>\n",
       "      <td>0.155699</td>\n",
       "      <td>0.019577</td>\n",
       "    </tr>\n",
       "    <tr>\n",
       "      <th>enrollment</th>\n",
       "      <td>-0.176945</td>\n",
       "      <td>1.000000</td>\n",
       "      <td>0.902879</td>\n",
       "      <td>0.868165</td>\n",
       "      <td>0.902086</td>\n",
       "      <td>0.815687</td>\n",
       "      <td>0.904216</td>\n",
       "      <td>0.860274</td>\n",
       "      <td>0.941326</td>\n",
       "      <td>0.951188</td>\n",
       "      <td>0.863639</td>\n",
       "      <td>-0.018320</td>\n",
       "      <td>-0.005029</td>\n",
       "    </tr>\n",
       "    <tr>\n",
       "      <th>total_revenue</th>\n",
       "      <td>-0.039407</td>\n",
       "      <td>0.902879</td>\n",
       "      <td>1.000000</td>\n",
       "      <td>0.917869</td>\n",
       "      <td>0.958876</td>\n",
       "      <td>0.952118</td>\n",
       "      <td>0.998196</td>\n",
       "      <td>0.988210</td>\n",
       "      <td>0.971238</td>\n",
       "      <td>0.911038</td>\n",
       "      <td>0.919154</td>\n",
       "      <td>0.007067</td>\n",
       "      <td>-0.000797</td>\n",
       "    </tr>\n",
       "    <tr>\n",
       "      <th>federal_revenue</th>\n",
       "      <td>-0.024318</td>\n",
       "      <td>0.868165</td>\n",
       "      <td>0.917869</td>\n",
       "      <td>1.000000</td>\n",
       "      <td>0.903667</td>\n",
       "      <td>0.816075</td>\n",
       "      <td>0.914874</td>\n",
       "      <td>0.884147</td>\n",
       "      <td>0.925755</td>\n",
       "      <td>0.898340</td>\n",
       "      <td>0.853129</td>\n",
       "      <td>-0.002246</td>\n",
       "      <td>-0.000416</td>\n",
       "    </tr>\n",
       "    <tr>\n",
       "      <th>state_revenue</th>\n",
       "      <td>-0.058719</td>\n",
       "      <td>0.902086</td>\n",
       "      <td>0.958876</td>\n",
       "      <td>0.903667</td>\n",
       "      <td>1.000000</td>\n",
       "      <td>0.829721</td>\n",
       "      <td>0.954947</td>\n",
       "      <td>0.928328</td>\n",
       "      <td>0.955879</td>\n",
       "      <td>0.918368</td>\n",
       "      <td>0.903232</td>\n",
       "      <td>-0.002641</td>\n",
       "      <td>-0.000915</td>\n",
       "    </tr>\n",
       "    <tr>\n",
       "      <th>local_revenue</th>\n",
       "      <td>-0.019887</td>\n",
       "      <td>0.815687</td>\n",
       "      <td>0.952118</td>\n",
       "      <td>0.816075</td>\n",
       "      <td>0.829721</td>\n",
       "      <td>1.000000</td>\n",
       "      <td>0.952827</td>\n",
       "      <td>0.964620</td>\n",
       "      <td>0.893302</td>\n",
       "      <td>0.810219</td>\n",
       "      <td>0.851853</td>\n",
       "      <td>0.017790</td>\n",
       "      <td>-0.000683</td>\n",
       "    </tr>\n",
       "    <tr>\n",
       "      <th>expenditure</th>\n",
       "      <td>-0.042459</td>\n",
       "      <td>0.904216</td>\n",
       "      <td>0.998196</td>\n",
       "      <td>0.914874</td>\n",
       "      <td>0.954947</td>\n",
       "      <td>0.952827</td>\n",
       "      <td>1.000000</td>\n",
       "      <td>0.990151</td>\n",
       "      <td>0.968666</td>\n",
       "      <td>0.909028</td>\n",
       "      <td>0.928376</td>\n",
       "      <td>0.007376</td>\n",
       "      <td>-0.000751</td>\n",
       "    </tr>\n",
       "    <tr>\n",
       "      <th>current_spending_instruction</th>\n",
       "      <td>-0.027907</td>\n",
       "      <td>0.860274</td>\n",
       "      <td>0.988210</td>\n",
       "      <td>0.884147</td>\n",
       "      <td>0.928328</td>\n",
       "      <td>0.964620</td>\n",
       "      <td>0.990151</td>\n",
       "      <td>1.000000</td>\n",
       "      <td>0.931292</td>\n",
       "      <td>0.860004</td>\n",
       "      <td>0.890561</td>\n",
       "      <td>0.011458</td>\n",
       "      <td>-0.000699</td>\n",
       "    </tr>\n",
       "    <tr>\n",
       "      <th>current_spending</th>\n",
       "      <td>-0.057108</td>\n",
       "      <td>0.941326</td>\n",
       "      <td>0.971238</td>\n",
       "      <td>0.925755</td>\n",
       "      <td>0.955879</td>\n",
       "      <td>0.893302</td>\n",
       "      <td>0.968666</td>\n",
       "      <td>0.931292</td>\n",
       "      <td>1.000000</td>\n",
       "      <td>0.950900</td>\n",
       "      <td>0.912316</td>\n",
       "      <td>0.003747</td>\n",
       "      <td>-0.001218</td>\n",
       "    </tr>\n",
       "    <tr>\n",
       "      <th>other_spending</th>\n",
       "      <td>-0.091002</td>\n",
       "      <td>0.951188</td>\n",
       "      <td>0.911038</td>\n",
       "      <td>0.898340</td>\n",
       "      <td>0.918368</td>\n",
       "      <td>0.810219</td>\n",
       "      <td>0.909028</td>\n",
       "      <td>0.860004</td>\n",
       "      <td>0.950900</td>\n",
       "      <td>1.000000</td>\n",
       "      <td>0.864929</td>\n",
       "      <td>-0.007847</td>\n",
       "      <td>-0.002775</td>\n",
       "    </tr>\n",
       "    <tr>\n",
       "      <th>total_capital</th>\n",
       "      <td>-0.079319</td>\n",
       "      <td>0.863639</td>\n",
       "      <td>0.919154</td>\n",
       "      <td>0.853129</td>\n",
       "      <td>0.903232</td>\n",
       "      <td>0.851853</td>\n",
       "      <td>0.928376</td>\n",
       "      <td>0.890561</td>\n",
       "      <td>0.912316</td>\n",
       "      <td>0.864929</td>\n",
       "      <td>1.000000</td>\n",
       "      <td>-0.007786</td>\n",
       "      <td>0.000359</td>\n",
       "    </tr>\n",
       "    <tr>\n",
       "      <th>score</th>\n",
       "      <td>0.155699</td>\n",
       "      <td>-0.018320</td>\n",
       "      <td>0.007067</td>\n",
       "      <td>-0.002246</td>\n",
       "      <td>-0.002641</td>\n",
       "      <td>0.017790</td>\n",
       "      <td>0.007376</td>\n",
       "      <td>0.011458</td>\n",
       "      <td>0.003747</td>\n",
       "      <td>-0.007847</td>\n",
       "      <td>-0.007786</td>\n",
       "      <td>1.000000</td>\n",
       "      <td>0.873096</td>\n",
       "    </tr>\n",
       "    <tr>\n",
       "      <th>grade</th>\n",
       "      <td>0.019577</td>\n",
       "      <td>-0.005029</td>\n",
       "      <td>-0.000797</td>\n",
       "      <td>-0.000416</td>\n",
       "      <td>-0.000915</td>\n",
       "      <td>-0.000683</td>\n",
       "      <td>-0.000751</td>\n",
       "      <td>-0.000699</td>\n",
       "      <td>-0.001218</td>\n",
       "      <td>-0.002775</td>\n",
       "      <td>0.000359</td>\n",
       "      <td>0.873096</td>\n",
       "      <td>1.000000</td>\n",
       "    </tr>\n",
       "  </tbody>\n",
       "</table>\n",
       "</div>"
      ],
      "text/plain": [
       "                                  year  enrollment  total_revenue  \\\n",
       "year                          1.000000   -0.176945      -0.039407   \n",
       "enrollment                   -0.176945    1.000000       0.902879   \n",
       "total_revenue                -0.039407    0.902879       1.000000   \n",
       "federal_revenue              -0.024318    0.868165       0.917869   \n",
       "state_revenue                -0.058719    0.902086       0.958876   \n",
       "local_revenue                -0.019887    0.815687       0.952118   \n",
       "expenditure                  -0.042459    0.904216       0.998196   \n",
       "current_spending_instruction -0.027907    0.860274       0.988210   \n",
       "current_spending             -0.057108    0.941326       0.971238   \n",
       "other_spending               -0.091002    0.951188       0.911038   \n",
       "total_capital                -0.079319    0.863639       0.919154   \n",
       "score                         0.155699   -0.018320       0.007067   \n",
       "grade                         0.019577   -0.005029      -0.000797   \n",
       "\n",
       "                              federal_revenue  state_revenue  local_revenue  \\\n",
       "year                                -0.024318      -0.058719      -0.019887   \n",
       "enrollment                           0.868165       0.902086       0.815687   \n",
       "total_revenue                        0.917869       0.958876       0.952118   \n",
       "federal_revenue                      1.000000       0.903667       0.816075   \n",
       "state_revenue                        0.903667       1.000000       0.829721   \n",
       "local_revenue                        0.816075       0.829721       1.000000   \n",
       "expenditure                          0.914874       0.954947       0.952827   \n",
       "current_spending_instruction         0.884147       0.928328       0.964620   \n",
       "current_spending                     0.925755       0.955879       0.893302   \n",
       "other_spending                       0.898340       0.918368       0.810219   \n",
       "total_capital                        0.853129       0.903232       0.851853   \n",
       "score                               -0.002246      -0.002641       0.017790   \n",
       "grade                               -0.000416      -0.000915      -0.000683   \n",
       "\n",
       "                              expenditure  current_spending_instruction  \\\n",
       "year                            -0.042459                     -0.027907   \n",
       "enrollment                       0.904216                      0.860274   \n",
       "total_revenue                    0.998196                      0.988210   \n",
       "federal_revenue                  0.914874                      0.884147   \n",
       "state_revenue                    0.954947                      0.928328   \n",
       "local_revenue                    0.952827                      0.964620   \n",
       "expenditure                      1.000000                      0.990151   \n",
       "current_spending_instruction     0.990151                      1.000000   \n",
       "current_spending                 0.968666                      0.931292   \n",
       "other_spending                   0.909028                      0.860004   \n",
       "total_capital                    0.928376                      0.890561   \n",
       "score                            0.007376                      0.011458   \n",
       "grade                           -0.000751                     -0.000699   \n",
       "\n",
       "                              current_spending  other_spending  total_capital  \\\n",
       "year                                 -0.057108       -0.091002      -0.079319   \n",
       "enrollment                            0.941326        0.951188       0.863639   \n",
       "total_revenue                         0.971238        0.911038       0.919154   \n",
       "federal_revenue                       0.925755        0.898340       0.853129   \n",
       "state_revenue                         0.955879        0.918368       0.903232   \n",
       "local_revenue                         0.893302        0.810219       0.851853   \n",
       "expenditure                           0.968666        0.909028       0.928376   \n",
       "current_spending_instruction          0.931292        0.860004       0.890561   \n",
       "current_spending                      1.000000        0.950900       0.912316   \n",
       "other_spending                        0.950900        1.000000       0.864929   \n",
       "total_capital                         0.912316        0.864929       1.000000   \n",
       "score                                 0.003747       -0.007847      -0.007786   \n",
       "grade                                -0.001218       -0.002775       0.000359   \n",
       "\n",
       "                                 score     grade  \n",
       "year                          0.155699  0.019577  \n",
       "enrollment                   -0.018320 -0.005029  \n",
       "total_revenue                 0.007067 -0.000797  \n",
       "federal_revenue              -0.002246 -0.000416  \n",
       "state_revenue                -0.002641 -0.000915  \n",
       "local_revenue                 0.017790 -0.000683  \n",
       "expenditure                   0.007376 -0.000751  \n",
       "current_spending_instruction  0.011458 -0.000699  \n",
       "current_spending              0.003747 -0.001218  \n",
       "other_spending               -0.007847 -0.002775  \n",
       "total_capital                -0.007786  0.000359  \n",
       "score                         1.000000  0.873096  \n",
       "grade                         0.873096  1.000000  "
      ]
     },
     "execution_count": 362,
     "metadata": {},
     "output_type": "execute_result"
    }
   ],
   "source": [
    "eduf.corr()"
   ]
  },
  {
   "cell_type": "markdown",
   "metadata": {
    "slideshow": {
     "slide_type": "skip"
    }
   },
   "source": [
    "##heat map indicated poor correlation between score and enrollment and features"
   ]
  },
  {
   "cell_type": "code",
   "execution_count": 381,
   "metadata": {
    "slideshow": {
     "slide_type": "slide"
    }
   },
   "outputs": [
    {
     "data": {
      "text/plain": [
       "<seaborn.axisgrid.PairGrid at 0x183a05b7d08>"
      ]
     },
     "execution_count": 381,
     "metadata": {},
     "output_type": "execute_result"
    },
    {
     "data": {
      "image/png": "[encoded data removed]",
      "text/plain": [
       "<Figure size 1080x1080 with 42 Axes>"
      ]
     },
     "metadata": {},
     "output_type": "display_data"
    }
   ],
   "source": [
    "sns.pairplot(eduf[['total_revenue','federal_revenue','expenditure','current_spending_instruction','current_spending','other_spending']]) "
   ]
  },
  {
   "cell_type": "code",
   "execution_count": 202,
   "metadata": {},
   "outputs": [],
   "source": [
    "##feature EDA"
   ]
  },
  {
   "cell_type": "code",
   "execution_count": 33,
   "metadata": {},
   "outputs": [
    {
     "name": "stderr",
     "output_type": "stream",
     "text": [
      "C:\\Users\\zhang\\anaconda3\\lib\\site-packages\\ipykernel_launcher.py:1: FutureWarning: Indexing with multiple keys (implicitly converted to a tuple of keys) will be deprecated, use a list instead.\n",
      "  \"\"\"Entry point for launching an IPython kernel.\n"
     ]
    }
   ],
   "source": [
    "by_year = eduf.groupby('year')['total_revenue','federal_revenue','expenditure','current_spending_instruction','current_spending','other_spending'].mean()"
   ]
  },
  {
   "cell_type": "code",
   "execution_count": 27,
   "metadata": {
    "slideshow": {
     "slide_type": "slide"
    }
   },
   "outputs": [
    {
     "ename": "NameError",
     "evalue": "name 'by_year' is not defined",
     "output_type": "error",
     "traceback": [
      "\u001b[1;31m---------------------------------------------------------------------------\u001b[0m",
      "\u001b[1;31mNameError\u001b[0m                                 Traceback (most recent call last)",
      "\u001b[1;32m<ipython-input-27-4862f67c1388>\u001b[0m in \u001b[0;36m<module>\u001b[1;34m\u001b[0m\n\u001b[1;32m----> 1\u001b[1;33m \u001b[0mplt\u001b[0m\u001b[1;33m.\u001b[0m\u001b[0mplot\u001b[0m\u001b[1;33m(\u001b[0m\u001b[0mby_year\u001b[0m\u001b[1;33m[\u001b[0m\u001b[1;34m'total_revenue'\u001b[0m\u001b[1;33m]\u001b[0m\u001b[1;33m,\u001b[0m \u001b[0mcolor\u001b[0m\u001b[1;33m=\u001b[0m\u001b[1;34m'red'\u001b[0m\u001b[1;33m)\u001b[0m\u001b[1;33m\u001b[0m\u001b[1;33m\u001b[0m\u001b[0m\n\u001b[0m\u001b[0;32m      2\u001b[0m \u001b[0mplt\u001b[0m\u001b[1;33m.\u001b[0m\u001b[0mplot\u001b[0m\u001b[1;33m(\u001b[0m\u001b[0mby_year\u001b[0m\u001b[1;33m[\u001b[0m\u001b[1;34m'federal_revenue'\u001b[0m\u001b[1;33m]\u001b[0m\u001b[1;33m,\u001b[0m \u001b[0mcolor\u001b[0m\u001b[1;33m=\u001b[0m\u001b[1;34m'orange'\u001b[0m\u001b[1;33m,\u001b[0m \u001b[0mlabel\u001b[0m\u001b[1;33m=\u001b[0m\u001b[1;34m'federal_revenue'\u001b[0m\u001b[1;33m)\u001b[0m\u001b[1;33m\u001b[0m\u001b[1;33m\u001b[0m\u001b[0m\n\u001b[0;32m      3\u001b[0m \u001b[0mplt\u001b[0m\u001b[1;33m.\u001b[0m\u001b[0mplot\u001b[0m\u001b[1;33m(\u001b[0m\u001b[0mby_year\u001b[0m\u001b[1;33m[\u001b[0m\u001b[1;34m'expenditure'\u001b[0m\u001b[1;33m]\u001b[0m\u001b[1;33m,\u001b[0m \u001b[0mcolor\u001b[0m\u001b[1;33m=\u001b[0m\u001b[1;34m'green'\u001b[0m\u001b[1;33m)\u001b[0m\u001b[1;33m\u001b[0m\u001b[1;33m\u001b[0m\u001b[0m\n\u001b[0;32m      4\u001b[0m \u001b[0mplt\u001b[0m\u001b[1;33m.\u001b[0m\u001b[0mplot\u001b[0m\u001b[1;33m(\u001b[0m\u001b[0mby_year\u001b[0m\u001b[1;33m[\u001b[0m\u001b[1;34m'current_spending_instruction'\u001b[0m\u001b[1;33m]\u001b[0m\u001b[1;33m,\u001b[0m \u001b[0mcolor\u001b[0m\u001b[1;33m=\u001b[0m\u001b[1;34m'blue'\u001b[0m\u001b[1;33m)\u001b[0m\u001b[1;33m\u001b[0m\u001b[1;33m\u001b[0m\u001b[0m\n\u001b[0;32m      5\u001b[0m \u001b[0mplt\u001b[0m\u001b[1;33m.\u001b[0m\u001b[0mplot\u001b[0m\u001b[1;33m(\u001b[0m\u001b[0mby_year\u001b[0m\u001b[1;33m[\u001b[0m\u001b[1;34m'current_spending'\u001b[0m\u001b[1;33m]\u001b[0m\u001b[1;33m,\u001b[0m \u001b[0mcolor\u001b[0m\u001b[1;33m=\u001b[0m\u001b[1;34m'grey'\u001b[0m\u001b[1;33m)\u001b[0m\u001b[1;33m\u001b[0m\u001b[1;33m\u001b[0m\u001b[0m\n",
      "\u001b[1;31mNameError\u001b[0m: name 'by_year' is not defined"
     ]
    }
   ],
   "source": [
    "plt.plot(by_year['total_revenue'], color='red')\n",
    "plt.plot(by_year['federal_revenue'], color='orange', label='federal_revenue')\n",
    "plt.plot(by_year['expenditure'], color='green')\n",
    "plt.plot(by_year['current_spending_instruction'], color='blue')\n",
    "plt.plot(by_year['current_spending'], color='grey')\n",
    "plt.plot(by_year['other_spending'], color='black')\n",
    "plt.legend(['total_revenue','federal_revenue','expenditure','current_spending_instruction','current_spending','other_spending'], loc = 1)\n",
    "plt.grid(b=None)\n",
    "plt.xlabel('year')\n",
    "plt.ylabel('Revenue')\n",
    "plt.title('All Features Growth by year')\n",
    "plt.savefig('data/features_by_year.png', transparent=True,dpi=300, bbox_inches='tight')\n",
    "plt.show()"
   ]
  },
  {
   "cell_type": "code",
   "execution_count": 44,
   "metadata": {},
   "outputs": [],
   "source": [
    "import matplotlib.ticker as mtick"
   ]
  },
  {
   "cell_type": "code",
   "execution_count": 48,
   "metadata": {
    "slideshow": {
     "slide_type": "slide"
    }
   },
   "outputs": [
    {
     "data": {
      "image/png": "[encoded data removed]",
      "text/plain": [
       "<Figure size 720x360 with 1 Axes>"
      ]
     },
     "metadata": {},
     "output_type": "display_data"
    }
   ],
   "source": [
    "##percentage break down\n",
    "by_year['current_spending_percentage'] = by_year['current_spending'] / by_year['expenditure']\n",
    "by_year['federal_revenue_percentage'] = by_year['federal_revenue'] / by_year['total_revenue']\n",
    "by_year['current_spending_instruction_percentage'] = by_year['current_spending_instruction'] / by_year['expenditure']\n",
    "by_year['other_spending_percentage'] = by_year['other_spending'] / by_year['expenditure']\n",
    "ax = plt.subplots(1, 1, figsize=(10,5))\n",
    "p1 = plt.plot(by_year['federal_revenue_percentage'], color='orange', label='federal_revenue')\n",
    "p2 = plt.plot(by_year['current_spending_instruction_percentage'], color='blue')\n",
    "p3 = plt.plot(by_year['current_spending_percentage'], color='red')\n",
    "p4 = plt.plot(by_year['other_spending_percentage'], color='black')\n",
    "plt.legend(['federal_revenue','current_spending_instruction','current_spending','other_spending'], loc = 1)\n",
    "plt.grid(b=None)\n",
    "plt.gca().yaxis.set_major_formatter(mtick.PercentFormatter(1.0))\n",
    "plt.xlabel('year')\n",
    "plt.ylabel('Revenue and Expenditure')\n",
    "plt.title('All Features Percentage Growth by year')\n",
    "plt.savefig('data/feature_pct.png', dpi=300, bbox_inches='tight')\n",
    "plt.show()"
   ]
  },
  {
   "cell_type": "code",
   "execution_count": 30,
   "metadata": {
    "slideshow": {
     "slide_type": "skip"
    }
   },
   "outputs": [
    {
     "name": "stderr",
     "output_type": "stream",
     "text": [
      "C:\\Users\\zhang\\anaconda3\\lib\\site-packages\\numpy\\core\\_asarray.py:83: VisibleDeprecationWarning: Creating an ndarray from ragged nested sequences (which is a list-or-tuple of lists-or-tuples-or ndarrays with different lengths or shapes) is deprecated. If you meant to do this, you must specify 'dtype=object' when creating the ndarray\n",
      "  return array(a, dtype, copy=False, order=order)\n"
     ]
    },
    {
     "data": {
      "image/png": "[encoded data removed]",
      "text/plain": [
       "<Figure size 576x432 with 1 Axes>"
      ]
     },
     "metadata": {},
     "output_type": "display_data"
    }
   ],
   "source": [
    "# Box plot of score, grouped by season\n",
    "eduf.boxplot(column='enrollment', by='year')\n",
    "plt.grid(b=None)\n",
    "plt.savefig('data/enrollment_box.png', transparent=True,dpi=300, bbox_inches='tight')\n",
    "plt.show()"
   ]
  },
  {
   "cell_type": "code",
   "execution_count": 74,
   "metadata": {
    "slideshow": {
     "slide_type": "skip"
    }
   },
   "outputs": [],
   "source": [
    "##scatter plots of all correlation\n",
    "feature_cols =['total_revenue','federal_revenue','state_revenue','expenditure','current_spending_instruction','current_spending','other_spending','total_capital']"
   ]
  },
  {
   "cell_type": "code",
   "execution_count": 383,
   "metadata": {
    "slideshow": {
     "slide_type": "slide"
    }
   },
   "outputs": [
    {
     "data": {
      "image/png": "[encoded data removed]",
      "text/plain": [
       "<Figure size 1080x180 with 6 Axes>"
      ]
     },
     "metadata": {},
     "output_type": "display_data"
    }
   ],
   "source": [
    "sns.pairplot(eduf, x_vars=feature_cols, y_vars='enrollment', kind='reg');\n",
    "plt.grid(b=None)\n",
    "plt.savefig('data/enrollment_corr.png', transparent=True,dpi=300, bbox_inches='tight')\n",
    "plt.show()"
   ]
  },
  {
   "cell_type": "code",
   "execution_count": 380,
   "metadata": {
    "slideshow": {
     "slide_type": "skip"
    }
   },
   "outputs": [
    {
     "data": {
      "image/png": "[encoded data removed]",
      "text/plain": [
       "<Figure size 576x432 with 1 Axes>"
      ]
     },
     "metadata": {},
     "output_type": "display_data"
    }
   ],
   "source": [
    "fig = eduf.plot(x ='year', y = 'enrollment', kind = 'line', markerfacecolor=None);\n",
    "plt.grid(b=None)\n",
    "plt.savefig('data/enrollment_by_year.png', transparent=True, dpi=300, bbox_inches='tight')\n",
    "plt.show()"
   ]
  },
  {
   "cell_type": "code",
   "execution_count": 372,
   "metadata": {},
   "outputs": [
    {
     "data": {
      "image/png": "[encoded data removed]",
      "text/plain": [
       "<Figure size 576x432 with 2 Axes>"
      ]
     },
     "metadata": {},
     "output_type": "display_data"
    }
   ],
   "source": [
    "sns.heatmap(eduf.drop(['year', 'score','grade'],axis = 1).corr(), vmin=-1, vmax=1)\n",
    "plt.savefig('data/heatmap.png', transparent=True,dpi=300, bbox_inches='tight')\n",
    "plt.grid(b=None)\n",
    "plt.show()"
   ]
  },
  {
   "cell_type": "code",
   "execution_count": 75,
   "metadata": {
    "slideshow": {
     "slide_type": "slide"
    }
   },
   "outputs": [],
   "source": [
    "# Create X and y.\n",
    "X = eduf[feature_cols]\n",
    "y = eduf.enrollment"
   ]
  },
  {
   "cell_type": "code",
   "execution_count": 390,
   "metadata": {},
   "outputs": [
    {
     "name": "stdout",
     "output_type": "stream",
     "text": [
      "                            OLS Regression Results                            \n",
      "==============================================================================\n",
      "Dep. Variable:             enrollment   R-squared:                       0.924\n",
      "Model:                            OLS   Adj. R-squared:                  0.924\n",
      "Method:                 Least Squares   F-statistic:                     7784.\n",
      "Date:                Sat, 13 Feb 2021   Prob (F-statistic):               0.00\n",
      "Time:                        18:41:33   Log-Likelihood:                -45890.\n",
      "No. Observations:                3855   AIC:                         9.179e+04\n",
      "Df Residuals:                    3848   BIC:                         9.184e+04\n",
      "Df Model:                           6                                         \n",
      "Covariance Type:            nonrobust                                         \n",
      "================================================================================================\n",
      "                                   coef    std err          t      P>|t|      [0.025      0.975]\n",
      "------------------------------------------------------------------------------------------------\n",
      "const                         4230.3263    814.701      5.192      0.000    2633.039    5827.613\n",
      "total_revenue                   -0.0724      0.005    -13.166      0.000      -0.083      -0.062\n",
      "federal_revenue                 -0.0502      0.008     -6.654      0.000      -0.065      -0.035\n",
      "expenditure                      0.0493      0.006      8.693      0.000       0.038       0.060\n",
      "current_spending_instruction     0.0159      0.006      2.781      0.005       0.005       0.027\n",
      "current_spending                 0.1727      0.010     16.700      0.000       0.152       0.193\n",
      "other_spending                   1.0255      0.027     38.685      0.000       0.974       1.077\n",
      "==============================================================================\n",
      "Omnibus:                     2230.006   Durbin-Watson:                   0.582\n",
      "Prob(Omnibus):                  0.000   Jarque-Bera (JB):           136071.575\n",
      "Skew:                           1.988   Prob(JB):                         0.00\n",
      "Kurtosis:                      31.833   Cond. No.                     5.17e+06\n",
      "==============================================================================\n",
      "\n",
      "Warnings:\n",
      "[1] Standard Errors assume that the covariance matrix of the errors is correctly specified.\n",
      "[2] The condition number is large, 5.17e+06. This might indicate that there are\n",
      "strong multicollinearity or other numerical problems.\n"
     ]
    },
    {
     "ename": "NameError",
     "evalue": "name 'pdf' is not defined",
     "output_type": "error",
     "traceback": [
      "\u001b[1;31m---------------------------------------------------------------------------\u001b[0m",
      "\u001b[1;31mNameError\u001b[0m                                 Traceback (most recent call last)",
      "\u001b[1;32m<ipython-input-390-c8bad0a8b594>\u001b[0m in \u001b[0;36m<module>\u001b[1;34m\u001b[0m\n\u001b[0;32m      3\u001b[0m \u001b[0mest2\u001b[0m \u001b[1;33m=\u001b[0m \u001b[0mest\u001b[0m\u001b[1;33m.\u001b[0m\u001b[0mfit\u001b[0m\u001b[1;33m(\u001b[0m\u001b[1;33m)\u001b[0m\u001b[1;33m\u001b[0m\u001b[1;33m\u001b[0m\u001b[0m\n\u001b[0;32m      4\u001b[0m \u001b[0mprint\u001b[0m\u001b[1;33m(\u001b[0m\u001b[0mest2\u001b[0m\u001b[1;33m.\u001b[0m\u001b[0msummary\u001b[0m\u001b[1;33m(\u001b[0m\u001b[1;33m)\u001b[0m\u001b[1;33m)\u001b[0m\u001b[1;33m\u001b[0m\u001b[1;33m\u001b[0m\u001b[0m\n\u001b[1;32m----> 5\u001b[1;33m \u001b[0mpdf\u001b[0m\u001b[1;33m.\u001b[0m\u001b[0moutput\u001b[0m\u001b[1;33m(\u001b[0m\u001b[1;34m\"data/regression.pdf\"\u001b[0m\u001b[1;33m)\u001b[0m\u001b[1;33m\u001b[0m\u001b[1;33m\u001b[0m\u001b[0m\n\u001b[0m",
      "\u001b[1;31mNameError\u001b[0m: name 'pdf' is not defined"
     ]
    }
   ],
   "source": [
    "X2 = sm.add_constant(X)\n",
    "est = sm.OLS(y, X2)\n",
    "est2 = est.fit()\n",
    "print(est2.summary())\n",
    "pdf.output(\"data/regression.pdf\")"
   ]
  },
  {
   "cell_type": "code",
   "execution_count": 77,
   "metadata": {
    "slideshow": {
     "slide_type": "skip"
    }
   },
   "outputs": [],
   "source": [
    "##scatter plots of all correlation\n",
    "feature_cols1 =['total_revenue','federal_revenue','expenditure','current_spending_instruction','current_spending','other_spending']"
   ]
  },
  {
   "cell_type": "code",
   "execution_count": 78,
   "metadata": {
    "slideshow": {
     "slide_type": "skip"
    }
   },
   "outputs": [],
   "source": [
    "##build linear regression for prediction"
   ]
  },
  {
   "cell_type": "code",
   "execution_count": 79,
   "metadata": {},
   "outputs": [],
   "source": [
    "X = eduf[feature_cols1]\n",
    "y = eduf.enrollment"
   ]
  },
  {
   "cell_type": "code",
   "execution_count": 268,
   "metadata": {
    "slideshow": {
     "slide_type": "slide"
    }
   },
   "outputs": [
    {
     "data": {
      "text/html": [
       "<div>\n",
       "<style scoped>\n",
       "    .dataframe tbody tr th:only-of-type {\n",
       "        vertical-align: middle;\n",
       "    }\n",
       "\n",
       "    .dataframe tbody tr th {\n",
       "        vertical-align: top;\n",
       "    }\n",
       "\n",
       "    .dataframe thead th {\n",
       "        text-align: right;\n",
       "    }\n",
       "</style>\n",
       "<table border=\"1\" class=\"dataframe\">\n",
       "  <thead>\n",
       "    <tr style=\"text-align: right;\">\n",
       "      <th></th>\n",
       "      <th>total_revenue</th>\n",
       "      <th>federal_revenue</th>\n",
       "      <th>expenditure</th>\n",
       "      <th>current_spending_instruction</th>\n",
       "      <th>current_spending</th>\n",
       "      <th>other_spending</th>\n",
       "    </tr>\n",
       "  </thead>\n",
       "  <tbody>\n",
       "    <tr>\n",
       "      <th>count</th>\n",
       "      <td>3.855000e+03</td>\n",
       "      <td>3.855000e+03</td>\n",
       "      <td>3.855000e+03</td>\n",
       "      <td>3.855000e+03</td>\n",
       "      <td>3.855000e+03</td>\n",
       "      <td>3855.000000</td>\n",
       "    </tr>\n",
       "    <tr>\n",
       "      <th>mean</th>\n",
       "      <td>1.079346e+06</td>\n",
       "      <td>1.325096e+05</td>\n",
       "      <td>1.107774e+06</td>\n",
       "      <td>5.827077e+05</td>\n",
       "      <td>3.089959e+05</td>\n",
       "      <td>52587.742672</td>\n",
       "    </tr>\n",
       "    <tr>\n",
       "      <th>std</th>\n",
       "      <td>1.989207e+06</td>\n",
       "      <td>2.122858e+05</td>\n",
       "      <td>2.131881e+06</td>\n",
       "      <td>1.375229e+06</td>\n",
       "      <td>4.353089e+05</td>\n",
       "      <td>76292.536175</td>\n",
       "    </tr>\n",
       "    <tr>\n",
       "      <th>min</th>\n",
       "      <td>7.708900e+04</td>\n",
       "      <td>5.001900e+04</td>\n",
       "      <td>3.525100e+04</td>\n",
       "      <td>8.220000e+02</td>\n",
       "      <td>1.801900e+04</td>\n",
       "      <td>0.000000</td>\n",
       "    </tr>\n",
       "    <tr>\n",
       "      <th>25%</th>\n",
       "      <td>4.392340e+05</td>\n",
       "      <td>6.074900e+04</td>\n",
       "      <td>4.355470e+05</td>\n",
       "      <td>2.242330e+05</td>\n",
       "      <td>1.318020e+05</td>\n",
       "      <td>21889.000000</td>\n",
       "    </tr>\n",
       "    <tr>\n",
       "      <th>50%</th>\n",
       "      <td>6.131440e+05</td>\n",
       "      <td>7.725900e+04</td>\n",
       "      <td>6.211730e+05</td>\n",
       "      <td>3.122830e+05</td>\n",
       "      <td>1.921970e+05</td>\n",
       "      <td>32380.000000</td>\n",
       "    </tr>\n",
       "    <tr>\n",
       "      <th>75%</th>\n",
       "      <td>1.065630e+06</td>\n",
       "      <td>1.138840e+05</td>\n",
       "      <td>1.062236e+06</td>\n",
       "      <td>5.418120e+05</td>\n",
       "      <td>3.224060e+05</td>\n",
       "      <td>51355.000000</td>\n",
       "    </tr>\n",
       "    <tr>\n",
       "      <th>max</th>\n",
       "      <td>2.543738e+07</td>\n",
       "      <td>3.120314e+06</td>\n",
       "      <td>2.747789e+07</td>\n",
       "      <td>1.903582e+07</td>\n",
       "      <td>4.694906e+06</td>\n",
       "      <td>673464.000000</td>\n",
       "    </tr>\n",
       "  </tbody>\n",
       "</table>\n",
       "</div>"
      ],
      "text/plain": [
       "       total_revenue  federal_revenue   expenditure  \\\n",
       "count   3.855000e+03     3.855000e+03  3.855000e+03   \n",
       "mean    1.079346e+06     1.325096e+05  1.107774e+06   \n",
       "std     1.989207e+06     2.122858e+05  2.131881e+06   \n",
       "min     7.708900e+04     5.001900e+04  3.525100e+04   \n",
       "25%     4.392340e+05     6.074900e+04  4.355470e+05   \n",
       "50%     6.131440e+05     7.725900e+04  6.211730e+05   \n",
       "75%     1.065630e+06     1.138840e+05  1.062236e+06   \n",
       "max     2.543738e+07     3.120314e+06  2.747789e+07   \n",
       "\n",
       "       current_spending_instruction  current_spending  other_spending  \n",
       "count                  3.855000e+03      3.855000e+03     3855.000000  \n",
       "mean                   5.827077e+05      3.089959e+05    52587.742672  \n",
       "std                    1.375229e+06      4.353089e+05    76292.536175  \n",
       "min                    8.220000e+02      1.801900e+04        0.000000  \n",
       "25%                    2.242330e+05      1.318020e+05    21889.000000  \n",
       "50%                    3.122830e+05      1.921970e+05    32380.000000  \n",
       "75%                    5.418120e+05      3.224060e+05    51355.000000  \n",
       "max                    1.903582e+07      4.694906e+06   673464.000000  "
      ]
     },
     "execution_count": 268,
     "metadata": {},
     "output_type": "execute_result"
    }
   ],
   "source": [
    "X.describe()"
   ]
  },
  {
   "cell_type": "code",
   "execution_count": 269,
   "metadata": {},
   "outputs": [
    {
     "data": {
      "text/plain": [
       "0"
      ]
     },
     "execution_count": 269,
     "metadata": {},
     "output_type": "execute_result"
    }
   ],
   "source": [
    "y.isnull().sum()"
   ]
  },
  {
   "cell_type": "code",
   "execution_count": 270,
   "metadata": {},
   "outputs": [],
   "source": [
    "y.fillna(0, inplace=True)"
   ]
  },
  {
   "cell_type": "code",
   "execution_count": 271,
   "metadata": {},
   "outputs": [
    {
     "data": {
      "text/plain": [
       "total_revenue                   0\n",
       "federal_revenue                 0\n",
       "expenditure                     0\n",
       "current_spending_instruction    0\n",
       "current_spending                0\n",
       "other_spending                  0\n",
       "dtype: int64"
      ]
     },
     "execution_count": 271,
     "metadata": {},
     "output_type": "execute_result"
    }
   ],
   "source": [
    "X.isnull().sum()"
   ]
  },
  {
   "cell_type": "code",
   "execution_count": 272,
   "metadata": {},
   "outputs": [
    {
     "name": "stdout",
     "output_type": "stream",
     "text": [
      "total_revenue                   float64\n",
      "federal_revenue                 float64\n",
      "expenditure                     float64\n",
      "current_spending_instruction    float64\n",
      "current_spending                float64\n",
      "other_spending                  float64\n",
      "dtype: object\n"
     ]
    }
   ],
   "source": [
    "print((X.dtypes))"
   ]
  },
  {
   "cell_type": "code",
   "execution_count": 273,
   "metadata": {},
   "outputs": [
    {
     "name": "stdout",
     "output_type": "stream",
     "text": [
      "(3855, 6)\n"
     ]
    }
   ],
   "source": [
    "print((X.shape))"
   ]
  },
  {
   "cell_type": "code",
   "execution_count": 274,
   "metadata": {},
   "outputs": [
    {
     "data": {
      "text/plain": [
       "<bound method NDFrame.describe of 0            0.0\n",
       "1       639129.0\n",
       "2       127258.0\n",
       "3        80678.0\n",
       "4       189862.0\n",
       "          ...   \n",
       "3850     12650.0\n",
       "3851     77316.0\n",
       "3852     77316.0\n",
       "3853     77316.0\n",
       "3854     77316.0\n",
       "Name: enrollment, Length: 3855, dtype: float64>"
      ]
     },
     "execution_count": 274,
     "metadata": {},
     "output_type": "execute_result"
    }
   ],
   "source": [
    "y.describe"
   ]
  },
  {
   "cell_type": "code",
   "execution_count": 275,
   "metadata": {},
   "outputs": [
    {
     "data": {
      "text/html": [
       "<div>\n",
       "<style scoped>\n",
       "    .dataframe tbody tr th:only-of-type {\n",
       "        vertical-align: middle;\n",
       "    }\n",
       "\n",
       "    .dataframe tbody tr th {\n",
       "        vertical-align: top;\n",
       "    }\n",
       "\n",
       "    .dataframe thead th {\n",
       "        text-align: right;\n",
       "    }\n",
       "</style>\n",
       "<table border=\"1\" class=\"dataframe\">\n",
       "  <thead>\n",
       "    <tr style=\"text-align: right;\">\n",
       "      <th></th>\n",
       "      <th>total_revenue</th>\n",
       "      <th>federal_revenue</th>\n",
       "      <th>expenditure</th>\n",
       "      <th>current_spending_instruction</th>\n",
       "      <th>current_spending</th>\n",
       "      <th>other_spending</th>\n",
       "    </tr>\n",
       "  </thead>\n",
       "  <tbody>\n",
       "    <tr>\n",
       "      <th>total_revenue</th>\n",
       "      <td>1.000000</td>\n",
       "      <td>0.917869</td>\n",
       "      <td>0.998196</td>\n",
       "      <td>0.988210</td>\n",
       "      <td>0.971238</td>\n",
       "      <td>0.911038</td>\n",
       "    </tr>\n",
       "    <tr>\n",
       "      <th>federal_revenue</th>\n",
       "      <td>0.917869</td>\n",
       "      <td>1.000000</td>\n",
       "      <td>0.914874</td>\n",
       "      <td>0.884147</td>\n",
       "      <td>0.925755</td>\n",
       "      <td>0.898340</td>\n",
       "    </tr>\n",
       "    <tr>\n",
       "      <th>expenditure</th>\n",
       "      <td>0.998196</td>\n",
       "      <td>0.914874</td>\n",
       "      <td>1.000000</td>\n",
       "      <td>0.990151</td>\n",
       "      <td>0.968666</td>\n",
       "      <td>0.909028</td>\n",
       "    </tr>\n",
       "    <tr>\n",
       "      <th>current_spending_instruction</th>\n",
       "      <td>0.988210</td>\n",
       "      <td>0.884147</td>\n",
       "      <td>0.990151</td>\n",
       "      <td>1.000000</td>\n",
       "      <td>0.931292</td>\n",
       "      <td>0.860004</td>\n",
       "    </tr>\n",
       "    <tr>\n",
       "      <th>current_spending</th>\n",
       "      <td>0.971238</td>\n",
       "      <td>0.925755</td>\n",
       "      <td>0.968666</td>\n",
       "      <td>0.931292</td>\n",
       "      <td>1.000000</td>\n",
       "      <td>0.950900</td>\n",
       "    </tr>\n",
       "    <tr>\n",
       "      <th>other_spending</th>\n",
       "      <td>0.911038</td>\n",
       "      <td>0.898340</td>\n",
       "      <td>0.909028</td>\n",
       "      <td>0.860004</td>\n",
       "      <td>0.950900</td>\n",
       "      <td>1.000000</td>\n",
       "    </tr>\n",
       "  </tbody>\n",
       "</table>\n",
       "</div>"
      ],
      "text/plain": [
       "                              total_revenue  federal_revenue  expenditure  \\\n",
       "total_revenue                      1.000000         0.917869     0.998196   \n",
       "federal_revenue                    0.917869         1.000000     0.914874   \n",
       "expenditure                        0.998196         0.914874     1.000000   \n",
       "current_spending_instruction       0.988210         0.884147     0.990151   \n",
       "current_spending                   0.971238         0.925755     0.968666   \n",
       "other_spending                     0.911038         0.898340     0.909028   \n",
       "\n",
       "                              current_spending_instruction  current_spending  \\\n",
       "total_revenue                                     0.988210          0.971238   \n",
       "federal_revenue                                   0.884147          0.925755   \n",
       "expenditure                                       0.990151          0.968666   \n",
       "current_spending_instruction                      1.000000          0.931292   \n",
       "current_spending                                  0.931292          1.000000   \n",
       "other_spending                                    0.860004          0.950900   \n",
       "\n",
       "                              other_spending  \n",
       "total_revenue                       0.911038  \n",
       "federal_revenue                     0.898340  \n",
       "expenditure                         0.909028  \n",
       "current_spending_instruction        0.860004  \n",
       "current_spending                    0.950900  \n",
       "other_spending                      1.000000  "
      ]
     },
     "execution_count": 275,
     "metadata": {},
     "output_type": "execute_result"
    }
   ],
   "source": [
    "X.corr()"
   ]
  },
  {
   "cell_type": "code",
   "execution_count": 276,
   "metadata": {},
   "outputs": [
    {
     "name": "stdout",
     "output_type": "stream",
     "text": [
      "<class 'pandas.core.series.Series'>\n"
     ]
    }
   ],
   "source": [
    "# Check y's type.\n",
    "print(type(y))"
   ]
  },
  {
   "cell_type": "code",
   "execution_count": 277,
   "metadata": {
    "slideshow": {
     "slide_type": "skip"
    }
   },
   "outputs": [
    {
     "name": "stdout",
     "output_type": "stream",
     "text": [
      "(3855,)\n"
     ]
    }
   ],
   "source": [
    "print((y.shape))"
   ]
  },
  {
   "cell_type": "code",
   "execution_count": 278,
   "metadata": {
    "slideshow": {
     "slide_type": "skip"
    }
   },
   "outputs": [],
   "source": [
    "## 4 steps\n",
    "## initiate\n",
    "## training \n",
    "## predict\n",
    "## evaluate"
   ]
  },
  {
   "cell_type": "code",
   "execution_count": 93,
   "metadata": {},
   "outputs": [
    {
     "data": {
      "text/plain": [
       "LinearRegression(copy_X=True, fit_intercept=True, n_jobs=None, normalize=False)"
      ]
     },
     "execution_count": 93,
     "metadata": {},
     "output_type": "execute_result"
    }
   ],
   "source": [
    "Xs = eduf[['total_revenue','federal_revenue','expenditure','current_spending_instruction','current_spending','other_spending']]\n",
    "y = eduf['enrollment']\n",
    "lr = LinearRegression()\n",
    "lr.fit(Xs, y)"
   ]
  },
  {
   "cell_type": "code",
   "execution_count": 279,
   "metadata": {},
   "outputs": [],
   "source": [
    "from sklearn.linear_model import LinearRegression"
   ]
  },
  {
   "cell_type": "code",
   "execution_count": 92,
   "metadata": {
    "slideshow": {
     "slide_type": "skip"
    }
   },
   "outputs": [
    {
     "name": "stdout",
     "output_type": "stream",
     "text": [
      "4230.326308517164\n",
      "[-0.07238651 -0.0502455   0.04932558  0.01592084  0.17267962  1.02548782]\n"
     ]
    }
   ],
   "source": [
    "print(lr.intercept_)\n",
    "print(lr.coef_)"
   ]
  },
  {
   "cell_type": "code",
   "execution_count": 125,
   "metadata": {},
   "outputs": [],
   "source": [
    "x_train, x_test,y_train,y_test = train_test_split(X,y,random_state = 123)\n",
    "y_pred = lr.predict(X)\n",
    "X_pred = lr.predict(X)"
   ]
  },
  {
   "cell_type": "code",
   "execution_count": 109,
   "metadata": {},
   "outputs": [
    {
     "data": {
      "text/plain": [
       "LinearRegression(copy_X=True, fit_intercept=True, n_jobs=None, normalize=False)"
      ]
     },
     "execution_count": 109,
     "metadata": {},
     "output_type": "execute_result"
    }
   ],
   "source": [
    "lr.fit(x_train,y_train)"
   ]
  },
  {
   "cell_type": "code",
   "execution_count": 133,
   "metadata": {},
   "outputs": [
    {
     "data": {
      "text/plain": [
       "0.900831053664841"
      ]
     },
     "execution_count": 133,
     "metadata": {},
     "output_type": "execute_result"
    }
   ],
   "source": [
    "## calcuate the accuracy\n",
    "lr.score(x_test,y_test)"
   ]
  },
  {
   "cell_type": "code",
   "execution_count": 141,
   "metadata": {},
   "outputs": [],
   "source": [
    "from sklearn.model_selection import train_test_split\n",
    "\n",
    "# Define a function that accepts a list of features and returns testing RMSE.\n",
    "def train_test_rmse(eduf, feature_cols1):\n",
    "    X = gpa1[feature_cols]\n",
    "    y = gpa1.gpa\n",
    "    \n",
    "    X_train, X_test, y_train, y_test = train_test_split(X, y, random_state=123)\n",
    "    \n",
    "    linreg = LinearRegression()\n",
    "    linreg.fit(X_train, y_train)\n",
    "    \n",
    "    y_pred = linreg.predict(X_test)\n",
    "    return np.sqrt(metrics.mean_squared_error(true, pred))\n",
    "            "
   ]
  },
  {
   "cell_type": "code",
   "execution_count": null,
   "metadata": {},
   "outputs": [],
   "source": [
    "from sklearn.model_selection import train_test_split\n",
    "\n",
    "# Define a function that accepts a list of features and returns testing RMSE.\n",
    "def train_test_mae(eduf, feature_cols1):\n",
    "    X = gpa1[feature_cols]\n",
    "    y = gpa1.gpa\n",
    "    \n",
    "    X_train, X_test, y_train, y_test = train_test_split(X, y, random_state=123)\n",
    "    \n",
    "    linreg = LinearRegression()\n",
    "    linreg.fit(X_train, y_train)\n",
    "    \n",
    "    y_pred = linreg.predict(X_test)\n",
    "    return metrics.mean_absolute_error(y_test, y_pred)"
   ]
  },
  {
   "cell_type": "code",
   "execution_count": 140,
   "metadata": {
    "slideshow": {
     "slide_type": "skip"
    }
   },
   "outputs": [
    {
     "name": "stdout",
     "output_type": "stream",
     "text": [
      "30726.187375168993\n",
      "30554.656132892174\n",
      "34903.17143826005\n"
     ]
    }
   ],
   "source": [
    "# Compare different sets of features.\n",
    "print(train_test_rmse(eduf, ['total_revenue','federal_revenue','expenditure','current_spending_instruction','current_spending','other_spending']))\n",
    "print(train_test_rmse(eduf, ['total_revenue', 'federal_revenue','current_spending','current_spending_instruction','other_spending']))\n",
    "print(train_test_rmse(eduf, ['total_revenue', 'current_spending', 'expenditure']))"
   ]
  },
  {
   "cell_type": "code",
   "execution_count": 150,
   "metadata": {},
   "outputs": [
    {
     "name": "stdout",
     "output_type": "stream",
     "text": [
      "19979.203553974072\n",
      "20158.043316193853\n",
      "22607.78278364976\n"
     ]
    }
   ],
   "source": [
    "print(train_test_mae(eduf, ['total_revenue','federal_revenue','expenditure','current_spending_instruction','current_spending','other_spending']))\n",
    "print(train_test_mae(eduf, ['total_revenue', 'federal_revenue','current_spending','current_spending_instruction','other_spending']))\n",
    "print(train_test_mae(eduf, ['total_revenue', 'current_spending', 'expenditure']))"
   ]
  },
  {
   "cell_type": "code",
   "execution_count": 305,
   "metadata": {},
   "outputs": [],
   "source": [
    "## RMSEA reduced wtih more features"
   ]
  },
  {
   "cell_type": "code",
   "execution_count": 114,
   "metadata": {},
   "outputs": [
    {
     "data": {
      "text/plain": [
       "array([83227.40975104, 83227.40975104, 83227.40975104, 83227.40975104,\n",
       "       83227.40975104, 83227.40975104, 83227.40975104, 83227.40975104,\n",
       "       83227.40975104, 83227.40975104, 83227.40975104, 83227.40975104,\n",
       "       83227.40975104, 83227.40975104, 83227.40975104, 83227.40975104,\n",
       "       83227.40975104, 83227.40975104, 83227.40975104, 83227.40975104,\n",
       "       83227.40975104, 83227.40975104, 83227.40975104, 83227.40975104,\n",
       "       83227.40975104, 83227.40975104, 83227.40975104, 83227.40975104,\n",
       "       83227.40975104, 83227.40975104, 83227.40975104, 83227.40975104,\n",
       "       83227.40975104, 83227.40975104, 83227.40975104, 83227.40975104,\n",
       "       83227.40975104, 83227.40975104, 83227.40975104, 83227.40975104,\n",
       "       83227.40975104, 83227.40975104, 83227.40975104, 83227.40975104,\n",
       "       83227.40975104, 83227.40975104, 83227.40975104, 83227.40975104,\n",
       "       83227.40975104, 83227.40975104, 83227.40975104, 83227.40975104,\n",
       "       83227.40975104, 83227.40975104, 83227.40975104, 83227.40975104,\n",
       "       83227.40975104, 83227.40975104, 83227.40975104, 83227.40975104,\n",
       "       83227.40975104, 83227.40975104, 83227.40975104, 83227.40975104,\n",
       "       83227.40975104, 83227.40975104, 83227.40975104, 83227.40975104,\n",
       "       83227.40975104, 83227.40975104, 83227.40975104, 83227.40975104,\n",
       "       83227.40975104, 83227.40975104, 83227.40975104, 83227.40975104,\n",
       "       83227.40975104, 83227.40975104, 83227.40975104, 83227.40975104,\n",
       "       83227.40975104, 83227.40975104, 83227.40975104, 83227.40975104,\n",
       "       83227.40975104, 83227.40975104, 83227.40975104, 83227.40975104,\n",
       "       83227.40975104, 83227.40975104, 83227.40975104, 83227.40975104,\n",
       "       83227.40975104, 83227.40975104, 83227.40975104, 83227.40975104,\n",
       "       83227.40975104, 83227.40975104, 83227.40975104, 83227.40975104,\n",
       "       83227.40975104, 83227.40975104, 83227.40975104, 83227.40975104,\n",
       "       83227.40975104, 83227.40975104, 83227.40975104, 83227.40975104,\n",
       "       83227.40975104, 83227.40975104, 83227.40975104, 83227.40975104,\n",
       "       83227.40975104, 83227.40975104, 83227.40975104, 83227.40975104,\n",
       "       83227.40975104, 83227.40975104, 83227.40975104, 83227.40975104,\n",
       "       83227.40975104, 83227.40975104, 83227.40975104, 83227.40975104,\n",
       "       83227.40975104, 83227.40975104, 83227.40975104, 83227.40975104,\n",
       "       83227.40975104, 83227.40975104, 83227.40975104, 83227.40975104,\n",
       "       83227.40975104, 83227.40975104, 83227.40975104, 83227.40975104,\n",
       "       83227.40975104, 83227.40975104, 83227.40975104, 83227.40975104,\n",
       "       83227.40975104, 83227.40975104, 83227.40975104, 83227.40975104,\n",
       "       83227.40975104, 83227.40975104, 83227.40975104, 83227.40975104,\n",
       "       83227.40975104, 83227.40975104, 83227.40975104, 83227.40975104,\n",
       "       83227.40975104, 83227.40975104, 83227.40975104, 83227.40975104,\n",
       "       83227.40975104, 83227.40975104, 83227.40975104, 83227.40975104,\n",
       "       83227.40975104, 83227.40975104, 83227.40975104, 83227.40975104,\n",
       "       83227.40975104, 83227.40975104, 83227.40975104, 83227.40975104,\n",
       "       83227.40975104, 83227.40975104, 83227.40975104, 83227.40975104,\n",
       "       83227.40975104, 83227.40975104, 83227.40975104, 83227.40975104,\n",
       "       83227.40975104, 83227.40975104, 83227.40975104, 83227.40975104,\n",
       "       83227.40975104, 83227.40975104, 83227.40975104, 83227.40975104,\n",
       "       83227.40975104, 83227.40975104, 83227.40975104, 83227.40975104,\n",
       "       83227.40975104, 83227.40975104, 83227.40975104, 83227.40975104,\n",
       "       83227.40975104, 83227.40975104, 83227.40975104, 83227.40975104,\n",
       "       83227.40975104, 83227.40975104, 83227.40975104, 83227.40975104,\n",
       "       83227.40975104, 83227.40975104, 83227.40975104, 83227.40975104,\n",
       "       83227.40975104, 83227.40975104, 83227.40975104, 83227.40975104,\n",
       "       83227.40975104, 83227.40975104, 83227.40975104, 83227.40975104,\n",
       "       83227.40975104, 83227.40975104, 83227.40975104, 83227.40975104,\n",
       "       83227.40975104, 83227.40975104, 83227.40975104, 83227.40975104,\n",
       "       83227.40975104, 83227.40975104, 83227.40975104, 83227.40975104,\n",
       "       83227.40975104, 83227.40975104, 83227.40975104, 83227.40975104,\n",
       "       83227.40975104, 83227.40975104, 83227.40975104, 83227.40975104,\n",
       "       83227.40975104, 83227.40975104, 83227.40975104, 83227.40975104,\n",
       "       83227.40975104, 83227.40975104, 83227.40975104, 83227.40975104,\n",
       "       83227.40975104, 83227.40975104, 83227.40975104, 83227.40975104,\n",
       "       83227.40975104, 83227.40975104, 83227.40975104, 83227.40975104,\n",
       "       83227.40975104, 83227.40975104, 83227.40975104, 83227.40975104,\n",
       "       83227.40975104, 83227.40975104, 83227.40975104, 83227.40975104,\n",
       "       83227.40975104, 83227.40975104, 83227.40975104, 83227.40975104,\n",
       "       83227.40975104, 83227.40975104, 83227.40975104, 83227.40975104,\n",
       "       83227.40975104, 83227.40975104, 83227.40975104, 83227.40975104,\n",
       "       83227.40975104, 83227.40975104, 83227.40975104, 83227.40975104,\n",
       "       83227.40975104, 83227.40975104, 83227.40975104, 83227.40975104,\n",
       "       83227.40975104, 83227.40975104, 83227.40975104, 83227.40975104,\n",
       "       83227.40975104, 83227.40975104, 83227.40975104, 83227.40975104,\n",
       "       83227.40975104, 83227.40975104, 83227.40975104, 83227.40975104,\n",
       "       83227.40975104, 83227.40975104, 83227.40975104, 83227.40975104,\n",
       "       83227.40975104, 83227.40975104, 83227.40975104, 83227.40975104,\n",
       "       83227.40975104, 83227.40975104, 83227.40975104, 83227.40975104,\n",
       "       83227.40975104, 83227.40975104, 83227.40975104, 83227.40975104,\n",
       "       83227.40975104, 83227.40975104, 83227.40975104, 83227.40975104,\n",
       "       83227.40975104, 83227.40975104, 83227.40975104, 83227.40975104,\n",
       "       83227.40975104, 83227.40975104, 83227.40975104, 83227.40975104,\n",
       "       83227.40975104, 83227.40975104, 83227.40975104, 83227.40975104,\n",
       "       83227.40975104, 83227.40975104, 83227.40975104, 83227.40975104,\n",
       "       83227.40975104, 83227.40975104, 83227.40975104, 83227.40975104,\n",
       "       83227.40975104, 83227.40975104, 83227.40975104, 83227.40975104,\n",
       "       83227.40975104, 83227.40975104, 83227.40975104, 83227.40975104,\n",
       "       83227.40975104, 83227.40975104, 83227.40975104, 83227.40975104,\n",
       "       83227.40975104, 83227.40975104, 83227.40975104, 83227.40975104,\n",
       "       83227.40975104, 83227.40975104, 83227.40975104, 83227.40975104,\n",
       "       83227.40975104, 83227.40975104, 83227.40975104, 83227.40975104,\n",
       "       83227.40975104, 83227.40975104, 83227.40975104, 83227.40975104,\n",
       "       83227.40975104, 83227.40975104, 83227.40975104, 83227.40975104,\n",
       "       83227.40975104, 83227.40975104, 83227.40975104, 83227.40975104,\n",
       "       83227.40975104, 83227.40975104, 83227.40975104, 83227.40975104,\n",
       "       83227.40975104, 83227.40975104, 83227.40975104, 83227.40975104,\n",
       "       83227.40975104, 83227.40975104, 83227.40975104, 83227.40975104,\n",
       "       83227.40975104, 83227.40975104, 83227.40975104, 83227.40975104,\n",
       "       83227.40975104, 83227.40975104, 83227.40975104, 83227.40975104,\n",
       "       83227.40975104, 83227.40975104, 83227.40975104, 83227.40975104,\n",
       "       83227.40975104, 83227.40975104, 83227.40975104, 83227.40975104,\n",
       "       83227.40975104, 83227.40975104, 83227.40975104, 83227.40975104,\n",
       "       83227.40975104, 83227.40975104, 83227.40975104, 83227.40975104,\n",
       "       83227.40975104, 83227.40975104, 83227.40975104, 83227.40975104,\n",
       "       83227.40975104, 83227.40975104, 83227.40975104, 83227.40975104,\n",
       "       83227.40975104, 83227.40975104, 83227.40975104, 83227.40975104,\n",
       "       83227.40975104, 83227.40975104, 83227.40975104, 83227.40975104,\n",
       "       83227.40975104, 83227.40975104, 83227.40975104, 83227.40975104,\n",
       "       83227.40975104, 83227.40975104, 83227.40975104, 83227.40975104,\n",
       "       83227.40975104, 83227.40975104, 83227.40975104, 83227.40975104,\n",
       "       83227.40975104, 83227.40975104, 83227.40975104, 83227.40975104,\n",
       "       83227.40975104, 83227.40975104, 83227.40975104, 83227.40975104,\n",
       "       83227.40975104, 83227.40975104, 83227.40975104, 83227.40975104,\n",
       "       83227.40975104, 83227.40975104, 83227.40975104, 83227.40975104,\n",
       "       83227.40975104, 83227.40975104, 83227.40975104, 83227.40975104,\n",
       "       83227.40975104, 83227.40975104, 83227.40975104, 83227.40975104,\n",
       "       83227.40975104, 83227.40975104, 83227.40975104, 83227.40975104,\n",
       "       83227.40975104, 83227.40975104, 83227.40975104, 83227.40975104,\n",
       "       83227.40975104, 83227.40975104, 83227.40975104, 83227.40975104,\n",
       "       83227.40975104, 83227.40975104, 83227.40975104, 83227.40975104,\n",
       "       83227.40975104, 83227.40975104, 83227.40975104, 83227.40975104,\n",
       "       83227.40975104, 83227.40975104, 83227.40975104, 83227.40975104,\n",
       "       83227.40975104, 83227.40975104, 83227.40975104, 83227.40975104,\n",
       "       83227.40975104, 83227.40975104, 83227.40975104, 83227.40975104,\n",
       "       83227.40975104, 83227.40975104, 83227.40975104, 83227.40975104,\n",
       "       83227.40975104, 83227.40975104, 83227.40975104, 83227.40975104,\n",
       "       83227.40975104, 83227.40975104, 83227.40975104, 83227.40975104,\n",
       "       83227.40975104, 83227.40975104, 83227.40975104, 83227.40975104,\n",
       "       83227.40975104, 83227.40975104, 83227.40975104, 83227.40975104,\n",
       "       83227.40975104, 83227.40975104, 83227.40975104, 83227.40975104,\n",
       "       83227.40975104, 83227.40975104, 83227.40975104, 83227.40975104,\n",
       "       83227.40975104, 83227.40975104, 83227.40975104, 83227.40975104,\n",
       "       83227.40975104, 83227.40975104, 83227.40975104, 83227.40975104,\n",
       "       83227.40975104, 83227.40975104, 83227.40975104, 83227.40975104,\n",
       "       83227.40975104, 83227.40975104, 83227.40975104, 83227.40975104,\n",
       "       83227.40975104, 83227.40975104, 83227.40975104, 83227.40975104,\n",
       "       83227.40975104, 83227.40975104, 83227.40975104, 83227.40975104,\n",
       "       83227.40975104, 83227.40975104, 83227.40975104, 83227.40975104,\n",
       "       83227.40975104, 83227.40975104, 83227.40975104, 83227.40975104,\n",
       "       83227.40975104, 83227.40975104, 83227.40975104, 83227.40975104,\n",
       "       83227.40975104, 83227.40975104, 83227.40975104, 83227.40975104,\n",
       "       83227.40975104, 83227.40975104, 83227.40975104, 83227.40975104,\n",
       "       83227.40975104, 83227.40975104, 83227.40975104, 83227.40975104,\n",
       "       83227.40975104, 83227.40975104, 83227.40975104, 83227.40975104,\n",
       "       83227.40975104, 83227.40975104, 83227.40975104, 83227.40975104,\n",
       "       83227.40975104, 83227.40975104, 83227.40975104, 83227.40975104,\n",
       "       83227.40975104, 83227.40975104, 83227.40975104, 83227.40975104,\n",
       "       83227.40975104, 83227.40975104, 83227.40975104, 83227.40975104,\n",
       "       83227.40975104, 83227.40975104, 83227.40975104, 83227.40975104,\n",
       "       83227.40975104, 83227.40975104, 83227.40975104, 83227.40975104,\n",
       "       83227.40975104, 83227.40975104, 83227.40975104, 83227.40975104,\n",
       "       83227.40975104, 83227.40975104, 83227.40975104, 83227.40975104,\n",
       "       83227.40975104, 83227.40975104, 83227.40975104, 83227.40975104,\n",
       "       83227.40975104, 83227.40975104, 83227.40975104, 83227.40975104,\n",
       "       83227.40975104, 83227.40975104, 83227.40975104, 83227.40975104,\n",
       "       83227.40975104, 83227.40975104, 83227.40975104, 83227.40975104,\n",
       "       83227.40975104, 83227.40975104, 83227.40975104, 83227.40975104,\n",
       "       83227.40975104, 83227.40975104, 83227.40975104, 83227.40975104,\n",
       "       83227.40975104, 83227.40975104, 83227.40975104, 83227.40975104,\n",
       "       83227.40975104, 83227.40975104, 83227.40975104, 83227.40975104,\n",
       "       83227.40975104, 83227.40975104, 83227.40975104, 83227.40975104,\n",
       "       83227.40975104, 83227.40975104, 83227.40975104, 83227.40975104,\n",
       "       83227.40975104, 83227.40975104, 83227.40975104, 83227.40975104,\n",
       "       83227.40975104, 83227.40975104, 83227.40975104, 83227.40975104,\n",
       "       83227.40975104, 83227.40975104, 83227.40975104, 83227.40975104,\n",
       "       83227.40975104, 83227.40975104, 83227.40975104, 83227.40975104,\n",
       "       83227.40975104, 83227.40975104, 83227.40975104, 83227.40975104,\n",
       "       83227.40975104, 83227.40975104, 83227.40975104, 83227.40975104,\n",
       "       83227.40975104, 83227.40975104, 83227.40975104, 83227.40975104,\n",
       "       83227.40975104, 83227.40975104, 83227.40975104, 83227.40975104,\n",
       "       83227.40975104, 83227.40975104, 83227.40975104, 83227.40975104,\n",
       "       83227.40975104, 83227.40975104, 83227.40975104, 83227.40975104,\n",
       "       83227.40975104, 83227.40975104, 83227.40975104, 83227.40975104,\n",
       "       83227.40975104, 83227.40975104, 83227.40975104, 83227.40975104,\n",
       "       83227.40975104, 83227.40975104, 83227.40975104, 83227.40975104,\n",
       "       83227.40975104, 83227.40975104, 83227.40975104, 83227.40975104,\n",
       "       83227.40975104, 83227.40975104, 83227.40975104, 83227.40975104,\n",
       "       83227.40975104, 83227.40975104, 83227.40975104, 83227.40975104,\n",
       "       83227.40975104, 83227.40975104, 83227.40975104, 83227.40975104,\n",
       "       83227.40975104, 83227.40975104, 83227.40975104, 83227.40975104,\n",
       "       83227.40975104, 83227.40975104, 83227.40975104, 83227.40975104,\n",
       "       83227.40975104, 83227.40975104, 83227.40975104, 83227.40975104,\n",
       "       83227.40975104, 83227.40975104, 83227.40975104, 83227.40975104,\n",
       "       83227.40975104, 83227.40975104, 83227.40975104, 83227.40975104,\n",
       "       83227.40975104, 83227.40975104, 83227.40975104, 83227.40975104,\n",
       "       83227.40975104, 83227.40975104, 83227.40975104, 83227.40975104,\n",
       "       83227.40975104, 83227.40975104, 83227.40975104, 83227.40975104,\n",
       "       83227.40975104, 83227.40975104, 83227.40975104, 83227.40975104,\n",
       "       83227.40975104, 83227.40975104, 83227.40975104, 83227.40975104,\n",
       "       83227.40975104, 83227.40975104, 83227.40975104, 83227.40975104,\n",
       "       83227.40975104, 83227.40975104, 83227.40975104, 83227.40975104,\n",
       "       83227.40975104, 83227.40975104, 83227.40975104, 83227.40975104,\n",
       "       83227.40975104, 83227.40975104, 83227.40975104, 83227.40975104,\n",
       "       83227.40975104, 83227.40975104, 83227.40975104, 83227.40975104,\n",
       "       83227.40975104, 83227.40975104, 83227.40975104, 83227.40975104,\n",
       "       83227.40975104, 83227.40975104, 83227.40975104, 83227.40975104,\n",
       "       83227.40975104, 83227.40975104, 83227.40975104, 83227.40975104,\n",
       "       83227.40975104, 83227.40975104, 83227.40975104, 83227.40975104,\n",
       "       83227.40975104, 83227.40975104, 83227.40975104, 83227.40975104,\n",
       "       83227.40975104, 83227.40975104, 83227.40975104, 83227.40975104,\n",
       "       83227.40975104, 83227.40975104, 83227.40975104, 83227.40975104,\n",
       "       83227.40975104, 83227.40975104, 83227.40975104, 83227.40975104,\n",
       "       83227.40975104, 83227.40975104, 83227.40975104, 83227.40975104,\n",
       "       83227.40975104, 83227.40975104, 83227.40975104, 83227.40975104,\n",
       "       83227.40975104, 83227.40975104, 83227.40975104, 83227.40975104,\n",
       "       83227.40975104, 83227.40975104, 83227.40975104, 83227.40975104,\n",
       "       83227.40975104, 83227.40975104, 83227.40975104, 83227.40975104,\n",
       "       83227.40975104, 83227.40975104, 83227.40975104, 83227.40975104,\n",
       "       83227.40975104, 83227.40975104, 83227.40975104, 83227.40975104,\n",
       "       83227.40975104, 83227.40975104, 83227.40975104, 83227.40975104,\n",
       "       83227.40975104, 83227.40975104, 83227.40975104, 83227.40975104,\n",
       "       83227.40975104, 83227.40975104, 83227.40975104, 83227.40975104,\n",
       "       83227.40975104, 83227.40975104, 83227.40975104, 83227.40975104,\n",
       "       83227.40975104, 83227.40975104, 83227.40975104, 83227.40975104,\n",
       "       83227.40975104, 83227.40975104, 83227.40975104, 83227.40975104,\n",
       "       83227.40975104, 83227.40975104, 83227.40975104, 83227.40975104,\n",
       "       83227.40975104, 83227.40975104, 83227.40975104, 83227.40975104,\n",
       "       83227.40975104, 83227.40975104, 83227.40975104, 83227.40975104,\n",
       "       83227.40975104, 83227.40975104, 83227.40975104, 83227.40975104,\n",
       "       83227.40975104, 83227.40975104, 83227.40975104, 83227.40975104,\n",
       "       83227.40975104, 83227.40975104, 83227.40975104, 83227.40975104,\n",
       "       83227.40975104, 83227.40975104, 83227.40975104, 83227.40975104,\n",
       "       83227.40975104, 83227.40975104, 83227.40975104, 83227.40975104,\n",
       "       83227.40975104, 83227.40975104, 83227.40975104, 83227.40975104,\n",
       "       83227.40975104, 83227.40975104, 83227.40975104, 83227.40975104,\n",
       "       83227.40975104, 83227.40975104, 83227.40975104, 83227.40975104,\n",
       "       83227.40975104, 83227.40975104, 83227.40975104, 83227.40975104,\n",
       "       83227.40975104, 83227.40975104, 83227.40975104, 83227.40975104,\n",
       "       83227.40975104, 83227.40975104, 83227.40975104, 83227.40975104,\n",
       "       83227.40975104, 83227.40975104, 83227.40975104, 83227.40975104,\n",
       "       83227.40975104, 83227.40975104, 83227.40975104, 83227.40975104,\n",
       "       83227.40975104, 83227.40975104, 83227.40975104, 83227.40975104,\n",
       "       83227.40975104, 83227.40975104, 83227.40975104, 83227.40975104,\n",
       "       83227.40975104, 83227.40975104, 83227.40975104, 83227.40975104,\n",
       "       83227.40975104, 83227.40975104, 83227.40975104, 83227.40975104,\n",
       "       83227.40975104, 83227.40975104, 83227.40975104, 83227.40975104,\n",
       "       83227.40975104, 83227.40975104, 83227.40975104, 83227.40975104,\n",
       "       83227.40975104, 83227.40975104, 83227.40975104, 83227.40975104,\n",
       "       83227.40975104, 83227.40975104, 83227.40975104, 83227.40975104,\n",
       "       83227.40975104, 83227.40975104, 83227.40975104, 83227.40975104,\n",
       "       83227.40975104, 83227.40975104, 83227.40975104, 83227.40975104,\n",
       "       83227.40975104, 83227.40975104, 83227.40975104, 83227.40975104,\n",
       "       83227.40975104, 83227.40975104, 83227.40975104, 83227.40975104,\n",
       "       83227.40975104, 83227.40975104, 83227.40975104, 83227.40975104])"
      ]
     },
     "execution_count": 114,
     "metadata": {},
     "output_type": "execute_result"
    }
   ],
   "source": [
    "X_train, X_test, y_train, y_test = train_test_split(X, y, random_state=123)\n",
    "\n",
    "y_null = np.zeros_like(y_test, dtype=float)\n",
    "\n",
    "y_null.fill(y_test.mean())\n",
    "y_null"
   ]
  },
  {
   "cell_type": "code",
   "execution_count": 115,
   "metadata": {
    "slideshow": {
     "slide_type": "slide"
    }
   },
   "outputs": [
    {
     "data": {
      "text/plain": [
       "97571.0155302958"
      ]
     },
     "execution_count": 115,
     "metadata": {},
     "output_type": "execute_result"
    }
   ],
   "source": [
    "np.sqrt(metrics.mean_squared_error(y_test, y_null))"
   ]
  },
  {
   "cell_type": "markdown",
   "metadata": {
    "slideshow": {
     "slide_type": "skip"
    }
   },
   "source": [
    "## Ridge Regression"
   ]
  },
  {
   "cell_type": "code",
   "execution_count": 423,
   "metadata": {
    "slideshow": {
     "slide_type": "skip"
    }
   },
   "outputs": [],
   "source": [
    "revenue_dummies = pd.get_dummies(districts_f.total_revenue)"
   ]
  },
  {
   "cell_type": "code",
   "execution_count": 424,
   "metadata": {
    "slideshow": {
     "slide_type": "skip"
    }
   },
   "outputs": [],
   "source": [
    "districts_dummies = pd.concat([districts_f, revenue_dummies], axis=1)"
   ]
  },
  {
   "cell_type": "code",
   "execution_count": 425,
   "metadata": {
    "slideshow": {
     "slide_type": "skip"
    }
   },
   "outputs": [],
   "source": [
    "X = districts_dummies[feature_cols]\n",
    "y = districts_dummies.enrollment\n",
    "\n",
    "linreg = LinearRegression()\n",
    "linreg.fit(X, y)\n",
    "\n",
    "X_train, X_test, y_train, y_test = train_test_split(X, y, random_state=1)"
   ]
  },
  {
   "cell_type": "markdown",
   "metadata": {},
   "source": [
    "ridge regression"
   ]
  },
  {
   "cell_type": "code",
   "execution_count": null,
   "metadata": {
    "slideshow": {
     "slide_type": "skip"
    }
   },
   "outputs": [],
   "source": [
    "from sklearn.linear_model import Ridge\n",
    "\n",
    "ridgereg = Ridge(alpha=0, normalize=True)\n",
    "ridgereg.fit(X_train, y_train)\n",
    "y_pred = ridgereg.predict(X_test)\n",
    "print(np.sqrt(metrics.mean_squared_error(y_test, y_pred)))"
   ]
  },
  {
   "cell_type": "code",
   "execution_count": 430,
   "metadata": {},
   "outputs": [],
   "source": [
    "y_pred = ridgereg.predict(X)"
   ]
  },
  {
   "cell_type": "code",
   "execution_count": 435,
   "metadata": {},
   "outputs": [
    {
     "name": "stdout",
     "output_type": "stream",
     "text": [
      "10886.08329776775\n"
     ]
    }
   ],
   "source": [
    "print(ridgereg.intercept_)"
   ]
  },
  {
   "cell_type": "code",
   "execution_count": 298,
   "metadata": {
    "slideshow": {
     "slide_type": "notes"
    }
   },
   "outputs": [
    {
     "data": {
      "text/plain": [
       "[('total_revenue', -0.07844183321424758),\n",
       " ('federal_revenue', -0.06983128027489204),\n",
       " ('expenditure', 0.074294423126399),\n",
       " ('current_spending_instruction', -0.0047588651012720655),\n",
       " ('current_spending', 0.14513856086261095),\n",
       " ('other_spending', 1.0430108861542022)]"
      ]
     },
     "execution_count": 298,
     "metadata": {},
     "output_type": "execute_result"
    }
   ],
   "source": [
    "list(zip(feature_cols, ridgereg.coef_))"
   ]
  },
  {
   "cell_type": "code",
   "execution_count": 433,
   "metadata": {
    "slideshow": {
     "slide_type": "fragment"
    }
   },
   "outputs": [
    {
     "name": "stdout",
     "output_type": "stream",
     "text": [
      "41640.4232288643\n"
     ]
    }
   ],
   "source": [
    "ridgereg = Ridge(alpha=0.1, normalize=True)\n",
    "ridgereg.fit(X_train, y_train)\n",
    "y_pred = ridgereg.predict(X_test)\n",
    "print(np.sqrt(metrics.mean_squared_error(y_test, y_pred)))"
   ]
  },
  {
   "cell_type": "code",
   "execution_count": 126,
   "metadata": {
    "slideshow": {
     "slide_type": "skip"
    }
   },
   "outputs": [
    {
     "data": {
      "text/plain": [
       "[('total_revenue', 0.002614288254853433),\n",
       " ('federal_revenue', 0.0172038925711048),\n",
       " ('state_revenue', 0.014514305171092002),\n",
       " ('expenditure', 0.004149895352522794),\n",
       " ('current_spending_instruction', -0.0017976188683634198),\n",
       " ('current_spending', 0.06633619271346432),\n",
       " ('other_spending', 0.6739851697829419),\n",
       " ('total_capital', 0.06761253149194939)]"
      ]
     },
     "execution_count": 126,
     "metadata": {},
     "output_type": "execute_result"
    }
   ],
   "source": [
    "list(zip(feature_cols, ridgereg.coef_))"
   ]
  },
  {
   "cell_type": "markdown",
   "metadata": {},
   "source": [
    "Conclusion\n",
    "The total revenue,state_revenue,federal_revenue, enrollment, current_spending, and expenditure are the strong predictors for enrollments. \n",
    "The multicolinearity are also detected on the heatmap.\n",
    "Tuning the KNN model help improve the model evaluation and reduce the testing error. \n",
    "By scale the training and testing data, the testing error reduced although the overall model fits not actually improved. "
   ]
  }
 ],
 "metadata": {
  "celltoolbar": "Slideshow",
  "kernelspec": {
   "display_name": "Python 3",
   "language": "python",
   "name": "python3"
  },
  "language_info": {
   "codemirror_mode": {
    "name": "ipython",
    "version": 3
   },
   "file_extension": ".py",
   "mimetype": "text/x-python",
   "name": "python",
   "nbconvert_exporter": "python",
   "pygments_lexer": "ipython3",
   "version": "3.7.6"
  }
 },
 "nbformat": 4,
 "nbformat_minor": 4
}
