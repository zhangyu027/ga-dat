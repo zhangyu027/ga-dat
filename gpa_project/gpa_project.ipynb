{
 "cells": [
  {
   "cell_type": "markdown",
   "metadata": {},
   "source": [
    "Nowadays, the role of a tutor is more important than ever to prevent students dropout and improve their academic performance. This work proposes a data-driven system to extract relevant information hidden in the student academic data and, thus, help tutors to offer their pupils a more proactive personal guidance. In particular, our system, based on machine learning techniques, makes predictions of dropout intention and courses grades of students, as well as personalized course recommendations. Moreover, we present different visualizations which help in the interpretation of the results. In the experimental validation, we show that the system obtains promising results with data from the degree studies in Law, Computer Science and Mathematics"
   ]
  },
  {
   "cell_type": "markdown",
   "metadata": {},
   "source": [
    "4,434 takes courses\n",
    "e clean the data according to the following three criteria:\n",
    "• Students with 5 or more missing values in an academic year are removed from the original\n",
    "data set.\n",
    "• Students with a mean grade inferior to 2 points out of 10 in an academic year are removed\n",
    "from the original data set.\n",
    "• Students who do not follow the standard enrollment procedure are removed from the data\n",
    "set. For instance, a student who enrolls to more than 10 courses in an academic year falls in\n",
    "this category"
   ]
  },
  {
   "cell_type": "markdown",
   "metadata": {},
   "source": [
    "train 5 classifiers: Logistic Regression (LR) [7], Gaussian Naive\n",
    "Bayes (GB) [8], Support Vector Machine (SVM) [9], Random Forest (RF)"
   ]
  },
  {
   "cell_type": "markdown",
   "metadata": {},
   "source": [
    "sigmoid function Naive Bayes Classifier (NB) is a conditional probability model based in Bayes’ theorem.\n",
    "Given a n-dimensional feature vector Support Vector Machine (SVM) is a classifier based on the idea of separating data using hyper-planes. More specifically, it consider a set of n–dimensional feature vectors as points in the n–dimensional real euclidean space. "
   ]
  },
  {
   "cell_type": "markdown",
   "metadata": {},
   "source": [
    "tutor can benefit from knowing which courses from the\n",
    "next academic year will be more difficult for a concrete student in order to offer useful enrollment guidance. we consider the problem of predicting future grades for a particular student given previous ones. "
   ]
  },
  {
   "cell_type": "markdown",
   "metadata": {},
   "source": [
    "Scikit-learn python library \n",
    "Small data set: non-parametric model such as NB or LR.\n",
    "Larger data sets: parametric model like RF or XGBoosting."
   ]
  },
  {
   "cell_type": "markdown",
   "metadata": {},
   "source": [
    "Performing 5-fold cross-validation: \n",
    "MAE score\n",
    "confusion matrix of hte students who had dropped out or not actually should to.\n",
    "We prefer to give extra support to a student that would successfully pass a course without help than having the risk of missing a student in need of advice.\n",
    "\n",
    "two most difficult courses for a student will be among the top 4 of the predicted ranking. The tutor can fairly advise the students to focus on the top 4 ranked courses.\n",
    "\n",
    "Scatter plot and distribution visualizations of grade predictions—Mathematics. Predicted values against real values for second-year grades\n",
    "for the degree in Mathematics. The dots are colored accordingly to the mean grade\n",
    "obtained by the students in the previous academic year. The shaded regions correspond to acceptable errors. The histogram plots show the distributions\n",
    "of the predicted grades (X-axis) and real grades (Y-axis)."
   ]
  },
  {
   "cell_type": "markdown",
   "metadata": {},
   "source": [
    "Data-driven system to help tutors in the early detection of\n",
    "dropout and the prediction of courses grade as well as courses ranking. "
   ]
  },
  {
   "cell_type": "markdown",
   "metadata": {},
   "source": [
    "F1 score of 82%, 76% and 61% for the degrees in Computer Science, Law and Mathematics.\n",
    "Recommender system is able to accurately predict the grade with an mean absolute error of 1.21, 1.32 and 1.34 for the degrees in Law, Computer Science\n",
    "and Mathematics.\n",
    "We have developed visualization tools to better understand the obtained results."
   ]
  },
  {
   "cell_type": "code",
   "execution_count": 2,
   "metadata": {},
   "outputs": [],
   "source": [
    "import pandas as pd\n",
    "import numpy as np\n",
    "import seaborn as sns\n",
    "import matplotlib.pyplot as plt\n",
    "from sklearn.metrics import r2_score\n",
    "import statsmodels.api as sm\n",
    "%matplotlib inline"
   ]
  },
  {
   "cell_type": "code",
   "execution_count": 3,
   "metadata": {},
   "outputs": [],
   "source": [
    "path = r'data'"
   ]
  },
  {
   "cell_type": "code",
   "execution_count": 4,
   "metadata": {},
   "outputs": [],
   "source": [
    "gpa = pd.read_csv(\"data/GPA_RawData.csv\")"
   ]
  },
  {
   "cell_type": "code",
   "execution_count": 5,
   "metadata": {},
   "outputs": [
    {
     "data": {
      "text/html": [
       "<div>\n",
       "<style scoped>\n",
       "    .dataframe tbody tr th:only-of-type {\n",
       "        vertical-align: middle;\n",
       "    }\n",
       "\n",
       "    .dataframe tbody tr th {\n",
       "        vertical-align: top;\n",
       "    }\n",
       "\n",
       "    .dataframe thead th {\n",
       "        text-align: right;\n",
       "    }\n",
       "</style>\n",
       "<table border=\"1\" class=\"dataframe\">\n",
       "  <thead>\n",
       "    <tr style=\"text-align: right;\">\n",
       "      <th></th>\n",
       "      <th>StudentID</th>\n",
       "      <th>AcademicYearID</th>\n",
       "      <th>SchoolName</th>\n",
       "      <th>SchoolCode</th>\n",
       "      <th>GradeCode</th>\n",
       "      <th>ELLServedFlag</th>\n",
       "      <th>SpecialEducationFlag</th>\n",
       "      <th>Section504Flag</th>\n",
       "      <th>AAMFlag</th>\n",
       "      <th>SOCFFEJFlag</th>\n",
       "      <th>...</th>\n",
       "      <th>HomeLanguageName</th>\n",
       "      <th>PrimaryLanguageName</th>\n",
       "      <th>Race</th>\n",
       "      <th>HC</th>\n",
       "      <th>AL</th>\n",
       "      <th>FRLOnOct01</th>\n",
       "      <th>GenderCode</th>\n",
       "      <th>StudentsAge</th>\n",
       "      <th>CumulativeGPADistrict</th>\n",
       "      <th>CumulativeCreditsEarned</th>\n",
       "    </tr>\n",
       "  </thead>\n",
       "  <tbody>\n",
       "    <tr>\n",
       "      <th>0</th>\n",
       "      <td>5460134</td>\n",
       "      <td>2010</td>\n",
       "      <td>Roosevelt High School</td>\n",
       "      <td>17</td>\n",
       "      <td>12</td>\n",
       "      <td>N</td>\n",
       "      <td>Y</td>\n",
       "      <td>N</td>\n",
       "      <td>N</td>\n",
       "      <td>N</td>\n",
       "      <td>...</td>\n",
       "      <td>English</td>\n",
       "      <td>English</td>\n",
       "      <td>White</td>\n",
       "      <td>0</td>\n",
       "      <td>0</td>\n",
       "      <td>0.0</td>\n",
       "      <td>M</td>\n",
       "      <td>31</td>\n",
       "      <td>4.000</td>\n",
       "      <td>33.0</td>\n",
       "    </tr>\n",
       "    <tr>\n",
       "      <th>1</th>\n",
       "      <td>5460134</td>\n",
       "      <td>2010</td>\n",
       "      <td>Roosevelt High School</td>\n",
       "      <td>17</td>\n",
       "      <td>12</td>\n",
       "      <td>N</td>\n",
       "      <td>Y</td>\n",
       "      <td>N</td>\n",
       "      <td>N</td>\n",
       "      <td>N</td>\n",
       "      <td>...</td>\n",
       "      <td>English</td>\n",
       "      <td>English</td>\n",
       "      <td>White</td>\n",
       "      <td>0</td>\n",
       "      <td>0</td>\n",
       "      <td>0.0</td>\n",
       "      <td>M</td>\n",
       "      <td>31</td>\n",
       "      <td>4.000</td>\n",
       "      <td>36.0</td>\n",
       "    </tr>\n",
       "    <tr>\n",
       "      <th>2</th>\n",
       "      <td>5460142</td>\n",
       "      <td>2010</td>\n",
       "      <td>Roosevelt High School</td>\n",
       "      <td>17</td>\n",
       "      <td>12</td>\n",
       "      <td>N</td>\n",
       "      <td>Y</td>\n",
       "      <td>N</td>\n",
       "      <td>N</td>\n",
       "      <td>N</td>\n",
       "      <td>...</td>\n",
       "      <td>English</td>\n",
       "      <td>English</td>\n",
       "      <td>Asian</td>\n",
       "      <td>0</td>\n",
       "      <td>0</td>\n",
       "      <td>1.0</td>\n",
       "      <td>M</td>\n",
       "      <td>31</td>\n",
       "      <td>3.747</td>\n",
       "      <td>32.7</td>\n",
       "    </tr>\n",
       "    <tr>\n",
       "      <th>3</th>\n",
       "      <td>5460142</td>\n",
       "      <td>2010</td>\n",
       "      <td>Roosevelt High School</td>\n",
       "      <td>17</td>\n",
       "      <td>12</td>\n",
       "      <td>N</td>\n",
       "      <td>Y</td>\n",
       "      <td>N</td>\n",
       "      <td>N</td>\n",
       "      <td>N</td>\n",
       "      <td>...</td>\n",
       "      <td>English</td>\n",
       "      <td>English</td>\n",
       "      <td>Asian</td>\n",
       "      <td>0</td>\n",
       "      <td>0</td>\n",
       "      <td>1.0</td>\n",
       "      <td>M</td>\n",
       "      <td>31</td>\n",
       "      <td>3.747</td>\n",
       "      <td>35.7</td>\n",
       "    </tr>\n",
       "    <tr>\n",
       "      <th>4</th>\n",
       "      <td>5485818</td>\n",
       "      <td>2010</td>\n",
       "      <td>Nathan Hale High School</td>\n",
       "      <td>22</td>\n",
       "      <td>12</td>\n",
       "      <td>N</td>\n",
       "      <td>Y</td>\n",
       "      <td>N</td>\n",
       "      <td>N</td>\n",
       "      <td>N</td>\n",
       "      <td>...</td>\n",
       "      <td>English</td>\n",
       "      <td>English</td>\n",
       "      <td>White</td>\n",
       "      <td>0</td>\n",
       "      <td>0</td>\n",
       "      <td>0.0</td>\n",
       "      <td>F</td>\n",
       "      <td>31</td>\n",
       "      <td>4.000</td>\n",
       "      <td>40.3</td>\n",
       "    </tr>\n",
       "  </tbody>\n",
       "</table>\n",
       "<p>5 rows × 21 columns</p>\n",
       "</div>"
      ],
      "text/plain": [
       "   StudentID  AcademicYearID               SchoolName  SchoolCode  GradeCode  \\\n",
       "0    5460134            2010    Roosevelt High School          17         12   \n",
       "1    5460134            2010    Roosevelt High School          17         12   \n",
       "2    5460142            2010    Roosevelt High School          17         12   \n",
       "3    5460142            2010    Roosevelt High School          17         12   \n",
       "4    5485818            2010  Nathan Hale High School          22         12   \n",
       "\n",
       "  ELLServedFlag SpecialEducationFlag Section504Flag AAMFlag SOCFFEJFlag  ...  \\\n",
       "0             N                    Y              N       N           N  ...   \n",
       "1             N                    Y              N       N           N  ...   \n",
       "2             N                    Y              N       N           N  ...   \n",
       "3             N                    Y              N       N           N  ...   \n",
       "4             N                    Y              N       N           N  ...   \n",
       "\n",
       "  HomeLanguageName PrimaryLanguageName   Race HC  AL  FRLOnOct01  GenderCode  \\\n",
       "0          English             English  White  0   0         0.0           M   \n",
       "1          English             English  White  0   0         0.0           M   \n",
       "2          English             English  Asian  0   0         1.0           M   \n",
       "3          English             English  Asian  0   0         1.0           M   \n",
       "4          English             English  White  0   0         0.0           F   \n",
       "\n",
       "  StudentsAge  CumulativeGPADistrict  CumulativeCreditsEarned  \n",
       "0          31                  4.000                     33.0  \n",
       "1          31                  4.000                     36.0  \n",
       "2          31                  3.747                     32.7  \n",
       "3          31                  3.747                     35.7  \n",
       "4          31                  4.000                     40.3  \n",
       "\n",
       "[5 rows x 21 columns]"
      ]
     },
     "execution_count": 5,
     "metadata": {},
     "output_type": "execute_result"
    }
   ],
   "source": [
    "gpa.head()"
   ]
  },
  {
   "cell_type": "code",
   "execution_count": 35,
   "metadata": {},
   "outputs": [
    {
     "data": {
      "text/html": [
       "<div>\n",
       "<style scoped>\n",
       "    .dataframe tbody tr th:only-of-type {\n",
       "        vertical-align: middle;\n",
       "    }\n",
       "\n",
       "    .dataframe tbody tr th {\n",
       "        vertical-align: top;\n",
       "    }\n",
       "\n",
       "    .dataframe thead th {\n",
       "        text-align: right;\n",
       "    }\n",
       "</style>\n",
       "<table border=\"1\" class=\"dataframe\">\n",
       "  <thead>\n",
       "    <tr style=\"text-align: right;\">\n",
       "      <th></th>\n",
       "      <th>StudentID</th>\n",
       "      <th>SchoolYear</th>\n",
       "      <th>SchoolCode</th>\n",
       "      <th>Grade</th>\n",
       "      <th>HighlyCapable</th>\n",
       "      <th>AdvancedLearning</th>\n",
       "      <th>FreeReducedLunch</th>\n",
       "      <th>Age</th>\n",
       "      <th>GPA</th>\n",
       "      <th>CreditsEarned</th>\n",
       "    </tr>\n",
       "  </thead>\n",
       "  <tbody>\n",
       "    <tr>\n",
       "      <th>count</th>\n",
       "      <td>8.193350e+05</td>\n",
       "      <td>819335.000000</td>\n",
       "      <td>819335.000000</td>\n",
       "      <td>819335.000000</td>\n",
       "      <td>819335.000000</td>\n",
       "      <td>819335.000000</td>\n",
       "      <td>818538.000000</td>\n",
       "      <td>819335.000000</td>\n",
       "      <td>404370.000000</td>\n",
       "      <td>815620.000000</td>\n",
       "    </tr>\n",
       "    <tr>\n",
       "      <th>mean</th>\n",
       "      <td>7.004773e+06</td>\n",
       "      <td>2015.381579</td>\n",
       "      <td>85.689816</td>\n",
       "      <td>10.493290</td>\n",
       "      <td>0.067680</td>\n",
       "      <td>0.125941</td>\n",
       "      <td>0.406499</td>\n",
       "      <td>20.761275</td>\n",
       "      <td>3.026931</td>\n",
       "      <td>6.663740</td>\n",
       "    </tr>\n",
       "    <tr>\n",
       "      <th>std</th>\n",
       "      <td>6.100920e+05</td>\n",
       "      <td>2.557727</td>\n",
       "      <td>207.414778</td>\n",
       "      <td>1.132967</td>\n",
       "      <td>0.251197</td>\n",
       "      <td>0.331783</td>\n",
       "      <td>0.491180</td>\n",
       "      <td>2.928081</td>\n",
       "      <td>0.722985</td>\n",
       "      <td>8.684439</td>\n",
       "    </tr>\n",
       "    <tr>\n",
       "      <th>min</th>\n",
       "      <td>5.460134e+06</td>\n",
       "      <td>2010.000000</td>\n",
       "      <td>11.000000</td>\n",
       "      <td>9.000000</td>\n",
       "      <td>0.000000</td>\n",
       "      <td>0.000000</td>\n",
       "      <td>0.000000</td>\n",
       "      <td>13.000000</td>\n",
       "      <td>0.857000</td>\n",
       "      <td>0.000000</td>\n",
       "    </tr>\n",
       "    <tr>\n",
       "      <th>25%</th>\n",
       "      <td>6.577902e+06</td>\n",
       "      <td>2013.000000</td>\n",
       "      <td>13.000000</td>\n",
       "      <td>9.000000</td>\n",
       "      <td>0.000000</td>\n",
       "      <td>0.000000</td>\n",
       "      <td>0.000000</td>\n",
       "      <td>19.000000</td>\n",
       "      <td>2.450000</td>\n",
       "      <td>0.000000</td>\n",
       "    </tr>\n",
       "    <tr>\n",
       "      <th>50%</th>\n",
       "      <td>6.841605e+06</td>\n",
       "      <td>2016.000000</td>\n",
       "      <td>18.000000</td>\n",
       "      <td>10.000000</td>\n",
       "      <td>0.000000</td>\n",
       "      <td>0.000000</td>\n",
       "      <td>0.000000</td>\n",
       "      <td>21.000000</td>\n",
       "      <td>3.100000</td>\n",
       "      <td>0.500000</td>\n",
       "    </tr>\n",
       "    <tr>\n",
       "      <th>75%</th>\n",
       "      <td>7.154677e+06</td>\n",
       "      <td>2018.000000</td>\n",
       "      <td>21.000000</td>\n",
       "      <td>12.000000</td>\n",
       "      <td>0.000000</td>\n",
       "      <td>0.000000</td>\n",
       "      <td>1.000000</td>\n",
       "      <td>23.000000</td>\n",
       "      <td>3.684000</td>\n",
       "      <td>12.700000</td>\n",
       "    </tr>\n",
       "    <tr>\n",
       "      <th>max</th>\n",
       "      <td>8.170652e+06</td>\n",
       "      <td>2019.000000</td>\n",
       "      <td>983.000000</td>\n",
       "      <td>12.000000</td>\n",
       "      <td>1.000000</td>\n",
       "      <td>1.000000</td>\n",
       "      <td>1.000000</td>\n",
       "      <td>32.000000</td>\n",
       "      <td>4.000000</td>\n",
       "      <td>67.500000</td>\n",
       "    </tr>\n",
       "  </tbody>\n",
       "</table>\n",
       "</div>"
      ],
      "text/plain": [
       "          StudentID     SchoolYear     SchoolCode          Grade  \\\n",
       "count  8.193350e+05  819335.000000  819335.000000  819335.000000   \n",
       "mean   7.004773e+06    2015.381579      85.689816      10.493290   \n",
       "std    6.100920e+05       2.557727     207.414778       1.132967   \n",
       "min    5.460134e+06    2010.000000      11.000000       9.000000   \n",
       "25%    6.577902e+06    2013.000000      13.000000       9.000000   \n",
       "50%    6.841605e+06    2016.000000      18.000000      10.000000   \n",
       "75%    7.154677e+06    2018.000000      21.000000      12.000000   \n",
       "max    8.170652e+06    2019.000000     983.000000      12.000000   \n",
       "\n",
       "       HighlyCapable  AdvancedLearning  FreeReducedLunch            Age  \\\n",
       "count  819335.000000     819335.000000     818538.000000  819335.000000   \n",
       "mean        0.067680          0.125941          0.406499      20.761275   \n",
       "std         0.251197          0.331783          0.491180       2.928081   \n",
       "min         0.000000          0.000000          0.000000      13.000000   \n",
       "25%         0.000000          0.000000          0.000000      19.000000   \n",
       "50%         0.000000          0.000000          0.000000      21.000000   \n",
       "75%         0.000000          0.000000          1.000000      23.000000   \n",
       "max         1.000000          1.000000          1.000000      32.000000   \n",
       "\n",
       "                 GPA  CreditsEarned  \n",
       "count  404370.000000  815620.000000  \n",
       "mean        3.026931       6.663740  \n",
       "std         0.722985       8.684439  \n",
       "min         0.857000       0.000000  \n",
       "25%         2.450000       0.000000  \n",
       "50%         3.100000       0.500000  \n",
       "75%         3.684000      12.700000  \n",
       "max         4.000000      67.500000  "
      ]
     },
     "execution_count": 35,
     "metadata": {},
     "output_type": "execute_result"
    }
   ],
   "source": [
    "gpa.describe()"
   ]
  },
  {
   "cell_type": "code",
   "execution_count": 36,
   "metadata": {},
   "outputs": [],
   "source": [
    "gpa.columns =('StudentID','SchoolYear','SchoolName','SchoolCode','Grade','ELLServed','SpecialEducation','Section504Flag','AAM','SOCFFEJ','RemoteLearning','HomeLanguage','PrimaryLanguageName','Race','HighlyCapable','AdvancedLearning','FreeReducedLunch','Gender','Age','GPA','CreditsEarned')"
   ]
  },
  {
   "cell_type": "code",
   "execution_count": 59,
   "metadata": {},
   "outputs": [
    {
     "data": {
      "text/plain": [
       "(819335, 21)"
      ]
     },
     "execution_count": 59,
     "metadata": {},
     "output_type": "execute_result"
    }
   ],
   "source": [
    "gpa.shape"
   ]
  },
  {
   "cell_type": "code",
   "execution_count": 60,
   "metadata": {},
   "outputs": [],
   "source": [
    "gpa1 = gpa.dropna()"
   ]
  },
  {
   "cell_type": "code",
   "execution_count": 70,
   "metadata": {},
   "outputs": [
    {
     "name": "stdout",
     "output_type": "stream",
     "text": [
      "<class 'pandas.core.frame.DataFrame'>\n",
      "Int64Index: 404204 entries, 0 to 819328\n",
      "Data columns (total 21 columns):\n",
      " #   Column               Non-Null Count   Dtype  \n",
      "---  ------               --------------   -----  \n",
      " 0   StudentID            404204 non-null  int64  \n",
      " 1   SchoolYear           404204 non-null  int64  \n",
      " 2   SchoolName           404204 non-null  object \n",
      " 3   SchoolCode           404204 non-null  int64  \n",
      " 4   Grade                404204 non-null  int64  \n",
      " 5   ELLServed            404204 non-null  int64  \n",
      " 6   SpecialEducation     404204 non-null  int64  \n",
      " 7   Section504Flag       404204 non-null  int64  \n",
      " 8   AAM                  404204 non-null  int64  \n",
      " 9   SOCFFEJ              404204 non-null  int64  \n",
      " 10  RemoteLearning       404204 non-null  object \n",
      " 11  HomeLanguage         404204 non-null  object \n",
      " 12  PrimaryLanguageName  404204 non-null  object \n",
      " 13  Race                 404204 non-null  int64  \n",
      " 14  HighlyCapable        404204 non-null  int64  \n",
      " 15  AdvancedLearning     404204 non-null  int64  \n",
      " 16  FreeReducedLunch     404204 non-null  float64\n",
      " 17  Gender               404204 non-null  int64  \n",
      " 18  Age                  404204 non-null  int64  \n",
      " 19  GPA                  404204 non-null  float64\n",
      " 20  CreditsEarned        404204 non-null  float64\n",
      "dtypes: float64(3), int64(14), object(4)\n",
      "memory usage: 67.8+ MB\n"
     ]
    }
   ],
   "source": [
    "gpa2.info()"
   ]
  },
  {
   "cell_type": "code",
   "execution_count": 62,
   "metadata": {},
   "outputs": [
    {
     "data": {
      "text/plain": [
       "StudentID              0\n",
       "SchoolYear             0\n",
       "SchoolName             0\n",
       "SchoolCode             0\n",
       "Grade                  0\n",
       "ELLServed              0\n",
       "SpecialEducation       0\n",
       "Section504Flag         0\n",
       "AAM                    0\n",
       "SOCFFEJ                0\n",
       "RemoteLearning         0\n",
       "HomeLanguage           0\n",
       "PrimaryLanguageName    0\n",
       "Race                   0\n",
       "HighlyCapable          0\n",
       "AdvancedLearning       0\n",
       "FreeReducedLunch       0\n",
       "Gender                 0\n",
       "Age                    0\n",
       "GPA                    0\n",
       "CreditsEarned          0\n",
       "dtype: int64"
      ]
     },
     "execution_count": 62,
     "metadata": {},
     "output_type": "execute_result"
    }
   ],
   "source": [
    "gpa2.isnull().sum()"
   ]
  },
  {
   "cell_type": "code",
   "execution_count": 41,
   "metadata": {
    "slideshow": {
     "slide_type": "skip"
    }
   },
   "outputs": [],
   "source": [
    "gpa1.to_csv(r'data/gpa_data.csv')"
   ]
  },
  {
   "cell_type": "code",
   "execution_count": 69,
   "metadata": {},
   "outputs": [],
   "source": [
    "gpa2 = gpa1.replace({'AAM': {'Y':1, 'N': 0},\n",
    "            'SOCFFEJ': {'Y':1, 'N': 0},\n",
    "            'ELLServed': {'Y':1, 'N': 0},\n",
    "            'SpecialEducation':{'Y':1, 'N': 0},\n",
    "            'Section504Flag':{'Y':1, 'N': 0},\n",
    "            'Race':{'White':1, 'Black':2,'Asian':3, 'Hispanic':4, 'Pacific Islander':5,'American Indian':6, 'Multiracial':7},\n",
    "            'SpecialEducation':{'Y':1, 'N': 0},       \n",
    "            'Gender':{'F':0, 'M': 1, 'X':2}})"
   ]
  },
  {
   "cell_type": "markdown",
   "metadata": {},
   "source": [
    "GPA hist"
   ]
  },
  {
   "cell_type": "code",
   "execution_count": 42,
   "metadata": {},
   "outputs": [
    {
     "data": {
      "image/png": "[encoded data removed]",
      "text/plain": [
       "<Figure size 432x288 with 1 Axes>"
      ]
     },
     "metadata": {
      "needs_background": "light"
     },
     "output_type": "display_data"
    }
   ],
   "source": [
    "plt.hist(gpa2['GPA'], bins=8)\n",
    "plt.title('aggregated GPA of students')\n",
    "plt.xlabel('aggregated GPA')\n",
    "plt.ylabel('Number of students')\n",
    "plt.show()"
   ]
  },
  {
   "cell_type": "code",
   "execution_count": null,
   "metadata": {},
   "outputs": [],
   "source": [
    "Boxplot of demographic info"
   ]
  },
  {
   "cell_type": "code",
   "execution_count": 164,
   "metadata": {},
   "outputs": [
    {
     "data": {
      "text/plain": [
       "<matplotlib.axes._subplots.AxesSubplot at 0x209cd8ea788>"
      ]
     },
     "execution_count": 164,
     "metadata": {},
     "output_type": "execute_result"
    },
    {
     "data": {
      "image/png": "[encoded data removed]",
      "text/plain": [
       "<Figure size 720x360 with 1 Axes>"
      ]
     },
     "metadata": {
      "needs_background": "light"
     },
     "output_type": "display_data"
    }
   ],
   "source": [
    "plt.figure(figsize=(10, 5))\n",
    "plt.title(\"ELL and GPA\")\n",
    "sns.boxplot(y=\"ELLServed\", x=\"GPA\", data = gpa1)"
   ]
  },
  {
   "cell_type": "code",
   "execution_count": 165,
   "metadata": {},
   "outputs": [
    {
     "data": {
      "text/plain": [
       "<matplotlib.axes._subplots.AxesSubplot at 0x20a2b50e708>"
      ]
     },
     "execution_count": 165,
     "metadata": {},
     "output_type": "execute_result"
    },
    {
     "data": {
      "image/png": "[encoded data removed]",
      "text/plain": [
       "<Figure size 720x360 with 1 Axes>"
      ]
     },
     "metadata": {
      "needs_background": "light"
     },
     "output_type": "display_data"
    }
   ],
   "source": [
    "plt.figure(figsize=(10,5))\n",
    "plt.title(\"Special Educationd and GPA\")\n",
    "sns.boxplot(y=\"SpecialEducation\", x=\"GPA\", data = gpa1)"
   ]
  },
  {
   "cell_type": "code",
   "execution_count": 166,
   "metadata": {},
   "outputs": [
    {
     "data": {
      "text/plain": [
       "<matplotlib.axes._subplots.AxesSubplot at 0x209e4aa5448>"
      ]
     },
     "execution_count": 166,
     "metadata": {},
     "output_type": "execute_result"
    },
    {
     "data": {
      "image/png": "[encoded data removed]",
      "text/plain": [
       "<Figure size 720x360 with 1 Axes>"
      ]
     },
     "metadata": {
      "needs_background": "light"
     },
     "output_type": "display_data"
    }
   ],
   "source": [
    "plt.figure(figsize=(10,5))\n",
    "plt.title(\"SOCFFEJ and GPA\")\n",
    "sns.boxplot(y=\"SOCFFEJ\", x=\"GPA\", data = gpa1)"
   ]
  },
  {
   "cell_type": "code",
   "execution_count": 167,
   "metadata": {},
   "outputs": [
    {
     "data": {
      "text/plain": [
       "<matplotlib.axes._subplots.AxesSubplot at 0x209e1e10448>"
      ]
     },
     "execution_count": 167,
     "metadata": {},
     "output_type": "execute_result"
    },
    {
     "data": {
      "image/png": "[encoded data removed]",
      "text/plain": [
       "<Figure size 720x360 with 1 Axes>"
      ]
     },
     "metadata": {
      "needs_background": "light"
     },
     "output_type": "display_data"
    }
   ],
   "source": [
    "plt.figure(figsize=(10,5))\n",
    "plt.title(\"AAM and GPA\")\n",
    "sns.boxplot(y=\"AAM\", x=\"GPA\", data = gpa1)"
   ]
  },
  {
   "cell_type": "markdown",
   "metadata": {},
   "source": [
    "gender * age comparison"
   ]
  },
  {
   "cell_type": "code",
   "execution_count": 31,
   "metadata": {},
   "outputs": [
    {
     "data": {
      "image/png": "[encoded data removed]",
      "text/plain": [
       "<Figure size 432x288 with 1 Axes>"
      ]
     },
     "metadata": {
      "needs_background": "light"
     },
     "output_type": "display_data"
    }
   ],
   "source": [
    "sns.boxplot(x=\"Gender\", y=\"Age\", data=gpa1)\n",
    "plt.show()"
   ]
  },
  {
   "cell_type": "code",
   "execution_count": null,
   "metadata": {},
   "outputs": [],
   "source": [
    "features correlation"
   ]
  },
  {
   "cell_type": "code",
   "execution_count": 72,
   "metadata": {},
   "outputs": [
    {
     "data": {
      "text/html": [
       "<div>\n",
       "<style scoped>\n",
       "    .dataframe tbody tr th:only-of-type {\n",
       "        vertical-align: middle;\n",
       "    }\n",
       "\n",
       "    .dataframe tbody tr th {\n",
       "        vertical-align: top;\n",
       "    }\n",
       "\n",
       "    .dataframe thead th {\n",
       "        text-align: right;\n",
       "    }\n",
       "</style>\n",
       "<table border=\"1\" class=\"dataframe\">\n",
       "  <thead>\n",
       "    <tr style=\"text-align: right;\">\n",
       "      <th></th>\n",
       "      <th>StudentID</th>\n",
       "      <th>SchoolYear</th>\n",
       "      <th>SchoolCode</th>\n",
       "      <th>Grade</th>\n",
       "      <th>ELLServed</th>\n",
       "      <th>SpecialEducation</th>\n",
       "      <th>Section504Flag</th>\n",
       "      <th>AAM</th>\n",
       "      <th>SOCFFEJ</th>\n",
       "      <th>Race</th>\n",
       "      <th>HighlyCapable</th>\n",
       "      <th>AdvancedLearning</th>\n",
       "      <th>FreeReducedLunch</th>\n",
       "      <th>Gender</th>\n",
       "      <th>Age</th>\n",
       "      <th>GPA</th>\n",
       "      <th>CreditsEarned</th>\n",
       "    </tr>\n",
       "  </thead>\n",
       "  <tbody>\n",
       "    <tr>\n",
       "      <th>StudentID</th>\n",
       "      <td>1.000000</td>\n",
       "      <td>0.462399</td>\n",
       "      <td>0.084177</td>\n",
       "      <td>-0.094578</td>\n",
       "      <td>0.273226</td>\n",
       "      <td>-0.078722</td>\n",
       "      <td>-0.018226</td>\n",
       "      <td>-0.000708</td>\n",
       "      <td>0.040240</td>\n",
       "      <td>0.071348</td>\n",
       "      <td>-0.018863</td>\n",
       "      <td>-0.006228</td>\n",
       "      <td>0.013524</td>\n",
       "      <td>-0.010486</td>\n",
       "      <td>-0.446980</td>\n",
       "      <td>0.022855</td>\n",
       "      <td>-0.105905</td>\n",
       "    </tr>\n",
       "    <tr>\n",
       "      <th>SchoolYear</th>\n",
       "      <td>0.462399</td>\n",
       "      <td>1.000000</td>\n",
       "      <td>-0.036734</td>\n",
       "      <td>0.062206</td>\n",
       "      <td>-0.002118</td>\n",
       "      <td>0.009816</td>\n",
       "      <td>0.064404</td>\n",
       "      <td>-0.036356</td>\n",
       "      <td>-0.055496</td>\n",
       "      <td>0.031992</td>\n",
       "      <td>0.170495</td>\n",
       "      <td>0.262032</td>\n",
       "      <td>-0.082855</td>\n",
       "      <td>-0.006705</td>\n",
       "      <td>-0.900855</td>\n",
       "      <td>0.149914</td>\n",
       "      <td>0.069947</td>\n",
       "    </tr>\n",
       "    <tr>\n",
       "      <th>SchoolCode</th>\n",
       "      <td>0.084177</td>\n",
       "      <td>-0.036734</td>\n",
       "      <td>1.000000</td>\n",
       "      <td>0.056502</td>\n",
       "      <td>0.177579</td>\n",
       "      <td>0.090025</td>\n",
       "      <td>-0.020290</td>\n",
       "      <td>0.123631</td>\n",
       "      <td>0.196081</td>\n",
       "      <td>0.087533</td>\n",
       "      <td>-0.081743</td>\n",
       "      <td>-0.112977</td>\n",
       "      <td>0.178335</td>\n",
       "      <td>0.037488</td>\n",
       "      <td>0.116519</td>\n",
       "      <td>-0.231597</td>\n",
       "      <td>-0.104905</td>\n",
       "    </tr>\n",
       "    <tr>\n",
       "      <th>Grade</th>\n",
       "      <td>-0.094578</td>\n",
       "      <td>0.062206</td>\n",
       "      <td>0.056502</td>\n",
       "      <td>1.000000</td>\n",
       "      <td>-0.001711</td>\n",
       "      <td>-0.008524</td>\n",
       "      <td>0.010222</td>\n",
       "      <td>0.016467</td>\n",
       "      <td>0.027685</td>\n",
       "      <td>-0.006138</td>\n",
       "      <td>-0.032089</td>\n",
       "      <td>-0.079032</td>\n",
       "      <td>0.009882</td>\n",
       "      <td>-0.009960</td>\n",
       "      <td>0.307721</td>\n",
       "      <td>0.003172</td>\n",
       "      <td>0.839306</td>\n",
       "    </tr>\n",
       "    <tr>\n",
       "      <th>ELLServed</th>\n",
       "      <td>0.273226</td>\n",
       "      <td>-0.002118</td>\n",
       "      <td>0.177579</td>\n",
       "      <td>-0.001711</td>\n",
       "      <td>1.000000</td>\n",
       "      <td>0.058110</td>\n",
       "      <td>-0.063886</td>\n",
       "      <td>0.070386</td>\n",
       "      <td>0.223615</td>\n",
       "      <td>0.097798</td>\n",
       "      <td>-0.074178</td>\n",
       "      <td>-0.104341</td>\n",
       "      <td>0.236237</td>\n",
       "      <td>0.034659</td>\n",
       "      <td>0.052083</td>\n",
       "      <td>-0.095488</td>\n",
       "      <td>0.014131</td>\n",
       "    </tr>\n",
       "    <tr>\n",
       "      <th>SpecialEducation</th>\n",
       "      <td>-0.078722</td>\n",
       "      <td>0.009816</td>\n",
       "      <td>0.090025</td>\n",
       "      <td>-0.008524</td>\n",
       "      <td>0.058110</td>\n",
       "      <td>1.000000</td>\n",
       "      <td>-0.071514</td>\n",
       "      <td>0.121335</td>\n",
       "      <td>0.092745</td>\n",
       "      <td>0.025229</td>\n",
       "      <td>-0.079657</td>\n",
       "      <td>-0.114376</td>\n",
       "      <td>0.126179</td>\n",
       "      <td>0.117783</td>\n",
       "      <td>0.016398</td>\n",
       "      <td>-0.210351</td>\n",
       "      <td>-0.050686</td>\n",
       "    </tr>\n",
       "    <tr>\n",
       "      <th>Section504Flag</th>\n",
       "      <td>-0.018226</td>\n",
       "      <td>0.064404</td>\n",
       "      <td>-0.020290</td>\n",
       "      <td>0.010222</td>\n",
       "      <td>-0.063886</td>\n",
       "      <td>-0.071514</td>\n",
       "      <td>1.000000</td>\n",
       "      <td>-0.052785</td>\n",
       "      <td>-0.115241</td>\n",
       "      <td>-0.068993</td>\n",
       "      <td>0.052540</td>\n",
       "      <td>0.053552</td>\n",
       "      <td>-0.116236</td>\n",
       "      <td>0.000643</td>\n",
       "      <td>-0.062951</td>\n",
       "      <td>-0.010500</td>\n",
       "      <td>0.003678</td>\n",
       "    </tr>\n",
       "    <tr>\n",
       "      <th>AAM</th>\n",
       "      <td>-0.000708</td>\n",
       "      <td>-0.036356</td>\n",
       "      <td>0.123631</td>\n",
       "      <td>0.016467</td>\n",
       "      <td>0.070386</td>\n",
       "      <td>0.121335</td>\n",
       "      <td>-0.052785</td>\n",
       "      <td>1.000000</td>\n",
       "      <td>0.388586</td>\n",
       "      <td>-0.088319</td>\n",
       "      <td>-0.077672</td>\n",
       "      <td>-0.103530</td>\n",
       "      <td>0.244147</td>\n",
       "      <td>0.338913</td>\n",
       "      <td>0.062771</td>\n",
       "      <td>-0.263264</td>\n",
       "      <td>-0.034542</td>\n",
       "    </tr>\n",
       "    <tr>\n",
       "      <th>SOCFFEJ</th>\n",
       "      <td>0.040240</td>\n",
       "      <td>-0.055496</td>\n",
       "      <td>0.196081</td>\n",
       "      <td>0.027685</td>\n",
       "      <td>0.223615</td>\n",
       "      <td>0.092745</td>\n",
       "      <td>-0.115241</td>\n",
       "      <td>0.388586</td>\n",
       "      <td>1.000000</td>\n",
       "      <td>0.282467</td>\n",
       "      <td>-0.172401</td>\n",
       "      <td>-0.224823</td>\n",
       "      <td>0.484328</td>\n",
       "      <td>0.013623</td>\n",
       "      <td>0.090227</td>\n",
       "      <td>-0.341731</td>\n",
       "      <td>-0.019049</td>\n",
       "    </tr>\n",
       "    <tr>\n",
       "      <th>Race</th>\n",
       "      <td>0.071348</td>\n",
       "      <td>0.031992</td>\n",
       "      <td>0.087533</td>\n",
       "      <td>-0.006138</td>\n",
       "      <td>0.097798</td>\n",
       "      <td>0.025229</td>\n",
       "      <td>-0.068993</td>\n",
       "      <td>-0.088319</td>\n",
       "      <td>0.282467</td>\n",
       "      <td>1.000000</td>\n",
       "      <td>-0.067752</td>\n",
       "      <td>-0.081488</td>\n",
       "      <td>0.221708</td>\n",
       "      <td>-0.005517</td>\n",
       "      <td>-0.022654</td>\n",
       "      <td>-0.124059</td>\n",
       "      <td>-0.024376</td>\n",
       "    </tr>\n",
       "    <tr>\n",
       "      <th>HighlyCapable</th>\n",
       "      <td>-0.018863</td>\n",
       "      <td>0.170495</td>\n",
       "      <td>-0.081743</td>\n",
       "      <td>-0.032089</td>\n",
       "      <td>-0.074178</td>\n",
       "      <td>-0.079657</td>\n",
       "      <td>0.052540</td>\n",
       "      <td>-0.077672</td>\n",
       "      <td>-0.172401</td>\n",
       "      <td>-0.067752</td>\n",
       "      <td>1.000000</td>\n",
       "      <td>0.708181</td>\n",
       "      <td>-0.179034</td>\n",
       "      <td>0.014120</td>\n",
       "      <td>-0.177193</td>\n",
       "      <td>0.218528</td>\n",
       "      <td>-0.007844</td>\n",
       "    </tr>\n",
       "    <tr>\n",
       "      <th>AdvancedLearning</th>\n",
       "      <td>-0.006228</td>\n",
       "      <td>0.262032</td>\n",
       "      <td>-0.112977</td>\n",
       "      <td>-0.079032</td>\n",
       "      <td>-0.104341</td>\n",
       "      <td>-0.114376</td>\n",
       "      <td>0.053552</td>\n",
       "      <td>-0.103530</td>\n",
       "      <td>-0.224823</td>\n",
       "      <td>-0.081488</td>\n",
       "      <td>0.708181</td>\n",
       "      <td>1.000000</td>\n",
       "      <td>-0.232202</td>\n",
       "      <td>-0.001332</td>\n",
       "      <td>-0.281428</td>\n",
       "      <td>0.285488</td>\n",
       "      <td>-0.033713</td>\n",
       "    </tr>\n",
       "    <tr>\n",
       "      <th>FreeReducedLunch</th>\n",
       "      <td>0.013524</td>\n",
       "      <td>-0.082855</td>\n",
       "      <td>0.178335</td>\n",
       "      <td>0.009882</td>\n",
       "      <td>0.236237</td>\n",
       "      <td>0.126179</td>\n",
       "      <td>-0.116236</td>\n",
       "      <td>0.244147</td>\n",
       "      <td>0.484328</td>\n",
       "      <td>0.221708</td>\n",
       "      <td>-0.179034</td>\n",
       "      <td>-0.232202</td>\n",
       "      <td>1.000000</td>\n",
       "      <td>0.010059</td>\n",
       "      <td>0.110959</td>\n",
       "      <td>-0.346842</td>\n",
       "      <td>-0.027197</td>\n",
       "    </tr>\n",
       "    <tr>\n",
       "      <th>Gender</th>\n",
       "      <td>-0.010486</td>\n",
       "      <td>-0.006705</td>\n",
       "      <td>0.037488</td>\n",
       "      <td>-0.009960</td>\n",
       "      <td>0.034659</td>\n",
       "      <td>0.117783</td>\n",
       "      <td>0.000643</td>\n",
       "      <td>0.338913</td>\n",
       "      <td>0.013623</td>\n",
       "      <td>-0.005517</td>\n",
       "      <td>0.014120</td>\n",
       "      <td>-0.001332</td>\n",
       "      <td>0.010059</td>\n",
       "      <td>1.000000</td>\n",
       "      <td>0.019750</td>\n",
       "      <td>-0.176308</td>\n",
       "      <td>-0.039189</td>\n",
       "    </tr>\n",
       "    <tr>\n",
       "      <th>Age</th>\n",
       "      <td>-0.446980</td>\n",
       "      <td>-0.900855</td>\n",
       "      <td>0.116519</td>\n",
       "      <td>0.307721</td>\n",
       "      <td>0.052083</td>\n",
       "      <td>0.016398</td>\n",
       "      <td>-0.062951</td>\n",
       "      <td>0.062771</td>\n",
       "      <td>0.090227</td>\n",
       "      <td>-0.022654</td>\n",
       "      <td>-0.177193</td>\n",
       "      <td>-0.281428</td>\n",
       "      <td>0.110959</td>\n",
       "      <td>0.019750</td>\n",
       "      <td>1.000000</td>\n",
       "      <td>-0.166945</td>\n",
       "      <td>0.244209</td>\n",
       "    </tr>\n",
       "    <tr>\n",
       "      <th>GPA</th>\n",
       "      <td>0.022855</td>\n",
       "      <td>0.149914</td>\n",
       "      <td>-0.231597</td>\n",
       "      <td>0.003172</td>\n",
       "      <td>-0.095488</td>\n",
       "      <td>-0.210351</td>\n",
       "      <td>-0.010500</td>\n",
       "      <td>-0.263264</td>\n",
       "      <td>-0.341731</td>\n",
       "      <td>-0.124059</td>\n",
       "      <td>0.218528</td>\n",
       "      <td>0.285488</td>\n",
       "      <td>-0.346842</td>\n",
       "      <td>-0.176308</td>\n",
       "      <td>-0.166945</td>\n",
       "      <td>1.000000</td>\n",
       "      <td>0.184267</td>\n",
       "    </tr>\n",
       "    <tr>\n",
       "      <th>CreditsEarned</th>\n",
       "      <td>-0.105905</td>\n",
       "      <td>0.069947</td>\n",
       "      <td>-0.104905</td>\n",
       "      <td>0.839306</td>\n",
       "      <td>0.014131</td>\n",
       "      <td>-0.050686</td>\n",
       "      <td>0.003678</td>\n",
       "      <td>-0.034542</td>\n",
       "      <td>-0.019049</td>\n",
       "      <td>-0.024376</td>\n",
       "      <td>-0.007844</td>\n",
       "      <td>-0.033713</td>\n",
       "      <td>-0.027197</td>\n",
       "      <td>-0.039189</td>\n",
       "      <td>0.244209</td>\n",
       "      <td>0.184267</td>\n",
       "      <td>1.000000</td>\n",
       "    </tr>\n",
       "  </tbody>\n",
       "</table>\n",
       "</div>"
      ],
      "text/plain": [
       "                  StudentID  SchoolYear  SchoolCode     Grade  ELLServed  \\\n",
       "StudentID          1.000000    0.462399    0.084177 -0.094578   0.273226   \n",
       "SchoolYear         0.462399    1.000000   -0.036734  0.062206  -0.002118   \n",
       "SchoolCode         0.084177   -0.036734    1.000000  0.056502   0.177579   \n",
       "Grade             -0.094578    0.062206    0.056502  1.000000  -0.001711   \n",
       "ELLServed          0.273226   -0.002118    0.177579 -0.001711   1.000000   \n",
       "SpecialEducation  -0.078722    0.009816    0.090025 -0.008524   0.058110   \n",
       "Section504Flag    -0.018226    0.064404   -0.020290  0.010222  -0.063886   \n",
       "AAM               -0.000708   -0.036356    0.123631  0.016467   0.070386   \n",
       "SOCFFEJ            0.040240   -0.055496    0.196081  0.027685   0.223615   \n",
       "Race               0.071348    0.031992    0.087533 -0.006138   0.097798   \n",
       "HighlyCapable     -0.018863    0.170495   -0.081743 -0.032089  -0.074178   \n",
       "AdvancedLearning  -0.006228    0.262032   -0.112977 -0.079032  -0.104341   \n",
       "FreeReducedLunch   0.013524   -0.082855    0.178335  0.009882   0.236237   \n",
       "Gender            -0.010486   -0.006705    0.037488 -0.009960   0.034659   \n",
       "Age               -0.446980   -0.900855    0.116519  0.307721   0.052083   \n",
       "GPA                0.022855    0.149914   -0.231597  0.003172  -0.095488   \n",
       "CreditsEarned     -0.105905    0.069947   -0.104905  0.839306   0.014131   \n",
       "\n",
       "                  SpecialEducation  Section504Flag       AAM   SOCFFEJ  \\\n",
       "StudentID                -0.078722       -0.018226 -0.000708  0.040240   \n",
       "SchoolYear                0.009816        0.064404 -0.036356 -0.055496   \n",
       "SchoolCode                0.090025       -0.020290  0.123631  0.196081   \n",
       "Grade                    -0.008524        0.010222  0.016467  0.027685   \n",
       "ELLServed                 0.058110       -0.063886  0.070386  0.223615   \n",
       "SpecialEducation          1.000000       -0.071514  0.121335  0.092745   \n",
       "Section504Flag           -0.071514        1.000000 -0.052785 -0.115241   \n",
       "AAM                       0.121335       -0.052785  1.000000  0.388586   \n",
       "SOCFFEJ                   0.092745       -0.115241  0.388586  1.000000   \n",
       "Race                      0.025229       -0.068993 -0.088319  0.282467   \n",
       "HighlyCapable            -0.079657        0.052540 -0.077672 -0.172401   \n",
       "AdvancedLearning         -0.114376        0.053552 -0.103530 -0.224823   \n",
       "FreeReducedLunch          0.126179       -0.116236  0.244147  0.484328   \n",
       "Gender                    0.117783        0.000643  0.338913  0.013623   \n",
       "Age                       0.016398       -0.062951  0.062771  0.090227   \n",
       "GPA                      -0.210351       -0.010500 -0.263264 -0.341731   \n",
       "CreditsEarned            -0.050686        0.003678 -0.034542 -0.019049   \n",
       "\n",
       "                      Race  HighlyCapable  AdvancedLearning  FreeReducedLunch  \\\n",
       "StudentID         0.071348      -0.018863         -0.006228          0.013524   \n",
       "SchoolYear        0.031992       0.170495          0.262032         -0.082855   \n",
       "SchoolCode        0.087533      -0.081743         -0.112977          0.178335   \n",
       "Grade            -0.006138      -0.032089         -0.079032          0.009882   \n",
       "ELLServed         0.097798      -0.074178         -0.104341          0.236237   \n",
       "SpecialEducation  0.025229      -0.079657         -0.114376          0.126179   \n",
       "Section504Flag   -0.068993       0.052540          0.053552         -0.116236   \n",
       "AAM              -0.088319      -0.077672         -0.103530          0.244147   \n",
       "SOCFFEJ           0.282467      -0.172401         -0.224823          0.484328   \n",
       "Race              1.000000      -0.067752         -0.081488          0.221708   \n",
       "HighlyCapable    -0.067752       1.000000          0.708181         -0.179034   \n",
       "AdvancedLearning -0.081488       0.708181          1.000000         -0.232202   \n",
       "FreeReducedLunch  0.221708      -0.179034         -0.232202          1.000000   \n",
       "Gender           -0.005517       0.014120         -0.001332          0.010059   \n",
       "Age              -0.022654      -0.177193         -0.281428          0.110959   \n",
       "GPA              -0.124059       0.218528          0.285488         -0.346842   \n",
       "CreditsEarned    -0.024376      -0.007844         -0.033713         -0.027197   \n",
       "\n",
       "                    Gender       Age       GPA  CreditsEarned  \n",
       "StudentID        -0.010486 -0.446980  0.022855      -0.105905  \n",
       "SchoolYear       -0.006705 -0.900855  0.149914       0.069947  \n",
       "SchoolCode        0.037488  0.116519 -0.231597      -0.104905  \n",
       "Grade            -0.009960  0.307721  0.003172       0.839306  \n",
       "ELLServed         0.034659  0.052083 -0.095488       0.014131  \n",
       "SpecialEducation  0.117783  0.016398 -0.210351      -0.050686  \n",
       "Section504Flag    0.000643 -0.062951 -0.010500       0.003678  \n",
       "AAM               0.338913  0.062771 -0.263264      -0.034542  \n",
       "SOCFFEJ           0.013623  0.090227 -0.341731      -0.019049  \n",
       "Race             -0.005517 -0.022654 -0.124059      -0.024376  \n",
       "HighlyCapable     0.014120 -0.177193  0.218528      -0.007844  \n",
       "AdvancedLearning -0.001332 -0.281428  0.285488      -0.033713  \n",
       "FreeReducedLunch  0.010059  0.110959 -0.346842      -0.027197  \n",
       "Gender            1.000000  0.019750 -0.176308      -0.039189  \n",
       "Age               0.019750  1.000000 -0.166945       0.244209  \n",
       "GPA              -0.176308 -0.166945  1.000000       0.184267  \n",
       "CreditsEarned    -0.039189  0.244209  0.184267       1.000000  "
      ]
     },
     "execution_count": 72,
     "metadata": {},
     "output_type": "execute_result"
    }
   ],
   "source": [
    "gpa2.corr()"
   ]
  },
  {
   "cell_type": "code",
   "execution_count": 71,
   "metadata": {
    "slideshow": {
     "slide_type": "slide"
    }
   },
   "outputs": [
    {
     "name": "stderr",
     "output_type": "stream",
     "text": [
      "ERROR:root:Internal Python error in the inspect module.\n",
      "Below is the traceback from this internal error.\n",
      "\n"
     ]
    },
    {
     "name": "stdout",
     "output_type": "stream",
     "text": [
      "Traceback (most recent call last):\n",
      "  File \"C:\\Users\\zhang\\anaconda3\\lib\\site-packages\\IPython\\core\\interactiveshell.py\", line 3331, in run_code\n",
      "    exec(code_obj, self.user_global_ns, self.user_ns)\n",
      "  File \"<ipython-input-71-ae71d556598f>\", line 3, in <module>\n",
      "    plt.savefig('data/gpa_features_corr.png', transparent=True,dpi=300, bbox_inches='tight')\n",
      "  File \"C:\\Users\\zhang\\anaconda3\\lib\\site-packages\\matplotlib\\pyplot.py\", line 729, in savefig\n",
      "    res = fig.savefig(*args, **kwargs)\n",
      "  File \"C:\\Users\\zhang\\anaconda3\\lib\\site-packages\\matplotlib\\figure.py\", line 2180, in savefig\n",
      "    self.canvas.print_figure(fname, **kwargs)\n",
      "  File \"C:\\Users\\zhang\\anaconda3\\lib\\site-packages\\matplotlib\\backend_bases.py\", line 2065, in print_figure\n",
      "    **kwargs)\n",
      "  File \"C:\\Users\\zhang\\anaconda3\\lib\\site-packages\\matplotlib\\backends\\backend_agg.py\", line 527, in print_png\n",
      "    FigureCanvasAgg.draw(self)\n",
      "  File \"C:\\Users\\zhang\\anaconda3\\lib\\site-packages\\matplotlib\\backends\\backend_agg.py\", line 388, in draw\n",
      "    self.figure.draw(self.renderer)\n",
      "  File \"C:\\Users\\zhang\\anaconda3\\lib\\site-packages\\matplotlib\\artist.py\", line 38, in draw_wrapper\n",
      "    return draw(artist, renderer, *args, **kwargs)\n",
      "  File \"C:\\Users\\zhang\\anaconda3\\lib\\site-packages\\matplotlib\\figure.py\", line 1709, in draw\n",
      "    renderer, self, artists, self.suppressComposite)\n",
      "  File \"C:\\Users\\zhang\\anaconda3\\lib\\site-packages\\matplotlib\\image.py\", line 135, in _draw_list_compositing_images\n",
      "    a.draw(renderer)\n",
      "  File \"C:\\Users\\zhang\\anaconda3\\lib\\site-packages\\matplotlib\\artist.py\", line 38, in draw_wrapper\n",
      "    return draw(artist, renderer, *args, **kwargs)\n",
      "  File \"C:\\Users\\zhang\\anaconda3\\lib\\site-packages\\matplotlib\\axes\\_base.py\", line 2647, in draw\n",
      "    mimage._draw_list_compositing_images(renderer, self, artists)\n",
      "  File \"C:\\Users\\zhang\\anaconda3\\lib\\site-packages\\matplotlib\\image.py\", line 135, in _draw_list_compositing_images\n",
      "    a.draw(renderer)\n",
      "  File \"C:\\Users\\zhang\\anaconda3\\lib\\site-packages\\matplotlib\\artist.py\", line 38, in draw_wrapper\n",
      "    return draw(artist, renderer, *args, **kwargs)\n",
      "  File \"C:\\Users\\zhang\\anaconda3\\lib\\site-packages\\matplotlib\\collections.py\", line 866, in draw\n",
      "    Collection.draw(self, renderer)\n",
      "  File \"C:\\Users\\zhang\\anaconda3\\lib\\site-packages\\matplotlib\\artist.py\", line 38, in draw_wrapper\n",
      "    return draw(artist, renderer, *args, **kwargs)\n",
      "  File \"C:\\Users\\zhang\\anaconda3\\lib\\site-packages\\matplotlib\\collections.py\", line 331, in draw\n",
      "    gc.restore()\n",
      "KeyboardInterrupt\n",
      "\n",
      "During handling of the above exception, another exception occurred:\n",
      "\n",
      "Traceback (most recent call last):\n",
      "  File \"C:\\Users\\zhang\\anaconda3\\lib\\site-packages\\IPython\\core\\interactiveshell.py\", line 2044, in showtraceback\n",
      "    stb = value._render_traceback_()\n",
      "AttributeError: 'KeyboardInterrupt' object has no attribute '_render_traceback_'\n",
      "\n",
      "During handling of the above exception, another exception occurred:\n",
      "\n",
      "Traceback (most recent call last):\n",
      "  File \"C:\\Users\\zhang\\anaconda3\\lib\\genericpath.py\", line 19, in exists\n",
      "    os.stat(path)\n",
      "OSError: [WinError 123] The filename, directory name, or volume label syntax is incorrect: '<ipython-input-71-ae71d556598f>'\n",
      "\n",
      "During handling of the above exception, another exception occurred:\n",
      "\n",
      "Traceback (most recent call last):\n",
      "  File \"C:\\Users\\zhang\\anaconda3\\lib\\site-packages\\IPython\\core\\ultratb.py\", line 1151, in get_records\n",
      "    return _fixed_getinnerframes(etb, number_of_lines_of_context, tb_offset)\n",
      "  File \"C:\\Users\\zhang\\anaconda3\\lib\\site-packages\\IPython\\core\\ultratb.py\", line 319, in wrapped\n",
      "    return f(*args, **kwargs)\n",
      "  File \"C:\\Users\\zhang\\anaconda3\\lib\\site-packages\\IPython\\core\\ultratb.py\", line 353, in _fixed_getinnerframes\n",
      "    records = fix_frame_records_filenames(inspect.getinnerframes(etb, context))\n",
      "  File \"C:\\Users\\zhang\\anaconda3\\lib\\inspect.py\", line 1502, in getinnerframes\n",
      "    frameinfo = (tb.tb_frame,) + getframeinfo(tb, context)\n",
      "  File \"C:\\Users\\zhang\\anaconda3\\lib\\inspect.py\", line 1464, in getframeinfo\n",
      "    lines, lnum = findsource(frame)\n",
      "  File \"C:\\Users\\zhang\\anaconda3\\lib\\site-packages\\IPython\\core\\ultratb.py\", line 173, in findsource\n",
      "    file = getsourcefile(object) or getfile(object)\n",
      "  File \"C:\\Users\\zhang\\anaconda3\\lib\\inspect.py\", line 693, in getsourcefile\n",
      "    if os.path.exists(filename):\n",
      "  File \"C:\\Users\\zhang\\anaconda3\\lib\\genericpath.py\", line 19, in exists\n",
      "    os.stat(path)\n",
      "KeyboardInterrupt\n"
     ]
    },
    {
     "ename": "KeyboardInterrupt",
     "evalue": "",
     "output_type": "error",
     "traceback": [
      "\u001b[1;31m---------------------------------------------------------------------------\u001b[0m"
     ]
    },
    {
     "data": {
      "image/png": "[encoded data removed]",
      "text/plain": [
       "<Figure size 900x900 with 30 Axes>"
      ]
     },
     "metadata": {
      "needs_background": "light"
     },
     "output_type": "display_data"
    }
   ],
   "source": [
    "sns.pairplot(gpa2[['Race','Gender','Age','ELLServed','FreeReducedLunch','SpecialEducation','SOCFFEJ','AAM','HighlyCapable','AdvancedLearning','CreditsEarned']])\n",
    "plt.grid(b=None)\n",
    "plt.savefig('data/gpa_features_corr.png', transparent=True,dpi=300, bbox_inches='tight')\n",
    "plt.show()"
   ]
  },
  {
   "cell_type": "code",
   "execution_count": 25,
   "metadata": {
    "slideshow": {
     "slide_type": "skip"
    }
   },
   "outputs": [],
   "source": [
    "##scatter plots of all correlation\n",
    "feature_cols =['Race','Gender','Grade','Age','ELLServed','FreeReducedLunch','SpecialEducation','SOCFFEJ','AAM','HighlyCapable','AdvancedLearning','CreditsEarned']"
   ]
  },
  {
   "cell_type": "code",
   "execution_count": 17,
   "metadata": {
    "slideshow": {
     "slide_type": "slide"
    }
   },
   "outputs": [
    {
     "ename": "KeyboardInterrupt",
     "evalue": "",
     "output_type": "error",
     "traceback": [
      "\u001b[1;31m---------------------------------------------------------------------------\u001b[0m",
      "\u001b[1;31mKeyboardInterrupt\u001b[0m                         Traceback (most recent call last)",
      "\u001b[1;32m<ipython-input-17-f36d71729845>\u001b[0m in \u001b[0;36m<module>\u001b[1;34m\u001b[0m\n\u001b[1;32m----> 1\u001b[1;33m \u001b[0msns\u001b[0m\u001b[1;33m.\u001b[0m\u001b[0mpairplot\u001b[0m\u001b[1;33m(\u001b[0m\u001b[0mgpa2\u001b[0m\u001b[1;33m,\u001b[0m \u001b[0mx_vars\u001b[0m\u001b[1;33m=\u001b[0m\u001b[0mfeature_cols\u001b[0m\u001b[1;33m,\u001b[0m \u001b[0my_vars\u001b[0m\u001b[1;33m=\u001b[0m\u001b[1;34m'GPA'\u001b[0m\u001b[1;33m,\u001b[0m \u001b[0mkind\u001b[0m\u001b[1;33m=\u001b[0m\u001b[1;34m'reg'\u001b[0m\u001b[1;33m)\u001b[0m\u001b[1;33m;\u001b[0m\u001b[1;33m\u001b[0m\u001b[1;33m\u001b[0m\u001b[0m\n\u001b[0m\u001b[0;32m      2\u001b[0m \u001b[0mplt\u001b[0m\u001b[1;33m.\u001b[0m\u001b[0mgrid\u001b[0m\u001b[1;33m(\u001b[0m\u001b[0mb\u001b[0m\u001b[1;33m=\u001b[0m\u001b[1;32mNone\u001b[0m\u001b[1;33m)\u001b[0m\u001b[1;33m\u001b[0m\u001b[1;33m\u001b[0m\u001b[0m\n\u001b[0;32m      3\u001b[0m \u001b[0mplt\u001b[0m\u001b[1;33m.\u001b[0m\u001b[0msavefig\u001b[0m\u001b[1;33m(\u001b[0m\u001b[1;34m'data/gpa_corr.png'\u001b[0m\u001b[1;33m,\u001b[0m \u001b[0mtransparent\u001b[0m\u001b[1;33m=\u001b[0m\u001b[1;32mTrue\u001b[0m\u001b[1;33m,\u001b[0m\u001b[0mdpi\u001b[0m\u001b[1;33m=\u001b[0m\u001b[1;36m300\u001b[0m\u001b[1;33m,\u001b[0m \u001b[0mbbox_inches\u001b[0m\u001b[1;33m=\u001b[0m\u001b[1;34m'tight'\u001b[0m\u001b[1;33m)\u001b[0m\u001b[1;33m\u001b[0m\u001b[1;33m\u001b[0m\u001b[0m\n\u001b[0;32m      4\u001b[0m \u001b[0mplt\u001b[0m\u001b[1;33m.\u001b[0m\u001b[0mshow\u001b[0m\u001b[1;33m(\u001b[0m\u001b[1;33m)\u001b[0m\u001b[1;33m\u001b[0m\u001b[1;33m\u001b[0m\u001b[0m\n",
      "\u001b[1;32m~\\anaconda3\\lib\\site-packages\\seaborn\\axisgrid.py\u001b[0m in \u001b[0;36mpairplot\u001b[1;34m(data, hue, hue_order, palette, vars, x_vars, y_vars, kind, diag_kind, markers, height, aspect, corner, dropna, plot_kws, diag_kws, grid_kws, size)\u001b[0m\n\u001b[0;32m   2132\u001b[0m     \u001b[1;32melif\u001b[0m \u001b[0mkind\u001b[0m \u001b[1;33m==\u001b[0m \u001b[1;34m\"reg\"\u001b[0m\u001b[1;33m:\u001b[0m\u001b[1;33m\u001b[0m\u001b[1;33m\u001b[0m\u001b[0m\n\u001b[0;32m   2133\u001b[0m         \u001b[1;32mfrom\u001b[0m \u001b[1;33m.\u001b[0m\u001b[0mregression\u001b[0m \u001b[1;32mimport\u001b[0m \u001b[0mregplot\u001b[0m  \u001b[1;31m# Avoid circular import\u001b[0m\u001b[1;33m\u001b[0m\u001b[1;33m\u001b[0m\u001b[0m\n\u001b[1;32m-> 2134\u001b[1;33m         \u001b[0mplotter\u001b[0m\u001b[1;33m(\u001b[0m\u001b[0mregplot\u001b[0m\u001b[1;33m,\u001b[0m \u001b[1;33m**\u001b[0m\u001b[0mplot_kws\u001b[0m\u001b[1;33m)\u001b[0m\u001b[1;33m\u001b[0m\u001b[1;33m\u001b[0m\u001b[0m\n\u001b[0m\u001b[0;32m   2135\u001b[0m \u001b[1;33m\u001b[0m\u001b[0m\n\u001b[0;32m   2136\u001b[0m     \u001b[1;31m# Add a legend\u001b[0m\u001b[1;33m\u001b[0m\u001b[1;33m\u001b[0m\u001b[1;33m\u001b[0m\u001b[0m\n",
      "\u001b[1;32m~\\anaconda3\\lib\\site-packages\\seaborn\\axisgrid.py\u001b[0m in \u001b[0;36mmap\u001b[1;34m(self, func, **kwargs)\u001b[0m\n\u001b[0;32m   1363\u001b[0m         \u001b[0mrow_indices\u001b[0m\u001b[1;33m,\u001b[0m \u001b[0mcol_indices\u001b[0m \u001b[1;33m=\u001b[0m \u001b[0mnp\u001b[0m\u001b[1;33m.\u001b[0m\u001b[0mindices\u001b[0m\u001b[1;33m(\u001b[0m\u001b[0mself\u001b[0m\u001b[1;33m.\u001b[0m\u001b[0maxes\u001b[0m\u001b[1;33m.\u001b[0m\u001b[0mshape\u001b[0m\u001b[1;33m)\u001b[0m\u001b[1;33m\u001b[0m\u001b[1;33m\u001b[0m\u001b[0m\n\u001b[0;32m   1364\u001b[0m         \u001b[0mindices\u001b[0m \u001b[1;33m=\u001b[0m \u001b[0mzip\u001b[0m\u001b[1;33m(\u001b[0m\u001b[0mrow_indices\u001b[0m\u001b[1;33m.\u001b[0m\u001b[0mflat\u001b[0m\u001b[1;33m,\u001b[0m \u001b[0mcol_indices\u001b[0m\u001b[1;33m.\u001b[0m\u001b[0mflat\u001b[0m\u001b[1;33m)\u001b[0m\u001b[1;33m\u001b[0m\u001b[1;33m\u001b[0m\u001b[0m\n\u001b[1;32m-> 1365\u001b[1;33m         \u001b[0mself\u001b[0m\u001b[1;33m.\u001b[0m\u001b[0m_map_bivariate\u001b[0m\u001b[1;33m(\u001b[0m\u001b[0mfunc\u001b[0m\u001b[1;33m,\u001b[0m \u001b[0mindices\u001b[0m\u001b[1;33m,\u001b[0m \u001b[1;33m**\u001b[0m\u001b[0mkwargs\u001b[0m\u001b[1;33m)\u001b[0m\u001b[1;33m\u001b[0m\u001b[1;33m\u001b[0m\u001b[0m\n\u001b[0m\u001b[0;32m   1366\u001b[0m         \u001b[1;32mreturn\u001b[0m \u001b[0mself\u001b[0m\u001b[1;33m\u001b[0m\u001b[1;33m\u001b[0m\u001b[0m\n\u001b[0;32m   1367\u001b[0m \u001b[1;33m\u001b[0m\u001b[0m\n",
      "\u001b[1;32m~\\anaconda3\\lib\\site-packages\\seaborn\\axisgrid.py\u001b[0m in \u001b[0;36m_map_bivariate\u001b[1;34m(self, func, indices, **kwargs)\u001b[0m\n\u001b[0;32m   1504\u001b[0m             \u001b[0my_var\u001b[0m \u001b[1;33m=\u001b[0m \u001b[0mself\u001b[0m\u001b[1;33m.\u001b[0m\u001b[0my_vars\u001b[0m\u001b[1;33m[\u001b[0m\u001b[0mi\u001b[0m\u001b[1;33m]\u001b[0m\u001b[1;33m\u001b[0m\u001b[1;33m\u001b[0m\u001b[0m\n\u001b[0;32m   1505\u001b[0m             \u001b[0max\u001b[0m \u001b[1;33m=\u001b[0m \u001b[0mself\u001b[0m\u001b[1;33m.\u001b[0m\u001b[0maxes\u001b[0m\u001b[1;33m[\u001b[0m\u001b[0mi\u001b[0m\u001b[1;33m,\u001b[0m \u001b[0mj\u001b[0m\u001b[1;33m]\u001b[0m\u001b[1;33m\u001b[0m\u001b[1;33m\u001b[0m\u001b[0m\n\u001b[1;32m-> 1506\u001b[1;33m             \u001b[0mself\u001b[0m\u001b[1;33m.\u001b[0m\u001b[0m_plot_bivariate\u001b[0m\u001b[1;33m(\u001b[0m\u001b[0mx_var\u001b[0m\u001b[1;33m,\u001b[0m \u001b[0my_var\u001b[0m\u001b[1;33m,\u001b[0m \u001b[0max\u001b[0m\u001b[1;33m,\u001b[0m \u001b[0mfunc\u001b[0m\u001b[1;33m,\u001b[0m \u001b[0mkw_color\u001b[0m\u001b[1;33m,\u001b[0m \u001b[1;33m**\u001b[0m\u001b[0mkws\u001b[0m\u001b[1;33m)\u001b[0m\u001b[1;33m\u001b[0m\u001b[1;33m\u001b[0m\u001b[0m\n\u001b[0m\u001b[0;32m   1507\u001b[0m         \u001b[0mself\u001b[0m\u001b[1;33m.\u001b[0m\u001b[0m_add_axis_labels\u001b[0m\u001b[1;33m(\u001b[0m\u001b[1;33m)\u001b[0m\u001b[1;33m\u001b[0m\u001b[1;33m\u001b[0m\u001b[0m\n\u001b[0;32m   1508\u001b[0m \u001b[1;33m\u001b[0m\u001b[0m\n",
      "\u001b[1;32m~\\anaconda3\\lib\\site-packages\\seaborn\\axisgrid.py\u001b[0m in \u001b[0;36m_plot_bivariate\u001b[1;34m(self, x_var, y_var, ax, func, kw_color, **kwargs)\u001b[0m\n\u001b[0;32m   1534\u001b[0m             \u001b[0mcolor\u001b[0m \u001b[1;33m=\u001b[0m \u001b[0mself\u001b[0m\u001b[1;33m.\u001b[0m\u001b[0mpalette\u001b[0m\u001b[1;33m[\u001b[0m\u001b[0mk\u001b[0m\u001b[1;33m]\u001b[0m \u001b[1;32mif\u001b[0m \u001b[0mkw_color\u001b[0m \u001b[1;32mis\u001b[0m \u001b[1;32mNone\u001b[0m \u001b[1;32melse\u001b[0m \u001b[0mkw_color\u001b[0m\u001b[1;33m\u001b[0m\u001b[1;33m\u001b[0m\u001b[0m\n\u001b[0;32m   1535\u001b[0m \u001b[1;33m\u001b[0m\u001b[0m\n\u001b[1;32m-> 1536\u001b[1;33m             \u001b[0mfunc\u001b[0m\u001b[1;33m(\u001b[0m\u001b[0mx\u001b[0m\u001b[1;33m,\u001b[0m \u001b[0my\u001b[0m\u001b[1;33m,\u001b[0m \u001b[0mlabel\u001b[0m\u001b[1;33m=\u001b[0m\u001b[0mlabel_k\u001b[0m\u001b[1;33m,\u001b[0m \u001b[0mcolor\u001b[0m\u001b[1;33m=\u001b[0m\u001b[0mcolor\u001b[0m\u001b[1;33m,\u001b[0m \u001b[1;33m**\u001b[0m\u001b[0mkwargs\u001b[0m\u001b[1;33m)\u001b[0m\u001b[1;33m\u001b[0m\u001b[1;33m\u001b[0m\u001b[0m\n\u001b[0m\u001b[0;32m   1537\u001b[0m \u001b[1;33m\u001b[0m\u001b[0m\n\u001b[0;32m   1538\u001b[0m         \u001b[0mself\u001b[0m\u001b[1;33m.\u001b[0m\u001b[0m_clean_axis\u001b[0m\u001b[1;33m(\u001b[0m\u001b[0max\u001b[0m\u001b[1;33m)\u001b[0m\u001b[1;33m\u001b[0m\u001b[1;33m\u001b[0m\u001b[0m\n",
      "\u001b[1;32m~\\anaconda3\\lib\\site-packages\\seaborn\\regression.py\u001b[0m in \u001b[0;36mregplot\u001b[1;34m(x, y, data, x_estimator, x_bins, x_ci, scatter, fit_reg, ci, n_boot, units, seed, order, logistic, lowess, robust, logx, x_partial, y_partial, truncate, dropna, x_jitter, y_jitter, label, color, marker, scatter_kws, line_kws, ax)\u001b[0m\n\u001b[0;32m    816\u001b[0m     \u001b[0mscatter_kws\u001b[0m\u001b[1;33m[\u001b[0m\u001b[1;34m\"marker\"\u001b[0m\u001b[1;33m]\u001b[0m \u001b[1;33m=\u001b[0m \u001b[0mmarker\u001b[0m\u001b[1;33m\u001b[0m\u001b[1;33m\u001b[0m\u001b[0m\n\u001b[0;32m    817\u001b[0m     \u001b[0mline_kws\u001b[0m \u001b[1;33m=\u001b[0m \u001b[1;33m{\u001b[0m\u001b[1;33m}\u001b[0m \u001b[1;32mif\u001b[0m \u001b[0mline_kws\u001b[0m \u001b[1;32mis\u001b[0m \u001b[1;32mNone\u001b[0m \u001b[1;32melse\u001b[0m \u001b[0mcopy\u001b[0m\u001b[1;33m.\u001b[0m\u001b[0mcopy\u001b[0m\u001b[1;33m(\u001b[0m\u001b[0mline_kws\u001b[0m\u001b[1;33m)\u001b[0m\u001b[1;33m\u001b[0m\u001b[1;33m\u001b[0m\u001b[0m\n\u001b[1;32m--> 818\u001b[1;33m     \u001b[0mplotter\u001b[0m\u001b[1;33m.\u001b[0m\u001b[0mplot\u001b[0m\u001b[1;33m(\u001b[0m\u001b[0max\u001b[0m\u001b[1;33m,\u001b[0m \u001b[0mscatter_kws\u001b[0m\u001b[1;33m,\u001b[0m \u001b[0mline_kws\u001b[0m\u001b[1;33m)\u001b[0m\u001b[1;33m\u001b[0m\u001b[1;33m\u001b[0m\u001b[0m\n\u001b[0m\u001b[0;32m    819\u001b[0m     \u001b[1;32mreturn\u001b[0m \u001b[0max\u001b[0m\u001b[1;33m\u001b[0m\u001b[1;33m\u001b[0m\u001b[0m\n\u001b[0;32m    820\u001b[0m \u001b[1;33m\u001b[0m\u001b[0m\n",
      "\u001b[1;32m~\\anaconda3\\lib\\site-packages\\seaborn\\regression.py\u001b[0m in \u001b[0;36mplot\u001b[1;34m(self, ax, scatter_kws, line_kws)\u001b[0m\n\u001b[0;32m    363\u001b[0m \u001b[1;33m\u001b[0m\u001b[0m\n\u001b[0;32m    364\u001b[0m         \u001b[1;32mif\u001b[0m \u001b[0mself\u001b[0m\u001b[1;33m.\u001b[0m\u001b[0mfit_reg\u001b[0m\u001b[1;33m:\u001b[0m\u001b[1;33m\u001b[0m\u001b[1;33m\u001b[0m\u001b[0m\n\u001b[1;32m--> 365\u001b[1;33m             \u001b[0mself\u001b[0m\u001b[1;33m.\u001b[0m\u001b[0mlineplot\u001b[0m\u001b[1;33m(\u001b[0m\u001b[0max\u001b[0m\u001b[1;33m,\u001b[0m \u001b[0mline_kws\u001b[0m\u001b[1;33m)\u001b[0m\u001b[1;33m\u001b[0m\u001b[1;33m\u001b[0m\u001b[0m\n\u001b[0m\u001b[0;32m    366\u001b[0m \u001b[1;33m\u001b[0m\u001b[0m\n\u001b[0;32m    367\u001b[0m         \u001b[1;31m# Label the axes\u001b[0m\u001b[1;33m\u001b[0m\u001b[1;33m\u001b[0m\u001b[1;33m\u001b[0m\u001b[0m\n",
      "\u001b[1;32m~\\anaconda3\\lib\\site-packages\\seaborn\\regression.py\u001b[0m in \u001b[0;36mlineplot\u001b[1;34m(self, ax, kws)\u001b[0m\n\u001b[0;32m    406\u001b[0m         \u001b[1;34m\"\"\"Draw the model.\"\"\"\u001b[0m\u001b[1;33m\u001b[0m\u001b[1;33m\u001b[0m\u001b[0m\n\u001b[0;32m    407\u001b[0m         \u001b[1;31m# Fit the regression model\u001b[0m\u001b[1;33m\u001b[0m\u001b[1;33m\u001b[0m\u001b[1;33m\u001b[0m\u001b[0m\n\u001b[1;32m--> 408\u001b[1;33m         \u001b[0mgrid\u001b[0m\u001b[1;33m,\u001b[0m \u001b[0myhat\u001b[0m\u001b[1;33m,\u001b[0m \u001b[0merr_bands\u001b[0m \u001b[1;33m=\u001b[0m \u001b[0mself\u001b[0m\u001b[1;33m.\u001b[0m\u001b[0mfit_regression\u001b[0m\u001b[1;33m(\u001b[0m\u001b[0max\u001b[0m\u001b[1;33m)\u001b[0m\u001b[1;33m\u001b[0m\u001b[1;33m\u001b[0m\u001b[0m\n\u001b[0m\u001b[0;32m    409\u001b[0m         \u001b[0medges\u001b[0m \u001b[1;33m=\u001b[0m \u001b[0mgrid\u001b[0m\u001b[1;33m[\u001b[0m\u001b[1;36m0\u001b[0m\u001b[1;33m]\u001b[0m\u001b[1;33m,\u001b[0m \u001b[0mgrid\u001b[0m\u001b[1;33m[\u001b[0m\u001b[1;33m-\u001b[0m\u001b[1;36m1\u001b[0m\u001b[1;33m]\u001b[0m\u001b[1;33m\u001b[0m\u001b[1;33m\u001b[0m\u001b[0m\n\u001b[0;32m    410\u001b[0m \u001b[1;33m\u001b[0m\u001b[0m\n",
      "\u001b[1;32m~\\anaconda3\\lib\\site-packages\\seaborn\\regression.py\u001b[0m in \u001b[0;36mfit_regression\u001b[1;34m(self, ax, x_range, grid)\u001b[0m\n\u001b[0;32m    214\u001b[0m             \u001b[0myhat\u001b[0m\u001b[1;33m,\u001b[0m \u001b[0myhat_boots\u001b[0m \u001b[1;33m=\u001b[0m \u001b[0mself\u001b[0m\u001b[1;33m.\u001b[0m\u001b[0mfit_logx\u001b[0m\u001b[1;33m(\u001b[0m\u001b[0mgrid\u001b[0m\u001b[1;33m)\u001b[0m\u001b[1;33m\u001b[0m\u001b[1;33m\u001b[0m\u001b[0m\n\u001b[0;32m    215\u001b[0m         \u001b[1;32melse\u001b[0m\u001b[1;33m:\u001b[0m\u001b[1;33m\u001b[0m\u001b[1;33m\u001b[0m\u001b[0m\n\u001b[1;32m--> 216\u001b[1;33m             \u001b[0myhat\u001b[0m\u001b[1;33m,\u001b[0m \u001b[0myhat_boots\u001b[0m \u001b[1;33m=\u001b[0m \u001b[0mself\u001b[0m\u001b[1;33m.\u001b[0m\u001b[0mfit_fast\u001b[0m\u001b[1;33m(\u001b[0m\u001b[0mgrid\u001b[0m\u001b[1;33m)\u001b[0m\u001b[1;33m\u001b[0m\u001b[1;33m\u001b[0m\u001b[0m\n\u001b[0m\u001b[0;32m    217\u001b[0m \u001b[1;33m\u001b[0m\u001b[0m\n\u001b[0;32m    218\u001b[0m         \u001b[1;31m# Compute the confidence interval at each grid point\u001b[0m\u001b[1;33m\u001b[0m\u001b[1;33m\u001b[0m\u001b[1;33m\u001b[0m\u001b[0m\n",
      "\u001b[1;32m~\\anaconda3\\lib\\site-packages\\seaborn\\regression.py\u001b[0m in \u001b[0;36mfit_fast\u001b[1;34m(self, grid)\u001b[0m\n\u001b[0;32m    239\u001b[0m                                     \u001b[0mn_boot\u001b[0m\u001b[1;33m=\u001b[0m\u001b[0mself\u001b[0m\u001b[1;33m.\u001b[0m\u001b[0mn_boot\u001b[0m\u001b[1;33m,\u001b[0m\u001b[1;33m\u001b[0m\u001b[1;33m\u001b[0m\u001b[0m\n\u001b[0;32m    240\u001b[0m                                     \u001b[0munits\u001b[0m\u001b[1;33m=\u001b[0m\u001b[0mself\u001b[0m\u001b[1;33m.\u001b[0m\u001b[0munits\u001b[0m\u001b[1;33m,\u001b[0m\u001b[1;33m\u001b[0m\u001b[1;33m\u001b[0m\u001b[0m\n\u001b[1;32m--> 241\u001b[1;33m                                     seed=self.seed).T\n\u001b[0m\u001b[0;32m    242\u001b[0m         \u001b[0myhat_boots\u001b[0m \u001b[1;33m=\u001b[0m \u001b[0mgrid\u001b[0m\u001b[1;33m.\u001b[0m\u001b[0mdot\u001b[0m\u001b[1;33m(\u001b[0m\u001b[0mbeta_boots\u001b[0m\u001b[1;33m)\u001b[0m\u001b[1;33m.\u001b[0m\u001b[0mT\u001b[0m\u001b[1;33m\u001b[0m\u001b[1;33m\u001b[0m\u001b[0m\n\u001b[0;32m    243\u001b[0m         \u001b[1;32mreturn\u001b[0m \u001b[0myhat\u001b[0m\u001b[1;33m,\u001b[0m \u001b[0myhat_boots\u001b[0m\u001b[1;33m\u001b[0m\u001b[1;33m\u001b[0m\u001b[0m\n",
      "\u001b[1;32m~\\anaconda3\\lib\\site-packages\\seaborn\\algorithms.py\u001b[0m in \u001b[0;36mbootstrap\u001b[1;34m(*args, **kwargs)\u001b[0m\n\u001b[0;32m     82\u001b[0m     \u001b[0mboot_dist\u001b[0m \u001b[1;33m=\u001b[0m \u001b[1;33m[\u001b[0m\u001b[1;33m]\u001b[0m\u001b[1;33m\u001b[0m\u001b[1;33m\u001b[0m\u001b[0m\n\u001b[0;32m     83\u001b[0m     \u001b[1;32mfor\u001b[0m \u001b[0mi\u001b[0m \u001b[1;32min\u001b[0m \u001b[0mrange\u001b[0m\u001b[1;33m(\u001b[0m\u001b[0mint\u001b[0m\u001b[1;33m(\u001b[0m\u001b[0mn_boot\u001b[0m\u001b[1;33m)\u001b[0m\u001b[1;33m)\u001b[0m\u001b[1;33m:\u001b[0m\u001b[1;33m\u001b[0m\u001b[1;33m\u001b[0m\u001b[0m\n\u001b[1;32m---> 84\u001b[1;33m         \u001b[0mresampler\u001b[0m \u001b[1;33m=\u001b[0m \u001b[0mintegers\u001b[0m\u001b[1;33m(\u001b[0m\u001b[1;36m0\u001b[0m\u001b[1;33m,\u001b[0m \u001b[0mn\u001b[0m\u001b[1;33m,\u001b[0m \u001b[0mn\u001b[0m\u001b[1;33m)\u001b[0m\u001b[1;33m\u001b[0m\u001b[1;33m\u001b[0m\u001b[0m\n\u001b[0m\u001b[0;32m     85\u001b[0m         \u001b[0msample\u001b[0m \u001b[1;33m=\u001b[0m \u001b[1;33m[\u001b[0m\u001b[0ma\u001b[0m\u001b[1;33m.\u001b[0m\u001b[0mtake\u001b[0m\u001b[1;33m(\u001b[0m\u001b[0mresampler\u001b[0m\u001b[1;33m,\u001b[0m \u001b[0maxis\u001b[0m\u001b[1;33m=\u001b[0m\u001b[1;36m0\u001b[0m\u001b[1;33m)\u001b[0m \u001b[1;32mfor\u001b[0m \u001b[0ma\u001b[0m \u001b[1;32min\u001b[0m \u001b[0margs\u001b[0m\u001b[1;33m]\u001b[0m\u001b[1;33m\u001b[0m\u001b[1;33m\u001b[0m\u001b[0m\n\u001b[0;32m     86\u001b[0m         \u001b[0mboot_dist\u001b[0m\u001b[1;33m.\u001b[0m\u001b[0mappend\u001b[0m\u001b[1;33m(\u001b[0m\u001b[0mf\u001b[0m\u001b[1;33m(\u001b[0m\u001b[1;33m*\u001b[0m\u001b[0msample\u001b[0m\u001b[1;33m,\u001b[0m \u001b[1;33m**\u001b[0m\u001b[0mfunc_kwargs\u001b[0m\u001b[1;33m)\u001b[0m\u001b[1;33m)\u001b[0m\u001b[1;33m\u001b[0m\u001b[1;33m\u001b[0m\u001b[0m\n",
      "\u001b[1;31mKeyboardInterrupt\u001b[0m: "
     ]
    },
    {
     "data": {
      "image/png": "[encoded data removed]",
      "text/plain": [
       "<Figure size 2160x180 with 12 Axes>"
      ]
     },
     "metadata": {
      "needs_background": "light"
     },
     "output_type": "display_data"
    }
   ],
   "source": [
    "sns.pairplot(gpa2, x_vars=feature_cols, y_vars='GPA', kind='reg');\n",
    "plt.grid(b=None)\n",
    "plt.savefig('data/gpa_corr.png', transparent=True,dpi=300, bbox_inches='tight')\n",
    "plt.show()"
   ]
  },
  {
   "cell_type": "code",
   "execution_count": 62,
   "metadata": {},
   "outputs": [
    {
     "name": "stderr",
     "output_type": "stream",
     "text": [
      "C:\\Users\\zhang\\anaconda3\\lib\\site-packages\\numpy\\core\\_asarray.py:83: VisibleDeprecationWarning: Creating an ndarray from ragged nested sequences (which is a list-or-tuple of lists-or-tuples-or ndarrays with different lengths or shapes) is deprecated. If you meant to do this, you must specify 'dtype=object' when creating the ndarray\n",
      "  return array(a, dtype, copy=False, order=order)\n"
     ]
    },
    {
     "data": {
      "image/png": "[encoded data removed]",
      "text/plain": [
       "<Figure size 432x288 with 1 Axes>"
      ]
     },
     "metadata": {
      "needs_background": "light"
     },
     "output_type": "display_data"
    }
   ],
   "source": [
    "gpa2.boxplot(column='GPA', by='SchoolYear')\n",
    "plt.grid(b=None)\n",
    "plt.savefig('data/gpat_box.png', transparent=True,dpi=300, bbox_inches='tight')\n",
    "plt.show()"
   ]
  },
  {
   "cell_type": "code",
   "execution_count": 61,
   "metadata": {},
   "outputs": [
    {
     "data": {
      "image/png": "[encoded data removed]",
      "text/plain": [
       "<Figure size 432x288 with 2 Axes>"
      ]
     },
     "metadata": {
      "needs_background": "light"
     },
     "output_type": "display_data"
    }
   ],
   "source": [
    "sns.heatmap(gpa2.drop(['SchoolYear'],axis = 1).corr(), vmin=-1, vmax=1)\n",
    "plt.savefig('data/heatmap.png', transparent=True,dpi=300, bbox_inches='tight')\n",
    "plt.grid(b=None)\n",
    "plt.show()"
   ]
  },
  {
   "cell_type": "markdown",
   "metadata": {},
   "source": [
    "Statistical analysis on strong predictors"
   ]
  },
  {
   "cell_type": "code",
   "execution_count": 73,
   "metadata": {},
   "outputs": [],
   "source": [
    "# Create X and y.\n",
    "feature_cols =['Race','Gender','Grade','Age','ELLServed','FreeReducedLunch','SpecialEducation','SOCFFEJ','AAM','HighlyCapable','AdvancedLearning','CreditsEarned']\n",
    "X = gpa2[feature_cols]\n",
    "y = gpa2.GPA"
   ]
  },
  {
   "cell_type": "code",
   "execution_count": 74,
   "metadata": {},
   "outputs": [
    {
     "name": "stdout",
     "output_type": "stream",
     "text": [
      "                            OLS Regression Results                            \n",
      "==============================================================================\n",
      "Dep. Variable:                    GPA   R-squared:                       0.328\n",
      "Model:                            OLS   Adj. R-squared:                  0.328\n",
      "Method:                 Least Squares   F-statistic:                 1.646e+04\n",
      "Date:                Fri, 19 Feb 2021   Prob (F-statistic):               0.00\n",
      "Time:                        09:13:30   Log-Likelihood:            -3.6199e+05\n",
      "No. Observations:              404204   AIC:                         7.240e+05\n",
      "Df Residuals:                  404191   BIC:                         7.241e+05\n",
      "Df Model:                          12                                         \n",
      "Covariance Type:            nonrobust                                         \n",
      "====================================================================================\n",
      "                       coef    std err          t      P>|t|      [0.025      0.975]\n",
      "------------------------------------------------------------------------------------\n",
      "const                5.7296      0.014    398.369      0.000       5.701       5.758\n",
      "Race                -0.0116      0.001    -18.852      0.000      -0.013      -0.010\n",
      "Gender              -0.1737      0.002    -86.056      0.000      -0.178      -0.170\n",
      "Grade               -0.2413      0.002   -156.112      0.000      -0.244      -0.238\n",
      "Age                 -0.0210      0.000    -65.265      0.000      -0.022      -0.020\n",
      "ELLServed            0.0267      0.003      7.709      0.000       0.020       0.033\n",
      "FreeReducedLunch    -0.2575      0.002   -115.085      0.000      -0.262      -0.253\n",
      "SpecialEducation    -0.2334      0.003    -83.933      0.000      -0.239      -0.228\n",
      "SOCFFEJ             -0.2201      0.002    -91.606      0.000      -0.225      -0.215\n",
      "AAM                 -0.1508      0.004    -41.732      0.000      -0.158      -0.144\n",
      "HighlyCapable        0.1026      0.006     17.723      0.000       0.091       0.114\n",
      "AdvancedLearning     0.3032      0.005     67.349      0.000       0.294       0.312\n",
      "CreditsEarned        0.0467      0.000    212.518      0.000       0.046       0.047\n",
      "==============================================================================\n",
      "Omnibus:                     3475.548   Durbin-Watson:                   0.796\n",
      "Prob(Omnibus):                  0.000   Jarque-Bera (JB):             3405.296\n",
      "Skew:                          -0.205   Prob(JB):                         0.00\n",
      "Kurtosis:                       2.814   Cond. No.                         435.\n",
      "==============================================================================\n",
      "\n",
      "Warnings:\n",
      "[1] Standard Errors assume that the covariance matrix of the errors is correctly specified.\n"
     ]
    },
    {
     "ename": "NameError",
     "evalue": "name 'pdf' is not defined",
     "output_type": "error",
     "traceback": [
      "\u001b[1;31m---------------------------------------------------------------------------\u001b[0m",
      "\u001b[1;31mNameError\u001b[0m                                 Traceback (most recent call last)",
      "\u001b[1;32m<ipython-input-74-56daeb840739>\u001b[0m in \u001b[0;36m<module>\u001b[1;34m\u001b[0m\n\u001b[0;32m      3\u001b[0m \u001b[0mest2\u001b[0m \u001b[1;33m=\u001b[0m \u001b[0mest\u001b[0m\u001b[1;33m.\u001b[0m\u001b[0mfit\u001b[0m\u001b[1;33m(\u001b[0m\u001b[1;33m)\u001b[0m\u001b[1;33m\u001b[0m\u001b[1;33m\u001b[0m\u001b[0m\n\u001b[0;32m      4\u001b[0m \u001b[0mprint\u001b[0m\u001b[1;33m(\u001b[0m\u001b[0mest2\u001b[0m\u001b[1;33m.\u001b[0m\u001b[0msummary\u001b[0m\u001b[1;33m(\u001b[0m\u001b[1;33m)\u001b[0m\u001b[1;33m)\u001b[0m\u001b[1;33m\u001b[0m\u001b[1;33m\u001b[0m\u001b[0m\n\u001b[1;32m----> 5\u001b[1;33m \u001b[0mpdf\u001b[0m\u001b[1;33m.\u001b[0m\u001b[0moutput\u001b[0m\u001b[1;33m(\u001b[0m\u001b[1;34m\"data/regression.pdf\"\u001b[0m\u001b[1;33m)\u001b[0m\u001b[1;33m\u001b[0m\u001b[1;33m\u001b[0m\u001b[0m\n\u001b[0m",
      "\u001b[1;31mNameError\u001b[0m: name 'pdf' is not defined"
     ]
    }
   ],
   "source": [
    "X1 = sm.add_constant(X)\n",
    "est = sm.OLS(y, X1)\n",
    "est2 = est.fit()\n",
    "print(est2.summary())\n",
    "pdf.output(\"data/regression.pdf\")"
   ]
  },
  {
   "cell_type": "code",
   "execution_count": null,
   "metadata": {},
   "outputs": [],
   "source": [
    "ML_Linear Regression Algorithm"
   ]
  },
  {
   "cell_type": "code",
   "execution_count": 104,
   "metadata": {},
   "outputs": [],
   "source": [
    "from sklearn.model_selection import train_test_split \n",
    "from sklearn.linear_model import LinearRegression, Lasso, Ridge\n",
    "from sklearn.metrics import r2_score\n",
    "from sklearn import metrics\n",
    "\n",
    "from sklearn.model_selection import KFold"
   ]
  },
  {
   "cell_type": "code",
   "execution_count": 75,
   "metadata": {
    "slideshow": {
     "slide_type": "slide"
    }
   },
   "outputs": [
    {
     "data": {
      "text/html": [
       "<div>\n",
       "<style scoped>\n",
       "    .dataframe tbody tr th:only-of-type {\n",
       "        vertical-align: middle;\n",
       "    }\n",
       "\n",
       "    .dataframe tbody tr th {\n",
       "        vertical-align: top;\n",
       "    }\n",
       "\n",
       "    .dataframe thead th {\n",
       "        text-align: right;\n",
       "    }\n",
       "</style>\n",
       "<table border=\"1\" class=\"dataframe\">\n",
       "  <thead>\n",
       "    <tr style=\"text-align: right;\">\n",
       "      <th></th>\n",
       "      <th>Race</th>\n",
       "      <th>Gender</th>\n",
       "      <th>Grade</th>\n",
       "      <th>Age</th>\n",
       "      <th>ELLServed</th>\n",
       "      <th>FreeReducedLunch</th>\n",
       "      <th>SpecialEducation</th>\n",
       "      <th>SOCFFEJ</th>\n",
       "      <th>AAM</th>\n",
       "      <th>HighlyCapable</th>\n",
       "      <th>AdvancedLearning</th>\n",
       "      <th>CreditsEarned</th>\n",
       "    </tr>\n",
       "  </thead>\n",
       "  <tbody>\n",
       "    <tr>\n",
       "      <th>count</th>\n",
       "      <td>404204.000000</td>\n",
       "      <td>404204.000000</td>\n",
       "      <td>404204.000000</td>\n",
       "      <td>404204.000000</td>\n",
       "      <td>404204.000000</td>\n",
       "      <td>404204.000000</td>\n",
       "      <td>404204.000000</td>\n",
       "      <td>404204.000000</td>\n",
       "      <td>404204.000000</td>\n",
       "      <td>404204.000000</td>\n",
       "      <td>404204.000000</td>\n",
       "      <td>404204.000000</td>\n",
       "    </tr>\n",
       "    <tr>\n",
       "      <th>mean</th>\n",
       "      <td>2.413601</td>\n",
       "      <td>0.515208</td>\n",
       "      <td>10.538223</td>\n",
       "      <td>21.417579</td>\n",
       "      <td>0.086006</td>\n",
       "      <td>0.417255</td>\n",
       "      <td>0.136040</td>\n",
       "      <td>0.447613</td>\n",
       "      <td>0.109019</td>\n",
       "      <td>0.055244</td>\n",
       "      <td>0.104420</td>\n",
       "      <td>13.327101</td>\n",
       "    </tr>\n",
       "    <tr>\n",
       "      <th>std</th>\n",
       "      <td>1.638113</td>\n",
       "      <td>0.500363</td>\n",
       "      <td>1.138482</td>\n",
       "      <td>3.177050</td>\n",
       "      <td>0.280373</td>\n",
       "      <td>0.493106</td>\n",
       "      <td>0.342832</td>\n",
       "      <td>0.497249</td>\n",
       "      <td>0.311664</td>\n",
       "      <td>0.228457</td>\n",
       "      <td>0.305805</td>\n",
       "      <td>7.888160</td>\n",
       "    </tr>\n",
       "    <tr>\n",
       "      <th>min</th>\n",
       "      <td>1.000000</td>\n",
       "      <td>0.000000</td>\n",
       "      <td>9.000000</td>\n",
       "      <td>13.000000</td>\n",
       "      <td>0.000000</td>\n",
       "      <td>0.000000</td>\n",
       "      <td>0.000000</td>\n",
       "      <td>0.000000</td>\n",
       "      <td>0.000000</td>\n",
       "      <td>0.000000</td>\n",
       "      <td>0.000000</td>\n",
       "      <td>0.020000</td>\n",
       "    </tr>\n",
       "    <tr>\n",
       "      <th>25%</th>\n",
       "      <td>1.000000</td>\n",
       "      <td>0.000000</td>\n",
       "      <td>9.000000</td>\n",
       "      <td>19.000000</td>\n",
       "      <td>0.000000</td>\n",
       "      <td>0.000000</td>\n",
       "      <td>0.000000</td>\n",
       "      <td>0.000000</td>\n",
       "      <td>0.000000</td>\n",
       "      <td>0.000000</td>\n",
       "      <td>0.000000</td>\n",
       "      <td>6.250000</td>\n",
       "    </tr>\n",
       "    <tr>\n",
       "      <th>50%</th>\n",
       "      <td>2.000000</td>\n",
       "      <td>1.000000</td>\n",
       "      <td>11.000000</td>\n",
       "      <td>21.000000</td>\n",
       "      <td>0.000000</td>\n",
       "      <td>0.000000</td>\n",
       "      <td>0.000000</td>\n",
       "      <td>0.000000</td>\n",
       "      <td>0.000000</td>\n",
       "      <td>0.000000</td>\n",
       "      <td>0.000000</td>\n",
       "      <td>12.750000</td>\n",
       "    </tr>\n",
       "    <tr>\n",
       "      <th>75%</th>\n",
       "      <td>3.000000</td>\n",
       "      <td>1.000000</td>\n",
       "      <td>12.000000</td>\n",
       "      <td>24.000000</td>\n",
       "      <td>0.000000</td>\n",
       "      <td>1.000000</td>\n",
       "      <td>0.000000</td>\n",
       "      <td>1.000000</td>\n",
       "      <td>0.000000</td>\n",
       "      <td>0.000000</td>\n",
       "      <td>0.000000</td>\n",
       "      <td>19.500000</td>\n",
       "    </tr>\n",
       "    <tr>\n",
       "      <th>max</th>\n",
       "      <td>7.000000</td>\n",
       "      <td>2.000000</td>\n",
       "      <td>12.000000</td>\n",
       "      <td>31.000000</td>\n",
       "      <td>1.000000</td>\n",
       "      <td>1.000000</td>\n",
       "      <td>1.000000</td>\n",
       "      <td>1.000000</td>\n",
       "      <td>1.000000</td>\n",
       "      <td>1.000000</td>\n",
       "      <td>1.000000</td>\n",
       "      <td>58.750000</td>\n",
       "    </tr>\n",
       "  </tbody>\n",
       "</table>\n",
       "</div>"
      ],
      "text/plain": [
       "                Race         Gender          Grade            Age  \\\n",
       "count  404204.000000  404204.000000  404204.000000  404204.000000   \n",
       "mean        2.413601       0.515208      10.538223      21.417579   \n",
       "std         1.638113       0.500363       1.138482       3.177050   \n",
       "min         1.000000       0.000000       9.000000      13.000000   \n",
       "25%         1.000000       0.000000       9.000000      19.000000   \n",
       "50%         2.000000       1.000000      11.000000      21.000000   \n",
       "75%         3.000000       1.000000      12.000000      24.000000   \n",
       "max         7.000000       2.000000      12.000000      31.000000   \n",
       "\n",
       "           ELLServed  FreeReducedLunch  SpecialEducation        SOCFFEJ  \\\n",
       "count  404204.000000     404204.000000     404204.000000  404204.000000   \n",
       "mean        0.086006          0.417255          0.136040       0.447613   \n",
       "std         0.280373          0.493106          0.342832       0.497249   \n",
       "min         0.000000          0.000000          0.000000       0.000000   \n",
       "25%         0.000000          0.000000          0.000000       0.000000   \n",
       "50%         0.000000          0.000000          0.000000       0.000000   \n",
       "75%         0.000000          1.000000          0.000000       1.000000   \n",
       "max         1.000000          1.000000          1.000000       1.000000   \n",
       "\n",
       "                 AAM  HighlyCapable  AdvancedLearning  CreditsEarned  \n",
       "count  404204.000000  404204.000000     404204.000000  404204.000000  \n",
       "mean        0.109019       0.055244          0.104420      13.327101  \n",
       "std         0.311664       0.228457          0.305805       7.888160  \n",
       "min         0.000000       0.000000          0.000000       0.020000  \n",
       "25%         0.000000       0.000000          0.000000       6.250000  \n",
       "50%         0.000000       0.000000          0.000000      12.750000  \n",
       "75%         0.000000       0.000000          0.000000      19.500000  \n",
       "max         1.000000       1.000000          1.000000      58.750000  "
      ]
     },
     "execution_count": 75,
     "metadata": {},
     "output_type": "execute_result"
    }
   ],
   "source": [
    "X.describe()"
   ]
  },
  {
   "cell_type": "code",
   "execution_count": 76,
   "metadata": {},
   "outputs": [
    {
     "name": "stdout",
     "output_type": "stream",
     "text": [
      "Race                  int64\n",
      "Gender                int64\n",
      "Grade                 int64\n",
      "Age                   int64\n",
      "ELLServed             int64\n",
      "FreeReducedLunch    float64\n",
      "SpecialEducation      int64\n",
      "SOCFFEJ               int64\n",
      "AAM                   int64\n",
      "HighlyCapable         int64\n",
      "AdvancedLearning      int64\n",
      "CreditsEarned       float64\n",
      "dtype: object\n"
     ]
    }
   ],
   "source": [
    "print(X.dtypes)"
   ]
  },
  {
   "cell_type": "code",
   "execution_count": 77,
   "metadata": {},
   "outputs": [
    {
     "name": "stdout",
     "output_type": "stream",
     "text": [
      "(404204, 12)\n"
     ]
    }
   ],
   "source": [
    "print(X.shape)"
   ]
  },
  {
   "cell_type": "code",
   "execution_count": 78,
   "metadata": {},
   "outputs": [
    {
     "data": {
      "text/plain": [
       "0"
      ]
     },
     "execution_count": 78,
     "metadata": {},
     "output_type": "execute_result"
    }
   ],
   "source": [
    "y.isnull().sum()"
   ]
  },
  {
   "cell_type": "code",
   "execution_count": 79,
   "metadata": {},
   "outputs": [],
   "source": [
    "y.fillna(0, inplace=True)"
   ]
  },
  {
   "cell_type": "code",
   "execution_count": 80,
   "metadata": {},
   "outputs": [
    {
     "data": {
      "text/plain": [
       "0"
      ]
     },
     "execution_count": 80,
     "metadata": {},
     "output_type": "execute_result"
    }
   ],
   "source": [
    "y.isnull().sum()"
   ]
  },
  {
   "cell_type": "code",
   "execution_count": 81,
   "metadata": {},
   "outputs": [
    {
     "data": {
      "text/plain": [
       "<bound method NDFrame.describe of 0         4.000\n",
       "1         4.000\n",
       "2         3.747\n",
       "3         3.747\n",
       "4         4.000\n",
       "          ...  \n",
       "819317    4.000\n",
       "819323    4.000\n",
       "819326    2.600\n",
       "819327    2.250\n",
       "819328    4.000\n",
       "Name: GPA, Length: 404204, dtype: float64>"
      ]
     },
     "execution_count": 81,
     "metadata": {},
     "output_type": "execute_result"
    }
   ],
   "source": [
    "y.describe"
   ]
  },
  {
   "cell_type": "code",
   "execution_count": 82,
   "metadata": {},
   "outputs": [
    {
     "data": {
      "text/plain": [
       "dtype('float64')"
      ]
     },
     "execution_count": 82,
     "metadata": {},
     "output_type": "execute_result"
    }
   ],
   "source": [
    "# Check y's type.\n",
    "y.dtypes"
   ]
  },
  {
   "cell_type": "code",
   "execution_count": 83,
   "metadata": {
    "slideshow": {
     "slide_type": "skip"
    }
   },
   "outputs": [
    {
     "data": {
      "text/plain": [
       "(404204,)"
      ]
     },
     "execution_count": 83,
     "metadata": {},
     "output_type": "execute_result"
    }
   ],
   "source": [
    "y.shape"
   ]
  },
  {
   "cell_type": "code",
   "execution_count": 84,
   "metadata": {},
   "outputs": [],
   "source": [
    "from sklearn.linear_model import LinearRegression"
   ]
  },
  {
   "cell_type": "code",
   "execution_count": 85,
   "metadata": {},
   "outputs": [
    {
     "data": {
      "text/plain": [
       "LinearRegression(copy_X=True, fit_intercept=True, n_jobs=None, normalize=False)"
      ]
     },
     "execution_count": 85,
     "metadata": {},
     "output_type": "execute_result"
    }
   ],
   "source": [
    "lr = LinearRegression()\n",
    "lr.fit(X, y)"
   ]
  },
  {
   "cell_type": "code",
   "execution_count": 86,
   "metadata": {
    "slideshow": {
     "slide_type": "skip"
    }
   },
   "outputs": [
    {
     "name": "stdout",
     "output_type": "stream",
     "text": [
      "5.729615918497455\n",
      "[-0.01162082 -0.17368235 -0.2413107  -0.02099393  0.02670561 -0.25751317\n",
      " -0.23343439 -0.22013238 -0.15075315  0.10256232  0.30323535  0.0466777 ]\n"
     ]
    }
   ],
   "source": [
    "print(lr.intercept_)\n",
    "print(lr.coef_)"
   ]
  },
  {
   "cell_type": "code",
   "execution_count": 89,
   "metadata": {},
   "outputs": [],
   "source": [
    "x_train, x_test,y_train,y_test = train_test_split(X,y,random_state = 123)\n",
    "y_pred = lr.predict(X)\n",
    "X_pred = lr.predict(X)"
   ]
  },
  {
   "cell_type": "code",
   "execution_count": 90,
   "metadata": {},
   "outputs": [
    {
     "data": {
      "text/plain": [
       "LinearRegression(copy_X=True, fit_intercept=True, n_jobs=None, normalize=False)"
      ]
     },
     "execution_count": 90,
     "metadata": {},
     "output_type": "execute_result"
    }
   ],
   "source": [
    "lr.fit(x_train,y_train)"
   ]
  },
  {
   "cell_type": "code",
   "execution_count": 91,
   "metadata": {},
   "outputs": [
    {
     "data": {
      "text/plain": [
       "0.32373011896121723"
      ]
     },
     "execution_count": 91,
     "metadata": {},
     "output_type": "execute_result"
    }
   ],
   "source": [
    "## calcuate the accuracy\n",
    "lr.score(x_test,y_test)"
   ]
  },
  {
   "cell_type": "code",
   "execution_count": 112,
   "metadata": {},
   "outputs": [],
   "source": [
    "from sklearn.model_selection import train_test_split\n",
    "\n",
    "# Define a function that accepts a list of features and returns testing RMSE.\n",
    "def train_test_rmse(gpa2, feature_cols):\n",
    "    X = gpa2[feature_cols]\n",
    "    y = gpa2.GPA\n",
    "    \n",
    "    X_train, X_test, y_train, y_test = train_test_split(X, y, random_state=123)\n",
    "    \n",
    "    linreg = LinearRegression()\n",
    "    linreg.fit(X_train, y_train)\n",
    "    \n",
    "    y_pred = linreg.predict(X_test)\n",
    "    return np.sqrt(metrics.mean_squared_error(y_test, y_pred))\n",
    "            "
   ]
  },
  {
   "cell_type": "code",
   "execution_count": 113,
   "metadata": {},
   "outputs": [],
   "source": [
    "from sklearn.model_selection import train_test_split\n",
    "\n",
    "# Define a function that accepts a list of features and returns testing RMSE.\n",
    "def train_test_mae(gpa2, feature_cols1):\n",
    "    X = gpa2[feature_cols]\n",
    "    y = gpa2.GPA\n",
    "    \n",
    "    X_train, X_test, y_train, y_test = train_test_split(X, y, random_state=123)\n",
    "    \n",
    "    linreg = LinearRegression()\n",
    "    linreg.fit(X_train, y_train)\n",
    "    \n",
    "    y_pred = linreg.predict(X_test)\n",
    "    return metrics.mean_absolute_error(y_test, y_pred)"
   ]
  },
  {
   "cell_type": "markdown",
   "metadata": {},
   "source": [
    "Compare different sets of features."
   ]
  },
  {
   "cell_type": "code",
   "execution_count": 114,
   "metadata": {
    "slideshow": {
     "slide_type": "skip"
    }
   },
   "outputs": [
    {
     "name": "stdout",
     "output_type": "stream",
     "text": [
      "0.596258571959718\n",
      "0.6446631968323406\n",
      "0.6443600609363697\n"
     ]
    }
   ],
   "source": [
    "print(train_test_rmse(gpa2, ['Race','Gender','Grade','Age','ELLServed','FreeReducedLunch','SpecialEducation','SOCFFEJ','AAM','HighlyCapable','AdvancedLearning','CreditsEarned']))\n",
    "print(train_test_rmse(gpa2, ['Gender','Grade','ELLServed','FreeReducedLunch','SpecialEducation','SOCFFEJ','AAM']))\n",
    "print(train_test_rmse(gpa2, ['Race','Gender','Grade','ELLServed','FreeReducedLunch','SpecialEducation','SOCFFEJ','AAM']))"
   ]
  },
  {
   "cell_type": "code",
   "execution_count": 111,
   "metadata": {},
   "outputs": [
    {
     "name": "stdout",
     "output_type": "stream",
     "text": [
      "0.4858513713019563\n",
      "0.4858513713019563\n",
      "0.4858513713019563\n"
     ]
    }
   ],
   "source": [
    "print(train_test_mae(gpa2, ['Race','Gender','Grade','Age','ELLServed','FreeReducedLunch','SpecialEducation','SOCFFEJ','AAM','HighlyCapable','AdvancedLearning','CreditsEarned']))\n",
    "print(train_test_mae(gpa2, ['Gender','Grade','ELLServed','FreeReducedLunch','SpecialEducation','SOCFFEJ','AAM']))\n",
    "print(train_test_mae(gpa2, ['Race','Gender','Grade','ELLServed','FreeReducedLunch','SpecialEducation','SOCFFEJ','AAM']))"
   ]
  },
  {
   "cell_type": "code",
   "execution_count": 115,
   "metadata": {},
   "outputs": [
    {
     "name": "stdout",
     "output_type": "stream",
     "text": [
      "5.717658880971726\n",
      "[-0.01155409 -0.17537453 -0.23973849 -0.02107396  0.02736365 -0.2596646\n",
      " -0.23244947 -0.22085447 -0.14801109  0.10535966  0.30416243  0.04656266]\n"
     ]
    }
   ],
   "source": [
    "print(lr.intercept_)\n",
    "print(lr.coef_)"
   ]
  },
  {
   "cell_type": "code",
   "execution_count": 116,
   "metadata": {},
   "outputs": [],
   "source": [
    "## RMSEA reduced wtih more features"
   ]
  },
  {
   "cell_type": "code",
   "execution_count": 117,
   "metadata": {},
   "outputs": [
    {
     "data": {
      "text/plain": [
       "array([3.02491384, 3.02491384, 3.02491384, ..., 3.02491384, 3.02491384,\n",
       "       3.02491384])"
      ]
     },
     "execution_count": 117,
     "metadata": {},
     "output_type": "execute_result"
    }
   ],
   "source": [
    "X_train, X_test, y_train, y_test = train_test_split(X, y, random_state=123)\n",
    "\n",
    "y_null = np.zeros_like(y_test, dtype=float)\n",
    "\n",
    "y_null.fill(y_test.mean())\n",
    "y_null"
   ]
  },
  {
   "cell_type": "code",
   "execution_count": 118,
   "metadata": {
    "slideshow": {
     "slide_type": "slide"
    }
   },
   "outputs": [
    {
     "data": {
      "text/plain": [
       "0.7250611119914101"
      ]
     },
     "execution_count": 118,
     "metadata": {},
     "output_type": "execute_result"
    }
   ],
   "source": [
    "np.sqrt(metrics.mean_squared_error(y_test, y_null))"
   ]
  },
  {
   "cell_type": "markdown",
   "metadata": {
    "slideshow": {
     "slide_type": "skip"
    }
   },
   "source": [
    "feature engineering"
   ]
  },
  {
   "cell_type": "code",
   "execution_count": 124,
   "metadata": {
    "slideshow": {
     "slide_type": "skip"
    }
   },
   "outputs": [],
   "source": [
    "gpa_dummies = pd.get_dummies(gpa2.Race)"
   ]
  },
  {
   "cell_type": "code",
   "execution_count": 125,
   "metadata": {
    "slideshow": {
     "slide_type": "skip"
    }
   },
   "outputs": [],
   "source": [
    "gpa_dummies = pd.concat([gpa2, gpa_dummies], axis=1)"
   ]
  },
  {
   "cell_type": "markdown",
   "metadata": {},
   "source": [
    "Ridge Regression Regularization"
   ]
  },
  {
   "cell_type": "code",
   "execution_count": 126,
   "metadata": {
    "slideshow": {
     "slide_type": "skip"
    }
   },
   "outputs": [],
   "source": [
    "X = gpa_dummies[feature_cols]\n",
    "y = gpa_dummies.GPA\n",
    "\n",
    "linreg = LinearRegression()\n",
    "linreg.fit(X, y)\n",
    "\n",
    "X_train, X_test, y_train, y_test = train_test_split(X, y, random_state=1)"
   ]
  },
  {
   "cell_type": "markdown",
   "metadata": {},
   "source": [
    "ridge regression"
   ]
  },
  {
   "cell_type": "code",
   "execution_count": 127,
   "metadata": {
    "slideshow": {
     "slide_type": "skip"
    }
   },
   "outputs": [
    {
     "name": "stdout",
     "output_type": "stream",
     "text": [
      "0.5932344351810799\n"
     ]
    }
   ],
   "source": [
    "from sklearn.linear_model import Ridge\n",
    "\n",
    "ridgereg = Ridge(alpha=0, normalize=True)\n",
    "ridgereg.fit(X_train, y_train)\n",
    "y_pred = ridgereg.predict(X_test)\n",
    "print(np.sqrt(metrics.mean_squared_error(y_test, y_pred)))"
   ]
  },
  {
   "cell_type": "code",
   "execution_count": 128,
   "metadata": {},
   "outputs": [],
   "source": [
    "y_pred = ridgereg.predict(X)"
   ]
  },
  {
   "cell_type": "code",
   "execution_count": 129,
   "metadata": {},
   "outputs": [
    {
     "name": "stdout",
     "output_type": "stream",
     "text": [
      "5.725267956040865\n"
     ]
    }
   ],
   "source": [
    "print(ridgereg.intercept_)"
   ]
  },
  {
   "cell_type": "code",
   "execution_count": 130,
   "metadata": {
    "slideshow": {
     "slide_type": "notes"
    }
   },
   "outputs": [
    {
     "data": {
      "text/plain": [
       "[('Race', -0.012072455992338802),\n",
       " ('Gender', -0.17189375745468874),\n",
       " ('Grade', -0.23970372882449337),\n",
       " ('Age', -0.021451648629833384),\n",
       " ('ELLServed', 0.02488225740870185),\n",
       " ('FreeReducedLunch', -0.25715759271676475),\n",
       " ('SpecialEducation', -0.23200360036349318),\n",
       " ('SOCFFEJ', -0.2205105337691541),\n",
       " ('AAM', -0.1508911981911958),\n",
       " ('HighlyCapable', 0.10134105825030529),\n",
       " ('AdvancedLearning', 0.3032948476625757),\n",
       " ('CreditsEarned', 0.04649019312062045)]"
      ]
     },
     "execution_count": 130,
     "metadata": {},
     "output_type": "execute_result"
    }
   ],
   "source": [
    "list(zip(feature_cols, ridgereg.coef_))"
   ]
  },
  {
   "cell_type": "code",
   "execution_count": 131,
   "metadata": {
    "slideshow": {
     "slide_type": "fragment"
    }
   },
   "outputs": [
    {
     "name": "stdout",
     "output_type": "stream",
     "text": [
      "0.5978285354252588\n"
     ]
    }
   ],
   "source": [
    "ridgereg = Ridge(alpha=0.1, normalize=True)\n",
    "ridgereg.fit(X_train, y_train)\n",
    "y_pred = ridgereg.predict(X_test)\n",
    "print(np.sqrt(metrics.mean_squared_error(y_test, y_pred)))"
   ]
  },
  {
   "cell_type": "code",
   "execution_count": 132,
   "metadata": {
    "slideshow": {
     "slide_type": "skip"
    }
   },
   "outputs": [
    {
     "data": {
      "text/plain": [
       "[('Race', -0.014266838213527236),\n",
       " ('Gender', -0.15931463649301347),\n",
       " ('Grade', -0.1347250577338514),\n",
       " ('Age', -0.02182512213650752),\n",
       " ('ELLServed', 0.021039820609851052),\n",
       " ('FreeReducedLunch', -0.24215956709389638),\n",
       " ('SpecialEducation', -0.22868375367778698),\n",
       " ('SOCFFEJ', -0.21065339583369258),\n",
       " ('AAM', -0.17372494957509252),\n",
       " ('HighlyCapable', 0.12353455471975786),\n",
       " ('AdvancedLearning', 0.2852648696521384),\n",
       " ('CreditsEarned', 0.03076569025457894)]"
      ]
     },
     "execution_count": 132,
     "metadata": {},
     "output_type": "execute_result"
    }
   ],
   "source": [
    "list(zip(feature_cols, ridgereg.coef_))"
   ]
  },
  {
   "cell_type": "markdown",
   "metadata": {},
   "source": [
    "conclusion"
   ]
  },
  {
   "cell_type": "markdown",
   "metadata": {},
   "source": [
    "predicting performance per course with the Neural Net\u0002work"
   ]
  },
  {
   "cell_type": "markdown",
   "metadata": {},
   "source": [
    "e Neural Network is trained on the data of each course individually and\n",
    "its classification accuracy and recall are measured for each course. This in order to determine if there is an advantage to training the network on all the data or on data for each individual course as well as examining the differences in predictive performance between courses."
   ]
  },
  {
   "cell_type": "markdown",
   "metadata": {},
   "source": [
    "The feature importance statistics from Figure 3 extracted from the Random Forest Classifier give a better insight in how certain features influence the ability of the classifier to predict the correct labels. One feature that stood out in these statistics was the regularity measure, which is a representation of how regularly a student accessed the course page and its content over the duration of the course. It obtained the highest ranking with 12.9%, meaning that knowledge of the regularity of page access is the relative best predictor for student performance when the classifier is trained on a wide variety of courses. Quiz grades placed eighth, with 8.7% which is relatively high, given the fact that these grades are only available for approximately half the students, thus indicating that they are potentially important predictors for student performance.\n",
    "The other previous grade predictor, assignment grades, only obtained an importance score of 0.4%. This low score could largely be attributed to the fact that this predictor is only available for 2 out of the 17 courses. The Couse ID predictor was ranked ninth in terms of feature importance with 5.5%, this makes it of relatively low importance compared to the eight other predictors ranked above it."
   ]
  },
  {
   "cell_type": "markdown",
   "metadata": {},
   "source": [
    "Compared to the performance of the Neural Network in experiment 1, which obtained an accuracy of 66.1% and recall of 84.9%, some course classifiers obtained a clear performance increase. The classifier for Intro to Psychology obtained an accuracy of 89.3% with a recall of 76.1%. "
   ]
  },
  {
   "cell_type": "code",
   "execution_count": null,
   "metadata": {},
   "outputs": [],
   "source": []
  }
 ],
 "metadata": {
  "kernelspec": {
   "display_name": "Python 3",
   "language": "python",
   "name": "python3"
  },
  "language_info": {
   "codemirror_mode": {
    "name": "ipython",
    "version": 3
   },
   "file_extension": ".py",
   "mimetype": "text/x-python",
   "name": "python",
   "nbconvert_exporter": "python",
   "pygments_lexer": "ipython3",
   "version": "3.8.5"
  }
 },
 "nbformat": 4,
 "nbformat_minor": 4
}
