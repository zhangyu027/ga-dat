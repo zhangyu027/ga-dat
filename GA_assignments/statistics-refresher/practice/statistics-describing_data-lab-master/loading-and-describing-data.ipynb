{
 "cells": [
  {
   "cell_type": "markdown",
   "metadata": {},
   "source": [
    "<img src=\"http://imgur.com/1ZcRyrc.png\" style=\"float: left; margin: 20px; height: 55px\">\n",
    "\n",
    "## Practice Loading and Describing Data \n",
    "\n",
    "_Author: Naumaan Nayyar_\n",
    "\n",
    "---\n",
    "\n",
    "In this lab you will practice loading data using python and describing it with statistics.\n",
    "\n",
    "It might be a good idea to first check the [source of the Boston housing data](https://archive.ics.uci.edu/ml/datasets/Housing)."
   ]
  },
  {
   "cell_type": "markdown",
   "metadata": {},
   "source": [
    "### 1. Load the boston housing data (provided)"
   ]
  },
  {
   "cell_type": "code",
   "execution_count": 6,
   "metadata": {},
   "outputs": [],
   "source": [
    "import numpy as np\n",
    "import pandas as pd\n",
    "import seaborn as sns\n",
    "import scipy.stats as stats\n",
    "import matplotlib.pyplot as plt\n",
    "\n",
    "%matplotlib inline"
   ]
  },
  {
   "cell_type": "code",
   "execution_count": 13,
   "metadata": {
    "collapsed": false,
    "jupyter": {
     "outputs_hidden": false
    }
   },
   "outputs": [
    {
     "data": {
      "text/plain": [
       "('./datasets/housing.data', <http.client.HTTPMessage at 0x1f145a4e488>)"
      ]
     },
     "execution_count": 13,
     "metadata": {},
     "output_type": "execute_result"
    }
   ],
   "source": [
    "# Download the data and save to a file called \"housing.data.\"\n",
    "\n",
    "import urllib\n",
    "data_url = \"https://archive.ics.uci.edu/ml/machine-learning-databases/housing/housing.data\"\n",
    "\n",
    "# this saves a file called 'housing.data' locally'\n",
    "urllib.request.urlretrieve(data_url, './datasets/housing.data')"
   ]
  },
  {
   "cell_type": "markdown",
   "metadata": {},
   "source": [
    "The data file does not contain the column names in the first line, so we'll need to add those in manually. You can find the names and explanations [here](https://archive.ics.uci.edu/ml/machine-learning-databases/housing/housing.names). We've extracted the names below for your convenience. You may choose to edit the names, should you decide it would be more helpful to do so."
   ]
  },
  {
   "cell_type": "code",
   "execution_count": 8,
   "metadata": {},
   "outputs": [],
   "source": [
    "names = [\"CRIM\", \"ZN\", \"INDUS\", \"CHAS\", \"NOX\", \"RM\", \"AGE\",\n",
    "         \"DIS\", \"RAD\", \"TAX\", \"PTRATIO\", \"B\", \"LSTAT\", \"MEDV\"]"
   ]
  },
  {
   "cell_type": "code",
   "execution_count": 18,
   "metadata": {},
   "outputs": [
    {
     "data": {
      "text/html": [
       "<div>\n",
       "<style scoped>\n",
       "    .dataframe tbody tr th:only-of-type {\n",
       "        vertical-align: middle;\n",
       "    }\n",
       "\n",
       "    .dataframe tbody tr th {\n",
       "        vertical-align: top;\n",
       "    }\n",
       "\n",
       "    .dataframe thead th {\n",
       "        text-align: right;\n",
       "    }\n",
       "</style>\n",
       "<table border=\"1\" class=\"dataframe\">\n",
       "  <thead>\n",
       "    <tr style=\"text-align: right;\">\n",
       "      <th></th>\n",
       "      <th></th>\n",
       "      <th></th>\n",
       "      <th></th>\n",
       "      <th></th>\n",
       "      <th></th>\n",
       "      <th></th>\n",
       "      <th></th>\n",
       "      <th></th>\n",
       "      <th></th>\n",
       "      <th></th>\n",
       "      <th></th>\n",
       "      <th></th>\n",
       "      <th></th>\n",
       "      <th></th>\n",
       "      <th></th>\n",
       "      <th>CRIM</th>\n",
       "      <th>ZN</th>\n",
       "      <th>INDUS</th>\n",
       "      <th>CHAS</th>\n",
       "      <th>NOX</th>\n",
       "      <th>RM</th>\n",
       "      <th>AGE</th>\n",
       "      <th>DIS</th>\n",
       "      <th>RAD</th>\n",
       "      <th>TAX</th>\n",
       "      <th>PTRATIO</th>\n",
       "      <th>B</th>\n",
       "      <th>LSTAT</th>\n",
       "      <th>MEDV</th>\n",
       "    </tr>\n",
       "  </thead>\n",
       "  <tbody>\n",
       "    <tr>\n",
       "      <th rowspan=\"5\" valign=\"top\">NaN</th>\n",
       "      <th>0.00632</th>\n",
       "      <th>NaN</th>\n",
       "      <th>18.0</th>\n",
       "      <th>NaN</th>\n",
       "      <th>NaN</th>\n",
       "      <th>2.31</th>\n",
       "      <th>NaN</th>\n",
       "      <th>0.0</th>\n",
       "      <th>NaN</th>\n",
       "      <th>0.538</th>\n",
       "      <th>NaN</th>\n",
       "      <th>6.575</th>\n",
       "      <th>NaN</th>\n",
       "      <th>65.2</th>\n",
       "      <th>NaN</th>\n",
       "      <td>4.09</td>\n",
       "      <td>NaN</td>\n",
       "      <td>NaN</td>\n",
       "      <td>1.0</td>\n",
       "      <td>NaN</td>\n",
       "      <td>296.0</td>\n",
       "      <td>NaN</td>\n",
       "      <td>15.3</td>\n",
       "      <td>396.9</td>\n",
       "      <td>NaN</td>\n",
       "      <td>NaN</td>\n",
       "      <td>4.98</td>\n",
       "      <td>NaN</td>\n",
       "      <td>24.0</td>\n",
       "    </tr>\n",
       "    <tr>\n",
       "      <th>0.02731</th>\n",
       "      <th>NaN</th>\n",
       "      <th>NaN</th>\n",
       "      <th>0.0</th>\n",
       "      <th>NaN</th>\n",
       "      <th>NaN</th>\n",
       "      <th>7.07</th>\n",
       "      <th>NaN</th>\n",
       "      <th>0.0</th>\n",
       "      <th>NaN</th>\n",
       "      <th>0.469</th>\n",
       "      <th>NaN</th>\n",
       "      <th>6.421</th>\n",
       "      <th>NaN</th>\n",
       "      <th>78.9</th>\n",
       "      <td>NaN</td>\n",
       "      <td>4.9671</td>\n",
       "      <td>NaN</td>\n",
       "      <td>NaN</td>\n",
       "      <td>2.0</td>\n",
       "      <td>NaN</td>\n",
       "      <td>242.0</td>\n",
       "      <td>NaN</td>\n",
       "      <td>17.8</td>\n",
       "      <td>396.90</td>\n",
       "      <td>NaN</td>\n",
       "      <td>NaN</td>\n",
       "      <td>9.14</td>\n",
       "      <td>NaN</td>\n",
       "    </tr>\n",
       "    <tr>\n",
       "      <th>0.02729</th>\n",
       "      <th>NaN</th>\n",
       "      <th>NaN</th>\n",
       "      <th>0.0</th>\n",
       "      <th>NaN</th>\n",
       "      <th>NaN</th>\n",
       "      <th>7.07</th>\n",
       "      <th>NaN</th>\n",
       "      <th>0.0</th>\n",
       "      <th>NaN</th>\n",
       "      <th>0.469</th>\n",
       "      <th>NaN</th>\n",
       "      <th>7.185</th>\n",
       "      <th>NaN</th>\n",
       "      <th>61.1</th>\n",
       "      <td>NaN</td>\n",
       "      <td>4.9671</td>\n",
       "      <td>NaN</td>\n",
       "      <td>NaN</td>\n",
       "      <td>2.0</td>\n",
       "      <td>NaN</td>\n",
       "      <td>242.0</td>\n",
       "      <td>NaN</td>\n",
       "      <td>17.8</td>\n",
       "      <td>392.83</td>\n",
       "      <td>NaN</td>\n",
       "      <td>NaN</td>\n",
       "      <td>4.03</td>\n",
       "      <td>NaN</td>\n",
       "    </tr>\n",
       "    <tr>\n",
       "      <th>0.03237</th>\n",
       "      <th>NaN</th>\n",
       "      <th>NaN</th>\n",
       "      <th>0.0</th>\n",
       "      <th>NaN</th>\n",
       "      <th>NaN</th>\n",
       "      <th>2.18</th>\n",
       "      <th>NaN</th>\n",
       "      <th>0.0</th>\n",
       "      <th>NaN</th>\n",
       "      <th>0.458</th>\n",
       "      <th>NaN</th>\n",
       "      <th>6.998</th>\n",
       "      <th>NaN</th>\n",
       "      <th>45.8</th>\n",
       "      <td>NaN</td>\n",
       "      <td>6.0622</td>\n",
       "      <td>NaN</td>\n",
       "      <td>NaN</td>\n",
       "      <td>3.0</td>\n",
       "      <td>NaN</td>\n",
       "      <td>222.0</td>\n",
       "      <td>NaN</td>\n",
       "      <td>18.7</td>\n",
       "      <td>394.63</td>\n",
       "      <td>NaN</td>\n",
       "      <td>NaN</td>\n",
       "      <td>2.94</td>\n",
       "      <td>NaN</td>\n",
       "    </tr>\n",
       "    <tr>\n",
       "      <th>0.06905</th>\n",
       "      <th>NaN</th>\n",
       "      <th>NaN</th>\n",
       "      <th>0.0</th>\n",
       "      <th>NaN</th>\n",
       "      <th>NaN</th>\n",
       "      <th>2.18</th>\n",
       "      <th>NaN</th>\n",
       "      <th>0.0</th>\n",
       "      <th>NaN</th>\n",
       "      <th>0.458</th>\n",
       "      <th>NaN</th>\n",
       "      <th>7.147</th>\n",
       "      <th>NaN</th>\n",
       "      <th>54.2</th>\n",
       "      <td>NaN</td>\n",
       "      <td>6.0622</td>\n",
       "      <td>NaN</td>\n",
       "      <td>NaN</td>\n",
       "      <td>3.0</td>\n",
       "      <td>NaN</td>\n",
       "      <td>222.0</td>\n",
       "      <td>NaN</td>\n",
       "      <td>18.7</td>\n",
       "      <td>396.90</td>\n",
       "      <td>NaN</td>\n",
       "      <td>NaN</td>\n",
       "      <td>5.33</td>\n",
       "      <td>NaN</td>\n",
       "    </tr>\n",
       "  </tbody>\n",
       "</table>\n",
       "</div>"
      ],
      "text/plain": [
       "                                                                                        CRIM  \\\n",
       "NaN 0.00632 NaN 18.0 NaN NaN 2.31  NaN  0.0 NaN 0.538 NaN   6.575   NaN     65.2  NaN   4.09   \n",
       "    0.02731 NaN NaN  0.0 NaN NaN   7.07 NaN 0.0 NaN   0.469 NaN     6.421   NaN   78.9   NaN   \n",
       "    0.02729 NaN NaN  0.0 NaN NaN   7.07 NaN 0.0 NaN   0.469 NaN     7.185   NaN   61.1   NaN   \n",
       "    0.03237 NaN NaN  0.0 NaN NaN   2.18 NaN 0.0 NaN   0.458 NaN     6.998   NaN   45.8   NaN   \n",
       "    0.06905 NaN NaN  0.0 NaN NaN   2.18 NaN 0.0 NaN   0.458 NaN     7.147   NaN   54.2   NaN   \n",
       "\n",
       "                                                                                            ZN  \\\n",
       "NaN 0.00632 NaN 18.0 NaN NaN 2.31  NaN  0.0 NaN 0.538 NaN   6.575   NaN     65.2  NaN      NaN   \n",
       "    0.02731 NaN NaN  0.0 NaN NaN   7.07 NaN 0.0 NaN   0.469 NaN     6.421   NaN   78.9  4.9671   \n",
       "    0.02729 NaN NaN  0.0 NaN NaN   7.07 NaN 0.0 NaN   0.469 NaN     7.185   NaN   61.1  4.9671   \n",
       "    0.03237 NaN NaN  0.0 NaN NaN   2.18 NaN 0.0 NaN   0.458 NaN     6.998   NaN   45.8  6.0622   \n",
       "    0.06905 NaN NaN  0.0 NaN NaN   2.18 NaN 0.0 NaN   0.458 NaN     7.147   NaN   54.2  6.0622   \n",
       "\n",
       "                                                                                        INDUS  \\\n",
       "NaN 0.00632 NaN 18.0 NaN NaN 2.31  NaN  0.0 NaN 0.538 NaN   6.575   NaN     65.2  NaN     NaN   \n",
       "    0.02731 NaN NaN  0.0 NaN NaN   7.07 NaN 0.0 NaN   0.469 NaN     6.421   NaN   78.9    NaN   \n",
       "    0.02729 NaN NaN  0.0 NaN NaN   7.07 NaN 0.0 NaN   0.469 NaN     7.185   NaN   61.1    NaN   \n",
       "    0.03237 NaN NaN  0.0 NaN NaN   2.18 NaN 0.0 NaN   0.458 NaN     6.998   NaN   45.8    NaN   \n",
       "    0.06905 NaN NaN  0.0 NaN NaN   2.18 NaN 0.0 NaN   0.458 NaN     7.147   NaN   54.2    NaN   \n",
       "\n",
       "                                                                                        CHAS  \\\n",
       "NaN 0.00632 NaN 18.0 NaN NaN 2.31  NaN  0.0 NaN 0.538 NaN   6.575   NaN     65.2  NaN    1.0   \n",
       "    0.02731 NaN NaN  0.0 NaN NaN   7.07 NaN 0.0 NaN   0.469 NaN     6.421   NaN   78.9   NaN   \n",
       "    0.02729 NaN NaN  0.0 NaN NaN   7.07 NaN 0.0 NaN   0.469 NaN     7.185   NaN   61.1   NaN   \n",
       "    0.03237 NaN NaN  0.0 NaN NaN   2.18 NaN 0.0 NaN   0.458 NaN     6.998   NaN   45.8   NaN   \n",
       "    0.06905 NaN NaN  0.0 NaN NaN   2.18 NaN 0.0 NaN   0.458 NaN     7.147   NaN   54.2   NaN   \n",
       "\n",
       "                                                                                        NOX  \\\n",
       "NaN 0.00632 NaN 18.0 NaN NaN 2.31  NaN  0.0 NaN 0.538 NaN   6.575   NaN     65.2  NaN   NaN   \n",
       "    0.02731 NaN NaN  0.0 NaN NaN   7.07 NaN 0.0 NaN   0.469 NaN     6.421   NaN   78.9  2.0   \n",
       "    0.02729 NaN NaN  0.0 NaN NaN   7.07 NaN 0.0 NaN   0.469 NaN     7.185   NaN   61.1  2.0   \n",
       "    0.03237 NaN NaN  0.0 NaN NaN   2.18 NaN 0.0 NaN   0.458 NaN     6.998   NaN   45.8  3.0   \n",
       "    0.06905 NaN NaN  0.0 NaN NaN   2.18 NaN 0.0 NaN   0.458 NaN     7.147   NaN   54.2  3.0   \n",
       "\n",
       "                                                                                           RM  \\\n",
       "NaN 0.00632 NaN 18.0 NaN NaN 2.31  NaN  0.0 NaN 0.538 NaN   6.575   NaN     65.2  NaN   296.0   \n",
       "    0.02731 NaN NaN  0.0 NaN NaN   7.07 NaN 0.0 NaN   0.469 NaN     6.421   NaN   78.9    NaN   \n",
       "    0.02729 NaN NaN  0.0 NaN NaN   7.07 NaN 0.0 NaN   0.469 NaN     7.185   NaN   61.1    NaN   \n",
       "    0.03237 NaN NaN  0.0 NaN NaN   2.18 NaN 0.0 NaN   0.458 NaN     6.998   NaN   45.8    NaN   \n",
       "    0.06905 NaN NaN  0.0 NaN NaN   2.18 NaN 0.0 NaN   0.458 NaN     7.147   NaN   54.2    NaN   \n",
       "\n",
       "                                                                                          AGE  \\\n",
       "NaN 0.00632 NaN 18.0 NaN NaN 2.31  NaN  0.0 NaN 0.538 NaN   6.575   NaN     65.2  NaN     NaN   \n",
       "    0.02731 NaN NaN  0.0 NaN NaN   7.07 NaN 0.0 NaN   0.469 NaN     6.421   NaN   78.9  242.0   \n",
       "    0.02729 NaN NaN  0.0 NaN NaN   7.07 NaN 0.0 NaN   0.469 NaN     7.185   NaN   61.1  242.0   \n",
       "    0.03237 NaN NaN  0.0 NaN NaN   2.18 NaN 0.0 NaN   0.458 NaN     6.998   NaN   45.8  222.0   \n",
       "    0.06905 NaN NaN  0.0 NaN NaN   2.18 NaN 0.0 NaN   0.458 NaN     7.147   NaN   54.2  222.0   \n",
       "\n",
       "                                                                                         DIS  \\\n",
       "NaN 0.00632 NaN 18.0 NaN NaN 2.31  NaN  0.0 NaN 0.538 NaN   6.575   NaN     65.2  NaN   15.3   \n",
       "    0.02731 NaN NaN  0.0 NaN NaN   7.07 NaN 0.0 NaN   0.469 NaN     6.421   NaN   78.9   NaN   \n",
       "    0.02729 NaN NaN  0.0 NaN NaN   7.07 NaN 0.0 NaN   0.469 NaN     7.185   NaN   61.1   NaN   \n",
       "    0.03237 NaN NaN  0.0 NaN NaN   2.18 NaN 0.0 NaN   0.458 NaN     6.998   NaN   45.8   NaN   \n",
       "    0.06905 NaN NaN  0.0 NaN NaN   2.18 NaN 0.0 NaN   0.458 NaN     7.147   NaN   54.2   NaN   \n",
       "\n",
       "                                                                                          RAD  \\\n",
       "NaN 0.00632 NaN 18.0 NaN NaN 2.31  NaN  0.0 NaN 0.538 NaN   6.575   NaN     65.2  NaN   396.9   \n",
       "    0.02731 NaN NaN  0.0 NaN NaN   7.07 NaN 0.0 NaN   0.469 NaN     6.421   NaN   78.9   17.8   \n",
       "    0.02729 NaN NaN  0.0 NaN NaN   7.07 NaN 0.0 NaN   0.469 NaN     7.185   NaN   61.1   17.8   \n",
       "    0.03237 NaN NaN  0.0 NaN NaN   2.18 NaN 0.0 NaN   0.458 NaN     6.998   NaN   45.8   18.7   \n",
       "    0.06905 NaN NaN  0.0 NaN NaN   2.18 NaN 0.0 NaN   0.458 NaN     7.147   NaN   54.2   18.7   \n",
       "\n",
       "                                                                                           TAX  \\\n",
       "NaN 0.00632 NaN 18.0 NaN NaN 2.31  NaN  0.0 NaN 0.538 NaN   6.575   NaN     65.2  NaN      NaN   \n",
       "    0.02731 NaN NaN  0.0 NaN NaN   7.07 NaN 0.0 NaN   0.469 NaN     6.421   NaN   78.9  396.90   \n",
       "    0.02729 NaN NaN  0.0 NaN NaN   7.07 NaN 0.0 NaN   0.469 NaN     7.185   NaN   61.1  392.83   \n",
       "    0.03237 NaN NaN  0.0 NaN NaN   2.18 NaN 0.0 NaN   0.458 NaN     6.998   NaN   45.8  394.63   \n",
       "    0.06905 NaN NaN  0.0 NaN NaN   2.18 NaN 0.0 NaN   0.458 NaN     7.147   NaN   54.2  396.90   \n",
       "\n",
       "                                                                                        PTRATIO  \\\n",
       "NaN 0.00632 NaN 18.0 NaN NaN 2.31  NaN  0.0 NaN 0.538 NaN   6.575   NaN     65.2  NaN       NaN   \n",
       "    0.02731 NaN NaN  0.0 NaN NaN   7.07 NaN 0.0 NaN   0.469 NaN     6.421   NaN   78.9      NaN   \n",
       "    0.02729 NaN NaN  0.0 NaN NaN   7.07 NaN 0.0 NaN   0.469 NaN     7.185   NaN   61.1      NaN   \n",
       "    0.03237 NaN NaN  0.0 NaN NaN   2.18 NaN 0.0 NaN   0.458 NaN     6.998   NaN   45.8      NaN   \n",
       "    0.06905 NaN NaN  0.0 NaN NaN   2.18 NaN 0.0 NaN   0.458 NaN     7.147   NaN   54.2      NaN   \n",
       "\n",
       "                                                                                           B  \\\n",
       "NaN 0.00632 NaN 18.0 NaN NaN 2.31  NaN  0.0 NaN 0.538 NaN   6.575   NaN     65.2  NaN   4.98   \n",
       "    0.02731 NaN NaN  0.0 NaN NaN   7.07 NaN 0.0 NaN   0.469 NaN     6.421   NaN   78.9   NaN   \n",
       "    0.02729 NaN NaN  0.0 NaN NaN   7.07 NaN 0.0 NaN   0.469 NaN     7.185   NaN   61.1   NaN   \n",
       "    0.03237 NaN NaN  0.0 NaN NaN   2.18 NaN 0.0 NaN   0.458 NaN     6.998   NaN   45.8   NaN   \n",
       "    0.06905 NaN NaN  0.0 NaN NaN   2.18 NaN 0.0 NaN   0.458 NaN     7.147   NaN   54.2   NaN   \n",
       "\n",
       "                                                                                        LSTAT  \\\n",
       "NaN 0.00632 NaN 18.0 NaN NaN 2.31  NaN  0.0 NaN 0.538 NaN   6.575   NaN     65.2  NaN     NaN   \n",
       "    0.02731 NaN NaN  0.0 NaN NaN   7.07 NaN 0.0 NaN   0.469 NaN     6.421   NaN   78.9   9.14   \n",
       "    0.02729 NaN NaN  0.0 NaN NaN   7.07 NaN 0.0 NaN   0.469 NaN     7.185   NaN   61.1   4.03   \n",
       "    0.03237 NaN NaN  0.0 NaN NaN   2.18 NaN 0.0 NaN   0.458 NaN     6.998   NaN   45.8   2.94   \n",
       "    0.06905 NaN NaN  0.0 NaN NaN   2.18 NaN 0.0 NaN   0.458 NaN     7.147   NaN   54.2   5.33   \n",
       "\n",
       "                                                                                        MEDV  \n",
       "NaN 0.00632 NaN 18.0 NaN NaN 2.31  NaN  0.0 NaN 0.538 NaN   6.575   NaN     65.2  NaN   24.0  \n",
       "    0.02731 NaN NaN  0.0 NaN NaN   7.07 NaN 0.0 NaN   0.469 NaN     6.421   NaN   78.9   NaN  \n",
       "    0.02729 NaN NaN  0.0 NaN NaN   7.07 NaN 0.0 NaN   0.469 NaN     7.185   NaN   61.1   NaN  \n",
       "    0.03237 NaN NaN  0.0 NaN NaN   2.18 NaN 0.0 NaN   0.458 NaN     6.998   NaN   45.8   NaN  \n",
       "    0.06905 NaN NaN  0.0 NaN NaN   2.18 NaN 0.0 NaN   0.458 NaN     7.147   NaN   54.2   NaN  "
      ]
     },
     "execution_count": 18,
     "metadata": {},
     "output_type": "execute_result"
    }
   ],
   "source": [
    "house = pd.read_csv(\"./datasets/housing.data\", names = names, sep = \" \")\n",
    "house.head()"
   ]
  },
  {
   "cell_type": "markdown",
   "metadata": {},
   "source": [
    "### 2. Load the `housing.data` file with python\n",
    "\n",
    "Using any method of your choice.\n",
    "\n",
    "> _**Hint:** despite this file having a strange `.data` extension, using python's `open() as file` and `file.read()` or `file.readlines()` we can load this in and see that it is a text file formatted much the same as a CSV. You can use string operations to format the data._"
   ]
  },
  {
   "cell_type": "code",
   "execution_count": 3,
   "metadata": {
    "collapsed": false,
    "jupyter": {
     "outputs_hidden": false
    }
   },
   "outputs": [],
   "source": [
    "# A:"
   ]
  },
  {
   "cell_type": "markdown",
   "metadata": {},
   "source": [
    "### 3.  Conduct a brief integrity check of your data. \n",
    "\n",
    "This integrity check should include, but is not limited to, checking for missing values and making sure all values make logical sense. (i.e. is one variable a percentage, but there are observations above 100%?)\n",
    "\n",
    "Summarize your findings in a few sentences, including what you checked and, if appropriate, any \n",
    "steps you took to rectify potential integrity issues."
   ]
  },
  {
   "cell_type": "code",
   "execution_count": 4,
   "metadata": {
    "collapsed": true,
    "jupyter": {
     "outputs_hidden": true
    }
   },
   "outputs": [],
   "source": [
    "# A:"
   ]
  },
  {
   "cell_type": "markdown",
   "metadata": {},
   "source": [
    "### 4. For what two attributes does it make the *least* sense to calculate mean and median? Why?"
   ]
  },
  {
   "cell_type": "code",
   "execution_count": 5,
   "metadata": {
    "collapsed": true,
    "jupyter": {
     "outputs_hidden": true
    }
   },
   "outputs": [],
   "source": [
    "# A:"
   ]
  },
  {
   "cell_type": "markdown",
   "metadata": {},
   "source": [
    "### 5. Which two variables have the strongest linear association? \n",
    "\n",
    "Report both variables, the metric you chose as the basis for your comparison, and the value of that metric. *(Hint: Make sure you consider only variables for which it makes sense to find a linear association.)*"
   ]
  },
  {
   "cell_type": "code",
   "execution_count": 19,
   "metadata": {},
   "outputs": [
    {
     "data": {
      "text/html": [
       "<div>\n",
       "<style scoped>\n",
       "    .dataframe tbody tr th:only-of-type {\n",
       "        vertical-align: middle;\n",
       "    }\n",
       "\n",
       "    .dataframe tbody tr th {\n",
       "        vertical-align: top;\n",
       "    }\n",
       "\n",
       "    .dataframe thead th {\n",
       "        text-align: right;\n",
       "    }\n",
       "</style>\n",
       "<table border=\"1\" class=\"dataframe\">\n",
       "  <thead>\n",
       "    <tr style=\"text-align: right;\">\n",
       "      <th></th>\n",
       "      <th>CRIM</th>\n",
       "      <th>ZN</th>\n",
       "      <th>INDUS</th>\n",
       "      <th>CHAS</th>\n",
       "      <th>NOX</th>\n",
       "      <th>RM</th>\n",
       "      <th>AGE</th>\n",
       "      <th>DIS</th>\n",
       "      <th>RAD</th>\n",
       "      <th>TAX</th>\n",
       "      <th>PTRATIO</th>\n",
       "      <th>B</th>\n",
       "      <th>LSTAT</th>\n",
       "      <th>MEDV</th>\n",
       "    </tr>\n",
       "  </thead>\n",
       "  <tbody>\n",
       "    <tr>\n",
       "      <th>CRIM</th>\n",
       "      <td>1.000000</td>\n",
       "      <td>NaN</td>\n",
       "      <td>0.995324</td>\n",
       "      <td>-0.027584</td>\n",
       "      <td>-9.982156e-01</td>\n",
       "      <td>-8.611610e-02</td>\n",
       "      <td>0.583314</td>\n",
       "      <td>-0.274853</td>\n",
       "      <td>-0.379837</td>\n",
       "      <td>-0.048800</td>\n",
       "      <td>0.003525</td>\n",
       "      <td>-0.327493</td>\n",
       "      <td>-0.153360</td>\n",
       "      <td>-0.070099</td>\n",
       "    </tr>\n",
       "    <tr>\n",
       "      <th>ZN</th>\n",
       "      <td>NaN</td>\n",
       "      <td>1.000000</td>\n",
       "      <td>NaN</td>\n",
       "      <td>NaN</td>\n",
       "      <td>-1.563579e-01</td>\n",
       "      <td>NaN</td>\n",
       "      <td>0.249640</td>\n",
       "      <td>NaN</td>\n",
       "      <td>0.274093</td>\n",
       "      <td>-0.938381</td>\n",
       "      <td>-0.943803</td>\n",
       "      <td>0.071117</td>\n",
       "      <td>0.100726</td>\n",
       "      <td>-0.455780</td>\n",
       "    </tr>\n",
       "    <tr>\n",
       "      <th>INDUS</th>\n",
       "      <td>0.995324</td>\n",
       "      <td>NaN</td>\n",
       "      <td>1.000000</td>\n",
       "      <td>NaN</td>\n",
       "      <td>-8.569407e-01</td>\n",
       "      <td>8.448521e-01</td>\n",
       "      <td>0.595274</td>\n",
       "      <td>-0.921771</td>\n",
       "      <td>-0.531197</td>\n",
       "      <td>0.014306</td>\n",
       "      <td>-0.144207</td>\n",
       "      <td>-0.473204</td>\n",
       "      <td>-0.255101</td>\n",
       "      <td>0.899735</td>\n",
       "    </tr>\n",
       "    <tr>\n",
       "      <th>CHAS</th>\n",
       "      <td>-0.027584</td>\n",
       "      <td>NaN</td>\n",
       "      <td>NaN</td>\n",
       "      <td>1.000000</td>\n",
       "      <td>NaN</td>\n",
       "      <td>-7.945650e-01</td>\n",
       "      <td>NaN</td>\n",
       "      <td>0.696501</td>\n",
       "      <td>-0.980206</td>\n",
       "      <td>-0.960379</td>\n",
       "      <td>-0.088198</td>\n",
       "      <td>0.489522</td>\n",
       "      <td>-0.560225</td>\n",
       "      <td>-0.203003</td>\n",
       "    </tr>\n",
       "    <tr>\n",
       "      <th>NOX</th>\n",
       "      <td>-0.998216</td>\n",
       "      <td>-0.156358</td>\n",
       "      <td>-0.856941</td>\n",
       "      <td>NaN</td>\n",
       "      <td>1.000000e+00</td>\n",
       "      <td>-9.396814e-16</td>\n",
       "      <td>-0.877846</td>\n",
       "      <td>0.784596</td>\n",
       "      <td>0.762729</td>\n",
       "      <td>-0.859215</td>\n",
       "      <td>-0.115484</td>\n",
       "      <td>0.350901</td>\n",
       "      <td>0.700774</td>\n",
       "      <td>-0.487450</td>\n",
       "    </tr>\n",
       "    <tr>\n",
       "      <th>RM</th>\n",
       "      <td>-0.086116</td>\n",
       "      <td>NaN</td>\n",
       "      <td>0.844852</td>\n",
       "      <td>-0.794565</td>\n",
       "      <td>-9.396814e-16</td>\n",
       "      <td>1.000000e+00</td>\n",
       "      <td>NaN</td>\n",
       "      <td>-0.370107</td>\n",
       "      <td>0.705570</td>\n",
       "      <td>0.274918</td>\n",
       "      <td>-0.252999</td>\n",
       "      <td>-0.384709</td>\n",
       "      <td>0.066482</td>\n",
       "      <td>0.001628</td>\n",
       "    </tr>\n",
       "    <tr>\n",
       "      <th>AGE</th>\n",
       "      <td>0.583314</td>\n",
       "      <td>0.249640</td>\n",
       "      <td>0.595274</td>\n",
       "      <td>NaN</td>\n",
       "      <td>-8.778458e-01</td>\n",
       "      <td>NaN</td>\n",
       "      <td>1.000000</td>\n",
       "      <td>0.129964</td>\n",
       "      <td>-0.467757</td>\n",
       "      <td>0.899922</td>\n",
       "      <td>0.357968</td>\n",
       "      <td>-0.147677</td>\n",
       "      <td>-0.723939</td>\n",
       "      <td>0.372189</td>\n",
       "    </tr>\n",
       "    <tr>\n",
       "      <th>DIS</th>\n",
       "      <td>-0.274853</td>\n",
       "      <td>NaN</td>\n",
       "      <td>-0.921771</td>\n",
       "      <td>0.696501</td>\n",
       "      <td>7.845958e-01</td>\n",
       "      <td>-3.701066e-01</td>\n",
       "      <td>0.129964</td>\n",
       "      <td>1.000000</td>\n",
       "      <td>0.167059</td>\n",
       "      <td>-0.276334</td>\n",
       "      <td>0.119481</td>\n",
       "      <td>0.862541</td>\n",
       "      <td>0.442459</td>\n",
       "      <td>-0.403053</td>\n",
       "    </tr>\n",
       "    <tr>\n",
       "      <th>RAD</th>\n",
       "      <td>-0.379837</td>\n",
       "      <td>0.274093</td>\n",
       "      <td>-0.531197</td>\n",
       "      <td>-0.980206</td>\n",
       "      <td>7.627287e-01</td>\n",
       "      <td>7.055700e-01</td>\n",
       "      <td>-0.467757</td>\n",
       "      <td>0.167059</td>\n",
       "      <td>1.000000</td>\n",
       "      <td>-0.229079</td>\n",
       "      <td>-0.117823</td>\n",
       "      <td>-0.747563</td>\n",
       "      <td>0.888602</td>\n",
       "      <td>0.563434</td>\n",
       "    </tr>\n",
       "    <tr>\n",
       "      <th>TAX</th>\n",
       "      <td>-0.048800</td>\n",
       "      <td>-0.938381</td>\n",
       "      <td>0.014306</td>\n",
       "      <td>-0.960379</td>\n",
       "      <td>-8.592147e-01</td>\n",
       "      <td>2.749182e-01</td>\n",
       "      <td>0.899922</td>\n",
       "      <td>-0.276334</td>\n",
       "      <td>-0.229079</td>\n",
       "      <td>1.000000</td>\n",
       "      <td>NaN</td>\n",
       "      <td>-0.307695</td>\n",
       "      <td>-0.175595</td>\n",
       "      <td>0.678576</td>\n",
       "    </tr>\n",
       "    <tr>\n",
       "      <th>PTRATIO</th>\n",
       "      <td>0.003525</td>\n",
       "      <td>-0.943803</td>\n",
       "      <td>-0.144207</td>\n",
       "      <td>-0.088198</td>\n",
       "      <td>-1.154835e-01</td>\n",
       "      <td>-2.529986e-01</td>\n",
       "      <td>0.357968</td>\n",
       "      <td>0.119481</td>\n",
       "      <td>-0.117823</td>\n",
       "      <td>NaN</td>\n",
       "      <td>1.000000</td>\n",
       "      <td>NaN</td>\n",
       "      <td>-0.526701</td>\n",
       "      <td>-0.738462</td>\n",
       "    </tr>\n",
       "    <tr>\n",
       "      <th>B</th>\n",
       "      <td>-0.327493</td>\n",
       "      <td>0.071117</td>\n",
       "      <td>-0.473204</td>\n",
       "      <td>0.489522</td>\n",
       "      <td>3.509007e-01</td>\n",
       "      <td>-3.847092e-01</td>\n",
       "      <td>-0.147677</td>\n",
       "      <td>0.862541</td>\n",
       "      <td>-0.747563</td>\n",
       "      <td>-0.307695</td>\n",
       "      <td>NaN</td>\n",
       "      <td>1.000000</td>\n",
       "      <td>NaN</td>\n",
       "      <td>-0.695980</td>\n",
       "    </tr>\n",
       "    <tr>\n",
       "      <th>LSTAT</th>\n",
       "      <td>-0.153360</td>\n",
       "      <td>0.100726</td>\n",
       "      <td>-0.255101</td>\n",
       "      <td>-0.560225</td>\n",
       "      <td>7.007735e-01</td>\n",
       "      <td>6.648189e-02</td>\n",
       "      <td>-0.723939</td>\n",
       "      <td>0.442459</td>\n",
       "      <td>0.888602</td>\n",
       "      <td>-0.175595</td>\n",
       "      <td>-0.526701</td>\n",
       "      <td>NaN</td>\n",
       "      <td>1.000000</td>\n",
       "      <td>NaN</td>\n",
       "    </tr>\n",
       "    <tr>\n",
       "      <th>MEDV</th>\n",
       "      <td>-0.070099</td>\n",
       "      <td>-0.455780</td>\n",
       "      <td>0.899735</td>\n",
       "      <td>-0.203003</td>\n",
       "      <td>-4.874496e-01</td>\n",
       "      <td>1.627523e-03</td>\n",
       "      <td>0.372189</td>\n",
       "      <td>-0.403053</td>\n",
       "      <td>0.563434</td>\n",
       "      <td>0.678576</td>\n",
       "      <td>-0.738462</td>\n",
       "      <td>-0.695980</td>\n",
       "      <td>NaN</td>\n",
       "      <td>1.000000</td>\n",
       "    </tr>\n",
       "  </tbody>\n",
       "</table>\n",
       "</div>"
      ],
      "text/plain": [
       "             CRIM        ZN     INDUS      CHAS           NOX            RM  \\\n",
       "CRIM     1.000000       NaN  0.995324 -0.027584 -9.982156e-01 -8.611610e-02   \n",
       "ZN            NaN  1.000000       NaN       NaN -1.563579e-01           NaN   \n",
       "INDUS    0.995324       NaN  1.000000       NaN -8.569407e-01  8.448521e-01   \n",
       "CHAS    -0.027584       NaN       NaN  1.000000           NaN -7.945650e-01   \n",
       "NOX     -0.998216 -0.156358 -0.856941       NaN  1.000000e+00 -9.396814e-16   \n",
       "RM      -0.086116       NaN  0.844852 -0.794565 -9.396814e-16  1.000000e+00   \n",
       "AGE      0.583314  0.249640  0.595274       NaN -8.778458e-01           NaN   \n",
       "DIS     -0.274853       NaN -0.921771  0.696501  7.845958e-01 -3.701066e-01   \n",
       "RAD     -0.379837  0.274093 -0.531197 -0.980206  7.627287e-01  7.055700e-01   \n",
       "TAX     -0.048800 -0.938381  0.014306 -0.960379 -8.592147e-01  2.749182e-01   \n",
       "PTRATIO  0.003525 -0.943803 -0.144207 -0.088198 -1.154835e-01 -2.529986e-01   \n",
       "B       -0.327493  0.071117 -0.473204  0.489522  3.509007e-01 -3.847092e-01   \n",
       "LSTAT   -0.153360  0.100726 -0.255101 -0.560225  7.007735e-01  6.648189e-02   \n",
       "MEDV    -0.070099 -0.455780  0.899735 -0.203003 -4.874496e-01  1.627523e-03   \n",
       "\n",
       "              AGE       DIS       RAD       TAX   PTRATIO         B     LSTAT  \\\n",
       "CRIM     0.583314 -0.274853 -0.379837 -0.048800  0.003525 -0.327493 -0.153360   \n",
       "ZN       0.249640       NaN  0.274093 -0.938381 -0.943803  0.071117  0.100726   \n",
       "INDUS    0.595274 -0.921771 -0.531197  0.014306 -0.144207 -0.473204 -0.255101   \n",
       "CHAS          NaN  0.696501 -0.980206 -0.960379 -0.088198  0.489522 -0.560225   \n",
       "NOX     -0.877846  0.784596  0.762729 -0.859215 -0.115484  0.350901  0.700774   \n",
       "RM            NaN -0.370107  0.705570  0.274918 -0.252999 -0.384709  0.066482   \n",
       "AGE      1.000000  0.129964 -0.467757  0.899922  0.357968 -0.147677 -0.723939   \n",
       "DIS      0.129964  1.000000  0.167059 -0.276334  0.119481  0.862541  0.442459   \n",
       "RAD     -0.467757  0.167059  1.000000 -0.229079 -0.117823 -0.747563  0.888602   \n",
       "TAX      0.899922 -0.276334 -0.229079  1.000000       NaN -0.307695 -0.175595   \n",
       "PTRATIO  0.357968  0.119481 -0.117823       NaN  1.000000       NaN -0.526701   \n",
       "B       -0.147677  0.862541 -0.747563 -0.307695       NaN  1.000000       NaN   \n",
       "LSTAT   -0.723939  0.442459  0.888602 -0.175595 -0.526701       NaN  1.000000   \n",
       "MEDV     0.372189 -0.403053  0.563434  0.678576 -0.738462 -0.695980       NaN   \n",
       "\n",
       "             MEDV  \n",
       "CRIM    -0.070099  \n",
       "ZN      -0.455780  \n",
       "INDUS    0.899735  \n",
       "CHAS    -0.203003  \n",
       "NOX     -0.487450  \n",
       "RM       0.001628  \n",
       "AGE      0.372189  \n",
       "DIS     -0.403053  \n",
       "RAD      0.563434  \n",
       "TAX      0.678576  \n",
       "PTRATIO -0.738462  \n",
       "B       -0.695980  \n",
       "LSTAT         NaN  \n",
       "MEDV     1.000000  "
      ]
     },
     "execution_count": 19,
     "metadata": {},
     "output_type": "execute_result"
    }
   ],
   "source": [
    "# A:\n",
    "house.corr()"
   ]
  },
  {
   "cell_type": "markdown",
   "metadata": {},
   "source": [
    "### 6. Look at distributional qualities of variables.\n",
    "\n",
    "Answer the following questions:\n",
    "1. Which variable has the most symmetric distribution? \n",
    "2. Which variable has the most left-skewed (negatively skewed) distribution? \n",
    "3. Which variable has the most right-skewed (positively skewed) distribution? \n",
    "\n",
    "Defend your method for determining this."
   ]
  },
  {
   "cell_type": "code",
   "execution_count": 20,
   "metadata": {
    "collapsed": false,
    "jupyter": {
     "outputs_hidden": false
    }
   },
   "outputs": [
    {
     "data": {
      "text/plain": [
       "array([[<matplotlib.axes._subplots.AxesSubplot object at 0x000001F144498A08>,\n",
       "        <matplotlib.axes._subplots.AxesSubplot object at 0x000001F1462062C8>,\n",
       "        <matplotlib.axes._subplots.AxesSubplot object at 0x000001F146239E48>,\n",
       "        <matplotlib.axes._subplots.AxesSubplot object at 0x000001F14626FBC8>],\n",
       "       [<matplotlib.axes._subplots.AxesSubplot object at 0x000001F1462A8348>,\n",
       "        <matplotlib.axes._subplots.AxesSubplot object at 0x000001F1462DD0C8>,\n",
       "        <matplotlib.axes._subplots.AxesSubplot object at 0x000001F14630CE08>,\n",
       "        <matplotlib.axes._subplots.AxesSubplot object at 0x000001F146342B88>],\n",
       "       [<matplotlib.axes._subplots.AxesSubplot object at 0x000001F14634A9C8>,\n",
       "        <matplotlib.axes._subplots.AxesSubplot object at 0x000001F146383E88>,\n",
       "        <matplotlib.axes._subplots.AxesSubplot object at 0x000001F1463EE348>,\n",
       "        <matplotlib.axes._subplots.AxesSubplot object at 0x000001F146427488>],\n",
       "       [<matplotlib.axes._subplots.AxesSubplot object at 0x000001F14645D588>,\n",
       "        <matplotlib.axes._subplots.AxesSubplot object at 0x000001F14649CE48>,\n",
       "        <matplotlib.axes._subplots.AxesSubplot object at 0x000001F1464CE7C8>,\n",
       "        <matplotlib.axes._subplots.AxesSubplot object at 0x000001F146506908>]],\n",
       "      dtype=object)"
      ]
     },
     "execution_count": 20,
     "metadata": {},
     "output_type": "execute_result"
    },
    {
     "data": {
      "image/png": "[encoded data removed]",
      "text/plain": [
       "<Figure size 432x288 with 16 Axes>"
      ]
     },
     "metadata": {
      "needs_background": "light"
     },
     "output_type": "display_data"
    }
   ],
   "source": [
    "# A:\n",
    "house.hist()"
   ]
  },
  {
   "cell_type": "markdown",
   "metadata": {},
   "source": [
    "### 8. Repeat question 6 but scale the variables by their range first.\n",
    "\n",
    "As you may have noticed, the spread of the distribution contributed significantly to the results in question 6."
   ]
  },
  {
   "cell_type": "code",
   "execution_count": 8,
   "metadata": {
    "collapsed": false,
    "jupyter": {
     "outputs_hidden": false
    }
   },
   "outputs": [],
   "source": [
    "# A:\n",
    "\n"
   ]
  },
  {
   "cell_type": "markdown",
   "metadata": {},
   "source": [
    "### 9. Univariate analysis of your choice\n",
    "\n",
    "Conduct a full univariate analysis on MEDV, CHAS, TAX, and RAD. \n",
    "\n",
    "For each variable, you should answer the three questions generally asked in a univariate analysis using the most appropriate metrics.\n",
    "- A measure of central tendency\n",
    "- A measure of spread\n",
    "- A description of the shape of the distribution (plot or metric based)\n",
    "\n",
    "If you feel there is additional information that is relevant, include it. "
   ]
  },
  {
   "cell_type": "code",
   "execution_count": 28,
   "metadata": {},
   "outputs": [
    {
     "data": {
      "text/plain": [
       "25.32"
      ]
     },
     "execution_count": 28,
     "metadata": {},
     "output_type": "execute_result"
    }
   ],
   "source": [
    "round(house.MEDV.mean(),2)"
   ]
  },
  {
   "cell_type": "code",
   "execution_count": 30,
   "metadata": {},
   "outputs": [
    {
     "ename": "AttributeError",
     "evalue": "'float' object has no attribute 'round'",
     "output_type": "error",
     "traceback": [
      "\u001b[1;31m---------------------------------------------------------------------------\u001b[0m",
      "\u001b[1;31mAttributeError\u001b[0m                            Traceback (most recent call last)",
      "\u001b[1;32m<ipython-input-30-ba656891048b>\u001b[0m in \u001b[0;36m<module>\u001b[1;34m\u001b[0m\n\u001b[1;32m----> 1\u001b[1;33m \u001b[0mnp\u001b[0m\u001b[1;33m.\u001b[0m\u001b[0mmean\u001b[0m\u001b[1;33m(\u001b[0m\u001b[0mhouse\u001b[0m\u001b[1;33m.\u001b[0m\u001b[0mMEDV\u001b[0m\u001b[1;33m)\u001b[0m\u001b[1;33m.\u001b[0m\u001b[0mround\u001b[0m\u001b[1;33m(\u001b[0m\u001b[1;36m2\u001b[0m\u001b[1;33m)\u001b[0m\u001b[1;33m\u001b[0m\u001b[1;33m\u001b[0m\u001b[0m\n\u001b[0m",
      "\u001b[1;31mAttributeError\u001b[0m: 'float' object has no attribute 'round'"
     ]
    }
   ],
   "source": [
    "np.mean(house.MEDV).round(2)"
   ]
  },
  {
   "cell_type": "code",
   "execution_count": 23,
   "metadata": {},
   "outputs": [
    {
     "ename": "TypeError",
     "evalue": "'Series' object is not callable",
     "output_type": "error",
     "traceback": [
      "\u001b[1;31m---------------------------------------------------------------------------\u001b[0m",
      "\u001b[1;31mTypeError\u001b[0m                                 Traceback (most recent call last)",
      "\u001b[1;32m<ipython-input-23-8a58b5c6c72b>\u001b[0m in \u001b[0;36m<module>\u001b[1;34m\u001b[0m\n\u001b[0;32m      1\u001b[0m \u001b[1;31m# A:\u001b[0m\u001b[1;33m\u001b[0m\u001b[1;33m\u001b[0m\u001b[1;33m\u001b[0m\u001b[0m\n\u001b[1;32m----> 2\u001b[1;33m \u001b[0mhouse\u001b[0m\u001b[1;33m.\u001b[0m\u001b[0mMEDV\u001b[0m\u001b[1;33m(\u001b[0m\u001b[1;33m[\u001b[0m\u001b[1;34m'mean'\u001b[0m\u001b[1;33m,\u001b[0m\u001b[1;34m'median'\u001b[0m\u001b[1;33m,\u001b[0m \u001b[1;34m'mode'\u001b[0m\u001b[1;33m]\u001b[0m\u001b[1;33m)\u001b[0m\u001b[1;33m\u001b[0m\u001b[1;33m\u001b[0m\u001b[0m\n\u001b[0m",
      "\u001b[1;31mTypeError\u001b[0m: 'Series' object is not callable"
     ]
    }
   ],
   "source": [
    "# A:\n",
    "house.MEDV(['mean','median', 'mode'])"
   ]
  },
  {
   "cell_type": "code",
   "execution_count": null,
   "metadata": {},
   "outputs": [],
   "source": [
    "house.CHAS.agg(['mean','median', 'mode'])\n",
    "house.TAX.agg(['mean','median', 'mode'])\n",
    "house.RADagg(['mean','median', 'mode'])"
   ]
  },
  {
   "cell_type": "markdown",
   "metadata": {},
   "source": [
    "### 10. Have you been using inferential statistics, descriptive statistics, or both?\n",
    "\n",
    "For each exercise, identify the branch of statistics on which you relied for your answer."
   ]
  },
  {
   "cell_type": "code",
   "execution_count": 10,
   "metadata": {
    "collapsed": true,
    "jupyter": {
     "outputs_hidden": true
    }
   },
   "outputs": [],
   "source": [
    "# A:"
   ]
  },
  {
   "cell_type": "markdown",
   "metadata": {},
   "source": [
    "### 11. Reducing the number of observations\n",
    "\n",
    "It seems likely that this data is a census - that is, the data set includes the entire target population. Suppose that the 506 observations was too much for our computer (as unlikely as this might be) and we needed to pare this down to fewer observations. \n",
    "\n",
    "**11.A Use the `random.sample()` function to select 50 observations from `'AGE'`.**\n",
    "\n",
    "([This documentation](https://docs.python.org/2/library/random.html) may be helpful.)"
   ]
  },
  {
   "cell_type": "code",
   "execution_count": 11,
   "metadata": {
    "collapsed": false,
    "jupyter": {
     "outputs_hidden": false
    }
   },
   "outputs": [],
   "source": [
    "# A:"
   ]
  },
  {
   "cell_type": "markdown",
   "metadata": {},
   "source": [
    "**11.B Identify the type of sampling we just used.**"
   ]
  },
  {
   "cell_type": "code",
   "execution_count": 12,
   "metadata": {
    "collapsed": true,
    "jupyter": {
     "outputs_hidden": true
    }
   },
   "outputs": [],
   "source": [
    "# A:"
   ]
  },
  {
   "cell_type": "markdown",
   "metadata": {},
   "source": [
    "### 12. [BONUS] Of the remaining types of sampling, describe (but do not execute) how you might implement at least one of these types of sampling.\n"
   ]
  },
  {
   "cell_type": "code",
   "execution_count": 13,
   "metadata": {
    "collapsed": true,
    "jupyter": {
     "outputs_hidden": true
    }
   },
   "outputs": [],
   "source": [
    "# A:"
   ]
  }
 ],
 "metadata": {
  "kernelspec": {
   "display_name": "Python 3",
   "language": "python",
   "name": "python3"
  },
  "language_info": {
   "codemirror_mode": {
    "name": "ipython",
    "version": 3
   },
   "file_extension": ".py",
   "mimetype": "text/x-python",
   "name": "python",
   "nbconvert_exporter": "python",
   "pygments_lexer": "ipython3",
   "version": "3.7.6"
  }
 },
 "nbformat": 4,
 "nbformat_minor": 4
}
