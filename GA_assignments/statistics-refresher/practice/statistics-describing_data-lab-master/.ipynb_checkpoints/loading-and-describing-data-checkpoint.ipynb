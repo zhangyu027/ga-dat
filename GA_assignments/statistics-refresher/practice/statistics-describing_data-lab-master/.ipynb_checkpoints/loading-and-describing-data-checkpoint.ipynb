{
 "cells": [
  {
   "cell_type": "markdown",
   "metadata": {},
   "source": [
    "<img src=\"http://imgur.com/1ZcRyrc.png\" style=\"float: left; margin: 20px; height: 55px\">\n",
    "\n",
    "## Practice Loading and Describing Data \n",
    "\n",
    "_Author: Naumaan Nayyar_\n",
    "\n",
    "---\n",
    "\n",
    "In this lab you will practice loading data using python and describing it with statistics.\n",
    "\n",
    "It might be a good idea to first check the [source of the Boston housing data](https://archive.ics.uci.edu/ml/datasets/Housing)."
   ]
  },
  {
   "cell_type": "markdown",
   "metadata": {},
   "source": [
    "### 1. Load the boston housing data (provided)"
   ]
  },
  {
   "cell_type": "code",
<<<<<<< HEAD
=======
<<<<<<< HEAD
   "execution_count": 2,
=======
   "execution_count": 5,
>>>>>>> master
   "metadata": {},
   "outputs": [],
   "source": [
    "import urllib.request"
   ]
  },
  {
   "cell_type": "code",
<<<<<<< HEAD
   "execution_count": 18,
=======
>>>>>>> master
   "execution_count": 6,
>>>>>>> master
   "metadata": {},
   "outputs": [],
   "source": [
    "import numpy as np\n",
    "import pandas as pd\n",
<<<<<<< HEAD
    "import seaborn as sns\n",
    "import scipy.stats as stats\n",
    "import matplotlib.pyplot as plt\n",
=======
<<<<<<< HEAD
    "import matplotlib.pyplot as plt\n",
=======
>>>>>>> master
>>>>>>> master
    "\n",
    "%matplotlib inline"
   ]
  },
  {
   "cell_type": "code",
<<<<<<< HEAD
   "execution_count": 13,
=======
<<<<<<< HEAD
   "execution_count": 4,
=======
   "execution_count": 85,
>>>>>>> master
>>>>>>> master
   "metadata": {
    "collapsed": false,
    "jupyter": {
     "outputs_hidden": false
    }
   },
   "outputs": [
    {
     "data": {
      "text/plain": [
       "('./datasets/housing.data', <http.client.HTTPMessage at 0x1f145a4e488>)"
      ]
     },
     "execution_count": 13,
     "metadata": {},
     "output_type": "execute_result"
    }
   ],
   "source": [
    "# Download the data and save to a file called \"housing.data.\"\n",
    "\n",
    "import urllib\n",
    "data_url = \"https://archive.ics.uci.edu/ml/machine-learning-databases/housing/housing.data\"\n",
    "\n",
    "# this saves a file called 'housing.data' locally'\n",
<<<<<<< HEAD
    "urllib.request.urlretrieve(data_url, './datasets/housing.data')"
=======
<<<<<<< HEAD
    "urllib.request.urlretrieve(data_url, './datasets/housing.data')\n",
    "\n",
    "housing = open(\"./datasets/housing.data\")"
=======
    "urllib.request.urlretrieve(data_url, './datasets/housing.txt')\n",
    "\n",
    "housing = \"./datasets/housing.txt\""
   ]
  },
  {
   "cell_type": "code",
   "execution_count": 86,
   "metadata": {},
   "outputs": [],
   "source": [
    "housing = \"./datasets/housing.txt\""
>>>>>>> master
>>>>>>> master
   ]
  },
  {
   "cell_type": "markdown",
   "metadata": {},
   "source": [
    "The data file does not contain the column names in the first line, so we'll need to add those in manually. You can find the names and explanations [here](https://archive.ics.uci.edu/ml/machine-learning-databases/housing/housing.names). We've extracted the names below for your convenience. You may choose to edit the names, should you decide it would be more helpful to do so."
   ]
  },
  {
   "cell_type": "code",
<<<<<<< HEAD
   "execution_count": 8,
=======
<<<<<<< HEAD
   "execution_count": 5,
=======
   "execution_count": 83,
>>>>>>> master
>>>>>>> master
   "metadata": {},
   "outputs": [],
   "source": [
    "names = [\"CRIM\", \"ZN\", \"INDUS\", \"CHAS\", \"NOX\", \"RM\", \"AGE\",\n",
    "         \"DIS\", \"RAD\", \"TAX\", \"PTRATIO\", \"B\", \"LSTAT\", \"MEDV\"]"
   ]
  },
  {
   "cell_type": "code",
<<<<<<< HEAD
   "execution_count": 18,
=======
<<<<<<< HEAD
   "execution_count": 6,
   "metadata": {},
   "outputs": [],
   "source": [
    "df = pd.read_csv(\n",
    "    housing,\n",
    "    sep=' ',\n",
    "    header=None,\n",
    "    names=cols)"
=======
   "execution_count": 84,
   "metadata": {},
   "outputs": [
    {
     "ename": "ValueError",
     "evalue": "Passed header names mismatches usecols",
     "output_type": "error",
     "traceback": [
      "\u001b[1;31m---------------------------------------------------------------------------\u001b[0m",
      "\u001b[1;31mValueError\u001b[0m                                Traceback (most recent call last)",
      "\u001b[1;32m<ipython-input-84-82e11f2a6833>\u001b[0m in \u001b[0;36m<module>\u001b[1;34m\u001b[0m\n\u001b[0;32m      4\u001b[0m     \u001b[0mheader\u001b[0m\u001b[1;33m=\u001b[0m\u001b[1;32mNone\u001b[0m\u001b[1;33m,\u001b[0m\u001b[1;33m\u001b[0m\u001b[1;33m\u001b[0m\u001b[0m\n\u001b[0;32m      5\u001b[0m     \u001b[0mnames\u001b[0m\u001b[1;33m=\u001b[0m\u001b[0mcols\u001b[0m\u001b[1;33m,\u001b[0m\u001b[1;33m\u001b[0m\u001b[1;33m\u001b[0m\u001b[0m\n\u001b[1;32m----> 6\u001b[1;33m     usecols=[0, 1])\n\u001b[0m",
      "\u001b[1;32m~\\anaconda3\\lib\\site-packages\\pandas\\io\\parsers.py\u001b[0m in \u001b[0;36mparser_f\u001b[1;34m(filepath_or_buffer, sep, delimiter, header, names, index_col, usecols, squeeze, prefix, mangle_dupe_cols, dtype, engine, converters, true_values, false_values, skipinitialspace, skiprows, skipfooter, nrows, na_values, keep_default_na, na_filter, verbose, skip_blank_lines, parse_dates, infer_datetime_format, keep_date_col, date_parser, dayfirst, cache_dates, iterator, chunksize, compression, thousands, decimal, lineterminator, quotechar, quoting, doublequote, escapechar, comment, encoding, dialect, error_bad_lines, warn_bad_lines, delim_whitespace, low_memory, memory_map, float_precision)\u001b[0m\n\u001b[0;32m    674\u001b[0m         )\n\u001b[0;32m    675\u001b[0m \u001b[1;33m\u001b[0m\u001b[0m\n\u001b[1;32m--> 676\u001b[1;33m         \u001b[1;32mreturn\u001b[0m \u001b[0m_read\u001b[0m\u001b[1;33m(\u001b[0m\u001b[0mfilepath_or_buffer\u001b[0m\u001b[1;33m,\u001b[0m \u001b[0mkwds\u001b[0m\u001b[1;33m)\u001b[0m\u001b[1;33m\u001b[0m\u001b[1;33m\u001b[0m\u001b[0m\n\u001b[0m\u001b[0;32m    677\u001b[0m \u001b[1;33m\u001b[0m\u001b[0m\n\u001b[0;32m    678\u001b[0m     \u001b[0mparser_f\u001b[0m\u001b[1;33m.\u001b[0m\u001b[0m__name__\u001b[0m \u001b[1;33m=\u001b[0m \u001b[0mname\u001b[0m\u001b[1;33m\u001b[0m\u001b[1;33m\u001b[0m\u001b[0m\n",
      "\u001b[1;32m~\\anaconda3\\lib\\site-packages\\pandas\\io\\parsers.py\u001b[0m in \u001b[0;36m_read\u001b[1;34m(filepath_or_buffer, kwds)\u001b[0m\n\u001b[0;32m    446\u001b[0m \u001b[1;33m\u001b[0m\u001b[0m\n\u001b[0;32m    447\u001b[0m     \u001b[1;31m# Create the parser.\u001b[0m\u001b[1;33m\u001b[0m\u001b[1;33m\u001b[0m\u001b[1;33m\u001b[0m\u001b[0m\n\u001b[1;32m--> 448\u001b[1;33m     \u001b[0mparser\u001b[0m \u001b[1;33m=\u001b[0m \u001b[0mTextFileReader\u001b[0m\u001b[1;33m(\u001b[0m\u001b[0mfp_or_buf\u001b[0m\u001b[1;33m,\u001b[0m \u001b[1;33m**\u001b[0m\u001b[0mkwds\u001b[0m\u001b[1;33m)\u001b[0m\u001b[1;33m\u001b[0m\u001b[1;33m\u001b[0m\u001b[0m\n\u001b[0m\u001b[0;32m    449\u001b[0m \u001b[1;33m\u001b[0m\u001b[0m\n\u001b[0;32m    450\u001b[0m     \u001b[1;32mif\u001b[0m \u001b[0mchunksize\u001b[0m \u001b[1;32mor\u001b[0m \u001b[0miterator\u001b[0m\u001b[1;33m:\u001b[0m\u001b[1;33m\u001b[0m\u001b[1;33m\u001b[0m\u001b[0m\n",
      "\u001b[1;32m~\\anaconda3\\lib\\site-packages\\pandas\\io\\parsers.py\u001b[0m in \u001b[0;36m__init__\u001b[1;34m(self, f, engine, **kwds)\u001b[0m\n\u001b[0;32m    878\u001b[0m             \u001b[0mself\u001b[0m\u001b[1;33m.\u001b[0m\u001b[0moptions\u001b[0m\u001b[1;33m[\u001b[0m\u001b[1;34m\"has_index_names\"\u001b[0m\u001b[1;33m]\u001b[0m \u001b[1;33m=\u001b[0m \u001b[0mkwds\u001b[0m\u001b[1;33m[\u001b[0m\u001b[1;34m\"has_index_names\"\u001b[0m\u001b[1;33m]\u001b[0m\u001b[1;33m\u001b[0m\u001b[1;33m\u001b[0m\u001b[0m\n\u001b[0;32m    879\u001b[0m \u001b[1;33m\u001b[0m\u001b[0m\n\u001b[1;32m--> 880\u001b[1;33m         \u001b[0mself\u001b[0m\u001b[1;33m.\u001b[0m\u001b[0m_make_engine\u001b[0m\u001b[1;33m(\u001b[0m\u001b[0mself\u001b[0m\u001b[1;33m.\u001b[0m\u001b[0mengine\u001b[0m\u001b[1;33m)\u001b[0m\u001b[1;33m\u001b[0m\u001b[1;33m\u001b[0m\u001b[0m\n\u001b[0m\u001b[0;32m    881\u001b[0m \u001b[1;33m\u001b[0m\u001b[0m\n\u001b[0;32m    882\u001b[0m     \u001b[1;32mdef\u001b[0m \u001b[0mclose\u001b[0m\u001b[1;33m(\u001b[0m\u001b[0mself\u001b[0m\u001b[1;33m)\u001b[0m\u001b[1;33m:\u001b[0m\u001b[1;33m\u001b[0m\u001b[1;33m\u001b[0m\u001b[0m\n",
      "\u001b[1;32m~\\anaconda3\\lib\\site-packages\\pandas\\io\\parsers.py\u001b[0m in \u001b[0;36m_make_engine\u001b[1;34m(self, engine)\u001b[0m\n\u001b[0;32m   1112\u001b[0m     \u001b[1;32mdef\u001b[0m \u001b[0m_make_engine\u001b[0m\u001b[1;33m(\u001b[0m\u001b[0mself\u001b[0m\u001b[1;33m,\u001b[0m \u001b[0mengine\u001b[0m\u001b[1;33m=\u001b[0m\u001b[1;34m\"c\"\u001b[0m\u001b[1;33m)\u001b[0m\u001b[1;33m:\u001b[0m\u001b[1;33m\u001b[0m\u001b[1;33m\u001b[0m\u001b[0m\n\u001b[0;32m   1113\u001b[0m         \u001b[1;32mif\u001b[0m \u001b[0mengine\u001b[0m \u001b[1;33m==\u001b[0m \u001b[1;34m\"c\"\u001b[0m\u001b[1;33m:\u001b[0m\u001b[1;33m\u001b[0m\u001b[1;33m\u001b[0m\u001b[0m\n\u001b[1;32m-> 1114\u001b[1;33m             \u001b[0mself\u001b[0m\u001b[1;33m.\u001b[0m\u001b[0m_engine\u001b[0m \u001b[1;33m=\u001b[0m \u001b[0mCParserWrapper\u001b[0m\u001b[1;33m(\u001b[0m\u001b[0mself\u001b[0m\u001b[1;33m.\u001b[0m\u001b[0mf\u001b[0m\u001b[1;33m,\u001b[0m \u001b[1;33m**\u001b[0m\u001b[0mself\u001b[0m\u001b[1;33m.\u001b[0m\u001b[0moptions\u001b[0m\u001b[1;33m)\u001b[0m\u001b[1;33m\u001b[0m\u001b[1;33m\u001b[0m\u001b[0m\n\u001b[0m\u001b[0;32m   1115\u001b[0m         \u001b[1;32melse\u001b[0m\u001b[1;33m:\u001b[0m\u001b[1;33m\u001b[0m\u001b[1;33m\u001b[0m\u001b[0m\n\u001b[0;32m   1116\u001b[0m             \u001b[1;32mif\u001b[0m \u001b[0mengine\u001b[0m \u001b[1;33m==\u001b[0m \u001b[1;34m\"python\"\u001b[0m\u001b[1;33m:\u001b[0m\u001b[1;33m\u001b[0m\u001b[1;33m\u001b[0m\u001b[0m\n",
      "\u001b[1;32m~\\anaconda3\\lib\\site-packages\\pandas\\io\\parsers.py\u001b[0m in \u001b[0;36m__init__\u001b[1;34m(self, src, **kwds)\u001b[0m\n\u001b[0;32m   1889\u001b[0m         \u001b[0mkwds\u001b[0m\u001b[1;33m[\u001b[0m\u001b[1;34m\"usecols\"\u001b[0m\u001b[1;33m]\u001b[0m \u001b[1;33m=\u001b[0m \u001b[0mself\u001b[0m\u001b[1;33m.\u001b[0m\u001b[0musecols\u001b[0m\u001b[1;33m\u001b[0m\u001b[1;33m\u001b[0m\u001b[0m\n\u001b[0;32m   1890\u001b[0m \u001b[1;33m\u001b[0m\u001b[0m\n\u001b[1;32m-> 1891\u001b[1;33m         \u001b[0mself\u001b[0m\u001b[1;33m.\u001b[0m\u001b[0m_reader\u001b[0m \u001b[1;33m=\u001b[0m \u001b[0mparsers\u001b[0m\u001b[1;33m.\u001b[0m\u001b[0mTextReader\u001b[0m\u001b[1;33m(\u001b[0m\u001b[0msrc\u001b[0m\u001b[1;33m,\u001b[0m \u001b[1;33m**\u001b[0m\u001b[0mkwds\u001b[0m\u001b[1;33m)\u001b[0m\u001b[1;33m\u001b[0m\u001b[1;33m\u001b[0m\u001b[0m\n\u001b[0m\u001b[0;32m   1892\u001b[0m         \u001b[0mself\u001b[0m\u001b[1;33m.\u001b[0m\u001b[0munnamed_cols\u001b[0m \u001b[1;33m=\u001b[0m \u001b[0mself\u001b[0m\u001b[1;33m.\u001b[0m\u001b[0m_reader\u001b[0m\u001b[1;33m.\u001b[0m\u001b[0munnamed_cols\u001b[0m\u001b[1;33m\u001b[0m\u001b[1;33m\u001b[0m\u001b[0m\n\u001b[0;32m   1893\u001b[0m \u001b[1;33m\u001b[0m\u001b[0m\n",
      "\u001b[1;32mpandas\\_libs\\parsers.pyx\u001b[0m in \u001b[0;36mpandas._libs.parsers.TextReader.__cinit__\u001b[1;34m()\u001b[0m\n",
      "\u001b[1;32mpandas\\_libs\\parsers.pyx\u001b[0m in \u001b[0;36mpandas._libs.parsers.TextReader._get_header\u001b[1;34m()\u001b[0m\n",
      "\u001b[1;31mValueError\u001b[0m: Passed header names mismatches usecols"
     ]
    }
   ],
   "source": [
    "df = pd.read_table(\n",
    "    housing,\n",
    "    sep=' ',\n",
    "    header=None,\n",
    "    names=cols,\n",
    "    usecols=[0, 1])"
>>>>>>> master
   ]
  },
  {
   "cell_type": "markdown",
   "metadata": {},
   "source": [
    "### 2. Load the `housing.data` file with python\n",
    "\n",
    "Using any method of your choice.\n",
    "\n",
    "> _**Hint:** despite this file having a strange `.data` extension, using python's `open() as file` and `file.read()` or `file.readlines()` we can load this in and see that it is a text file formatted much the same as a CSV. You can use string operations to format the data._"
   ]
  },
  {
   "cell_type": "code",
<<<<<<< HEAD
   "execution_count": 7,
=======
   "execution_count": 76,
   "metadata": {
    "collapsed": false,
    "jupyter": {
     "outputs_hidden": false
    }
   },
   "outputs": [],
   "source": [
    "# A:\n",
    "cols = [\"CRIM\", \"ZN\", \"INDUS\", \"CHAS\", \"NOX\", \"RM\", \"AGE\",\"DIS\", \"RAD\", \"TAX\", \"PTRATIO\", \"B\", \"LSTAT\", \"MEDV\"]\n",
    "housing = \"./datasets/housing.data\"\n",
    "\n",
    "df = pd.read_csv(housing, names = cols, header=None, sep='\\t')"
   ]
  },
  {
   "cell_type": "code",
   "execution_count": 77,
>>>>>>> master
>>>>>>> master
   "metadata": {},
   "outputs": [
    {
     "data": {
      "text/html": [
       "<div>\n",
       "<style scoped>\n",
       "    .dataframe tbody tr th:only-of-type {\n",
       "        vertical-align: middle;\n",
       "    }\n",
       "\n",
       "    .dataframe tbody tr th {\n",
       "        vertical-align: top;\n",
       "    }\n",
       "\n",
       "    .dataframe thead th {\n",
       "        text-align: right;\n",
       "    }\n",
       "</style>\n",
       "<table border=\"1\" class=\"dataframe\">\n",
       "  <thead>\n",
       "    <tr style=\"text-align: right;\">\n",
       "      <th></th>\n",
<<<<<<< HEAD
=======
<<<<<<< HEAD
>>>>>>> master
       "      <th></th>\n",
       "      <th></th>\n",
       "      <th></th>\n",
       "      <th></th>\n",
       "      <th></th>\n",
       "      <th></th>\n",
       "      <th></th>\n",
       "      <th></th>\n",
       "      <th></th>\n",
       "      <th></th>\n",
       "      <th></th>\n",
       "      <th></th>\n",
       "      <th></th>\n",
       "      <th></th>\n",
       "      <th></th>\n",
<<<<<<< HEAD
=======
=======
>>>>>>> master
>>>>>>> master
       "      <th>CRIM</th>\n",
       "      <th>ZN</th>\n",
       "      <th>INDUS</th>\n",
       "      <th>CHAS</th>\n",
       "      <th>NOX</th>\n",
       "      <th>RM</th>\n",
       "      <th>AGE</th>\n",
       "      <th>DIS</th>\n",
       "      <th>RAD</th>\n",
       "      <th>TAX</th>\n",
       "      <th>PTRATIO</th>\n",
       "      <th>B</th>\n",
       "      <th>LSTAT</th>\n",
       "      <th>MEDV</th>\n",
       "    </tr>\n",
       "  </thead>\n",
       "  <tbody>\n",
       "    <tr>\n",
<<<<<<< HEAD
=======
<<<<<<< HEAD
>>>>>>> master
       "      <th rowspan=\"5\" valign=\"top\">NaN</th>\n",
       "      <th>0.00632</th>\n",
       "      <th>NaN</th>\n",
       "      <th>18.0</th>\n",
       "      <th>NaN</th>\n",
       "      <th>NaN</th>\n",
       "      <th>2.31</th>\n",
       "      <th>NaN</th>\n",
       "      <th>0.0</th>\n",
       "      <th>NaN</th>\n",
       "      <th>0.538</th>\n",
       "      <th>NaN</th>\n",
       "      <th>6.575</th>\n",
       "      <th>NaN</th>\n",
       "      <th>65.2</th>\n",
       "      <th>NaN</th>\n",
       "      <td>4.09</td>\n",
<<<<<<< HEAD
=======
       "      <td>NaN</td>\n",
       "      <td>NaN</td>\n",
       "      <td>1.0</td>\n",
       "      <td>NaN</td>\n",
       "      <td>296.0</td>\n",
       "      <td>NaN</td>\n",
       "      <td>15.3</td>\n",
       "      <td>396.9</td>\n",
       "      <td>NaN</td>\n",
       "      <td>NaN</td>\n",
       "      <td>4.98</td>\n",
       "      <td>NaN</td>\n",
       "      <td>24.0</td>\n",
       "    </tr>\n",
       "    <tr>\n",
       "      <th>0.02731</th>\n",
       "      <th>NaN</th>\n",
       "      <th>NaN</th>\n",
       "      <th>0.0</th>\n",
       "      <th>NaN</th>\n",
       "      <th>NaN</th>\n",
       "      <th>7.07</th>\n",
       "      <th>NaN</th>\n",
       "      <th>0.0</th>\n",
       "      <th>NaN</th>\n",
       "      <th>0.469</th>\n",
       "      <th>NaN</th>\n",
       "      <th>6.421</th>\n",
       "      <th>NaN</th>\n",
       "      <th>78.9</th>\n",
       "      <td>NaN</td>\n",
       "      <td>4.9671</td>\n",
       "      <td>NaN</td>\n",
       "      <td>NaN</td>\n",
       "      <td>2.0</td>\n",
       "      <td>NaN</td>\n",
       "      <td>242.0</td>\n",
       "      <td>NaN</td>\n",
       "      <td>17.8</td>\n",
       "      <td>396.90</td>\n",
       "      <td>NaN</td>\n",
       "      <td>NaN</td>\n",
       "      <td>9.14</td>\n",
       "      <td>NaN</td>\n",
       "    </tr>\n",
       "    <tr>\n",
       "      <th>0.02729</th>\n",
       "      <th>NaN</th>\n",
       "      <th>NaN</th>\n",
       "      <th>0.0</th>\n",
       "      <th>NaN</th>\n",
       "      <th>NaN</th>\n",
       "      <th>7.07</th>\n",
       "      <th>NaN</th>\n",
       "      <th>0.0</th>\n",
       "      <th>NaN</th>\n",
       "      <th>0.469</th>\n",
       "      <th>NaN</th>\n",
       "      <th>7.185</th>\n",
       "      <th>NaN</th>\n",
       "      <th>61.1</th>\n",
       "      <td>NaN</td>\n",
       "      <td>4.9671</td>\n",
       "      <td>NaN</td>\n",
       "      <td>NaN</td>\n",
       "      <td>2.0</td>\n",
       "      <td>NaN</td>\n",
       "      <td>242.0</td>\n",
       "      <td>NaN</td>\n",
       "      <td>17.8</td>\n",
       "      <td>392.83</td>\n",
       "      <td>NaN</td>\n",
       "      <td>NaN</td>\n",
       "      <td>4.03</td>\n",
       "      <td>NaN</td>\n",
       "    </tr>\n",
       "    <tr>\n",
       "      <th>0.03237</th>\n",
       "      <th>NaN</th>\n",
       "      <th>NaN</th>\n",
       "      <th>0.0</th>\n",
       "      <th>NaN</th>\n",
       "      <th>NaN</th>\n",
       "      <th>2.18</th>\n",
       "      <th>NaN</th>\n",
       "      <th>0.0</th>\n",
       "      <th>NaN</th>\n",
       "      <th>0.458</th>\n",
       "      <th>NaN</th>\n",
       "      <th>6.998</th>\n",
       "      <th>NaN</th>\n",
       "      <th>45.8</th>\n",
       "      <td>NaN</td>\n",
       "      <td>6.0622</td>\n",
       "      <td>NaN</td>\n",
       "      <td>NaN</td>\n",
       "      <td>3.0</td>\n",
       "      <td>NaN</td>\n",
       "      <td>222.0</td>\n",
       "      <td>NaN</td>\n",
       "      <td>18.7</td>\n",
       "      <td>394.63</td>\n",
       "      <td>NaN</td>\n",
       "      <td>NaN</td>\n",
       "      <td>2.94</td>\n",
       "      <td>NaN</td>\n",
       "    </tr>\n",
       "    <tr>\n",
       "      <th>0.06905</th>\n",
       "      <th>NaN</th>\n",
       "      <th>NaN</th>\n",
       "      <th>0.0</th>\n",
       "      <th>NaN</th>\n",
       "      <th>NaN</th>\n",
       "      <th>2.18</th>\n",
       "      <th>NaN</th>\n",
       "      <th>0.0</th>\n",
       "      <th>NaN</th>\n",
       "      <th>0.458</th>\n",
       "      <th>NaN</th>\n",
       "      <th>7.147</th>\n",
       "      <th>NaN</th>\n",
       "      <th>54.2</th>\n",
       "      <td>NaN</td>\n",
       "      <td>6.0622</td>\n",
       "      <td>NaN</td>\n",
       "      <td>NaN</td>\n",
       "      <td>3.0</td>\n",
       "      <td>NaN</td>\n",
       "      <td>222.0</td>\n",
       "      <td>NaN</td>\n",
       "      <td>18.7</td>\n",
       "      <td>396.90</td>\n",
       "      <td>NaN</td>\n",
       "      <td>NaN</td>\n",
       "      <td>5.33</td>\n",
=======
       "      <th>0</th>\n",
       "      <td>0.00632  18.00   2.310  0  0.5380  6.5750  65...</td>\n",
       "      <td>NaN</td>\n",
       "      <td>NaN</td>\n",
       "      <td>NaN</td>\n",
       "      <td>NaN</td>\n",
       "      <td>NaN</td>\n",
       "      <td>NaN</td>\n",
>>>>>>> master
       "      <td>NaN</td>\n",
       "      <td>NaN</td>\n",
       "      <td>1.0</td>\n",
       "      <td>NaN</td>\n",
       "      <td>296.0</td>\n",
       "      <td>NaN</td>\n",
       "      <td>15.3</td>\n",
       "      <td>396.9</td>\n",
       "      <td>NaN</td>\n",
       "      <td>NaN</td>\n",
       "      <td>4.98</td>\n",
       "      <td>NaN</td>\n",
       "      <td>24.0</td>\n",
       "    </tr>\n",
       "    <tr>\n",
       "      <th>0.02731</th>\n",
       "      <th>NaN</th>\n",
       "      <th>NaN</th>\n",
       "      <th>0.0</th>\n",
       "      <th>NaN</th>\n",
       "      <th>NaN</th>\n",
       "      <th>7.07</th>\n",
       "      <th>NaN</th>\n",
       "      <th>0.0</th>\n",
       "      <th>NaN</th>\n",
       "      <th>0.469</th>\n",
       "      <th>NaN</th>\n",
       "      <th>6.421</th>\n",
       "      <th>NaN</th>\n",
       "      <th>78.9</th>\n",
       "      <td>NaN</td>\n",
       "      <td>4.9671</td>\n",
       "      <td>NaN</td>\n",
       "      <td>NaN</td>\n",
       "      <td>2.0</td>\n",
       "      <td>NaN</td>\n",
       "      <td>242.0</td>\n",
       "      <td>NaN</td>\n",
       "      <td>17.8</td>\n",
       "      <td>396.90</td>\n",
       "      <td>NaN</td>\n",
       "      <td>NaN</td>\n",
       "      <td>9.14</td>\n",
       "      <td>NaN</td>\n",
       "    </tr>\n",
       "    <tr>\n",
       "      <th>0.02729</th>\n",
       "      <th>NaN</th>\n",
       "      <th>NaN</th>\n",
       "      <th>0.0</th>\n",
       "      <th>NaN</th>\n",
       "      <th>NaN</th>\n",
       "      <th>7.07</th>\n",
       "      <th>NaN</th>\n",
       "      <th>0.0</th>\n",
       "      <th>NaN</th>\n",
       "      <th>0.469</th>\n",
       "      <th>NaN</th>\n",
       "      <th>7.185</th>\n",
       "      <th>NaN</th>\n",
       "      <th>61.1</th>\n",
       "      <td>NaN</td>\n",
       "      <td>4.9671</td>\n",
       "      <td>NaN</td>\n",
       "      <td>NaN</td>\n",
       "      <td>2.0</td>\n",
       "      <td>NaN</td>\n",
       "      <td>242.0</td>\n",
       "      <td>NaN</td>\n",
       "      <td>17.8</td>\n",
       "      <td>392.83</td>\n",
       "      <td>NaN</td>\n",
       "      <td>NaN</td>\n",
       "      <td>4.03</td>\n",
       "      <td>NaN</td>\n",
       "    </tr>\n",
       "    <tr>\n",
       "      <th>0.03237</th>\n",
       "      <th>NaN</th>\n",
       "      <th>NaN</th>\n",
       "      <th>0.0</th>\n",
       "      <th>NaN</th>\n",
       "      <th>NaN</th>\n",
       "      <th>2.18</th>\n",
       "      <th>NaN</th>\n",
       "      <th>0.0</th>\n",
       "      <th>NaN</th>\n",
       "      <th>0.458</th>\n",
       "      <th>NaN</th>\n",
       "      <th>6.998</th>\n",
       "      <th>NaN</th>\n",
       "      <th>45.8</th>\n",
       "      <td>NaN</td>\n",
       "      <td>6.0622</td>\n",
       "      <td>NaN</td>\n",
       "      <td>NaN</td>\n",
       "      <td>3.0</td>\n",
       "      <td>NaN</td>\n",
       "      <td>222.0</td>\n",
       "      <td>NaN</td>\n",
       "      <td>18.7</td>\n",
       "      <td>394.63</td>\n",
       "      <td>NaN</td>\n",
       "      <td>NaN</td>\n",
       "      <td>2.94</td>\n",
       "      <td>NaN</td>\n",
       "    </tr>\n",
       "    <tr>\n",
       "      <th>0.06905</th>\n",
       "      <th>NaN</th>\n",
       "      <th>NaN</th>\n",
       "      <th>0.0</th>\n",
       "      <th>NaN</th>\n",
       "      <th>NaN</th>\n",
       "      <th>2.18</th>\n",
       "      <th>NaN</th>\n",
       "      <th>0.0</th>\n",
       "      <th>NaN</th>\n",
       "      <th>0.458</th>\n",
       "      <th>NaN</th>\n",
       "      <th>7.147</th>\n",
       "      <th>NaN</th>\n",
       "      <th>54.2</th>\n",
       "      <td>NaN</td>\n",
       "      <td>6.0622</td>\n",
       "      <td>NaN</td>\n",
       "      <td>NaN</td>\n",
       "      <td>3.0</td>\n",
       "      <td>NaN</td>\n",
       "      <td>222.0</td>\n",
       "      <td>NaN</td>\n",
       "      <td>18.7</td>\n",
       "      <td>396.90</td>\n",
       "      <td>NaN</td>\n",
       "      <td>NaN</td>\n",
<<<<<<< HEAD
       "      <td>5.33</td>\n",
=======
>>>>>>> master
>>>>>>> master
       "      <td>NaN</td>\n",
       "    </tr>\n",
       "  </tbody>\n",
       "</table>\n",
       "</div>"
      ],
      "text/plain": [
<<<<<<< HEAD
=======
<<<<<<< HEAD
>>>>>>> master
       "                                                                                        CRIM  \\\n",
       "NaN 0.00632 NaN 18.0 NaN NaN 2.31  NaN  0.0 NaN 0.538 NaN   6.575   NaN     65.2  NaN   4.09   \n",
       "    0.02731 NaN NaN  0.0 NaN NaN   7.07 NaN 0.0 NaN   0.469 NaN     6.421   NaN   78.9   NaN   \n",
       "    0.02729 NaN NaN  0.0 NaN NaN   7.07 NaN 0.0 NaN   0.469 NaN     7.185   NaN   61.1   NaN   \n",
       "    0.03237 NaN NaN  0.0 NaN NaN   2.18 NaN 0.0 NaN   0.458 NaN     6.998   NaN   45.8   NaN   \n",
       "    0.06905 NaN NaN  0.0 NaN NaN   2.18 NaN 0.0 NaN   0.458 NaN     7.147   NaN   54.2   NaN   \n",
       "\n",
       "                                                                                            ZN  \\\n",
       "NaN 0.00632 NaN 18.0 NaN NaN 2.31  NaN  0.0 NaN 0.538 NaN   6.575   NaN     65.2  NaN      NaN   \n",
       "    0.02731 NaN NaN  0.0 NaN NaN   7.07 NaN 0.0 NaN   0.469 NaN     6.421   NaN   78.9  4.9671   \n",
       "    0.02729 NaN NaN  0.0 NaN NaN   7.07 NaN 0.0 NaN   0.469 NaN     7.185   NaN   61.1  4.9671   \n",
       "    0.03237 NaN NaN  0.0 NaN NaN   2.18 NaN 0.0 NaN   0.458 NaN     6.998   NaN   45.8  6.0622   \n",
       "    0.06905 NaN NaN  0.0 NaN NaN   2.18 NaN 0.0 NaN   0.458 NaN     7.147   NaN   54.2  6.0622   \n",
       "\n",
       "                                                                                        INDUS  \\\n",
       "NaN 0.00632 NaN 18.0 NaN NaN 2.31  NaN  0.0 NaN 0.538 NaN   6.575   NaN     65.2  NaN     NaN   \n",
       "    0.02731 NaN NaN  0.0 NaN NaN   7.07 NaN 0.0 NaN   0.469 NaN     6.421   NaN   78.9    NaN   \n",
       "    0.02729 NaN NaN  0.0 NaN NaN   7.07 NaN 0.0 NaN   0.469 NaN     7.185   NaN   61.1    NaN   \n",
       "    0.03237 NaN NaN  0.0 NaN NaN   2.18 NaN 0.0 NaN   0.458 NaN     6.998   NaN   45.8    NaN   \n",
       "    0.06905 NaN NaN  0.0 NaN NaN   2.18 NaN 0.0 NaN   0.458 NaN     7.147   NaN   54.2    NaN   \n",
       "\n",
       "                                                                                        CHAS  \\\n",
       "NaN 0.00632 NaN 18.0 NaN NaN 2.31  NaN  0.0 NaN 0.538 NaN   6.575   NaN     65.2  NaN    1.0   \n",
       "    0.02731 NaN NaN  0.0 NaN NaN   7.07 NaN 0.0 NaN   0.469 NaN     6.421   NaN   78.9   NaN   \n",
       "    0.02729 NaN NaN  0.0 NaN NaN   7.07 NaN 0.0 NaN   0.469 NaN     7.185   NaN   61.1   NaN   \n",
       "    0.03237 NaN NaN  0.0 NaN NaN   2.18 NaN 0.0 NaN   0.458 NaN     6.998   NaN   45.8   NaN   \n",
       "    0.06905 NaN NaN  0.0 NaN NaN   2.18 NaN 0.0 NaN   0.458 NaN     7.147   NaN   54.2   NaN   \n",
       "\n",
       "                                                                                        NOX  \\\n",
       "NaN 0.00632 NaN 18.0 NaN NaN 2.31  NaN  0.0 NaN 0.538 NaN   6.575   NaN     65.2  NaN   NaN   \n",
       "    0.02731 NaN NaN  0.0 NaN NaN   7.07 NaN 0.0 NaN   0.469 NaN     6.421   NaN   78.9  2.0   \n",
       "    0.02729 NaN NaN  0.0 NaN NaN   7.07 NaN 0.0 NaN   0.469 NaN     7.185   NaN   61.1  2.0   \n",
       "    0.03237 NaN NaN  0.0 NaN NaN   2.18 NaN 0.0 NaN   0.458 NaN     6.998   NaN   45.8  3.0   \n",
       "    0.06905 NaN NaN  0.0 NaN NaN   2.18 NaN 0.0 NaN   0.458 NaN     7.147   NaN   54.2  3.0   \n",
       "\n",
       "                                                                                           RM  \\\n",
       "NaN 0.00632 NaN 18.0 NaN NaN 2.31  NaN  0.0 NaN 0.538 NaN   6.575   NaN     65.2  NaN   296.0   \n",
       "    0.02731 NaN NaN  0.0 NaN NaN   7.07 NaN 0.0 NaN   0.469 NaN     6.421   NaN   78.9    NaN   \n",
       "    0.02729 NaN NaN  0.0 NaN NaN   7.07 NaN 0.0 NaN   0.469 NaN     7.185   NaN   61.1    NaN   \n",
       "    0.03237 NaN NaN  0.0 NaN NaN   2.18 NaN 0.0 NaN   0.458 NaN     6.998   NaN   45.8    NaN   \n",
       "    0.06905 NaN NaN  0.0 NaN NaN   2.18 NaN 0.0 NaN   0.458 NaN     7.147   NaN   54.2    NaN   \n",
       "\n",
       "                                                                                          AGE  \\\n",
       "NaN 0.00632 NaN 18.0 NaN NaN 2.31  NaN  0.0 NaN 0.538 NaN   6.575   NaN     65.2  NaN     NaN   \n",
       "    0.02731 NaN NaN  0.0 NaN NaN   7.07 NaN 0.0 NaN   0.469 NaN     6.421   NaN   78.9  242.0   \n",
       "    0.02729 NaN NaN  0.0 NaN NaN   7.07 NaN 0.0 NaN   0.469 NaN     7.185   NaN   61.1  242.0   \n",
       "    0.03237 NaN NaN  0.0 NaN NaN   2.18 NaN 0.0 NaN   0.458 NaN     6.998   NaN   45.8  222.0   \n",
       "    0.06905 NaN NaN  0.0 NaN NaN   2.18 NaN 0.0 NaN   0.458 NaN     7.147   NaN   54.2  222.0   \n",
       "\n",
       "                                                                                         DIS  \\\n",
       "NaN 0.00632 NaN 18.0 NaN NaN 2.31  NaN  0.0 NaN 0.538 NaN   6.575   NaN     65.2  NaN   15.3   \n",
       "    0.02731 NaN NaN  0.0 NaN NaN   7.07 NaN 0.0 NaN   0.469 NaN     6.421   NaN   78.9   NaN   \n",
       "    0.02729 NaN NaN  0.0 NaN NaN   7.07 NaN 0.0 NaN   0.469 NaN     7.185   NaN   61.1   NaN   \n",
       "    0.03237 NaN NaN  0.0 NaN NaN   2.18 NaN 0.0 NaN   0.458 NaN     6.998   NaN   45.8   NaN   \n",
       "    0.06905 NaN NaN  0.0 NaN NaN   2.18 NaN 0.0 NaN   0.458 NaN     7.147   NaN   54.2   NaN   \n",
<<<<<<< HEAD
=======
       "\n",
       "                                                                                          RAD  \\\n",
       "NaN 0.00632 NaN 18.0 NaN NaN 2.31  NaN  0.0 NaN 0.538 NaN   6.575   NaN     65.2  NaN   396.9   \n",
       "    0.02731 NaN NaN  0.0 NaN NaN   7.07 NaN 0.0 NaN   0.469 NaN     6.421   NaN   78.9   17.8   \n",
       "    0.02729 NaN NaN  0.0 NaN NaN   7.07 NaN 0.0 NaN   0.469 NaN     7.185   NaN   61.1   17.8   \n",
       "    0.03237 NaN NaN  0.0 NaN NaN   2.18 NaN 0.0 NaN   0.458 NaN     6.998   NaN   45.8   18.7   \n",
       "    0.06905 NaN NaN  0.0 NaN NaN   2.18 NaN 0.0 NaN   0.458 NaN     7.147   NaN   54.2   18.7   \n",
       "\n",
       "                                                                                           TAX  \\\n",
       "NaN 0.00632 NaN 18.0 NaN NaN 2.31  NaN  0.0 NaN 0.538 NaN   6.575   NaN     65.2  NaN      NaN   \n",
       "    0.02731 NaN NaN  0.0 NaN NaN   7.07 NaN 0.0 NaN   0.469 NaN     6.421   NaN   78.9  396.90   \n",
       "    0.02729 NaN NaN  0.0 NaN NaN   7.07 NaN 0.0 NaN   0.469 NaN     7.185   NaN   61.1  392.83   \n",
       "    0.03237 NaN NaN  0.0 NaN NaN   2.18 NaN 0.0 NaN   0.458 NaN     6.998   NaN   45.8  394.63   \n",
       "    0.06905 NaN NaN  0.0 NaN NaN   2.18 NaN 0.0 NaN   0.458 NaN     7.147   NaN   54.2  396.90   \n",
       "\n",
       "                                                                                        PTRATIO  \\\n",
       "NaN 0.00632 NaN 18.0 NaN NaN 2.31  NaN  0.0 NaN 0.538 NaN   6.575   NaN     65.2  NaN       NaN   \n",
       "    0.02731 NaN NaN  0.0 NaN NaN   7.07 NaN 0.0 NaN   0.469 NaN     6.421   NaN   78.9      NaN   \n",
       "    0.02729 NaN NaN  0.0 NaN NaN   7.07 NaN 0.0 NaN   0.469 NaN     7.185   NaN   61.1      NaN   \n",
       "    0.03237 NaN NaN  0.0 NaN NaN   2.18 NaN 0.0 NaN   0.458 NaN     6.998   NaN   45.8      NaN   \n",
       "    0.06905 NaN NaN  0.0 NaN NaN   2.18 NaN 0.0 NaN   0.458 NaN     7.147   NaN   54.2      NaN   \n",
       "\n",
       "                                                                                           B  \\\n",
       "NaN 0.00632 NaN 18.0 NaN NaN 2.31  NaN  0.0 NaN 0.538 NaN   6.575   NaN     65.2  NaN   4.98   \n",
       "    0.02731 NaN NaN  0.0 NaN NaN   7.07 NaN 0.0 NaN   0.469 NaN     6.421   NaN   78.9   NaN   \n",
       "    0.02729 NaN NaN  0.0 NaN NaN   7.07 NaN 0.0 NaN   0.469 NaN     7.185   NaN   61.1   NaN   \n",
       "    0.03237 NaN NaN  0.0 NaN NaN   2.18 NaN 0.0 NaN   0.458 NaN     6.998   NaN   45.8   NaN   \n",
       "    0.06905 NaN NaN  0.0 NaN NaN   2.18 NaN 0.0 NaN   0.458 NaN     7.147   NaN   54.2   NaN   \n",
       "\n",
       "                                                                                        LSTAT  \\\n",
       "NaN 0.00632 NaN 18.0 NaN NaN 2.31  NaN  0.0 NaN 0.538 NaN   6.575   NaN     65.2  NaN     NaN   \n",
       "    0.02731 NaN NaN  0.0 NaN NaN   7.07 NaN 0.0 NaN   0.469 NaN     6.421   NaN   78.9   9.14   \n",
       "    0.02729 NaN NaN  0.0 NaN NaN   7.07 NaN 0.0 NaN   0.469 NaN     7.185   NaN   61.1   4.03   \n",
       "    0.03237 NaN NaN  0.0 NaN NaN   2.18 NaN 0.0 NaN   0.458 NaN     6.998   NaN   45.8   2.94   \n",
       "    0.06905 NaN NaN  0.0 NaN NaN   2.18 NaN 0.0 NaN   0.458 NaN     7.147   NaN   54.2   5.33   \n",
       "\n",
       "                                                                                        MEDV  \n",
       "NaN 0.00632 NaN 18.0 NaN NaN 2.31  NaN  0.0 NaN 0.538 NaN   6.575   NaN     65.2  NaN   24.0  \n",
       "    0.02731 NaN NaN  0.0 NaN NaN   7.07 NaN 0.0 NaN   0.469 NaN     6.421   NaN   78.9   NaN  \n",
       "    0.02729 NaN NaN  0.0 NaN NaN   7.07 NaN 0.0 NaN   0.469 NaN     7.185   NaN   61.1   NaN  \n",
       "    0.03237 NaN NaN  0.0 NaN NaN   2.18 NaN 0.0 NaN   0.458 NaN     6.998   NaN   45.8   NaN  \n",
       "    0.06905 NaN NaN  0.0 NaN NaN   2.18 NaN 0.0 NaN   0.458 NaN     7.147   NaN   54.2   NaN  "
      ]
     },
     "execution_count": 7,
=======
       "                                                CRIM  ZN  INDUS  CHAS  NOX  \\\n",
       "0   0.00632  18.00   2.310  0  0.5380  6.5750  65... NaN    NaN   NaN  NaN   \n",
       "1   0.02731   0.00   7.070  0  0.4690  6.4210  78... NaN    NaN   NaN  NaN   \n",
       "2   0.02729   0.00   7.070  0  0.4690  7.1850  61... NaN    NaN   NaN  NaN   \n",
       "3   0.03237   0.00   2.180  0  0.4580  6.9980  45... NaN    NaN   NaN  NaN   \n",
       "4   0.06905   0.00   2.180  0  0.4580  7.1470  54... NaN    NaN   NaN  NaN   \n",
>>>>>>> master
       "\n",
       "                                                                                          RAD  \\\n",
       "NaN 0.00632 NaN 18.0 NaN NaN 2.31  NaN  0.0 NaN 0.538 NaN   6.575   NaN     65.2  NaN   396.9   \n",
       "    0.02731 NaN NaN  0.0 NaN NaN   7.07 NaN 0.0 NaN   0.469 NaN     6.421   NaN   78.9   17.8   \n",
       "    0.02729 NaN NaN  0.0 NaN NaN   7.07 NaN 0.0 NaN   0.469 NaN     7.185   NaN   61.1   17.8   \n",
       "    0.03237 NaN NaN  0.0 NaN NaN   2.18 NaN 0.0 NaN   0.458 NaN     6.998   NaN   45.8   18.7   \n",
       "    0.06905 NaN NaN  0.0 NaN NaN   2.18 NaN 0.0 NaN   0.458 NaN     7.147   NaN   54.2   18.7   \n",
       "\n",
       "                                                                                           TAX  \\\n",
       "NaN 0.00632 NaN 18.0 NaN NaN 2.31  NaN  0.0 NaN 0.538 NaN   6.575   NaN     65.2  NaN      NaN   \n",
       "    0.02731 NaN NaN  0.0 NaN NaN   7.07 NaN 0.0 NaN   0.469 NaN     6.421   NaN   78.9  396.90   \n",
       "    0.02729 NaN NaN  0.0 NaN NaN   7.07 NaN 0.0 NaN   0.469 NaN     7.185   NaN   61.1  392.83   \n",
       "    0.03237 NaN NaN  0.0 NaN NaN   2.18 NaN 0.0 NaN   0.458 NaN     6.998   NaN   45.8  394.63   \n",
       "    0.06905 NaN NaN  0.0 NaN NaN   2.18 NaN 0.0 NaN   0.458 NaN     7.147   NaN   54.2  396.90   \n",
       "\n",
       "                                                                                        PTRATIO  \\\n",
       "NaN 0.00632 NaN 18.0 NaN NaN 2.31  NaN  0.0 NaN 0.538 NaN   6.575   NaN     65.2  NaN       NaN   \n",
       "    0.02731 NaN NaN  0.0 NaN NaN   7.07 NaN 0.0 NaN   0.469 NaN     6.421   NaN   78.9      NaN   \n",
       "    0.02729 NaN NaN  0.0 NaN NaN   7.07 NaN 0.0 NaN   0.469 NaN     7.185   NaN   61.1      NaN   \n",
       "    0.03237 NaN NaN  0.0 NaN NaN   2.18 NaN 0.0 NaN   0.458 NaN     6.998   NaN   45.8      NaN   \n",
       "    0.06905 NaN NaN  0.0 NaN NaN   2.18 NaN 0.0 NaN   0.458 NaN     7.147   NaN   54.2      NaN   \n",
       "\n",
       "                                                                                           B  \\\n",
       "NaN 0.00632 NaN 18.0 NaN NaN 2.31  NaN  0.0 NaN 0.538 NaN   6.575   NaN     65.2  NaN   4.98   \n",
       "    0.02731 NaN NaN  0.0 NaN NaN   7.07 NaN 0.0 NaN   0.469 NaN     6.421   NaN   78.9   NaN   \n",
       "    0.02729 NaN NaN  0.0 NaN NaN   7.07 NaN 0.0 NaN   0.469 NaN     7.185   NaN   61.1   NaN   \n",
       "    0.03237 NaN NaN  0.0 NaN NaN   2.18 NaN 0.0 NaN   0.458 NaN     6.998   NaN   45.8   NaN   \n",
       "    0.06905 NaN NaN  0.0 NaN NaN   2.18 NaN 0.0 NaN   0.458 NaN     7.147   NaN   54.2   NaN   \n",
       "\n",
       "                                                                                        LSTAT  \\\n",
       "NaN 0.00632 NaN 18.0 NaN NaN 2.31  NaN  0.0 NaN 0.538 NaN   6.575   NaN     65.2  NaN     NaN   \n",
       "    0.02731 NaN NaN  0.0 NaN NaN   7.07 NaN 0.0 NaN   0.469 NaN     6.421   NaN   78.9   9.14   \n",
       "    0.02729 NaN NaN  0.0 NaN NaN   7.07 NaN 0.0 NaN   0.469 NaN     7.185   NaN   61.1   4.03   \n",
       "    0.03237 NaN NaN  0.0 NaN NaN   2.18 NaN 0.0 NaN   0.458 NaN     6.998   NaN   45.8   2.94   \n",
       "    0.06905 NaN NaN  0.0 NaN NaN   2.18 NaN 0.0 NaN   0.458 NaN     7.147   NaN   54.2   5.33   \n",
       "\n",
       "                                                                                        MEDV  \n",
       "NaN 0.00632 NaN 18.0 NaN NaN 2.31  NaN  0.0 NaN 0.538 NaN   6.575   NaN     65.2  NaN   24.0  \n",
       "    0.02731 NaN NaN  0.0 NaN NaN   7.07 NaN 0.0 NaN   0.469 NaN     6.421   NaN   78.9   NaN  \n",
       "    0.02729 NaN NaN  0.0 NaN NaN   7.07 NaN 0.0 NaN   0.469 NaN     7.185   NaN   61.1   NaN  \n",
       "    0.03237 NaN NaN  0.0 NaN NaN   2.18 NaN 0.0 NaN   0.458 NaN     6.998   NaN   45.8   NaN  \n",
       "    0.06905 NaN NaN  0.0 NaN NaN   2.18 NaN 0.0 NaN   0.458 NaN     7.147   NaN   54.2   NaN  "
      ]
     },
<<<<<<< HEAD
     "execution_count": 18,
=======
     "execution_count": 77,
>>>>>>> master
>>>>>>> master
     "metadata": {},
     "output_type": "execute_result"
    }
   ],
   "source": [
    "house = pd.read_csv(\"./datasets/housing.data\", names = names, sep = \" \")\n",
    "house.head()"
   ]
  },
  {
   "cell_type": "markdown",
   "metadata": {},
   "source": [
    "### 2. Load the `housing.data` file with python\n",
    "\n",
    "Using any method of your choice.\n",
    "\n",
    "> _**Hint:** despite this file having a strange `.data` extension, using python's `open() as file` and `file.read()` or `file.readlines()` we can load this in and see that it is a text file formatted much the same as a CSV. You can use string operations to format the data._"
   ]
  },
  {
   "cell_type": "code",
<<<<<<< HEAD
   "execution_count": 3,
   "metadata": {
    "collapsed": false,
    "jupyter": {
     "outputs_hidden": false
    }
   },
=======
<<<<<<< HEAD
   "execution_count": 8,
=======
   "execution_count": 12,
>>>>>>> master
   "metadata": {},
>>>>>>> master
   "outputs": [],
   "source": [
    "# A:"
   ]
  },
  {
<<<<<<< HEAD
   "cell_type": "markdown",
   "metadata": {},
   "source": [
    "### 3.  Conduct a brief integrity check of your data. \n",
    "\n",
    "This integrity check should include, but is not limited to, checking for missing values and making sure all values make logical sense. (i.e. is one variable a percentage, but there are observations above 100%?)\n",
    "\n",
    "Summarize your findings in a few sentences, including what you checked and, if appropriate, any \n",
    "steps you took to rectify potential integrity issues."
   ]
  },
  {
   "cell_type": "code",
   "execution_count": 4,
   "metadata": {
    "collapsed": true,
    "jupyter": {
     "outputs_hidden": true
=======
   "cell_type": "code",
<<<<<<< HEAD
   "execution_count": 9,
=======
   "execution_count": 32,
>>>>>>> master
   "metadata": {},
   "outputs": [
    {
     "data": {
      "text/plain": [
<<<<<<< HEAD
       "count    189.000000\n",
       "mean      25.318466\n",
       "std        9.808484\n",
       "min        4.840000\n",
       "25%       19.500000\n",
       "50%       23.400000\n",
       "75%       30.300000\n",
       "max       50.000000\n",
       "Name: MEDV, dtype: float64"
      ]
     },
     "execution_count": 9,
=======
       "count    0.0\n",
       "mean     NaN\n",
       "std      NaN\n",
       "min      NaN\n",
       "25%      NaN\n",
       "50%      NaN\n",
       "75%      NaN\n",
       "max      NaN\n",
       "Name: MEDV, dtype: float64"
      ]
     },
     "execution_count": 32,
>>>>>>> master
     "metadata": {},
     "output_type": "execute_result"
>>>>>>> master
    }
   },
   "outputs": [],
   "source": [
    "# A:"
   ]
  },
  {
   "cell_type": "markdown",
   "metadata": {},
   "source": [
    "### 4. For what two attributes does it make the *least* sense to calculate mean and median? Why?"
   ]
  },
  {
   "cell_type": "code",
<<<<<<< HEAD
   "execution_count": 10,
   "metadata": {},
   "outputs": [
    {
     "data": {
      "text/html": [
       "<div>\n",
       "<style scoped>\n",
       "    .dataframe tbody tr th:only-of-type {\n",
       "        vertical-align: middle;\n",
       "    }\n",
       "\n",
       "    .dataframe tbody tr th {\n",
       "        vertical-align: top;\n",
       "    }\n",
       "\n",
       "    .dataframe thead th {\n",
       "        text-align: right;\n",
       "    }\n",
       "</style>\n",
       "<table border=\"1\" class=\"dataframe\">\n",
       "  <thead>\n",
       "    <tr style=\"text-align: right;\">\n",
       "      <th></th>\n",
       "      <th>CRIM</th>\n",
       "      <th>ZN</th>\n",
       "      <th>INDUS</th>\n",
       "      <th>CHAS</th>\n",
       "      <th>NOX</th>\n",
       "      <th>RM</th>\n",
       "      <th>AGE</th>\n",
       "      <th>DIS</th>\n",
       "      <th>RAD</th>\n",
       "      <th>TAX</th>\n",
       "      <th>PTRATIO</th>\n",
       "      <th>B</th>\n",
       "      <th>LSTAT</th>\n",
       "      <th>MEDV</th>\n",
       "    </tr>\n",
       "  </thead>\n",
       "  <tbody>\n",
       "    <tr>\n",
       "      <th>count</th>\n",
       "      <td>302.000000</td>\n",
       "      <td>183.000000</td>\n",
       "      <td>117.000000</td>\n",
       "      <td>245.000000</td>\n",
       "      <td>258.000000</td>\n",
       "      <td>263.000000</td>\n",
       "      <td>271.000000</td>\n",
       "      <td>314.000000</td>\n",
       "      <td>389.000000</td>\n",
       "      <td>236.000000</td>\n",
       "      <td>151.000000</td>\n",
       "      <td>256.000000</td>\n",
       "      <td>204.000000</td>\n",
       "      <td>189.000000</td>\n",
       "    </tr>\n",
       "    <tr>\n",
       "      <th>mean</th>\n",
       "      <td>5.481753</td>\n",
       "      <td>8.326386</td>\n",
       "      <td>140.762074</td>\n",
       "      <td>109.673469</td>\n",
       "      <td>215.156589</td>\n",
       "      <td>280.112700</td>\n",
       "      <td>204.458007</td>\n",
       "      <td>108.835478</td>\n",
       "      <td>211.095244</td>\n",
       "      <td>240.953941</td>\n",
       "      <td>21.854967</td>\n",
       "      <td>11.815586</td>\n",
       "      <td>14.820343</td>\n",
       "      <td>25.318466</td>\n",
       "    </tr>\n",
       "    <tr>\n",
       "      <th>std</th>\n",
       "      <td>5.612511</td>\n",
       "      <td>8.268406</td>\n",
       "      <td>253.958941</td>\n",
       "      <td>242.563241</td>\n",
       "      <td>293.127059</td>\n",
       "      <td>142.805313</td>\n",
       "      <td>147.114064</td>\n",
       "      <td>154.074054</td>\n",
       "      <td>182.364232</td>\n",
       "      <td>181.110190</td>\n",
       "      <td>52.749601</td>\n",
       "      <td>6.876346</td>\n",
       "      <td>8.576895</td>\n",
       "      <td>9.808484</td>\n",
       "    </tr>\n",
       "    <tr>\n",
       "      <th>min</th>\n",
       "      <td>1.129600</td>\n",
       "      <td>2.106900</td>\n",
       "      <td>4.000000</td>\n",
       "      <td>1.000000</td>\n",
       "      <td>1.000000</td>\n",
       "      <td>3.000000</td>\n",
       "      <td>13.000000</td>\n",
       "      <td>2.600000</td>\n",
       "      <td>7.680000</td>\n",
       "      <td>0.320000</td>\n",
       "      <td>2.960000</td>\n",
       "      <td>1.730000</td>\n",
       "      <td>2.470000</td>\n",
       "      <td>4.840000</td>\n",
       "    </tr>\n",
       "    <tr>\n",
       "      <th>25%</th>\n",
       "      <td>2.198600</td>\n",
       "      <td>3.275900</td>\n",
       "      <td>24.000000</td>\n",
       "      <td>4.000000</td>\n",
       "      <td>4.000000</td>\n",
       "      <td>223.000000</td>\n",
       "      <td>20.200000</td>\n",
       "      <td>16.100000</td>\n",
       "      <td>19.200000</td>\n",
       "      <td>17.900000</td>\n",
       "      <td>10.885000</td>\n",
       "      <td>6.665000</td>\n",
       "      <td>7.590000</td>\n",
       "      <td>19.500000</td>\n",
       "    </tr>\n",
       "    <tr>\n",
       "      <th>50%</th>\n",
       "      <td>3.694500</td>\n",
       "      <td>4.399600</td>\n",
       "      <td>24.000000</td>\n",
       "      <td>5.000000</td>\n",
       "      <td>8.000000</td>\n",
       "      <td>289.000000</td>\n",
       "      <td>270.000000</td>\n",
       "      <td>19.000000</td>\n",
       "      <td>338.630000</td>\n",
       "      <td>378.650000</td>\n",
       "      <td>13.450000</td>\n",
       "      <td>10.445000</td>\n",
       "      <td>15.100000</td>\n",
       "      <td>23.400000</td>\n",
       "    </tr>\n",
       "    <tr>\n",
       "      <th>75%</th>\n",
       "      <td>6.479800</td>\n",
       "      <td>6.458400</td>\n",
       "      <td>24.000000</td>\n",
       "      <td>6.000000</td>\n",
       "      <td>666.000000</td>\n",
       "      <td>396.900000</td>\n",
       "      <td>307.000000</td>\n",
       "      <td>233.000000</td>\n",
       "      <td>392.800000</td>\n",
       "      <td>394.837500</td>\n",
       "      <td>17.610000</td>\n",
       "      <td>15.685000</td>\n",
       "      <td>20.500000</td>\n",
       "      <td>30.300000</td>\n",
       "    </tr>\n",
       "    <tr>\n",
       "      <th>max</th>\n",
       "      <td>24.000000</td>\n",
       "      <td>24.000000</td>\n",
       "      <td>666.000000</td>\n",
       "      <td>666.000000</td>\n",
       "      <td>666.000000</td>\n",
       "      <td>711.000000</td>\n",
       "      <td>430.000000</td>\n",
       "      <td>396.900000</td>\n",
       "      <td>396.900000</td>\n",
       "      <td>396.900000</td>\n",
       "      <td>394.460000</td>\n",
       "      <td>50.000000</td>\n",
       "      <td>50.000000</td>\n",
       "      <td>50.000000</td>\n",
       "    </tr>\n",
       "  </tbody>\n",
       "</table>\n",
       "</div>"
      ],
      "text/plain": [
       "             CRIM          ZN       INDUS        CHAS         NOX          RM  \\\n",
       "count  302.000000  183.000000  117.000000  245.000000  258.000000  263.000000   \n",
       "mean     5.481753    8.326386  140.762074  109.673469  215.156589  280.112700   \n",
       "std      5.612511    8.268406  253.958941  242.563241  293.127059  142.805313   \n",
       "min      1.129600    2.106900    4.000000    1.000000    1.000000    3.000000   \n",
       "25%      2.198600    3.275900   24.000000    4.000000    4.000000  223.000000   \n",
       "50%      3.694500    4.399600   24.000000    5.000000    8.000000  289.000000   \n",
       "75%      6.479800    6.458400   24.000000    6.000000  666.000000  396.900000   \n",
       "max     24.000000   24.000000  666.000000  666.000000  666.000000  711.000000   \n",
       "\n",
       "              AGE         DIS         RAD         TAX     PTRATIO           B  \\\n",
       "count  271.000000  314.000000  389.000000  236.000000  151.000000  256.000000   \n",
       "mean   204.458007  108.835478  211.095244  240.953941   21.854967   11.815586   \n",
       "std    147.114064  154.074054  182.364232  181.110190   52.749601    6.876346   \n",
       "min     13.000000    2.600000    7.680000    0.320000    2.960000    1.730000   \n",
       "25%     20.200000   16.100000   19.200000   17.900000   10.885000    6.665000   \n",
       "50%    270.000000   19.000000  338.630000  378.650000   13.450000   10.445000   \n",
       "75%    307.000000  233.000000  392.800000  394.837500   17.610000   15.685000   \n",
       "max    430.000000  396.900000  396.900000  396.900000  394.460000   50.000000   \n",
       "\n",
       "            LSTAT        MEDV  \n",
       "count  204.000000  189.000000  \n",
       "mean    14.820343   25.318466  \n",
       "std      8.576895    9.808484  \n",
       "min      2.470000    4.840000  \n",
       "25%      7.590000   19.500000  \n",
       "50%     15.100000   23.400000  \n",
       "75%     20.500000   30.300000  \n",
       "max     50.000000   50.000000  "
      ]
     },
     "execution_count": 10,
     "metadata": {},
     "output_type": "execute_result"
    }
   ],
   "source": [
    "# A:\n",
    "df.describe()"
   ]
  },
  {
   "cell_type": "code",
   "execution_count": 11,
   "metadata": {},
   "outputs": [
    {
     "name": "stdout",
     "output_type": "stream",
     "text": [
      "<class 'pandas.core.frame.DataFrame'>\n",
      "MultiIndex: 506 entries, (nan, 0.00632, nan, 18.0, nan, nan, 2.31, nan, 0.0, nan, 0.538, nan, 6.575, nan, 65.2, nan) to (nan, 0.04741, nan, nan, 0.0, nan, 11.93, nan, 0.0, nan, 0.573, nan, 6.03, nan, 80.8, nan)\n",
      "Data columns (total 14 columns):\n",
      " #   Column   Non-Null Count  Dtype  \n",
      "---  ------   --------------  -----  \n",
      " 0   CRIM     302 non-null    float64\n",
      " 1   ZN       183 non-null    float64\n",
      " 2   INDUS    117 non-null    float64\n",
      " 3   CHAS     245 non-null    float64\n",
      " 4   NOX      258 non-null    float64\n",
      " 5   RM       263 non-null    float64\n",
      " 6   AGE      271 non-null    float64\n",
      " 7   DIS      314 non-null    float64\n",
      " 8   RAD      389 non-null    float64\n",
      " 9   TAX      236 non-null    float64\n",
      " 10  PTRATIO  151 non-null    float64\n",
      " 11  B        256 non-null    float64\n",
      " 12  LSTAT    204 non-null    float64\n",
      " 13  MEDV     189 non-null    float64\n",
      "dtypes: float64(14)\n",
      "memory usage: 79.0 KB\n"
     ]
    }
   ],
   "source": [
    "df.info()"
=======
   "execution_count": 5,
   "metadata": {
    "collapsed": true,
    "jupyter": {
     "outputs_hidden": true
    }
   },
   "outputs": [],
   "source": [
<<<<<<< HEAD
    "# A:"
=======
    "# A:\n",
    "B"
>>>>>>> master
>>>>>>> master
   ]
  },
  {
   "cell_type": "markdown",
   "metadata": {},
   "source": [
    "### 5. Which two variables have the strongest linear association? \n",
    "\n",
    "Report both variables, the metric you chose as the basis for your comparison, and the value of that metric. *(Hint: Make sure you consider only variables for which it makes sense to find a linear association.)*"
   ]
  },
  {
   "cell_type": "code",
<<<<<<< HEAD
   "execution_count": 19,
   "metadata": {},
   "outputs": [
    {
     "data": {
      "text/html": [
       "<div>\n",
       "<style scoped>\n",
       "    .dataframe tbody tr th:only-of-type {\n",
       "        vertical-align: middle;\n",
       "    }\n",
       "\n",
       "    .dataframe tbody tr th {\n",
       "        vertical-align: top;\n",
       "    }\n",
       "\n",
       "    .dataframe thead th {\n",
       "        text-align: right;\n",
       "    }\n",
       "</style>\n",
       "<table border=\"1\" class=\"dataframe\">\n",
       "  <thead>\n",
       "    <tr style=\"text-align: right;\">\n",
       "      <th></th>\n",
       "      <th>CRIM</th>\n",
       "      <th>ZN</th>\n",
       "      <th>INDUS</th>\n",
       "      <th>CHAS</th>\n",
       "      <th>NOX</th>\n",
       "      <th>RM</th>\n",
       "      <th>AGE</th>\n",
       "      <th>DIS</th>\n",
       "      <th>RAD</th>\n",
       "      <th>TAX</th>\n",
       "      <th>PTRATIO</th>\n",
       "      <th>B</th>\n",
       "      <th>LSTAT</th>\n",
       "      <th>MEDV</th>\n",
       "    </tr>\n",
       "  </thead>\n",
       "  <tbody>\n",
       "    <tr>\n",
       "      <th>CRIM</th>\n",
       "      <td>1.000000</td>\n",
       "      <td>NaN</td>\n",
       "      <td>0.995324</td>\n",
       "      <td>-0.027584</td>\n",
       "      <td>-9.982156e-01</td>\n",
       "      <td>-8.611610e-02</td>\n",
       "      <td>0.583314</td>\n",
       "      <td>-0.274853</td>\n",
       "      <td>-0.379837</td>\n",
       "      <td>-0.048800</td>\n",
       "      <td>0.003525</td>\n",
       "      <td>-0.327493</td>\n",
       "      <td>-0.153360</td>\n",
       "      <td>-0.070099</td>\n",
       "    </tr>\n",
       "    <tr>\n",
       "      <th>ZN</th>\n",
       "      <td>NaN</td>\n",
       "      <td>1.000000</td>\n",
       "      <td>NaN</td>\n",
       "      <td>NaN</td>\n",
       "      <td>-1.563579e-01</td>\n",
       "      <td>NaN</td>\n",
       "      <td>0.249640</td>\n",
       "      <td>NaN</td>\n",
       "      <td>0.274093</td>\n",
       "      <td>-0.938381</td>\n",
       "      <td>-0.943803</td>\n",
       "      <td>0.071117</td>\n",
       "      <td>0.100726</td>\n",
       "      <td>-0.455780</td>\n",
       "    </tr>\n",
       "    <tr>\n",
       "      <th>INDUS</th>\n",
       "      <td>0.995324</td>\n",
       "      <td>NaN</td>\n",
       "      <td>1.000000</td>\n",
       "      <td>NaN</td>\n",
       "      <td>-8.569407e-01</td>\n",
       "      <td>8.448521e-01</td>\n",
       "      <td>0.595274</td>\n",
       "      <td>-0.921771</td>\n",
       "      <td>-0.531197</td>\n",
       "      <td>0.014306</td>\n",
       "      <td>-0.144207</td>\n",
       "      <td>-0.473204</td>\n",
       "      <td>-0.255101</td>\n",
       "      <td>0.899735</td>\n",
       "    </tr>\n",
       "    <tr>\n",
       "      <th>CHAS</th>\n",
       "      <td>-0.027584</td>\n",
       "      <td>NaN</td>\n",
       "      <td>NaN</td>\n",
       "      <td>1.000000</td>\n",
       "      <td>NaN</td>\n",
       "      <td>-7.945650e-01</td>\n",
       "      <td>NaN</td>\n",
       "      <td>0.696501</td>\n",
       "      <td>-0.980206</td>\n",
       "      <td>-0.960379</td>\n",
       "      <td>-0.088198</td>\n",
       "      <td>0.489522</td>\n",
       "      <td>-0.560225</td>\n",
       "      <td>-0.203003</td>\n",
       "    </tr>\n",
       "    <tr>\n",
       "      <th>NOX</th>\n",
       "      <td>-0.998216</td>\n",
       "      <td>-0.156358</td>\n",
       "      <td>-0.856941</td>\n",
       "      <td>NaN</td>\n",
       "      <td>1.000000e+00</td>\n",
       "      <td>-9.396814e-16</td>\n",
       "      <td>-0.877846</td>\n",
       "      <td>0.784596</td>\n",
       "      <td>0.762729</td>\n",
       "      <td>-0.859215</td>\n",
       "      <td>-0.115484</td>\n",
       "      <td>0.350901</td>\n",
       "      <td>0.700774</td>\n",
       "      <td>-0.487450</td>\n",
       "    </tr>\n",
       "    <tr>\n",
       "      <th>RM</th>\n",
       "      <td>-0.086116</td>\n",
       "      <td>NaN</td>\n",
       "      <td>0.844852</td>\n",
       "      <td>-0.794565</td>\n",
       "      <td>-9.396814e-16</td>\n",
       "      <td>1.000000e+00</td>\n",
       "      <td>NaN</td>\n",
       "      <td>-0.370107</td>\n",
       "      <td>0.705570</td>\n",
       "      <td>0.274918</td>\n",
       "      <td>-0.252999</td>\n",
       "      <td>-0.384709</td>\n",
       "      <td>0.066482</td>\n",
       "      <td>0.001628</td>\n",
       "    </tr>\n",
       "    <tr>\n",
       "      <th>AGE</th>\n",
       "      <td>0.583314</td>\n",
       "      <td>0.249640</td>\n",
       "      <td>0.595274</td>\n",
       "      <td>NaN</td>\n",
       "      <td>-8.778458e-01</td>\n",
       "      <td>NaN</td>\n",
       "      <td>1.000000</td>\n",
       "      <td>0.129964</td>\n",
       "      <td>-0.467757</td>\n",
       "      <td>0.899922</td>\n",
       "      <td>0.357968</td>\n",
       "      <td>-0.147677</td>\n",
       "      <td>-0.723939</td>\n",
       "      <td>0.372189</td>\n",
       "    </tr>\n",
       "    <tr>\n",
       "      <th>DIS</th>\n",
       "      <td>-0.274853</td>\n",
       "      <td>NaN</td>\n",
       "      <td>-0.921771</td>\n",
       "      <td>0.696501</td>\n",
       "      <td>7.845958e-01</td>\n",
       "      <td>-3.701066e-01</td>\n",
       "      <td>0.129964</td>\n",
       "      <td>1.000000</td>\n",
       "      <td>0.167059</td>\n",
       "      <td>-0.276334</td>\n",
       "      <td>0.119481</td>\n",
       "      <td>0.862541</td>\n",
       "      <td>0.442459</td>\n",
       "      <td>-0.403053</td>\n",
       "    </tr>\n",
       "    <tr>\n",
       "      <th>RAD</th>\n",
       "      <td>-0.379837</td>\n",
       "      <td>0.274093</td>\n",
       "      <td>-0.531197</td>\n",
       "      <td>-0.980206</td>\n",
       "      <td>7.627287e-01</td>\n",
       "      <td>7.055700e-01</td>\n",
       "      <td>-0.467757</td>\n",
       "      <td>0.167059</td>\n",
       "      <td>1.000000</td>\n",
       "      <td>-0.229079</td>\n",
       "      <td>-0.117823</td>\n",
       "      <td>-0.747563</td>\n",
       "      <td>0.888602</td>\n",
       "      <td>0.563434</td>\n",
       "    </tr>\n",
       "    <tr>\n",
       "      <th>TAX</th>\n",
       "      <td>-0.048800</td>\n",
       "      <td>-0.938381</td>\n",
       "      <td>0.014306</td>\n",
       "      <td>-0.960379</td>\n",
       "      <td>-8.592147e-01</td>\n",
       "      <td>2.749182e-01</td>\n",
       "      <td>0.899922</td>\n",
       "      <td>-0.276334</td>\n",
       "      <td>-0.229079</td>\n",
       "      <td>1.000000</td>\n",
       "      <td>NaN</td>\n",
       "      <td>-0.307695</td>\n",
       "      <td>-0.175595</td>\n",
       "      <td>0.678576</td>\n",
       "    </tr>\n",
       "    <tr>\n",
       "      <th>PTRATIO</th>\n",
       "      <td>0.003525</td>\n",
       "      <td>-0.943803</td>\n",
       "      <td>-0.144207</td>\n",
       "      <td>-0.088198</td>\n",
       "      <td>-1.154835e-01</td>\n",
       "      <td>-2.529986e-01</td>\n",
       "      <td>0.357968</td>\n",
       "      <td>0.119481</td>\n",
       "      <td>-0.117823</td>\n",
       "      <td>NaN</td>\n",
       "      <td>1.000000</td>\n",
       "      <td>NaN</td>\n",
       "      <td>-0.526701</td>\n",
       "      <td>-0.738462</td>\n",
       "    </tr>\n",
       "    <tr>\n",
       "      <th>B</th>\n",
       "      <td>-0.327493</td>\n",
       "      <td>0.071117</td>\n",
       "      <td>-0.473204</td>\n",
       "      <td>0.489522</td>\n",
       "      <td>3.509007e-01</td>\n",
       "      <td>-3.847092e-01</td>\n",
       "      <td>-0.147677</td>\n",
       "      <td>0.862541</td>\n",
       "      <td>-0.747563</td>\n",
       "      <td>-0.307695</td>\n",
       "      <td>NaN</td>\n",
       "      <td>1.000000</td>\n",
       "      <td>NaN</td>\n",
       "      <td>-0.695980</td>\n",
       "    </tr>\n",
       "    <tr>\n",
       "      <th>LSTAT</th>\n",
       "      <td>-0.153360</td>\n",
       "      <td>0.100726</td>\n",
       "      <td>-0.255101</td>\n",
       "      <td>-0.560225</td>\n",
       "      <td>7.007735e-01</td>\n",
       "      <td>6.648189e-02</td>\n",
       "      <td>-0.723939</td>\n",
       "      <td>0.442459</td>\n",
       "      <td>0.888602</td>\n",
       "      <td>-0.175595</td>\n",
       "      <td>-0.526701</td>\n",
       "      <td>NaN</td>\n",
       "      <td>1.000000</td>\n",
       "      <td>NaN</td>\n",
       "    </tr>\n",
       "    <tr>\n",
       "      <th>MEDV</th>\n",
       "      <td>-0.070099</td>\n",
       "      <td>-0.455780</td>\n",
       "      <td>0.899735</td>\n",
       "      <td>-0.203003</td>\n",
       "      <td>-4.874496e-01</td>\n",
       "      <td>1.627523e-03</td>\n",
       "      <td>0.372189</td>\n",
       "      <td>-0.403053</td>\n",
       "      <td>0.563434</td>\n",
       "      <td>0.678576</td>\n",
       "      <td>-0.738462</td>\n",
       "      <td>-0.695980</td>\n",
       "      <td>NaN</td>\n",
       "      <td>1.000000</td>\n",
       "    </tr>\n",
       "  </tbody>\n",
       "</table>\n",
       "</div>"
      ],
      "text/plain": [
       "             CRIM        ZN     INDUS      CHAS           NOX            RM  \\\n",
       "CRIM     1.000000       NaN  0.995324 -0.027584 -9.982156e-01 -8.611610e-02   \n",
       "ZN            NaN  1.000000       NaN       NaN -1.563579e-01           NaN   \n",
       "INDUS    0.995324       NaN  1.000000       NaN -8.569407e-01  8.448521e-01   \n",
       "CHAS    -0.027584       NaN       NaN  1.000000           NaN -7.945650e-01   \n",
       "NOX     -0.998216 -0.156358 -0.856941       NaN  1.000000e+00 -9.396814e-16   \n",
       "RM      -0.086116       NaN  0.844852 -0.794565 -9.396814e-16  1.000000e+00   \n",
       "AGE      0.583314  0.249640  0.595274       NaN -8.778458e-01           NaN   \n",
       "DIS     -0.274853       NaN -0.921771  0.696501  7.845958e-01 -3.701066e-01   \n",
       "RAD     -0.379837  0.274093 -0.531197 -0.980206  7.627287e-01  7.055700e-01   \n",
       "TAX     -0.048800 -0.938381  0.014306 -0.960379 -8.592147e-01  2.749182e-01   \n",
       "PTRATIO  0.003525 -0.943803 -0.144207 -0.088198 -1.154835e-01 -2.529986e-01   \n",
       "B       -0.327493  0.071117 -0.473204  0.489522  3.509007e-01 -3.847092e-01   \n",
       "LSTAT   -0.153360  0.100726 -0.255101 -0.560225  7.007735e-01  6.648189e-02   \n",
       "MEDV    -0.070099 -0.455780  0.899735 -0.203003 -4.874496e-01  1.627523e-03   \n",
       "\n",
       "              AGE       DIS       RAD       TAX   PTRATIO         B     LSTAT  \\\n",
       "CRIM     0.583314 -0.274853 -0.379837 -0.048800  0.003525 -0.327493 -0.153360   \n",
       "ZN       0.249640       NaN  0.274093 -0.938381 -0.943803  0.071117  0.100726   \n",
       "INDUS    0.595274 -0.921771 -0.531197  0.014306 -0.144207 -0.473204 -0.255101   \n",
       "CHAS          NaN  0.696501 -0.980206 -0.960379 -0.088198  0.489522 -0.560225   \n",
       "NOX     -0.877846  0.784596  0.762729 -0.859215 -0.115484  0.350901  0.700774   \n",
       "RM            NaN -0.370107  0.705570  0.274918 -0.252999 -0.384709  0.066482   \n",
       "AGE      1.000000  0.129964 -0.467757  0.899922  0.357968 -0.147677 -0.723939   \n",
       "DIS      0.129964  1.000000  0.167059 -0.276334  0.119481  0.862541  0.442459   \n",
       "RAD     -0.467757  0.167059  1.000000 -0.229079 -0.117823 -0.747563  0.888602   \n",
       "TAX      0.899922 -0.276334 -0.229079  1.000000       NaN -0.307695 -0.175595   \n",
       "PTRATIO  0.357968  0.119481 -0.117823       NaN  1.000000       NaN -0.526701   \n",
       "B       -0.147677  0.862541 -0.747563 -0.307695       NaN  1.000000       NaN   \n",
       "LSTAT   -0.723939  0.442459  0.888602 -0.175595 -0.526701       NaN  1.000000   \n",
       "MEDV     0.372189 -0.403053  0.563434  0.678576 -0.738462 -0.695980       NaN   \n",
       "\n",
       "             MEDV  \n",
       "CRIM    -0.070099  \n",
       "ZN      -0.455780  \n",
       "INDUS    0.899735  \n",
       "CHAS    -0.203003  \n",
       "NOX     -0.487450  \n",
       "RM       0.001628  \n",
       "AGE      0.372189  \n",
       "DIS     -0.403053  \n",
       "RAD      0.563434  \n",
       "TAX      0.678576  \n",
       "PTRATIO -0.738462  \n",
       "B       -0.695980  \n",
       "LSTAT         NaN  \n",
       "MEDV     1.000000  "
      ]
     },
     "execution_count": 19,
     "metadata": {},
     "output_type": "execute_result"
=======
<<<<<<< HEAD
   "execution_count": 26,
=======
   "execution_count": 15,
>>>>>>> master
   "metadata": {
    "collapsed": false,
    "jupyter": {
     "outputs_hidden": false
    }
   },
   "outputs": [
    {
<<<<<<< HEAD
     "data": {
      "image/png": "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\n",
      "text/plain": [
       "<Figure size 720x576 with 16 Axes>"
      ]
     },
     "metadata": {
      "needs_background": "light"
     },
     "output_type": "display_data"
=======
     "ename": "AttributeError",
     "evalue": "'str' object has no attribute 'reshape'",
     "output_type": "error",
     "traceback": [
      "\u001b[1;31m---------------------------------------------------------------------------\u001b[0m",
      "\u001b[1;31mAttributeError\u001b[0m                            Traceback (most recent call last)",
      "\u001b[1;32m<ipython-input-15-cd1b2eaef488>\u001b[0m in \u001b[0;36m<module>\u001b[1;34m\u001b[0m\n\u001b[0;32m      1\u001b[0m \u001b[1;31m# A:\u001b[0m\u001b[1;33m\u001b[0m\u001b[1;33m\u001b[0m\u001b[1;33m\u001b[0m\u001b[0m\n\u001b[0;32m      2\u001b[0m \u001b[1;33m\u001b[0m\u001b[0m\n\u001b[1;32m----> 3\u001b[1;33m \u001b[0mmodel\u001b[0m \u001b[1;33m=\u001b[0m \u001b[0mLinearRegression\u001b[0m\u001b[1;33m(\u001b[0m\u001b[1;33m)\u001b[0m\u001b[1;33m.\u001b[0m\u001b[0mfit\u001b[0m\u001b[1;33m(\u001b[0m\u001b[1;34m'CRIM'\u001b[0m\u001b[1;33m,\u001b[0m \u001b[1;34m'ZN'\u001b[0m\u001b[1;33m.\u001b[0m\u001b[0mreshape\u001b[0m\u001b[1;33m(\u001b[0m\u001b[1;33m-\u001b[0m\u001b[1;36m1\u001b[0m\u001b[1;33m,\u001b[0m \u001b[1;36m1\u001b[0m\u001b[1;33m)\u001b[0m\u001b[1;33m)\u001b[0m\u001b[1;33m\u001b[0m\u001b[1;33m\u001b[0m\u001b[0m\n\u001b[0m",
      "\u001b[1;31mAttributeError\u001b[0m: 'str' object has no attribute 'reshape'"
     ]
>>>>>>> master
>>>>>>> master
    }
   ],
   "source": [
    "# A:\n",
<<<<<<< HEAD
    "house.corr()"
=======
<<<<<<< HEAD
    "pd.plotting.scatter_matrix(df[['MEDV', 'CHAS', 'TAX', 'RAD']], figsize=(10, 8));"
=======
    "\n",
    "model = LinearRegression().fit('CRIM', 'ZN'.reshape(-1, 1))"
>>>>>>> master
>>>>>>> master
   ]
  },
  {
   "cell_type": "markdown",
   "metadata": {},
   "source": [
    "### 6. Look at distributional qualities of variables.\n",
    "\n",
    "Answer the following questions:\n",
    "1. Which variable has the most symmetric distribution? \n",
    "2. Which variable has the most left-skewed (negatively skewed) distribution? \n",
    "3. Which variable has the most right-skewed (positively skewed) distribution? \n",
    "\n",
    "Defend your method for determining this."
   ]
  },
  {
   "cell_type": "code",
<<<<<<< HEAD
   "execution_count": 20,
=======
<<<<<<< HEAD
   "execution_count": 27,
   "metadata": {},
   "outputs": [
    {
     "data": {
      "text/plain": [
       "array([[  4.84,    nan,  17.9 ,    nan],\n",
       "       [  5.81,    nan,  17.9 ,    nan],\n",
       "       [  7.  ,   4.  ,    nan, 344.05],\n",
       "       ...,\n",
       "       [   nan,   4.  ,    nan, 395.09],\n",
       "       [   nan,   4.  ,    nan, 390.11],\n",
       "       [   nan,   4.  ,    nan, 396.9 ]])"
      ]
     },
     "execution_count": 27,
     "metadata": {},
     "output_type": "execute_result"
    }
   ],
   "source": [
    "df[['MEDV', 'CHAS', 'TAX', 'RAD']].sort_values('MEDV').values"
   ]
  },
  {
   "cell_type": "code",
   "execution_count": 20,
=======
   "execution_count": 18,
>>>>>>> master
>>>>>>> master
   "metadata": {
    "collapsed": false,
    "jupyter": {
     "outputs_hidden": false
    }
   },
   "outputs": [
    {
<<<<<<< HEAD
     "data": {
      "text/plain": [
       "array([[<matplotlib.axes._subplots.AxesSubplot object at 0x000001F144498A08>,\n",
       "        <matplotlib.axes._subplots.AxesSubplot object at 0x000001F1462062C8>,\n",
       "        <matplotlib.axes._subplots.AxesSubplot object at 0x000001F146239E48>,\n",
       "        <matplotlib.axes._subplots.AxesSubplot object at 0x000001F14626FBC8>],\n",
       "       [<matplotlib.axes._subplots.AxesSubplot object at 0x000001F1462A8348>,\n",
       "        <matplotlib.axes._subplots.AxesSubplot object at 0x000001F1462DD0C8>,\n",
       "        <matplotlib.axes._subplots.AxesSubplot object at 0x000001F14630CE08>,\n",
       "        <matplotlib.axes._subplots.AxesSubplot object at 0x000001F146342B88>],\n",
       "       [<matplotlib.axes._subplots.AxesSubplot object at 0x000001F14634A9C8>,\n",
       "        <matplotlib.axes._subplots.AxesSubplot object at 0x000001F146383E88>,\n",
       "        <matplotlib.axes._subplots.AxesSubplot object at 0x000001F1463EE348>,\n",
       "        <matplotlib.axes._subplots.AxesSubplot object at 0x000001F146427488>],\n",
       "       [<matplotlib.axes._subplots.AxesSubplot object at 0x000001F14645D588>,\n",
       "        <matplotlib.axes._subplots.AxesSubplot object at 0x000001F14649CE48>,\n",
       "        <matplotlib.axes._subplots.AxesSubplot object at 0x000001F1464CE7C8>,\n",
       "        <matplotlib.axes._subplots.AxesSubplot object at 0x000001F146506908>]],\n",
       "      dtype=object)"
      ]
     },
     "execution_count": 20,
     "metadata": {},
     "output_type": "execute_result"
    },
    {
     "data": {
      "image/png": "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\n",
      "text/plain": [
       "<Figure size 432x288 with 16 Axes>"
=======
<<<<<<< HEAD
     "data": {
      "image/png": "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\n",
      "text/plain": [
       "<Figure size 432x288 with 1 Axes>"
>>>>>>> master
      ]
     },
     "metadata": {
      "needs_background": "light"
     },
     "output_type": "display_data"
<<<<<<< HEAD
=======
=======
     "ename": "TypeError",
     "evalue": "'Series' object is not callable",
     "output_type": "error",
     "traceback": [
      "\u001b[1;31m---------------------------------------------------------------------------\u001b[0m",
      "\u001b[1;31mTypeError\u001b[0m                                 Traceback (most recent call last)",
      "\u001b[1;32m<ipython-input-18-61574d90a9f2>\u001b[0m in \u001b[0;36m<module>\u001b[1;34m\u001b[0m\n\u001b[0;32m      1\u001b[0m \u001b[1;31m# A:\u001b[0m\u001b[1;33m\u001b[0m\u001b[1;33m\u001b[0m\u001b[1;33m\u001b[0m\u001b[0m\n\u001b[0;32m      2\u001b[0m \u001b[1;33m\u001b[0m\u001b[0m\n\u001b[1;32m----> 3\u001b[1;33m \u001b[0mdf\u001b[0m\u001b[1;33m.\u001b[0m\u001b[0mCRIM\u001b[0m\u001b[1;33m(\u001b[0m\u001b[0mkind\u001b[0m\u001b[1;33m=\u001b[0m\u001b[1;34m'hist'\u001b[0m\u001b[1;33m,\u001b[0m \u001b[0mbins\u001b[0m\u001b[1;33m=\u001b[0m\u001b[1;36m3\u001b[0m\u001b[1;33m)\u001b[0m\u001b[1;33m\u001b[0m\u001b[1;33m\u001b[0m\u001b[0m\n\u001b[0m",
      "\u001b[1;31mTypeError\u001b[0m: 'Series' object is not callable"
     ]
>>>>>>> master
>>>>>>> master
    }
   ],
   "source": [
    "# A:\n",
<<<<<<< HEAD
    "house.hist()"
=======
    "\n",
<<<<<<< HEAD
    "df.CRIM.plot(kind='hist', bins=3)\n",
    "plt.xlabel('CRIM');\n",
    "plt.ylabel('Frequency');"
=======
    "df.CRIM(kind='hist', bins=3)"
>>>>>>> master
>>>>>>> master
   ]
  },
  {
   "cell_type": "markdown",
   "metadata": {},
   "source": [
    "### 8. Repeat question 6 but scale the variables by their range first.\n",
    "\n",
    "As you may have noticed, the spread of the distribution contributed significantly to the results in question 6."
   ]
  },
  {
   "cell_type": "code",
<<<<<<< HEAD
   "execution_count": 21,
   "metadata": {},
   "outputs": [
    {
     "data": {
      "image/png": "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\n",
      "text/plain": [
       "<Figure size 432x288 with 1 Axes>"
      ]
     },
     "metadata": {
      "needs_background": "light"
     },
     "output_type": "display_data"
    }
   ],
   "source": [
    "df.MEDV.plot(kind='hist', bins=3)\n",
    "plt.xlabel('MEDV');\n",
    "plt.ylabel('Frequency');"
   ]
  },
  {
   "cell_type": "code",
   "execution_count": 22,
   "metadata": {},
   "outputs": [
    {
     "data": {
      "image/png": "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\n",
      "text/plain": [
       "<Figure size 432x288 with 1 Axes>"
      ]
     },
     "metadata": {
      "needs_background": "light"
     },
     "output_type": "display_data"
    }
   ],
   "source": [
    "df.TAX.plot(kind = 'hist', bins = 10)\n",
    "plt.xlabel('TAX');\n",
    "plt.ylabel('Frequency');"
   ]
  },
  {
   "cell_type": "code",
=======
>>>>>>> master
   "execution_count": 8,
   "metadata": {
    "collapsed": false,
    "jupyter": {
     "outputs_hidden": false
    }
   },
   "outputs": [],
   "source": [
    "# A:\n",
    "\n"
   ]
  },
  {
<<<<<<< HEAD
   "cell_type": "code",
   "execution_count": 24,
   "metadata": {},
   "outputs": [
    {
     "data": {
      "image/png": "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\n",
      "text/plain": [
       "<Figure size 432x288 with 1 Axes>"
      ]
     },
     "metadata": {
      "needs_background": "light"
     },
     "output_type": "display_data"
    }
   ],
   "source": [
    "df.RAD.plot(kind = 'hist', bins = 10)\n",
    "plt.xlabel('RAD');\n",
    "plt.ylabel('Frequency');"
   ]
  },
  {
=======
>>>>>>> master
   "cell_type": "markdown",
   "metadata": {},
   "source": [
    "### 9. Univariate analysis of your choice\n",
    "\n",
    "Conduct a full univariate analysis on MEDV, CHAS, TAX, and RAD. \n",
    "\n",
    "For each variable, you should answer the three questions generally asked in a univariate analysis using the most appropriate metrics.\n",
    "- A measure of central tendency\n",
    "- A measure of spread\n",
    "- A description of the shape of the distribution (plot or metric based)\n",
    "\n",
    "If you feel there is additional information that is relevant, include it. "
   ]
  },
  {
   "cell_type": "code",
   "execution_count": 28,
   "metadata": {},
   "outputs": [
    {
     "data": {
      "text/plain": [
       "25.32"
      ]
     },
     "execution_count": 28,
     "metadata": {},
     "output_type": "execute_result"
    }
   ],
   "source": [
    "round(house.MEDV.mean(),2)"
   ]
  },
  {
   "cell_type": "code",
   "execution_count": 30,
   "metadata": {},
   "outputs": [
    {
     "ename": "AttributeError",
     "evalue": "'float' object has no attribute 'round'",
     "output_type": "error",
     "traceback": [
      "\u001b[1;31m---------------------------------------------------------------------------\u001b[0m",
      "\u001b[1;31mAttributeError\u001b[0m                            Traceback (most recent call last)",
      "\u001b[1;32m<ipython-input-30-ba656891048b>\u001b[0m in \u001b[0;36m<module>\u001b[1;34m\u001b[0m\n\u001b[1;32m----> 1\u001b[1;33m \u001b[0mnp\u001b[0m\u001b[1;33m.\u001b[0m\u001b[0mmean\u001b[0m\u001b[1;33m(\u001b[0m\u001b[0mhouse\u001b[0m\u001b[1;33m.\u001b[0m\u001b[0mMEDV\u001b[0m\u001b[1;33m)\u001b[0m\u001b[1;33m.\u001b[0m\u001b[0mround\u001b[0m\u001b[1;33m(\u001b[0m\u001b[1;36m2\u001b[0m\u001b[1;33m)\u001b[0m\u001b[1;33m\u001b[0m\u001b[1;33m\u001b[0m\u001b[0m\n\u001b[0m",
      "\u001b[1;31mAttributeError\u001b[0m: 'float' object has no attribute 'round'"
     ]
    }
   ],
   "source": [
    "np.mean(house.MEDV).round(2)"
   ]
  },
  {
   "cell_type": "code",
   "execution_count": 23,
   "metadata": {},
   "outputs": [
    {
     "ename": "TypeError",
     "evalue": "'Series' object is not callable",
     "output_type": "error",
     "traceback": [
      "\u001b[1;31m---------------------------------------------------------------------------\u001b[0m",
      "\u001b[1;31mTypeError\u001b[0m                                 Traceback (most recent call last)",
      "\u001b[1;32m<ipython-input-23-8a58b5c6c72b>\u001b[0m in \u001b[0;36m<module>\u001b[1;34m\u001b[0m\n\u001b[0;32m      1\u001b[0m \u001b[1;31m# A:\u001b[0m\u001b[1;33m\u001b[0m\u001b[1;33m\u001b[0m\u001b[1;33m\u001b[0m\u001b[0m\n\u001b[1;32m----> 2\u001b[1;33m \u001b[0mhouse\u001b[0m\u001b[1;33m.\u001b[0m\u001b[0mMEDV\u001b[0m\u001b[1;33m(\u001b[0m\u001b[1;33m[\u001b[0m\u001b[1;34m'mean'\u001b[0m\u001b[1;33m,\u001b[0m\u001b[1;34m'median'\u001b[0m\u001b[1;33m,\u001b[0m \u001b[1;34m'mode'\u001b[0m\u001b[1;33m]\u001b[0m\u001b[1;33m)\u001b[0m\u001b[1;33m\u001b[0m\u001b[1;33m\u001b[0m\u001b[0m\n\u001b[0m",
      "\u001b[1;31mTypeError\u001b[0m: 'Series' object is not callable"
     ]
    }
   ],
   "source": [
    "# A:\n",
    "house.MEDV(['mean','median', 'mode'])"
   ]
  },
  {
   "cell_type": "code",
   "execution_count": null,
   "metadata": {},
   "outputs": [],
   "source": [
<<<<<<< HEAD
    "house.CHAS.agg(['mean','median', 'mode'])\n",
    "house.TAX.agg(['mean','median', 'mode'])\n",
    "house.RADagg(['mean','median', 'mode'])"
=======
<<<<<<< HEAD
    "# A:\n",
    "##random sampling limits\n",
    "##"
=======
    "# A:"
>>>>>>> master
>>>>>>> master
   ]
  },
  {
   "cell_type": "markdown",
   "metadata": {},
   "source": [
    "### 10. Have you been using inferential statistics, descriptive statistics, or both?\n",
    "\n",
    "For each exercise, identify the branch of statistics on which you relied for your answer."
   ]
  },
  {
   "cell_type": "code",
   "execution_count": 10,
   "metadata": {
    "collapsed": true,
    "jupyter": {
     "outputs_hidden": true
    }
   },
   "outputs": [],
   "source": [
    "# A:"
   ]
  },
  {
   "cell_type": "markdown",
   "metadata": {},
   "source": [
    "### 11. Reducing the number of observations\n",
    "\n",
    "It seems likely that this data is a census - that is, the data set includes the entire target population. Suppose that the 506 observations was too much for our computer (as unlikely as this might be) and we needed to pare this down to fewer observations. \n",
    "\n",
    "**11.A Use the `random.sample()` function to select 50 observations from `'AGE'`.**\n",
    "\n",
    "([This documentation](https://docs.python.org/2/library/random.html) may be helpful.)"
   ]
  },
  {
   "cell_type": "code",
   "execution_count": 11,
   "metadata": {
    "collapsed": false,
    "jupyter": {
     "outputs_hidden": false
    }
   },
   "outputs": [],
   "source": [
    "# A:"
   ]
  },
  {
   "cell_type": "markdown",
   "metadata": {},
   "source": [
    "**11.B Identify the type of sampling we just used.**"
   ]
  },
  {
   "cell_type": "code",
   "execution_count": 12,
   "metadata": {
    "collapsed": true,
    "jupyter": {
     "outputs_hidden": true
    }
   },
   "outputs": [],
   "source": [
<<<<<<< HEAD
    "# A:\n",
    "##random sampling of \n",
    "##clustering, stratified, convenience, (systematic)\n",
    "\n"
=======
    "# A:"
>>>>>>> master
   ]
  },
  {
   "cell_type": "markdown",
   "metadata": {},
   "source": [
    "### 12. [BONUS] Of the remaining types of sampling, describe (but do not execute) how you might implement at least one of these types of sampling.\n"
   ]
  },
  {
   "cell_type": "code",
   "execution_count": 13,
   "metadata": {
    "collapsed": true,
    "jupyter": {
     "outputs_hidden": true
    }
   },
   "outputs": [],
   "source": [
    "# A:"
   ]
  }
 ],
 "metadata": {
  "kernelspec": {
   "display_name": "Python 3",
   "language": "python",
   "name": "python3"
  },
  "language_info": {
   "codemirror_mode": {
    "name": "ipython",
    "version": 3
   },
   "file_extension": ".py",
   "mimetype": "text/x-python",
   "name": "python",
   "nbconvert_exporter": "python",
   "pygments_lexer": "ipython3",
   "version": "3.7.6"
  }
 },
 "nbformat": 4,
 "nbformat_minor": 4
}
