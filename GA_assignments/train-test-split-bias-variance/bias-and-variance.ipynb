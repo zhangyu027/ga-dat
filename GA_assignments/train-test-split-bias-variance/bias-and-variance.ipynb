{
 "cells": [
  {
   "cell_type": "markdown",
   "metadata": {},
   "source": [
    "<img src=\"http://imgur.com/1ZcRyrc.png\" style=\"float: left; margin: 20px; height: 55px\">\n",
    "\n",
    "# Train/Test Split and Bias and Variance\n",
    "\n",
    "_Author: Naumaan Nayyar_\n",
    "\n",
    "---"
   ]
  },
  {
   "cell_type": "markdown",
   "metadata": {},
   "source": [
    "<a id=\"learning-objectives\"></a>\n",
    "<a id=\"learning-objectives\"></a>\n",
    "<a id=\"learning-objectives\"></a>\n",
    "### Learning Objectives\n",
    "- Define error due to bias and error due to variance.\n",
    "- Identify the bias-variance trade-off.\n",
    "- Describe what overfitting and underfitting means in the context of model building.\n",
    "- Explain problems associated with over- and underfitting.\n",
    "- Grasp why train/test split is necessary.\n",
    "- Explore k-folds, LOOCV, and three split methods."
   ]
  },
  {
   "cell_type": "markdown",
   "metadata": {},
   "source": [
    "### Lesson Guide\n",
    "- [Bias and Variance Trade-Off](#bias-and-variance-trade-off)\n",
    "\t- [Bias? Variance?](#bias-variance)\n",
    "\t- [Exploring the Bias-Variance Trade-Off](#exploring-the-bias-variance-tradeoff)\n",
    "\t- [Brain and Body Weight Mammal Data Set](#brain-and-body-weight-mammal-dataset)\n",
    "\t- [Making a Prediction](#making-a-prediction)\n",
    "- [Making a Prediction From a Sample](#making-a-prediction-from-a-sample)\n",
    "\t- [Let's Try Something Completely Different](#lets-try-something-completely-different)\n",
    "- [Balancing Bias and Variance](#balancing-bias-and-variance)\n",
    "- [Train/Test Split](#train-test-split)\n",
    "\t- [Evaluation Procedure #1: Train and Test on the Entire Data Set (Do Not Do This)](#evaluation-procedure--train-and-test-on-the-entire-dataset-do-not-do-this)\n",
    "\t- [Problems With Training and Testing on the Same Data](#problems-with-training-and-testing-on-the-same-data)\n",
    "\t- [Evaluation Procedure #2: Train/Test Split](#evaluation-procedure--traintest-split)\n",
    "\t- [Comparing Test Performance With a Null Baseline](#comparing-test-performance-with-a-null-baseline)\n",
    "- [K-Folds Cross-Validation](#k-folds-cross-validation)\n",
    "\t- [Leave-One-Out Cross-Validation](#leave-one-out-cross-validation)\n",
    "\t- [Intro to Cross-Validation With the Boston Data](#intro-to-cross-validation-with-the-boston-data)\n",
    "- [Three-Way Data Split](#three-way-data-split)\n",
    "\t- [Additional Resources](#additional-resources)\n",
    "- [Summary](#summary)"
   ]
  },
  {
   "cell_type": "markdown",
   "metadata": {},
   "source": [
    "<a id=\"bias-and-variance-trade-off\"></a>\n",
    "## Bias and Variance Trade-Off\n",
    "---\n",
    "\n",
    "The **bias-variance tradeoff** is widely used in machine learning as a conceptual way of comparing and contrasting different models. We only have a few methods that are able to compare all machine learning models. The others are more mathematical.\n",
    "\n",
    "**Bias** is error stemming from incorrect model assumptions.\n",
    "- Example: Assuming data is linear when it has a more complicated structure.\n",
    "\n",
    "**Variance** is error stemming from being overly sensitive from changes to the training data.\n",
    "- Example: Using the training set exactly (e.g. 1-NN) for a model results in a completely different model -- even if the training set differs only slightly.\n",
    "\n",
    "\n",
    "As model complexity **increases**:\n",
    "- Bias **decreases**. (The model can more accurately model complex structure in data.)\n",
    "- Variance **increases**. (The model identifies more complex structures, making it more sensitive to small changes in the training data.)"
   ]
  },
  {
   "cell_type": "markdown",
   "metadata": {},
   "source": [
    "<a id=\"bias-variance\"></a>\n",
    "### Bias? Variance?"
   ]
  },
  {
   "cell_type": "markdown",
   "metadata": {},
   "source": [
    "**Conceptual Definitions**\n",
    "- **Bias**: How close are predictions to the actual values?\n",
    "  - Roughly, whether or not our model aims on target.\n",
    "  - If the model cannot represent the data's structure, our predictions could be consistent, but will not be accurate.\n",
    "- **Variance**: How variable are our predictions?\n",
    "  - Roughly, whether or not our model is reliable.\n",
    "  - We will make slightly different predictions given slightly different training sets."
   ]
  },
  {
   "cell_type": "markdown",
   "metadata": {},
   "source": [
    "![](./assets/biasVsVarianceImage.png)"
   ]
  },
  {
   "cell_type": "markdown",
   "metadata": {},
   "source": [
    "- Visually, we are building a model where the bulls-eye is the goal.\n",
    "- Each individual hit is one prediction based on our model.\n",
    "- Critically, the success of our model (low variance, low bias) depends on the training data present."
   ]
  },
  {
   "cell_type": "markdown",
   "metadata": {},
   "source": [
    "**Examples:**\n",
    "\n",
    "- **Linear regression:** Low variance, High bias.\n",
    "    - If we train with a different subset of the training set, the model will be about the same. Hence, the model has low variance.\n",
    "    - The resulting model will predict the training points incorrectly (unless they happen to be perfectly linear). Hence, it has high bias.\n",
    "   \n",
    "\n",
    "- **Nearest neighbor:** High variance, Low bias.\n",
    "    - If we train with a different subset of the training set, the model will make predictions very differently. Hence, the model is highly variable.\n",
    "    - The resulting model will predict every training point perfectly. Hence, it has low bias.\n",
    "\n",
    "- **K-Nearest neightbor:** Med-high variance, Med-low bias.\n",
    "    - The model itself is more robust to outliers, so it will make more predictions the same than before. Hence, it has lower variance than 1-NN.\n",
    "    - The resulting model no longer predicts every point perfectly, since outliers will be mispredicted. So, the bias will be higher than before.\n",
    "\n",
    "\n",
    "See if you can figure out:\n",
    "\n",
    "- **High-order polynomial (as compared to linear regression)**"
   ]
  },
  {
   "cell_type": "markdown",
   "metadata": {},
   "source": [
    "**Expressing bias and variance mathematically:**\n",
    "\n",
    "It can be helpful understanding these terms by looking at how we can decompose the total error into them mathematically. (We will skip the derivations for now!)\n",
    "\n",
    "Let's define the error of our predictor as the expected value of our squared error. Note this error is not based on any particular fitted model, but on the family of potential models given a dataset (i.e. all fitted models made from all possible subsets of data).\n",
    "\n",
    "$$E[(y - \\hat{f}(x))^2] = Bias[\\hat{f}(x)]^2 + Var[\\hat{f}(x)] + \\sigma^2$$\n",
    "\n",
    "This states the expected error is based on only three components: **bias**, **variance**, and **irreducible error**.\n",
    "\n",
    "Breaking the bias and variance down further:\n",
    "\n",
    "$$Bias[\\hat{f}(x)] = E[\\hat{f}(x) - f(x)].$$\n",
    "\n",
    "- The bias is just the average expected distance between our predictor and actual values.\n",
    "\n",
    "$$Var[\\hat{f}(x)] = E[\\hat{f}(x)^2] - E[\\hat{f}(x)]^2.$$\n",
    "\n",
    "- The variance is how much our predictions vary about the mean. ($E[\\hat{f}(x)]$ is our predictor's mean prediction.)\n",
    "\n",
    "- The irreducible error stems from noise in the problem itself.\n",
    "\n",
    "**Some common questions:**\n",
    "\n",
    "From the math above, we can answer a few common questions:\n",
    "\n",
    "Can a model have high bias given one dataset and low bias for another?\n",
    "- Yes. If our data is linearly related, for example, it will have low bias on a linear model! However, in general across all datasets very few are accurately described with a linear model. So, in general we say a linear model has high bias and low variance.\n",
    "\n",
    "Is the MSE for a fitted linear regression the same thing as the bias?\n",
    "- It's close, but bias does not apply to a specific fitted model. Bias is the expected error of a model no matter what subset of the data it is fit on. This way, if we happen to get a lucky MSE fitting a model on a particular subset of our data, this does not mean we will have a low bias overall."
   ]
  },
  {
   "cell_type": "markdown",
   "metadata": {},
   "source": [
    "<a id=\"exploring-the-bias-variance-tradeoff\"></a>\n",
    "### Exploring the Bias-Variance Trade-Off"
   ]
  },
  {
   "cell_type": "code",
<<<<<<< HEAD
   "execution_count": 5,
=======
   "execution_count": 1,
>>>>>>> b77de3c7a5bc57e40718741a1ab40453e4338a78
   "metadata": {},
   "outputs": [],
   "source": [
    "import pandas as pd\n",
    "import numpy as np\n",
    "import seaborn as sns\n",
    "import matplotlib.pyplot as plt\n",
    "\n",
    "# Allow plots to appear in the notebook.\n",
    "%matplotlib inline"
   ]
  },
  {
   "cell_type": "markdown",
   "metadata": {},
   "source": [
    "<a id=\"brain-and-body-weight-mammal-dataset\"></a>\n",
    "### Brain and Body Weight Mammal Data Set"
   ]
  },
  {
   "cell_type": "markdown",
   "metadata": {},
   "source": [
    "This is a [data set](http://people.sc.fsu.edu/~jburkardt/datasets/regression/x01.txt) of the average weight of the body (in kg) and the brain (in g) for 62 mammal species. We'll use this dataset to investigate bias vs. variance. Let's read it into Pandas and take a quick look:"
   ]
  },
  {
   "cell_type": "code",
<<<<<<< HEAD
   "execution_count": 6,
=======
   "execution_count": 2,
>>>>>>> b77de3c7a5bc57e40718741a1ab40453e4338a78
   "metadata": {},
   "outputs": [
    {
     "data": {
      "text/html": [
       "<div>\n",
       "<style scoped>\n",
       "    .dataframe tbody tr th:only-of-type {\n",
       "        vertical-align: middle;\n",
       "    }\n",
       "\n",
       "    .dataframe tbody tr th {\n",
       "        vertical-align: top;\n",
       "    }\n",
       "\n",
       "    .dataframe thead th {\n",
       "        text-align: right;\n",
       "    }\n",
       "</style>\n",
       "<table border=\"1\" class=\"dataframe\">\n",
       "  <thead>\n",
       "    <tr style=\"text-align: right;\">\n",
       "      <th></th>\n",
       "      <th>brain</th>\n",
       "      <th>body</th>\n",
       "    </tr>\n",
       "  </thead>\n",
       "  <tbody>\n",
       "    <tr>\n",
       "      <th>0</th>\n",
       "      <td>3.385</td>\n",
       "      <td>44.5</td>\n",
       "    </tr>\n",
       "    <tr>\n",
       "      <th>1</th>\n",
       "      <td>0.480</td>\n",
       "      <td>15.5</td>\n",
       "    </tr>\n",
       "    <tr>\n",
       "      <th>2</th>\n",
       "      <td>1.350</td>\n",
       "      <td>8.1</td>\n",
       "    </tr>\n",
       "    <tr>\n",
       "      <th>3</th>\n",
       "      <td>465.000</td>\n",
       "      <td>423.0</td>\n",
       "    </tr>\n",
       "    <tr>\n",
       "      <th>4</th>\n",
       "      <td>36.330</td>\n",
       "      <td>119.5</td>\n",
       "    </tr>\n",
       "  </tbody>\n",
       "</table>\n",
       "</div>"
      ],
      "text/plain": [
       "     brain   body\n",
       "0    3.385   44.5\n",
       "1    0.480   15.5\n",
       "2    1.350    8.1\n",
       "3  465.000  423.0\n",
       "4   36.330  119.5"
      ]
     },
<<<<<<< HEAD
     "execution_count": 6,
=======
     "execution_count": 2,
>>>>>>> b77de3c7a5bc57e40718741a1ab40453e4338a78
     "metadata": {},
     "output_type": "execute_result"
    }
   ],
   "source": [
    "path = 'data/mammals.txt'\n",
    "cols = ['brain','body']\n",
    "mammals = pd.read_table(path, sep='\\t', names=cols, header=0)\n",
    "mammals.head()"
   ]
  },
  {
   "cell_type": "code",
<<<<<<< HEAD
   "execution_count": 7,
=======
   "execution_count": 3,
>>>>>>> b77de3c7a5bc57e40718741a1ab40453e4338a78
   "metadata": {},
   "outputs": [
    {
     "data": {
      "text/html": [
       "<div>\n",
       "<style scoped>\n",
       "    .dataframe tbody tr th:only-of-type {\n",
       "        vertical-align: middle;\n",
       "    }\n",
       "\n",
       "    .dataframe tbody tr th {\n",
       "        vertical-align: top;\n",
       "    }\n",
       "\n",
       "    .dataframe thead th {\n",
       "        text-align: right;\n",
       "    }\n",
       "</style>\n",
       "<table border=\"1\" class=\"dataframe\">\n",
       "  <thead>\n",
       "    <tr style=\"text-align: right;\">\n",
       "      <th></th>\n",
       "      <th>brain</th>\n",
       "      <th>body</th>\n",
       "    </tr>\n",
       "  </thead>\n",
       "  <tbody>\n",
       "    <tr>\n",
       "      <th>count</th>\n",
       "      <td>62.000000</td>\n",
       "      <td>62.000000</td>\n",
       "    </tr>\n",
       "    <tr>\n",
       "      <th>mean</th>\n",
       "      <td>198.789984</td>\n",
       "      <td>283.134194</td>\n",
       "    </tr>\n",
       "    <tr>\n",
       "      <th>std</th>\n",
       "      <td>899.158011</td>\n",
       "      <td>930.278942</td>\n",
       "    </tr>\n",
       "    <tr>\n",
       "      <th>min</th>\n",
       "      <td>0.005000</td>\n",
       "      <td>0.140000</td>\n",
       "    </tr>\n",
       "    <tr>\n",
       "      <th>25%</th>\n",
       "      <td>0.600000</td>\n",
       "      <td>4.250000</td>\n",
       "    </tr>\n",
       "    <tr>\n",
       "      <th>50%</th>\n",
       "      <td>3.342500</td>\n",
       "      <td>17.250000</td>\n",
       "    </tr>\n",
       "    <tr>\n",
       "      <th>75%</th>\n",
       "      <td>48.202500</td>\n",
       "      <td>166.000000</td>\n",
       "    </tr>\n",
       "    <tr>\n",
       "      <th>max</th>\n",
       "      <td>6654.000000</td>\n",
       "      <td>5712.000000</td>\n",
       "    </tr>\n",
       "  </tbody>\n",
       "</table>\n",
       "</div>"
      ],
      "text/plain": [
       "             brain         body\n",
       "count    62.000000    62.000000\n",
       "mean    198.789984   283.134194\n",
       "std     899.158011   930.278942\n",
       "min       0.005000     0.140000\n",
       "25%       0.600000     4.250000\n",
       "50%       3.342500    17.250000\n",
       "75%      48.202500   166.000000\n",
       "max    6654.000000  5712.000000"
      ]
     },
<<<<<<< HEAD
     "execution_count": 7,
=======
     "execution_count": 3,
>>>>>>> b77de3c7a5bc57e40718741a1ab40453e4338a78
     "metadata": {},
     "output_type": "execute_result"
    }
   ],
   "source": [
    "mammals.describe()"
   ]
  },
  {
   "cell_type": "markdown",
   "metadata": {},
   "source": [
    "We're going to focus on a smaller subset in which the body weight is less than 200 kg."
   ]
  },
  {
   "cell_type": "code",
<<<<<<< HEAD
   "execution_count": 8,
=======
   "execution_count": 4,
>>>>>>> b77de3c7a5bc57e40718741a1ab40453e4338a78
   "metadata": {},
   "outputs": [
    {
     "data": {
      "text/plain": [
       "(51, 2)"
      ]
     },
<<<<<<< HEAD
     "execution_count": 8,
=======
     "execution_count": 4,
>>>>>>> b77de3c7a5bc57e40718741a1ab40453e4338a78
     "metadata": {},
     "output_type": "execute_result"
    }
   ],
   "source": [
    "# Only keep rows in which the body weight is less than 200 kg.\n",
    "mammals = mammals[mammals.body < 200]\n",
    "mammals.shape"
   ]
  },
  {
   "cell_type": "markdown",
   "metadata": {},
   "source": [
    "We're now going to pretend that there are only 51 mammal species in existence. In other words, we are pretending that this is the entire data set of brain and body weights for **every known mammal species**.\n",
    "\n",
    "Let's create a scatterplot (using [Seaborn](http://stanford.edu/~mwaskom/software/seaborn/)) to visualize the relationship between brain and body weight:"
   ]
  },
  {
   "cell_type": "code",
<<<<<<< HEAD
   "execution_count": 9,
=======
   "execution_count": 5,
>>>>>>> b77de3c7a5bc57e40718741a1ab40453e4338a78
   "metadata": {},
   "outputs": [
    {
     "data": {
<<<<<<< HEAD
      "image/png": "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\n",
      "text/plain": [
       "<Figure size 360x360 with 1 Axes>"
      ]
     },
     "metadata": {
      "needs_background": "light"
     },
=======
      "image/png": "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\n",
      "text/plain": [
       "<matplotlib.figure.Figure at 0x10d1080f0>"
      ]
     },
     "metadata": {},
>>>>>>> b77de3c7a5bc57e40718741a1ab40453e4338a78
     "output_type": "display_data"
    }
   ],
   "source": [
    "sns.lmplot(x='body', y='brain', data=mammals, ci=None, fit_reg=False);\n",
    "plt.xlim(-10, 200);\n",
    "plt.ylim(-10, 250);"
   ]
  },
  {
   "cell_type": "markdown",
   "metadata": {},
   "source": [
    "There appears to be a relationship between brain and body weight for mammals."
   ]
  },
  {
   "cell_type": "markdown",
   "metadata": {},
   "source": [
    "<a id=\"making-a-prediction\"></a>\n",
    "### Making a Prediction"
   ]
  },
  {
   "cell_type": "markdown",
   "metadata": {},
   "source": [
    "<a id=\"linear-regression-quick-review\"></a>\n",
    "#### Linear Regression: A Quick Review\n",
    "\n",
    "![](./assets/linear-residuals.png)"
   ]
  },
  {
   "cell_type": "markdown",
   "metadata": {},
   "source": [
    "Now let's pretend that a **new mammal species** is discovered. We measure the body weight of every member of this species we can find and calculate an **average body weight of 100 kgs**. We want to **predict the average brain weight** of this species (rather than measuring it directly). How might we do this?"
   ]
  },
  {
   "cell_type": "code",
<<<<<<< HEAD
   "execution_count": 10,
=======
   "execution_count": 6,
>>>>>>> b77de3c7a5bc57e40718741a1ab40453e4338a78
   "metadata": {},
   "outputs": [
    {
     "data": {
<<<<<<< HEAD
      "image/png": "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\n",
      "text/plain": [
       "<Figure size 360x360 with 1 Axes>"
      ]
     },
     "metadata": {
      "needs_background": "light"
     },
=======
      "image/png": "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\n",
      "text/plain": [
       "<matplotlib.figure.Figure at 0x107cb0b38>"
      ]
     },
     "metadata": {},
>>>>>>> b77de3c7a5bc57e40718741a1ab40453e4338a78
     "output_type": "display_data"
    }
   ],
   "source": [
    "sns.lmplot(x='body', y='brain', data=mammals, ci=None);\n",
    "plt.xlim(-10, 200);\n",
    "plt.ylim(-10, 250);"
   ]
  },
  {
   "cell_type": "markdown",
   "metadata": {},
   "source": [
    "We drew a straight line that appears to best capture the relationship between brain and body weight. So, we might predict that our new species has a brain weight of about 45 g, as that's the approximate y value when x=100.\n",
    "\n",
    "This is known as a \"linear model\" or a \"linear regression model.\""
   ]
  },
  {
   "cell_type": "markdown",
   "metadata": {},
   "source": [
    "<a id=\"making-a-prediction-from-a-sample\"></a>\n",
    "## Making a Prediction From a Sample"
   ]
  },
  {
   "cell_type": "markdown",
   "metadata": {},
   "source": [
    "Earlier, we assumed that this dataset contained every known mammal species. That's very convenient, but **in the real world, all you ever have is a sample of data**. This may sound like a contentious statement, but the point of machine learning is to generalize from a sample to the population. If you already have data for the entire population, then you have no need for machine learning -- you can apply statistics directly and get optimal answers!\n",
    "\n",
    "Here, a more realistic situation would be to only have brain and body weights for (let's say) half of the 51 known mammals.\n",
    "\n",
    "When that new mammal species (with a body weight of 100 kg) is discovered, we still want to make an accurate prediction for its brain weight, but this task might be more difficult, as we don't have all of the data we would ideally like to have.\n",
    "\n",
    "Let's simulate this situation by assigning each of the 51 observations to **either universe 1 or universe 2**:"
   ]
  },
  {
   "cell_type": "code",
<<<<<<< HEAD
   "execution_count": 11,
=======
   "execution_count": 7,
>>>>>>> b77de3c7a5bc57e40718741a1ab40453e4338a78
   "metadata": {},
   "outputs": [
    {
     "data": {
      "text/html": [
       "<div>\n",
       "<style scoped>\n",
       "    .dataframe tbody tr th:only-of-type {\n",
       "        vertical-align: middle;\n",
       "    }\n",
       "\n",
       "    .dataframe tbody tr th {\n",
       "        vertical-align: top;\n",
       "    }\n",
       "\n",
       "    .dataframe thead th {\n",
       "        text-align: right;\n",
       "    }\n",
       "</style>\n",
       "<table border=\"1\" class=\"dataframe\">\n",
       "  <thead>\n",
       "    <tr style=\"text-align: right;\">\n",
       "      <th></th>\n",
       "      <th>brain</th>\n",
       "      <th>body</th>\n",
       "      <th>universe</th>\n",
       "    </tr>\n",
       "  </thead>\n",
       "  <tbody>\n",
       "    <tr>\n",
       "      <th>0</th>\n",
       "      <td>3.385</td>\n",
       "      <td>44.5</td>\n",
       "      <td>1</td>\n",
       "    </tr>\n",
       "    <tr>\n",
       "      <th>1</th>\n",
       "      <td>0.480</td>\n",
       "      <td>15.5</td>\n",
       "      <td>2</td>\n",
       "    </tr>\n",
       "    <tr>\n",
       "      <th>2</th>\n",
       "      <td>1.350</td>\n",
       "      <td>8.1</td>\n",
       "      <td>2</td>\n",
       "    </tr>\n",
       "    <tr>\n",
       "      <th>4</th>\n",
       "      <td>36.330</td>\n",
       "      <td>119.5</td>\n",
       "      <td>2</td>\n",
       "    </tr>\n",
       "    <tr>\n",
       "      <th>5</th>\n",
       "      <td>27.660</td>\n",
       "      <td>115.0</td>\n",
       "      <td>1</td>\n",
       "    </tr>\n",
       "  </tbody>\n",
       "</table>\n",
       "</div>"
      ],
      "text/plain": [
       "    brain   body  universe\n",
       "0   3.385   44.5         1\n",
       "1   0.480   15.5         2\n",
       "2   1.350    8.1         2\n",
       "4  36.330  119.5         2\n",
       "5  27.660  115.0         1"
      ]
     },
<<<<<<< HEAD
     "execution_count": 11,
=======
     "execution_count": 7,
>>>>>>> b77de3c7a5bc57e40718741a1ab40453e4338a78
     "metadata": {},
     "output_type": "execute_result"
    }
   ],
   "source": [
    "# Set a random seed for reproducibility.\n",
    "np.random.seed(12345)\n",
    "\n",
    "# Randomly assign every observation to either universe 1 or universe 2.\n",
    "mammals['universe'] = np.random.randint(1, 3, len(mammals))\n",
    "mammals.head()"
   ]
  },
  {
   "cell_type": "markdown",
   "metadata": {},
   "source": [
    "**Important:** We only live in one of the two universes. Both universes have 51 known mammal species, but each universe knows the brain and body weight for different species.\n",
    "\n",
    "We can now tell Seaborn to create two plots in which the left plot only uses the data from **universe 1** and the right plot only uses the data from **universe 2**:"
   ]
  },
  {
   "cell_type": "code",
<<<<<<< HEAD
   "execution_count": 12,
=======
   "execution_count": 8,
>>>>>>> b77de3c7a5bc57e40718741a1ab40453e4338a78
   "metadata": {},
   "outputs": [
    {
     "data": {
<<<<<<< HEAD
      "image/png": "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\n",
      "text/plain": [
       "<Figure size 720x360 with 2 Axes>"
      ]
     },
     "metadata": {
      "needs_background": "light"
     },
=======
      "image/png": "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\n",
      "text/plain": [
       "<matplotlib.figure.Figure at 0x10d1c1518>"
      ]
     },
     "metadata": {},
>>>>>>> b77de3c7a5bc57e40718741a1ab40453e4338a78
     "output_type": "display_data"
    }
   ],
   "source": [
    "# col='universe' subsets the data by universe and creates two separate plots.\n",
    "sns.lmplot(x='body', y='brain', data=mammals, ci=None, col='universe');\n",
    "plt.xlim(-10, 200);\n",
    "plt.ylim(-10, 250);"
   ]
  },
  {
   "cell_type": "markdown",
   "metadata": {},
   "source": [
    "The line looks pretty similar between the two plots, despite the fact that they used separate samples of data. In both cases, we would predict a brain weight of about 45 g.\n",
    "\n",
    "It's easier to see the degree of similarity by placing them on the same plot:"
   ]
  },
  {
   "cell_type": "code",
<<<<<<< HEAD
   "execution_count": 13,
=======
   "execution_count": 9,
>>>>>>> b77de3c7a5bc57e40718741a1ab40453e4338a78
   "metadata": {},
   "outputs": [
    {
     "data": {
<<<<<<< HEAD
      "image/png": "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\n",
      "text/plain": [
       "<Figure size 411.125x360 with 1 Axes>"
      ]
     },
     "metadata": {
      "needs_background": "light"
     },
=======
      "image/png": "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\n",
      "text/plain": [
       "<matplotlib.figure.Figure at 0x10d1009e8>"
      ]
     },
     "metadata": {},
>>>>>>> b77de3c7a5bc57e40718741a1ab40453e4338a78
     "output_type": "display_data"
    }
   ],
   "source": [
    "# hue='universe' subsets the data by universe and creates a single plot.\n",
    "sns.lmplot(x='body', y='brain', data=mammals, ci=None, hue='universe');\n",
    "plt.xlim(-10, 200);\n",
    "plt.ylim(-10, 250);"
   ]
  },
  {
   "cell_type": "markdown",
   "metadata": {},
   "source": [
    "So, what was the point of this exercise? This was a visual demonstration of a high-bias, low-variance model.\n",
    "\n",
    "- It's **high bias** because it doesn't fit the data particularly well.\n",
    "- It's **low variance** because it doesn't change much depending on which observations happen to be available in that universe."
   ]
  },
  {
   "cell_type": "markdown",
   "metadata": {},
   "source": [
    "<a id=\"lets-try-something-completely-different\"></a>\n",
    "### Let's Try Something Completely Different"
   ]
  },
  {
   "cell_type": "markdown",
   "metadata": {},
   "source": [
    "What would a **low bias, high variance** model look like? Let's try polynomial regression with an eighth-order polynomial."
   ]
  },
  {
   "cell_type": "code",
<<<<<<< HEAD
   "execution_count": 14,
=======
   "execution_count": 10,
>>>>>>> b77de3c7a5bc57e40718741a1ab40453e4338a78
   "metadata": {},
   "outputs": [
    {
     "data": {
<<<<<<< HEAD
      "image/png": "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\n",
      "text/plain": [
       "<Figure size 720x360 with 2 Axes>"
      ]
     },
     "metadata": {
      "needs_background": "light"
     },
=======
      "image/png": "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\n",
      "text/plain": [
       "<matplotlib.figure.Figure at 0x10d14b080>"
      ]
     },
     "metadata": {},
>>>>>>> b77de3c7a5bc57e40718741a1ab40453e4338a78
     "output_type": "display_data"
    }
   ],
   "source": [
    "sns.lmplot(x='body', y='brain', data=mammals, ci=None, col='universe', order=8);\n",
    "plt.xlim(-10, 200);\n",
    "plt.ylim(-10, 250);"
   ]
  },
  {
   "cell_type": "markdown",
   "metadata": {},
   "source": [
    "- It's **low bias** because the models match the data effectively.\n",
    "- It's **high variance** because the models are widely different, depending on which observations happen to be available in that universe. (For a body weight of 100 kg, the brain weight prediction would be 40 kg in one universe and 0 kg in the other!)"
   ]
  },
  {
   "cell_type": "code",
<<<<<<< HEAD
   "execution_count": 15,
=======
   "execution_count": 11,
>>>>>>> b77de3c7a5bc57e40718741a1ab40453e4338a78
   "metadata": {
    "scrolled": true
   },
   "outputs": [
    {
     "data": {
<<<<<<< HEAD
      "image/png": "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\n",
      "text/plain": [
       "<Figure size 411.125x360 with 1 Axes>"
      ]
     },
     "metadata": {
      "needs_background": "light"
     },
=======
      "image/png": "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\n",
      "text/plain": [
       "<matplotlib.figure.Figure at 0x10d628cf8>"
      ]
     },
     "metadata": {},
>>>>>>> b77de3c7a5bc57e40718741a1ab40453e4338a78
     "output_type": "display_data"
    }
   ],
   "source": [
    "sns.lmplot(x='body', y='brain', data=mammals, ci=None, hue='universe', order=8);\n",
    "plt.xlim(-10, 200);\n",
    "plt.ylim(-10, 250);"
   ]
  },
  {
   "cell_type": "markdown",
   "metadata": {},
   "source": [
    "<a id=\"balancing-bias-and-variance\"></a>\n",
    "## Balancing Bias and Variance\n",
    "Can we find a middle ground?"
   ]
  },
  {
   "cell_type": "markdown",
   "metadata": {},
   "source": [
    "Perhaps we can create a model that has **less bias than the linear model** and **less variance than the eighth order polynomial**?\n",
    "\n",
    "Let's try a second order polynomial instead:"
   ]
  },
  {
   "cell_type": "code",
<<<<<<< HEAD
   "execution_count": 16,
=======
   "execution_count": 12,
>>>>>>> b77de3c7a5bc57e40718741a1ab40453e4338a78
   "metadata": {},
   "outputs": [
    {
     "data": {
<<<<<<< HEAD
      "image/png": "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\n",
      "text/plain": [
       "<Figure size 720x360 with 2 Axes>"
      ]
     },
     "metadata": {
      "needs_background": "light"
     },
=======
      "image/png": "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\n",
      "text/plain": [
       "<matplotlib.figure.Figure at 0x10d3e5ba8>"
      ]
     },
     "metadata": {},
>>>>>>> b77de3c7a5bc57e40718741a1ab40453e4338a78
     "output_type": "display_data"
    }
   ],
   "source": [
    "sns.lmplot(x='body', y='brain', data=mammals, ci=None, col='universe', order=2);\n",
    "plt.xlim(-10, 200);\n",
    "plt.ylim(-10, 250);"
   ]
  },
  {
   "cell_type": "markdown",
   "metadata": {},
   "source": [
    "This seems better. In both the left and right plots, **it fits the data well, but not too well**.\n",
    "\n",
    "This is the essence of the **bias-variance trade-off**: You are seeking a model that appropriately balances bias and variance and thus will generalize to new data (known as \"out-of-sample\" data)."
   ]
  },
  {
   "cell_type": "markdown",
   "metadata": {},
   "source": [
    "We want a model that best balances bias and variance. It\n",
    "should match our training data well (moderate bias) yet be low variance for out-of-sample data (moderate variance)."
   ]
  },
  {
   "cell_type": "markdown",
   "metadata": {},
   "source": [
    "- Training error as a function of\n",
    "complexity.\n",
    "- Question: Why do we even\n",
    "care about variance if we\n",
    "know we can generate a\n",
    "more accurate model with\n",
    "higher complexity?"
   ]
  },
  {
   "cell_type": "markdown",
   "metadata": {},
   "source": [
    "### Can we obtain a zero-bias, zero-variance model?\n",
    "\n",
    "No! If there is any noise in the data-generating process, then a zero-variance model would not be learning from the data. Additionally, a model only has zero bias if the true relationship between the target and the features is hard-coded into it. If that were the case, you wouldn't be doing machine learning -- it would be similar to trying to predict today's temperature by using today's temperature!"
   ]
  },
  {
   "cell_type": "markdown",
   "metadata": {},
   "source": [
    "---\n",
    "\n",
    "<a id=\"train-test-split\"></a>\n",
    "## Train-test-split"
   ]
  },
  {
   "cell_type": "markdown",
   "metadata": {},
   "source": [
    "For the rest of the lab, we will look at three evaluation procedures for predicting model out-of-sample accuracy:\n",
    "\n",
    "1. **Train on the entire dataset** should never be done to estimate model accuracy on out-of-sample data! After all, training error can be made arbitrarily small or large. You might train on the entire dataset as the very last step when a model is chosen, hoping to make the final model as accurate as possible. Or, you could use this to estimate the degree of overfitting.\n",
    "2. **Train-test-split** is useful if cross-validation is not practical (e.g. it takes too long to train). It is also useful for computing a quick confusion matrix. You could also use this as a final step after the model is finalized (often called evaluating the model against a **validation set**).\n",
    "3. **Cross-validation** is the gold standard for estimating accuracy and comparing accuracy across models.\n",
    "4. **Three-way split** combines cross-validation and the train-test-split. It takes an initial split to be used as a final validation set, then uses cross-validation on the rest."
   ]
  },
  {
   "cell_type": "markdown",
   "metadata": {},
   "source": [
    "We run into a problem when powerful models can perfectly fit the data on which they are trained. These models are **low bias** and **high variance**. However, we can't observe the variance of a model directly, because we only know how it fits the data we have rather than all potential samples.\n",
    "\n",
    "**Solution:** Create a procedure that **estimates** how well a model is likely to perform on out-of-sample data and use that to choose between models.\n",
    "\n",
    "- Before, we have been splitting the data into a **single training group** and a **single test group**.\n",
    "\n",
    "- Now, to estimate how well the model is likely to perform on out-of-sample data, we will create **many training groups** and **many test groups** then fit **many models**.\n",
    "\n",
    "**Note:** These procedures can be used with **any machine learning model**.\n"
   ]
  },
  {
   "cell_type": "markdown",
   "metadata": {},
   "source": [
    "**The Holdout Method: Train/Test Split**\n",
    "- **Training set**: Used to train the classifier.\n",
    "- **Testing set**: Used to estimate the error rate of the trained classifier.\n",
    "- **Advantages**: Fast, simple, computationally inexpensive.\n",
    "- **Disadvantages** Eliminates data, imperfectly splits."
   ]
  },
  {
   "cell_type": "markdown",
   "metadata": {},
   "source": [
    "<a id=\"evaluation-procedure--train-and-test-on-the-entire-dataset-do-not-do-this\"></a>\n",
    "### Evaluation Procedure #1: Train and Test on the Entire Data Set (Do Not Do This)"
   ]
  },
  {
   "cell_type": "markdown",
   "metadata": {},
   "source": [
    "1. Train the model on the **entire data set**.\n",
    "2. Test the model on the **same data set** and evaluate how well we did by comparing the **predicted** response values with the **true** response values."
   ]
  },
  {
   "cell_type": "markdown",
   "metadata": {},
   "source": [
    "#### Load in the Boston data."
   ]
  },
  {
   "cell_type": "code",
<<<<<<< HEAD
   "execution_count": 17,
=======
   "execution_count": 13,
>>>>>>> b77de3c7a5bc57e40718741a1ab40453e4338a78
   "metadata": {},
   "outputs": [],
   "source": [
    "import pandas as pd\n",
    "import numpy as np\n",
    "from sklearn.datasets import load_boston\n",
    "\n",
    "boston = load_boston()"
   ]
  },
  {
   "cell_type": "code",
<<<<<<< HEAD
   "execution_count": 18,
=======
   "execution_count": 14,
>>>>>>> b77de3c7a5bc57e40718741a1ab40453e4338a78
   "metadata": {},
   "outputs": [
    {
     "name": "stdout",
     "output_type": "stream",
     "text": [
<<<<<<< HEAD
      ".. _boston_dataset:\n",
      "\n",
      "Boston house prices dataset\n",
      "---------------------------\n",
      "\n",
      "**Data Set Characteristics:**  \n",
      "\n",
      "    :Number of Instances: 506 \n",
      "\n",
      "    :Number of Attributes: 13 numeric/categorical predictive. Median Value (attribute 14) is usually the target.\n",
=======
      "Boston House Prices dataset\n",
      "===========================\n",
      "\n",
      "Notes\n",
      "------\n",
      "Data Set Characteristics:  \n",
      "\n",
      "    :Number of Instances: 506 \n",
      "\n",
      "    :Number of Attributes: 13 numeric/categorical predictive\n",
      "    \n",
      "    :Median Value (attribute 14) is usually the target\n",
>>>>>>> b77de3c7a5bc57e40718741a1ab40453e4338a78
      "\n",
      "    :Attribute Information (in order):\n",
      "        - CRIM     per capita crime rate by town\n",
      "        - ZN       proportion of residential land zoned for lots over 25,000 sq.ft.\n",
      "        - INDUS    proportion of non-retail business acres per town\n",
      "        - CHAS     Charles River dummy variable (= 1 if tract bounds river; 0 otherwise)\n",
      "        - NOX      nitric oxides concentration (parts per 10 million)\n",
      "        - RM       average number of rooms per dwelling\n",
      "        - AGE      proportion of owner-occupied units built prior to 1940\n",
      "        - DIS      weighted distances to five Boston employment centres\n",
      "        - RAD      index of accessibility to radial highways\n",
      "        - TAX      full-value property-tax rate per $10,000\n",
      "        - PTRATIO  pupil-teacher ratio by town\n",
      "        - B        1000(Bk - 0.63)^2 where Bk is the proportion of blacks by town\n",
      "        - LSTAT    % lower status of the population\n",
      "        - MEDV     Median value of owner-occupied homes in $1000's\n",
      "\n",
      "    :Missing Attribute Values: None\n",
      "\n",
      "    :Creator: Harrison, D. and Rubinfeld, D.L.\n",
      "\n",
      "This is a copy of UCI ML housing dataset.\n",
<<<<<<< HEAD
      "https://archive.ics.uci.edu/ml/machine-learning-databases/housing/\n",
=======
      "http://archive.ics.uci.edu/ml/datasets/Housing\n",
>>>>>>> b77de3c7a5bc57e40718741a1ab40453e4338a78
      "\n",
      "\n",
      "This dataset was taken from the StatLib library which is maintained at Carnegie Mellon University.\n",
      "\n",
      "The Boston house-price data of Harrison, D. and Rubinfeld, D.L. 'Hedonic\n",
      "prices and the demand for clean air', J. Environ. Economics & Management,\n",
      "vol.5, 81-102, 1978.   Used in Belsley, Kuh & Welsch, 'Regression diagnostics\n",
      "...', Wiley, 1980.   N.B. Various transformations are used in the table on\n",
      "pages 244-261 of the latter.\n",
      "\n",
      "The Boston house-price data has been used in many machine learning papers that address regression\n",
      "problems.   \n",
      "     \n",
<<<<<<< HEAD
      ".. topic:: References\n",
      "\n",
      "   - Belsley, Kuh & Welsch, 'Regression diagnostics: Identifying Influential Data and Sources of Collinearity', Wiley, 1980. 244-261.\n",
      "   - Quinlan,R. (1993). Combining Instance-Based and Model-Based Learning. In Proceedings on the Tenth International Conference of Machine Learning, 236-243, University of Massachusetts, Amherst. Morgan Kaufmann.\n",
=======
      "**References**\n",
      "\n",
      "   - Belsley, Kuh & Welsch, 'Regression diagnostics: Identifying Influential Data and Sources of Collinearity', Wiley, 1980. 244-261.\n",
      "   - Quinlan,R. (1993). Combining Instance-Based and Model-Based Learning. In Proceedings on the Tenth International Conference of Machine Learning, 236-243, University of Massachusetts, Amherst. Morgan Kaufmann.\n",
      "   - many more! (see http://archive.ics.uci.edu/ml/datasets/Housing)\n",
>>>>>>> b77de3c7a5bc57e40718741a1ab40453e4338a78
      "\n"
     ]
    }
   ],
   "source": [
    "print(boston.DESCR)"
   ]
  },
  {
   "cell_type": "markdown",
   "metadata": {},
   "source": [
    "#### Create X and y variable to stores the feature matrix and response from the Boston data."
   ]
  },
  {
   "cell_type": "code",
<<<<<<< HEAD
   "execution_count": 19,
=======
   "execution_count": 15,
>>>>>>> b77de3c7a5bc57e40718741a1ab40453e4338a78
   "metadata": {},
   "outputs": [],
   "source": [
    "# Create a DataFrame for both parts of data; don't forget to assign column names.\n",
    "X = pd.DataFrame(boston.data, columns=boston.feature_names)\n",
    "y = pd.DataFrame(boston.target, columns=['MEDV'])"
   ]
  },
  {
   "cell_type": "markdown",
   "metadata": {},
   "source": [
    "#### Concatenate y and X, then overwrite the Boston variable."
   ]
  },
  {
   "cell_type": "code",
<<<<<<< HEAD
   "execution_count": 20,
=======
   "execution_count": 16,
>>>>>>> b77de3c7a5bc57e40718741a1ab40453e4338a78
   "metadata": {},
   "outputs": [],
   "source": [
    "boston = pd.concat([y, X], axis=1)"
   ]
  },
  {
   "cell_type": "markdown",
   "metadata": {},
   "source": [
    "#### Perform basic EDA to make sure the data are in order."
   ]
  },
  {
   "cell_type": "code",
<<<<<<< HEAD
   "execution_count": 21,
=======
   "execution_count": 17,
>>>>>>> b77de3c7a5bc57e40718741a1ab40453e4338a78
   "metadata": {},
   "outputs": [
    {
     "data": {
      "text/plain": [
       "MEDV       0\n",
       "CRIM       0\n",
       "ZN         0\n",
       "INDUS      0\n",
       "CHAS       0\n",
       "NOX        0\n",
       "RM         0\n",
       "AGE        0\n",
       "DIS        0\n",
       "RAD        0\n",
       "TAX        0\n",
       "PTRATIO    0\n",
       "B          0\n",
       "LSTAT      0\n",
       "dtype: int64"
      ]
     },
<<<<<<< HEAD
     "execution_count": 21,
=======
     "execution_count": 17,
>>>>>>> b77de3c7a5bc57e40718741a1ab40453e4338a78
     "metadata": {},
     "output_type": "execute_result"
    }
   ],
   "source": [
    "boston.isnull().sum()"
   ]
  },
  {
   "cell_type": "code",
<<<<<<< HEAD
   "execution_count": 22,
=======
   "execution_count": 18,
>>>>>>> b77de3c7a5bc57e40718741a1ab40453e4338a78
   "metadata": {},
   "outputs": [
    {
     "data": {
      "text/plain": [
       "MEDV       float64\n",
       "CRIM       float64\n",
       "ZN         float64\n",
       "INDUS      float64\n",
       "CHAS       float64\n",
       "NOX        float64\n",
       "RM         float64\n",
       "AGE        float64\n",
       "DIS        float64\n",
       "RAD        float64\n",
       "TAX        float64\n",
       "PTRATIO    float64\n",
       "B          float64\n",
       "LSTAT      float64\n",
       "dtype: object"
      ]
     },
<<<<<<< HEAD
     "execution_count": 22,
=======
     "execution_count": 18,
>>>>>>> b77de3c7a5bc57e40718741a1ab40453e4338a78
     "metadata": {},
     "output_type": "execute_result"
    }
   ],
   "source": [
    "boston.dtypes"
   ]
  },
  {
   "cell_type": "code",
<<<<<<< HEAD
   "execution_count": 23,
=======
   "execution_count": 19,
>>>>>>> b77de3c7a5bc57e40718741a1ab40453e4338a78
   "metadata": {},
   "outputs": [
    {
     "data": {
      "text/html": [
       "<div>\n",
       "<style scoped>\n",
       "    .dataframe tbody tr th:only-of-type {\n",
       "        vertical-align: middle;\n",
       "    }\n",
       "\n",
       "    .dataframe tbody tr th {\n",
       "        vertical-align: top;\n",
       "    }\n",
       "\n",
       "    .dataframe thead th {\n",
       "        text-align: right;\n",
       "    }\n",
       "</style>\n",
       "<table border=\"1\" class=\"dataframe\">\n",
       "  <thead>\n",
       "    <tr style=\"text-align: right;\">\n",
       "      <th></th>\n",
       "      <th>MEDV</th>\n",
       "      <th>CRIM</th>\n",
       "      <th>ZN</th>\n",
       "      <th>INDUS</th>\n",
       "      <th>CHAS</th>\n",
       "      <th>NOX</th>\n",
       "      <th>RM</th>\n",
       "      <th>AGE</th>\n",
       "      <th>DIS</th>\n",
       "      <th>RAD</th>\n",
       "      <th>TAX</th>\n",
       "      <th>PTRATIO</th>\n",
       "      <th>B</th>\n",
       "      <th>LSTAT</th>\n",
       "    </tr>\n",
       "  </thead>\n",
       "  <tbody>\n",
       "    <tr>\n",
       "      <th>count</th>\n",
       "      <td>506.000000</td>\n",
       "      <td>506.000000</td>\n",
       "      <td>506.000000</td>\n",
       "      <td>506.000000</td>\n",
       "      <td>506.000000</td>\n",
       "      <td>506.000000</td>\n",
       "      <td>506.000000</td>\n",
       "      <td>506.000000</td>\n",
       "      <td>506.000000</td>\n",
       "      <td>506.000000</td>\n",
       "      <td>506.000000</td>\n",
       "      <td>506.000000</td>\n",
       "      <td>506.000000</td>\n",
       "      <td>506.000000</td>\n",
       "    </tr>\n",
       "    <tr>\n",
       "      <th>mean</th>\n",
       "      <td>22.532806</td>\n",
<<<<<<< HEAD
       "      <td>3.613524</td>\n",
=======
       "      <td>3.593761</td>\n",
>>>>>>> b77de3c7a5bc57e40718741a1ab40453e4338a78
       "      <td>11.363636</td>\n",
       "      <td>11.136779</td>\n",
       "      <td>0.069170</td>\n",
       "      <td>0.554695</td>\n",
       "      <td>6.284634</td>\n",
       "      <td>68.574901</td>\n",
       "      <td>3.795043</td>\n",
       "      <td>9.549407</td>\n",
       "      <td>408.237154</td>\n",
       "      <td>18.455534</td>\n",
       "      <td>356.674032</td>\n",
       "      <td>12.653063</td>\n",
       "    </tr>\n",
       "    <tr>\n",
       "      <th>std</th>\n",
       "      <td>9.197104</td>\n",
<<<<<<< HEAD
       "      <td>8.601545</td>\n",
=======
       "      <td>8.596783</td>\n",
>>>>>>> b77de3c7a5bc57e40718741a1ab40453e4338a78
       "      <td>23.322453</td>\n",
       "      <td>6.860353</td>\n",
       "      <td>0.253994</td>\n",
       "      <td>0.115878</td>\n",
       "      <td>0.702617</td>\n",
       "      <td>28.148861</td>\n",
       "      <td>2.105710</td>\n",
       "      <td>8.707259</td>\n",
       "      <td>168.537116</td>\n",
       "      <td>2.164946</td>\n",
       "      <td>91.294864</td>\n",
       "      <td>7.141062</td>\n",
       "    </tr>\n",
       "    <tr>\n",
       "      <th>min</th>\n",
       "      <td>5.000000</td>\n",
       "      <td>0.006320</td>\n",
       "      <td>0.000000</td>\n",
       "      <td>0.460000</td>\n",
       "      <td>0.000000</td>\n",
       "      <td>0.385000</td>\n",
       "      <td>3.561000</td>\n",
       "      <td>2.900000</td>\n",
       "      <td>1.129600</td>\n",
       "      <td>1.000000</td>\n",
       "      <td>187.000000</td>\n",
       "      <td>12.600000</td>\n",
       "      <td>0.320000</td>\n",
       "      <td>1.730000</td>\n",
       "    </tr>\n",
       "    <tr>\n",
       "      <th>25%</th>\n",
       "      <td>17.025000</td>\n",
       "      <td>0.082045</td>\n",
       "      <td>0.000000</td>\n",
       "      <td>5.190000</td>\n",
       "      <td>0.000000</td>\n",
       "      <td>0.449000</td>\n",
       "      <td>5.885500</td>\n",
       "      <td>45.025000</td>\n",
       "      <td>2.100175</td>\n",
       "      <td>4.000000</td>\n",
       "      <td>279.000000</td>\n",
       "      <td>17.400000</td>\n",
       "      <td>375.377500</td>\n",
       "      <td>6.950000</td>\n",
       "    </tr>\n",
       "    <tr>\n",
       "      <th>50%</th>\n",
       "      <td>21.200000</td>\n",
       "      <td>0.256510</td>\n",
       "      <td>0.000000</td>\n",
       "      <td>9.690000</td>\n",
       "      <td>0.000000</td>\n",
       "      <td>0.538000</td>\n",
       "      <td>6.208500</td>\n",
       "      <td>77.500000</td>\n",
       "      <td>3.207450</td>\n",
       "      <td>5.000000</td>\n",
       "      <td>330.000000</td>\n",
       "      <td>19.050000</td>\n",
       "      <td>391.440000</td>\n",
       "      <td>11.360000</td>\n",
       "    </tr>\n",
       "    <tr>\n",
       "      <th>75%</th>\n",
       "      <td>25.000000</td>\n",
<<<<<<< HEAD
       "      <td>3.677083</td>\n",
=======
       "      <td>3.647423</td>\n",
>>>>>>> b77de3c7a5bc57e40718741a1ab40453e4338a78
       "      <td>12.500000</td>\n",
       "      <td>18.100000</td>\n",
       "      <td>0.000000</td>\n",
       "      <td>0.624000</td>\n",
       "      <td>6.623500</td>\n",
       "      <td>94.075000</td>\n",
       "      <td>5.188425</td>\n",
       "      <td>24.000000</td>\n",
       "      <td>666.000000</td>\n",
       "      <td>20.200000</td>\n",
       "      <td>396.225000</td>\n",
       "      <td>16.955000</td>\n",
       "    </tr>\n",
       "    <tr>\n",
       "      <th>max</th>\n",
       "      <td>50.000000</td>\n",
       "      <td>88.976200</td>\n",
       "      <td>100.000000</td>\n",
       "      <td>27.740000</td>\n",
       "      <td>1.000000</td>\n",
       "      <td>0.871000</td>\n",
       "      <td>8.780000</td>\n",
       "      <td>100.000000</td>\n",
       "      <td>12.126500</td>\n",
       "      <td>24.000000</td>\n",
       "      <td>711.000000</td>\n",
       "      <td>22.000000</td>\n",
       "      <td>396.900000</td>\n",
       "      <td>37.970000</td>\n",
       "    </tr>\n",
       "  </tbody>\n",
       "</table>\n",
       "</div>"
      ],
      "text/plain": [
       "             MEDV        CRIM          ZN       INDUS        CHAS         NOX  \\\n",
       "count  506.000000  506.000000  506.000000  506.000000  506.000000  506.000000   \n",
<<<<<<< HEAD
       "mean    22.532806    3.613524   11.363636   11.136779    0.069170    0.554695   \n",
       "std      9.197104    8.601545   23.322453    6.860353    0.253994    0.115878   \n",
       "min      5.000000    0.006320    0.000000    0.460000    0.000000    0.385000   \n",
       "25%     17.025000    0.082045    0.000000    5.190000    0.000000    0.449000   \n",
       "50%     21.200000    0.256510    0.000000    9.690000    0.000000    0.538000   \n",
       "75%     25.000000    3.677083   12.500000   18.100000    0.000000    0.624000   \n",
=======
       "mean    22.532806    3.593761   11.363636   11.136779    0.069170    0.554695   \n",
       "std      9.197104    8.596783   23.322453    6.860353    0.253994    0.115878   \n",
       "min      5.000000    0.006320    0.000000    0.460000    0.000000    0.385000   \n",
       "25%     17.025000    0.082045    0.000000    5.190000    0.000000    0.449000   \n",
       "50%     21.200000    0.256510    0.000000    9.690000    0.000000    0.538000   \n",
       "75%     25.000000    3.647423   12.500000   18.100000    0.000000    0.624000   \n",
>>>>>>> b77de3c7a5bc57e40718741a1ab40453e4338a78
       "max     50.000000   88.976200  100.000000   27.740000    1.000000    0.871000   \n",
       "\n",
       "               RM         AGE         DIS         RAD         TAX     PTRATIO  \\\n",
       "count  506.000000  506.000000  506.000000  506.000000  506.000000  506.000000   \n",
       "mean     6.284634   68.574901    3.795043    9.549407  408.237154   18.455534   \n",
       "std      0.702617   28.148861    2.105710    8.707259  168.537116    2.164946   \n",
       "min      3.561000    2.900000    1.129600    1.000000  187.000000   12.600000   \n",
       "25%      5.885500   45.025000    2.100175    4.000000  279.000000   17.400000   \n",
       "50%      6.208500   77.500000    3.207450    5.000000  330.000000   19.050000   \n",
       "75%      6.623500   94.075000    5.188425   24.000000  666.000000   20.200000   \n",
       "max      8.780000  100.000000   12.126500   24.000000  711.000000   22.000000   \n",
       "\n",
       "                B       LSTAT  \n",
       "count  506.000000  506.000000  \n",
       "mean   356.674032   12.653063  \n",
       "std     91.294864    7.141062  \n",
       "min      0.320000    1.730000  \n",
       "25%    375.377500    6.950000  \n",
       "50%    391.440000   11.360000  \n",
       "75%    396.225000   16.955000  \n",
       "max    396.900000   37.970000  "
      ]
     },
<<<<<<< HEAD
     "execution_count": 23,
=======
     "execution_count": 19,
>>>>>>> b77de3c7a5bc57e40718741a1ab40453e4338a78
     "metadata": {},
     "output_type": "execute_result"
    }
   ],
   "source": [
    "boston.describe()"
   ]
  },
  {
   "cell_type": "markdown",
   "metadata": {},
   "source": [
    "#### Prepare a feature matrix (X) and response (y)  for scikit-learn."
   ]
  },
  {
   "cell_type": "code",
<<<<<<< HEAD
   "execution_count": 24,
=======
   "execution_count": 20,
>>>>>>> b77de3c7a5bc57e40718741a1ab40453e4338a78
   "metadata": {},
   "outputs": [],
   "source": [
    "# create feature matrix (X)\n",
    "feature_cols = boston.columns.drop(['MEDV'])\n",
    "X = boston[feature_cols]\n",
    "\n",
    "# create response vector (y)\n",
    "y = boston.MEDV"
   ]
  },
  {
   "cell_type": "markdown",
   "metadata": {},
   "source": [
    "#### Import linear regression, instantiate, fit, and preview predictions."
   ]
  },
  {
   "cell_type": "code",
<<<<<<< HEAD
   "execution_count": 25,
=======
   "execution_count": 21,
>>>>>>> b77de3c7a5bc57e40718741a1ab40453e4338a78
   "metadata": {},
   "outputs": [
    {
     "data": {
      "text/plain": [
<<<<<<< HEAD
       "array([30.00384338, 25.02556238, 30.56759672, 28.60703649, 27.94352423,\n",
       "       25.25628446, 23.00180827, 19.53598843, 11.52363685, 18.92026211,\n",
       "       18.99949651, 21.58679568, 20.90652153, 19.55290281, 19.28348205,\n",
       "       19.29748321, 20.52750979, 16.91140135, 16.17801106, 18.40613603,\n",
       "       12.52385753, 17.67103669, 15.83288129, 13.80628535, 15.67833832,\n",
       "       13.38668561, 15.46397655, 14.70847428, 19.54737285, 20.8764282 ,\n",
       "       11.45511759, 18.05923295,  8.81105736, 14.28275814, 13.70675891,\n",
       "       23.81463526, 22.34193708, 23.10891142, 22.91502612, 31.35762569,\n",
       "       34.21510225, 28.02056414, 25.20386628, 24.60979273, 22.94149176,\n",
       "       22.09669817, 20.42320032, 18.03655088,  9.10655377, 17.20607751,\n",
       "       21.28152535, 23.97222285, 27.6558508 , 24.04901809, 15.3618477 ,\n",
       "       31.15264947, 24.85686978, 33.10919806, 21.77537987, 21.08493555,\n",
       "       17.8725804 , 18.51110208, 23.98742856, 22.55408869, 23.37308644,\n",
       "       30.36148358, 25.53056512, 21.11338564, 17.42153786, 20.78483633,\n",
       "       25.20148859, 21.7426577 , 24.55744957, 24.04295712, 25.50499716,\n",
       "       23.9669302 , 22.94545403, 23.35699818, 21.26198266, 22.42817373,\n",
       "       28.40576968, 26.99486086, 26.03576297, 25.05873482, 24.78456674,\n",
       "       27.79049195, 22.16853423, 25.89276415, 30.67461827, 30.83110623,\n",
       "       27.1190194 , 27.41266734, 28.94122762, 29.08105546, 27.03977365,\n",
       "       28.62459949, 24.72744978, 35.78159518, 35.11454587, 32.25102801,\n",
       "       24.58022019, 25.59413475, 19.79013684, 20.31167129, 21.43482591,\n",
       "       18.53994008, 17.18755992, 20.75049026, 22.64829115, 19.7720367 ,\n",
       "       20.64965864, 26.52586744, 20.77323638, 20.71548315, 25.17208881,\n",
       "       20.43025591, 23.37724626, 23.69043261, 20.33578364, 20.79180873,\n",
       "       21.91632071, 22.47107777, 20.55738556, 16.36661977, 20.56099819,\n",
       "       22.48178446, 14.61706633, 15.17876684, 18.93868592, 14.05573285,\n",
       "       20.03527399, 19.41013402, 20.06191566, 15.75807673, 13.25645238,\n",
       "       17.26277735, 15.87841883, 19.36163954, 13.81483897, 16.44881475,\n",
       "       13.57141932,  3.98885508, 14.59495478, 12.1488148 ,  8.72822362,\n",
       "       12.03585343, 15.82082058,  8.5149902 ,  9.71844139, 14.80451374,\n",
       "       20.83858153, 18.30101169, 20.12282558, 17.28601894, 22.36600228,\n",
       "       20.10375923, 13.62125891, 33.25982697, 29.03017268, 25.56752769,\n",
       "       32.70827666, 36.77467015, 40.55765844, 41.84728168, 24.78867379,\n",
       "       25.37889238, 37.20347455, 23.08748747, 26.40273955, 26.65382114,\n",
       "       22.5551466 , 24.29082812, 22.97657219, 29.07194308, 26.5219434 ,\n",
       "       30.72209056, 25.61669307, 29.13740979, 31.43571968, 32.92231568,\n",
       "       34.72440464, 27.76552111, 33.88787321, 30.99238036, 22.71820008,\n",
       "       24.7664781 , 35.88497226, 33.42476722, 32.41199147, 34.51509949,\n",
       "       30.76109485, 30.28934141, 32.91918714, 32.11260771, 31.55871004,\n",
       "       40.84555721, 36.12770079, 32.6692081 , 34.70469116, 30.09345162,\n",
       "       30.64393906, 29.28719501, 37.07148392, 42.03193124, 43.18949844,\n",
       "       22.69034796, 23.68284712, 17.85447214, 23.49428992, 17.00587718,\n",
       "       22.39251096, 17.06042754, 22.73892921, 25.21942554, 11.11916737,\n",
       "       24.51049148, 26.60334775, 28.35518713, 24.91525464, 29.68652768,\n",
       "       33.18419746, 23.77456656, 32.14051958, 29.7458199 , 38.37102453,\n",
       "       39.81461867, 37.58605755, 32.3995325 , 35.45665242, 31.23411512,\n",
       "       24.48449227, 33.28837292, 38.0481048 , 37.16328631, 31.71383523,\n",
       "       25.26705571, 30.10010745, 32.71987156, 28.42717057, 28.42940678,\n",
       "       27.29375938, 23.74262478, 24.12007891, 27.40208414, 16.3285756 ,\n",
       "       13.39891261, 20.01638775, 19.86184428, 21.2883131 , 24.0798915 ,\n",
       "       24.20633547, 25.04215821, 24.91964007, 29.94563374, 23.97228316,\n",
       "       21.69580887, 37.51109239, 43.30239043, 36.48361421, 34.98988594,\n",
       "       34.81211508, 37.16631331, 40.98928501, 34.44634089, 35.83397547,\n",
       "       28.245743  , 31.22673593, 40.8395575 , 39.31792393, 25.70817905,\n",
       "       22.30295533, 27.20340972, 28.51169472, 35.47676598, 36.10639164,\n",
       "       33.79668274, 35.61085858, 34.83993382, 30.35192656, 35.30980701,\n",
       "       38.79756966, 34.33123186, 40.33963075, 44.67308339, 31.59689086,\n",
       "       27.3565923 , 20.10174154, 27.04206674, 27.2136458 , 26.91395839,\n",
       "       33.43563311, 34.40349633, 31.8333982 , 25.81783237, 24.42982348,\n",
       "       28.45764337, 27.36266999, 19.53928758, 29.11309844, 31.91054611,\n",
       "       30.77159449, 28.94275871, 28.88191022, 32.79887232, 33.20905456,\n",
       "       30.76831792, 35.56226857, 32.70905124, 28.64244237, 23.58965827,\n",
       "       18.54266897, 26.87889843, 23.28133979, 25.54580246, 25.48120057,\n",
       "       20.53909901, 17.61572573, 18.37581686, 24.29070277, 21.32529039,\n",
       "       24.88682244, 24.86937282, 22.86952447, 19.45123791, 25.11783401,\n",
       "       24.66786913, 23.68076177, 19.34089616, 21.17418105, 24.25249073,\n",
       "       21.59260894, 19.98446605, 23.33888   , 22.14060692, 21.55509929,\n",
       "       20.61872907, 20.16097176, 19.28490387, 22.1667232 , 21.24965774,\n",
       "       21.42939305, 30.32788796, 22.04734975, 27.70647912, 28.54794117,\n",
       "       16.54501121, 14.78359641, 25.27380082, 27.54205117, 22.14837562,\n",
       "       20.45944095, 20.54605423, 16.88063827, 25.40253506, 14.32486632,\n",
       "       16.59488462, 19.63704691, 22.71806607, 22.20218887, 19.20548057,\n",
       "       22.66616105, 18.93192618, 18.22846804, 20.23150811, 37.4944739 ,\n",
       "       14.28190734, 15.54286248, 10.83162324, 23.80072902, 32.6440736 ,\n",
       "       34.60684042, 24.94331333, 25.9998091 ,  6.126325  ,  0.77779806,\n",
       "       25.30713064, 17.74061065, 20.23274414, 15.83331301, 16.83512587,\n",
       "       14.36994825, 18.47682833, 13.4276828 , 13.06177512,  3.27918116,\n",
       "        8.06022171,  6.12842196,  5.6186481 ,  6.4519857 , 14.20764735,\n",
       "       17.21225183, 17.29887265,  9.89116643, 20.22124193, 17.94181175,\n",
       "       20.30445783, 19.29559075, 16.33632779,  6.55162319, 10.89016778,\n",
       "       11.88145871, 17.81174507, 18.26126587, 12.97948781,  7.37816361,\n",
       "        8.21115861,  8.06626193, 19.98294786, 13.70756369, 19.85268454,\n",
       "       15.22308298, 16.96071981,  1.71851807, 11.80578387, -4.28131071,\n",
       "        9.58376737, 13.36660811,  6.89562363,  6.14779852, 14.60661794,\n",
       "       19.6000267 , 18.12427476, 18.52177132, 13.1752861 , 14.62617624,\n",
       "        9.92374976, 16.34590647, 14.07519426, 14.25756243, 13.04234787,\n",
       "       18.15955693, 18.69554354, 21.527283  , 17.03141861, 15.96090435,\n",
       "       13.36141611, 14.52079384,  8.81976005,  4.86751102, 13.06591313,\n",
       "       12.70609699, 17.29558059, 18.740485  , 18.05901029, 11.51474683,\n",
       "       11.97400359, 17.68344618, 18.12695239, 17.5183465 , 17.22742507,\n",
       "       16.52271631, 19.41291095, 18.58215236, 22.48944791, 15.28000133,\n",
       "       15.82089335, 12.68725581, 12.8763379 , 17.18668531, 18.51247609,\n",
       "       19.04860533, 20.17208927, 19.7740732 , 22.42940768, 20.31911854,\n",
       "       17.88616253, 14.37478523, 16.94776851, 16.98405762, 18.58838397,\n",
       "       20.16719441, 22.97718032, 22.45580726, 25.57824627, 16.39147632,\n",
       "       16.1114628 , 20.534816  , 11.54272738, 19.20496304, 21.86276391,\n",
       "       23.46878866, 27.09887315, 28.56994302, 21.08398783, 19.45516196,\n",
       "       22.22225914, 19.65591961, 21.32536104, 11.85583717,  8.22386687,\n",
       "        3.66399672, 13.75908538, 15.93118545, 20.62662054, 20.61249414,\n",
       "       16.88541964, 14.01320787, 19.10854144, 21.29805174, 18.45498841,\n",
       "       20.46870847, 23.53334055, 22.37571892, 27.6274261 , 26.12796681,\n",
       "       22.34421229])"
      ]
     },
     "execution_count": 25,
=======
       "array([30.00821269, 25.0298606 , 30.5702317 , 28.60814055, 27.94288232,\n",
       "       25.25940048, 23.00433994, 19.5347558 , 11.51696539, 18.91981483,\n",
       "       18.9958266 , 21.58970854, 20.90534851, 19.55535931, 19.2837957 ,\n",
       "       19.30000174, 20.52889993, 16.9096749 , 16.17067411, 18.40781636,\n",
       "       12.52040454, 17.67104565, 15.82934891, 13.80368317, 15.67708138,\n",
       "       13.3791645 , 15.46258829, 14.69863607, 19.54518512, 20.87309945,\n",
       "       11.44806825, 18.05900412,  8.78841666, 14.27882319, 13.69097132,\n",
       "       23.81755469, 22.34216285, 23.11123204, 22.91494157, 31.35826216,\n",
       "       34.21485385, 28.0207132 , 25.20646572, 24.61192851, 22.94438953,\n",
       "       22.10150945, 20.42467417, 18.03614022,  9.10176198, 17.20856571,\n",
       "       21.28259372, 23.97621248, 27.65853521, 24.0521088 , 15.35989132,\n",
       "       31.14817003, 24.85878746, 33.11017111, 21.77458036, 21.08526739,\n",
       "       17.87203538, 18.50881381, 23.9879809 , 22.54944098, 23.37068403,\n",
       "       30.36557584, 25.53407332, 21.11758504, 17.42468223, 20.7893086 ,\n",
       "       25.20349174, 21.74490595, 24.56275612, 24.04479519, 25.5091157 ,\n",
       "       23.97076758, 22.94823519, 23.36106095, 21.26432549, 22.4345376 ,\n",
       "       28.40699937, 26.99734716, 26.03807246, 25.06152125, 24.7858613 ,\n",
       "       27.79291889, 22.16927073, 25.89685664, 30.67771522, 30.83225886,\n",
       "       27.12127354, 27.41597825, 28.9456478 , 29.08668003, 27.04501726,\n",
       "       28.62506705, 24.73038218, 35.78062378, 35.11269515, 32.25115468,\n",
       "       24.57946786, 25.59386215, 19.76439137, 20.31157117, 21.4353635 ,\n",
       "       18.53971968, 17.18572611, 20.74934949, 22.64791346, 19.77000977,\n",
       "       20.64745349, 26.52652691, 20.77440554, 20.71546432, 25.17461484,\n",
       "       20.4273652 , 23.37862521, 23.69454145, 20.33202239, 20.79378139,\n",
       "       21.92024414, 22.47432006, 20.55884635, 16.36300764, 20.56342111,\n",
       "       22.48570454, 14.61264839, 15.1802607 , 18.93828443, 14.0574955 ,\n",
       "       20.03651959, 19.41306288, 20.06401034, 15.76005772, 13.24771577,\n",
       "       17.26167729, 15.87759672, 19.36145104, 13.81270814, 16.44782934,\n",
       "       13.56511101,  3.98343974, 14.59241207, 12.14503093,  8.72407108,\n",
       "       12.00815659, 15.80308586,  8.50963929,  9.70965512, 14.79848067,\n",
       "       20.83598096, 18.30017013, 20.12575267, 17.27585681, 22.35997992,\n",
       "       20.07985184, 13.59903744, 33.26635221, 29.03938379, 25.56694529,\n",
       "       32.71732164, 36.78111388, 40.56615533, 41.85122271, 24.79875684,\n",
       "       25.3771545 , 37.20662185, 23.08244608, 26.40326834, 26.65647433,\n",
       "       22.55412919, 24.2970948 , 22.98024802, 29.07488389, 26.52620066,\n",
       "       30.72351225, 25.61835359, 29.14203283, 31.43690634, 32.9232938 ,\n",
       "       34.72096487, 27.76792733, 33.88992899, 30.99725805, 22.72124288,\n",
       "       24.76567683, 35.88131719, 33.42696242, 32.41513625, 34.51611818,\n",
       "       30.76057666, 30.29169893, 32.92040221, 32.11459912, 31.56133385,\n",
       "       40.84274603, 36.13046343, 32.66639271, 34.70558647, 30.09276228,\n",
       "       30.64139724, 29.29189704, 37.07062623, 42.02879611, 43.18582722,\n",
       "       22.6923888 , 23.68420569, 17.85435295, 23.49543857, 17.00872418,\n",
       "       22.39535066, 17.06152243, 22.74106824, 25.21974252, 11.10601161,\n",
       "       24.51300617, 26.60749026, 28.35802444, 24.91860458, 29.69254951,\n",
       "       33.18492755, 23.77145523, 32.14086508, 29.74802362, 38.36605632,\n",
       "       39.80716458, 37.58362546, 32.39769704, 35.45048257, 31.23446481,\n",
       "       24.48478321, 33.28615723, 38.04368164, 37.15737267, 31.71297469,\n",
       "       25.26658017, 30.101515  , 32.71897655, 28.42735376, 28.42999168,\n",
       "       27.2913215 , 23.74446671, 24.11878941, 27.40241209, 16.32993575,\n",
       "       13.39695213, 20.01655581, 19.86205904, 21.28604604, 24.07796482,\n",
       "       24.20603792, 25.04201534, 24.91709097, 29.93762975, 23.97709054,\n",
       "       21.69931969, 37.51051381, 43.29459357, 36.48121427, 34.99129701,\n",
       "       34.80865729, 37.16296374, 40.9823638 , 34.44211691, 35.83178068,\n",
       "       28.24913647, 31.22022312, 40.83256202, 39.31768808, 25.71099424,\n",
       "       22.30344878, 27.20551341, 28.51386352, 35.47494122, 36.11110647,\n",
       "       33.80004807, 35.61141951, 34.84311742, 30.35359323, 35.31260262,\n",
       "       38.79684808, 34.33296541, 40.34038636, 44.67339923, 31.5955473 ,\n",
       "       27.35994642, 20.09520596, 27.04518524, 27.21674397, 26.91105226,\n",
       "       33.43602979, 34.40228785, 31.83374181, 25.82416035, 24.43687139,\n",
       "       28.46348891, 27.36916176, 19.54441878, 29.11480679, 31.90852699,\n",
       "       30.77325183, 28.9430835 , 28.88108106, 32.79876794, 33.20356949,\n",
       "       30.76568546, 35.55843485, 32.70725436, 28.64759861, 23.59388439,\n",
       "       18.5461558 , 26.88429024, 23.28485442, 25.55002201, 25.48337323,\n",
       "       20.54343769, 17.61406384, 18.37627933, 24.29187594, 21.3257202 ,\n",
       "       24.88826131, 24.87143049, 22.87255605, 19.4540234 , 25.11948741,\n",
       "       24.66816374, 23.68209656, 19.33951725, 21.17636041, 24.25306588,\n",
       "       21.59311197, 19.98766667, 23.34079584, 22.13973959, 21.55349196,\n",
       "       20.61808868, 20.1607571 , 19.28455466, 22.16593919, 21.24893735,\n",
       "       21.42985456, 30.32874523, 22.04915396, 27.70610125, 28.54595004,\n",
       "       16.54657063, 14.78278261, 25.27336772, 27.54088054, 22.14633467,\n",
       "       20.46081206, 20.54472332, 16.88194391, 25.40066956, 14.32299547,\n",
       "       16.5927403 , 19.63224597, 22.7117302 , 22.19946949, 19.1989151 ,\n",
       "       22.66091019, 18.92059374, 18.22715359, 20.22444386, 37.47946099,\n",
       "       14.29172583, 15.53697148, 10.82825817, 23.81134987, 32.64787163,\n",
       "       34.61163401, 24.94604102, 26.00259724,  6.12085728,  0.78021126,\n",
       "       25.311373  , 17.73465914, 20.22593282, 15.83834861, 16.83742401,\n",
       "       14.43123608, 18.47647773, 13.42427933, 13.05677824,  3.27646485,\n",
       "        8.05936467,  6.13903114,  5.62271213,  6.44935154, 14.20597451,\n",
       "       17.21022671, 17.29035065,  9.89064351, 20.21972222, 17.94511052,\n",
       "       20.30017588, 19.28790318, 16.33300008,  6.56843662, 10.87541577,\n",
       "       11.88704097, 17.81098929, 18.25461066, 12.99282707,  7.39319053,\n",
       "        8.25609561,  8.07899971, 19.98563715, 13.69651744, 19.83511412,\n",
       "       15.2345378 , 16.93112419,  1.69347406, 11.81116263, -4.28300934,\n",
       "        9.55007844, 13.32635521,  6.88351077,  6.16827417, 14.56933235,\n",
       "       19.59292932, 18.1151686 , 18.52011987, 13.13707457, 14.59662601,\n",
       "        9.8923749 , 16.31998048, 14.06750301, 14.22573568, 13.00752251,\n",
       "       18.13277547, 18.66645496, 21.50283795, 17.00039379, 15.93926602,\n",
       "       13.32952716, 14.48949211,  8.78366731,  4.8300317 , 13.06115528,\n",
       "       12.71101472, 17.2887624 , 18.73424906, 18.05271013, 11.49855612,\n",
       "       13.00841512, 17.66975577, 18.12342294, 17.51503231, 17.21307203,\n",
       "       16.48238543, 19.40079737, 18.57392951, 22.47833186, 15.24179836,\n",
       "       15.78327609, 12.64853778, 12.84121049, 17.17173661, 18.50906858,\n",
       "       19.02803874, 20.16441773, 19.76975335, 22.42614937, 20.31750314,\n",
       "       17.87618837, 14.3391341 , 16.93715603, 16.98716629, 18.59431701,\n",
       "       20.16395155, 22.97743546, 22.45110639, 25.5707207 , 16.39091112,\n",
       "       16.09765427, 20.52835689, 11.5429045 , 19.20387482, 21.86820603,\n",
       "       23.47052203, 27.10034494, 28.57064813, 21.0839881 , 19.4490529 ,\n",
       "       22.2189221 , 19.65423066, 21.324671  , 11.86231364,  8.22260592,\n",
       "        3.65825168, 13.76275951, 15.93780944, 20.62730097, 20.61035443,\n",
       "       16.88048035, 14.01017244, 19.10825534, 21.29720741, 18.45524217,\n",
       "       20.46764235, 23.53261729, 22.37869798, 27.62934247, 26.12983844,\n",
       "       22.34870269])"
      ]
     },
     "execution_count": 21,
>>>>>>> b77de3c7a5bc57e40718741a1ab40453e4338a78
     "metadata": {},
     "output_type": "execute_result"
    }
   ],
   "source": [
    "# Import the class.\n",
    "from sklearn.linear_model import LinearRegression\n",
    "\n",
    "# Instantiate the model.\n",
    "lr = LinearRegression()\n",
    "\n",
    "# Train the model on the entire data set.\n",
    "lr.fit(X, y)\n",
    "\n",
    "# Predict the response values for the observations in X (\"test the model\").\n",
    "lr.predict(X)"
   ]
  },
  {
   "cell_type": "markdown",
   "metadata": {},
   "source": [
    "#### Store the predicted response values."
   ]
  },
  {
   "cell_type": "code",
<<<<<<< HEAD
   "execution_count": 26,
=======
   "execution_count": 22,
>>>>>>> b77de3c7a5bc57e40718741a1ab40453e4338a78
   "metadata": {},
   "outputs": [],
   "source": [
    "y_pred = lr.predict(X)"
   ]
  },
  {
   "cell_type": "markdown",
   "metadata": {},
   "source": [
    "To evaluate a model, we also need an **evaluation metric:**\n",
    "\n",
    "- A numeric calculation used to **quantify** the performance of a model.\n",
    "- The appropriate metric depends on the **goals** of your problem.\n",
    "\n",
    "The most common choices for regression problems are:\n",
    "\n",
    "- **R-squared**: The percentage of variation explained by the model (a \"reward function,\" as higher is better).\n",
    "- **Mean squared error**: The average squared distance between the prediction and the correct answer (a \"loss function,\" as lower is better).\n",
    "\n",
    "In this case, we'll use mean squared error because it is more interpretable in a predictive context."
   ]
  },
  {
   "cell_type": "markdown",
   "metadata": {},
   "source": [
    "#### Compute mean squared error using a function from `metrics`."
   ]
  },
  {
   "cell_type": "code",
<<<<<<< HEAD
   "execution_count": 27,
=======
   "execution_count": 23,
>>>>>>> b77de3c7a5bc57e40718741a1ab40453e4338a78
   "metadata": {},
   "outputs": [
    {
     "name": "stdout",
     "output_type": "stream",
     "text": [
<<<<<<< HEAD
      "21.8948311817292\n"
=======
      "21.897779217687496\n"
>>>>>>> b77de3c7a5bc57e40718741a1ab40453e4338a78
     ]
    }
   ],
   "source": [
    "from sklearn import metrics\n",
    "\n",
    "print(metrics.mean_squared_error(y, y_pred))"
   ]
  },
  {
   "cell_type": "markdown",
   "metadata": {},
   "source": [
    "This is known as the **training mean squared error** because we are evaluating the model based on the same data we used to train the model."
   ]
  },
  {
   "cell_type": "markdown",
   "metadata": {},
   "source": [
    "<a id=\"problems-with-training-and-testing-on-the-same-data\"></a>\n",
    "### Problems With Training and Testing on the Same Data\n",
    "\n",
    "- Our goal is to estimate likely performance of a model on **out-of-sample data**.\n",
    "- But, maximizing the training mean squared error rewards **overly complex models** that won't necessarily generalize.\n",
    "- Unnecessarily complex models **overfit** the training data.\n",
    "    - They will do well when tested using the in-sample data.\n",
    "    - They may do poorly with out-of-sample data.\n",
    "    - They learn the \"noise\" in the data rather than the \"signal.\"\n",
    "    - From Quora: [What is an intuitive explanation of overfitting?](http://www.quora.com/What-is-an-intuitive-explanation-of-overfitting/answer/Jessica-Su)\n",
    "\n",
    "**Thus, the training MSE is not a good estimate of the out-of-sample MSE.**"
   ]
  },
  {
   "cell_type": "markdown",
   "metadata": {},
   "source": [
    "<a id=\"evaluation-procedure--traintest-split\"></a>\n",
    "### Evaluation procedure #2: Train/Test Split"
   ]
  },
  {
   "cell_type": "markdown",
   "metadata": {},
   "source": [
    "1. Split the data set into two pieces: a **training set** and a **testing set**.\n",
    "2. Train the model on the **training set**.\n",
    "3. Test the model on the **testing set** and evaluate how well we did.\n",
    "\n",
    "Often a good rule-of-thumb is 70% training/30% test, but this can vary based on the size of your dataset. For example, with a small dataset you would need to use as much training data as possible (in return, your test accuracy will be more variable).\n",
    "\n",
    "What does this accomplish?\n",
    "\n",
    "- Models can be trained and tested on **different data** (We treat testing data like out-of-sample data).\n",
    "- Response values are known for the testing set and thus **predictions can be evaluated**.\n",
    "\n",
    "This is known as the **testing mean squared error** because we are evaluating the model on an independent \"test set\" that was not used during model training.\n",
    "\n",
    "**The testing MSE is a better estimate of out-of-sample performance than the training MSE.**"
   ]
  },
  {
   "cell_type": "markdown",
   "metadata": {},
   "source": [
    "#### Before We Dive Into Train/Test Split, Let's Understand \"Unpacking\" Syntax\n",
    "\n",
    "Unpacking in itself allows us to break down the contents of an object and assign it equally to several variables simultaneously.\n",
    "\n",
    "Let's create a packed object (boxed), then unpack it using a `for` loop."
   ]
  },
  {
   "cell_type": "code",
<<<<<<< HEAD
   "execution_count": 28,
=======
   "execution_count": 24,
>>>>>>> b77de3c7a5bc57e40718741a1ab40453e4338a78
   "metadata": {},
   "outputs": [
    {
     "name": "stdout",
     "output_type": "stream",
     "text": [
      "Shipment: package_1 | Shipment Contents: directions_1\n",
      "Shipment: package_2 | Shipment Contents: directions_2\n",
      "Shipment: package_3 | Shipment Contents: directions_3\n",
      "Shipment: package_4 | Shipment Contents: directions_4\n"
     ]
    }
   ],
   "source": [
    "# Let's start with two lists that are related in some manner.\n",
    "package = ['package_1','package_2','package_3','package_4']\n",
    "directions = ['directions_1','directions_2','directions_3','directions_4']\n",
    "\n",
    "# we'll zip them together to form the associate combos\n",
    "# We can then use `for Obj-1, Obj-2 in` to isolate the values we need.\n",
    "for p, d in zip(package, directions):\n",
    "    print('Shipment: {} | Shipment Contents: {}'.format(p,d))"
   ]
  },
  {
   "cell_type": "markdown",
   "metadata": {},
   "source": [
    "Rather than using a `for` loop to unpack an output, we can simply assign the results, assuming we know exactly how many results need to be assigned. We can think of the result of `zip` as comprising four subcomponents; we can use a `for` loop to help us break the subcomponents out OR use the unpacking method."
   ]
  },
  {
   "cell_type": "code",
<<<<<<< HEAD
   "execution_count": 29,
=======
   "execution_count": 25,
>>>>>>> b77de3c7a5bc57e40718741a1ab40453e4338a78
   "metadata": {},
   "outputs": [],
   "source": [
    "box1, box2, box3, box4 = zip(package, directions)"
   ]
  },
  {
   "cell_type": "code",
<<<<<<< HEAD
   "execution_count": 30,
=======
   "execution_count": 26,
>>>>>>> b77de3c7a5bc57e40718741a1ab40453e4338a78
   "metadata": {},
   "outputs": [
    {
     "name": "stdout",
     "output_type": "stream",
     "text": [
      "('package_1', 'directions_1')\n",
      "('package_3', 'directions_3')\n"
     ]
    }
   ],
   "source": [
    "print(box1)\n",
    "print(box3)"
   ]
  },
  {
   "cell_type": "markdown",
   "metadata": {},
   "source": [
    "In the case of train/test split, we add an unpackaging assignment to the return value of a function, as exemplified by the code below:"
   ]
  },
  {
   "cell_type": "code",
<<<<<<< HEAD
   "execution_count": 31,
=======
   "execution_count": 27,
>>>>>>> b77de3c7a5bc57e40718741a1ab40453e4338a78
   "metadata": {},
   "outputs": [],
   "source": [
    "# Create a function that takes an argument to act up. \n",
    "def min_max(nums):\n",
    "    smallest = min(nums)\n",
    "    largest = max(nums)\n",
    "    \n",
    "    # The function returns a list in the order below.\n",
    "    return [smallest, largest, 5]"
   ]
  },
  {
   "cell_type": "code",
<<<<<<< HEAD
   "execution_count": 32,
=======
   "execution_count": 28,
>>>>>>> b77de3c7a5bc57e40718741a1ab40453e4338a78
   "metadata": {},
   "outputs": [
    {
     "name": "stdout",
     "output_type": "stream",
     "text": [
      "[1, 3, 5]\n",
      "<class 'list'>\n"
     ]
    }
   ],
   "source": [
    "# We can assign the returned list to a single variable,\n",
    "min_and_max = min_max([1, 2, 3])\n",
    "\n",
    "print(min_and_max)\n",
    "print(type(min_and_max))"
   ]
  },
  {
   "cell_type": "code",
<<<<<<< HEAD
   "execution_count": 33,
=======
   "execution_count": 29,
>>>>>>> b77de3c7a5bc57e40718741a1ab40453e4338a78
   "metadata": {},
   "outputs": [
    {
     "name": "stdout",
     "output_type": "stream",
     "text": [
      "3\n",
      "1\n",
      "5\n"
     ]
    }
   ],
   "source": [
    "# OR, because we know the list is composed of three elements, \n",
    "# assign each element to its own variable.\n",
    "the_min, the_max, five = min_max([1, 2, 3])\n",
    "\n",
    "print(the_max)\n",
    "print(the_min)\n",
    "print(five)"
   ]
  },
  {
   "cell_type": "markdown",
   "metadata": {},
   "source": [
    "#### Understanding the `train_test_split` Function"
   ]
  },
  {
   "cell_type": "code",
<<<<<<< HEAD
   "execution_count": 34,
=======
   "execution_count": 30,
>>>>>>> b77de3c7a5bc57e40718741a1ab40453e4338a78
   "metadata": {},
   "outputs": [],
   "source": [
    "from sklearn.model_selection import train_test_split\n",
    "\n",
    "X_train, X_test, y_train, y_test = train_test_split(X, y)"
   ]
  },
  {
   "cell_type": "code",
<<<<<<< HEAD
   "execution_count": 35,
=======
   "execution_count": 31,
>>>>>>> b77de3c7a5bc57e40718741a1ab40453e4338a78
   "metadata": {},
   "outputs": [
    {
     "name": "stdout",
     "output_type": "stream",
     "text": [
      "(506, 13)\n",
      "(379, 13)\n",
      "(127, 13)\n"
     ]
    }
   ],
   "source": [
    "# Before splitting\n",
    "print(X.shape)\n",
    "\n",
    "# After splitting\n",
    "print(X_train.shape)\n",
    "print(X_test.shape)"
   ]
  },
  {
   "cell_type": "code",
<<<<<<< HEAD
   "execution_count": 36,
=======
   "execution_count": 32,
>>>>>>> b77de3c7a5bc57e40718741a1ab40453e4338a78
   "metadata": {},
   "outputs": [
    {
     "name": "stdout",
     "output_type": "stream",
     "text": [
      "(506,)\n",
      "(379,)\n",
      "(127,)\n"
     ]
    }
   ],
   "source": [
    "# Recall that (1,) is a tuple. \n",
    "# The trailing comma distinguishes it as being a tuple, not an integer.\n",
    "\n",
    "# Before splitting\n",
    "print(y.shape)\n",
    "\n",
    "# After splitting\n",
    "print(y_train.shape)\n",
    "print(y_test.shape)"
   ]
  },
  {
   "cell_type": "markdown",
   "metadata": {},
   "source": [
    "![train_test_split](./assets/train_test_split.png)"
   ]
  },
  {
   "cell_type": "markdown",
   "metadata": {},
   "source": [
    "#### Understanding the `random_state` Parameter\n",
    "\n",
    "The `random_state` is a pseudo-random number that allows us to reproduce our results every time we run them. However, it makes it impossible to predict what are exact results will be if we chose a new `random_state`.\n",
    "\n",
    "`random_state` is very useful for testing that your model was made correctly since it provides you with the same split each time. However, make sure you remove it if you are testing for model variability!"
   ]
  },
  {
   "cell_type": "code",
<<<<<<< HEAD
   "execution_count": 37,
=======
   "execution_count": 33,
>>>>>>> b77de3c7a5bc57e40718741a1ab40453e4338a78
   "metadata": {},
   "outputs": [
    {
     "name": "stdout",
     "output_type": "stream",
     "text": [
      "        CRIM   ZN  INDUS  CHAS    NOX     RM   AGE     DIS  RAD    TAX  \\\n",
      "313  0.26938  0.0    9.9   0.0  0.544  6.266  82.8  3.2628  4.0  304.0   \n",
      "\n",
      "     PTRATIO       B  LSTAT  \n",
      "313     18.4  393.39    7.9  \n"
     ]
    }
   ],
   "source": [
    "# WITHOUT a random_state parameter:\n",
    "#  (If you run this code several times, you get different results!)\n",
    "X_train, X_test, y_train, y_test = train_test_split(X, y)\n",
    "\n",
    "# Print the first element of each object.\n",
    "print(X_train.head(1))"
   ]
  },
  {
   "cell_type": "code",
<<<<<<< HEAD
   "execution_count": 38,
=======
   "execution_count": 34,
>>>>>>> b77de3c7a5bc57e40718741a1ab40453e4338a78
   "metadata": {},
   "outputs": [
    {
     "name": "stdout",
     "output_type": "stream",
     "text": [
      "        CRIM   ZN  INDUS  CHAS    NOX    RM   AGE     DIS  RAD    TAX  \\\n",
      "502  0.04527  0.0  11.93   0.0  0.573  6.12  76.7  2.2875  1.0  273.0   \n",
      "\n",
      "     PTRATIO      B  LSTAT  \n",
      "502     21.0  396.9   9.08  \n",
      "        CRIM    ZN  INDUS  CHAS    NOX     RM   AGE     DIS  RAD    TAX  \\\n",
      "307  0.04932  33.0   2.18   0.0  0.472  6.849  70.3  3.1827  7.0  222.0   \n",
      "\n",
      "     PTRATIO      B  LSTAT  \n",
      "307     18.4  396.9   7.53  \n",
      "502    20.6\n",
      "Name: MEDV, dtype: float64\n",
      "307    28.2\n",
      "Name: MEDV, dtype: float64\n"
     ]
    }
   ],
   "source": [
    "# WITH a random_state parameter:\n",
    "#  (Same split every time! Note you can change the random state to any integer.)\n",
    "X_train, X_test, y_train, y_test = train_test_split(X, y, random_state=1)\n",
    "\n",
    "# Print the first element of each object.\n",
    "print(X_train.head(1))\n",
    "print(X_test.head(1))\n",
    "print(y_train.head(1))\n",
    "print(y_test.head(1))"
   ]
  },
  {
   "cell_type": "markdown",
   "metadata": {},
   "source": [
    "#### Introduce Patsy\n",
    "\n",
    "We will make one more modification. Patsy is a library that allows you to quickly perform simple data transformations in a style similar to R.\n",
    "\n",
    "Rather than manually creating X and y, we will use the `.dmatricies()` function from Patsy to create the matricies and explore the effect of changing features on training and testing error."
   ]
  },
  {
   "cell_type": "code",
<<<<<<< HEAD
   "execution_count": 39,
=======
   "execution_count": 35,
>>>>>>> b77de3c7a5bc57e40718741a1ab40453e4338a78
   "metadata": {},
   "outputs": [],
   "source": [
    "import patsy"
   ]
  },
  {
   "cell_type": "markdown",
   "metadata": {},
   "source": [
    "#### Step 1: Split X and y into training and testing sets (using `random_state` for reproducibility)."
   ]
  },
  {
   "cell_type": "code",
<<<<<<< HEAD
   "execution_count": 40,
=======
   "execution_count": 36,
>>>>>>> b77de3c7a5bc57e40718741a1ab40453e4338a78
   "metadata": {},
   "outputs": [],
   "source": [
    "y, X = patsy.dmatrices(\"MEDV ~ AGE + RM\", data=boston, return_type=\"dataframe\")\n",
    "\n",
    "X_train, X_test, y_train, y_test = train_test_split(X, y, random_state=99)"
   ]
  },
  {
   "cell_type": "markdown",
   "metadata": {},
   "source": [
    "#### Step 2: Train the model on the training set."
   ]
  },
  {
   "cell_type": "code",
<<<<<<< HEAD
   "execution_count": 41,
=======
   "execution_count": 37,
>>>>>>> b77de3c7a5bc57e40718741a1ab40453e4338a78
   "metadata": {},
   "outputs": [
    {
     "data": {
      "text/plain": [
<<<<<<< HEAD
       "LinearRegression(copy_X=True, fit_intercept=True, n_jobs=None, normalize=False)"
      ]
     },
     "execution_count": 41,
=======
       "LinearRegression(copy_X=True, fit_intercept=True, n_jobs=1, normalize=False)"
      ]
     },
     "execution_count": 37,
>>>>>>> b77de3c7a5bc57e40718741a1ab40453e4338a78
     "metadata": {},
     "output_type": "execute_result"
    }
   ],
   "source": [
    "lr = LinearRegression()\n",
    "lr.fit(X_train, y_train)"
   ]
  },
  {
   "cell_type": "markdown",
   "metadata": {},
   "source": [
    "#### Step 3: Test the model on the testing set and check the accuracy."
   ]
  },
  {
   "cell_type": "code",
<<<<<<< HEAD
   "execution_count": 42,
=======
   "execution_count": 38,
>>>>>>> b77de3c7a5bc57e40718741a1ab40453e4338a78
   "metadata": {},
   "outputs": [
    {
     "name": "stdout",
     "output_type": "stream",
     "text": [
      "38.96905578768683\n",
      "42.00175221486844\n"
     ]
    }
   ],
   "source": [
    "y_pred = lr.predict(X_test)\n",
    "\n",
    "print(metrics.mean_squared_error(y_train, lr.predict(X_train)))\n",
    "print(metrics.mean_squared_error(y_test, y_pred))"
   ]
  },
  {
   "cell_type": "markdown",
   "metadata": {},
   "source": [
    "![Bias-variance tradeoff](./assets/bias_variance.png)"
   ]
  },
  {
   "cell_type": "markdown",
   "metadata": {},
   "source": [
    "#### Go back to Step 1 and try adding new variables and transformations."
   ]
  },
  {
   "cell_type": "markdown",
   "metadata": {},
   "source": [
    "- **Training error**: Decreases as model complexity increases (lower value of k).\n",
    "- **Testing error**: Is minimized at the optimum model complexity."
   ]
  },
  {
   "cell_type": "markdown",
   "metadata": {},
   "source": [
    "<a id=\"comparing-test-performance-with-a-null-baseline\"></a>\n",
    "### Comparing Test Performance With a Null Baseline"
   ]
  },
  {
   "cell_type": "markdown",
   "metadata": {},
   "source": [
    "When interpreting the predictive power of a model, it's best to compare it to a baseline using a dummy model, sometimes called a ZeroR model or a baseline model. A dummy model is simply using the mean, median, or most common value as the prediction. This forms a benchmark to compare your model against and becomes especially important in classification where your null accuracy might be 95 percent.\n",
    "\n",
    "For example, suppose your dataset is **imbalanced** -- it contains 99% one class and 1% the other class. Then, your baseline accuracy (always guessing the first class) would be 99%. So, if your model is less than 99% accurate, you know it is worse than the baseline. Imbalanced datasets generally must be trained differently (with less of a focus on accuracy) because of this.\n",
    "\n",
    "You can alternatively use simple models to achieve baseline results, for example nearest neighbors or a basic unigram bag of words for text data."
   ]
  },
  {
   "cell_type": "markdown",
   "metadata": {},
   "source": [
    "#### Examine the baseline mean squared error using a null model.\n",
    "How does this compare to what we achieved with linear regression. Is our model making an actual improvement?"
   ]
  },
  {
   "cell_type": "code",
<<<<<<< HEAD
   "execution_count": 43,
   "metadata": {},
   "outputs": [
    {
     "ename": "SyntaxError",
     "evalue": "invalid syntax (<ipython-input-43-027ed9217432>, line 4)",
     "output_type": "error",
     "traceback": [
      "\u001b[1;36m  File \u001b[1;32m\"<ipython-input-43-027ed9217432>\"\u001b[1;36m, line \u001b[1;32m4\u001b[0m\n\u001b[1;33m    print(metrics.mean_squared_error(y_test, y_test.[np.mean()['predict(X_test)']]*y_test, broadcast=True)))\u001b[0m\n\u001b[1;37m                                                    ^\u001b[0m\n\u001b[1;31mSyntaxError\u001b[0m\u001b[1;31m:\u001b[0m invalid syntax\n"
=======
   "execution_count": 39,
   "metadata": {},
   "outputs": [
    {
     "name": "stdout",
     "output_type": "stream",
     "text": [
      "91.72279744559486\n"
>>>>>>> b77de3c7a5bc57e40718741a1ab40453e4338a78
     ]
    }
   ],
   "source": [
    "# Use .apply() to broadcast a mean for every prediction.\n",
<<<<<<< HEAD
    "print(metrics.mean_squared_error(y_test, y_test.apply(np.mean, broadcast=True)))\n",
    "\n",
    "print(metrics.mean_squared_error(y_test, y_test.[np.mean()['predict(X_test)']]*y_test, broadcast=True)))"
=======
    "print(metrics.mean_squared_error(y_test, y_test.apply(np.mean, broadcast=True)))"
>>>>>>> b77de3c7a5bc57e40718741a1ab40453e4338a78
   ]
  },
  {
   "cell_type": "markdown",
   "metadata": {},
   "source": [
    "<a id=\"k-folds-cross-validation\"></a>\n",
    "## K-Folds Cross-Validation\n",
    "---"
   ]
  },
  {
   "cell_type": "markdown",
   "metadata": {},
   "source": [
    "Train/test split provides us with helpful tool, but it's a shame that we are tossing out a large chunk of our data for testing purposes.\n",
    "\n",
    "**How can we use the maximum amount of our data points while still ensuring model integrity?**\n",
    "\n",
    "1. Split our data into a number of different pieces (folds).\n",
    "2. Train using `k-1` folds for training and a different fold for testing.\n",
    "3. Average our model against EACH of those iterations.\n",
    "4. Choose our model and TEST it against the final fold.\n",
    "5. Average all test accuracies to get the estimated out-of-sample accuracy.\n",
    "\n",
    "Although this may sound complicated, we are just training the model on k separate train-test-splits, then taking the average of the resulting test accuracies!"
   ]
  },
  {
   "cell_type": "markdown",
   "metadata": {},
   "source": [
    "![](./assets/cross_validation_diagram.png)"
   ]
  },
  {
   "cell_type": "markdown",
   "metadata": {},
   "source": [
    "<a id=\"leave-one-out-cross-validation\"></a>\n",
    "### Leave-One-Out Cross-Validation"
   ]
  },
  {
   "cell_type": "markdown",
   "metadata": {},
   "source": [
    "A special case of k-fold cross-validation is leave-one-out cross-validation. Rather than taking 5–10 folds, we take a fold of size `n-1` and leave one observation to test. \n",
    "\n",
    "Typically, 5–10 fold cross-validaiton is recommended."
   ]
  },
  {
   "cell_type": "markdown",
   "metadata": {},
   "source": [
    "<a id=\"intro-to-cross-validation-with-the-boston-data\"></a>\n",
    "### Intro to Cross-Validation With the Boston Data"
   ]
  },
  {
   "cell_type": "markdown",
   "metadata": {},
   "source": [
    "#### Create a cross-valiation with five folds."
   ]
  },
  {
   "cell_type": "code",
<<<<<<< HEAD
   "execution_count": 44,
=======
   "execution_count": 40,
>>>>>>> b77de3c7a5bc57e40718741a1ab40453e4338a78
   "metadata": {},
   "outputs": [],
   "source": [
    "from sklearn import model_selection"
   ]
  },
  {
   "cell_type": "code",
<<<<<<< HEAD
   "execution_count": 45,
=======
   "execution_count": 41,
>>>>>>> b77de3c7a5bc57e40718741a1ab40453e4338a78
   "metadata": {},
   "outputs": [],
   "source": [
    "kf = model_selection.KFold(n_splits=5, shuffle=True)"
   ]
  },
  {
   "cell_type": "code",
<<<<<<< HEAD
   "execution_count": 46,
=======
   "execution_count": 42,
>>>>>>> b77de3c7a5bc57e40718741a1ab40453e4338a78
   "metadata": {},
   "outputs": [
    {
     "name": "stdout",
     "output_type": "stream",
     "text": [
      "~~~~ CROSS VALIDATION each fold ~~~~\n",
      "Model 1\n",
<<<<<<< HEAD
      "MSE: 31.85278190542879\n",
      "R2: 0.5296503177147147\n",
      "\n",
      "Model 2\n",
      "MSE: 49.286568324494354\n",
      "R2: 0.529736665484839\n",
      "\n",
      "Model 3\n",
      "MSE: 34.708335558129924\n",
      "R2: 0.5296088111753349\n",
      "\n",
      "Model 4\n",
      "MSE: 33.748190137895556\n",
      "R2: 0.5299810728091625\n",
      "\n",
      "Model 5\n",
      "MSE: 52.073056248929845\n",
      "R2: 0.5280340474683578\n",
      "\n",
      "~~~~ SUMMARY OF CROSS VALIDATION ~~~~\n",
      "Mean of MSE for all folds: 40.33378643497569\n",
=======
      "MSE: 31.85278190542877\n",
      "R2: 0.5296503177147147\n",
      "\n",
      "Model 2\n",
      "MSE: 49.28656832449435\n",
      "R2: 0.529736665484839\n",
      "\n",
      "Model 3\n",
      "MSE: 34.70833555812993\n",
      "R2: 0.529608811175335\n",
      "\n",
      "Model 4\n",
      "MSE: 33.74819013789554\n",
      "R2: 0.5299810728091623\n",
      "\n",
      "Model 5\n",
      "MSE: 52.07305624892985\n",
      "R2: 0.5280340474683578\n",
      "\n",
      "~~~~ SUMMARY OF CROSS VALIDATION ~~~~\n",
      "Mean of MSE for all folds: 40.333786434975686\n",
>>>>>>> b77de3c7a5bc57e40718741a1ab40453e4338a78
      "Mean of R2 for all folds: 0.5294021829304818\n"
     ]
    }
   ],
   "source": [
    "mse_values = []\n",
    "scores = []\n",
    "n = 0\n",
    "\n",
    "print(\"~~~~ CROSS VALIDATION each fold ~~~~\")\n",
    "for train_index, test_index in kf.split(X, y):\n",
    "    lr = LinearRegression().fit(X.iloc[train_index], y.iloc[train_index])\n",
    "    \n",
    "    mse_values.append(metrics.mean_squared_error(y.iloc[test_index], lr.predict(X.iloc[test_index])))\n",
    "    scores.append(lr.score(X, y))\n",
    "    \n",
    "    n += 1\n",
    "    \n",
    "    print('Model {}'.format(n))\n",
    "    print('MSE: {}'.format(mse_values[n-1]))\n",
    "    print('R2: {}\\n'.format(scores[n-1]))\n",
    "\n",
    "\n",
    "print(\"~~~~ SUMMARY OF CROSS VALIDATION ~~~~\")\n",
    "print('Mean of MSE for all folds: {}'.format(np.mean(mse_values)))\n",
    "print('Mean of R2 for all folds: {}'.format(np.mean(scores)))"
   ]
  },
  {
   "cell_type": "code",
<<<<<<< HEAD
   "execution_count": 47,
=======
   "execution_count": 43,
>>>>>>> b77de3c7a5bc57e40718741a1ab40453e4338a78
   "metadata": {},
   "outputs": [
    {
     "name": "stdout",
     "output_type": "stream",
     "text": [
<<<<<<< HEAD
      "40.34914319956572\n",
      "0.48796063579837357\n"
=======
      "40.349143199565724\n",
      "0.4879606357983737\n"
>>>>>>> b77de3c7a5bc57e40718741a1ab40453e4338a78
     ]
    }
   ],
   "source": [
    "from sklearn.model_selection import cross_val_score\n",
    "\n",
    "# Note the results will vary each run since we take a different\n",
    "#   subset of the data each time (since shuffle=True)\n",
    "kf = model_selection.KFold(n_splits=5, shuffle=True)\n",
    "\n",
    "print(np.mean(-cross_val_score(lr, X, y, cv=kf, scoring='neg_mean_squared_error')))\n",
    "print(np.mean(cross_val_score(lr, X, y, cv=kf)))"
   ]
  },
  {
   "cell_type": "markdown",
   "metadata": {},
   "source": [
    "While the cross-validated approach here generated more overall error, which of the two approaches would predict new data more accurately — the single model or the cross-validated, averaged one? Why?\n",
    "\n",
    "\n",
    "\n",
    "**Answer**: \n",
    "\n",
    "...."
   ]
  },
  {
   "cell_type": "markdown",
   "metadata": {},
   "source": [
    "<a id=\"three-way-data-split\"></a>\n",
    "## Three-Way Data Split\n",
    "---\n",
    "\n",
    "The most common workflow is actually a combination of train/test split and cross-validation. We take a train/test split on our data right away and try not spend a lot of time using the testing data set. Instead, we take our training data and tune our models using cross-validation. When we think we are done, we do one last test on the testing data to make sure we haven't accidently overfit to our training data.\n",
    "\n",
    "**If you tune hyperparameters via cross-validation, you should never use cross-validation on the same dataset to estimate OOS accuracy!** Using cross-validation in this way, the entire dataset was used to tune hyperparameters. So, this invalidates our condition above -- where we assumed the test set is a pretend \"out-of-sample\" dataset that was not used to train our model! So, we would expect the accuracy on this test set to be artificially inflated as compared to actual \"out-of-sample\" data.\n",
    "\n",
    "Even with good evaluation procedures, it is incredible easy to overfit our models by including features that will not be available during production or leak information about our testing data in other ways."
   ]
  },
  {
   "cell_type": "markdown",
   "metadata": {},
   "source": [
    "![](./assets/Train-Test-Split-CV.png)"
   ]
  },
  {
   "cell_type": "markdown",
   "metadata": {},
   "source": [
    "- If model selection and true error estimates are to be computed simultaneously, three disjointed data sets are best.\n",
    "    - **Training set**: A set of examples used for learning – what parameters of the classifier?\n",
    "    - **Validation set**: A set of examples used to tune the parameters of the classifier.\n",
    "    - **Testing set**: A set of examples used ONLY to assess the performance of the fully trained classifier.\n",
    "- Validation and testing must be separate data sets. Once you have the final model set, you cannot do any additional tuning after testing."
   ]
  },
  {
   "cell_type": "markdown",
   "metadata": {},
   "source": [
    "1. Divide data into training, validation, and testing sets.\n",
    "2. Select architecture (model type) and training parameters (k).\n",
    "3. Train the model using the training set.\n",
    "4. Evaluate the model using the training set.\n",
    "5. Repeat 2–4 times, selecting different architectures (models) and tuning parameters.\n",
    "6. Select the best model.\n",
    "7. Assess the model with the final testing set."
   ]
  },
  {
   "cell_type": "markdown",
   "metadata": {},
   "source": [
    "<a id=\"additional-resources\"></a>\n",
    "<a id=\"additional-resources\"></a>\n",
    "### Additional Resources\n",
    "- [Bias Variance](http://scott.fortmann-roe.com/docs/BiasVariance.html)\n",
    "- University of Washington [slides](https://courses.cs.washington.edu/courses/cse546/12wi/slides/)"
   ]
  },
  {
   "cell_type": "markdown",
   "metadata": {},
   "source": [
    "<a id=\"summary\"></a>\n",
    "### Summary\n",
    "\n",
    "In this lab, we compared four methods of estimating model accuracy on out-of-sample data. Throughout your regular data science work, you will likely use all four at some point:\n",
    "\n",
    "1. **Train on the entire dataset**\n",
    "2. **Train-test-split**\n",
    "3. **Cross-validation**\n",
    "4. **Three-way split**"
   ]
  },
  {
   "cell_type": "code",
   "execution_count": null,
   "metadata": {},
   "outputs": [],
   "source": []
<<<<<<< HEAD
  },
  {
   "cell_type": "code",
   "execution_count": null,
   "metadata": {},
   "outputs": [],
   "source": []
=======
>>>>>>> b77de3c7a5bc57e40718741a1ab40453e4338a78
  }
 ],
 "metadata": {
  "anaconda-cloud": {},
  "kernelspec": {
   "display_name": "Python 3",
   "language": "python",
   "name": "python3"
  },
  "language_info": {
   "codemirror_mode": {
    "name": "ipython",
    "version": 3
   },
   "file_extension": ".py",
   "mimetype": "text/x-python",
   "name": "python",
   "nbconvert_exporter": "python",
   "pygments_lexer": "ipython3",
<<<<<<< HEAD
   "version": "3.7.6"
=======
   "version": "3.7.0"
>>>>>>> b77de3c7a5bc57e40718741a1ab40453e4338a78
  }
 },
 "nbformat": 4,
 "nbformat_minor": 4
}
