{
 "cells": [
  {
   "cell_type": "markdown",
   "metadata": {
    "slideshow": {
     "slide_type": "notes"
    }
   },
   "source": [
    "> **Jupyter slideshow:** This notebook can be displayed as slides. To view it as a slideshow in your browser type in the console:\n",
    "\n",
    "\n",
    "> `> jupyter nbconvert [this_notebook.ipynb] --to slides --post serve`\n",
    "\n",
    "\n",
    "> To toggle off the slideshow cell formatting, click the `CellToolbar` button, then `View --> Cell Toolbar --> None`"
   ]
  },
  {
   "cell_type": "markdown",
   "metadata": {
    "slideshow": {
     "slide_type": "slide"
    }
   },
   "source": [
    "<img src=\"http://imgur.com/1ZcRyrc.png\" style=\"float: left; margin: 20px; height: 55px\">\n",
    "\n",
    "# Introduction to Web Services and APIs\n",
    "\n",
    "_Author: Naumaan Nayyar_\n",
    "\n",
    "---\n",
    "![](assets/opening.png)"
   ]
  },
  {
   "cell_type": "markdown",
   "metadata": {
    "slideshow": {
     "slide_type": "slide"
    }
   },
   "source": [
    "### Learning Objectives\n",
    "*After this lesson, you will be able to:*\n",
    "- Identify relevant HTTP Verbs & their uses.\n",
    "- Describe Application Programming Interfaces (APIs) and know how to make calls and consume API data.\n",
    "- Access public APIs and get information back.\n",
    "- Read and write data in JSON format.\n",
    "- Use the `requests` library."
   ]
  },
  {
   "cell_type": "markdown",
   "metadata": {
    "slideshow": {
     "slide_type": "slide"
    }
   },
   "source": [
    "### Lesson Guide\n",
    "- [Introduction to APIs](#intro)\n",
    "- [What is an API?](#what-is-api)\n",
    "- [Famous APIs](#famous)\n",
    "    - [Facebook](#facebook)\n",
    "    - [Yelp](#yelp)\n",
    "    - [Echonest](#echonest)\n",
    "- [Web APIs](#web-apis)\n",
    "- [Making API calls](#api-calls)\n",
    "- [HTTP](#http)\n",
    "- [Web applications](#web-app)\n",
    "- [Demo: HTTP](#demo-http)\n",
    "- [Independent practice: HTTP](#ind-http)\n",
    "- [HTTP Request](#http-request)\n",
    "    - [HTTP Request methods](#request-methods)\n",
    "    - [HTTP Request structure](#request-structure)\n",
    "- [HTTP Response](#http-response)\n",
    "    - [Response types overview](#response-types)\n",
    "- [JSON](#json)\n",
    "- [Independent practice: validating JSON](#ind-practice)\n",
    "- [Guided practice: pulling data from APIs](#guided-practice)\n",
    "    - [Example 1: Star Wars](#ex1-star-wars)\n",
    "    - [Submit queries to the API](#submit)\n",
    "    - [Example 2: Google Geocode](#ex2-geocode)\n",
    "- [OAuth](#oauth)\n",
    "- [Independent practice: python APIs](#ind-practice2)\n",
    "- [Closing questions](#closing-questions)"
   ]
  },
  {
   "cell_type": "markdown",
   "metadata": {
    "slideshow": {
     "slide_type": "slide"
    }
   },
   "source": [
    "<a name=\"intro\"></a>\n",
    "## Introduction to APIs\n",
    "\n",
    "---\n",
    "\n",
    "In this lesson, we will be diving into the world of APIs. We will take a tour of one of the most accessible sources of data on the Internet.\n",
    "\n",
    "You will learn:\n",
    "- **What is meant by an \"API\"**\n",
    "- **Common API use cases**\n",
    "- **How to read API documentation**\n",
    "- **General development workflow with APIs**\n",
    "\n",
    "*Does anyone in the class have any experience using APIs?*\n"
   ]
  },
  {
   "cell_type": "markdown",
   "metadata": {
    "slideshow": {
     "slide_type": "slide"
    }
   },
   "source": [
    "<a id='what-is-api'></a>\n",
    "## What is an API?\n",
    "\n",
    "---\n",
    "\n",
    "An **API (Application Programming Interface)** is a set of routines, protocols, and tools for building software applications. It specifies how software components should interact.\n",
    "\n",
    "We are used to many **interfaces** in real life. For example:\n",
    "\n",
    "- **A door handle.** We don't care how a door works. All that we expect is that pushing or pulling the handle will open the door. In fact, the way the door opens (theoretically) could be entirely different each time we use the door. \n",
    "\n",
    "- **File->Print.** We don't care how the computer prints the document. All that we expect is that using the Print option in the File menu will print the document. In fact, the way the computer prints it could change every time the program is updated. \n",
    "\n",
    "In programming, we also use many interfaces. The interface we use to a programming library is its function calls. For example:\n",
    "\n",
    "- **Matplotlib `plot()`**: We don't care how the `plot()` function works. All that we expect is that calling this function (with appropriate parameters) will plot the data and return a graphic. In fact, how the function works can completely change from version to version. \n",
    "\n",
    "**These are APIs -- Application Programming Interfaces.** The functions that you call and the parameters you call them with make up the interface to a programming library.\n",
    "\n",
    "#### Web APIs\n",
    "\n",
    "- **How does this extend to the web?** A Web API is a list of function calls that are made to remote servers. The function call is sent by encoding it as a URL (technically, as an HTTP request -- we'll discuss these later!). The function call typically returns a string of text (e.g. JSON)."
   ]
  },
  {
   "cell_type": "markdown",
   "metadata": {
    "slideshow": {
     "slide_type": "slide"
    }
   },
   "source": [
    "APIs are a way developers connect functionality to data, devices, and other resources they provide. \n",
    "\n",
    "Some examples that APIs can assist with are:\n",
    "\n",
    "- Connectivity to a variety of databases\n",
    "- Python modules that can turn LED lights on and off\n",
    "- Application that runs on native Windows, OSX, or Linux\n",
    "- Libraries that post content on Twitter, Facebook, Yelp, or LinkedIn\n",
    "- Web services for accessing currency or stock prices\n",
    "\n",
    "More abstract examples:\n",
    "- Adding your own functions to Numpy itself\n",
    "- Extending Python with C code\n",
    "- Testing Frameworks\n",
    "\n",
    "In the context of data science, APIs are a very common method to interact with data hosted by third parties and most commonly provided by **Web Service APIs**, or just **Web APIs**."
   ]
  },
  {
   "cell_type": "markdown",
   "metadata": {
    "slideshow": {
     "slide_type": "skip"
    }
   },
   "source": [
    "### Why did APIs become popular?\n",
    "\n",
    "APIs became popular for many reasons:\n",
    "\n",
    "- Easy to use for JavaScript programmers\n",
    "- Prevent website scraping\n",
    "- Allow a website's brand to be incorporated into other websites \n",
    "\n",
    "More importantly, in the modern web, nearly every website uses **internal APIs** for shuttling dynamic data between the browser and the website. It is often possible to discover and hijack these internal APIs to gather data. (This is beyond the scope of this lesson.)"
   ]
  },
  {
   "cell_type": "markdown",
   "metadata": {
    "slideshow": {
     "slide_type": "slide"
    }
   },
   "source": [
    "<a id='famous'></a>\n",
    "<a id='facebook'></a>\n",
    "\n",
    "### Famous APIs:  Facebook Graph API\n",
    "\n",
    "Facebook provides an API for interacting with their service.  At a glance:\n",
    "\n",
    "- View your posts\n",
    "- View websites, people, posts, pages that you've liked\n",
    "- View activity on apps from you and your friends\n",
    "  - Movies watched\n",
    "  - Music listened\n",
    "  - Games played\n",
    "- View places traveled / check-ins\n",
    "- Relationships\n"
   ]
  },
  {
   "cell_type": "markdown",
   "metadata": {
    "slideshow": {
     "slide_type": "slide"
    }
   },
   "source": [
    "<a id='yelp'></a>\n",
    "### Famous APIs:  Yelp API\n",
    "\n",
    "Yelp provides a way for developers to access:\n",
    "\n",
    "- Reviews\n",
    " - Services\n",
    " - Restaraunts / Bars / Cafes\n",
    " - Businesses\n",
    "- Business meta-data\n",
    "\n",
    "#### Potential Project Ideas\n",
    "\n",
    "|   |   |   |   |\n",
    "|---|---|---|---|\n",
    "| Topic Modeling | Text Mining | Sentiment Analysis | Funny / Cool / Interesting Classification | \n",
    "| Music Genre Classification | Parking Index Classification | Characteristics Profiling | Hipster Index |\n",
    "| Ideal Activities | Friend Recommender | Venue Recommender | Sports Bar Classifcation |\n",
    "| Where is the best [whatever] in [neighborhood] | | |"
   ]
  },
  {
   "cell_type": "markdown",
   "metadata": {
    "slideshow": {
     "slide_type": "slide"
    }
   },
   "source": [
    "<a id='echonest'></a>\n",
    "### Famous APIs:  Echonest (Discontinued)\n",
    "\n",
    "Echonest consolidates access to many entertainment service APIs in one place.  It has a huge list of features and connected services including:\n",
    "\n",
    "- Spotify\n",
    "- Pandora\n",
    "- Rdio\n",
    "- Gracenote\n",
    "- SoundHound\n",
    "- Shazam\n",
    "\n",
    "Some Echonest features include:\n",
    "\n",
    "- Music waveform identification (like Shazam, Soundhound music ID)\n",
    "- Playlist recommendations\n",
    "- Detailed artist, album, and track lookup\n",
    " - Bio / Origins / Contemporaries / Noteworthy Accomplishments\n",
    " - Official twitter / website / social media links\n",
    " - BPM / Mood / Popularity / Genre(s) \n",
    " - Images / Videos / Media\n",
    "- Detailed movie, actor, product lookup\n",
    "- Concert Schedules and ticket metadata"
   ]
  },
  {
   "cell_type": "markdown",
   "metadata": {
    "slideshow": {
     "slide_type": "slide"
    }
   },
   "source": [
    "<a id='web-apis'></a>\n",
    "## Web APIs\n",
    "\n",
    "---\n",
    "\n",
    "<img src = \"assets/notify.png\" width=150>\n",
    "\n",
    "Many languages have started co-opting standards to communicate data to and from web servers for two big reasons:\n",
    "- Ease of integration\n",
    "- Consistent standards\n",
    "\n",
    "Modern Javascript allows for **asynchronous requests**, or **AJAX** (Asynchronous JavaScript And XML). This allows websites to send/receive data in the background, e.g. to/from APIs. "
   ]
  },
  {
   "cell_type": "markdown",
   "metadata": {
    "slideshow": {
     "slide_type": "slide"
    }
   },
   "source": [
    "<a name=\"api-calls\"></a>\n",
    "## Making API calls\n",
    "\n",
    "---\n",
    "\n",
    "API calls are really a fancy term for making _HTTP requests_ (in the context of web APIs) to a server and sending/receiving structured data from that endpoint (URL). We are still communicating with URLs, however instead of receiving a string of HTML, we receive data.\n",
    "\n",
    "[Representational state transfer (REST)](https://spring.io/understanding/REST) is the most common architecture style for passing information to and from these API endpoints.\n",
    "\n",
    "### API Tokens\n",
    "\n",
    "Many APIs are free to access. You first need to register as a developer and obtain an authorization key. In most cases, this is also accompanied by a temporary token that needs to be renewed after some time. This is a way to prevent abuse on the server's resources. \n",
    "\n",
    "- For example, the Twitter API requires a token that is used to track how many requests each user makes. Each user can retrieve a limited number of tweets, unless they pay for premium services.\n",
    "\n",
    "Before we start consuming API services, it is important to understand the fundamentals of the underlying communication layer: **HTTP**."
   ]
  },
  {
   "cell_type": "markdown",
   "metadata": {
    "slideshow": {
     "slide_type": "slide"
    }
   },
   "source": [
    "<a id='http'></a>\n",
    "## HTTP\n",
    "\n",
    "---\n",
    "\n",
    "**HTTP (HyperText Transfer Protocol)** is a protocol - a system of rules - that determines how web pages (see:'hypertext') get sent (see:'transferred') from one place to another. Among other things, it defines the format of the messages passed between HTTP clients and HTTP servers.\n",
    "\n",
    "Since the web is a service, it works through a combination of **clients** (that _make_ requests) and **servers** (that _receive_ requests).\n"
   ]
  },
  {
   "cell_type": "markdown",
   "metadata": {
    "slideshow": {
     "slide_type": "slide"
    }
   },
   "source": [
    "### The HTTP client\n",
    "\n",
    "**HTTP clients** make or generate **HTTP requests**. Some types of clients are:\n",
    "\n",
    "* Browsers - Chrome, Firefox and Safari.\n",
    "* Command Line programs - [curl](http://curl.haxx.se/docs/) and [wget](http://www.gnu.org/software/wget/manual/wget.html).\n",
    "* Application code -  Python Requsts, Scrapy, Mechanize\n",
    "\n",
    "HTTP clients respond to HTTP responses from a **web server**/**HTTP server**. A web server is just a computer that listens for and responds to HTTP requests."
   ]
  },
  {
   "cell_type": "markdown",
   "metadata": {
    "slideshow": {
     "slide_type": "slide"
    }
   },
   "source": [
    "### HTTP and web servers\n",
    "\n",
    "All _web servers_ receive _HTTP requests_ and generate _HTTP responses_. Often web servers are just the middleman, passing HTTP requests and responses between the client and web application. Two of the most popular _HTTP or Web servers_ are [Apache](http://httpd.apache.org/) and [Nginx](http://nginx.com/), But there are many different [web servers](https://www.tutorialspoint.com/internet_technologies/web_servers.htm) out there."
   ]
  },
  {
   "cell_type": "markdown",
   "metadata": {
    "slideshow": {
     "slide_type": "slide"
    }
   },
   "source": [
    "### Check: Where do you think a web application lives?\n",
    "\n",
    "- Client\n",
    "- Server\n",
    "- The cloud\n",
    "- Mobile devices\n",
    "- In your car\n",
    "- In your bluetooth connected toaster with LCD display"
   ]
  },
  {
   "cell_type": "markdown",
   "metadata": {
    "slideshow": {
     "slide_type": "slide"
    }
   },
   "source": [
    "<a id='web-app'></a>\n",
    "## Web applications\n",
    "\n",
    "---\n",
    "\n",
    "Web applications are programs that run on a web server. They process the HTTP requests that the server receives and generate HTTP responses.\n",
    "\n",
    "![HTTP Request and Response](assets/request-response.png)\n",
    "\n",
    "Lost? Here's the play-by-play.\n",
    "\n",
    "1. A client sends a HTTP request to a HTTP server running on a remote machine.  \n",
    "  * The _hostname_, given in the URL, indicates which server will receive the request.  \n",
    "2. The HTTP server processes the HTTP request. This may entail passing the request to some web application, which creates a HTTP response. \n",
    "3. The response gets sent back to the client.\n",
    "4. The client processes the response.\n",
    "\n",
    "How does the server know what the request is asking for? This is specified by the URL, a special kind of path that specifies where a resource can be found on the web.\n",
    "\n",
    "![URL](./assets/http1-url-structure.png)\n",
    "\n",
    "> **Check:** can anyone explain what a client and a server are?"
   ]
  },
  {
   "cell_type": "markdown",
   "metadata": {
    "slideshow": {
     "slide_type": "slide"
    }
   },
   "source": [
    "<a name=\"demo-http\"></a>\n",
    "## Demo: HTTP\n",
    "\n",
    "---\n",
    "\n",
    "Let's explore HTTP resources. We'll start by looking at HTTP requests and responses using the Chrome Inspector.\n",
    "\n",
    "![HTTP Request and Response](./assets/http_request_response.jpeg \"HTTP Request and Response\")\n",
    "\n",
    "* In Chrome, open up Chrome Inspector (*command + option + 'i', or ctrl + click and select 'inspect element'*).\n",
    "* Select the Network tab. It should look something like this:\n",
    "\n",
    "![Chrome Inspector](./assets/chrome_inspector.png)\n",
    "\n",
    "* Next, go to the URL https://generalassemb.ly/\n",
    "\n",
    "You should be able to see a few HTTP requests and responses in the Network tab. For each request, you'll see a **Name**, **Status**, **Type**, and **Size**, along with info about how long it took to get each of these resources.\n",
    "  * Most of this information comes from the HTTP Request and Response.\n",
    "  * Some HTTP requests are for CSS, JavaScript and images that are referenced by the HTML.\n",
    "  * Select `generalassemb.ly` in the Path column on the far left.\n",
    "  * Select the Headers tab. **Headers** are meta-data properties of an HTTP request or response, separate from the body of the message."
   ]
  },
  {
   "cell_type": "markdown",
   "metadata": {
    "slideshow": {
     "slide_type": "skip"
    }
   },
   "source": [
    "<a id='ind-http'></a>\n",
    "\n",
    "## Independent practice: HTTP\n",
    "\n",
    "---\n",
    "\n",
    "\n",
    "### With a partner, go to your favorite website(s) (safe for work), inspect the protocol from the Chrome network inspection tool (cmd-opt-i), and identify:\n",
    "\n",
    "- Requests sent by your client\n",
    "- Requests sent by the server\n",
    "- URI (Uniform Resource Identifier), a generalized URL\n",
    "\n",
    "#### Research and Explain:\n",
    "- cache-control\n",
    "- age\n",
    "- content-encoding\n",
    "- expires\n",
    "- \"GET\" and \"POST\" requests\n",
    "- query string parameters\n",
    "\n",
    "#### Bonus:\n",
    "What are cookies?\n",
    "<img src=\"assets/cookies.png\" style=\"width: 100px\">"
   ]
  },
  {
   "cell_type": "markdown",
   "metadata": {
    "slideshow": {
     "slide_type": "slide"
    }
   },
   "source": [
    "<a id='http-request'></a>\n",
    "## HTTP Request\n",
    "\n",
    "---\n",
    "\n",
    "First, notice that every HTTP request is ultimately plain text -- it is human-readable! This is convenient, but it makes requests larger.\n",
    "\n",
    "The first word in the request line, _GET_, is the **HTTP method**.\n",
    "\n",
    "![HTTP Request](./assets/http_request.jpeg \"HTTP Request\")\n",
    "\n",
    "<a id='request-methods'></a>\n",
    "### HTTP Request methods:\n",
    "\n",
    "* **`GET`** => Retrieve a resource.  \n",
    "* **`POST`** => Create a resource.  \n",
    "* **`PATCH`** (_or **`PUT`**, but **`PATCH`** is recommended_) => Update an existing resource.  \n",
    "* **`DELETE`** => Delete a resource.  \n",
    "* **`HEAD`** => Retrieve the headers for a resource.\n",
    "\n",
    "Of these, **`GET`** and **`POST`** are the most widely used."
   ]
  },
  {
   "cell_type": "markdown",
   "metadata": {
    "slideshow": {
     "slide_type": "slide"
    }
   },
   "source": [
    "<a id='request-structure'></a>\n",
    "### HTTP Request structure:\n",
    "\n",
    "```\n",
    "[http request method] [URL] [http version]  \n",
    "[list of headers]\n",
    "\n",
    "[request body]\n",
    "```\n",
    "\n",
    "*Notice that the request header is separated from the request body by a new line.*"
   ]
  },
  {
   "cell_type": "markdown",
   "metadata": {
    "slideshow": {
     "slide_type": "slide"
    }
   },
   "source": [
    "**HTTP Request Method Example: (No Body)**\n",
    "\n",
    "    GET http://vermonster.com HTTP/1.1  \n",
    "    Accept:text/html,application/xhtml+xml,application/xml;q=0.9,image/webp,*/*;q=0.8  \n",
    "    Accept-Encoding:gzip,deflate,sdch\n",
    "    Accept-Language:en-US,en;q=0.8  \n",
    "    Connection:keep-alive  \n",
    "    Host:vermonster.com  \n",
    "    User-Agent:Mozilla/5.0 (Macintosh; Intel Mac OS X 10_8_5)  \n",
    "    AppleWebKit/537.36 (KHTML, like Gecko) Chrome/32.0.1659.2 Safari/537.36  "
   ]
  },
  {
   "cell_type": "markdown",
   "metadata": {
    "slideshow": {
     "slide_type": "slide"
    }
   },
   "source": [
    "<a id='http-response'></a>\n",
    "## HTTP Response\n",
    "\n",
    "---\n",
    "\n",
    "![HTTP Response](./assets/http_response.jpeg \"HTTP Response\")\n",
    "\n",
    "When a client sends a request, the server sends back a response; the standard format for this response is:\n",
    "\n",
    "```\n",
    "[http version] [status] [reason]  \n",
    "[list of headers]\n",
    "\n",
    "[response body] # typically HTML, JSON, ...  \n",
    "```"
   ]
  },
  {
   "cell_type": "markdown",
   "metadata": {
    "slideshow": {
     "slide_type": "slide"
    }
   },
   "source": [
    "<a id='response-types'></a>\n",
    "### Response types overview\n",
    "\n",
    "> Check these out when you have time -- at least be aware that there is an expected pattern to these codes:\n",
    "\n",
    "**[Status codes](http://en.wikipedia.org/wiki/List_of_HTTP_status_codes)** have standard meanings; here are a few.\n",
    "\n",
    "|Code|Reason|\n",
    "|:---|:-----|\n",
    "|200| OK\n",
    "|301| Moved Permanently\n",
    "|302| Moved Temporarily\n",
    "|307| Temporary Redirect\n",
    "|400| Bad Request\n",
    "|403| Forbidden\n",
    "|404| Not Found\n",
    "|500| Internal Server Error"
   ]
  },
  {
   "cell_type": "markdown",
   "metadata": {
    "slideshow": {
     "slide_type": "slide"
    }
   },
   "source": [
    "<a name=\"json\"></a>\n",
    "## JSON\n",
    "\n",
    "---\n",
    "\n",
    "JSON is short for _JavaScript Object Notation_, and is a way to store information in an organized, easy-to-access manner. In a nutshell, it gives us a human-readable collection of data that we can access in a really logical manner.\n",
    "\n",
    "It is very important to realize that JSON is just plain text that you can edit in a text editor. It is called JSON because a JSON string is valid JavaScript code. Because of this, JSON has become very popular with JavaScript programmers for talking with APIs.\n",
    "\n",
    "**JSON is built on two structures:**\n",
    "* A collection of name/value pairs. In various languages, this is realized as an object, record, structure, dictionary, hash table, keyed list, or associative array.\n",
    "* An ordered list of values. In most languages, this is realized as an array, vector, list, or sequence.\n",
    "\n",
    "These are universal data structures. Virtually all modern programming languages support them in one form or another. It makes sense that a data format that is interchangeable with programming languages also be based on these structures."
   ]
  },
  {
   "cell_type": "markdown",
   "metadata": {
    "slideshow": {
     "slide_type": "slide"
    }
   },
   "source": [
    "### JSON objects\n",
    "\n",
    "An object is an unordered set of name/value pairs, like python dictionaries. An object begins with `{` (left brace) and ends with `}` (right brace). Each name is followed by `:` (colon) and the name/value pairs are separated by `,` (comma).\n",
    "\n",
    "The syntax is as follows:\n",
    "\n",
    "```\n",
    "{ string : value, .......}\n",
    "```\n",
    "like:\n",
    "```\n",
    "{\"count\": 1, ...}\n",
    "```\n",
    "_Seems an awful lot like a Python dictionary._"
   ]
  },
  {
   "cell_type": "markdown",
   "metadata": {
    "slideshow": {
     "slide_type": "slide"
    }
   },
   "source": [
    "<a name=\"ind-practice\"></a>\n",
    "## Independent practice: validating JSON \n",
    "\n",
    "---\n",
    "\n",
    "JSON is very simple to use if correctly structured. One of the resources to validate JSON and check if the syntax is correct is [JSON Viewer](http://codebeautify.org/jsonviewer).\n",
    "\n",
    "For this exercise, copy the [JSON data from the code folder](./code/test.json) and insert it in the web app above. Then, click \"Validate\".\n",
    "\n",
    "If you see \"Valid JSON\", click \"Beautify\" and you will see a more readable way of JSON. If you do not see the message \"Valid JSON\", it means that there is a syntax error.\n",
    "\n",
    "* First, correct errors if there are any\n",
    "* Then, work in pairs to identify the structure of the JSON:\n",
    "\n",
    "    - What is a root element?\n",
    "    - Are there any arrays?\n",
    "    - How many objects are there?\n",
    "    - What are the attributes of an object?"
   ]
  },
  {
   "cell_type": "markdown",
   "metadata": {
    "slideshow": {
     "slide_type": "slide"
    }
   },
   "source": [
    "<a name=\"guided-practice\"></a>\n",
    "## Guided practice: Pulling data from APIs\n",
    "\n",
    "---\n",
    "\n",
    "Recall that APIs are methods and data formats to tell people how to \"talk\" to a system. We will walk through a couple of examples."
   ]
  },
  {
   "cell_type": "markdown",
   "metadata": {
    "slideshow": {
     "slide_type": "slide"
    }
   },
   "source": [
    "<a id='ex1-star-wars'></a>\n",
    "### Example 1: Star Wars\n",
    "\n",
    "The Star Wars API (SWAPI) is a large collection of data about Star Wars. It can be browsed at the address: http://swapi.co/.\n",
    "\n",
    "What if we wanted to programatically access the data in SWAPI? Unless we are employees of the site, we probably don't have direct access to their internal database. So, we cannot perform SQL queries on their data.\n",
    "\n",
    "We could use scraping to retrieve data from the web page. In some cases (particularly if they do not have a public API), we will have to do exactly that.\n",
    "\n",
    "> *Note: check the \"Terms of Service\" before you scrape a website. Scraping could infringe their terms of service.*\n",
    "\n",
    "In other cases, the website offers a way to programatically access data from their database -- often, as an API.\n",
    "\n",
    "**Let's try for example to retrieve the data about the \"Obi-Wan Kenobi\".**\n",
    "\n",
    "Referencing the [SWAPI Documentation](http://swapi.co/documentation), lets create a query to search for characters with \"obi\" in their name.\n",
    "\n",
    "**In a browser, paste:**\n",
    "\n",
    "    https://swapi.co/api/people/?format=json&search=obi\n"
   ]
  },
  {
   "cell_type": "markdown",
   "metadata": {
    "slideshow": {
     "slide_type": "slide"
    }
   },
   "source": [
    "{\n",
    "    \"count\": 1,   \n",
    "    \"next\": null,   \n",
    "    \"previous\": null,   \n",
    "    \"results\": [  \n",
    "        {  \n",
    "            \"name\": \"Obi-Wan Kenobi\",   \n",
    "            \"height\": \"182\",   \n",
    "            \"mass\": \"77\",   \n",
    "            \"hair_color\": \"auburn, white\",   \n",
    "            \"skin_color\": \"fair\",   \n",
    "            \"eye_color\": \"blue-gray\",   \n",
    "            \"birth_year\": \"57BBY\",   \n",
    "            \"gender\": \"male\",   \n",
    "            \"homeworld\": \"http://swapi.co/api/planets/20/\",   \n",
    "            \"films\": [    \n",
    "                \"http://swapi.co/api/films/2/\",   \n",
    "                \"http://swapi.co/api/films/5/\",   \n",
    "                \"http://swapi.co/api/films/4/\",   \n",
    "                \"http://swapi.co/api/films/6/\",   \n",
    "                \"http://swapi.co/api/films/3/\",   \n",
    "                \"http://swapi.co/api/films/1/\"  \n",
    "            ],   \n",
    "            \"species\": [\"http://swapi.co/api/species/1/\"],     \n",
    "            \"vehicles\": [\"http://swapi.co/api/vehicles/38/\"],   \n",
    "            \"starships\": [  \n",
    "                \"http://swapi.co/api/starships/48/\",     \n",
    "                \"http://swapi.co/api/starships/59/\",   \n",
    "                \"http://swapi.co/api/starships/64/\",   \n",
    "                \"http://swapi.co/api/starships/65/\",   \n",
    "                \"http://swapi.co/api/starships/74/\"  \n",
    "            ],   \n",
    "            \"created\": \"2014-12-10T16:16:29.192000Z\",     \n",
    "            \"edited\": \"2014-12-20T21:17:50.325000Z\",     \n",
    "            \"url\": \"http://swapi.co/api/people/10/\"    \n",
    "        }  \n",
    "    ]  \n",
    "}  "
   ]
  },
  {
   "cell_type": "markdown",
   "metadata": {
    "slideshow": {
     "slide_type": "slide"
    }
   },
   "source": [
    "###  What Just Happened?"
   ]
  },
  {
   "cell_type": "markdown",
   "metadata": {
    "slideshow": {
     "slide_type": "fragment"
    }
   },
   "source": [
    "We requested a url, which responded with JSON.\n",
    "\n",
    "SWAPI has a GUI-based response as well which is the default.\n",
    "\n",
    "https://swapi.co/api/people/?search=obi\n",
    "\n",
    "Also a Wookie-flavored one:\n",
    "\n",
    "https://swapi.co/api/people/?format=wookiee&search=obi"
   ]
  },
  {
   "cell_type": "markdown",
   "metadata": {
    "slideshow": {
     "slide_type": "slide"
    }
   },
   "source": [
    "<a id='submit'></a>\n",
    "### Try submitting a couple more queries to familiarize with the API.\n",
    "\n",
    "- You can also query an API from the command line using the app `curl`. Try typing:\n",
    "\n",
    "    `curl http://swapi.co/api/people/13/?format=json`\n"
   ]
  },
  {
   "cell_type": "markdown",
   "metadata": {
    "slideshow": {
     "slide_type": "fragment"
    }
   },
   "source": [
    "```javascript   \n",
    "{\"name\":\"Chewbacca\",\n",
    " \"height\":\"228\",\n",
    " \"mass\":\"112\",\n",
    " \"hair_color\":\"brown\",\n",
    " \"skin_color\":\"unknown\",\n",
    " \"eye_color\":\"blue\",\n",
    " \"birth_year\":\"200BBY\",\n",
    " \"gender\":\"male\",\n",
    " \"homeworld\":\"http://swapi.co/api/planets/14/\",\n",
    " \"films\": [\"http://swapi.co/api/films/2/\",\"http://swapi.co/api/films/6/\",\"http://swapi.co/api/films/3/\",\"http://swapi.co/api/films/1/\",\"http://swapi.co/api/films/7/\"],\n",
    " \"species\":[\"http://swapi.co/api/species/3/\"],\n",
    " \"vehicles\":[\"http://swapi.co/api/vehicles/19/\"],\n",
    " \"starships\":[\"http://swapi.co/api/starships/10/\",\"http://swapi.co/api/starships/22/\"],\n",
    " \"created\":\"2014-12-10T16:42:45.066000Z\",\n",
    " \"edited\":\"2014-12-20T21:17:50.332000Z\",\n",
    " \"url\":\"http://swapi.co/api/people/13/\"}\n",
    "```"
   ]
  },
  {
   "cell_type": "code",
   "execution_count": 10,
   "metadata": {
    "slideshow": {
     "slide_type": "slide"
    }
   },
   "outputs": [],
   "source": [
    "# Request example for the SWAPI example\n",
    "import pandas as pd\n",
    "import requests\n",
    "\n",
    "result = requests.get(\"http://swapi.dev/api/people/?format=json\")"
   ]
  },
  {
   "cell_type": "code",
   "execution_count": 11,
   "metadata": {},
   "outputs": [
    {
     "data": {
      "text/plain": [
       "10"
      ]
     },
     "execution_count": 11,
     "metadata": {},
     "output_type": "execute_result"
    }
   ],
   "source": [
    "len(result.json()['results'])"
   ]
  },
  {
   "cell_type": "code",
   "execution_count": 29,
   "metadata": {},
   "outputs": [],
   "source": [
    "result2 = requests.get(\"http://swapi.dev/api/people/?page=2&format=json\")"
   ]
  },
  {
   "cell_type": "code",
   "execution_count": 36,
   "metadata": {},
   "outputs": [
    {
     "name": "stdout",
     "output_type": "stream",
     "text": [
      "http://swapi.dev/api/people/?page=3&format=json\n",
      "http://swapi.dev/api/people/?page=4&format=json\n",
      "http://swapi.dev/api/people/?page=5&format=json\n",
      "http://swapi.dev/api/people/?page=6&format=json\n",
      "http://swapi.dev/api/people/?page=7&format=json\n",
      "http://swapi.dev/api/people/?page=8&format=json\n",
      "http://swapi.dev/api/people/?page=9&format=json\n"
     ]
    }
   ],
   "source": [
    "result2 = requests.get(\"http://swapi.dev/api/people/?format=json\")\n",
    "starwars_people = result.json()['results']\n",
    "\n",
    "while result.json()['next']:\n",
    "    print(result.json()['next'])\n",
    "    result = requests.get(result.json()['next'])\n",
    "    starwars_people += result.json()['results']"
   ]
  },
  {
   "cell_type": "code",
   "execution_count": 38,
   "metadata": {},
   "outputs": [
    {
     "data": {
      "text/plain": [
       "72"
      ]
     },
     "execution_count": 38,
     "metadata": {},
     "output_type": "execute_result"
    }
   ],
   "source": [
    "len(starwars_people)"
   ]
  },
  {
   "cell_type": "code",
   "execution_count": 39,
   "metadata": {},
   "outputs": [
    {
     "data": {
      "text/html": [
       "<div>\n",
       "<style scoped>\n",
       "    .dataframe tbody tr th:only-of-type {\n",
       "        vertical-align: middle;\n",
       "    }\n",
       "\n",
       "    .dataframe tbody tr th {\n",
       "        vertical-align: top;\n",
       "    }\n",
       "\n",
       "    .dataframe thead th {\n",
       "        text-align: right;\n",
       "    }\n",
       "</style>\n",
       "<table border=\"1\" class=\"dataframe\">\n",
       "  <thead>\n",
       "    <tr style=\"text-align: right;\">\n",
       "      <th></th>\n",
       "      <th>name</th>\n",
       "      <th>height</th>\n",
       "      <th>mass</th>\n",
       "      <th>hair_color</th>\n",
       "      <th>skin_color</th>\n",
       "      <th>eye_color</th>\n",
       "      <th>birth_year</th>\n",
       "      <th>gender</th>\n",
       "      <th>homeworld</th>\n",
       "      <th>films</th>\n",
       "      <th>species</th>\n",
       "      <th>vehicles</th>\n",
       "      <th>starships</th>\n",
       "      <th>created</th>\n",
       "      <th>edited</th>\n",
       "      <th>url</th>\n",
       "    </tr>\n",
       "  </thead>\n",
       "  <tbody>\n",
       "    <tr>\n",
       "      <th>0</th>\n",
       "      <td>Anakin Skywalker</td>\n",
       "      <td>188</td>\n",
       "      <td>84</td>\n",
       "      <td>blond</td>\n",
       "      <td>fair</td>\n",
       "      <td>blue</td>\n",
       "      <td>41.9BBY</td>\n",
       "      <td>male</td>\n",
       "      <td>http://swapi.dev/api/planets/1/</td>\n",
       "      <td>[http://swapi.dev/api/films/4/, http://swapi.d...</td>\n",
       "      <td>[]</td>\n",
       "      <td>[http://swapi.dev/api/vehicles/44/, http://swa...</td>\n",
       "      <td>[http://swapi.dev/api/starships/39/, http://sw...</td>\n",
       "      <td>2014-12-10T16:20:44.310000Z</td>\n",
       "      <td>2014-12-20T21:17:50.327000Z</td>\n",
       "      <td>http://swapi.dev/api/people/11/</td>\n",
       "    </tr>\n",
       "    <tr>\n",
       "      <th>1</th>\n",
       "      <td>Wilhuff Tarkin</td>\n",
       "      <td>180</td>\n",
       "      <td>unknown</td>\n",
       "      <td>auburn, grey</td>\n",
       "      <td>fair</td>\n",
       "      <td>blue</td>\n",
       "      <td>64BBY</td>\n",
       "      <td>male</td>\n",
       "      <td>http://swapi.dev/api/planets/21/</td>\n",
       "      <td>[http://swapi.dev/api/films/1/, http://swapi.d...</td>\n",
       "      <td>[]</td>\n",
       "      <td>[]</td>\n",
       "      <td>[]</td>\n",
       "      <td>2014-12-10T16:26:56.138000Z</td>\n",
       "      <td>2014-12-20T21:17:50.330000Z</td>\n",
       "      <td>http://swapi.dev/api/people/12/</td>\n",
       "    </tr>\n",
       "    <tr>\n",
       "      <th>2</th>\n",
       "      <td>Chewbacca</td>\n",
       "      <td>228</td>\n",
       "      <td>112</td>\n",
       "      <td>brown</td>\n",
       "      <td>unknown</td>\n",
       "      <td>blue</td>\n",
       "      <td>200BBY</td>\n",
       "      <td>male</td>\n",
       "      <td>http://swapi.dev/api/planets/14/</td>\n",
       "      <td>[http://swapi.dev/api/films/1/, http://swapi.d...</td>\n",
       "      <td>[http://swapi.dev/api/species/3/]</td>\n",
       "      <td>[http://swapi.dev/api/vehicles/19/]</td>\n",
       "      <td>[http://swapi.dev/api/starships/10/, http://sw...</td>\n",
       "      <td>2014-12-10T16:42:45.066000Z</td>\n",
       "      <td>2014-12-20T21:17:50.332000Z</td>\n",
       "      <td>http://swapi.dev/api/people/13/</td>\n",
       "    </tr>\n",
       "    <tr>\n",
       "      <th>3</th>\n",
       "      <td>Han Solo</td>\n",
       "      <td>180</td>\n",
       "      <td>80</td>\n",
       "      <td>brown</td>\n",
       "      <td>fair</td>\n",
       "      <td>brown</td>\n",
       "      <td>29BBY</td>\n",
       "      <td>male</td>\n",
       "      <td>http://swapi.dev/api/planets/22/</td>\n",
       "      <td>[http://swapi.dev/api/films/1/, http://swapi.d...</td>\n",
       "      <td>[]</td>\n",
       "      <td>[]</td>\n",
       "      <td>[http://swapi.dev/api/starships/10/, http://sw...</td>\n",
       "      <td>2014-12-10T16:49:14.582000Z</td>\n",
       "      <td>2014-12-20T21:17:50.334000Z</td>\n",
       "      <td>http://swapi.dev/api/people/14/</td>\n",
       "    </tr>\n",
       "    <tr>\n",
       "      <th>4</th>\n",
       "      <td>Greedo</td>\n",
       "      <td>173</td>\n",
       "      <td>74</td>\n",
       "      <td>n/a</td>\n",
       "      <td>green</td>\n",
       "      <td>black</td>\n",
       "      <td>44BBY</td>\n",
       "      <td>male</td>\n",
       "      <td>http://swapi.dev/api/planets/23/</td>\n",
       "      <td>[http://swapi.dev/api/films/1/]</td>\n",
       "      <td>[http://swapi.dev/api/species/4/]</td>\n",
       "      <td>[]</td>\n",
       "      <td>[]</td>\n",
       "      <td>2014-12-10T17:03:30.334000Z</td>\n",
       "      <td>2014-12-20T21:17:50.336000Z</td>\n",
       "      <td>http://swapi.dev/api/people/15/</td>\n",
       "    </tr>\n",
       "    <tr>\n",
       "      <th>...</th>\n",
       "      <td>...</td>\n",
       "      <td>...</td>\n",
       "      <td>...</td>\n",
       "      <td>...</td>\n",
       "      <td>...</td>\n",
       "      <td>...</td>\n",
       "      <td>...</td>\n",
       "      <td>...</td>\n",
       "      <td>...</td>\n",
       "      <td>...</td>\n",
       "      <td>...</td>\n",
       "      <td>...</td>\n",
       "      <td>...</td>\n",
       "      <td>...</td>\n",
       "      <td>...</td>\n",
       "      <td>...</td>\n",
       "    </tr>\n",
       "    <tr>\n",
       "      <th>67</th>\n",
       "      <td>Grievous</td>\n",
       "      <td>216</td>\n",
       "      <td>159</td>\n",
       "      <td>none</td>\n",
       "      <td>brown, white</td>\n",
       "      <td>green, yellow</td>\n",
       "      <td>unknown</td>\n",
       "      <td>male</td>\n",
       "      <td>http://swapi.dev/api/planets/59/</td>\n",
       "      <td>[http://swapi.dev/api/films/6/]</td>\n",
       "      <td>[http://swapi.dev/api/species/36/]</td>\n",
       "      <td>[http://swapi.dev/api/vehicles/60/]</td>\n",
       "      <td>[http://swapi.dev/api/starships/74/]</td>\n",
       "      <td>2014-12-20T19:43:53.348000Z</td>\n",
       "      <td>2014-12-20T21:17:50.488000Z</td>\n",
       "      <td>http://swapi.dev/api/people/79/</td>\n",
       "    </tr>\n",
       "    <tr>\n",
       "      <th>68</th>\n",
       "      <td>Tarfful</td>\n",
       "      <td>234</td>\n",
       "      <td>136</td>\n",
       "      <td>brown</td>\n",
       "      <td>brown</td>\n",
       "      <td>blue</td>\n",
       "      <td>unknown</td>\n",
       "      <td>male</td>\n",
       "      <td>http://swapi.dev/api/planets/14/</td>\n",
       "      <td>[http://swapi.dev/api/films/6/]</td>\n",
       "      <td>[http://swapi.dev/api/species/3/]</td>\n",
       "      <td>[]</td>\n",
       "      <td>[]</td>\n",
       "      <td>2014-12-20T19:46:34.209000Z</td>\n",
       "      <td>2014-12-20T21:17:50.491000Z</td>\n",
       "      <td>http://swapi.dev/api/people/80/</td>\n",
       "    </tr>\n",
       "    <tr>\n",
       "      <th>69</th>\n",
       "      <td>Raymus Antilles</td>\n",
       "      <td>188</td>\n",
       "      <td>79</td>\n",
       "      <td>brown</td>\n",
       "      <td>light</td>\n",
       "      <td>brown</td>\n",
       "      <td>unknown</td>\n",
       "      <td>male</td>\n",
       "      <td>http://swapi.dev/api/planets/2/</td>\n",
       "      <td>[http://swapi.dev/api/films/1/, http://swapi.d...</td>\n",
       "      <td>[]</td>\n",
       "      <td>[]</td>\n",
       "      <td>[]</td>\n",
       "      <td>2014-12-20T19:49:35.583000Z</td>\n",
       "      <td>2014-12-20T21:17:50.493000Z</td>\n",
       "      <td>http://swapi.dev/api/people/81/</td>\n",
       "    </tr>\n",
       "    <tr>\n",
       "      <th>70</th>\n",
       "      <td>Sly Moore</td>\n",
       "      <td>178</td>\n",
       "      <td>48</td>\n",
       "      <td>none</td>\n",
       "      <td>pale</td>\n",
       "      <td>white</td>\n",
       "      <td>unknown</td>\n",
       "      <td>female</td>\n",
       "      <td>http://swapi.dev/api/planets/60/</td>\n",
       "      <td>[http://swapi.dev/api/films/5/, http://swapi.d...</td>\n",
       "      <td>[]</td>\n",
       "      <td>[]</td>\n",
       "      <td>[]</td>\n",
       "      <td>2014-12-20T20:18:37.619000Z</td>\n",
       "      <td>2014-12-20T21:17:50.496000Z</td>\n",
       "      <td>http://swapi.dev/api/people/82/</td>\n",
       "    </tr>\n",
       "    <tr>\n",
       "      <th>71</th>\n",
       "      <td>Tion Medon</td>\n",
       "      <td>206</td>\n",
       "      <td>80</td>\n",
       "      <td>none</td>\n",
       "      <td>grey</td>\n",
       "      <td>black</td>\n",
       "      <td>unknown</td>\n",
       "      <td>male</td>\n",
       "      <td>http://swapi.dev/api/planets/12/</td>\n",
       "      <td>[http://swapi.dev/api/films/6/]</td>\n",
       "      <td>[http://swapi.dev/api/species/37/]</td>\n",
       "      <td>[]</td>\n",
       "      <td>[]</td>\n",
       "      <td>2014-12-20T20:35:04.260000Z</td>\n",
       "      <td>2014-12-20T21:17:50.498000Z</td>\n",
       "      <td>http://swapi.dev/api/people/83/</td>\n",
       "    </tr>\n",
       "  </tbody>\n",
       "</table>\n",
       "<p>72 rows × 16 columns</p>\n",
       "</div>"
      ],
      "text/plain": [
       "                name height     mass    hair_color    skin_color  \\\n",
       "0   Anakin Skywalker    188       84         blond          fair   \n",
       "1     Wilhuff Tarkin    180  unknown  auburn, grey          fair   \n",
       "2          Chewbacca    228      112         brown       unknown   \n",
       "3           Han Solo    180       80         brown          fair   \n",
       "4             Greedo    173       74           n/a         green   \n",
       "..               ...    ...      ...           ...           ...   \n",
       "67          Grievous    216      159          none  brown, white   \n",
       "68           Tarfful    234      136         brown         brown   \n",
       "69   Raymus Antilles    188       79         brown         light   \n",
       "70         Sly Moore    178       48          none          pale   \n",
       "71        Tion Medon    206       80          none          grey   \n",
       "\n",
       "        eye_color birth_year  gender                         homeworld  \\\n",
       "0            blue    41.9BBY    male   http://swapi.dev/api/planets/1/   \n",
       "1            blue      64BBY    male  http://swapi.dev/api/planets/21/   \n",
       "2            blue     200BBY    male  http://swapi.dev/api/planets/14/   \n",
       "3           brown      29BBY    male  http://swapi.dev/api/planets/22/   \n",
       "4           black      44BBY    male  http://swapi.dev/api/planets/23/   \n",
       "..            ...        ...     ...                               ...   \n",
       "67  green, yellow    unknown    male  http://swapi.dev/api/planets/59/   \n",
       "68           blue    unknown    male  http://swapi.dev/api/planets/14/   \n",
       "69          brown    unknown    male   http://swapi.dev/api/planets/2/   \n",
       "70          white    unknown  female  http://swapi.dev/api/planets/60/   \n",
       "71          black    unknown    male  http://swapi.dev/api/planets/12/   \n",
       "\n",
       "                                                films  \\\n",
       "0   [http://swapi.dev/api/films/4/, http://swapi.d...   \n",
       "1   [http://swapi.dev/api/films/1/, http://swapi.d...   \n",
       "2   [http://swapi.dev/api/films/1/, http://swapi.d...   \n",
       "3   [http://swapi.dev/api/films/1/, http://swapi.d...   \n",
       "4                     [http://swapi.dev/api/films/1/]   \n",
       "..                                                ...   \n",
       "67                    [http://swapi.dev/api/films/6/]   \n",
       "68                    [http://swapi.dev/api/films/6/]   \n",
       "69  [http://swapi.dev/api/films/1/, http://swapi.d...   \n",
       "70  [http://swapi.dev/api/films/5/, http://swapi.d...   \n",
       "71                    [http://swapi.dev/api/films/6/]   \n",
       "\n",
       "                               species  \\\n",
       "0                                   []   \n",
       "1                                   []   \n",
       "2    [http://swapi.dev/api/species/3/]   \n",
       "3                                   []   \n",
       "4    [http://swapi.dev/api/species/4/]   \n",
       "..                                 ...   \n",
       "67  [http://swapi.dev/api/species/36/]   \n",
       "68   [http://swapi.dev/api/species/3/]   \n",
       "69                                  []   \n",
       "70                                  []   \n",
       "71  [http://swapi.dev/api/species/37/]   \n",
       "\n",
       "                                             vehicles  \\\n",
       "0   [http://swapi.dev/api/vehicles/44/, http://swa...   \n",
       "1                                                  []   \n",
       "2                 [http://swapi.dev/api/vehicles/19/]   \n",
       "3                                                  []   \n",
       "4                                                  []   \n",
       "..                                                ...   \n",
       "67                [http://swapi.dev/api/vehicles/60/]   \n",
       "68                                                 []   \n",
       "69                                                 []   \n",
       "70                                                 []   \n",
       "71                                                 []   \n",
       "\n",
       "                                            starships  \\\n",
       "0   [http://swapi.dev/api/starships/39/, http://sw...   \n",
       "1                                                  []   \n",
       "2   [http://swapi.dev/api/starships/10/, http://sw...   \n",
       "3   [http://swapi.dev/api/starships/10/, http://sw...   \n",
       "4                                                  []   \n",
       "..                                                ...   \n",
       "67               [http://swapi.dev/api/starships/74/]   \n",
       "68                                                 []   \n",
       "69                                                 []   \n",
       "70                                                 []   \n",
       "71                                                 []   \n",
       "\n",
       "                        created                       edited  \\\n",
       "0   2014-12-10T16:20:44.310000Z  2014-12-20T21:17:50.327000Z   \n",
       "1   2014-12-10T16:26:56.138000Z  2014-12-20T21:17:50.330000Z   \n",
       "2   2014-12-10T16:42:45.066000Z  2014-12-20T21:17:50.332000Z   \n",
       "3   2014-12-10T16:49:14.582000Z  2014-12-20T21:17:50.334000Z   \n",
       "4   2014-12-10T17:03:30.334000Z  2014-12-20T21:17:50.336000Z   \n",
       "..                          ...                          ...   \n",
       "67  2014-12-20T19:43:53.348000Z  2014-12-20T21:17:50.488000Z   \n",
       "68  2014-12-20T19:46:34.209000Z  2014-12-20T21:17:50.491000Z   \n",
       "69  2014-12-20T19:49:35.583000Z  2014-12-20T21:17:50.493000Z   \n",
       "70  2014-12-20T20:18:37.619000Z  2014-12-20T21:17:50.496000Z   \n",
       "71  2014-12-20T20:35:04.260000Z  2014-12-20T21:17:50.498000Z   \n",
       "\n",
       "                                url  \n",
       "0   http://swapi.dev/api/people/11/  \n",
       "1   http://swapi.dev/api/people/12/  \n",
       "2   http://swapi.dev/api/people/13/  \n",
       "3   http://swapi.dev/api/people/14/  \n",
       "4   http://swapi.dev/api/people/15/  \n",
       "..                              ...  \n",
       "67  http://swapi.dev/api/people/79/  \n",
       "68  http://swapi.dev/api/people/80/  \n",
       "69  http://swapi.dev/api/people/81/  \n",
       "70  http://swapi.dev/api/people/82/  \n",
       "71  http://swapi.dev/api/people/83/  \n",
       "\n",
       "[72 rows x 16 columns]"
      ]
     },
     "execution_count": 39,
     "metadata": {},
     "output_type": "execute_result"
    }
   ],
   "source": [
    "pd.DataFrame(starwars_people)"
   ]
  },
  {
   "cell_type": "code",
   "execution_count": 30,
   "metadata": {},
   "outputs": [
    {
     "data": {
      "text/plain": [
       "{'count': 82,\n",
       " 'next': 'http://swapi.dev/api/people/?page=3&format=json',\n",
       " 'previous': 'http://swapi.dev/api/people/?page=1&format=json',\n",
       " 'results': [{'name': 'Anakin Skywalker',\n",
       "   'height': '188',\n",
       "   'mass': '84',\n",
       "   'hair_color': 'blond',\n",
       "   'skin_color': 'fair',\n",
       "   'eye_color': 'blue',\n",
       "   'birth_year': '41.9BBY',\n",
       "   'gender': 'male',\n",
       "   'homeworld': 'http://swapi.dev/api/planets/1/',\n",
       "   'films': ['http://swapi.dev/api/films/4/',\n",
       "    'http://swapi.dev/api/films/5/',\n",
       "    'http://swapi.dev/api/films/6/'],\n",
       "   'species': [],\n",
       "   'vehicles': ['http://swapi.dev/api/vehicles/44/',\n",
       "    'http://swapi.dev/api/vehicles/46/'],\n",
       "   'starships': ['http://swapi.dev/api/starships/39/',\n",
       "    'http://swapi.dev/api/starships/59/',\n",
       "    'http://swapi.dev/api/starships/65/'],\n",
       "   'created': '2014-12-10T16:20:44.310000Z',\n",
       "   'edited': '2014-12-20T21:17:50.327000Z',\n",
       "   'url': 'http://swapi.dev/api/people/11/'},\n",
       "  {'name': 'Wilhuff Tarkin',\n",
       "   'height': '180',\n",
       "   'mass': 'unknown',\n",
       "   'hair_color': 'auburn, grey',\n",
       "   'skin_color': 'fair',\n",
       "   'eye_color': 'blue',\n",
       "   'birth_year': '64BBY',\n",
       "   'gender': 'male',\n",
       "   'homeworld': 'http://swapi.dev/api/planets/21/',\n",
       "   'films': ['http://swapi.dev/api/films/1/', 'http://swapi.dev/api/films/6/'],\n",
       "   'species': [],\n",
       "   'vehicles': [],\n",
       "   'starships': [],\n",
       "   'created': '2014-12-10T16:26:56.138000Z',\n",
       "   'edited': '2014-12-20T21:17:50.330000Z',\n",
       "   'url': 'http://swapi.dev/api/people/12/'},\n",
       "  {'name': 'Chewbacca',\n",
       "   'height': '228',\n",
       "   'mass': '112',\n",
       "   'hair_color': 'brown',\n",
       "   'skin_color': 'unknown',\n",
       "   'eye_color': 'blue',\n",
       "   'birth_year': '200BBY',\n",
       "   'gender': 'male',\n",
       "   'homeworld': 'http://swapi.dev/api/planets/14/',\n",
       "   'films': ['http://swapi.dev/api/films/1/',\n",
       "    'http://swapi.dev/api/films/2/',\n",
       "    'http://swapi.dev/api/films/3/',\n",
       "    'http://swapi.dev/api/films/6/'],\n",
       "   'species': ['http://swapi.dev/api/species/3/'],\n",
       "   'vehicles': ['http://swapi.dev/api/vehicles/19/'],\n",
       "   'starships': ['http://swapi.dev/api/starships/10/',\n",
       "    'http://swapi.dev/api/starships/22/'],\n",
       "   'created': '2014-12-10T16:42:45.066000Z',\n",
       "   'edited': '2014-12-20T21:17:50.332000Z',\n",
       "   'url': 'http://swapi.dev/api/people/13/'},\n",
       "  {'name': 'Han Solo',\n",
       "   'height': '180',\n",
       "   'mass': '80',\n",
       "   'hair_color': 'brown',\n",
       "   'skin_color': 'fair',\n",
       "   'eye_color': 'brown',\n",
       "   'birth_year': '29BBY',\n",
       "   'gender': 'male',\n",
       "   'homeworld': 'http://swapi.dev/api/planets/22/',\n",
       "   'films': ['http://swapi.dev/api/films/1/',\n",
       "    'http://swapi.dev/api/films/2/',\n",
       "    'http://swapi.dev/api/films/3/'],\n",
       "   'species': [],\n",
       "   'vehicles': [],\n",
       "   'starships': ['http://swapi.dev/api/starships/10/',\n",
       "    'http://swapi.dev/api/starships/22/'],\n",
       "   'created': '2014-12-10T16:49:14.582000Z',\n",
       "   'edited': '2014-12-20T21:17:50.334000Z',\n",
       "   'url': 'http://swapi.dev/api/people/14/'},\n",
       "  {'name': 'Greedo',\n",
       "   'height': '173',\n",
       "   'mass': '74',\n",
       "   'hair_color': 'n/a',\n",
       "   'skin_color': 'green',\n",
       "   'eye_color': 'black',\n",
       "   'birth_year': '44BBY',\n",
       "   'gender': 'male',\n",
       "   'homeworld': 'http://swapi.dev/api/planets/23/',\n",
       "   'films': ['http://swapi.dev/api/films/1/'],\n",
       "   'species': ['http://swapi.dev/api/species/4/'],\n",
       "   'vehicles': [],\n",
       "   'starships': [],\n",
       "   'created': '2014-12-10T17:03:30.334000Z',\n",
       "   'edited': '2014-12-20T21:17:50.336000Z',\n",
       "   'url': 'http://swapi.dev/api/people/15/'},\n",
       "  {'name': 'Jabba Desilijic Tiure',\n",
       "   'height': '175',\n",
       "   'mass': '1,358',\n",
       "   'hair_color': 'n/a',\n",
       "   'skin_color': 'green-tan, brown',\n",
       "   'eye_color': 'orange',\n",
       "   'birth_year': '600BBY',\n",
       "   'gender': 'hermaphrodite',\n",
       "   'homeworld': 'http://swapi.dev/api/planets/24/',\n",
       "   'films': ['http://swapi.dev/api/films/1/',\n",
       "    'http://swapi.dev/api/films/3/',\n",
       "    'http://swapi.dev/api/films/4/'],\n",
       "   'species': ['http://swapi.dev/api/species/5/'],\n",
       "   'vehicles': [],\n",
       "   'starships': [],\n",
       "   'created': '2014-12-10T17:11:31.638000Z',\n",
       "   'edited': '2014-12-20T21:17:50.338000Z',\n",
       "   'url': 'http://swapi.dev/api/people/16/'},\n",
       "  {'name': 'Wedge Antilles',\n",
       "   'height': '170',\n",
       "   'mass': '77',\n",
       "   'hair_color': 'brown',\n",
       "   'skin_color': 'fair',\n",
       "   'eye_color': 'hazel',\n",
       "   'birth_year': '21BBY',\n",
       "   'gender': 'male',\n",
       "   'homeworld': 'http://swapi.dev/api/planets/22/',\n",
       "   'films': ['http://swapi.dev/api/films/1/',\n",
       "    'http://swapi.dev/api/films/2/',\n",
       "    'http://swapi.dev/api/films/3/'],\n",
       "   'species': [],\n",
       "   'vehicles': ['http://swapi.dev/api/vehicles/14/'],\n",
       "   'starships': ['http://swapi.dev/api/starships/12/'],\n",
       "   'created': '2014-12-12T11:08:06.469000Z',\n",
       "   'edited': '2014-12-20T21:17:50.341000Z',\n",
       "   'url': 'http://swapi.dev/api/people/18/'},\n",
       "  {'name': 'Jek Tono Porkins',\n",
       "   'height': '180',\n",
       "   'mass': '110',\n",
       "   'hair_color': 'brown',\n",
       "   'skin_color': 'fair',\n",
       "   'eye_color': 'blue',\n",
       "   'birth_year': 'unknown',\n",
       "   'gender': 'male',\n",
       "   'homeworld': 'http://swapi.dev/api/planets/26/',\n",
       "   'films': ['http://swapi.dev/api/films/1/'],\n",
       "   'species': [],\n",
       "   'vehicles': [],\n",
       "   'starships': ['http://swapi.dev/api/starships/12/'],\n",
       "   'created': '2014-12-12T11:16:56.569000Z',\n",
       "   'edited': '2014-12-20T21:17:50.343000Z',\n",
       "   'url': 'http://swapi.dev/api/people/19/'},\n",
       "  {'name': 'Yoda',\n",
       "   'height': '66',\n",
       "   'mass': '17',\n",
       "   'hair_color': 'white',\n",
       "   'skin_color': 'green',\n",
       "   'eye_color': 'brown',\n",
       "   'birth_year': '896BBY',\n",
       "   'gender': 'male',\n",
       "   'homeworld': 'http://swapi.dev/api/planets/28/',\n",
       "   'films': ['http://swapi.dev/api/films/2/',\n",
       "    'http://swapi.dev/api/films/3/',\n",
       "    'http://swapi.dev/api/films/4/',\n",
       "    'http://swapi.dev/api/films/5/',\n",
       "    'http://swapi.dev/api/films/6/'],\n",
       "   'species': ['http://swapi.dev/api/species/6/'],\n",
       "   'vehicles': [],\n",
       "   'starships': [],\n",
       "   'created': '2014-12-15T12:26:01.042000Z',\n",
       "   'edited': '2014-12-20T21:17:50.345000Z',\n",
       "   'url': 'http://swapi.dev/api/people/20/'},\n",
       "  {'name': 'Palpatine',\n",
       "   'height': '170',\n",
       "   'mass': '75',\n",
       "   'hair_color': 'grey',\n",
       "   'skin_color': 'pale',\n",
       "   'eye_color': 'yellow',\n",
       "   'birth_year': '82BBY',\n",
       "   'gender': 'male',\n",
       "   'homeworld': 'http://swapi.dev/api/planets/8/',\n",
       "   'films': ['http://swapi.dev/api/films/2/',\n",
       "    'http://swapi.dev/api/films/3/',\n",
       "    'http://swapi.dev/api/films/4/',\n",
       "    'http://swapi.dev/api/films/5/',\n",
       "    'http://swapi.dev/api/films/6/'],\n",
       "   'species': [],\n",
       "   'vehicles': [],\n",
       "   'starships': [],\n",
       "   'created': '2014-12-15T12:48:05.971000Z',\n",
       "   'edited': '2014-12-20T21:17:50.347000Z',\n",
       "   'url': 'http://swapi.dev/api/people/21/'}]}"
      ]
     },
     "execution_count": 30,
     "metadata": {},
     "output_type": "execute_result"
    }
   ],
   "source": [
    "result2.json()"
   ]
  },
  {
   "cell_type": "code",
   "execution_count": 26,
   "metadata": {},
   "outputs": [
    {
     "data": {
      "text/plain": [
       "{'count': 82,\n",
       " 'next': 'http://swapi.dev/api/people/?page=2&format=json',\n",
       " 'previous': None,\n",
       " 'results': [{'name': 'Luke Skywalker',\n",
       "   'height': '172',\n",
       "   'mass': '77',\n",
       "   'hair_color': 'blond',\n",
       "   'skin_color': 'fair',\n",
       "   'eye_color': 'blue',\n",
       "   'birth_year': '19BBY',\n",
       "   'gender': 'male',\n",
       "   'homeworld': 'http://swapi.dev/api/planets/1/',\n",
       "   'films': ['http://swapi.dev/api/films/1/',\n",
       "    'http://swapi.dev/api/films/2/',\n",
       "    'http://swapi.dev/api/films/3/',\n",
       "    'http://swapi.dev/api/films/6/'],\n",
       "   'species': [],\n",
       "   'vehicles': ['http://swapi.dev/api/vehicles/14/',\n",
       "    'http://swapi.dev/api/vehicles/30/'],\n",
       "   'starships': ['http://swapi.dev/api/starships/12/',\n",
       "    'http://swapi.dev/api/starships/22/'],\n",
       "   'created': '2014-12-09T13:50:51.644000Z',\n",
       "   'edited': '2014-12-20T21:17:56.891000Z',\n",
       "   'url': 'http://swapi.dev/api/people/1/'},\n",
       "  {'name': 'C-3PO',\n",
       "   'height': '167',\n",
       "   'mass': '75',\n",
       "   'hair_color': 'n/a',\n",
       "   'skin_color': 'gold',\n",
       "   'eye_color': 'yellow',\n",
       "   'birth_year': '112BBY',\n",
       "   'gender': 'n/a',\n",
       "   'homeworld': 'http://swapi.dev/api/planets/1/',\n",
       "   'films': ['http://swapi.dev/api/films/1/',\n",
       "    'http://swapi.dev/api/films/2/',\n",
       "    'http://swapi.dev/api/films/3/',\n",
       "    'http://swapi.dev/api/films/4/',\n",
       "    'http://swapi.dev/api/films/5/',\n",
       "    'http://swapi.dev/api/films/6/'],\n",
       "   'species': ['http://swapi.dev/api/species/2/'],\n",
       "   'vehicles': [],\n",
       "   'starships': [],\n",
       "   'created': '2014-12-10T15:10:51.357000Z',\n",
       "   'edited': '2014-12-20T21:17:50.309000Z',\n",
       "   'url': 'http://swapi.dev/api/people/2/'},\n",
       "  {'name': 'R2-D2',\n",
       "   'height': '96',\n",
       "   'mass': '32',\n",
       "   'hair_color': 'n/a',\n",
       "   'skin_color': 'white, blue',\n",
       "   'eye_color': 'red',\n",
       "   'birth_year': '33BBY',\n",
       "   'gender': 'n/a',\n",
       "   'homeworld': 'http://swapi.dev/api/planets/8/',\n",
       "   'films': ['http://swapi.dev/api/films/1/',\n",
       "    'http://swapi.dev/api/films/2/',\n",
       "    'http://swapi.dev/api/films/3/',\n",
       "    'http://swapi.dev/api/films/4/',\n",
       "    'http://swapi.dev/api/films/5/',\n",
       "    'http://swapi.dev/api/films/6/'],\n",
       "   'species': ['http://swapi.dev/api/species/2/'],\n",
       "   'vehicles': [],\n",
       "   'starships': [],\n",
       "   'created': '2014-12-10T15:11:50.376000Z',\n",
       "   'edited': '2014-12-20T21:17:50.311000Z',\n",
       "   'url': 'http://swapi.dev/api/people/3/'},\n",
       "  {'name': 'Darth Vader',\n",
       "   'height': '202',\n",
       "   'mass': '136',\n",
       "   'hair_color': 'none',\n",
       "   'skin_color': 'white',\n",
       "   'eye_color': 'yellow',\n",
       "   'birth_year': '41.9BBY',\n",
       "   'gender': 'male',\n",
       "   'homeworld': 'http://swapi.dev/api/planets/1/',\n",
       "   'films': ['http://swapi.dev/api/films/1/',\n",
       "    'http://swapi.dev/api/films/2/',\n",
       "    'http://swapi.dev/api/films/3/',\n",
       "    'http://swapi.dev/api/films/6/'],\n",
       "   'species': [],\n",
       "   'vehicles': [],\n",
       "   'starships': ['http://swapi.dev/api/starships/13/'],\n",
       "   'created': '2014-12-10T15:18:20.704000Z',\n",
       "   'edited': '2014-12-20T21:17:50.313000Z',\n",
       "   'url': 'http://swapi.dev/api/people/4/'},\n",
       "  {'name': 'Leia Organa',\n",
       "   'height': '150',\n",
       "   'mass': '49',\n",
       "   'hair_color': 'brown',\n",
       "   'skin_color': 'light',\n",
       "   'eye_color': 'brown',\n",
       "   'birth_year': '19BBY',\n",
       "   'gender': 'female',\n",
       "   'homeworld': 'http://swapi.dev/api/planets/2/',\n",
       "   'films': ['http://swapi.dev/api/films/1/',\n",
       "    'http://swapi.dev/api/films/2/',\n",
       "    'http://swapi.dev/api/films/3/',\n",
       "    'http://swapi.dev/api/films/6/'],\n",
       "   'species': [],\n",
       "   'vehicles': ['http://swapi.dev/api/vehicles/30/'],\n",
       "   'starships': [],\n",
       "   'created': '2014-12-10T15:20:09.791000Z',\n",
       "   'edited': '2014-12-20T21:17:50.315000Z',\n",
       "   'url': 'http://swapi.dev/api/people/5/'},\n",
       "  {'name': 'Owen Lars',\n",
       "   'height': '178',\n",
       "   'mass': '120',\n",
       "   'hair_color': 'brown, grey',\n",
       "   'skin_color': 'light',\n",
       "   'eye_color': 'blue',\n",
       "   'birth_year': '52BBY',\n",
       "   'gender': 'male',\n",
       "   'homeworld': 'http://swapi.dev/api/planets/1/',\n",
       "   'films': ['http://swapi.dev/api/films/1/',\n",
       "    'http://swapi.dev/api/films/5/',\n",
       "    'http://swapi.dev/api/films/6/'],\n",
       "   'species': [],\n",
       "   'vehicles': [],\n",
       "   'starships': [],\n",
       "   'created': '2014-12-10T15:52:14.024000Z',\n",
       "   'edited': '2014-12-20T21:17:50.317000Z',\n",
       "   'url': 'http://swapi.dev/api/people/6/'},\n",
       "  {'name': 'Beru Whitesun lars',\n",
       "   'height': '165',\n",
       "   'mass': '75',\n",
       "   'hair_color': 'brown',\n",
       "   'skin_color': 'light',\n",
       "   'eye_color': 'blue',\n",
       "   'birth_year': '47BBY',\n",
       "   'gender': 'female',\n",
       "   'homeworld': 'http://swapi.dev/api/planets/1/',\n",
       "   'films': ['http://swapi.dev/api/films/1/',\n",
       "    'http://swapi.dev/api/films/5/',\n",
       "    'http://swapi.dev/api/films/6/'],\n",
       "   'species': [],\n",
       "   'vehicles': [],\n",
       "   'starships': [],\n",
       "   'created': '2014-12-10T15:53:41.121000Z',\n",
       "   'edited': '2014-12-20T21:17:50.319000Z',\n",
       "   'url': 'http://swapi.dev/api/people/7/'},\n",
       "  {'name': 'R5-D4',\n",
       "   'height': '97',\n",
       "   'mass': '32',\n",
       "   'hair_color': 'n/a',\n",
       "   'skin_color': 'white, red',\n",
       "   'eye_color': 'red',\n",
       "   'birth_year': 'unknown',\n",
       "   'gender': 'n/a',\n",
       "   'homeworld': 'http://swapi.dev/api/planets/1/',\n",
       "   'films': ['http://swapi.dev/api/films/1/'],\n",
       "   'species': ['http://swapi.dev/api/species/2/'],\n",
       "   'vehicles': [],\n",
       "   'starships': [],\n",
       "   'created': '2014-12-10T15:57:50.959000Z',\n",
       "   'edited': '2014-12-20T21:17:50.321000Z',\n",
       "   'url': 'http://swapi.dev/api/people/8/'},\n",
       "  {'name': 'Biggs Darklighter',\n",
       "   'height': '183',\n",
       "   'mass': '84',\n",
       "   'hair_color': 'black',\n",
       "   'skin_color': 'light',\n",
       "   'eye_color': 'brown',\n",
       "   'birth_year': '24BBY',\n",
       "   'gender': 'male',\n",
       "   'homeworld': 'http://swapi.dev/api/planets/1/',\n",
       "   'films': ['http://swapi.dev/api/films/1/'],\n",
       "   'species': [],\n",
       "   'vehicles': [],\n",
       "   'starships': ['http://swapi.dev/api/starships/12/'],\n",
       "   'created': '2014-12-10T15:59:50.509000Z',\n",
       "   'edited': '2014-12-20T21:17:50.323000Z',\n",
       "   'url': 'http://swapi.dev/api/people/9/'},\n",
       "  {'name': 'Obi-Wan Kenobi',\n",
       "   'height': '182',\n",
       "   'mass': '77',\n",
       "   'hair_color': 'auburn, white',\n",
       "   'skin_color': 'fair',\n",
       "   'eye_color': 'blue-gray',\n",
       "   'birth_year': '57BBY',\n",
       "   'gender': 'male',\n",
       "   'homeworld': 'http://swapi.dev/api/planets/20/',\n",
       "   'films': ['http://swapi.dev/api/films/1/',\n",
       "    'http://swapi.dev/api/films/2/',\n",
       "    'http://swapi.dev/api/films/3/',\n",
       "    'http://swapi.dev/api/films/4/',\n",
       "    'http://swapi.dev/api/films/5/',\n",
       "    'http://swapi.dev/api/films/6/'],\n",
       "   'species': [],\n",
       "   'vehicles': ['http://swapi.dev/api/vehicles/38/'],\n",
       "   'starships': ['http://swapi.dev/api/starships/48/',\n",
       "    'http://swapi.dev/api/starships/59/',\n",
       "    'http://swapi.dev/api/starships/64/',\n",
       "    'http://swapi.dev/api/starships/65/',\n",
       "    'http://swapi.dev/api/starships/74/'],\n",
       "   'created': '2014-12-10T16:16:29.192000Z',\n",
       "   'edited': '2014-12-20T21:17:50.325000Z',\n",
       "   'url': 'http://swapi.dev/api/people/10/'}]}"
      ]
     },
     "execution_count": 26,
     "metadata": {},
     "output_type": "execute_result"
    }
   ],
   "source": [
    "result.json()"
   ]
  },
  {
   "cell_type": "code",
   "execution_count": 42,
   "metadata": {},
   "outputs": [
    {
     "data": {
      "text/html": [
       "<div>\n",
       "<style scoped>\n",
       "    .dataframe tbody tr th:only-of-type {\n",
       "        vertical-align: middle;\n",
       "    }\n",
       "\n",
       "    .dataframe tbody tr th {\n",
       "        vertical-align: top;\n",
       "    }\n",
       "\n",
       "    .dataframe thead th {\n",
       "        text-align: right;\n",
       "    }\n",
       "</style>\n",
       "<table border=\"1\" class=\"dataframe\">\n",
       "  <thead>\n",
       "    <tr style=\"text-align: right;\">\n",
       "      <th></th>\n",
       "      <th>0</th>\n",
       "    </tr>\n",
       "  </thead>\n",
       "  <tbody>\n",
       "    <tr>\n",
       "      <th>0</th>\n",
       "      <td>&lt;bound method Response.json of &lt;Response [200]&gt;&gt;</td>\n",
       "    </tr>\n",
       "  </tbody>\n",
       "</table>\n",
       "</div>"
      ],
      "text/plain": [
       "                                                  0\n",
       "0  <bound method Response.json of <Response [200]>>"
      ]
     },
     "execution_count": 42,
     "metadata": {},
     "output_type": "execute_result"
    }
   ],
   "source": [
    "pd.DataFrame([result.json])"
   ]
  },
  {
   "cell_type": "markdown",
   "metadata": {
    "slideshow": {
     "slide_type": "slide"
    }
   },
   "source": [
    "<a id='ex2-geocode'></a>\n",
    "### Example 2: Google Geocode API\n",
    "\n",
    "Google offers a freely accessible API to query their GEO databases.  One of the many features Google Maps API provides is a way to get longitude and latitude coordinates from addresses.\n",
    "\n",
    "**Try pasting the following line in your browser:**\n",
    "\n",
    "    https://maps.googleapis.com/maps/api/geocode/json?address=225+Bush+St+San+Francisco+CA"
   ]
  },
  {
   "cell_type": "code",
   "execution_count": 43,
   "metadata": {},
   "outputs": [],
   "source": [
    "# Request the resource from google maps\n",
    "result = requests.get(\"https://maps.googleapis.com/maps/api/geocode/json?address=225+Bush+St+San+Francisco+CA\")\n",
    "google_result = result.json()\n",
    "\n",
    "# Loop through results and display lat, lon values for reverse geocode\n",
    "for item in google_result['results']:\n",
    "    print(item['geometry']['location'])"
   ]
  },
  {
   "cell_type": "code",
   "execution_count": 45,
   "metadata": {},
   "outputs": [
    {
     "data": {
      "text/html": [
       "<div>\n",
       "<style scoped>\n",
       "    .dataframe tbody tr th:only-of-type {\n",
       "        vertical-align: middle;\n",
       "    }\n",
       "\n",
       "    .dataframe tbody tr th {\n",
       "        vertical-align: top;\n",
       "    }\n",
       "\n",
       "    .dataframe thead th {\n",
       "        text-align: right;\n",
       "    }\n",
       "</style>\n",
       "<table border=\"1\" class=\"dataframe\">\n",
       "  <thead>\n",
       "    <tr style=\"text-align: right;\">\n",
       "      <th></th>\n",
       "      <th>error_message</th>\n",
       "      <th>results</th>\n",
       "      <th>status</th>\n",
       "    </tr>\n",
       "  </thead>\n",
       "  <tbody>\n",
       "  </tbody>\n",
       "</table>\n",
       "</div>"
      ],
      "text/plain": [
       "Empty DataFrame\n",
       "Columns: [error_message, results, status]\n",
       "Index: []"
      ]
     },
     "execution_count": 45,
     "metadata": {},
     "output_type": "execute_result"
    }
   ],
   "source": [
    "pd.DataFrame(google_result)"
   ]
  },
  {
   "cell_type": "markdown",
   "metadata": {
    "slideshow": {
     "slide_type": "slide"
    }
   },
   "source": [
    "<a id='oauth'></a>\n",
    "## OAuth\n",
    "\n",
    "---\n",
    "\n",
    "**OAuth (Open Authorization)** is simply a secure authorization protocol that often deals with the authorization of a third-party application to access a user's data without exposing their password (e.g., Login with Facebook, gPlus, Twitter in many websites). \n",
    "\n",
    "For example, before your application can access a user's Facebook data, the user must give your application consent first. As you can imagine, this is a more complex process than before since it involves the user.\n",
    "\n",
    "There are three parties involved: **OAuth Provider**, **OAuth Client**, and the **Owner**.\n",
    "\n",
    "- OAuth Client (Application Which wants to access your credential)\n",
    "- OAuth Provider (eg. facebook, twitter...)\n",
    "- Owner (the one with facebook,twitter.. account )\n",
    "\n",
    "There are various levels of OAuth access. For security, some APIs (such as the Yelp API) require OAuth access despite there not being any conventional users. These sites require a less complicated OAuth procedure.\n",
    "\n",
    "### Implementing OAuth in Python\n",
    "\n",
    "There are a number of OAuth libraries available in Python. If you are using a popular website such as Facebook, it is recommended to use their official Python library to handle the OAuth. If not, it is possible to code your own OAuth procedure. Because OAuth requires back-and-forth with your web application, discussing implementation details is outside of the scope of this lesson.\n",
    "\n",
    "You can read more about OAuth here: http://oauth.net/2/"
   ]
  },
  {
   "cell_type": "markdown",
   "metadata": {
    "slideshow": {
     "slide_type": "slide"
    }
   },
   "source": [
    "### OAuth Example:  client work with instagram\n",
    "\n",
    "![](assets/oAuth1.png)"
   ]
  },
  {
   "cell_type": "markdown",
   "metadata": {
    "slideshow": {
     "slide_type": "skip"
    }
   },
   "source": [
    "![](assets/oAuth2.png)"
   ]
  },
  {
   "cell_type": "markdown",
   "metadata": {
    "slideshow": {
     "slide_type": "slide"
    }
   },
   "source": [
    "![](assets/oAuth3.png)"
   ]
  },
  {
   "cell_type": "markdown",
   "metadata": {
    "slideshow": {
     "slide_type": "slide"
    }
   },
   "source": [
    "<a name=\"ind-practice2\"></a>\n",
    "## Independent Practice: Python APIs\n",
    "\n",
    "---\n",
    "\n",
    "**Form pairs and do the following:** \n",
    "\n",
    "Go to http://www.pythonforbeginners.com/api/list-of-python-apis  \n",
    "or   \n",
    "https://github.com/realpython/list-of-python-api-wrappers\n",
    "  \n",
    "  \n",
    "- Choose an API: what data is available with your chosen API?\n",
    "- Install Python module (if available for API), try to extract data.\n",
    "- Discuss: How could you leverage that api? How could you use the data?"
   ]
  },
  {
   "cell_type": "markdown",
   "metadata": {
    "slideshow": {
     "slide_type": "slide"
    }
   },
   "source": [
    "<a id='closing-questions'></a>\n",
    "## Closing questions\n",
    "\n",
    "---"
   ]
  },
  {
   "cell_type": "markdown",
   "metadata": {
    "slideshow": {
     "slide_type": "fragment"
    }
   },
   "source": [
    "### - What was the biggest struggle in using the API? "
   ]
  },
  {
   "cell_type": "markdown",
   "metadata": {
    "slideshow": {
     "slide_type": "fragment"
    }
   },
   "source": [
    "### - How would you explain APIs to someone who didn't know anything about them?"
   ]
  }
 ],
 "metadata": {
  "anaconda-cloud": {},
  "celltoolbar": "Slideshow",
  "kernelspec": {
   "display_name": "Python 3",
   "language": "python",
   "name": "python3"
  },
  "language_info": {
   "codemirror_mode": {
    "name": "ipython",
    "version": 3
   },
   "file_extension": ".py",
   "mimetype": "text/x-python",
   "name": "python",
   "nbconvert_exporter": "python",
   "pygments_lexer": "ipython3",
   "version": "3.7.6"
  }
 },
 "nbformat": 4,
 "nbformat_minor": 4
}
