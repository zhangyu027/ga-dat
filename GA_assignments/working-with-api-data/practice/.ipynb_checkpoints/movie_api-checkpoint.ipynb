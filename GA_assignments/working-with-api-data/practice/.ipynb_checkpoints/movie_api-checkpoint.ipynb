{
 "cells": [
  {
   "cell_type": "code",
   "execution_count": 1,
   "metadata": {},
   "outputs": [
    {
     "name": "stdout",
     "output_type": "stream",
     "text": [
      "25 / 53 200\n",
      "50 / 53 200\n",
      "100\n",
      "200\n",
      "300\n",
      "400\n",
      "500\n",
      "600\n",
      "700\n",
      "800\n",
      "900\n",
      "1000\n"
     ]
    }
   ],
   "source": [
    "import requests\n",
    "import pandas as pd\n",
    "from time import sleep\n",
    "api_key = 'd2e1b25be15d993451ec4f290092a31c'\n",
    "genre_id = 16\n",
    "genre_map = {\n",
    "    28: 'Action',\n",
    "    12: 'Adventure',\n",
    "    16: 'Animation',\n",
    "    35: 'Comedy',\n",
    "    80: 'Crime',\n",
    "    99: 'Documentary',\n",
    "    18: 'Drama',\n",
    "    10751: 'Family',\n",
    "    14: 'Fantasy',\n",
    "    36: 'History',\n",
    "    27: 'Horror',\n",
    "    10402: 'Music',\n",
    "    9648: 'Mystery',\n",
    "    10749: 'Romance',\n",
    "    878: 'Science Fiction',\n",
    "    10770: 'TV Movie',\n",
    "    53: 'Thriller',\n",
    "    10752: 'War',\n",
    "    37: 'Western'\n",
    "}\n",
    "page = 1\n",
    "total_pages = 500\n",
    "movies_list = []\n",
    "while page <= total_pages:\n",
    "    query = f\"https://api.themoviedb.org/3/discover/movie?with_genres={genre_id}&page={page}\" \\\n",
    "            f\"&vote_count.gte=100&release_date.lte=2020-06-30&sort_by=release_date.desc&api_key={api_key}\"\n",
    "    response = requests.get(query)\n",
    "    if response.status_code != 200:\n",
    "        sleep(0.5)\n",
    "        query = f\"https://api.themoviedb.org/3/discover/movie?with_genres={genre_id}&page={page}\" \\\n",
    "            f\"&vote_count.gte=100&release_date.lte=2020-06-30&sort_by=release_date.desc&api_key={api_key}\"\n",
    "        response = requests.get(query)\n",
    "    if page % 25 == 0:\n",
    "        print(page, \"/\", total_pages, response.status_code)\n",
    "    movies_list += response.json()['results']\n",
    "    page += 1\n",
    "    total_pages = response.json()['total_pages']\n",
    "movie_df = pd.DataFrame(movies_list)\n",
    "movie_df['genres'] = movie_df['genre_ids'].apply(lambda x: [genre_map[elem] for elem in x])\n",
    "movie_df = movie_df[['adult', 'genre_ids', 'id', 'original_language', 'original_title', 'overview', 'popularity',\n",
    "                     'release_date', 'title', 'vote_average', 'vote_count', 'genres']]\n",
    "directors = []\n",
    "producers = []\n",
    "actors = []\n",
    "counter = 0\n",
    "for movie_id in movie_df['id']:\n",
    "    counter += 1\n",
    "    query = f\"https://api.themoviedb.org/3/movie/{movie_id}/credits?api_key={api_key}&language=en-US\"\n",
    "    response = requests.get(query)\n",
    "    if response.status_code != 200:\n",
    "        sleep(1.0)\n",
    "        query = f\"https://api.themoviedb.org/3/movie/{movie_id}/credits?api_key={api_key}&language=en-US\"\n",
    "        response = requests.get(query)\n",
    "    if counter % 100 == 0:\n",
    "        print(counter)\n",
    "    directors.append([x['name'] for x in response.json()['crew'] if x['department'] == 'Directing'])\n",
    "    producers.append([x['name'] for x in response.json()['crew'] if x['department'] == 'Production'])\n",
    "    actors.append([x['name'] for x in response.json()['cast']])\n",
    "movie_df['directors'] = directors\n",
    "movie_df['producers'] = producers\n",
    "movie_df['actors'] = actors"
   ]
  },
  {
   "cell_type": "code",
   "execution_count": null,
   "metadata": {},
   "outputs": [],
   "source": []
  }
 ],
 "metadata": {
  "kernelspec": {
   "display_name": "Python 3",
   "language": "python",
   "name": "python3"
  },
  "language_info": {
   "codemirror_mode": {
    "name": "ipython",
    "version": 3
   },
   "file_extension": ".py",
   "mimetype": "text/x-python",
   "name": "python",
   "nbconvert_exporter": "python",
   "pygments_lexer": "ipython3",
   "version": "3.7.6"
  }
 },
 "nbformat": 4,
 "nbformat_minor": 4
}
